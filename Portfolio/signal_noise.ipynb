{
 "cells": [
  {
   "cell_type": "markdown",
   "metadata": {},
   "source": [
    "> Signal and Noise\n",
    "\n",
    "https://wesmckinney.com/ 2009\n",
    "\n",
    "https://pandas.pydata.org/\n",
    "\n",
    "https://github.com/corazzon/finance-data-analysis\n",
    "\n",
    "Pythonistas\n",
    "\n",
    "Panal Data System > Pandas\n",
    "\n",
    "- 1-dimensional: Series, TimeSeries\n",
    "- 2-dimensiona: DataFrame, DataMatrix\n",
    "- matplotlib integration"
   ]
  },
  {
   "cell_type": "markdown",
   "metadata": {},
   "source": []
  }
 ],
 "metadata": {
  "language_info": {
   "name": "python"
  }
 },
 "nbformat": 4,
 "nbformat_minor": 2
}
