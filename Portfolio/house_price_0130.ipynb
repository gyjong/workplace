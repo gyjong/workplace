{
 "cells": [
  {
   "cell_type": "markdown",
   "metadata": {},
   "source": [
    "# Comprehensive data exploration with Python\n",
    "competition: Comprehensive data exploration with Python\n",
    "\n",
    "code: https://www.kaggle.com/code/pmarcelino/comprehensive-data-exploration-with-python\n"
   ]
  },
  {
   "cell_type": "code",
   "execution_count": null,
   "metadata": {},
   "outputs": [],
   "source": []
  }
 ],
 "metadata": {
  "language_info": {
   "name": "python"
  }
 },
 "nbformat": 4,
 "nbformat_minor": 2
}
