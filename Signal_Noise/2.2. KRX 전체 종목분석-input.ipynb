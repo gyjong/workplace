{
 "cells": [
  {
   "cell_type": "markdown",
   "metadata": {
    "id": "HWKVTvP7v9xb"
   },
   "source": [
    "[![Open In Colab](https://colab.research.google.com/assets/colab-badge.svg)](https://colab.research.google.com/github/corazzon/finance-data-analysis/blob/main/2.2.%20KRX%20%EC%A0%84%EC%B2%B4%20%EC%A2%85%EB%AA%A9%EB%B6%84%EC%84%9D-input.ipynb)\n",
    "\n",
    "## 한국거래소(KRX) 전체 종목 분석\n",
    "* Pandas cheat sheet 를 함께 보세요! : [Pandas_Cheat_Sheet.pdf](https://pandas.pydata.org/Pandas_Cheat_Sheet.pdf)\n",
    "\n",
    "* FinanceDataReader를 통한 KRX 전체 종목 수집\n",
    "    * to_csv(\"파일명\", index=False) : csv 파일로 저장하기\n",
    "    * read_csv(\"파일명\") : csv 파일 불러오기\n",
    "    \n",
    "* Pandas를 통한 파일 저장과 불러오기\n",
    "    * shape를 통한 행과 열의 수 보기\n",
    "    * head, tail, sample 을 통한 일부 데이터 가져오기\n",
    "    \n",
    "* DataFrame의 info(), describe() 등을 통한 요약과 기술통계 값 구하기\n",
    "    * info()\n",
    "    * describe()\n",
    "    * nunique()\n",
    "    * index\n",
    "    * columns\n",
    "    * values\n",
    "    \n",
    "* Pandas의  DataFrame과 Series의 이해\n",
    "    * Series : 1차원 벡터구조\n",
    "    * DataFrame : 2차원 행렬구조\n",
    "    \n",
    "* 색인하기\n",
    "    * [컬럼]\n",
    "    * .loc[행]\n",
    "    * .loc[행, 열]\n",
    "    * .loc[조건식, 열]\n",
    "    \n",
    "* DataFrame의 데이터 타입 이해하기\n",
    "    * 날짜 데이터의 변환\n",
    "    \n",
    "* DataFrame 다루기\n",
    "    * 열(column) 인덱싱\n",
    "    * 행(index) 인덱싱\n",
    "    * 행, 열 인덱싱\n",
    "    * 정렬하기 : sort_values 사용하기\n",
    "    * 조건식 사용하기\n",
    "\n",
    "* 빈도수 구하기\n",
    "    * 한 개의 변수 : series.value_counts()\n",
    "    * 두 개의 변수 : pd.crosstab()\n",
    "\n",
    "* groupby 와 pivot_table\n",
    "    * 다양한 연산식의 사용\n",
    "\n",
    "\n",
    "## ⚠️ 주의할 점 ⚠️ \n",
    "* 강좌의 분석내용과 여러분의 실습 결과는 시점의 차이로 빈도수 등의 결과값이 다르게 나옵니다.\n",
    "\n",
    "\n",
    "\n",
    "## 라이브러리 불러오기"
   ]
  },
  {
   "cell_type": "code",
   "execution_count": 1,
   "metadata": {
    "id": "OGQuQOfmv9xb"
   },
   "outputs": [],
   "source": [
    "# 데이터 분석을 위해 pandas, 시각화를 위해 seaborn 불러오기\n",
    "import pandas as pd\n",
    "import seaborn as sns"
   ]
  },
  {
   "cell_type": "markdown",
   "metadata": {
    "id": "NZrikuL1v9xa"
   },
   "source": [
    "## FinanceDataReader 로 수집한 전체 종목 불러오기\n",
    "\n",
    "* 한국 주식 가격, 미국주식 가격, 지수, 환율, 암호화폐 가격, 종목 리스팅 등 금융 데이터 수집 라이브러리\n",
    "\n",
    "* [FinanceDataReader 사용자 안내서 | FinanceData](https://financedata.github.io/posts/finance-data-reader-users-guide.html)\n",
    "* https://pandas-datareader.readthedocs.io/en/latest/readers/index.html\n",
    "\n",
    "<img src=\"https://pandas.pydata.org/docs/_images/02_io_readwrite.svg\">"
   ]
  },
  {
   "cell_type": "markdown",
   "metadata": {},
   "source": [
    "## <font color=\"red\">종목명이 영문으로 표기될 때</font>\n",
    "\n",
    "해당 수업은 실시간으로 한국거래소에서 FinanceDataReader 라는 라이브러리를 통해 데이터를 받아오고 있습니다.\n",
    "아래 링크에 있는 라이브러리의 소스코드가 KRX 전체 종목을 가져오는 소스코드입니다.\n",
    "\n",
    "[FinanceDataReader/listing.py at master · FinanceData/FinanceDataReader](https://github.com/FinanceData/FinanceDataReader/blob/master/krx/listing.py)\n",
    "\n",
    "이 때, 전체 상장종목과 거래할 수 있는 ETF 등의 종목도 함께 가져오게 되는데,\n",
    "FinanceDataReader 에서는 코스피, 코스닥, 코넥스 정보가 있는 엑셀파일과 금융상품 정보가 있는 JSON 데이터를 가져와서 병합하는 형태로 데이터를 제공하고 있습니다.\n",
    "그런데 최근 JSON 데이터의 종목명이 영문으로 변경되어 제공되고 있음을 확인했습니다.\n",
    "그래서 아래의 엑셀 데이터를 read_html 로 읽어오게 되면 한글로 된 종목명을 받아서 분석해 보실 수 있습니다."
   ]
  },
  {
   "cell_type": "code",
   "execution_count": 84,
   "metadata": {},
   "outputs": [
    {
     "name": "stderr",
     "output_type": "stream",
     "text": [
      "/Users/kenny_jung/Library/Python/3.9/lib/python/site-packages/bs4/__init__.py:228: UserWarning: You provided Unicode markup but also provided a value for from_encoding. Your from_encoding will be ignored.\n",
      "  warnings.warn(\"You provided Unicode markup but also provided a value for from_encoding. Your from_encoding will be ignored.\")\n"
     ]
    }
   ],
   "source": [
    "# # 종목명이 영문으로 표기 될 때 아래의 주석을 풀고 데이터를 받아서 분석해 보세요!\n",
    "# url = 'http://kind.krx.co.kr/corpgeneral/corpList.do?method=download&searchType=13'\n",
    "# df_listing = pd.read_html(url, header=0)[0]\n",
    "# cols_ren = {'회사명':'Name', '종목코드':'Symbol', '업종':'Sector', '주요제품':'Industry', \n",
    "#                     '상장일':'ListingDate', '결산월':'SettleMonth',  '대표자명':'Representative', \n",
    "#                     '홈페이지':'HomePage', '지역':'Region', }\n",
    "# df = df_listing.rename(columns = cols_ren)\n",
    "# df['Symbol'] = df['Symbol'].apply(lambda x: '{:06d}'.format(x))\n",
    "# df['ListingDate'] = pd.to_datetime(df['ListingDate'])\n",
    "# df\n",
    "\n",
    "df_listing = pd.read_html(url, header=0, encoding='cp949')[0]\n",
    "df_listing.head()\n",
    "\n",
    "import FinanceDataReader as fdr\n",
    "df_sp500 = fdr.StockListing('S&P500')"
   ]
  },
  {
   "cell_type": "code",
   "execution_count": 85,
   "metadata": {},
   "outputs": [
    {
     "data": {
      "text/html": [
       "<div>\n",
       "<style scoped>\n",
       "    .dataframe tbody tr th:only-of-type {\n",
       "        vertical-align: middle;\n",
       "    }\n",
       "\n",
       "    .dataframe tbody tr th {\n",
       "        vertical-align: top;\n",
       "    }\n",
       "\n",
       "    .dataframe thead th {\n",
       "        text-align: right;\n",
       "    }\n",
       "</style>\n",
       "<table border=\"1\" class=\"dataframe\">\n",
       "  <thead>\n",
       "    <tr style=\"text-align: right;\">\n",
       "      <th></th>\n",
       "      <th>Symbol</th>\n",
       "      <th>Name</th>\n",
       "      <th>Sector</th>\n",
       "      <th>Industry</th>\n",
       "    </tr>\n",
       "  </thead>\n",
       "  <tbody>\n",
       "    <tr>\n",
       "      <th>0</th>\n",
       "      <td>MMM</td>\n",
       "      <td>3M</td>\n",
       "      <td>Industrials</td>\n",
       "      <td>Industrial Conglomerates</td>\n",
       "    </tr>\n",
       "    <tr>\n",
       "      <th>1</th>\n",
       "      <td>AOS</td>\n",
       "      <td>A. O. Smith</td>\n",
       "      <td>Industrials</td>\n",
       "      <td>Building Products</td>\n",
       "    </tr>\n",
       "    <tr>\n",
       "      <th>2</th>\n",
       "      <td>ABT</td>\n",
       "      <td>Abbott</td>\n",
       "      <td>Health Care</td>\n",
       "      <td>Health Care Equipment</td>\n",
       "    </tr>\n",
       "    <tr>\n",
       "      <th>3</th>\n",
       "      <td>ABBV</td>\n",
       "      <td>AbbVie</td>\n",
       "      <td>Health Care</td>\n",
       "      <td>Biotechnology</td>\n",
       "    </tr>\n",
       "    <tr>\n",
       "      <th>4</th>\n",
       "      <td>ACN</td>\n",
       "      <td>Accenture</td>\n",
       "      <td>Information Technology</td>\n",
       "      <td>IT Consulting &amp; Other Services</td>\n",
       "    </tr>\n",
       "  </tbody>\n",
       "</table>\n",
       "</div>"
      ],
      "text/plain": [
       "  Symbol         Name                  Sector                        Industry\n",
       "0    MMM           3M             Industrials        Industrial Conglomerates\n",
       "1    AOS  A. O. Smith             Industrials               Building Products\n",
       "2    ABT       Abbott             Health Care           Health Care Equipment\n",
       "3   ABBV       AbbVie             Health Care                   Biotechnology\n",
       "4    ACN    Accenture  Information Technology  IT Consulting & Other Services"
      ]
     },
     "execution_count": 85,
     "metadata": {},
     "output_type": "execute_result"
    }
   ],
   "source": [
    "df_sp500.head()"
   ]
  },
  {
   "cell_type": "code",
   "execution_count": 6,
   "metadata": {},
   "outputs": [
    {
     "name": "stdout",
     "output_type": "stream",
     "text": [
      "<class 'pandas.core.frame.DataFrame'>\n",
      "RangeIndex: 2676 entries, 0 to 2675\n",
      "Data columns (total 9 columns):\n",
      " #   Column  Non-Null Count  Dtype \n",
      "---  ------  --------------  ----- \n",
      " 0   회사명     2676 non-null   object\n",
      " 1   종목코드    2676 non-null   int64 \n",
      " 2   업종      2676 non-null   object\n",
      " 3   주요제품    2662 non-null   object\n",
      " 4   상장일     2676 non-null   object\n",
      " 5   결산월     2676 non-null   object\n",
      " 6   대표자명    2676 non-null   object\n",
      " 7   홈페이지    2503 non-null   object\n",
      " 8   지역      2676 non-null   object\n",
      "dtypes: int64(1), object(8)\n",
      "memory usage: 188.3+ KB\n"
     ]
    }
   ],
   "source": [
    "df_listing.info()"
   ]
  },
  {
   "cell_type": "code",
   "execution_count": 10,
   "metadata": {},
   "outputs": [
    {
     "data": {
      "text/html": [
       "<div>\n",
       "<style scoped>\n",
       "    .dataframe tbody tr th:only-of-type {\n",
       "        vertical-align: middle;\n",
       "    }\n",
       "\n",
       "    .dataframe tbody tr th {\n",
       "        vertical-align: top;\n",
       "    }\n",
       "\n",
       "    .dataframe thead th {\n",
       "        text-align: right;\n",
       "    }\n",
       "</style>\n",
       "<table border=\"1\" class=\"dataframe\">\n",
       "  <thead>\n",
       "    <tr style=\"text-align: right;\">\n",
       "      <th></th>\n",
       "      <th>회사명</th>\n",
       "      <th>업종</th>\n",
       "      <th>주요제품</th>\n",
       "      <th>상장일</th>\n",
       "      <th>결산월</th>\n",
       "      <th>대표자명</th>\n",
       "      <th>홈페이지</th>\n",
       "      <th>지역</th>\n",
       "    </tr>\n",
       "  </thead>\n",
       "  <tbody>\n",
       "    <tr>\n",
       "      <th>count</th>\n",
       "      <td>2676</td>\n",
       "      <td>2676</td>\n",
       "      <td>2662</td>\n",
       "      <td>2676</td>\n",
       "      <td>2676</td>\n",
       "      <td>2676</td>\n",
       "      <td>2503</td>\n",
       "      <td>2676</td>\n",
       "    </tr>\n",
       "    <tr>\n",
       "      <th>unique</th>\n",
       "      <td>2676</td>\n",
       "      <td>159</td>\n",
       "      <td>2472</td>\n",
       "      <td>1990</td>\n",
       "      <td>10</td>\n",
       "      <td>2553</td>\n",
       "      <td>2480</td>\n",
       "      <td>22</td>\n",
       "    </tr>\n",
       "    <tr>\n",
       "      <th>top</th>\n",
       "      <td>BGF리테일</td>\n",
       "      <td>소프트웨어 개발 및 공급업</td>\n",
       "      <td>기업인수합병</td>\n",
       "      <td>1996-07-03</td>\n",
       "      <td>12월</td>\n",
       "      <td>김종현</td>\n",
       "      <td>http://www.ibks.com</td>\n",
       "      <td>서울특별시</td>\n",
       "    </tr>\n",
       "    <tr>\n",
       "      <th>freq</th>\n",
       "      <td>1</td>\n",
       "      <td>177</td>\n",
       "      <td>42</td>\n",
       "      <td>8</td>\n",
       "      <td>2615</td>\n",
       "      <td>5</td>\n",
       "      <td>3</td>\n",
       "      <td>1081</td>\n",
       "    </tr>\n",
       "  </tbody>\n",
       "</table>\n",
       "</div>"
      ],
      "text/plain": [
       "           회사명              업종    주요제품         상장일   결산월  대표자명  \\\n",
       "count     2676            2676    2662        2676  2676  2676   \n",
       "unique    2676             159    2472        1990    10  2553   \n",
       "top     BGF리테일  소프트웨어 개발 및 공급업  기업인수합병  1996-07-03   12월   김종현   \n",
       "freq         1             177      42           8  2615     5   \n",
       "\n",
       "                       홈페이지     지역  \n",
       "count                  2503   2676  \n",
       "unique                 2480     22  \n",
       "top     http://www.ibks.com  서울특별시  \n",
       "freq                      3   1081  "
      ]
     },
     "execution_count": 10,
     "metadata": {},
     "output_type": "execute_result"
    }
   ],
   "source": [
    "df_listing.describe(include='object')\n"
   ]
  },
  {
   "cell_type": "code",
   "execution_count": null,
   "metadata": {
    "id": "Rz9eJjDsv9xc"
   },
   "outputs": [],
   "source": [
    "# 이전 강좌에서 to_csv로 저장해둔 krx.csv 파일을 pd.read_csv 로 불러옵니다.\n",
    "# krx 파일이 없다면 아래 주석을 제거하고 csv 파일을 로드해 보세요!\n",
    "# df = pd.read_csv(\"https://raw.githubusercontent.com/corazzon/finance-data-analysis/main/krx.csv\")\n",
    "# df"
   ]
  },
  {
   "cell_type": "markdown",
   "metadata": {},
   "source": [
    "### 일부 데이터만 가져오기\n",
    "\n",
    "{'회사명':'Name', '종목코드':'Symbol', '업종':'Sector', '주요제품':'Industry', \n",
    "                            '상장일':'ListingDate', '결산월':'SettleMonth',  '대표자명':'Representative', \n",
    "                            '홈페이지':'HomePage', '지역':'Region', }"
   ]
  },
  {
   "cell_type": "code",
   "execution_count": 11,
   "metadata": {},
   "outputs": [
    {
     "data": {
      "text/html": [
       "<div>\n",
       "<style scoped>\n",
       "    .dataframe tbody tr th:only-of-type {\n",
       "        vertical-align: middle;\n",
       "    }\n",
       "\n",
       "    .dataframe tbody tr th {\n",
       "        vertical-align: top;\n",
       "    }\n",
       "\n",
       "    .dataframe thead th {\n",
       "        text-align: right;\n",
       "    }\n",
       "</style>\n",
       "<table border=\"1\" class=\"dataframe\">\n",
       "  <thead>\n",
       "    <tr style=\"text-align: right;\">\n",
       "      <th></th>\n",
       "      <th>회사명</th>\n",
       "      <th>종목코드</th>\n",
       "      <th>업종</th>\n",
       "      <th>주요제품</th>\n",
       "      <th>상장일</th>\n",
       "      <th>결산월</th>\n",
       "      <th>대표자명</th>\n",
       "      <th>홈페이지</th>\n",
       "      <th>지역</th>\n",
       "    </tr>\n",
       "  </thead>\n",
       "  <tbody>\n",
       "    <tr>\n",
       "      <th>0</th>\n",
       "      <td>BGF리테일</td>\n",
       "      <td>282330</td>\n",
       "      <td>종합 소매업</td>\n",
       "      <td>체인화 편의점</td>\n",
       "      <td>2017-12-08</td>\n",
       "      <td>12월</td>\n",
       "      <td>민승배</td>\n",
       "      <td>http://www.bgfretail.com</td>\n",
       "      <td>서울특별시</td>\n",
       "    </tr>\n",
       "    <tr>\n",
       "      <th>1</th>\n",
       "      <td>DL건설</td>\n",
       "      <td>1880</td>\n",
       "      <td>건물 건설업</td>\n",
       "      <td>도로건설공사,토목공사,건축공사,조경공사/부동산 임대,매매</td>\n",
       "      <td>1977-12-22</td>\n",
       "      <td>12월</td>\n",
       "      <td>박유신</td>\n",
       "      <td>http://www.dlconstruction.co.kr</td>\n",
       "      <td>인천광역시</td>\n",
       "    </tr>\n",
       "    <tr>\n",
       "      <th>2</th>\n",
       "      <td>DRB동일</td>\n",
       "      <td>4840</td>\n",
       "      <td>고무제품 제조업</td>\n",
       "      <td>고무벨트(V벨트,콘베이어벨트,평벨트),프라스틱제품 제조,판매</td>\n",
       "      <td>1976-05-21</td>\n",
       "      <td>12월</td>\n",
       "      <td>류영식</td>\n",
       "      <td>http://www.drbworld.com</td>\n",
       "      <td>부산광역시</td>\n",
       "    </tr>\n",
       "    <tr>\n",
       "      <th>3</th>\n",
       "      <td>E1</td>\n",
       "      <td>17940</td>\n",
       "      <td>기타 전문 도매업</td>\n",
       "      <td>LPG(프로판,부탄가스),가스기기판매</td>\n",
       "      <td>1997-08-27</td>\n",
       "      <td>12월</td>\n",
       "      <td>구자용, 천정식 (각자 대표이사)</td>\n",
       "      <td>http://www.e1.co.kr</td>\n",
       "      <td>서울특별시</td>\n",
       "    </tr>\n",
       "    <tr>\n",
       "      <th>4</th>\n",
       "      <td>HDC</td>\n",
       "      <td>12630</td>\n",
       "      <td>기타 금융업</td>\n",
       "      <td>토목공사,건축공사,아파트분양사업,재개발/재건축사업</td>\n",
       "      <td>1996-10-16</td>\n",
       "      <td>12월</td>\n",
       "      <td>정몽규, 정경구</td>\n",
       "      <td>http://www.i-park.com</td>\n",
       "      <td>서울특별시</td>\n",
       "    </tr>\n",
       "  </tbody>\n",
       "</table>\n",
       "</div>"
      ],
      "text/plain": [
       "      회사명    종목코드         업종                               주요제품         상장일  \\\n",
       "0  BGF리테일  282330     종합 소매업                            체인화 편의점  2017-12-08   \n",
       "1    DL건설    1880     건물 건설업    도로건설공사,토목공사,건축공사,조경공사/부동산 임대,매매  1977-12-22   \n",
       "2   DRB동일    4840   고무제품 제조업  고무벨트(V벨트,콘베이어벨트,평벨트),프라스틱제품 제조,판매  1976-05-21   \n",
       "3      E1   17940  기타 전문 도매업               LPG(프로판,부탄가스),가스기기판매  1997-08-27   \n",
       "4     HDC   12630     기타 금융업        토목공사,건축공사,아파트분양사업,재개발/재건축사업  1996-10-16   \n",
       "\n",
       "   결산월                대표자명                             홈페이지     지역  \n",
       "0  12월                 민승배         http://www.bgfretail.com  서울특별시  \n",
       "1  12월                 박유신  http://www.dlconstruction.co.kr  인천광역시  \n",
       "2  12월                 류영식          http://www.drbworld.com  부산광역시  \n",
       "3  12월  구자용, 천정식 (각자 대표이사)              http://www.e1.co.kr  서울특별시  \n",
       "4  12월            정몽규, 정경구            http://www.i-park.com  서울특별시  "
      ]
     },
     "execution_count": 11,
     "metadata": {},
     "output_type": "execute_result"
    }
   ],
   "source": [
    "df = df_listing.copy()\n",
    "df.head()"
   ]
  },
  {
   "cell_type": "code",
   "execution_count": 12,
   "metadata": {},
   "outputs": [
    {
     "data": {
      "text/html": [
       "<div>\n",
       "<style scoped>\n",
       "    .dataframe tbody tr th:only-of-type {\n",
       "        vertical-align: middle;\n",
       "    }\n",
       "\n",
       "    .dataframe tbody tr th {\n",
       "        vertical-align: top;\n",
       "    }\n",
       "\n",
       "    .dataframe thead th {\n",
       "        text-align: right;\n",
       "    }\n",
       "</style>\n",
       "<table border=\"1\" class=\"dataframe\">\n",
       "  <thead>\n",
       "    <tr style=\"text-align: right;\">\n",
       "      <th></th>\n",
       "      <th>회사명</th>\n",
       "      <th>종목코드</th>\n",
       "      <th>업종</th>\n",
       "      <th>주요제품</th>\n",
       "      <th>상장일</th>\n",
       "      <th>결산월</th>\n",
       "      <th>대표자명</th>\n",
       "      <th>홈페이지</th>\n",
       "      <th>지역</th>\n",
       "    </tr>\n",
       "  </thead>\n",
       "  <tbody>\n",
       "    <tr>\n",
       "      <th>0</th>\n",
       "      <td>BGF리테일</td>\n",
       "      <td>282330</td>\n",
       "      <td>종합 소매업</td>\n",
       "      <td>체인화 편의점</td>\n",
       "      <td>2017-12-08</td>\n",
       "      <td>12월</td>\n",
       "      <td>민승배</td>\n",
       "      <td>http://www.bgfretail.com</td>\n",
       "      <td>서울특별시</td>\n",
       "    </tr>\n",
       "    <tr>\n",
       "      <th>1</th>\n",
       "      <td>DL건설</td>\n",
       "      <td>1880</td>\n",
       "      <td>건물 건설업</td>\n",
       "      <td>도로건설공사,토목공사,건축공사,조경공사/부동산 임대,매매</td>\n",
       "      <td>1977-12-22</td>\n",
       "      <td>12월</td>\n",
       "      <td>박유신</td>\n",
       "      <td>http://www.dlconstruction.co.kr</td>\n",
       "      <td>인천광역시</td>\n",
       "    </tr>\n",
       "    <tr>\n",
       "      <th>2</th>\n",
       "      <td>DRB동일</td>\n",
       "      <td>4840</td>\n",
       "      <td>고무제품 제조업</td>\n",
       "      <td>고무벨트(V벨트,콘베이어벨트,평벨트),프라스틱제품 제조,판매</td>\n",
       "      <td>1976-05-21</td>\n",
       "      <td>12월</td>\n",
       "      <td>류영식</td>\n",
       "      <td>http://www.drbworld.com</td>\n",
       "      <td>부산광역시</td>\n",
       "    </tr>\n",
       "    <tr>\n",
       "      <th>3</th>\n",
       "      <td>E1</td>\n",
       "      <td>17940</td>\n",
       "      <td>기타 전문 도매업</td>\n",
       "      <td>LPG(프로판,부탄가스),가스기기판매</td>\n",
       "      <td>1997-08-27</td>\n",
       "      <td>12월</td>\n",
       "      <td>구자용, 천정식 (각자 대표이사)</td>\n",
       "      <td>http://www.e1.co.kr</td>\n",
       "      <td>서울특별시</td>\n",
       "    </tr>\n",
       "    <tr>\n",
       "      <th>4</th>\n",
       "      <td>HDC</td>\n",
       "      <td>12630</td>\n",
       "      <td>기타 금융업</td>\n",
       "      <td>토목공사,건축공사,아파트분양사업,재개발/재건축사업</td>\n",
       "      <td>1996-10-16</td>\n",
       "      <td>12월</td>\n",
       "      <td>정몽규, 정경구</td>\n",
       "      <td>http://www.i-park.com</td>\n",
       "      <td>서울특별시</td>\n",
       "    </tr>\n",
       "  </tbody>\n",
       "</table>\n",
       "</div>"
      ],
      "text/plain": [
       "      회사명    종목코드         업종                               주요제품         상장일  \\\n",
       "0  BGF리테일  282330     종합 소매업                            체인화 편의점  2017-12-08   \n",
       "1    DL건설    1880     건물 건설업    도로건설공사,토목공사,건축공사,조경공사/부동산 임대,매매  1977-12-22   \n",
       "2   DRB동일    4840   고무제품 제조업  고무벨트(V벨트,콘베이어벨트,평벨트),프라스틱제품 제조,판매  1976-05-21   \n",
       "3      E1   17940  기타 전문 도매업               LPG(프로판,부탄가스),가스기기판매  1997-08-27   \n",
       "4     HDC   12630     기타 금융업        토목공사,건축공사,아파트분양사업,재개발/재건축사업  1996-10-16   \n",
       "\n",
       "   결산월                대표자명                             홈페이지     지역  \n",
       "0  12월                 민승배         http://www.bgfretail.com  서울특별시  \n",
       "1  12월                 박유신  http://www.dlconstruction.co.kr  인천광역시  \n",
       "2  12월                 류영식          http://www.drbworld.com  부산광역시  \n",
       "3  12월  구자용, 천정식 (각자 대표이사)              http://www.e1.co.kr  서울특별시  \n",
       "4  12월            정몽규, 정경구            http://www.i-park.com  서울특별시  "
      ]
     },
     "execution_count": 12,
     "metadata": {},
     "output_type": "execute_result"
    }
   ],
   "source": [
    "# head 로 위에 있는 데이터 일부만 가져옵니다.\n",
    "df.head()"
   ]
  },
  {
   "cell_type": "code",
   "execution_count": 13,
   "metadata": {},
   "outputs": [
    {
     "data": {
      "text/html": [
       "<div>\n",
       "<style scoped>\n",
       "    .dataframe tbody tr th:only-of-type {\n",
       "        vertical-align: middle;\n",
       "    }\n",
       "\n",
       "    .dataframe tbody tr th {\n",
       "        vertical-align: top;\n",
       "    }\n",
       "\n",
       "    .dataframe thead th {\n",
       "        text-align: right;\n",
       "    }\n",
       "</style>\n",
       "<table border=\"1\" class=\"dataframe\">\n",
       "  <thead>\n",
       "    <tr style=\"text-align: right;\">\n",
       "      <th></th>\n",
       "      <th>회사명</th>\n",
       "      <th>종목코드</th>\n",
       "      <th>업종</th>\n",
       "      <th>주요제품</th>\n",
       "      <th>상장일</th>\n",
       "      <th>결산월</th>\n",
       "      <th>대표자명</th>\n",
       "      <th>홈페이지</th>\n",
       "      <th>지역</th>\n",
       "    </tr>\n",
       "  </thead>\n",
       "  <tbody>\n",
       "    <tr>\n",
       "      <th>2671</th>\n",
       "      <td>지에프씨생명과학</td>\n",
       "      <td>388610</td>\n",
       "      <td>기타 화학제품 제조업</td>\n",
       "      <td>화장품 바이오 소재 및 임상실험</td>\n",
       "      <td>2022-12-23</td>\n",
       "      <td>12월</td>\n",
       "      <td>강희철 / 표형배</td>\n",
       "      <td>http://www.gfcos.co.kr/</td>\n",
       "      <td>경기도</td>\n",
       "    </tr>\n",
       "    <tr>\n",
       "      <th>2672</th>\n",
       "      <td>큐러블</td>\n",
       "      <td>86460</td>\n",
       "      <td>자연과학 및 공학 연구개발업</td>\n",
       "      <td>유전체 분석 서비스</td>\n",
       "      <td>2013-07-01</td>\n",
       "      <td>12월</td>\n",
       "      <td>김승일</td>\n",
       "      <td>http://www.snp-genetics.com</td>\n",
       "      <td>경기도</td>\n",
       "    </tr>\n",
       "    <tr>\n",
       "      <th>2673</th>\n",
       "      <td>틸론</td>\n",
       "      <td>217880</td>\n",
       "      <td>소프트웨어 개발 및 공급업</td>\n",
       "      <td>가상화 솔루션(D,A,V,E,I,T Solution) 및 ecloud.com</td>\n",
       "      <td>2015-05-28</td>\n",
       "      <td>12월</td>\n",
       "      <td>최용호</td>\n",
       "      <td>http://www.tilon.com</td>\n",
       "      <td>서울특별시</td>\n",
       "    </tr>\n",
       "    <tr>\n",
       "      <th>2674</th>\n",
       "      <td>파워풀엑스</td>\n",
       "      <td>266870</td>\n",
       "      <td>기타 화학제품 제조업</td>\n",
       "      <td>플렉스파워 리커버리크림</td>\n",
       "      <td>2017-04-24</td>\n",
       "      <td>12월</td>\n",
       "      <td>박인철</td>\n",
       "      <td>http://www.flexpower.co.kr</td>\n",
       "      <td>서울특별시</td>\n",
       "    </tr>\n",
       "    <tr>\n",
       "      <th>2675</th>\n",
       "      <td>한중엔시에스</td>\n",
       "      <td>107640</td>\n",
       "      <td>자동차 신품 부품 제조업</td>\n",
       "      <td>자동차 신품 부품제조업(배기시스템부품, Electroinc, 전기차 밧데리 모듈 부...</td>\n",
       "      <td>2013-12-10</td>\n",
       "      <td>12월</td>\n",
       "      <td>김환식</td>\n",
       "      <td>http://www.hjncs.com</td>\n",
       "      <td>경상북도</td>\n",
       "    </tr>\n",
       "  </tbody>\n",
       "</table>\n",
       "</div>"
      ],
      "text/plain": [
       "           회사명    종목코드               업종  \\\n",
       "2671  지에프씨생명과학  388610      기타 화학제품 제조업   \n",
       "2672       큐러블   86460  자연과학 및 공학 연구개발업   \n",
       "2673        틸론  217880   소프트웨어 개발 및 공급업   \n",
       "2674     파워풀엑스  266870      기타 화학제품 제조업   \n",
       "2675    한중엔시에스  107640    자동차 신품 부품 제조업   \n",
       "\n",
       "                                                   주요제품         상장일  결산월  \\\n",
       "2671                                  화장품 바이오 소재 및 임상실험  2022-12-23  12월   \n",
       "2672                                         유전체 분석 서비스  2013-07-01  12월   \n",
       "2673         가상화 솔루션(D,A,V,E,I,T Solution) 및 ecloud.com  2015-05-28  12월   \n",
       "2674                                       플렉스파워 리커버리크림  2017-04-24  12월   \n",
       "2675  자동차 신품 부품제조업(배기시스템부품, Electroinc, 전기차 밧데리 모듈 부...  2013-12-10  12월   \n",
       "\n",
       "           대표자명                         홈페이지     지역  \n",
       "2671  강희철 / 표형배      http://www.gfcos.co.kr/    경기도  \n",
       "2672        김승일  http://www.snp-genetics.com    경기도  \n",
       "2673        최용호         http://www.tilon.com  서울특별시  \n",
       "2674        박인철   http://www.flexpower.co.kr  서울특별시  \n",
       "2675        김환식         http://www.hjncs.com   경상북도  "
      ]
     },
     "execution_count": 13,
     "metadata": {},
     "output_type": "execute_result"
    }
   ],
   "source": [
    "# tail 로 아래 있는 데이터 일부만 가져옵니다.\n",
    "df.tail()"
   ]
  },
  {
   "cell_type": "code",
   "execution_count": 39,
   "metadata": {},
   "outputs": [
    {
     "data": {
      "text/html": [
       "<div>\n",
       "<style scoped>\n",
       "    .dataframe tbody tr th:only-of-type {\n",
       "        vertical-align: middle;\n",
       "    }\n",
       "\n",
       "    .dataframe tbody tr th {\n",
       "        vertical-align: top;\n",
       "    }\n",
       "\n",
       "    .dataframe thead th {\n",
       "        text-align: right;\n",
       "    }\n",
       "</style>\n",
       "<table border=\"1\" class=\"dataframe\">\n",
       "  <thead>\n",
       "    <tr style=\"text-align: right;\">\n",
       "      <th></th>\n",
       "      <th>회사명</th>\n",
       "      <th>종목코드</th>\n",
       "      <th>업종</th>\n",
       "      <th>주요제품</th>\n",
       "      <th>상장일</th>\n",
       "      <th>결산월</th>\n",
       "      <th>대표자명</th>\n",
       "      <th>홈페이지</th>\n",
       "      <th>지역</th>\n",
       "    </tr>\n",
       "  </thead>\n",
       "  <tbody>\n",
       "    <tr>\n",
       "      <th>2320</th>\n",
       "      <td>DB하이텍</td>\n",
       "      <td>990</td>\n",
       "      <td>반도체 제조업</td>\n",
       "      <td>반도체 제조</td>\n",
       "      <td>1975-12-12</td>\n",
       "      <td>12월</td>\n",
       "      <td>조기석</td>\n",
       "      <td>http://www.dbhitek.co.kr</td>\n",
       "      <td>경기도</td>\n",
       "    </tr>\n",
       "  </tbody>\n",
       "</table>\n",
       "</div>"
      ],
      "text/plain": [
       "        회사명  종목코드       업종    주요제품         상장일  결산월 대표자명  \\\n",
       "2320  DB하이텍   990  반도체 제조업  반도체 제조  1975-12-12  12월  조기석   \n",
       "\n",
       "                          홈페이지   지역  \n",
       "2320  http://www.dbhitek.co.kr  경기도  "
      ]
     },
     "execution_count": 39,
     "metadata": {},
     "output_type": "execute_result"
    }
   ],
   "source": [
    "# sample을 사용하면 랜덤하게 ()안의 갯수만큼 가져옵니다. \n",
    "# ()안에 값을 써주지 않으면 한 개만 가져옵니다.\n",
    "df.sample()"
   ]
  },
  {
   "cell_type": "markdown",
   "metadata": {},
   "source": [
    "## 데이터 요약하기"
   ]
  },
  {
   "cell_type": "code",
   "execution_count": 40,
   "metadata": {},
   "outputs": [
    {
     "name": "stdout",
     "output_type": "stream",
     "text": [
      "<class 'pandas.core.frame.DataFrame'>\n",
      "RangeIndex: 2676 entries, 0 to 2675\n",
      "Data columns (total 9 columns):\n",
      " #   Column  Non-Null Count  Dtype \n",
      "---  ------  --------------  ----- \n",
      " 0   회사명     2676 non-null   object\n",
      " 1   종목코드    2676 non-null   int64 \n",
      " 2   업종      2676 non-null   object\n",
      " 3   주요제품    2662 non-null   object\n",
      " 4   상장일     2676 non-null   object\n",
      " 5   결산월     2676 non-null   object\n",
      " 6   대표자명    2676 non-null   object\n",
      " 7   홈페이지    2503 non-null   object\n",
      " 8   지역      2676 non-null   object\n",
      "dtypes: int64(1), object(8)\n",
      "memory usage: 188.3+ KB\n"
     ]
    }
   ],
   "source": [
    "# info 로 요약 데이터를 봅니다.\n",
    "df.info()"
   ]
  },
  {
   "cell_type": "code",
   "execution_count": 41,
   "metadata": {},
   "outputs": [
    {
     "data": {
      "text/html": [
       "<div>\n",
       "<style scoped>\n",
       "    .dataframe tbody tr th:only-of-type {\n",
       "        vertical-align: middle;\n",
       "    }\n",
       "\n",
       "    .dataframe tbody tr th {\n",
       "        vertical-align: top;\n",
       "    }\n",
       "\n",
       "    .dataframe thead th {\n",
       "        text-align: right;\n",
       "    }\n",
       "</style>\n",
       "<table border=\"1\" class=\"dataframe\">\n",
       "  <thead>\n",
       "    <tr style=\"text-align: right;\">\n",
       "      <th></th>\n",
       "      <th>종목코드</th>\n",
       "    </tr>\n",
       "  </thead>\n",
       "  <tbody>\n",
       "    <tr>\n",
       "      <th>count</th>\n",
       "      <td>2676.000000</td>\n",
       "    </tr>\n",
       "    <tr>\n",
       "      <th>mean</th>\n",
       "      <td>148722.690583</td>\n",
       "    </tr>\n",
       "    <tr>\n",
       "      <th>std</th>\n",
       "      <td>152564.788719</td>\n",
       "    </tr>\n",
       "    <tr>\n",
       "      <th>min</th>\n",
       "      <td>20.000000</td>\n",
       "    </tr>\n",
       "    <tr>\n",
       "      <th>25%</th>\n",
       "      <td>32055.000000</td>\n",
       "    </tr>\n",
       "    <tr>\n",
       "      <th>50%</th>\n",
       "      <td>90390.000000</td>\n",
       "    </tr>\n",
       "    <tr>\n",
       "      <th>75%</th>\n",
       "      <td>244565.000000</td>\n",
       "    </tr>\n",
       "    <tr>\n",
       "      <th>max</th>\n",
       "      <td>950220.000000</td>\n",
       "    </tr>\n",
       "  </tbody>\n",
       "</table>\n",
       "</div>"
      ],
      "text/plain": [
       "                종목코드\n",
       "count    2676.000000\n",
       "mean   148722.690583\n",
       "std    152564.788719\n",
       "min        20.000000\n",
       "25%     32055.000000\n",
       "50%     90390.000000\n",
       "75%    244565.000000\n",
       "max    950220.000000"
      ]
     },
     "execution_count": 41,
     "metadata": {},
     "output_type": "execute_result"
    }
   ],
   "source": [
    "# describe 로 기술통계값을 봅니다.\n",
    "df.describe()"
   ]
  },
  {
   "cell_type": "code",
   "execution_count": 42,
   "metadata": {},
   "outputs": [
    {
     "data": {
      "text/plain": [
       "회사명     2676\n",
       "종목코드    2676\n",
       "업종       159\n",
       "주요제품    2472\n",
       "상장일     1990\n",
       "결산월       10\n",
       "대표자명    2553\n",
       "홈페이지    2480\n",
       "지역        22\n",
       "dtype: int64"
      ]
     },
     "execution_count": 42,
     "metadata": {},
     "output_type": "execute_result"
    }
   ],
   "source": [
    "# 중복을 제외한 unique 값의 갯수를 봅니다.\n",
    "df.nunique()"
   ]
  },
  {
   "cell_type": "code",
   "execution_count": null,
   "metadata": {},
   "outputs": [],
   "source": []
  },
  {
   "cell_type": "code",
   "execution_count": 43,
   "metadata": {
    "scrolled": true
   },
   "outputs": [
    {
     "data": {
      "text/plain": [
       "RangeIndex(start=0, stop=2676, step=1)"
      ]
     },
     "execution_count": 43,
     "metadata": {},
     "output_type": "execute_result"
    }
   ],
   "source": [
    "# index 값 보기\n",
    "df.index"
   ]
  },
  {
   "cell_type": "code",
   "execution_count": 44,
   "metadata": {},
   "outputs": [
    {
     "data": {
      "text/plain": [
       "Index(['회사명', '종목코드', '업종', '주요제품', '상장일', '결산월', '대표자명', '홈페이지', '지역'], dtype='object')"
      ]
     },
     "execution_count": 44,
     "metadata": {},
     "output_type": "execute_result"
    }
   ],
   "source": [
    "# 컬럼값 보기\n",
    "df.columns"
   ]
  },
  {
   "cell_type": "code",
   "execution_count": 46,
   "metadata": {},
   "outputs": [
    {
     "data": {
      "text/plain": [
       "array([['BGF리테일', 282330, '종합 소매업', ..., '민승배',\n",
       "        'http://www.bgfretail.com', '서울특별시'],\n",
       "       ['DL건설', 1880, '건물 건설업', ..., '박유신',\n",
       "        'http://www.dlconstruction.co.kr', '인천광역시'],\n",
       "       ['DRB동일', 4840, '고무제품 제조업', ..., '류영식', 'http://www.drbworld.com',\n",
       "        '부산광역시'],\n",
       "       ...,\n",
       "       ['틸론', 217880, '소프트웨어 개발 및 공급업', ..., '최용호',\n",
       "        'http://www.tilon.com', '서울특별시'],\n",
       "       ['파워풀엑스', 266870, '기타 화학제품 제조업', ..., '박인철',\n",
       "        'http://www.flexpower.co.kr', '서울특별시'],\n",
       "       ['한중엔시에스', 107640, '자동차 신품 부품 제조업', ..., '김환식',\n",
       "        'http://www.hjncs.com', '경상북도']], dtype=object)"
      ]
     },
     "execution_count": 46,
     "metadata": {},
     "output_type": "execute_result"
    }
   ],
   "source": [
    "# 값만 보기\n",
    "df.values"
   ]
  },
  {
   "cell_type": "markdown",
   "metadata": {},
   "source": [
    "## 데이터 색인하기\n",
    "\n",
    "### Series\n",
    "<img src=\"https://pandas.pydata.org/docs/_images/01_table_series.svg\">"
   ]
  },
  {
   "cell_type": "code",
   "execution_count": 47,
   "metadata": {},
   "outputs": [
    {
     "data": {
      "text/plain": [
       "회사명                               현대퓨처넷\n",
       "종목코드                             126560\n",
       "업종                               전기 통신업\n",
       "주요제품                 디지털 사이니지, 기업 메시징 등\n",
       "상장일                          2010-12-23\n",
       "결산월                                 12월\n",
       "대표자명                                김성일\n",
       "홈페이지    http://www.hyundaifuturenet.com\n",
       "지역                                서울특별시\n",
       "Name: 100, dtype: object"
      ]
     },
     "execution_count": 47,
     "metadata": {},
     "output_type": "execute_result"
    }
   ],
   "source": [
    "# Name 컬럼 하나만 가져옵니다.\n",
    "df.loc[100]"
   ]
  },
  {
   "cell_type": "code",
   "execution_count": 49,
   "metadata": {},
   "outputs": [
    {
     "data": {
      "text/plain": [
       "Index(['회사명', '종목코드', '업종', '주요제품', '상장일', '결산월', '대표자명', '홈페이지', '지역'], dtype='object')"
      ]
     },
     "execution_count": 49,
     "metadata": {},
     "output_type": "execute_result"
    }
   ],
   "source": [
    "df.columns"
   ]
  },
  {
   "cell_type": "code",
   "execution_count": 50,
   "metadata": {},
   "outputs": [
    {
     "data": {
      "text/plain": [
       "pandas.core.series.Series"
      ]
     },
     "execution_count": 50,
     "metadata": {},
     "output_type": "execute_result"
    }
   ],
   "source": [
    "# df[\"Name\"] 의 type을 봅니다.\n",
    "type(df['회사명'])"
   ]
  },
  {
   "cell_type": "code",
   "execution_count": 51,
   "metadata": {},
   "outputs": [
    {
     "data": {
      "text/plain": [
       "회사명                          무림P&P\n",
       "종목코드                          9580\n",
       "업종                 펄프, 종이 및 판지 제조업\n",
       "주요제품    표백화학펄프(B.K.P) 제조,목재가공,조림사업\n",
       "상장일                     1989-06-20\n",
       "결산월                            12월\n",
       "대표자명                           이도균\n",
       "홈페이지    http://www.moorimpnp.co.kr\n",
       "지역                           울산광역시\n",
       "Name: 1001, dtype: object"
      ]
     },
     "execution_count": 51,
     "metadata": {},
     "output_type": "execute_result"
    }
   ],
   "source": [
    "# 0번째 행만 가져옵니다. 행인덱스를 가져올때는 .loc를 사용합니다.\n",
    "# loc는 위치(locate)를 의미합니다.\n",
    "df.loc[1001]"
   ]
  },
  {
   "cell_type": "code",
   "execution_count": 52,
   "metadata": {},
   "outputs": [
    {
     "data": {
      "text/plain": [
       "pandas.core.series.Series"
      ]
     },
     "execution_count": 52,
     "metadata": {},
     "output_type": "execute_result"
    }
   ],
   "source": [
    "# df.loc[0] 의 type을 봅니다.\n",
    "type(df.loc[0])"
   ]
  },
  {
   "cell_type": "markdown",
   "metadata": {},
   "source": [
    "### DataFrame\n",
    "<img src=\"https://pandas.pydata.org/docs/_images/01_table_dataframe.svg\">"
   ]
  },
  {
   "cell_type": "code",
   "execution_count": 53,
   "metadata": {},
   "outputs": [
    {
     "data": {
      "text/plain": [
       "pandas.core.frame.DataFrame"
      ]
     },
     "execution_count": 53,
     "metadata": {},
     "output_type": "execute_result"
    }
   ],
   "source": [
    "# df 변수의 타입을 봅니다.\n",
    "type(df)"
   ]
  },
  {
   "cell_type": "code",
   "execution_count": 54,
   "metadata": {},
   "outputs": [
    {
     "data": {
      "text/html": [
       "<div>\n",
       "<style scoped>\n",
       "    .dataframe tbody tr th:only-of-type {\n",
       "        vertical-align: middle;\n",
       "    }\n",
       "\n",
       "    .dataframe tbody tr th {\n",
       "        vertical-align: top;\n",
       "    }\n",
       "\n",
       "    .dataframe thead th {\n",
       "        text-align: right;\n",
       "    }\n",
       "</style>\n",
       "<table border=\"1\" class=\"dataframe\">\n",
       "  <thead>\n",
       "    <tr style=\"text-align: right;\">\n",
       "      <th></th>\n",
       "      <th>회사명</th>\n",
       "      <th>종목코드</th>\n",
       "      <th>업종</th>\n",
       "      <th>주요제품</th>\n",
       "      <th>상장일</th>\n",
       "      <th>결산월</th>\n",
       "      <th>대표자명</th>\n",
       "      <th>홈페이지</th>\n",
       "      <th>지역</th>\n",
       "    </tr>\n",
       "  </thead>\n",
       "  <tbody>\n",
       "    <tr>\n",
       "      <th>0</th>\n",
       "      <td>BGF리테일</td>\n",
       "      <td>282330</td>\n",
       "      <td>종합 소매업</td>\n",
       "      <td>체인화 편의점</td>\n",
       "      <td>2017-12-08</td>\n",
       "      <td>12월</td>\n",
       "      <td>민승배</td>\n",
       "      <td>http://www.bgfretail.com</td>\n",
       "      <td>서울특별시</td>\n",
       "    </tr>\n",
       "    <tr>\n",
       "      <th>1</th>\n",
       "      <td>DL건설</td>\n",
       "      <td>1880</td>\n",
       "      <td>건물 건설업</td>\n",
       "      <td>도로건설공사,토목공사,건축공사,조경공사/부동산 임대,매매</td>\n",
       "      <td>1977-12-22</td>\n",
       "      <td>12월</td>\n",
       "      <td>박유신</td>\n",
       "      <td>http://www.dlconstruction.co.kr</td>\n",
       "      <td>인천광역시</td>\n",
       "    </tr>\n",
       "    <tr>\n",
       "      <th>2</th>\n",
       "      <td>DRB동일</td>\n",
       "      <td>4840</td>\n",
       "      <td>고무제품 제조업</td>\n",
       "      <td>고무벨트(V벨트,콘베이어벨트,평벨트),프라스틱제품 제조,판매</td>\n",
       "      <td>1976-05-21</td>\n",
       "      <td>12월</td>\n",
       "      <td>류영식</td>\n",
       "      <td>http://www.drbworld.com</td>\n",
       "      <td>부산광역시</td>\n",
       "    </tr>\n",
       "    <tr>\n",
       "      <th>3</th>\n",
       "      <td>E1</td>\n",
       "      <td>17940</td>\n",
       "      <td>기타 전문 도매업</td>\n",
       "      <td>LPG(프로판,부탄가스),가스기기판매</td>\n",
       "      <td>1997-08-27</td>\n",
       "      <td>12월</td>\n",
       "      <td>구자용, 천정식 (각자 대표이사)</td>\n",
       "      <td>http://www.e1.co.kr</td>\n",
       "      <td>서울특별시</td>\n",
       "    </tr>\n",
       "    <tr>\n",
       "      <th>4</th>\n",
       "      <td>HDC</td>\n",
       "      <td>12630</td>\n",
       "      <td>기타 금융업</td>\n",
       "      <td>토목공사,건축공사,아파트분양사업,재개발/재건축사업</td>\n",
       "      <td>1996-10-16</td>\n",
       "      <td>12월</td>\n",
       "      <td>정몽규, 정경구</td>\n",
       "      <td>http://www.i-park.com</td>\n",
       "      <td>서울특별시</td>\n",
       "    </tr>\n",
       "    <tr>\n",
       "      <th>...</th>\n",
       "      <td>...</td>\n",
       "      <td>...</td>\n",
       "      <td>...</td>\n",
       "      <td>...</td>\n",
       "      <td>...</td>\n",
       "      <td>...</td>\n",
       "      <td>...</td>\n",
       "      <td>...</td>\n",
       "      <td>...</td>\n",
       "    </tr>\n",
       "    <tr>\n",
       "      <th>2671</th>\n",
       "      <td>지에프씨생명과학</td>\n",
       "      <td>388610</td>\n",
       "      <td>기타 화학제품 제조업</td>\n",
       "      <td>화장품 바이오 소재 및 임상실험</td>\n",
       "      <td>2022-12-23</td>\n",
       "      <td>12월</td>\n",
       "      <td>강희철 / 표형배</td>\n",
       "      <td>http://www.gfcos.co.kr/</td>\n",
       "      <td>경기도</td>\n",
       "    </tr>\n",
       "    <tr>\n",
       "      <th>2672</th>\n",
       "      <td>큐러블</td>\n",
       "      <td>86460</td>\n",
       "      <td>자연과학 및 공학 연구개발업</td>\n",
       "      <td>유전체 분석 서비스</td>\n",
       "      <td>2013-07-01</td>\n",
       "      <td>12월</td>\n",
       "      <td>김승일</td>\n",
       "      <td>http://www.snp-genetics.com</td>\n",
       "      <td>경기도</td>\n",
       "    </tr>\n",
       "    <tr>\n",
       "      <th>2673</th>\n",
       "      <td>틸론</td>\n",
       "      <td>217880</td>\n",
       "      <td>소프트웨어 개발 및 공급업</td>\n",
       "      <td>가상화 솔루션(D,A,V,E,I,T Solution) 및 ecloud.com</td>\n",
       "      <td>2015-05-28</td>\n",
       "      <td>12월</td>\n",
       "      <td>최용호</td>\n",
       "      <td>http://www.tilon.com</td>\n",
       "      <td>서울특별시</td>\n",
       "    </tr>\n",
       "    <tr>\n",
       "      <th>2674</th>\n",
       "      <td>파워풀엑스</td>\n",
       "      <td>266870</td>\n",
       "      <td>기타 화학제품 제조업</td>\n",
       "      <td>플렉스파워 리커버리크림</td>\n",
       "      <td>2017-04-24</td>\n",
       "      <td>12월</td>\n",
       "      <td>박인철</td>\n",
       "      <td>http://www.flexpower.co.kr</td>\n",
       "      <td>서울특별시</td>\n",
       "    </tr>\n",
       "    <tr>\n",
       "      <th>2675</th>\n",
       "      <td>한중엔시에스</td>\n",
       "      <td>107640</td>\n",
       "      <td>자동차 신품 부품 제조업</td>\n",
       "      <td>자동차 신품 부품제조업(배기시스템부품, Electroinc, 전기차 밧데리 모듈 부...</td>\n",
       "      <td>2013-12-10</td>\n",
       "      <td>12월</td>\n",
       "      <td>김환식</td>\n",
       "      <td>http://www.hjncs.com</td>\n",
       "      <td>경상북도</td>\n",
       "    </tr>\n",
       "  </tbody>\n",
       "</table>\n",
       "<p>2676 rows × 9 columns</p>\n",
       "</div>"
      ],
      "text/plain": [
       "           회사명    종목코드               업종  \\\n",
       "0       BGF리테일  282330           종합 소매업   \n",
       "1         DL건설    1880           건물 건설업   \n",
       "2        DRB동일    4840         고무제품 제조업   \n",
       "3           E1   17940        기타 전문 도매업   \n",
       "4          HDC   12630           기타 금융업   \n",
       "...        ...     ...              ...   \n",
       "2671  지에프씨생명과학  388610      기타 화학제품 제조업   \n",
       "2672       큐러블   86460  자연과학 및 공학 연구개발업   \n",
       "2673        틸론  217880   소프트웨어 개발 및 공급업   \n",
       "2674     파워풀엑스  266870      기타 화학제품 제조업   \n",
       "2675    한중엔시에스  107640    자동차 신품 부품 제조업   \n",
       "\n",
       "                                                   주요제품         상장일  결산월  \\\n",
       "0                                               체인화 편의점  2017-12-08  12월   \n",
       "1                       도로건설공사,토목공사,건축공사,조경공사/부동산 임대,매매  1977-12-22  12월   \n",
       "2                     고무벨트(V벨트,콘베이어벨트,평벨트),프라스틱제품 제조,판매  1976-05-21  12월   \n",
       "3                                  LPG(프로판,부탄가스),가스기기판매  1997-08-27  12월   \n",
       "4                           토목공사,건축공사,아파트분양사업,재개발/재건축사업  1996-10-16  12월   \n",
       "...                                                 ...         ...  ...   \n",
       "2671                                  화장품 바이오 소재 및 임상실험  2022-12-23  12월   \n",
       "2672                                         유전체 분석 서비스  2013-07-01  12월   \n",
       "2673         가상화 솔루션(D,A,V,E,I,T Solution) 및 ecloud.com  2015-05-28  12월   \n",
       "2674                                       플렉스파워 리커버리크림  2017-04-24  12월   \n",
       "2675  자동차 신품 부품제조업(배기시스템부품, Electroinc, 전기차 밧데리 모듈 부...  2013-12-10  12월   \n",
       "\n",
       "                    대표자명                             홈페이지     지역  \n",
       "0                    민승배         http://www.bgfretail.com  서울특별시  \n",
       "1                    박유신  http://www.dlconstruction.co.kr  인천광역시  \n",
       "2                    류영식          http://www.drbworld.com  부산광역시  \n",
       "3     구자용, 천정식 (각자 대표이사)              http://www.e1.co.kr  서울특별시  \n",
       "4               정몽규, 정경구            http://www.i-park.com  서울특별시  \n",
       "...                  ...                              ...    ...  \n",
       "2671           강희철 / 표형배          http://www.gfcos.co.kr/    경기도  \n",
       "2672                 김승일      http://www.snp-genetics.com    경기도  \n",
       "2673                 최용호             http://www.tilon.com  서울특별시  \n",
       "2674                 박인철       http://www.flexpower.co.kr  서울특별시  \n",
       "2675                 김환식             http://www.hjncs.com   경상북도  \n",
       "\n",
       "[2676 rows x 9 columns]"
      ]
     },
     "execution_count": 54,
     "metadata": {},
     "output_type": "execute_result"
    }
   ],
   "source": [
    "# 여러 컬럼을 지정할 때는 리스트 형태로 묶어주어야 합니다. \n",
    "# 2차원 행렬은 대괄호가 [] 2개가 있다는 것을 기억해 주세요. \n",
    "df[['회사명', '종목코드', '업종', '주요제품', '상장일', '결산월', '대표자명', '홈페이지', '지역']]"
   ]
  },
  {
   "cell_type": "code",
   "execution_count": 56,
   "metadata": {},
   "outputs": [
    {
     "data": {
      "text/html": [
       "<div>\n",
       "<style scoped>\n",
       "    .dataframe tbody tr th:only-of-type {\n",
       "        vertical-align: middle;\n",
       "    }\n",
       "\n",
       "    .dataframe tbody tr th {\n",
       "        vertical-align: top;\n",
       "    }\n",
       "\n",
       "    .dataframe thead th {\n",
       "        text-align: right;\n",
       "    }\n",
       "</style>\n",
       "<table border=\"1\" class=\"dataframe\">\n",
       "  <thead>\n",
       "    <tr style=\"text-align: right;\">\n",
       "      <th></th>\n",
       "      <th>회사명</th>\n",
       "      <th>종목코드</th>\n",
       "      <th>업종</th>\n",
       "      <th>주요제품</th>\n",
       "      <th>상장일</th>\n",
       "      <th>결산월</th>\n",
       "      <th>대표자명</th>\n",
       "      <th>홈페이지</th>\n",
       "      <th>지역</th>\n",
       "    </tr>\n",
       "  </thead>\n",
       "  <tbody>\n",
       "    <tr>\n",
       "      <th>0</th>\n",
       "      <td>BGF리테일</td>\n",
       "      <td>282330</td>\n",
       "      <td>종합 소매업</td>\n",
       "      <td>체인화 편의점</td>\n",
       "      <td>2017-12-08</td>\n",
       "      <td>12월</td>\n",
       "      <td>민승배</td>\n",
       "      <td>http://www.bgfretail.com</td>\n",
       "      <td>서울특별시</td>\n",
       "    </tr>\n",
       "    <tr>\n",
       "      <th>1</th>\n",
       "      <td>DL건설</td>\n",
       "      <td>1880</td>\n",
       "      <td>건물 건설업</td>\n",
       "      <td>도로건설공사,토목공사,건축공사,조경공사/부동산 임대,매매</td>\n",
       "      <td>1977-12-22</td>\n",
       "      <td>12월</td>\n",
       "      <td>박유신</td>\n",
       "      <td>http://www.dlconstruction.co.kr</td>\n",
       "      <td>인천광역시</td>\n",
       "    </tr>\n",
       "    <tr>\n",
       "      <th>2</th>\n",
       "      <td>DRB동일</td>\n",
       "      <td>4840</td>\n",
       "      <td>고무제품 제조업</td>\n",
       "      <td>고무벨트(V벨트,콘베이어벨트,평벨트),프라스틱제품 제조,판매</td>\n",
       "      <td>1976-05-21</td>\n",
       "      <td>12월</td>\n",
       "      <td>류영식</td>\n",
       "      <td>http://www.drbworld.com</td>\n",
       "      <td>부산광역시</td>\n",
       "    </tr>\n",
       "    <tr>\n",
       "      <th>3</th>\n",
       "      <td>E1</td>\n",
       "      <td>17940</td>\n",
       "      <td>기타 전문 도매업</td>\n",
       "      <td>LPG(프로판,부탄가스),가스기기판매</td>\n",
       "      <td>1997-08-27</td>\n",
       "      <td>12월</td>\n",
       "      <td>구자용, 천정식 (각자 대표이사)</td>\n",
       "      <td>http://www.e1.co.kr</td>\n",
       "      <td>서울특별시</td>\n",
       "    </tr>\n",
       "  </tbody>\n",
       "</table>\n",
       "</div>"
      ],
      "text/plain": [
       "      회사명    종목코드         업종                               주요제품         상장일  \\\n",
       "0  BGF리테일  282330     종합 소매업                            체인화 편의점  2017-12-08   \n",
       "1    DL건설    1880     건물 건설업    도로건설공사,토목공사,건축공사,조경공사/부동산 임대,매매  1977-12-22   \n",
       "2   DRB동일    4840   고무제품 제조업  고무벨트(V벨트,콘베이어벨트,평벨트),프라스틱제품 제조,판매  1976-05-21   \n",
       "3      E1   17940  기타 전문 도매업               LPG(프로판,부탄가스),가스기기판매  1997-08-27   \n",
       "\n",
       "   결산월                대표자명                             홈페이지     지역  \n",
       "0  12월                 민승배         http://www.bgfretail.com  서울특별시  \n",
       "1  12월                 박유신  http://www.dlconstruction.co.kr  인천광역시  \n",
       "2  12월                 류영식          http://www.drbworld.com  부산광역시  \n",
       "3  12월  구자용, 천정식 (각자 대표이사)              http://www.e1.co.kr  서울특별시  "
      ]
     },
     "execution_count": 56,
     "metadata": {},
     "output_type": "execute_result"
    }
   ],
   "source": [
    "# 여러 개의 행을 가져올 때도 [] 대괄호를 통해 리스트 형태로 묶어줍니다.\n",
    "df.loc[[0, 1, 2, 3]]"
   ]
  },
  {
   "cell_type": "code",
   "execution_count": 57,
   "metadata": {},
   "outputs": [
    {
     "data": {
      "text/html": [
       "<div>\n",
       "<style scoped>\n",
       "    .dataframe tbody tr th:only-of-type {\n",
       "        vertical-align: middle;\n",
       "    }\n",
       "\n",
       "    .dataframe tbody tr th {\n",
       "        vertical-align: top;\n",
       "    }\n",
       "\n",
       "    .dataframe thead th {\n",
       "        text-align: right;\n",
       "    }\n",
       "</style>\n",
       "<table border=\"1\" class=\"dataframe\">\n",
       "  <thead>\n",
       "    <tr style=\"text-align: right;\">\n",
       "      <th></th>\n",
       "      <th>회사명</th>\n",
       "    </tr>\n",
       "  </thead>\n",
       "  <tbody>\n",
       "    <tr>\n",
       "      <th>0</th>\n",
       "      <td>BGF리테일</td>\n",
       "    </tr>\n",
       "    <tr>\n",
       "      <th>1</th>\n",
       "      <td>DL건설</td>\n",
       "    </tr>\n",
       "    <tr>\n",
       "      <th>2</th>\n",
       "      <td>DRB동일</td>\n",
       "    </tr>\n",
       "    <tr>\n",
       "      <th>3</th>\n",
       "      <td>E1</td>\n",
       "    </tr>\n",
       "    <tr>\n",
       "      <th>4</th>\n",
       "      <td>HDC</td>\n",
       "    </tr>\n",
       "    <tr>\n",
       "      <th>...</th>\n",
       "      <td>...</td>\n",
       "    </tr>\n",
       "    <tr>\n",
       "      <th>2671</th>\n",
       "      <td>지에프씨생명과학</td>\n",
       "    </tr>\n",
       "    <tr>\n",
       "      <th>2672</th>\n",
       "      <td>큐러블</td>\n",
       "    </tr>\n",
       "    <tr>\n",
       "      <th>2673</th>\n",
       "      <td>틸론</td>\n",
       "    </tr>\n",
       "    <tr>\n",
       "      <th>2674</th>\n",
       "      <td>파워풀엑스</td>\n",
       "    </tr>\n",
       "    <tr>\n",
       "      <th>2675</th>\n",
       "      <td>한중엔시에스</td>\n",
       "    </tr>\n",
       "  </tbody>\n",
       "</table>\n",
       "<p>2676 rows × 1 columns</p>\n",
       "</div>"
      ],
      "text/plain": [
       "           회사명\n",
       "0       BGF리테일\n",
       "1         DL건설\n",
       "2        DRB동일\n",
       "3           E1\n",
       "4          HDC\n",
       "...        ...\n",
       "2671  지에프씨생명과학\n",
       "2672       큐러블\n",
       "2673        틸론\n",
       "2674     파워풀엑스\n",
       "2675    한중엔시에스\n",
       "\n",
       "[2676 rows x 1 columns]"
      ]
     },
     "execution_count": 57,
     "metadata": {},
     "output_type": "execute_result"
    }
   ],
   "source": [
    "# 1개의 컬럼을 가져올 때도 대괄호[] 2개를 써서 리스트 형태로 묶어주게 되면 데이터프레임 형태로 반환됩니다.\n",
    "# \"Name\" 을 데이터프레임으로 가져옵니다.\n",
    "df[[\"회사명\"]]"
   ]
  },
  {
   "cell_type": "code",
   "execution_count": null,
   "metadata": {},
   "outputs": [],
   "source": []
  },
  {
   "cell_type": "markdown",
   "metadata": {},
   "source": [
    "### loc를 통한 서브셋 가져오기\n",
    "<img src=\"https://pandas.pydata.org/pandas-docs/stable/_images/03_subset_columns_rows.svg\">"
   ]
  },
  {
   "cell_type": "code",
   "execution_count": 61,
   "metadata": {},
   "outputs": [
    {
     "data": {
      "text/plain": [
       "0         BGF리테일\n",
       "1           DL건설\n",
       "2          DRB동일\n",
       "3             E1\n",
       "4            HDC\n",
       "          ...   \n",
       "2671    지에프씨생명과학\n",
       "2672         큐러블\n",
       "2673          틸론\n",
       "2674       파워풀엑스\n",
       "2675      한중엔시에스\n",
       "Name: 회사명, Length: 2676, dtype: object"
      ]
     },
     "execution_count": 61,
     "metadata": {},
     "output_type": "execute_result"
    }
   ],
   "source": [
    "# 행과 열 함께 가져오기\n",
    "# .loc[행, 열]\n",
    "df.loc[:, '회사명']\n"
   ]
  },
  {
   "cell_type": "code",
   "execution_count": null,
   "metadata": {},
   "outputs": [],
   "source": [
    "# .loc[행, 열]\n"
   ]
  },
  {
   "cell_type": "code",
   "execution_count": null,
   "metadata": {},
   "outputs": [],
   "source": [
    "# %timeit\n"
   ]
  },
  {
   "cell_type": "code",
   "execution_count": null,
   "metadata": {},
   "outputs": [],
   "source": [
    "# %timeit\n"
   ]
  },
  {
   "cell_type": "code",
   "execution_count": 66,
   "metadata": {},
   "outputs": [
    {
     "data": {
      "text/html": [
       "<div>\n",
       "<style scoped>\n",
       "    .dataframe tbody tr th:only-of-type {\n",
       "        vertical-align: middle;\n",
       "    }\n",
       "\n",
       "    .dataframe tbody tr th {\n",
       "        vertical-align: top;\n",
       "    }\n",
       "\n",
       "    .dataframe thead th {\n",
       "        text-align: right;\n",
       "    }\n",
       "</style>\n",
       "<table border=\"1\" class=\"dataframe\">\n",
       "  <thead>\n",
       "    <tr style=\"text-align: right;\">\n",
       "      <th></th>\n",
       "      <th>회사명</th>\n",
       "      <th>종목코드</th>\n",
       "    </tr>\n",
       "  </thead>\n",
       "  <tbody>\n",
       "    <tr>\n",
       "      <th>1</th>\n",
       "      <td>DL건설</td>\n",
       "      <td>1880</td>\n",
       "    </tr>\n",
       "    <tr>\n",
       "      <th>2</th>\n",
       "      <td>DRB동일</td>\n",
       "      <td>4840</td>\n",
       "    </tr>\n",
       "    <tr>\n",
       "      <th>3</th>\n",
       "      <td>E1</td>\n",
       "      <td>17940</td>\n",
       "    </tr>\n",
       "  </tbody>\n",
       "</table>\n",
       "</div>"
      ],
      "text/plain": [
       "     회사명   종목코드\n",
       "1   DL건설   1880\n",
       "2  DRB동일   4840\n",
       "3     E1  17940"
      ]
     },
     "execution_count": 66,
     "metadata": {},
     "output_type": "execute_result"
    }
   ],
   "source": [
    "# 여러 개의 행과 하나의 컬럼 가져오기\n",
    "# .loc[행, 열]\n",
    "df.loc[[1,2,3], ['회사명', '종목코드']]"
   ]
  },
  {
   "cell_type": "code",
   "execution_count": 67,
   "metadata": {},
   "outputs": [
    {
     "data": {
      "text/html": [
       "<div>\n",
       "<style scoped>\n",
       "    .dataframe tbody tr th:only-of-type {\n",
       "        vertical-align: middle;\n",
       "    }\n",
       "\n",
       "    .dataframe tbody tr th {\n",
       "        vertical-align: top;\n",
       "    }\n",
       "\n",
       "    .dataframe thead th {\n",
       "        text-align: right;\n",
       "    }\n",
       "</style>\n",
       "<table border=\"1\" class=\"dataframe\">\n",
       "  <thead>\n",
       "    <tr style=\"text-align: right;\">\n",
       "      <th></th>\n",
       "      <th>회사명</th>\n",
       "      <th>종목코드</th>\n",
       "      <th>업종</th>\n",
       "      <th>주요제품</th>\n",
       "    </tr>\n",
       "  </thead>\n",
       "  <tbody>\n",
       "    <tr>\n",
       "      <th>1</th>\n",
       "      <td>DL건설</td>\n",
       "      <td>1880</td>\n",
       "      <td>건물 건설업</td>\n",
       "      <td>도로건설공사,토목공사,건축공사,조경공사/부동산 임대,매매</td>\n",
       "    </tr>\n",
       "    <tr>\n",
       "      <th>2</th>\n",
       "      <td>DRB동일</td>\n",
       "      <td>4840</td>\n",
       "      <td>고무제품 제조업</td>\n",
       "      <td>고무벨트(V벨트,콘베이어벨트,평벨트),프라스틱제품 제조,판매</td>\n",
       "    </tr>\n",
       "    <tr>\n",
       "      <th>3</th>\n",
       "      <td>E1</td>\n",
       "      <td>17940</td>\n",
       "      <td>기타 전문 도매업</td>\n",
       "      <td>LPG(프로판,부탄가스),가스기기판매</td>\n",
       "    </tr>\n",
       "  </tbody>\n",
       "</table>\n",
       "</div>"
      ],
      "text/plain": [
       "     회사명   종목코드         업종                               주요제품\n",
       "1   DL건설   1880     건물 건설업    도로건설공사,토목공사,건축공사,조경공사/부동산 임대,매매\n",
       "2  DRB동일   4840   고무제품 제조업  고무벨트(V벨트,콘베이어벨트,평벨트),프라스틱제품 제조,판매\n",
       "3     E1  17940  기타 전문 도매업               LPG(프로판,부탄가스),가스기기판매"
      ]
     },
     "execution_count": 67,
     "metadata": {},
     "output_type": "execute_result"
    }
   ],
   "source": [
    "# 여러개의 행과 여러 개의 컬럼 가져오기\n",
    "# .loc[행, 열]\n",
    "df.loc[[1,2,3], ['회사명', '종목코드', '업종', '주요제품']]"
   ]
  },
  {
   "cell_type": "markdown",
   "metadata": {},
   "source": [
    "### Boolean Indexing\n",
    "* 결과값이 True, False bool 형태로 반환되기 때문에 boolean indexing 이라고 부릅니다.\n",
    "* boolean indexing 을 사용해 특정 조건식을 만족하는 데이터를 서브셋으로 가져옵니다.\n",
    "\n",
    "<img src=\"https://pandas.pydata.org/docs/_images/03_subset_rows.svg\">"
   ]
  },
  {
   "cell_type": "code",
   "execution_count": 78,
   "metadata": {},
   "outputs": [
    {
     "data": {
      "text/html": [
       "<div>\n",
       "<style scoped>\n",
       "    .dataframe tbody tr th:only-of-type {\n",
       "        vertical-align: middle;\n",
       "    }\n",
       "\n",
       "    .dataframe tbody tr th {\n",
       "        vertical-align: top;\n",
       "    }\n",
       "\n",
       "    .dataframe thead th {\n",
       "        text-align: right;\n",
       "    }\n",
       "</style>\n",
       "<table border=\"1\" class=\"dataframe\">\n",
       "  <thead>\n",
       "    <tr style=\"text-align: right;\">\n",
       "      <th></th>\n",
       "      <th>회사명</th>\n",
       "      <th>종목코드</th>\n",
       "      <th>업종</th>\n",
       "      <th>주요제품</th>\n",
       "      <th>상장일</th>\n",
       "      <th>결산월</th>\n",
       "      <th>대표자명</th>\n",
       "      <th>홈페이지</th>\n",
       "      <th>지역</th>\n",
       "    </tr>\n",
       "  </thead>\n",
       "  <tbody>\n",
       "    <tr>\n",
       "      <th>1048</th>\n",
       "      <td>카카오</td>\n",
       "      <td>35720</td>\n",
       "      <td>자료처리, 호스팅, 포털 및 기타 인터넷 정보매개 서비스업</td>\n",
       "      <td>인터넷 서비스(인터넷 광고)</td>\n",
       "      <td>2017-07-10</td>\n",
       "      <td>12월</td>\n",
       "      <td>홍은택 대표이사</td>\n",
       "      <td>http://www.kakaocorp.com</td>\n",
       "      <td>제주특별자치도</td>\n",
       "    </tr>\n",
       "  </tbody>\n",
       "</table>\n",
       "</div>"
      ],
      "text/plain": [
       "      회사명   종목코드                                업종             주요제품  \\\n",
       "1048  카카오  35720  자료처리, 호스팅, 포털 및 기타 인터넷 정보매개 서비스업  인터넷 서비스(인터넷 광고)   \n",
       "\n",
       "             상장일  결산월      대표자명                      홈페이지       지역  \n",
       "1048  2017-07-10  12월  홍은택 대표이사  http://www.kakaocorp.com  제주특별자치도  "
      ]
     },
     "execution_count": 78,
     "metadata": {},
     "output_type": "execute_result"
    }
   ],
   "source": [
    "# 카카오를 찾습니다.\n",
    "df[df['회사명'] == '카카오']"
   ]
  },
  {
   "cell_type": "markdown",
   "metadata": {},
   "source": [
    "<img src=\"https://pandas.pydata.org/pandas-docs/stable/_images/03_subset_columns_rows.svg\">"
   ]
  },
  {
   "cell_type": "code",
   "execution_count": null,
   "metadata": {},
   "outputs": [],
   "source": [
    "# and => &\n",
    "# or => |\n",
    "True and False"
   ]
  },
  {
   "cell_type": "code",
   "execution_count": 137,
   "metadata": {},
   "outputs": [
    {
     "data": {
      "text/html": [
       "<div>\n",
       "<style scoped>\n",
       "    .dataframe tbody tr th:only-of-type {\n",
       "        vertical-align: middle;\n",
       "    }\n",
       "\n",
       "    .dataframe tbody tr th {\n",
       "        vertical-align: top;\n",
       "    }\n",
       "\n",
       "    .dataframe thead th {\n",
       "        text-align: right;\n",
       "    }\n",
       "</style>\n",
       "<table border=\"1\" class=\"dataframe\">\n",
       "  <thead>\n",
       "    <tr style=\"text-align: right;\">\n",
       "      <th></th>\n",
       "      <th>Symbol</th>\n",
       "      <th>Name</th>\n",
       "      <th>Sector</th>\n",
       "      <th>Industry</th>\n",
       "    </tr>\n",
       "  </thead>\n",
       "  <tbody>\n",
       "    <tr>\n",
       "      <th>127</th>\n",
       "      <td>COO</td>\n",
       "      <td>CooperCompanies</td>\n",
       "      <td>Health Care</td>\n",
       "      <td>Health Care Supplies</td>\n",
       "    </tr>\n",
       "    <tr>\n",
       "      <th>114</th>\n",
       "      <td>CLX</td>\n",
       "      <td>Clorox</td>\n",
       "      <td>Consumer Staples</td>\n",
       "      <td>Household Products</td>\n",
       "    </tr>\n",
       "    <tr>\n",
       "      <th>496</th>\n",
       "      <td>XEL</td>\n",
       "      <td>Xcel Energy</td>\n",
       "      <td>Utilities</td>\n",
       "      <td>Multi-Utilities</td>\n",
       "    </tr>\n",
       "    <tr>\n",
       "      <th>132</th>\n",
       "      <td>COST</td>\n",
       "      <td>Costco</td>\n",
       "      <td>Consumer Staples</td>\n",
       "      <td>Consumer Staples Merchandise Retail</td>\n",
       "    </tr>\n",
       "    <tr>\n",
       "      <th>259</th>\n",
       "      <td>IVZ</td>\n",
       "      <td>Invesco</td>\n",
       "      <td>Financials</td>\n",
       "      <td>Asset Management &amp; Custody Banks</td>\n",
       "    </tr>\n",
       "    <tr>\n",
       "      <th>272</th>\n",
       "      <td>KVUE</td>\n",
       "      <td>Kenvue</td>\n",
       "      <td>Consumer Staples</td>\n",
       "      <td>Personal Care Products</td>\n",
       "    </tr>\n",
       "    <tr>\n",
       "      <th>290</th>\n",
       "      <td>LYV</td>\n",
       "      <td>Live Nation Entertainment</td>\n",
       "      <td>Communication Services</td>\n",
       "      <td>Movies &amp; Entertainment</td>\n",
       "    </tr>\n",
       "    <tr>\n",
       "      <th>227</th>\n",
       "      <td>PEAK</td>\n",
       "      <td>Healthpeak</td>\n",
       "      <td>Real Estate</td>\n",
       "      <td>Health Care REITs</td>\n",
       "    </tr>\n",
       "    <tr>\n",
       "      <th>71</th>\n",
       "      <td>BWA</td>\n",
       "      <td>BorgWarner</td>\n",
       "      <td>Consumer Discretionary</td>\n",
       "      <td>Automotive Parts &amp; Equipment</td>\n",
       "    </tr>\n",
       "    <tr>\n",
       "      <th>350</th>\n",
       "      <td>NXPI</td>\n",
       "      <td>NXP Semiconductors</td>\n",
       "      <td>Information Technology</td>\n",
       "      <td>Semiconductors</td>\n",
       "    </tr>\n",
       "  </tbody>\n",
       "</table>\n",
       "</div>"
      ],
      "text/plain": [
       "    Symbol                       Name                  Sector  \\\n",
       "127    COO            CooperCompanies             Health Care   \n",
       "114    CLX                     Clorox        Consumer Staples   \n",
       "496    XEL                Xcel Energy               Utilities   \n",
       "132   COST                     Costco        Consumer Staples   \n",
       "259    IVZ                    Invesco              Financials   \n",
       "272   KVUE                     Kenvue        Consumer Staples   \n",
       "290    LYV  Live Nation Entertainment  Communication Services   \n",
       "227   PEAK                 Healthpeak             Real Estate   \n",
       "71     BWA                 BorgWarner  Consumer Discretionary   \n",
       "350   NXPI         NXP Semiconductors  Information Technology   \n",
       "\n",
       "                                Industry  \n",
       "127                 Health Care Supplies  \n",
       "114                   Household Products  \n",
       "496                      Multi-Utilities  \n",
       "132  Consumer Staples Merchandise Retail  \n",
       "259     Asset Management & Custody Banks  \n",
       "272               Personal Care Products  \n",
       "290               Movies & Entertainment  \n",
       "227                    Health Care REITs  \n",
       "71          Automotive Parts & Equipment  \n",
       "350                       Semiconductors  "
      ]
     },
     "execution_count": 137,
     "metadata": {},
     "output_type": "execute_result"
    }
   ],
   "source": [
    "df_sp500.sample(10)"
   ]
  },
  {
   "cell_type": "code",
   "execution_count": 149,
   "metadata": {},
   "outputs": [
    {
     "data": {
      "text/html": [
       "<div>\n",
       "<style scoped>\n",
       "    .dataframe tbody tr th:only-of-type {\n",
       "        vertical-align: middle;\n",
       "    }\n",
       "\n",
       "    .dataframe tbody tr th {\n",
       "        vertical-align: top;\n",
       "    }\n",
       "\n",
       "    .dataframe thead th {\n",
       "        text-align: right;\n",
       "    }\n",
       "</style>\n",
       "<table border=\"1\" class=\"dataframe\">\n",
       "  <thead>\n",
       "    <tr style=\"text-align: right;\">\n",
       "      <th></th>\n",
       "      <th>Symbol</th>\n",
       "      <th>Name</th>\n",
       "      <th>Sector</th>\n",
       "      <th>Industry</th>\n",
       "    </tr>\n",
       "  </thead>\n",
       "  <tbody>\n",
       "    <tr>\n",
       "      <th>39</th>\n",
       "      <td>AAPL</td>\n",
       "      <td>Apple Inc.</td>\n",
       "      <td>Information Technology</td>\n",
       "      <td>Technology Hardware, Storage &amp; Peripherals</td>\n",
       "    </tr>\n",
       "  </tbody>\n",
       "</table>\n",
       "</div>"
      ],
      "text/plain": [
       "   Symbol        Name                  Sector  \\\n",
       "39   AAPL  Apple Inc.  Information Technology   \n",
       "\n",
       "                                      Industry  \n",
       "39  Technology Hardware, Storage & Peripherals  "
      ]
     },
     "execution_count": 149,
     "metadata": {},
     "output_type": "execute_result"
    }
   ],
   "source": [
    "df_sp500[df_sp500['Name'].str.contains('apple', case=False)]"
   ]
  },
  {
   "cell_type": "code",
   "execution_count": 147,
   "metadata": {},
   "outputs": [
    {
     "data": {
      "text/html": [
       "<div>\n",
       "<style scoped>\n",
       "    .dataframe tbody tr th:only-of-type {\n",
       "        vertical-align: middle;\n",
       "    }\n",
       "\n",
       "    .dataframe tbody tr th {\n",
       "        vertical-align: top;\n",
       "    }\n",
       "\n",
       "    .dataframe thead th {\n",
       "        text-align: right;\n",
       "    }\n",
       "</style>\n",
       "<table border=\"1\" class=\"dataframe\">\n",
       "  <thead>\n",
       "    <tr style=\"text-align: right;\">\n",
       "      <th></th>\n",
       "      <th>Symbol</th>\n",
       "      <th>Name</th>\n",
       "      <th>Sector</th>\n",
       "      <th>Industry</th>\n",
       "    </tr>\n",
       "  </thead>\n",
       "  <tbody>\n",
       "    <tr>\n",
       "      <th>39</th>\n",
       "      <td>AAPL</td>\n",
       "      <td>Apple Inc.</td>\n",
       "      <td>Information Technology</td>\n",
       "      <td>Technology Hardware, Storage &amp; Peripherals</td>\n",
       "    </tr>\n",
       "    <tr>\n",
       "      <th>94</th>\n",
       "      <td>CDW</td>\n",
       "      <td>CDW</td>\n",
       "      <td>Information Technology</td>\n",
       "      <td>Technology Distributors</td>\n",
       "    </tr>\n",
       "    <tr>\n",
       "      <th>231</th>\n",
       "      <td>HPE</td>\n",
       "      <td>Hewlett Packard Enterprise</td>\n",
       "      <td>Information Technology</td>\n",
       "      <td>Technology Hardware, Storage &amp; Peripherals</td>\n",
       "    </tr>\n",
       "    <tr>\n",
       "      <th>239</th>\n",
       "      <td>HPQ</td>\n",
       "      <td>HP Inc.</td>\n",
       "      <td>Information Technology</td>\n",
       "      <td>Technology Hardware, Storage &amp; Peripherals</td>\n",
       "    </tr>\n",
       "    <tr>\n",
       "      <th>333</th>\n",
       "      <td>NTAP</td>\n",
       "      <td>NetApp</td>\n",
       "      <td>Information Technology</td>\n",
       "      <td>Technology Hardware, Storage &amp; Peripherals</td>\n",
       "    </tr>\n",
       "    <tr>\n",
       "      <th>412</th>\n",
       "      <td>STX</td>\n",
       "      <td>Seagate Technology</td>\n",
       "      <td>Information Technology</td>\n",
       "      <td>Technology Hardware, Storage &amp; Peripherals</td>\n",
       "    </tr>\n",
       "    <tr>\n",
       "      <th>488</th>\n",
       "      <td>WDC</td>\n",
       "      <td>Western Digital</td>\n",
       "      <td>Information Technology</td>\n",
       "      <td>Technology Hardware, Storage &amp; Peripherals</td>\n",
       "    </tr>\n",
       "  </tbody>\n",
       "</table>\n",
       "</div>"
      ],
      "text/plain": [
       "    Symbol                        Name                  Sector  \\\n",
       "39    AAPL                  Apple Inc.  Information Technology   \n",
       "94     CDW                         CDW  Information Technology   \n",
       "231    HPE  Hewlett Packard Enterprise  Information Technology   \n",
       "239    HPQ                     HP Inc.  Information Technology   \n",
       "333   NTAP                      NetApp  Information Technology   \n",
       "412    STX          Seagate Technology  Information Technology   \n",
       "488    WDC             Western Digital  Information Technology   \n",
       "\n",
       "                                       Industry  \n",
       "39   Technology Hardware, Storage & Peripherals  \n",
       "94                      Technology Distributors  \n",
       "231  Technology Hardware, Storage & Peripherals  \n",
       "239  Technology Hardware, Storage & Peripherals  \n",
       "333  Technology Hardware, Storage & Peripherals  \n",
       "412  Technology Hardware, Storage & Peripherals  \n",
       "488  Technology Hardware, Storage & Peripherals  "
      ]
     },
     "execution_count": 147,
     "metadata": {},
     "output_type": "execute_result"
    }
   ],
   "source": [
    "# 서울특별시에 소재지를 두고 있는 KOSPI 종목의 종목명과 심볼을 가져옵니다.\n",
    "# .loc[행, 열]\n",
    "# .loc[조건식, 열]\n",
    "# df.loc[(df[\"Region\"] == \"서울특별시\") & (df[\"Market\"] == \"KOSPI\"), [\"Symbol\", \"Name\"]]\n",
    "\n",
    "df_sp500[(df_sp500['Sector'].str.contains('information', case = False)) & (df_sp500['Industry'].str.contains('Technology', case = False))]"
   ]
  },
  {
   "cell_type": "code",
   "execution_count": 153,
   "metadata": {},
   "outputs": [
    {
     "data": {
      "text/html": [
       "<div>\n",
       "<style scoped>\n",
       "    .dataframe tbody tr th:only-of-type {\n",
       "        vertical-align: middle;\n",
       "    }\n",
       "\n",
       "    .dataframe tbody tr th {\n",
       "        vertical-align: top;\n",
       "    }\n",
       "\n",
       "    .dataframe thead th {\n",
       "        text-align: right;\n",
       "    }\n",
       "</style>\n",
       "<table border=\"1\" class=\"dataframe\">\n",
       "  <thead>\n",
       "    <tr style=\"text-align: right;\">\n",
       "      <th></th>\n",
       "      <th>Symbol</th>\n",
       "      <th>Name</th>\n",
       "      <th>Sector</th>\n",
       "      <th>Industry</th>\n",
       "    </tr>\n",
       "  </thead>\n",
       "  <tbody>\n",
       "    <tr>\n",
       "      <th>3</th>\n",
       "      <td>ABBV</td>\n",
       "      <td>AbbVie</td>\n",
       "      <td>Health Care</td>\n",
       "      <td>Biotechnology</td>\n",
       "    </tr>\n",
       "    <tr>\n",
       "      <th>4</th>\n",
       "      <td>ACN</td>\n",
       "      <td>Accenture</td>\n",
       "      <td>Information Technology</td>\n",
       "      <td>IT Consulting &amp; Other Services</td>\n",
       "    </tr>\n",
       "    <tr>\n",
       "      <th>5</th>\n",
       "      <td>ADBE</td>\n",
       "      <td>Adobe Inc.</td>\n",
       "      <td>Information Technology</td>\n",
       "      <td>Application Software</td>\n",
       "    </tr>\n",
       "    <tr>\n",
       "      <th>6</th>\n",
       "      <td>AMD</td>\n",
       "      <td>Advanced Micro Devices</td>\n",
       "      <td>Information Technology</td>\n",
       "      <td>Semiconductors</td>\n",
       "    </tr>\n",
       "    <tr>\n",
       "      <th>12</th>\n",
       "      <td>AKAM</td>\n",
       "      <td>Akamai</td>\n",
       "      <td>Information Technology</td>\n",
       "      <td>Internet Services &amp; Infrastructure</td>\n",
       "    </tr>\n",
       "    <tr>\n",
       "      <th>...</th>\n",
       "      <td>...</td>\n",
       "      <td>...</td>\n",
       "      <td>...</td>\n",
       "      <td>...</td>\n",
       "    </tr>\n",
       "    <tr>\n",
       "      <th>452</th>\n",
       "      <td>TYL</td>\n",
       "      <td>Tyler Technologies</td>\n",
       "      <td>Information Technology</td>\n",
       "      <td>Application Software</td>\n",
       "    </tr>\n",
       "    <tr>\n",
       "      <th>467</th>\n",
       "      <td>VRSN</td>\n",
       "      <td>Verisign</td>\n",
       "      <td>Information Technology</td>\n",
       "      <td>Internet Services &amp; Infrastructure</td>\n",
       "    </tr>\n",
       "    <tr>\n",
       "      <th>470</th>\n",
       "      <td>VRTX</td>\n",
       "      <td>Vertex Pharmaceuticals</td>\n",
       "      <td>Health Care</td>\n",
       "      <td>Biotechnology</td>\n",
       "    </tr>\n",
       "    <tr>\n",
       "      <th>488</th>\n",
       "      <td>WDC</td>\n",
       "      <td>Western Digital</td>\n",
       "      <td>Information Technology</td>\n",
       "      <td>Technology Hardware, Storage &amp; Peripherals</td>\n",
       "    </tr>\n",
       "    <tr>\n",
       "      <th>499</th>\n",
       "      <td>ZBRA</td>\n",
       "      <td>Zebra Technologies</td>\n",
       "      <td>Information Technology</td>\n",
       "      <td>Electronic Equipment &amp; Instruments</td>\n",
       "    </tr>\n",
       "  </tbody>\n",
       "</table>\n",
       "<p>72 rows × 4 columns</p>\n",
       "</div>"
      ],
      "text/plain": [
       "    Symbol                    Name                  Sector  \\\n",
       "3     ABBV                  AbbVie             Health Care   \n",
       "4      ACN               Accenture  Information Technology   \n",
       "5     ADBE              Adobe Inc.  Information Technology   \n",
       "6      AMD  Advanced Micro Devices  Information Technology   \n",
       "12    AKAM                  Akamai  Information Technology   \n",
       "..     ...                     ...                     ...   \n",
       "452    TYL      Tyler Technologies  Information Technology   \n",
       "467   VRSN                Verisign  Information Technology   \n",
       "470   VRTX  Vertex Pharmaceuticals             Health Care   \n",
       "488    WDC         Western Digital  Information Technology   \n",
       "499   ZBRA      Zebra Technologies  Information Technology   \n",
       "\n",
       "                                       Industry  \n",
       "3                                 Biotechnology  \n",
       "4                IT Consulting & Other Services  \n",
       "5                          Application Software  \n",
       "6                                Semiconductors  \n",
       "12           Internet Services & Infrastructure  \n",
       "..                                          ...  \n",
       "452                        Application Software  \n",
       "467          Internet Services & Infrastructure  \n",
       "470                               Biotechnology  \n",
       "488  Technology Hardware, Storage & Peripherals  \n",
       "499          Electronic Equipment & Instruments  \n",
       "\n",
       "[72 rows x 4 columns]"
      ]
     },
     "execution_count": 153,
     "metadata": {},
     "output_type": "execute_result"
    }
   ],
   "source": [
    "df_sp500[(df_sp500['Sector'].str.contains('information', case = False)) | (df_sp500['Industry'].str.contains('Technology', case = False))]"
   ]
  },
  {
   "cell_type": "code",
   "execution_count": 170,
   "metadata": {},
   "outputs": [
    {
     "data": {
      "text/html": [
       "<div>\n",
       "<style scoped>\n",
       "    .dataframe tbody tr th:only-of-type {\n",
       "        vertical-align: middle;\n",
       "    }\n",
       "\n",
       "    .dataframe tbody tr th {\n",
       "        vertical-align: top;\n",
       "    }\n",
       "\n",
       "    .dataframe thead th {\n",
       "        text-align: right;\n",
       "    }\n",
       "</style>\n",
       "<table border=\"1\" class=\"dataframe\">\n",
       "  <thead>\n",
       "    <tr style=\"text-align: right;\">\n",
       "      <th></th>\n",
       "      <th>Symbol</th>\n",
       "      <th>Name</th>\n",
       "    </tr>\n",
       "  </thead>\n",
       "  <tbody>\n",
       "    <tr>\n",
       "      <th>3</th>\n",
       "      <td>ABBV</td>\n",
       "      <td>AbbVie</td>\n",
       "    </tr>\n",
       "    <tr>\n",
       "      <th>4</th>\n",
       "      <td>ACN</td>\n",
       "      <td>Accenture</td>\n",
       "    </tr>\n",
       "    <tr>\n",
       "      <th>5</th>\n",
       "      <td>ADBE</td>\n",
       "      <td>Adobe Inc.</td>\n",
       "    </tr>\n",
       "    <tr>\n",
       "      <th>6</th>\n",
       "      <td>AMD</td>\n",
       "      <td>Advanced Micro Devices</td>\n",
       "    </tr>\n",
       "    <tr>\n",
       "      <th>12</th>\n",
       "      <td>AKAM</td>\n",
       "      <td>Akamai</td>\n",
       "    </tr>\n",
       "    <tr>\n",
       "      <th>...</th>\n",
       "      <td>...</td>\n",
       "      <td>...</td>\n",
       "    </tr>\n",
       "    <tr>\n",
       "      <th>452</th>\n",
       "      <td>TYL</td>\n",
       "      <td>Tyler Technologies</td>\n",
       "    </tr>\n",
       "    <tr>\n",
       "      <th>467</th>\n",
       "      <td>VRSN</td>\n",
       "      <td>Verisign</td>\n",
       "    </tr>\n",
       "    <tr>\n",
       "      <th>470</th>\n",
       "      <td>VRTX</td>\n",
       "      <td>Vertex Pharmaceuticals</td>\n",
       "    </tr>\n",
       "    <tr>\n",
       "      <th>488</th>\n",
       "      <td>WDC</td>\n",
       "      <td>Western Digital</td>\n",
       "    </tr>\n",
       "    <tr>\n",
       "      <th>499</th>\n",
       "      <td>ZBRA</td>\n",
       "      <td>Zebra Technologies</td>\n",
       "    </tr>\n",
       "  </tbody>\n",
       "</table>\n",
       "<p>72 rows × 2 columns</p>\n",
       "</div>"
      ],
      "text/plain": [
       "    Symbol                    Name\n",
       "3     ABBV                  AbbVie\n",
       "4      ACN               Accenture\n",
       "5     ADBE              Adobe Inc.\n",
       "6      AMD  Advanced Micro Devices\n",
       "12    AKAM                  Akamai\n",
       "..     ...                     ...\n",
       "452    TYL      Tyler Technologies\n",
       "467   VRSN                Verisign\n",
       "470   VRTX  Vertex Pharmaceuticals\n",
       "488    WDC         Western Digital\n",
       "499   ZBRA      Zebra Technologies\n",
       "\n",
       "[72 rows x 2 columns]"
      ]
     },
     "execution_count": 170,
     "metadata": {},
     "output_type": "execute_result"
    }
   ],
   "source": [
    "df_sp500.loc[(df_sp500['Sector'].str.contains('information', case = False)) | (df_sp500['Industry'].str.contains('Technology', case = False)), ['Symbol', 'Name']]\n",
    "\n"
   ]
  },
  {
   "cell_type": "code",
   "execution_count": 173,
   "metadata": {},
   "outputs": [
    {
     "data": {
      "text/html": [
       "<div>\n",
       "<style scoped>\n",
       "    .dataframe tbody tr th:only-of-type {\n",
       "        vertical-align: middle;\n",
       "    }\n",
       "\n",
       "    .dataframe tbody tr th {\n",
       "        vertical-align: top;\n",
       "    }\n",
       "\n",
       "    .dataframe thead th {\n",
       "        text-align: right;\n",
       "    }\n",
       "</style>\n",
       "<table border=\"1\" class=\"dataframe\">\n",
       "  <thead>\n",
       "    <tr style=\"text-align: right;\">\n",
       "      <th></th>\n",
       "      <th>Symbol</th>\n",
       "      <th>Name</th>\n",
       "      <th>Sector</th>\n",
       "      <th>Industry</th>\n",
       "    </tr>\n",
       "  </thead>\n",
       "  <tbody>\n",
       "    <tr>\n",
       "      <th>4</th>\n",
       "      <td>ACN</td>\n",
       "      <td>Accenture</td>\n",
       "      <td>Information Technology</td>\n",
       "      <td>IT Consulting &amp; Other Services</td>\n",
       "    </tr>\n",
       "    <tr>\n",
       "      <th>5</th>\n",
       "      <td>ADBE</td>\n",
       "      <td>Adobe Inc.</td>\n",
       "      <td>Information Technology</td>\n",
       "      <td>Application Software</td>\n",
       "    </tr>\n",
       "    <tr>\n",
       "      <th>6</th>\n",
       "      <td>AMD</td>\n",
       "      <td>Advanced Micro Devices</td>\n",
       "      <td>Information Technology</td>\n",
       "      <td>Semiconductors</td>\n",
       "    </tr>\n",
       "    <tr>\n",
       "      <th>12</th>\n",
       "      <td>AKAM</td>\n",
       "      <td>Akamai</td>\n",
       "      <td>Information Technology</td>\n",
       "      <td>Internet Services &amp; Infrastructure</td>\n",
       "    </tr>\n",
       "    <tr>\n",
       "      <th>34</th>\n",
       "      <td>APH</td>\n",
       "      <td>Amphenol</td>\n",
       "      <td>Information Technology</td>\n",
       "      <td>Electronic Components</td>\n",
       "    </tr>\n",
       "    <tr>\n",
       "      <th>...</th>\n",
       "      <td>...</td>\n",
       "      <td>...</td>\n",
       "      <td>...</td>\n",
       "      <td>...</td>\n",
       "    </tr>\n",
       "    <tr>\n",
       "      <th>450</th>\n",
       "      <td>TRMB</td>\n",
       "      <td>Trimble Inc.</td>\n",
       "      <td>Information Technology</td>\n",
       "      <td>Electronic Equipment &amp; Instruments</td>\n",
       "    </tr>\n",
       "    <tr>\n",
       "      <th>452</th>\n",
       "      <td>TYL</td>\n",
       "      <td>Tyler Technologies</td>\n",
       "      <td>Information Technology</td>\n",
       "      <td>Application Software</td>\n",
       "    </tr>\n",
       "    <tr>\n",
       "      <th>467</th>\n",
       "      <td>VRSN</td>\n",
       "      <td>Verisign</td>\n",
       "      <td>Information Technology</td>\n",
       "      <td>Internet Services &amp; Infrastructure</td>\n",
       "    </tr>\n",
       "    <tr>\n",
       "      <th>488</th>\n",
       "      <td>WDC</td>\n",
       "      <td>Western Digital</td>\n",
       "      <td>Information Technology</td>\n",
       "      <td>Technology Hardware, Storage &amp; Peripherals</td>\n",
       "    </tr>\n",
       "    <tr>\n",
       "      <th>499</th>\n",
       "      <td>ZBRA</td>\n",
       "      <td>Zebra Technologies</td>\n",
       "      <td>Information Technology</td>\n",
       "      <td>Electronic Equipment &amp; Instruments</td>\n",
       "    </tr>\n",
       "  </tbody>\n",
       "</table>\n",
       "<p>64 rows × 4 columns</p>\n",
       "</div>"
      ],
      "text/plain": [
       "    Symbol                    Name                  Sector  \\\n",
       "4      ACN               Accenture  Information Technology   \n",
       "5     ADBE              Adobe Inc.  Information Technology   \n",
       "6      AMD  Advanced Micro Devices  Information Technology   \n",
       "12    AKAM                  Akamai  Information Technology   \n",
       "34     APH                Amphenol  Information Technology   \n",
       "..     ...                     ...                     ...   \n",
       "450   TRMB            Trimble Inc.  Information Technology   \n",
       "452    TYL      Tyler Technologies  Information Technology   \n",
       "467   VRSN                Verisign  Information Technology   \n",
       "488    WDC         Western Digital  Information Technology   \n",
       "499   ZBRA      Zebra Technologies  Information Technology   \n",
       "\n",
       "                                       Industry  \n",
       "4                IT Consulting & Other Services  \n",
       "5                          Application Software  \n",
       "6                                Semiconductors  \n",
       "12           Internet Services & Infrastructure  \n",
       "34                        Electronic Components  \n",
       "..                                          ...  \n",
       "450          Electronic Equipment & Instruments  \n",
       "452                        Application Software  \n",
       "467          Internet Services & Infrastructure  \n",
       "488  Technology Hardware, Storage & Peripherals  \n",
       "499          Electronic Equipment & Instruments  \n",
       "\n",
       "[64 rows x 4 columns]"
      ]
     },
     "execution_count": 173,
     "metadata": {},
     "output_type": "execute_result"
    }
   ],
   "source": [
    "information = df_sp500['Sector'].str.contains('information', case = False)\n",
    "application = df_sp500['Sector'].str.contains('application', case = False)\n",
    "df_sp500[information | application]"
   ]
  },
  {
   "cell_type": "markdown",
   "metadata": {},
   "source": [
    "국제 원유 가격\n",
    "국제 원유 가격을 대표하는 3대 유종이 있으며, 생산지와 대표적인 소비지역이 다르다.\n",
    "\n",
    "서부 텍사스 중질유 (POILWTIUSDM): 국제 원유가격을 대표\n",
    "두바이유 (POILDUBUSDM): 한국이 주로 수입(국내 유가에 영향)\n",
    "북해 브렌트유 (POILBREUSDM): 북해에서 생산, 유럽과 아프리카에서 소비\n",
    "FRED 링크는 각각 다음과 같다.\n",
    "\n",
    "- 서부 텍사스 중질유(WTI Crude): https://fred.stlouisfed.org/series/POILWTIUSDM\n",
    "- 두바이유 (Dubai Crude): https://fred.stlouisfed.org/series/POILDUBUSDM\n",
    "- 북해 브렌트유(Brent Crude): https://fred.stlouisfed.org/series/POILBREUSDM"
   ]
  },
  {
   "cell_type": "code",
   "execution_count": null,
   "metadata": {},
   "outputs": [],
   "source": [
    "# %pip install pandas_datareader"
   ]
  },
  {
   "cell_type": "code",
   "execution_count": 179,
   "metadata": {},
   "outputs": [],
   "source": [
    "import pandas as pd\n",
    "import pandas_datareader as pdr\n",
    "\n",
    "df_oil = pdr.DataReader(['POILDUBUSDM', 'POILWTIUSDM', 'POILBREUSDM'], 'fred', start = '1988-01-01')"
   ]
  },
  {
   "cell_type": "code",
   "execution_count": 180,
   "metadata": {},
   "outputs": [
    {
     "data": {
      "text/html": [
       "<div>\n",
       "<style scoped>\n",
       "    .dataframe tbody tr th:only-of-type {\n",
       "        vertical-align: middle;\n",
       "    }\n",
       "\n",
       "    .dataframe tbody tr th {\n",
       "        vertical-align: top;\n",
       "    }\n",
       "\n",
       "    .dataframe thead th {\n",
       "        text-align: right;\n",
       "    }\n",
       "</style>\n",
       "<table border=\"1\" class=\"dataframe\">\n",
       "  <thead>\n",
       "    <tr style=\"text-align: right;\">\n",
       "      <th></th>\n",
       "      <th>POILDUBUSDM</th>\n",
       "      <th>POILWTIUSDM</th>\n",
       "      <th>POILBREUSDM</th>\n",
       "    </tr>\n",
       "    <tr>\n",
       "      <th>DATE</th>\n",
       "      <th></th>\n",
       "      <th></th>\n",
       "      <th></th>\n",
       "    </tr>\n",
       "  </thead>\n",
       "  <tbody>\n",
       "    <tr>\n",
       "      <th>1990-01-01</th>\n",
       "      <td>17.501739</td>\n",
       "      <td>22.604348</td>\n",
       "      <td>20.989130</td>\n",
       "    </tr>\n",
       "    <tr>\n",
       "      <th>1990-02-01</th>\n",
       "      <td>16.681500</td>\n",
       "      <td>22.202500</td>\n",
       "      <td>19.702500</td>\n",
       "    </tr>\n",
       "    <tr>\n",
       "      <th>1990-03-01</th>\n",
       "      <td>15.755909</td>\n",
       "      <td>20.440455</td>\n",
       "      <td>18.465909</td>\n",
       "    </tr>\n",
       "    <tr>\n",
       "      <th>1990-04-01</th>\n",
       "      <td>14.250476</td>\n",
       "      <td>18.526667</td>\n",
       "      <td>16.926190</td>\n",
       "    </tr>\n",
       "    <tr>\n",
       "      <th>1990-05-01</th>\n",
       "      <td>14.647826</td>\n",
       "      <td>18.443043</td>\n",
       "      <td>16.671739</td>\n",
       "    </tr>\n",
       "    <tr>\n",
       "      <th>...</th>\n",
       "      <td>...</td>\n",
       "      <td>...</td>\n",
       "      <td>...</td>\n",
       "    </tr>\n",
       "    <tr>\n",
       "      <th>2023-08-01</th>\n",
       "      <td>86.123043</td>\n",
       "      <td>81.372609</td>\n",
       "      <td>85.168261</td>\n",
       "    </tr>\n",
       "    <tr>\n",
       "      <th>2023-09-01</th>\n",
       "      <td>93.238571</td>\n",
       "      <td>89.240952</td>\n",
       "      <td>92.673333</td>\n",
       "    </tr>\n",
       "    <tr>\n",
       "      <th>2023-10-01</th>\n",
       "      <td>88.787727</td>\n",
       "      <td>85.469091</td>\n",
       "      <td>88.947727</td>\n",
       "    </tr>\n",
       "    <tr>\n",
       "      <th>2023-11-01</th>\n",
       "      <td>82.640909</td>\n",
       "      <td>77.575455</td>\n",
       "      <td>82.186364</td>\n",
       "    </tr>\n",
       "    <tr>\n",
       "      <th>2023-12-01</th>\n",
       "      <td>77.569524</td>\n",
       "      <td>72.019524</td>\n",
       "      <td>77.540952</td>\n",
       "    </tr>\n",
       "  </tbody>\n",
       "</table>\n",
       "<p>408 rows × 3 columns</p>\n",
       "</div>"
      ],
      "text/plain": [
       "            POILDUBUSDM  POILWTIUSDM  POILBREUSDM\n",
       "DATE                                             \n",
       "1990-01-01    17.501739    22.604348    20.989130\n",
       "1990-02-01    16.681500    22.202500    19.702500\n",
       "1990-03-01    15.755909    20.440455    18.465909\n",
       "1990-04-01    14.250476    18.526667    16.926190\n",
       "1990-05-01    14.647826    18.443043    16.671739\n",
       "...                 ...          ...          ...\n",
       "2023-08-01    86.123043    81.372609    85.168261\n",
       "2023-09-01    93.238571    89.240952    92.673333\n",
       "2023-10-01    88.787727    85.469091    88.947727\n",
       "2023-11-01    82.640909    77.575455    82.186364\n",
       "2023-12-01    77.569524    72.019524    77.540952\n",
       "\n",
       "[408 rows x 3 columns]"
      ]
     },
     "execution_count": 180,
     "metadata": {},
     "output_type": "execute_result"
    }
   ],
   "source": [
    "df_oil"
   ]
  },
  {
   "cell_type": "code",
   "execution_count": 182,
   "metadata": {},
   "outputs": [
    {
     "data": {
      "text/html": [
       "<div>\n",
       "<style scoped>\n",
       "    .dataframe tbody tr th:only-of-type {\n",
       "        vertical-align: middle;\n",
       "    }\n",
       "\n",
       "    .dataframe tbody tr th {\n",
       "        vertical-align: top;\n",
       "    }\n",
       "\n",
       "    .dataframe thead th {\n",
       "        text-align: right;\n",
       "    }\n",
       "</style>\n",
       "<table border=\"1\" class=\"dataframe\">\n",
       "  <thead>\n",
       "    <tr style=\"text-align: right;\">\n",
       "      <th></th>\n",
       "      <th>DATE</th>\n",
       "      <th>POILDUBUSDM</th>\n",
       "      <th>POILWTIUSDM</th>\n",
       "      <th>POILBREUSDM</th>\n",
       "    </tr>\n",
       "  </thead>\n",
       "  <tbody>\n",
       "    <tr>\n",
       "      <th>0</th>\n",
       "      <td>1990-01-01</td>\n",
       "      <td>17.501739</td>\n",
       "      <td>22.604348</td>\n",
       "      <td>20.989130</td>\n",
       "    </tr>\n",
       "    <tr>\n",
       "      <th>1</th>\n",
       "      <td>1990-02-01</td>\n",
       "      <td>16.681500</td>\n",
       "      <td>22.202500</td>\n",
       "      <td>19.702500</td>\n",
       "    </tr>\n",
       "    <tr>\n",
       "      <th>2</th>\n",
       "      <td>1990-03-01</td>\n",
       "      <td>15.755909</td>\n",
       "      <td>20.440455</td>\n",
       "      <td>18.465909</td>\n",
       "    </tr>\n",
       "    <tr>\n",
       "      <th>3</th>\n",
       "      <td>1990-04-01</td>\n",
       "      <td>14.250476</td>\n",
       "      <td>18.526667</td>\n",
       "      <td>16.926190</td>\n",
       "    </tr>\n",
       "    <tr>\n",
       "      <th>4</th>\n",
       "      <td>1990-05-01</td>\n",
       "      <td>14.647826</td>\n",
       "      <td>18.443043</td>\n",
       "      <td>16.671739</td>\n",
       "    </tr>\n",
       "    <tr>\n",
       "      <th>...</th>\n",
       "      <td>...</td>\n",
       "      <td>...</td>\n",
       "      <td>...</td>\n",
       "      <td>...</td>\n",
       "    </tr>\n",
       "    <tr>\n",
       "      <th>403</th>\n",
       "      <td>2023-08-01</td>\n",
       "      <td>86.123043</td>\n",
       "      <td>81.372609</td>\n",
       "      <td>85.168261</td>\n",
       "    </tr>\n",
       "    <tr>\n",
       "      <th>404</th>\n",
       "      <td>2023-09-01</td>\n",
       "      <td>93.238571</td>\n",
       "      <td>89.240952</td>\n",
       "      <td>92.673333</td>\n",
       "    </tr>\n",
       "    <tr>\n",
       "      <th>405</th>\n",
       "      <td>2023-10-01</td>\n",
       "      <td>88.787727</td>\n",
       "      <td>85.469091</td>\n",
       "      <td>88.947727</td>\n",
       "    </tr>\n",
       "    <tr>\n",
       "      <th>406</th>\n",
       "      <td>2023-11-01</td>\n",
       "      <td>82.640909</td>\n",
       "      <td>77.575455</td>\n",
       "      <td>82.186364</td>\n",
       "    </tr>\n",
       "    <tr>\n",
       "      <th>407</th>\n",
       "      <td>2023-12-01</td>\n",
       "      <td>77.569524</td>\n",
       "      <td>72.019524</td>\n",
       "      <td>77.540952</td>\n",
       "    </tr>\n",
       "  </tbody>\n",
       "</table>\n",
       "<p>408 rows × 4 columns</p>\n",
       "</div>"
      ],
      "text/plain": [
       "          DATE  POILDUBUSDM  POILWTIUSDM  POILBREUSDM\n",
       "0   1990-01-01    17.501739    22.604348    20.989130\n",
       "1   1990-02-01    16.681500    22.202500    19.702500\n",
       "2   1990-03-01    15.755909    20.440455    18.465909\n",
       "3   1990-04-01    14.250476    18.526667    16.926190\n",
       "4   1990-05-01    14.647826    18.443043    16.671739\n",
       "..         ...          ...          ...          ...\n",
       "403 2023-08-01    86.123043    81.372609    85.168261\n",
       "404 2023-09-01    93.238571    89.240952    92.673333\n",
       "405 2023-10-01    88.787727    85.469091    88.947727\n",
       "406 2023-11-01    82.640909    77.575455    82.186364\n",
       "407 2023-12-01    77.569524    72.019524    77.540952\n",
       "\n",
       "[408 rows x 4 columns]"
      ]
     },
     "execution_count": 182,
     "metadata": {},
     "output_type": "execute_result"
    }
   ],
   "source": [
    "df_oil = df_oil.reset_index()\n",
    "df_oil"
   ]
  },
  {
   "cell_type": "code",
   "execution_count": 183,
   "metadata": {},
   "outputs": [
    {
     "name": "stdout",
     "output_type": "stream",
     "text": [
      "<class 'pandas.core.frame.DataFrame'>\n",
      "RangeIndex: 408 entries, 0 to 407\n",
      "Data columns (total 4 columns):\n",
      " #   Column       Non-Null Count  Dtype         \n",
      "---  ------       --------------  -----         \n",
      " 0   DATE         408 non-null    datetime64[ns]\n",
      " 1   POILDUBUSDM  408 non-null    float64       \n",
      " 2   POILWTIUSDM  408 non-null    float64       \n",
      " 3   POILBREUSDM  408 non-null    float64       \n",
      "dtypes: datetime64[ns](1), float64(3)\n",
      "memory usage: 12.9 KB\n"
     ]
    }
   ],
   "source": [
    "df_oil.info()"
   ]
  },
  {
   "cell_type": "code",
   "execution_count": 184,
   "metadata": {},
   "outputs": [
    {
     "data": {
      "text/plain": [
       "0      1990\n",
       "1      1990\n",
       "2      1990\n",
       "3      1990\n",
       "4      1990\n",
       "       ... \n",
       "403    2023\n",
       "404    2023\n",
       "405    2023\n",
       "406    2023\n",
       "407    2023\n",
       "Name: DATE, Length: 408, dtype: int32"
      ]
     },
     "execution_count": 184,
     "metadata": {},
     "output_type": "execute_result"
    }
   ],
   "source": [
    "df_oil['DATE'].dt.year"
   ]
  },
  {
   "cell_type": "markdown",
   "metadata": {},
   "source": [
    "## 파생변수 만들기"
   ]
  },
  {
   "cell_type": "code",
   "execution_count": 175,
   "metadata": {},
   "outputs": [
    {
     "data": {
      "text/html": [
       "<div>\n",
       "<style scoped>\n",
       "    .dataframe tbody tr th:only-of-type {\n",
       "        vertical-align: middle;\n",
       "    }\n",
       "\n",
       "    .dataframe tbody tr th {\n",
       "        vertical-align: top;\n",
       "    }\n",
       "\n",
       "    .dataframe thead th {\n",
       "        text-align: right;\n",
       "    }\n",
       "</style>\n",
       "<table border=\"1\" class=\"dataframe\">\n",
       "  <thead>\n",
       "    <tr style=\"text-align: right;\">\n",
       "      <th></th>\n",
       "      <th>Code</th>\n",
       "      <th>ISU_CD</th>\n",
       "      <th>Name</th>\n",
       "      <th>Market</th>\n",
       "      <th>Dept</th>\n",
       "      <th>Close</th>\n",
       "      <th>ChangeCode</th>\n",
       "      <th>Changes</th>\n",
       "      <th>ChagesRatio</th>\n",
       "      <th>Open</th>\n",
       "      <th>High</th>\n",
       "      <th>Low</th>\n",
       "      <th>Volume</th>\n",
       "      <th>Amount</th>\n",
       "      <th>Marcap</th>\n",
       "      <th>Stocks</th>\n",
       "      <th>MarketId</th>\n",
       "    </tr>\n",
       "  </thead>\n",
       "  <tbody>\n",
       "    <tr>\n",
       "      <th>0</th>\n",
       "      <td>005930</td>\n",
       "      <td>KR7005930003</td>\n",
       "      <td>삼성전자</td>\n",
       "      <td>KOSPI</td>\n",
       "      <td></td>\n",
       "      <td>74100</td>\n",
       "      <td>2</td>\n",
       "      <td>-900</td>\n",
       "      <td>-1.20</td>\n",
       "      <td>75000</td>\n",
       "      <td>75200</td>\n",
       "      <td>73600</td>\n",
       "      <td>20810708</td>\n",
       "      <td>1545421527910</td>\n",
       "      <td>442360886955000</td>\n",
       "      <td>5969782550</td>\n",
       "      <td>STK</td>\n",
       "    </tr>\n",
       "    <tr>\n",
       "      <th>1</th>\n",
       "      <td>000660</td>\n",
       "      <td>KR7000660001</td>\n",
       "      <td>SK하이닉스</td>\n",
       "      <td>KOSPI</td>\n",
       "      <td></td>\n",
       "      <td>142800</td>\n",
       "      <td>1</td>\n",
       "      <td>4800</td>\n",
       "      <td>3.48</td>\n",
       "      <td>139000</td>\n",
       "      <td>143000</td>\n",
       "      <td>137900</td>\n",
       "      <td>5780714</td>\n",
       "      <td>816463321850</td>\n",
       "      <td>103958737722000</td>\n",
       "      <td>728002365</td>\n",
       "      <td>STK</td>\n",
       "    </tr>\n",
       "    <tr>\n",
       "      <th>2</th>\n",
       "      <td>373220</td>\n",
       "      <td>KR7373220003</td>\n",
       "      <td>LG에너지솔루션</td>\n",
       "      <td>KOSPI</td>\n",
       "      <td></td>\n",
       "      <td>394000</td>\n",
       "      <td>1</td>\n",
       "      <td>8000</td>\n",
       "      <td>2.07</td>\n",
       "      <td>397500</td>\n",
       "      <td>397500</td>\n",
       "      <td>386500</td>\n",
       "      <td>314399</td>\n",
       "      <td>122964472500</td>\n",
       "      <td>92196000000000</td>\n",
       "      <td>234000000</td>\n",
       "      <td>STK</td>\n",
       "    </tr>\n",
       "    <tr>\n",
       "      <th>3</th>\n",
       "      <td>207940</td>\n",
       "      <td>KR7207940008</td>\n",
       "      <td>삼성바이오로직스</td>\n",
       "      <td>KOSPI</td>\n",
       "      <td></td>\n",
       "      <td>815000</td>\n",
       "      <td>2</td>\n",
       "      <td>-11000</td>\n",
       "      <td>-1.33</td>\n",
       "      <td>831000</td>\n",
       "      <td>833000</td>\n",
       "      <td>802000</td>\n",
       "      <td>99897</td>\n",
       "      <td>81513172503</td>\n",
       "      <td>58006810000000</td>\n",
       "      <td>71174000</td>\n",
       "      <td>STK</td>\n",
       "    </tr>\n",
       "    <tr>\n",
       "      <th>4</th>\n",
       "      <td>005380</td>\n",
       "      <td>KR7005380001</td>\n",
       "      <td>현대차</td>\n",
       "      <td>KOSPI</td>\n",
       "      <td></td>\n",
       "      <td>250000</td>\n",
       "      <td>1</td>\n",
       "      <td>5000</td>\n",
       "      <td>2.04</td>\n",
       "      <td>243000</td>\n",
       "      <td>250500</td>\n",
       "      <td>241500</td>\n",
       "      <td>3017429</td>\n",
       "      <td>747064687000</td>\n",
       "      <td>52882876500000</td>\n",
       "      <td>211531506</td>\n",
       "      <td>STK</td>\n",
       "    </tr>\n",
       "    <tr>\n",
       "      <th>...</th>\n",
       "      <td>...</td>\n",
       "      <td>...</td>\n",
       "      <td>...</td>\n",
       "      <td>...</td>\n",
       "      <td>...</td>\n",
       "      <td>...</td>\n",
       "      <td>...</td>\n",
       "      <td>...</td>\n",
       "      <td>...</td>\n",
       "      <td>...</td>\n",
       "      <td>...</td>\n",
       "      <td>...</td>\n",
       "      <td>...</td>\n",
       "      <td>...</td>\n",
       "      <td>...</td>\n",
       "      <td>...</td>\n",
       "      <td>...</td>\n",
       "    </tr>\n",
       "    <tr>\n",
       "      <th>2788</th>\n",
       "      <td>288490</td>\n",
       "      <td>KR7288490006</td>\n",
       "      <td>나라소프트</td>\n",
       "      <td>KONEX</td>\n",
       "      <td>일반기업부</td>\n",
       "      <td>49</td>\n",
       "      <td>3</td>\n",
       "      <td>0</td>\n",
       "      <td>0.00</td>\n",
       "      <td>50</td>\n",
       "      <td>50</td>\n",
       "      <td>46</td>\n",
       "      <td>37336</td>\n",
       "      <td>1766665</td>\n",
       "      <td>2568321868</td>\n",
       "      <td>52414732</td>\n",
       "      <td>KNX</td>\n",
       "    </tr>\n",
       "    <tr>\n",
       "      <th>2789</th>\n",
       "      <td>245450</td>\n",
       "      <td>KR7245450002</td>\n",
       "      <td>씨앤에스링크</td>\n",
       "      <td>KONEX</td>\n",
       "      <td>일반기업부</td>\n",
       "      <td>1486</td>\n",
       "      <td>2</td>\n",
       "      <td>-3</td>\n",
       "      <td>-0.20</td>\n",
       "      <td>0</td>\n",
       "      <td>0</td>\n",
       "      <td>0</td>\n",
       "      <td>0</td>\n",
       "      <td>0</td>\n",
       "      <td>2347820560</td>\n",
       "      <td>1579960</td>\n",
       "      <td>KNX</td>\n",
       "    </tr>\n",
       "    <tr>\n",
       "      <th>2790</th>\n",
       "      <td>308700</td>\n",
       "      <td>KR7308700004</td>\n",
       "      <td>테크엔</td>\n",
       "      <td>KONEX</td>\n",
       "      <td>일반기업부</td>\n",
       "      <td>340</td>\n",
       "      <td>5</td>\n",
       "      <td>-60</td>\n",
       "      <td>-15.00</td>\n",
       "      <td>340</td>\n",
       "      <td>448</td>\n",
       "      <td>340</td>\n",
       "      <td>4644</td>\n",
       "      <td>1610044</td>\n",
       "      <td>1360000000</td>\n",
       "      <td>4000000</td>\n",
       "      <td>KNX</td>\n",
       "    </tr>\n",
       "    <tr>\n",
       "      <th>2791</th>\n",
       "      <td>322190</td>\n",
       "      <td>KR7322190000</td>\n",
       "      <td>베른</td>\n",
       "      <td>KONEX</td>\n",
       "      <td>일반기업부</td>\n",
       "      <td>114</td>\n",
       "      <td>1</td>\n",
       "      <td>7</td>\n",
       "      <td>6.54</td>\n",
       "      <td>123</td>\n",
       "      <td>123</td>\n",
       "      <td>94</td>\n",
       "      <td>16</td>\n",
       "      <td>1806</td>\n",
       "      <td>1017472458</td>\n",
       "      <td>8925197</td>\n",
       "      <td>KNX</td>\n",
       "    </tr>\n",
       "    <tr>\n",
       "      <th>2792</th>\n",
       "      <td>114120</td>\n",
       "      <td>KR7114120009</td>\n",
       "      <td>크루셜텍</td>\n",
       "      <td>KOSDAQ</td>\n",
       "      <td>관리종목(소속부없음)</td>\n",
       "      <td>375</td>\n",
       "      <td>2</td>\n",
       "      <td>-20</td>\n",
       "      <td>-5.06</td>\n",
       "      <td>447</td>\n",
       "      <td>447</td>\n",
       "      <td>353</td>\n",
       "      <td>1263557</td>\n",
       "      <td>477450176</td>\n",
       "      <td>861049125</td>\n",
       "      <td>2296131</td>\n",
       "      <td>KSQ</td>\n",
       "    </tr>\n",
       "  </tbody>\n",
       "</table>\n",
       "<p>2793 rows × 17 columns</p>\n",
       "</div>"
      ],
      "text/plain": [
       "        Code        ISU_CD      Name  Market         Dept   Close ChangeCode  \\\n",
       "0     005930  KR7005930003      삼성전자   KOSPI                74100          2   \n",
       "1     000660  KR7000660001    SK하이닉스   KOSPI               142800          1   \n",
       "2     373220  KR7373220003  LG에너지솔루션   KOSPI               394000          1   \n",
       "3     207940  KR7207940008  삼성바이오로직스   KOSPI               815000          2   \n",
       "4     005380  KR7005380001       현대차   KOSPI               250000          1   \n",
       "...      ...           ...       ...     ...          ...     ...        ...   \n",
       "2788  288490  KR7288490006     나라소프트   KONEX        일반기업부      49          3   \n",
       "2789  245450  KR7245450002    씨앤에스링크   KONEX        일반기업부    1486          2   \n",
       "2790  308700  KR7308700004       테크엔   KONEX        일반기업부     340          5   \n",
       "2791  322190  KR7322190000        베른   KONEX        일반기업부     114          1   \n",
       "2792  114120  KR7114120009      크루셜텍  KOSDAQ  관리종목(소속부없음)     375          2   \n",
       "\n",
       "      Changes  ChagesRatio    Open    High     Low    Volume         Amount  \\\n",
       "0        -900        -1.20   75000   75200   73600  20810708  1545421527910   \n",
       "1        4800         3.48  139000  143000  137900   5780714   816463321850   \n",
       "2        8000         2.07  397500  397500  386500    314399   122964472500   \n",
       "3      -11000        -1.33  831000  833000  802000     99897    81513172503   \n",
       "4        5000         2.04  243000  250500  241500   3017429   747064687000   \n",
       "...       ...          ...     ...     ...     ...       ...            ...   \n",
       "2788        0         0.00      50      50      46     37336        1766665   \n",
       "2789       -3        -0.20       0       0       0         0              0   \n",
       "2790      -60       -15.00     340     448     340      4644        1610044   \n",
       "2791        7         6.54     123     123      94        16           1806   \n",
       "2792      -20        -5.06     447     447     353   1263557      477450176   \n",
       "\n",
       "               Marcap      Stocks MarketId  \n",
       "0     442360886955000  5969782550      STK  \n",
       "1     103958737722000   728002365      STK  \n",
       "2      92196000000000   234000000      STK  \n",
       "3      58006810000000    71174000      STK  \n",
       "4      52882876500000   211531506      STK  \n",
       "...               ...         ...      ...  \n",
       "2788       2568321868    52414732      KNX  \n",
       "2789       2347820560     1579960      KNX  \n",
       "2790       1360000000     4000000      KNX  \n",
       "2791       1017472458     8925197      KNX  \n",
       "2792        861049125     2296131      KSQ  \n",
       "\n",
       "[2793 rows x 17 columns]"
      ]
     },
     "execution_count": 175,
     "metadata": {},
     "output_type": "execute_result"
    }
   ],
   "source": [
    "df_krx"
   ]
  },
  {
   "cell_type": "code",
   "execution_count": 189,
   "metadata": {},
   "outputs": [
    {
     "data": {
      "text/html": [
       "<div>\n",
       "<style scoped>\n",
       "    .dataframe tbody tr th:only-of-type {\n",
       "        vertical-align: middle;\n",
       "    }\n",
       "\n",
       "    .dataframe tbody tr th {\n",
       "        vertical-align: top;\n",
       "    }\n",
       "\n",
       "    .dataframe thead th {\n",
       "        text-align: right;\n",
       "    }\n",
       "</style>\n",
       "<table border=\"1\" class=\"dataframe\">\n",
       "  <thead>\n",
       "    <tr style=\"text-align: right;\">\n",
       "      <th></th>\n",
       "      <th>회사명</th>\n",
       "      <th>종목코드</th>\n",
       "      <th>업종</th>\n",
       "      <th>주요제품</th>\n",
       "      <th>상장일</th>\n",
       "      <th>결산월</th>\n",
       "      <th>대표자명</th>\n",
       "      <th>홈페이지</th>\n",
       "      <th>지역</th>\n",
       "    </tr>\n",
       "  </thead>\n",
       "  <tbody>\n",
       "    <tr>\n",
       "      <th>0</th>\n",
       "      <td>BGF리테일</td>\n",
       "      <td>282330</td>\n",
       "      <td>종합 소매업</td>\n",
       "      <td>체인화 편의점</td>\n",
       "      <td>2017-12-08</td>\n",
       "      <td>12월</td>\n",
       "      <td>민승배</td>\n",
       "      <td>http://www.bgfretail.com</td>\n",
       "      <td>서울특별시</td>\n",
       "    </tr>\n",
       "    <tr>\n",
       "      <th>1</th>\n",
       "      <td>DL건설</td>\n",
       "      <td>1880</td>\n",
       "      <td>건물 건설업</td>\n",
       "      <td>도로건설공사,토목공사,건축공사,조경공사/부동산 임대,매매</td>\n",
       "      <td>1977-12-22</td>\n",
       "      <td>12월</td>\n",
       "      <td>박유신</td>\n",
       "      <td>http://www.dlconstruction.co.kr</td>\n",
       "      <td>인천광역시</td>\n",
       "    </tr>\n",
       "    <tr>\n",
       "      <th>2</th>\n",
       "      <td>DRB동일</td>\n",
       "      <td>4840</td>\n",
       "      <td>고무제품 제조업</td>\n",
       "      <td>고무벨트(V벨트,콘베이어벨트,평벨트),프라스틱제품 제조,판매</td>\n",
       "      <td>1976-05-21</td>\n",
       "      <td>12월</td>\n",
       "      <td>류영식</td>\n",
       "      <td>http://www.drbworld.com</td>\n",
       "      <td>부산광역시</td>\n",
       "    </tr>\n",
       "    <tr>\n",
       "      <th>3</th>\n",
       "      <td>E1</td>\n",
       "      <td>17940</td>\n",
       "      <td>기타 전문 도매업</td>\n",
       "      <td>LPG(프로판,부탄가스),가스기기판매</td>\n",
       "      <td>1997-08-27</td>\n",
       "      <td>12월</td>\n",
       "      <td>구자용, 천정식 (각자 대표이사)</td>\n",
       "      <td>http://www.e1.co.kr</td>\n",
       "      <td>서울특별시</td>\n",
       "    </tr>\n",
       "    <tr>\n",
       "      <th>4</th>\n",
       "      <td>HDC</td>\n",
       "      <td>12630</td>\n",
       "      <td>기타 금융업</td>\n",
       "      <td>토목공사,건축공사,아파트분양사업,재개발/재건축사업</td>\n",
       "      <td>1996-10-16</td>\n",
       "      <td>12월</td>\n",
       "      <td>정몽규, 정경구</td>\n",
       "      <td>http://www.i-park.com</td>\n",
       "      <td>서울특별시</td>\n",
       "    </tr>\n",
       "    <tr>\n",
       "      <th>...</th>\n",
       "      <td>...</td>\n",
       "      <td>...</td>\n",
       "      <td>...</td>\n",
       "      <td>...</td>\n",
       "      <td>...</td>\n",
       "      <td>...</td>\n",
       "      <td>...</td>\n",
       "      <td>...</td>\n",
       "      <td>...</td>\n",
       "    </tr>\n",
       "    <tr>\n",
       "      <th>2671</th>\n",
       "      <td>지에프씨생명과학</td>\n",
       "      <td>388610</td>\n",
       "      <td>기타 화학제품 제조업</td>\n",
       "      <td>화장품 바이오 소재 및 임상실험</td>\n",
       "      <td>2022-12-23</td>\n",
       "      <td>12월</td>\n",
       "      <td>강희철 / 표형배</td>\n",
       "      <td>http://www.gfcos.co.kr/</td>\n",
       "      <td>경기도</td>\n",
       "    </tr>\n",
       "    <tr>\n",
       "      <th>2672</th>\n",
       "      <td>큐러블</td>\n",
       "      <td>86460</td>\n",
       "      <td>자연과학 및 공학 연구개발업</td>\n",
       "      <td>유전체 분석 서비스</td>\n",
       "      <td>2013-07-01</td>\n",
       "      <td>12월</td>\n",
       "      <td>김승일</td>\n",
       "      <td>http://www.snp-genetics.com</td>\n",
       "      <td>경기도</td>\n",
       "    </tr>\n",
       "    <tr>\n",
       "      <th>2673</th>\n",
       "      <td>틸론</td>\n",
       "      <td>217880</td>\n",
       "      <td>소프트웨어 개발 및 공급업</td>\n",
       "      <td>가상화 솔루션(D,A,V,E,I,T Solution) 및 ecloud.com</td>\n",
       "      <td>2015-05-28</td>\n",
       "      <td>12월</td>\n",
       "      <td>최용호</td>\n",
       "      <td>http://www.tilon.com</td>\n",
       "      <td>서울특별시</td>\n",
       "    </tr>\n",
       "    <tr>\n",
       "      <th>2674</th>\n",
       "      <td>파워풀엑스</td>\n",
       "      <td>266870</td>\n",
       "      <td>기타 화학제품 제조업</td>\n",
       "      <td>플렉스파워 리커버리크림</td>\n",
       "      <td>2017-04-24</td>\n",
       "      <td>12월</td>\n",
       "      <td>박인철</td>\n",
       "      <td>http://www.flexpower.co.kr</td>\n",
       "      <td>서울특별시</td>\n",
       "    </tr>\n",
       "    <tr>\n",
       "      <th>2675</th>\n",
       "      <td>한중엔시에스</td>\n",
       "      <td>107640</td>\n",
       "      <td>자동차 신품 부품 제조업</td>\n",
       "      <td>자동차 신품 부품제조업(배기시스템부품, Electroinc, 전기차 밧데리 모듈 부...</td>\n",
       "      <td>2013-12-10</td>\n",
       "      <td>12월</td>\n",
       "      <td>김환식</td>\n",
       "      <td>http://www.hjncs.com</td>\n",
       "      <td>경상북도</td>\n",
       "    </tr>\n",
       "  </tbody>\n",
       "</table>\n",
       "<p>2676 rows × 9 columns</p>\n",
       "</div>"
      ],
      "text/plain": [
       "           회사명    종목코드               업종  \\\n",
       "0       BGF리테일  282330           종합 소매업   \n",
       "1         DL건설    1880           건물 건설업   \n",
       "2        DRB동일    4840         고무제품 제조업   \n",
       "3           E1   17940        기타 전문 도매업   \n",
       "4          HDC   12630           기타 금융업   \n",
       "...        ...     ...              ...   \n",
       "2671  지에프씨생명과학  388610      기타 화학제품 제조업   \n",
       "2672       큐러블   86460  자연과학 및 공학 연구개발업   \n",
       "2673        틸론  217880   소프트웨어 개발 및 공급업   \n",
       "2674     파워풀엑스  266870      기타 화학제품 제조업   \n",
       "2675    한중엔시에스  107640    자동차 신품 부품 제조업   \n",
       "\n",
       "                                                   주요제품         상장일  결산월  \\\n",
       "0                                               체인화 편의점  2017-12-08  12월   \n",
       "1                       도로건설공사,토목공사,건축공사,조경공사/부동산 임대,매매  1977-12-22  12월   \n",
       "2                     고무벨트(V벨트,콘베이어벨트,평벨트),프라스틱제품 제조,판매  1976-05-21  12월   \n",
       "3                                  LPG(프로판,부탄가스),가스기기판매  1997-08-27  12월   \n",
       "4                           토목공사,건축공사,아파트분양사업,재개발/재건축사업  1996-10-16  12월   \n",
       "...                                                 ...         ...  ...   \n",
       "2671                                  화장품 바이오 소재 및 임상실험  2022-12-23  12월   \n",
       "2672                                         유전체 분석 서비스  2013-07-01  12월   \n",
       "2673         가상화 솔루션(D,A,V,E,I,T Solution) 및 ecloud.com  2015-05-28  12월   \n",
       "2674                                       플렉스파워 리커버리크림  2017-04-24  12월   \n",
       "2675  자동차 신품 부품제조업(배기시스템부품, Electroinc, 전기차 밧데리 모듈 부...  2013-12-10  12월   \n",
       "\n",
       "                    대표자명                             홈페이지     지역  \n",
       "0                    민승배         http://www.bgfretail.com  서울특별시  \n",
       "1                    박유신  http://www.dlconstruction.co.kr  인천광역시  \n",
       "2                    류영식          http://www.drbworld.com  부산광역시  \n",
       "3     구자용, 천정식 (각자 대표이사)              http://www.e1.co.kr  서울특별시  \n",
       "4               정몽규, 정경구            http://www.i-park.com  서울특별시  \n",
       "...                  ...                              ...    ...  \n",
       "2671           강희철 / 표형배          http://www.gfcos.co.kr/    경기도  \n",
       "2672                 김승일      http://www.snp-genetics.com    경기도  \n",
       "2673                 최용호             http://www.tilon.com  서울특별시  \n",
       "2674                 박인철       http://www.flexpower.co.kr  서울특별시  \n",
       "2675                 김환식             http://www.hjncs.com   경상북도  \n",
       "\n",
       "[2676 rows x 9 columns]"
      ]
     },
     "execution_count": 189,
     "metadata": {},
     "output_type": "execute_result"
    }
   ],
   "source": [
    "df"
   ]
  },
  {
   "cell_type": "code",
   "execution_count": 192,
   "metadata": {},
   "outputs": [
    {
     "data": {
      "text/html": [
       "<div>\n",
       "<style scoped>\n",
       "    .dataframe tbody tr th:only-of-type {\n",
       "        vertical-align: middle;\n",
       "    }\n",
       "\n",
       "    .dataframe tbody tr th {\n",
       "        vertical-align: top;\n",
       "    }\n",
       "\n",
       "    .dataframe thead th {\n",
       "        text-align: right;\n",
       "    }\n",
       "</style>\n",
       "<table border=\"1\" class=\"dataframe\">\n",
       "  <thead>\n",
       "    <tr style=\"text-align: right;\">\n",
       "      <th></th>\n",
       "      <th>회사명</th>\n",
       "      <th>종목코드</th>\n",
       "      <th>업종</th>\n",
       "      <th>주요제품</th>\n",
       "      <th>상장일</th>\n",
       "      <th>결산월</th>\n",
       "      <th>대표자명</th>\n",
       "      <th>홈페이지</th>\n",
       "      <th>지역</th>\n",
       "    </tr>\n",
       "  </thead>\n",
       "  <tbody>\n",
       "    <tr>\n",
       "      <th>43</th>\n",
       "      <td>삼성중공업</td>\n",
       "      <td>10140</td>\n",
       "      <td>선박 및 보트 건조업</td>\n",
       "      <td>선박(벌크선,원유운반선),철구조물,에너지플랜트 생산,판매/토목건축업</td>\n",
       "      <td>1994-01-28</td>\n",
       "      <td>12월</td>\n",
       "      <td>최성안, 정진택</td>\n",
       "      <td>http://www.samsungshi.com</td>\n",
       "      <td>경기도</td>\n",
       "    </tr>\n",
       "    <tr>\n",
       "      <th>44</th>\n",
       "      <td>삼성출판사</td>\n",
       "      <td>68290</td>\n",
       "      <td>서적, 잡지 및 기타 인쇄물 출판업</td>\n",
       "      <td>서적 출판,인쇄,소매/부동산 임대</td>\n",
       "      <td>2002-08-05</td>\n",
       "      <td>12월</td>\n",
       "      <td>김진용</td>\n",
       "      <td>http://www.samsungbooks.com</td>\n",
       "      <td>서울특별시</td>\n",
       "    </tr>\n",
       "    <tr>\n",
       "      <th>45</th>\n",
       "      <td>삼성카드</td>\n",
       "      <td>29780</td>\n",
       "      <td>기타 금융업</td>\n",
       "      <td>신용카드업,상품신용판매,현금서비스,카드론,리스,기업대출,여행업무,통신판매</td>\n",
       "      <td>2007-06-27</td>\n",
       "      <td>12월</td>\n",
       "      <td>김대환</td>\n",
       "      <td>http://www.samsungcard.co.kr</td>\n",
       "      <td>서울특별시</td>\n",
       "    </tr>\n",
       "    <tr>\n",
       "      <th>163</th>\n",
       "      <td>삼성스팩9호</td>\n",
       "      <td>468510</td>\n",
       "      <td>금융 지원 서비스업</td>\n",
       "      <td>기업인수합병</td>\n",
       "      <td>2023-12-04</td>\n",
       "      <td>12월</td>\n",
       "      <td>오정헌</td>\n",
       "      <td>NaN</td>\n",
       "      <td>서울특별시</td>\n",
       "    </tr>\n",
       "    <tr>\n",
       "      <th>371</th>\n",
       "      <td>삼성생명</td>\n",
       "      <td>32830</td>\n",
       "      <td>보험업</td>\n",
       "      <td>생명보험,부동산 임대</td>\n",
       "      <td>2010-05-12</td>\n",
       "      <td>12월</td>\n",
       "      <td>전영묵</td>\n",
       "      <td>http://www.samsunglife.com</td>\n",
       "      <td>서울특별시</td>\n",
       "    </tr>\n",
       "    <tr>\n",
       "      <th>372</th>\n",
       "      <td>삼성전자</td>\n",
       "      <td>5930</td>\n",
       "      <td>통신 및 방송 장비 제조업</td>\n",
       "      <td>통신 및 방송 장비 제조(무선) 제품, 반도체 제조(메모리) 제품, 전자부품 제조(...</td>\n",
       "      <td>1975-06-11</td>\n",
       "      <td>12월</td>\n",
       "      <td>한종희, 경계현</td>\n",
       "      <td>http://www.samsung.com/sec</td>\n",
       "      <td>경기도</td>\n",
       "    </tr>\n",
       "    <tr>\n",
       "      <th>482</th>\n",
       "      <td>삼성스팩8호</td>\n",
       "      <td>448740</td>\n",
       "      <td>금융 지원 서비스업</td>\n",
       "      <td>기업인수합병</td>\n",
       "      <td>2023-03-02</td>\n",
       "      <td>12월</td>\n",
       "      <td>안신영</td>\n",
       "      <td>NaN</td>\n",
       "      <td>서울특별시</td>\n",
       "    </tr>\n",
       "    <tr>\n",
       "      <th>671</th>\n",
       "      <td>삼성FN리츠</td>\n",
       "      <td>448730</td>\n",
       "      <td>부동산 임대 및 공급업</td>\n",
       "      <td>대치타워 및 에스원빌딩</td>\n",
       "      <td>2023-04-10</td>\n",
       "      <td>01월</td>\n",
       "      <td>윤양수</td>\n",
       "      <td>http://www.samsungfnreit.com/</td>\n",
       "      <td>서울특별시</td>\n",
       "    </tr>\n",
       "    <tr>\n",
       "      <th>806</th>\n",
       "      <td>삼성스팩6호</td>\n",
       "      <td>425290</td>\n",
       "      <td>금융 지원 서비스업</td>\n",
       "      <td>기업인수합병</td>\n",
       "      <td>2022-06-30</td>\n",
       "      <td>12월</td>\n",
       "      <td>이주혁</td>\n",
       "      <td>NaN</td>\n",
       "      <td>서울특별시</td>\n",
       "    </tr>\n",
       "    <tr>\n",
       "      <th>1010</th>\n",
       "      <td>삼성공조</td>\n",
       "      <td>6660</td>\n",
       "      <td>자동차 신품 부품 제조업</td>\n",
       "      <td>자동차부품(라디에터,오일쿨러) 제조,판매</td>\n",
       "      <td>1987-11-28</td>\n",
       "      <td>12월</td>\n",
       "      <td>고호곤</td>\n",
       "      <td>http://www.samsungcc.co.kr</td>\n",
       "      <td>경상남도</td>\n",
       "    </tr>\n",
       "    <tr>\n",
       "      <th>1011</th>\n",
       "      <td>삼성증권</td>\n",
       "      <td>16360</td>\n",
       "      <td>금융 지원 서비스업</td>\n",
       "      <td>유가증권의 매매,위탁매매,인수주선</td>\n",
       "      <td>1988-03-28</td>\n",
       "      <td>12월</td>\n",
       "      <td>이종완</td>\n",
       "      <td>http://www.samsungpop.com</td>\n",
       "      <td>서울특별시</td>\n",
       "    </tr>\n",
       "    <tr>\n",
       "      <th>1370</th>\n",
       "      <td>삼성SDI</td>\n",
       "      <td>6400</td>\n",
       "      <td>일차전지 및 축전지 제조업</td>\n",
       "      <td>2차전지, 전자재료 제조 판매</td>\n",
       "      <td>1979-02-27</td>\n",
       "      <td>12월</td>\n",
       "      <td>최윤호</td>\n",
       "      <td>http://www.samsungsdi.co.kr</td>\n",
       "      <td>경기도</td>\n",
       "    </tr>\n",
       "    <tr>\n",
       "      <th>1718</th>\n",
       "      <td>삼성물산</td>\n",
       "      <td>28260</td>\n",
       "      <td>기타 전문 도매업</td>\n",
       "      <td>도소매, 건설, 남자용 정장 제조업 등</td>\n",
       "      <td>2014-12-18</td>\n",
       "      <td>12월</td>\n",
       "      <td>고정석, 오세철, 정해린</td>\n",
       "      <td>http://www.samsungcnt.com</td>\n",
       "      <td>서울특별시</td>\n",
       "    </tr>\n",
       "    <tr>\n",
       "      <th>1719</th>\n",
       "      <td>삼성바이오로직스</td>\n",
       "      <td>207940</td>\n",
       "      <td>기초 의약물질 및 생물학적 제제 제조업</td>\n",
       "      <td>바이오의약품</td>\n",
       "      <td>2016-11-10</td>\n",
       "      <td>12월</td>\n",
       "      <td>임존종보 (Rim John Chongbo)</td>\n",
       "      <td>http://www.samsungbiologics.com</td>\n",
       "      <td>인천광역시</td>\n",
       "    </tr>\n",
       "    <tr>\n",
       "      <th>1720</th>\n",
       "      <td>삼성엔지니어링</td>\n",
       "      <td>28050</td>\n",
       "      <td>건축기술, 엔지니어링 및 관련 기술 서비스업</td>\n",
       "      <td>산업설비,건물,구축물,토목시설의 설계,시공,공사감리</td>\n",
       "      <td>1996-12-24</td>\n",
       "      <td>12월</td>\n",
       "      <td>남궁홍</td>\n",
       "      <td>http://www.samsungengineering.co.kr</td>\n",
       "      <td>서울특별시</td>\n",
       "    </tr>\n",
       "    <tr>\n",
       "      <th>1721</th>\n",
       "      <td>삼성전기</td>\n",
       "      <td>9150</td>\n",
       "      <td>전자부품 제조업</td>\n",
       "      <td>수동소자 (MLCC, Inductor, Chip Resistor 등), 모듈(카메라...</td>\n",
       "      <td>1979-02-27</td>\n",
       "      <td>12월</td>\n",
       "      <td>장덕현</td>\n",
       "      <td>http://www.sem.samsung.co.kr</td>\n",
       "      <td>경기도</td>\n",
       "    </tr>\n",
       "    <tr>\n",
       "      <th>2040</th>\n",
       "      <td>삼성에스디에스</td>\n",
       "      <td>18260</td>\n",
       "      <td>컴퓨터 프로그래밍, 시스템 통합 및 관리업</td>\n",
       "      <td>IT서비스, 물류BPO</td>\n",
       "      <td>2014-11-14</td>\n",
       "      <td>12월</td>\n",
       "      <td>황성우</td>\n",
       "      <td>http://www.samsungsds.com</td>\n",
       "      <td>서울특별시</td>\n",
       "    </tr>\n",
       "    <tr>\n",
       "      <th>2041</th>\n",
       "      <td>삼성제약</td>\n",
       "      <td>1360</td>\n",
       "      <td>의약품 제조업</td>\n",
       "      <td>의약품(까스명수,쓸기담,에프킬라에어졸,액체우황청심원) 제조,도매</td>\n",
       "      <td>1975-07-04</td>\n",
       "      <td>12월</td>\n",
       "      <td>김상재, 정성택</td>\n",
       "      <td>http://www.sspharm.co.kr</td>\n",
       "      <td>경기도</td>\n",
       "    </tr>\n",
       "    <tr>\n",
       "      <th>2042</th>\n",
       "      <td>삼성화재해상보험</td>\n",
       "      <td>810</td>\n",
       "      <td>보험업</td>\n",
       "      <td>손해보험의 원수,재보험,운용자산의 투자활동</td>\n",
       "      <td>1975-06-30</td>\n",
       "      <td>12월</td>\n",
       "      <td>홍성우</td>\n",
       "      <td>http://www.samsungfire.com</td>\n",
       "      <td>서울특별시</td>\n",
       "    </tr>\n",
       "    <tr>\n",
       "      <th>2508</th>\n",
       "      <td>삼성스팩7호</td>\n",
       "      <td>439250</td>\n",
       "      <td>금융 지원 서비스업</td>\n",
       "      <td>기업인수합병</td>\n",
       "      <td>2022-10-26</td>\n",
       "      <td>12월</td>\n",
       "      <td>이지연</td>\n",
       "      <td>NaN</td>\n",
       "      <td>서울특별시</td>\n",
       "    </tr>\n",
       "  </tbody>\n",
       "</table>\n",
       "</div>"
      ],
      "text/plain": [
       "           회사명    종목코드                        업종  \\\n",
       "43       삼성중공업   10140               선박 및 보트 건조업   \n",
       "44       삼성출판사   68290       서적, 잡지 및 기타 인쇄물 출판업   \n",
       "45        삼성카드   29780                    기타 금융업   \n",
       "163     삼성스팩9호  468510                금융 지원 서비스업   \n",
       "371       삼성생명   32830                       보험업   \n",
       "372       삼성전자    5930            통신 및 방송 장비 제조업   \n",
       "482     삼성스팩8호  448740                금융 지원 서비스업   \n",
       "671     삼성FN리츠  448730              부동산 임대 및 공급업   \n",
       "806     삼성스팩6호  425290                금융 지원 서비스업   \n",
       "1010      삼성공조    6660             자동차 신품 부품 제조업   \n",
       "1011      삼성증권   16360                금융 지원 서비스업   \n",
       "1370     삼성SDI    6400            일차전지 및 축전지 제조업   \n",
       "1718      삼성물산   28260                 기타 전문 도매업   \n",
       "1719  삼성바이오로직스  207940     기초 의약물질 및 생물학적 제제 제조업   \n",
       "1720   삼성엔지니어링   28050  건축기술, 엔지니어링 및 관련 기술 서비스업   \n",
       "1721      삼성전기    9150                  전자부품 제조업   \n",
       "2040   삼성에스디에스   18260   컴퓨터 프로그래밍, 시스템 통합 및 관리업   \n",
       "2041      삼성제약    1360                   의약품 제조업   \n",
       "2042  삼성화재해상보험     810                       보험업   \n",
       "2508    삼성스팩7호  439250                금융 지원 서비스업   \n",
       "\n",
       "                                                   주요제품         상장일  결산월  \\\n",
       "43                선박(벌크선,원유운반선),철구조물,에너지플랜트 생산,판매/토목건축업  1994-01-28  12월   \n",
       "44                                   서적 출판,인쇄,소매/부동산 임대  2002-08-05  12월   \n",
       "45             신용카드업,상품신용판매,현금서비스,카드론,리스,기업대출,여행업무,통신판매  2007-06-27  12월   \n",
       "163                                              기업인수합병  2023-12-04  12월   \n",
       "371                                         생명보험,부동산 임대  2010-05-12  12월   \n",
       "372   통신 및 방송 장비 제조(무선) 제품, 반도체 제조(메모리) 제품, 전자부품 제조(...  1975-06-11  12월   \n",
       "482                                              기업인수합병  2023-03-02  12월   \n",
       "671                                        대치타워 및 에스원빌딩  2023-04-10  01월   \n",
       "806                                              기업인수합병  2022-06-30  12월   \n",
       "1010                             자동차부품(라디에터,오일쿨러) 제조,판매  1987-11-28  12월   \n",
       "1011                                 유가증권의 매매,위탁매매,인수주선  1988-03-28  12월   \n",
       "1370                                   2차전지, 전자재료 제조 판매  1979-02-27  12월   \n",
       "1718                              도소매, 건설, 남자용 정장 제조업 등  2014-12-18  12월   \n",
       "1719                                             바이오의약품  2016-11-10  12월   \n",
       "1720                       산업설비,건물,구축물,토목시설의 설계,시공,공사감리  1996-12-24  12월   \n",
       "1721  수동소자 (MLCC, Inductor, Chip Resistor 등), 모듈(카메라...  1979-02-27  12월   \n",
       "2040                                       IT서비스, 물류BPO  2014-11-14  12월   \n",
       "2041                의약품(까스명수,쓸기담,에프킬라에어졸,액체우황청심원) 제조,도매  1975-07-04  12월   \n",
       "2042                            손해보험의 원수,재보험,운용자산의 투자활동  1975-06-30  12월   \n",
       "2508                                             기업인수합병  2022-10-26  12월   \n",
       "\n",
       "                         대표자명                                 홈페이지     지역  \n",
       "43                   최성안, 정진택            http://www.samsungshi.com    경기도  \n",
       "44                        김진용          http://www.samsungbooks.com  서울특별시  \n",
       "45                        김대환         http://www.samsungcard.co.kr  서울특별시  \n",
       "163                       오정헌                                  NaN  서울특별시  \n",
       "371                       전영묵           http://www.samsunglife.com  서울특별시  \n",
       "372                  한종희, 경계현           http://www.samsung.com/sec    경기도  \n",
       "482                       안신영                                  NaN  서울특별시  \n",
       "671                       윤양수        http://www.samsungfnreit.com/  서울특별시  \n",
       "806                       이주혁                                  NaN  서울특별시  \n",
       "1010                      고호곤           http://www.samsungcc.co.kr   경상남도  \n",
       "1011                      이종완            http://www.samsungpop.com  서울특별시  \n",
       "1370                      최윤호          http://www.samsungsdi.co.kr    경기도  \n",
       "1718            고정석, 오세철, 정해린            http://www.samsungcnt.com  서울특별시  \n",
       "1719  임존종보 (Rim John Chongbo)      http://www.samsungbiologics.com  인천광역시  \n",
       "1720                      남궁홍  http://www.samsungengineering.co.kr  서울특별시  \n",
       "1721                      장덕현         http://www.sem.samsung.co.kr    경기도  \n",
       "2040                      황성우            http://www.samsungsds.com  서울특별시  \n",
       "2041                 김상재, 정성택             http://www.sspharm.co.kr    경기도  \n",
       "2042                      홍성우           http://www.samsungfire.com  서울특별시  \n",
       "2508                      이지연                                  NaN  서울특별시  "
      ]
     },
     "execution_count": 192,
     "metadata": {},
     "output_type": "execute_result"
    }
   ],
   "source": [
    "df[df['회사명'].str.contains('삼성')]"
   ]
  },
  {
   "cell_type": "code",
   "execution_count": 193,
   "metadata": {},
   "outputs": [
    {
     "name": "stdout",
     "output_type": "stream",
     "text": [
      "<class 'pandas.core.frame.DataFrame'>\n",
      "RangeIndex: 2676 entries, 0 to 2675\n",
      "Data columns (total 9 columns):\n",
      " #   Column  Non-Null Count  Dtype \n",
      "---  ------  --------------  ----- \n",
      " 0   회사명     2676 non-null   object\n",
      " 1   종목코드    2676 non-null   int64 \n",
      " 2   업종      2676 non-null   object\n",
      " 3   주요제품    2662 non-null   object\n",
      " 4   상장일     2676 non-null   object\n",
      " 5   결산월     2676 non-null   object\n",
      " 6   대표자명    2676 non-null   object\n",
      " 7   홈페이지    2503 non-null   object\n",
      " 8   지역      2676 non-null   object\n",
      "dtypes: int64(1), object(8)\n",
      "memory usage: 188.3+ KB\n"
     ]
    }
   ],
   "source": [
    "df.info()"
   ]
  },
  {
   "cell_type": "code",
   "execution_count": 196,
   "metadata": {},
   "outputs": [
    {
     "name": "stdout",
     "output_type": "stream",
     "text": [
      "<class 'pandas.core.frame.DataFrame'>\n",
      "RangeIndex: 2676 entries, 0 to 2675\n",
      "Data columns (total 9 columns):\n",
      " #   Column  Non-Null Count  Dtype         \n",
      "---  ------  --------------  -----         \n",
      " 0   회사명     2676 non-null   object        \n",
      " 1   종목코드    2676 non-null   int64         \n",
      " 2   업종      2676 non-null   object        \n",
      " 3   주요제품    2662 non-null   object        \n",
      " 4   상장일     2676 non-null   datetime64[ns]\n",
      " 5   결산월     2676 non-null   object        \n",
      " 6   대표자명    2676 non-null   object        \n",
      " 7   홈페이지    2503 non-null   object        \n",
      " 8   지역      2676 non-null   object        \n",
      "dtypes: datetime64[ns](1), int64(1), object(7)\n",
      "memory usage: 188.3+ KB\n"
     ]
    }
   ],
   "source": [
    "# pd.to_datetime 을 통해 데이터의 타입을 변환합니다.\n",
    "df['상장일'] = pd.to_datetime(df['상장일'])\n",
    "df.info()"
   ]
  },
  {
   "cell_type": "code",
   "execution_count": 198,
   "metadata": {},
   "outputs": [
    {
     "name": "stdout",
     "output_type": "stream",
     "text": [
      "<class 'pandas.core.frame.DataFrame'>\n",
      "RangeIndex: 2676 entries, 0 to 2675\n",
      "Data columns (total 10 columns):\n",
      " #   Column       Non-Null Count  Dtype         \n",
      "---  ------       --------------  -----         \n",
      " 0   회사명          2676 non-null   object        \n",
      " 1   종목코드         2676 non-null   int64         \n",
      " 2   업종           2676 non-null   object        \n",
      " 3   주요제품         2662 non-null   object        \n",
      " 4   상장일          2676 non-null   datetime64[ns]\n",
      " 5   결산월          2676 non-null   object        \n",
      " 6   대표자명         2676 non-null   object        \n",
      " 7   홈페이지         2503 non-null   object        \n",
      " 8   지역           2676 non-null   object        \n",
      " 9   ListingYear  2676 non-null   int32         \n",
      "dtypes: datetime64[ns](1), int32(1), int64(1), object(7)\n",
      "memory usage: 198.7+ KB\n"
     ]
    }
   ],
   "source": [
    "# ListingYear 파생변수 만들기\n",
    "df['ListingYear'] = df['상장일'].dt.year\n",
    "df.info()"
   ]
  },
  {
   "cell_type": "code",
   "execution_count": 199,
   "metadata": {},
   "outputs": [
    {
     "data": {
      "text/plain": [
       "회사명              0\n",
       "종목코드             0\n",
       "업종               0\n",
       "주요제품            14\n",
       "상장일              0\n",
       "결산월              0\n",
       "대표자명             0\n",
       "홈페이지           173\n",
       "지역               0\n",
       "ListingYear      0\n",
       "dtype: int64"
      ]
     },
     "execution_count": 199,
     "metadata": {},
     "output_type": "execute_result"
    }
   ],
   "source": [
    "# nan은 not a number의 약자로 결측치를 의미합니다.\n",
    "df.isnull().sum()"
   ]
  },
  {
   "cell_type": "code",
   "execution_count": 200,
   "metadata": {},
   "outputs": [
    {
     "data": {
      "text/plain": [
       "회사명              0\n",
       "종목코드             0\n",
       "업종               0\n",
       "주요제품            14\n",
       "상장일              0\n",
       "결산월              0\n",
       "대표자명             0\n",
       "홈페이지           173\n",
       "지역               0\n",
       "ListingYear      0\n",
       "dtype: int64"
      ]
     },
     "execution_count": 200,
     "metadata": {},
     "output_type": "execute_result"
    }
   ],
   "source": [
    "df.isna().sum()"
   ]
  },
  {
   "cell_type": "code",
   "execution_count": 205,
   "metadata": {},
   "outputs": [
    {
     "data": {
      "text/plain": [
       "ListingYear             int32\n",
       "상장일            datetime64[ns]\n",
       "dtype: object"
      ]
     },
     "execution_count": 205,
     "metadata": {},
     "output_type": "execute_result"
    }
   ],
   "source": [
    "df[['ListingYear', '상장일']].dtypes"
   ]
  },
  {
   "cell_type": "markdown",
   "metadata": {},
   "source": [
    "## 데이터 시각화 툴 소개\n",
    "\n",
    "### matplotlib\n",
    "* [Anatomy of a figure — Matplotlib documentation](https://matplotlib.org/3.1.1/gallery/showcase/anatomy.html)\n",
    "\n",
    "### seaborn\n",
    "* [seaborn: statistical data visualization — seaborn documentation](https://seaborn.pydata.org/index.html)\n",
    "\n",
    "### pandas\n",
    "* [Visualization — pandas documentation](https://pandas.pydata.org/pandas-docs/stable/user_guide/visualization.html)"
   ]
  },
  {
   "cell_type": "code",
   "execution_count": 206,
   "metadata": {},
   "outputs": [
    {
     "data": {
      "image/png": "[encoded data removed]",
      "text/plain": [
       "<Figure size 800x800 with 1 Axes>"
      ]
     },
     "metadata": {},
     "output_type": "display_data"
    }
   ],
   "source": [
    "import numpy as np\n",
    "import matplotlib.pyplot as plt\n",
    "from matplotlib.ticker import AutoMinorLocator, MultipleLocator, FuncFormatter\n",
    "\n",
    "np.random.seed(19680801)\n",
    "\n",
    "X = np.linspace(0.5, 3.5, 100)\n",
    "Y1 = 3+np.cos(X)\n",
    "Y2 = 1+np.cos(1+X/0.75)/2\n",
    "Y3 = np.random.uniform(Y1, Y2, len(X))\n",
    "\n",
    "fig = plt.figure(figsize=(8, 8))\n",
    "ax = fig.add_subplot(1, 1, 1, aspect=1)\n",
    "\n",
    "\n",
    "def minor_tick(x, pos):\n",
    "    if not x % 1.0:\n",
    "        return \"\"\n",
    "    return \"%.2f\" % x\n",
    "\n",
    "ax.xaxis.set_major_locator(MultipleLocator(1.000))\n",
    "ax.xaxis.set_minor_locator(AutoMinorLocator(4))\n",
    "ax.yaxis.set_major_locator(MultipleLocator(1.000))\n",
    "ax.yaxis.set_minor_locator(AutoMinorLocator(4))\n",
    "ax.xaxis.set_minor_formatter(FuncFormatter(minor_tick))\n",
    "\n",
    "ax.set_xlim(0, 4)\n",
    "ax.set_ylim(0, 4)\n",
    "\n",
    "ax.tick_params(which='major', width=1.0)\n",
    "ax.tick_params(which='major', length=10)\n",
    "ax.tick_params(which='minor', width=1.0, labelsize=10)\n",
    "ax.tick_params(which='minor', length=5, labelsize=10, labelcolor='0.25')\n",
    "\n",
    "ax.grid(linestyle=\"--\", linewidth=0.5, color='.25', zorder=-10)\n",
    "\n",
    "ax.plot(X, Y1, c=(0.25, 0.25, 1.00), lw=2, label=\"Blue signal\", zorder=10)\n",
    "ax.plot(X, Y2, c=(1.00, 0.25, 0.25), lw=2, label=\"Red signal\")\n",
    "ax.plot(X, Y3, linewidth=0,\n",
    "        marker='o', markerfacecolor='w', markeredgecolor='k')\n",
    "\n",
    "ax.set_title(\"Anatomy of a figure\", fontsize=20, verticalalignment='bottom')\n",
    "ax.set_xlabel(\"X axis label\")\n",
    "ax.set_ylabel(\"Y axis label\")\n",
    "\n",
    "ax.legend()\n",
    "\n",
    "\n",
    "def circle(x, y, radius=0.15):\n",
    "    from matplotlib.patches import Circle\n",
    "    from matplotlib.patheffects import withStroke\n",
    "    circle = Circle((x, y), radius, clip_on=False, zorder=10, linewidth=1,\n",
    "                    edgecolor='black', facecolor=(0, 0, 0, .0125),\n",
    "                    path_effects=[withStroke(linewidth=5, foreground='w')])\n",
    "    ax.add_artist(circle)\n",
    "\n",
    "\n",
    "def text(x, y, text):\n",
    "    ax.text(x, y, text, backgroundcolor=\"white\",\n",
    "            ha='center', va='top', weight='bold', color='blue')\n",
    "\n",
    "\n",
    "# Minor tick\n",
    "circle(0.50, -0.10)\n",
    "text(0.50, -0.32, \"Minor tick label\")\n",
    "\n",
    "# Major tick\n",
    "circle(-0.03, 4.00)\n",
    "text(0.03, 3.80, \"Major tick\")\n",
    "\n",
    "# Minor tick\n",
    "circle(0.00, 3.50)\n",
    "text(0.00, 3.30, \"Minor tick\")\n",
    "\n",
    "# Major tick label\n",
    "circle(-0.15, 3.00)\n",
    "text(-0.15, 2.80, \"Major tick label\")\n",
    "\n",
    "# X Label\n",
    "circle(1.80, -0.27)\n",
    "text(1.80, -0.45, \"X axis label\")\n",
    "\n",
    "# Y Label\n",
    "circle(-0.27, 1.80)\n",
    "text(-0.27, 1.6, \"Y axis label\")\n",
    "\n",
    "# Title\n",
    "circle(1.60, 4.13)\n",
    "text(1.60, 3.93, \"Title\")\n",
    "\n",
    "# Blue plot\n",
    "circle(1.75, 2.80)\n",
    "text(1.75, 2.60, \"Line\\n(line plot)\")\n",
    "\n",
    "# Red plot\n",
    "circle(1.20, 0.60)\n",
    "text(1.20, 0.40, \"Line\\n(line plot)\")\n",
    "\n",
    "# Scatter plot\n",
    "circle(3.20, 1.75)\n",
    "text(3.20, 1.55, \"Markers\\n(scatter plot)\")\n",
    "\n",
    "# Grid\n",
    "circle(3.00, 3.00)\n",
    "text(3.00, 2.80, \"Grid\")\n",
    "\n",
    "# Legend\n",
    "circle(3.70, 3.80)\n",
    "text(3.70, 3.60, \"Legend\")\n",
    "\n",
    "# Axes\n",
    "circle(0.5, 0.5)\n",
    "text(0.5, 0.3, \"Axes\")\n",
    "\n",
    "# Figure\n",
    "circle(-0.3, 0.65)\n",
    "text(-0.3, 0.45, \"Figure\")\n",
    "\n",
    "color = 'blue'\n",
    "ax.annotate('Spines', xy=(4.0, 0.35), xytext=(3.3, 0.5),\n",
    "            weight='bold', color=color,\n",
    "            arrowprops=dict(arrowstyle='->',\n",
    "                            connectionstyle=\"arc3\",\n",
    "                            color=color))\n",
    "\n",
    "ax.annotate('', xy=(3.15, 0.0), xytext=(3.45, 0.45),\n",
    "            weight='bold', color=color,\n",
    "            arrowprops=dict(arrowstyle='->',\n",
    "                            connectionstyle=\"arc3\",\n",
    "                            color=color))\n",
    "\n",
    "ax.text(4.0, -0.4, \"Made with http://matplotlib.org\",\n",
    "        fontsize=10, ha=\"right\", color='.5')\n",
    "\n",
    "plt.show()\n"
   ]
  },
  {
   "cell_type": "markdown",
   "metadata": {},
   "source": [
    "## 데이터 시각화를 위한 폰트설정"
   ]
  },
  {
   "cell_type": "code",
   "execution_count": 249,
   "metadata": {},
   "outputs": [],
   "source": [
    "def get_font_family():\n",
    "    \"\"\"\n",
    "    시스템 환경에 따른 기본 폰트명을 반환하는 함수\n",
    "    \"\"\"\n",
    "    import platform\n",
    "    system_name = platform.system()\n",
    "    # colab 사용자는 system_name이 'Linux'로 확인\n",
    "\n",
    "    if system_name == \"Darwin\" :\n",
    "        font_family = \"AppleGothic\"\n",
    "    elif system_name == \"Windows\":\n",
    "        font_family = \"Malgun Gothic\"\n",
    "    else:\n",
    "        !apt-get install fonts-nanum -qq  > /dev/null\n",
    "        !fc-cache -fv\n",
    "\n",
    "        import matplotlib as mpl\n",
    "        mpl.font_manager._rebuild()\n",
    "        findfont = mpl.font_manager.fontManager.findfont\n",
    "        mpl.font_manager.findfont = findfont\n",
    "        mpl.backends.backend_agg.findfont = findfont\n",
    "        \n",
    "        font_family = \"NanumBarunGothic\"\n",
    "    return font_family"
   ]
  },
  {
   "cell_type": "code",
   "execution_count": 250,
   "metadata": {},
   "outputs": [
    {
     "data": {
      "text/plain": [
       "'AppleGothic'"
      ]
     },
     "execution_count": 250,
     "metadata": {},
     "output_type": "execute_result"
    }
   ],
   "source": [
    "# 위에서 만든 함수를 통해 시스템 폰트를 불러옵니다.\n",
    "get_font_family()"
   ]
  },
  {
   "cell_type": "code",
   "execution_count": 251,
   "metadata": {},
   "outputs": [],
   "source": [
    "# 시각화를 위한 폰트설정\n",
    "# 위에서 만든 함수를 통해 시스템 폰트를 불러와서 font_family 라는 변수에 할당합니다.\n",
    "import matplotlib.pyplot as plt\n",
    "get_font_family = get_font_family()\n",
    "\n",
    "# 폰트설정\n",
    "plt.rc(\"font\", family=get_font_family)\n",
    "\n",
    "# 마이너스폰트 설정\n",
    "plt.rc(\"axes\", unicode_minus=False)\n",
    "\n",
    "# ggplot으로 그래프 스타일 설정\n",
    "plt.style.use(\"ggplot\")\n",
    "\n",
    "# 그래프에 retina display 적용\n",
    "%config InlineBackend.figure_format = 'retina'"
   ]
  },
  {
   "cell_type": "markdown",
   "metadata": {},
   "source": [
    "### 폰트 설정 확인하기"
   ]
  },
  {
   "cell_type": "code",
   "execution_count": 252,
   "metadata": {
    "scrolled": false
   },
   "outputs": [
    {
     "data": {
      "text/plain": [
       "<Axes: title={'center': '한글폰트'}>"
      ]
     },
     "execution_count": 252,
     "metadata": {},
     "output_type": "execute_result"
    },
    {
     "data": {
      "image/png": "[encoded data removed]",
      "text/plain": [
       "<Figure size 640x480 with 1 Axes>"
      ]
     },
     "metadata": {
      "image/png": {
       "height": 437,
       "width": 542
      }
     },
     "output_type": "display_data"
    }
   ],
   "source": [
    "# 한글폰트 확인하기\n",
    "pd.Series([1, 2, 5, -7, 9]).plot(title=\"한글폰트\")   "
   ]
  },
  {
   "cell_type": "markdown",
   "metadata": {},
   "source": [
    "## 한 개의 변수 빈도수 구하고 시각화 하기\n",
    "* Keyword\n",
    "\n",
    "    * Series.value_counts()\n",
    "    * Series.value_counts().plot()\n",
    "    * Series.value_counts().plot.bar()\n",
    "    * Series.value_counts().plot.barh()\n",
    "    * sns.countplot()\n",
    "\n",
    "### Market\n",
    "\n",
    "* KOSPI (Korea Composite Stock Price Index) \n",
    "    * 우리나라의 종합주가지수(KOSPI)는 증권거래소가 1964.1.4일을 기준시점으로 다우존스식 주가평균을 지수화한 수정주가 평균지수를 산출, 발표하기 시작하였다. 다우존스식 주가지수는 주가지수를 구성하는 상장종목 중 일부 우량주만을 선정하여 산출하는 방식이다. 시가총액식 주가지수는 일정시점의 시가총액과 현재시점의 시가총액을 대비, 현재의 주가수준을 판단하는 방식이다. 즉, 지난 1980년 1월 4일 기준 상장종목 전체의 시가총액을 100으로 보고 현재 상장종목들의 시가총액이 어느 수준에 놓여 있는지를 보여주는 시스템이다.\n",
    "    * 종합주가지수 = (비교시점의 시가총액 ÷ 기준시점의 시가총액) × 100\n",
    "    * 출처 : [네이버 지식백과] 종합주가지수 (시사상식사전, pmg 지식엔진연구소) https://terms.naver.com/entry.nhn?docId=72147&cid=43667&categoryId=43667\n",
    "\n",
    "\n",
    "* KOSDAQ (Korea Securities Dealers Automated Quotation) \n",
    "    * 미국의 나스닥(NASDAQ)을 한국식으로 합성한 용어로 1996년 7월 1일 증권업협회와 증권사들이 설립한 코스닥증권(주)에 의하여 개설되었다. 코스닥의 개장으로 단순히 증권거래소 상장을 위한 예비적 단계였던 장외시장이 미국의 나스닥(NASDAQ)과 같이 자금조달 및 투자시장으로 독립적인 역할을 수행하게 되었다. 이후 2005년 1월 유가증권시장, 코스닥시장, 선물시장이 증권선물거래소(현 한국거래소)로 통합됨에 따라 코스닥시장도 거래소가 개설한 정규시장으로 편입되었다. 코스닥은 유가증권시장에 비해 진입요건이 상대적으로 덜 까다롭기 때문에 주로 중소벤처기업들이 상장되어 있다.\n",
    "    * 출처 : [네이버 지식백과] KOSDAQ (매일경제, 매경닷컴) https://terms.naver.com/entry.nhn?docId=18639&cid=43659&categoryId=43659\n",
    "\n",
    "\n",
    "* KONEX(Korea New Exchange) : \n",
    "    * 일정 요건을 갖춘 비상장 기업에 문호를 개방하기 위해 개설하는 유가증권시장, 코스닥시장에 이은 제3의 주식시장을 일컫는다. 코넥스시장은 우수한 기술력을 보유하고 있음에도 불구하고, 짧은 경력 등을 이유로 자금 조달에 어려움을 겪는 초기 중소기업과 벤처기업이 자금을 원활하게 조달할 수 있도록 하기 위해 설립된 자본시장으로, 2013년 7월 1일 개장되었다. \n",
    "    * 출처 : [네이버 지식백과] 코넥스 (시사상식사전, pmg 지식엔진연구소) https://terms.naver.com/entry.nhn?docId=1006691&cid=43667&categoryId=43667"
   ]
  },
  {
   "cell_type": "code",
   "execution_count": 162,
   "metadata": {
    "scrolled": false
   },
   "outputs": [],
   "source": [
    "# Market column에 어떤 데이터들이 있는지 unique로 확인합니다.\n"
   ]
  },
  {
   "cell_type": "code",
   "execution_count": 163,
   "metadata": {},
   "outputs": [],
   "source": [
    "# value_counts()로 빈도수를 구합니다.\n"
   ]
  },
  {
   "cell_type": "code",
   "execution_count": 164,
   "metadata": {},
   "outputs": [],
   "source": [
    "# 빈도수를 시각화 합니다.\n"
   ]
  },
  {
   "cell_type": "code",
   "execution_count": 165,
   "metadata": {},
   "outputs": [],
   "source": [
    "# Seaborn countplot 활용하여 빈도수를 표현합니다.\n"
   ]
  },
  {
   "cell_type": "markdown",
   "metadata": {},
   "source": [
    "### Sector"
   ]
  },
  {
   "cell_type": "code",
   "execution_count": 166,
   "metadata": {},
   "outputs": [],
   "source": [
    "# 섹터의 빈도수를 구합니다.\n",
    "# 상위 30개 섹터의 빈도수를 sector_count_top 변수에 할당합니다.\n",
    "# sector_count_top\n"
   ]
  },
  {
   "cell_type": "code",
   "execution_count": 167,
   "metadata": {},
   "outputs": [],
   "source": [
    "# df_sector_30"
   ]
  },
  {
   "cell_type": "code",
   "execution_count": 168,
   "metadata": {},
   "outputs": [],
   "source": [
    "# Seaborn countplot 활용하여 빈도수를 표현합니다.\n"
   ]
  },
  {
   "cell_type": "code",
   "execution_count": 169,
   "metadata": {},
   "outputs": [
    {
     "ename": "NameError",
     "evalue": "name 'plt' is not defined",
     "output_type": "error",
     "traceback": [
      "\u001b[0;31m---------------------------------------------------------------------------\u001b[0m",
      "\u001b[0;31mNameError\u001b[0m                                 Traceback (most recent call last)",
      "Cell \u001b[0;32mIn[169], line 1\u001b[0m\n\u001b[0;32m----> 1\u001b[0m \u001b[38;5;28mprint\u001b[39m(\u001b[43mplt\u001b[49m\u001b[38;5;241m.\u001b[39mcolormaps())\n",
      "\u001b[0;31mNameError\u001b[0m: name 'plt' is not defined"
     ]
    }
   ],
   "source": [
    "print(plt.colormaps())"
   ]
  },
  {
   "cell_type": "code",
   "execution_count": null,
   "metadata": {},
   "outputs": [],
   "source": [
    "# 빈도수가 가장 많은 데이터 색인하기\n"
   ]
  },
  {
   "cell_type": "markdown",
   "metadata": {},
   "source": [
    "### Industry"
   ]
  },
  {
   "cell_type": "code",
   "execution_count": null,
   "metadata": {},
   "outputs": [],
   "source": [
    "# Industry 의 빈도수를 구합니다.\n",
    "# industry_top30"
   ]
  },
  {
   "cell_type": "code",
   "execution_count": null,
   "metadata": {
    "scrolled": false
   },
   "outputs": [],
   "source": [
    "# Industry 빈도수를 pandas 의 plot 기능을 사용해 시각화 합니다.\n"
   ]
  },
  {
   "cell_type": "code",
   "execution_count": null,
   "metadata": {},
   "outputs": [],
   "source": [
    "# df[df[\"Industry\"].isin(industry_top30.index)]"
   ]
  },
  {
   "cell_type": "code",
   "execution_count": null,
   "metadata": {},
   "outputs": [],
   "source": [
    "# seaborn\n"
   ]
  },
  {
   "cell_type": "markdown",
   "metadata": {},
   "source": [
    "### Region "
   ]
  },
  {
   "cell_type": "code",
   "execution_count": null,
   "metadata": {},
   "outputs": [],
   "source": [
    "# Region 의 빈도수를 구합니다.\n",
    "# value_counts()통해 지역별 상장회사의 빈도수를 봅니다.\n"
   ]
  },
  {
   "cell_type": "code",
   "execution_count": null,
   "metadata": {},
   "outputs": [],
   "source": [
    "# df[\"Region\"]\n"
   ]
  },
  {
   "cell_type": "code",
   "execution_count": null,
   "metadata": {},
   "outputs": [],
   "source": [
    "# Region 의 빈도수를 seaborn 의 countplot 으로 그립니다.\n"
   ]
  },
  {
   "cell_type": "code",
   "execution_count": null,
   "metadata": {},
   "outputs": [],
   "source": [
    "# order 기능을 통해 빈도수를 정렬합니다.\n",
    "# df[\"Region\"].value_counts().index 로 Region 의 순서를 가져와서 지정합니다.\n"
   ]
  },
  {
   "cell_type": "code",
   "execution_count": null,
   "metadata": {},
   "outputs": [],
   "source": [
    "# Region 을 기준으로 정렬합니다.\n"
   ]
  },
  {
   "cell_type": "markdown",
   "metadata": {},
   "source": [
    "## 두 개의 변수 빈도수 구하고 시각화 하기\n",
    "* crosstab 으로 빈도수 구하기\n",
    "* seaborn의 countplot 으로 빈도수 시각화\n",
    "* pandas의 plot 기능으로 시각화\n",
    "    * lineplot : 연속된 데이터(숫자, 기간)\n",
    "    * barplot : 비연속 데이터(범주형)\n",
    "    * hist : 연속된 수치 데이터의 범주화"
   ]
  },
  {
   "cell_type": "markdown",
   "metadata": {},
   "source": [
    "### 지역별 상장 시장 종목 빈도수 구하기\n",
    "* pd.crosstab 을 통한 2개의 변수에 대한 빈도수 구하기"
   ]
  },
  {
   "cell_type": "code",
   "execution_count": null,
   "metadata": {},
   "outputs": [],
   "source": [
    "# pd.crosstab 을 통한 2개의 변수에 대한 빈도수 구하기\n",
    "# Market 과 Region 으로 빈도수 구하기\n"
   ]
  },
  {
   "cell_type": "code",
   "execution_count": null,
   "metadata": {},
   "outputs": [],
   "source": [
    "# countplot : Market 과 Region 으로 빈도수 시각화 하기\n"
   ]
  },
  {
   "cell_type": "markdown",
   "metadata": {},
   "source": [
    "### 연도별 상장 종목 빈도수 분석"
   ]
  },
  {
   "cell_type": "code",
   "execution_count": null,
   "metadata": {},
   "outputs": [],
   "source": [
    "# Market, ListingYear 빈도수 구하기\n",
    "# market_year"
   ]
  },
  {
   "cell_type": "markdown",
   "metadata": {},
   "source": [
    "### seaborn을 통한 빈도수 시각화"
   ]
  },
  {
   "cell_type": "code",
   "execution_count": null,
   "metadata": {},
   "outputs": [],
   "source": [
    "# Seaborn countplot 활용하여 빈도수를 표현합니다.\n",
    "# hue 를 사용해 다른 변수를 함께 표현합니다. hue는 색상을 의미합니다.\n"
   ]
  },
  {
   "cell_type": "markdown",
   "metadata": {},
   "source": [
    "### Pandas를 통한 시각화"
   ]
  },
  {
   "cell_type": "code",
   "execution_count": null,
   "metadata": {},
   "outputs": [],
   "source": [
    "# Pandas plot 기능 활용하여 기본 그래프(line)를 그립니다.\n",
    "# Pandas plot으로 그릴 때 x축에 인덱스 값이 y축에는 컬럼에 있는 값이 들어갑니다.\n",
    "# 컬럼이 여러개라면 다른 색상으로 그려집니다.\n"
   ]
  },
  {
   "cell_type": "code",
   "execution_count": null,
   "metadata": {},
   "outputs": [],
   "source": [
    "# 컬럼값을 subplots 으로 그립니다.\n"
   ]
  },
  {
   "cell_type": "code",
   "execution_count": null,
   "metadata": {},
   "outputs": [],
   "source": [
    "# Pandas plot 기능 활용하여 막대 그래프(bar, barh)를 그립니다.\n"
   ]
  },
  {
   "cell_type": "code",
   "execution_count": null,
   "metadata": {},
   "outputs": [],
   "source": [
    "# 컬럼명의 데이터 타입을 int 형태로 변경합니다.\n",
    "# market_year.columns\n"
   ]
  },
  {
   "cell_type": "code",
   "execution_count": null,
   "metadata": {},
   "outputs": [],
   "source": [
    "# 막대(bar)그래프 그리기\n",
    "# market_year\n"
   ]
  },
  {
   "cell_type": "markdown",
   "metadata": {},
   "source": [
    "### groupby 와 pivot_table로 빈도수 구하기\n",
    "<img src=\"https://pandas.pydata.org/pandas-docs/stable/_images/06_valuecounts.svg\">\n",
    "\n",
    "* [How to calculate summary statistics? — pandas documentation](https://pandas.pydata.org/pandas-docs/stable/getting_started/intro_tutorials/06_calculate_statistics.html)\n",
    "* [Group by: split-apply-combine — pandas documentation](https://pandas.pydata.org/pandas-docs/stable/user_guide/groupby.html)\n",
    "* [pandas.pivot_table — pandas 1.2.0 documentation](https://pandas.pydata.org/pandas-docs/stable/reference/api/pandas.pivot_table.html)"
   ]
  },
  {
   "cell_type": "code",
   "execution_count": null,
   "metadata": {},
   "outputs": [],
   "source": [
    "# groupby([인덱스 컬럼 리스트])[연산에 사용할 컬럼].연산()\n",
    "# market_year"
   ]
  },
  {
   "cell_type": "code",
   "execution_count": null,
   "metadata": {},
   "outputs": [],
   "source": []
  },
  {
   "cell_type": "code",
   "execution_count": null,
   "metadata": {},
   "outputs": [],
   "source": [
    "# pivot_table로 같은 결과가 나오게 연산하기\n"
   ]
  },
  {
   "cell_type": "code",
   "execution_count": null,
   "metadata": {},
   "outputs": [],
   "source": [
    "# 위의 groupby 결과를 scatterplot으로 그립니다.\n",
    "# df_market_year\n"
   ]
  },
  {
   "cell_type": "code",
   "execution_count": null,
   "metadata": {},
   "outputs": [],
   "source": [
    "# lineplot 그리기\n"
   ]
  },
  {
   "cell_type": "code",
   "execution_count": null,
   "metadata": {},
   "outputs": [],
   "source": [
    "# relplot으로 subplot 그리기 - scatter\n"
   ]
  },
  {
   "cell_type": "code",
   "execution_count": null,
   "metadata": {},
   "outputs": [],
   "source": [
    "# relplot으로 subplot 그리기 - line\n"
   ]
  },
  {
   "cell_type": "markdown",
   "metadata": {},
   "source": [
    "### 구간화 binnig 과 히스토그램\n",
    "* 연속된 수치 데이터를 범주형 데이터로 표현, bucketing 이라고 부르기도 함\n",
    "* 히스토그램 : 도수분포를 그래프 형태로 표현한 것\n",
    "* 막대그래프와 비슷해 보이지만 다른 그래프\n",
    "* 참고 : [히스토그램 - 위키백과, 우리 모두의 백과사전](https://ko.wikipedia.org/wiki/%ED%9E%88%EC%8A%A4%ED%86%A0%EA%B7%B8%EB%9E%A8)"
   ]
  },
  {
   "cell_type": "code",
   "execution_count": null,
   "metadata": {},
   "outputs": [],
   "source": []
  },
  {
   "cell_type": "code",
   "execution_count": null,
   "metadata": {},
   "outputs": [],
   "source": [
    "# bins 의 갯수에 따라 그래프의 표현 방법이 달라집니다.\n"
   ]
  },
  {
   "cell_type": "code",
   "execution_count": null,
   "metadata": {},
   "outputs": [],
   "source": []
  },
  {
   "cell_type": "markdown",
   "metadata": {},
   "source": [
    "## 데이터 색인"
   ]
  },
  {
   "cell_type": "code",
   "execution_count": null,
   "metadata": {},
   "outputs": [],
   "source": [
    "# 케이맨 제도에 있는 회사 찾기\n"
   ]
  },
  {
   "cell_type": "code",
   "execution_count": null,
   "metadata": {
    "scrolled": false
   },
   "outputs": [],
   "source": [
    "# 1970년 이전에 상장한 기업을 찾습니다.\n"
   ]
  },
  {
   "cell_type": "code",
   "execution_count": null,
   "metadata": {},
   "outputs": [],
   "source": [
    "# and => &\n",
    "# or  => |\n",
    "True and True"
   ]
  },
  {
   "cell_type": "code",
   "execution_count": null,
   "metadata": {},
   "outputs": [],
   "source": [
    "# 2020년 상장한 서울특별시에 소재한 코스피 종목을 찾습니다.\n"
   ]
  },
  {
   "cell_type": "code",
   "execution_count": null,
   "metadata": {},
   "outputs": [],
   "source": []
  },
  {
   "cell_type": "markdown",
   "metadata": {},
   "source": [
    "### 지역별 섹터"
   ]
  },
  {
   "cell_type": "code",
   "execution_count": null,
   "metadata": {},
   "outputs": [],
   "source": [
    "# Sector, Region 으로 crosstab 연산을 합니다.\n",
    "# df_sr\n"
   ]
  },
  {
   "cell_type": "markdown",
   "metadata": {},
   "source": [
    "### 컬럼과 인덱스 값으로 색인하기"
   ]
  },
  {
   "cell_type": "code",
   "execution_count": null,
   "metadata": {},
   "outputs": [],
   "source": [
    "# 특정 컬럼만 가져오기\n"
   ]
  },
  {
   "cell_type": "markdown",
   "metadata": {},
   "source": [
    "### 특정 행만 가져오기\n",
    "\n",
    "* .loc[행]\n",
    "* .loc[행, 열]\n",
    "* .loc[조건식, 열]"
   ]
  },
  {
   "cell_type": "code",
   "execution_count": null,
   "metadata": {},
   "outputs": [],
   "source": [
    "# df_sr에서 \"소프트웨어 개발 및 공급업\" 행만 가져오기\n"
   ]
  },
  {
   "cell_type": "code",
   "execution_count": null,
   "metadata": {},
   "outputs": [],
   "source": [
    "# loc 로 행인덱스 가져오기\n",
    "# 행에서 \"소프트웨어 개발 및 공급업\", \"금융 지원 서비스업\", \"의약품 제조업\" 가져오기\n"
   ]
  },
  {
   "cell_type": "code",
   "execution_count": null,
   "metadata": {},
   "outputs": [],
   "source": [
    "# loc 로 행, 컬럼 가져오기\n",
    "# 행에서 \"소프트웨어 개발 및 공급업\", \"금융 지원 서비스업\", \"의약품 제조업\"\n",
    "# 열에서 \"서울특별시\" 가져오기\n",
    "\n"
   ]
  },
  {
   "cell_type": "code",
   "execution_count": null,
   "metadata": {},
   "outputs": [],
   "source": [
    "# loc로 여러 행과 열 가져오기\n"
   ]
  },
  {
   "cell_type": "code",
   "execution_count": null,
   "metadata": {},
   "outputs": [],
   "source": [
    "# \"소프트웨어 개발 및 공급업\" 만 가져와서 막대그래프를 그립니다.\n"
   ]
  },
  {
   "cell_type": "code",
   "execution_count": null,
   "metadata": {},
   "outputs": [],
   "source": [
    "# \"의약품 제조업\" 만 가져와서 막대그래프를 그립니다.\n",
    "\n"
   ]
  },
  {
   "cell_type": "code",
   "execution_count": null,
   "metadata": {},
   "outputs": [],
   "source": [
    "# iloc[행]\n",
    "# iloc[행,열]\n"
   ]
  },
  {
   "cell_type": "code",
   "execution_count": null,
   "metadata": {},
   "outputs": [],
   "source": []
  },
  {
   "cell_type": "code",
   "execution_count": null,
   "metadata": {},
   "outputs": [],
   "source": []
  },
  {
   "cell_type": "code",
   "execution_count": null,
   "metadata": {},
   "outputs": [],
   "source": [
    "# df.head 혹은 tail도 내부에서 iloc를 슬라이싱으로 사용하고 있습니다.\n",
    "# df.head??"
   ]
  },
  {
   "cell_type": "code",
   "execution_count": null,
   "metadata": {},
   "outputs": [],
   "source": []
  },
  {
   "cell_type": "code",
   "execution_count": null,
   "metadata": {},
   "outputs": [],
   "source": [
    "# df_sr.tail??"
   ]
  },
  {
   "cell_type": "code",
   "execution_count": null,
   "metadata": {},
   "outputs": [],
   "source": []
  },
  {
   "cell_type": "code",
   "execution_count": null,
   "metadata": {},
   "outputs": [],
   "source": []
  },
  {
   "cell_type": "code",
   "execution_count": null,
   "metadata": {},
   "outputs": [],
   "source": []
  },
  {
   "cell_type": "code",
   "execution_count": null,
   "metadata": {},
   "outputs": [],
   "source": []
  }
 ],
 "metadata": {
  "colab": {
   "collapsed_sections": [],
   "name": "1. FinanceDataReader를 통한 상장종목 전체 불러오기.ipynb",
   "provenance": [],
   "toc_visible": true
  },
  "kernelspec": {
   "display_name": "Python 3 (ipykernel)",
   "language": "python",
   "name": "python3"
  },
  "language_info": {
   "codemirror_mode": {
    "name": "ipython",
    "version": 3
   },
   "file_extension": ".py",
   "mimetype": "text/x-python",
   "name": "python",
   "nbconvert_exporter": "python",
   "pygments_lexer": "ipython3",
   "version": "3.9.6"
  },
  "toc": {
   "base_numbering": 1,
   "nav_menu": {},
   "number_sections": true,
   "sideBar": true,
   "skip_h1_title": false,
   "title_cell": "Table of Contents",
   "title_sidebar": "Contents",
   "toc_cell": false,
   "toc_position": {
    "height": "calc(100% - 180px)",
    "left": "10px",
    "top": "150px",
    "width": "178.988px"
   },
   "toc_section_display": true,
   "toc_window_display": true
  },
  "varInspector": {
   "cols": {
    "lenName": 16,
    "lenType": 16,
    "lenVar": 40
   },
   "kernels_config": {
    "python": {
     "delete_cmd_postfix": "",
     "delete_cmd_prefix": "del ",
     "library": "var_list.py",
     "varRefreshCmd": "print(var_dic_list())"
    },
    "r": {
     "delete_cmd_postfix": ") ",
     "delete_cmd_prefix": "rm(",
     "library": "var_list.r",
     "varRefreshCmd": "cat(var_dic_list()) "
    }
   },
   "types_to_exclude": [
    "module",
    "function",
    "builtin_function_or_method",
    "instance",
    "_Feature"
   ],
   "window_display": false
  }
 },
 "nbformat": 4,
 "nbformat_minor": 1
}
