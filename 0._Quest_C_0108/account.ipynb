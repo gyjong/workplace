{
  "nbformat": 4,
  "nbformat_minor": 0,
  "metadata": {
    "colab": {
      "provenance": []
    },
    "kernelspec": {
      "name": "python3",
      "display_name": "Python 3"
    },
    "language_info": {
      "name": "python"
    }
  },
  "cells": [
    {
      "cell_type": "markdown",
      "source": [
        "## 1. ACCOUNT 클래스"
      ],
      "metadata": {
        "id": "KkRAish3L-XG"
      }
    },
    {
      "cell_type": "code",
      "execution_count": 154,
      "metadata": {
        "id": "610Cc6ldqhA5"
      },
      "outputs": [],
      "source": [
        "import random\n",
        "from datetime import datetime\n",
        "\n",
        "accs = []\n",
        "\n",
        "class Account:\n",
        "  def __init__(self, name, amount):\n",
        "    self.account = {}\n",
        "    self.account[\"은행\"] = \"SC은행\"\n",
        "    self.account[\"계좌번호\"] = self._account_gen()\n",
        "    self.account[\"예금주\"] = name\n",
        "    self.account[\"잔액\"] = amount\n",
        "\n",
        "    self.deposit_cnt = 0\n",
        "\n",
        "    self.deposit_record = []\n",
        "    self.withdraw_record = []\n",
        "    self.interest_record = []\n",
        "\n",
        "    self.history = []\n",
        "    accs.append(self.account)\n",
        "\n",
        "    print(f'계좌가 생성되었습니다. \\n')\n",
        "    self.display_info()\n",
        "\n",
        "  def _account_gen(self):\n",
        "    self.first = random.randrange(100, 999)\n",
        "    self.second = random.randrange(10, 99)\n",
        "    self.last = random.randrange(100000, 999999)\n",
        "    return f\"{self.first}-{self.second}-{self.last}\"\n",
        "\n",
        "  # 입금 메서드\n",
        "  def deposit(self, amount):\n",
        "      if amount < 1:\n",
        "        print(\"1원 이상 입금이 가능합니다.\")\n",
        "        return\n",
        "      else:\n",
        "        self.account[\"잔액\"] += amount\n",
        "        print(f\"{format(amount,',')}원이 입금되었습니다. 현재 잔고: {format(self.account['잔액'], ',')}원\")\n",
        "        self.deposit_record.append((datetime.now(), amount, self.account['잔액'])) # 입금 기록\n",
        "        self.history.append((\"입금\", datetime.now(), amount, self.account['잔액'])) # 전체 기록\n",
        "        self.deposit_cnt += 1\n",
        "\n",
        "        if self.deposit_cnt % 5 == 0:\n",
        "          self.account[\"잔액\"] = (self.account[\"잔액\"] * 1.01)\n",
        "          print(f\"이자가 지급되었습니다.\")\n",
        "          self.interest_record.append((datetime.now(), self.account[\"잔액\"] * 0.01, self.account['잔액'])) # 이자 기록\n",
        "          self.history.append((\"이자\", datetime.now(), self.account[\"잔액\"] * 0.01, self.account['잔액'])) # 전체 기록\n",
        "\n",
        " # 출금 메서드\n",
        "  def withdraw(self, amount):\n",
        "    if amount > self.account[\"잔액\"]:\n",
        "      print(\"잔액 부족\")\n",
        "    else:\n",
        "      self.account[\"잔액\"] -= amount\n",
        "      self.withdraw_record.append((datetime.now(), amount, self.account['잔액'])) # 출금 기록\n",
        "      print(f\"{format(amount,',')}원이 출금되었습니다. 현재 잔고: {format(self.account['잔액'], ',')}원\")\n",
        "      self.history.append((\"출금\", datetime.now(), amount, self.account['잔액'])) # 전체 기록\n",
        "\n",
        "  #계좌이체 메소드\n",
        "  def send_money(self, to, amount):\n",
        "    if amount > self.account[\"잔액\"]:\n",
        "      print(\"잔액 부족\")\n",
        "    else:\n",
        "      self.account[\"잔액\"] -= amount\n",
        "      to.account[\"잔액\"] += amount\n",
        "\n",
        "      self.withdraw_record.append((datetime.now(), amount, self.account['잔액'])) # 출금 기록\n",
        "      print(f\"{to.account['예금주']}님에게 {format(amount, ',')}원이 이체되었습니다. 현재 잔고: {format(self.account['잔액'], ',')}원\")\n",
        "      self.history.append((\"계좌이체\", datetime.now(), amount, self.account['잔액'])) # 전체 기록\n",
        "\n",
        "  # 정보 출력 메서드\n",
        "  def display_info(self):\n",
        "    print(f\"은행이름: {self.account['은행']}, 예금주: {self.account['예금주']}, 계좌번호: {self.account['계좌번호']}, 잔고: {format(self.account['잔액'], ',')}\\n\")\n",
        "\n",
        "  # 입금 기록 메서드\n",
        "  def deposit_history(self):\n",
        "    sum = 0\n",
        "    for time, amount, balance in self.deposit_record:\n",
        "            print(f\"입금 시간: {time}, 입금 금액: {format(amount,',')}원, 잔고: {format(balance, ',')}\")\n",
        "            sum += amount\n",
        "    print(\"====================\")\n",
        "    print(f\"입금 총액 : {format(sum, ',')}\")\n",
        "\n",
        "  # 출금 기록 메서드\n",
        "  def withdraw_history(self):\n",
        "    sum = 0\n",
        "    for time, amount, balance in self.withdraw_record:\n",
        "            print(f\"출금 시간: {time}, 출금 금액: {format(amount,',')}원, 잔고: {format(balance, ',')}\")\n",
        "            sum += amount\n",
        "    print(\"====================\")\n",
        "    print(f\"출금 총액 : {format(sum, ',')}\")\n",
        "\n",
        "  # 이자 기록 메서드\n",
        "  def interest_history(self):\n",
        "    sum = 0\n",
        "    for time, amount, balance in self.interest_record:\n",
        "            print(f\"수혜 시간: {time}, 이자 금액: {format(amount,',')}원, 잔고: {format(balance, ',')}\")\n",
        "            sum += amount\n",
        "    print(\"====================\")\n",
        "    print(f\"이자 총액 : {format(sum, ',')}\")\n",
        "\n",
        "  # 전체 기록 메서드\n",
        "  def all_history(self):\n",
        "    sum_d = 0\n",
        "    sum_w = 0\n",
        "    sum_i = 0\n",
        "\n",
        "    print(f\"======={self.account['은행']}=======\")\n",
        "    print(f\"{self.account['예금주']} 님의 {self.account['계좌번호']} 통장 기록\")\n",
        "    print(\"====================\")\n",
        "\n",
        "    for t, time, amount, balance in self.history:\n",
        "            print(f\"유형: {t}, 시간: {time}, 금액: {format(amount,',')}원, 잔고: {format(balance, ',')}\")\n",
        "\n",
        "            if t == \"입금\":\n",
        "              sum_d += amount\n",
        "            elif t == \"출금\":\n",
        "              sum_w += amount\n",
        "            else:\n",
        "              sum_i += amount\n",
        "    print(\"====================\")\n",
        "    print(f\"입금 총액 : {format(sum_d, ',')}\")\n",
        "    print(f\"출금 총액 : {format(sum_w, ',')}\")\n",
        "    print(f\"이자 총액 : {format(sum_i, ',')}\")"
      ]
    },
    {
      "cell_type": "markdown",
      "source": [
        "## 2. CLASS 생성 및 TEST"
      ],
      "metadata": {
        "id": "IPlvbIeGMDPl"
      }
    },
    {
      "cell_type": "code",
      "source": [
        "account = Account(\"민지\", 1000)\n",
        "account2 = Account(\"대호\", 1000)"
      ],
      "metadata": {
        "colab": {
          "base_uri": "https://localhost:8080/"
        },
        "id": "4JSLE_r0uZEe",
        "outputId": "5385145f-1403-4f67-bc47-7d81c8f16da8"
      },
      "execution_count": 155,
      "outputs": [
        {
          "output_type": "stream",
          "name": "stdout",
          "text": [
            "계좌가 생성되었습니다. \n",
            "\n",
            "은행이름: SC은행, 예금주: 민지, 계좌번호: 138-54-607386, 잔고: 1,000\n",
            "\n",
            "계좌가 생성되었습니다. \n",
            "\n",
            "은행이름: SC은행, 예금주: 대호, 계좌번호: 218-39-580351, 잔고: 1,000\n",
            "\n"
          ]
        }
      ]
    },
    {
      "cell_type": "code",
      "source": [
        "# 계좌이체 함수\n",
        "account.send_money(account2, 500)"
      ],
      "metadata": {
        "colab": {
          "base_uri": "https://localhost:8080/"
        },
        "id": "z8mhrUHiDY2k",
        "outputId": "bd27fd84-bad5-4f3a-a6f3-5489fbc47252"
      },
      "execution_count": 156,
      "outputs": [
        {
          "output_type": "stream",
          "name": "stdout",
          "text": [
            "대호님에게 500원이 이체되었습니다. 현재 잔고: 500원\n"
          ]
        }
      ]
    },
    {
      "cell_type": "code",
      "source": [
        "account.display_info()\n",
        "account2.display_info()"
      ],
      "metadata": {
        "id": "zHtGff1Aub5O",
        "colab": {
          "base_uri": "https://localhost:8080/"
        },
        "outputId": "095c3f5a-fa75-44db-895f-d5300d8e2eec"
      },
      "execution_count": 157,
      "outputs": [
        {
          "output_type": "stream",
          "name": "stdout",
          "text": [
            "은행이름: SC은행, 예금주: 민지, 계좌번호: 138-54-607386, 잔고: 500\n",
            "\n",
            "은행이름: SC은행, 예금주: 대호, 계좌번호: 218-39-580351, 잔고: 1,500\n",
            "\n"
          ]
        }
      ]
    },
    {
      "cell_type": "code",
      "source": [
        "account.withdraw(100)\n",
        "account.deposit(100)\n",
        "account.deposit(200)\n",
        "time.sleep(1)\n",
        "account.deposit(300)\n",
        "account.deposit(3000000)\n",
        "account.deposit(300)\n",
        "account.deposit(300)"
      ],
      "metadata": {
        "colab": {
          "base_uri": "https://localhost:8080/"
        },
        "id": "MvsKTR_L1IJc",
        "outputId": "25451ef0-d25d-474f-af06-a508afc921e9"
      },
      "execution_count": 158,
      "outputs": [
        {
          "output_type": "stream",
          "name": "stdout",
          "text": [
            "100원이 출금되었습니다. 현재 잔고: 400원\n",
            "100원이 입금되었습니다. 현재 잔고: 500원\n",
            "200원이 입금되었습니다. 현재 잔고: 700원\n",
            "300원이 입금되었습니다. 현재 잔고: 1,000원\n",
            "3,000,000원이 입금되었습니다. 현재 잔고: 3,001,000원\n",
            "300원이 입금되었습니다. 현재 잔고: 3,001,300원\n",
            "이자가 지급되었습니다.\n",
            "300원이 입금되었습니다. 현재 잔고: 3,031,613.0원\n"
          ]
        }
      ]
    },
    {
      "cell_type": "code",
      "source": [
        "account.withdraw_history()"
      ],
      "metadata": {
        "colab": {
          "base_uri": "https://localhost:8080/"
        },
        "id": "_LzGiGHn_aPB",
        "outputId": "e18500ef-3346-414c-b074-bda95d8f6f6e"
      },
      "execution_count": 159,
      "outputs": [
        {
          "output_type": "stream",
          "name": "stdout",
          "text": [
            "출금 시간: 2024-01-08 03:50:25.755717, 출금 금액: 500원, 잔고: 500\n",
            "출금 시간: 2024-01-08 03:50:32.872691, 출금 금액: 100원, 잔고: 400\n",
            "====================\n",
            "출금 총액 : 600\n"
          ]
        }
      ]
    },
    {
      "cell_type": "code",
      "source": [
        "account.deposit_history()"
      ],
      "metadata": {
        "colab": {
          "base_uri": "https://localhost:8080/"
        },
        "id": "5XuTNfjc_hPm",
        "outputId": "3e03ef41-2c05-43de-bdc3-fd1a2fda3889"
      },
      "execution_count": 161,
      "outputs": [
        {
          "output_type": "stream",
          "name": "stdout",
          "text": [
            "입금 시간: 2024-01-08 03:50:32.875167, 입금 금액: 100원, 잔고: 500\n",
            "입금 시간: 2024-01-08 03:50:32.875768, 입금 금액: 200원, 잔고: 700\n",
            "입금 시간: 2024-01-08 03:50:33.877389, 입금 금액: 300원, 잔고: 1,000\n",
            "입금 시간: 2024-01-08 03:50:33.877476, 입금 금액: 3,000,000원, 잔고: 3,001,000\n",
            "입금 시간: 2024-01-08 03:50:33.877533, 입금 금액: 300원, 잔고: 3,001,300\n",
            "입금 시간: 2024-01-08 03:50:33.877614, 입금 금액: 300원, 잔고: 3,031,613.0\n",
            "====================\n",
            "입금 총액 : 3,001,200\n"
          ]
        }
      ]
    },
    {
      "cell_type": "code",
      "source": [
        "account.interest_history()"
      ],
      "metadata": {
        "colab": {
          "base_uri": "https://localhost:8080/"
        },
        "id": "IS9Zbmkc_teJ",
        "outputId": "ea998e97-b954-41c6-bfd2-feedb39ee6d4"
      },
      "execution_count": 162,
      "outputs": [
        {
          "output_type": "stream",
          "name": "stdout",
          "text": [
            "수혜 시간: 2024-01-08 03:50:33.877547, 이자 금액: 30,313.13원, 잔고: 3,031,313.0\n",
            "====================\n",
            "이자 총액 : 30,313.13\n"
          ]
        }
      ]
    },
    {
      "cell_type": "code",
      "source": [
        "account.all_history()"
      ],
      "metadata": {
        "colab": {
          "base_uri": "https://localhost:8080/"
        },
        "id": "1PFzZfWs1IG2",
        "outputId": "c9df3ada-2c8d-44ac-b7c9-1dba076aa7df"
      },
      "execution_count": 163,
      "outputs": [
        {
          "output_type": "stream",
          "name": "stdout",
          "text": [
            "=======SC은행=======\n",
            "민지 님의 138-54-607386 통장 기록\n",
            "====================\n",
            "유형: 계좌이체, 시간: 2024-01-08 03:50:25.755802, 금액: 500원, 잔고: 500\n",
            "유형: 출금, 시간: 2024-01-08 03:50:32.874465, 금액: 100원, 잔고: 400\n",
            "유형: 입금, 시간: 2024-01-08 03:50:32.875172, 금액: 100원, 잔고: 500\n",
            "유형: 입금, 시간: 2024-01-08 03:50:32.875773, 금액: 200원, 잔고: 700\n",
            "유형: 입금, 시간: 2024-01-08 03:50:33.877396, 금액: 300원, 잔고: 1,000\n",
            "유형: 입금, 시간: 2024-01-08 03:50:33.877477, 금액: 3,000,000원, 잔고: 3,001,000\n",
            "유형: 입금, 시간: 2024-01-08 03:50:33.877534, 금액: 300원, 잔고: 3,001,300\n",
            "유형: 이자, 시간: 2024-01-08 03:50:33.877549, 금액: 30,313.13원, 잔고: 3,031,313.0\n",
            "유형: 입금, 시간: 2024-01-08 03:50:33.877615, 금액: 300원, 잔고: 3,031,613.0\n",
            "====================\n",
            "입금 총액 : 3,001,200\n",
            "출금 총액 : 100\n",
            "이자 총액 : 30,813.13\n"
          ]
        }
      ]
    },
    {
      "cell_type": "markdown",
      "source": [
        "## 3. 회고"
      ],
      "metadata": {
        "id": "v1AeWhj5MHP3"
      }
    },
    {
      "cell_type": "markdown",
      "source": [
        "###이대호의 회고\n",
        "\n",
        "처음에는 예제의 설명을 보고 만드는 것이라고 생각했는데, 만들다 보니까 생각보다 놓친 부분이 많았습니다.\n",
        "이번 퀘스트를 진행하면서 뭔가 몰랐거나 놓쳤던 부분들을 다시 짚어볼 수 있어서 좋았습니다.\n",
        "\n",
        "- 어려웠던 부분\n",
        "  1. 추가 기능을 구현하는 것\n",
        "  2. base 코드 없이 기능 구현하는것\n",
        "\n",
        "  추가 기능에 대해서는 관련 배경지식이 별로 없었기에 아이디어를 만들어 내는 것이 어려웠습니다.\n",
        "  그리고 base 코드가 없다 보니까, 어디서부터 시작해야될 지 막막했었습니다.\n",
        "\n",
        "- 해결방법\n",
        "  1. 팀원과의 의견교환 및 소통\n",
        "  2. 모르는 함수 기능 찾아보기\n",
        "\n",
        "  처음에 기능에 대해 모르고, 코드에 대한 확신이 없었을 때 팀원과 함께 피어코딩을 진행하면서 각자의 순서에 맞춰서 피드백을 주고 받고 수용하면서 해결할 수 있었던 것 같습니다.\n",
        "  또한 함수의 기능을 모두 모를 때, 찾아보면서 해결하지 못했던 문제들을 파헤칠 수 있었던 것 같습니다."
      ],
      "metadata": {
        "id": "-R7HseEkDefw"
      }
    },
    {
      "cell_type": "markdown",
      "source": [
        "## 강민지 회고\n",
        "\n",
        "오랜만에 클래스를 구현하니까 헷갈리는 부분도 많았고, 구현 하는게 아직도 부족한 거 같아서 다시 공부해야할 거 같습니다.\n",
        "\n",
        "- 어려웠던 부분\n",
        "  - 문제를 보고 어떻게 해야할지 감이 안잡혔다.\n",
        "  - 신규 메서드 작성이 어려웠다.\n",
        "\n",
        "- 해결 방법\n",
        "  - 검색하기\n",
        "  - 팀원 의사소통\n",
        "\n",
        "대호님이 많이 도와주셔서 많이 배운 거 같습니다!"
      ],
      "metadata": {
        "id": "vPYbiRmWFeRK"
      }
    }
  ]
}