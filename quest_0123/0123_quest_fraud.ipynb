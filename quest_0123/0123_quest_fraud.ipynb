{
 "cells": [
  {
   "cell_type": "markdown",
   "metadata": {},
   "source": [
    "# Fraud Detection Data Preprosessing"
   ]
  },
  {
   "cell_type": "markdown",
   "metadata": {},
   "source": [
    "## 1. Import libraries and loading dataset"
   ]
  },
  {
   "cell_type": "code",
   "execution_count": 18,
   "metadata": {},
   "outputs": [],
   "source": [
    "import pandas as pd\n",
    "import numpy as np\n",
    "import matplotlib.pyplot as plt\n",
    "import seaborn as sns\n",
    "%config InlineBackend.figure_format = 'retina'\n",
    "plt.rcParams['font.family'] = 'Avenir'"
   ]
  },
  {
   "cell_type": "code",
   "execution_count": 19,
   "metadata": {},
   "outputs": [],
   "source": [
    "pd.set_option('display.max_columns', 50)"
   ]
  },
  {
   "cell_type": "code",
   "execution_count": 20,
   "metadata": {},
   "outputs": [
    {
     "data": {
      "text/html": [
       "<div>\n",
       "<style scoped>\n",
       "    .dataframe tbody tr th:only-of-type {\n",
       "        vertical-align: middle;\n",
       "    }\n",
       "\n",
       "    .dataframe tbody tr th {\n",
       "        vertical-align: top;\n",
       "    }\n",
       "\n",
       "    .dataframe thead th {\n",
       "        text-align: right;\n",
       "    }\n",
       "</style>\n",
       "<table border=\"1\" class=\"dataframe\">\n",
       "  <thead>\n",
       "    <tr style=\"text-align: right;\">\n",
       "      <th></th>\n",
       "      <th>trans_date_trans_time</th>\n",
       "      <th>cc_num</th>\n",
       "      <th>merchant</th>\n",
       "      <th>category</th>\n",
       "      <th>amt</th>\n",
       "      <th>first</th>\n",
       "      <th>last</th>\n",
       "      <th>gender</th>\n",
       "      <th>street</th>\n",
       "      <th>city</th>\n",
       "      <th>state</th>\n",
       "      <th>zip</th>\n",
       "      <th>lat</th>\n",
       "      <th>long</th>\n",
       "      <th>city_pop</th>\n",
       "      <th>job</th>\n",
       "      <th>dob</th>\n",
       "      <th>trans_num</th>\n",
       "      <th>unix_time</th>\n",
       "      <th>merch_lat</th>\n",
       "      <th>merch_long</th>\n",
       "      <th>is_fraud</th>\n",
       "    </tr>\n",
       "  </thead>\n",
       "  <tbody>\n",
       "    <tr>\n",
       "      <th>0</th>\n",
       "      <td>2019-01-01 00:00:44</td>\n",
       "      <td>630423337322</td>\n",
       "      <td>fraud_Heller, Gutmann and Zieme</td>\n",
       "      <td>grocery_pos</td>\n",
       "      <td>107.23</td>\n",
       "      <td>Stephanie</td>\n",
       "      <td>Gill</td>\n",
       "      <td>F</td>\n",
       "      <td>43039 Riley Greens Suite 393</td>\n",
       "      <td>Orient</td>\n",
       "      <td>WA</td>\n",
       "      <td>99160</td>\n",
       "      <td>48.8878</td>\n",
       "      <td>-118.2105</td>\n",
       "      <td>149</td>\n",
       "      <td>Special educational needs teacher</td>\n",
       "      <td>1978-06-21</td>\n",
       "      <td>1f76529f8574734946361c461b024d99</td>\n",
       "      <td>1325376044</td>\n",
       "      <td>49.159047</td>\n",
       "      <td>-118.186462</td>\n",
       "      <td>0</td>\n",
       "    </tr>\n",
       "    <tr>\n",
       "      <th>1</th>\n",
       "      <td>2019-01-01 00:12:34</td>\n",
       "      <td>4956828990005111019</td>\n",
       "      <td>fraud_Schultz, Simonis and Little</td>\n",
       "      <td>grocery_pos</td>\n",
       "      <td>44.71</td>\n",
       "      <td>Kenneth</td>\n",
       "      <td>Robinson</td>\n",
       "      <td>M</td>\n",
       "      <td>269 Sanchez Rapids</td>\n",
       "      <td>Elizabeth</td>\n",
       "      <td>NJ</td>\n",
       "      <td>7208</td>\n",
       "      <td>40.6747</td>\n",
       "      <td>-74.2239</td>\n",
       "      <td>124967</td>\n",
       "      <td>Operational researcher</td>\n",
       "      <td>1980-12-21</td>\n",
       "      <td>09eff9c806365e2a6be12c1bbab3d70e</td>\n",
       "      <td>1325376754</td>\n",
       "      <td>40.079588</td>\n",
       "      <td>-74.848087</td>\n",
       "      <td>0</td>\n",
       "    </tr>\n",
       "    <tr>\n",
       "      <th>2</th>\n",
       "      <td>2019-01-01 00:17:16</td>\n",
       "      <td>180048185037117</td>\n",
       "      <td>fraud_Kling-Grant</td>\n",
       "      <td>grocery_net</td>\n",
       "      <td>46.28</td>\n",
       "      <td>Mary</td>\n",
       "      <td>Wall</td>\n",
       "      <td>F</td>\n",
       "      <td>2481 Mills Lock</td>\n",
       "      <td>Plainfield</td>\n",
       "      <td>NJ</td>\n",
       "      <td>7060</td>\n",
       "      <td>40.6152</td>\n",
       "      <td>-74.4150</td>\n",
       "      <td>71485</td>\n",
       "      <td>Leisure centre manager</td>\n",
       "      <td>1974-07-19</td>\n",
       "      <td>19e23c6a300c774354417befe4f31f8c</td>\n",
       "      <td>1325377036</td>\n",
       "      <td>40.021888</td>\n",
       "      <td>-74.228188</td>\n",
       "      <td>0</td>\n",
       "    </tr>\n",
       "    <tr>\n",
       "      <th>3</th>\n",
       "      <td>2019-01-01 00:20:15</td>\n",
       "      <td>374930071163758</td>\n",
       "      <td>fraud_Deckow-O'Conner</td>\n",
       "      <td>grocery_pos</td>\n",
       "      <td>64.09</td>\n",
       "      <td>Daniel</td>\n",
       "      <td>Escobar</td>\n",
       "      <td>M</td>\n",
       "      <td>61390 Hayes Port</td>\n",
       "      <td>Romulus</td>\n",
       "      <td>MI</td>\n",
       "      <td>48174</td>\n",
       "      <td>42.2203</td>\n",
       "      <td>-83.3583</td>\n",
       "      <td>31515</td>\n",
       "      <td>Police officer</td>\n",
       "      <td>1971-11-05</td>\n",
       "      <td>6f363661ba6b55889e488dd178f2a0af</td>\n",
       "      <td>1325377215</td>\n",
       "      <td>42.360426</td>\n",
       "      <td>-83.552316</td>\n",
       "      <td>0</td>\n",
       "    </tr>\n",
       "    <tr>\n",
       "      <th>4</th>\n",
       "      <td>2019-01-01 00:23:41</td>\n",
       "      <td>2712209726293386</td>\n",
       "      <td>fraud_Balistreri-Nader</td>\n",
       "      <td>misc_pos</td>\n",
       "      <td>25.58</td>\n",
       "      <td>Jenna</td>\n",
       "      <td>Brooks</td>\n",
       "      <td>F</td>\n",
       "      <td>50872 Alex Plain Suite 088</td>\n",
       "      <td>Baton Rouge</td>\n",
       "      <td>LA</td>\n",
       "      <td>70808</td>\n",
       "      <td>30.4066</td>\n",
       "      <td>-91.1468</td>\n",
       "      <td>378909</td>\n",
       "      <td>Designer, furniture</td>\n",
       "      <td>1977-02-22</td>\n",
       "      <td>1654da2abfb9e79a5f99167fc9779558</td>\n",
       "      <td>1325377421</td>\n",
       "      <td>29.737426</td>\n",
       "      <td>-90.853194</td>\n",
       "      <td>0</td>\n",
       "    </tr>\n",
       "    <tr>\n",
       "      <th>...</th>\n",
       "      <td>...</td>\n",
       "      <td>...</td>\n",
       "      <td>...</td>\n",
       "      <td>...</td>\n",
       "      <td>...</td>\n",
       "      <td>...</td>\n",
       "      <td>...</td>\n",
       "      <td>...</td>\n",
       "      <td>...</td>\n",
       "      <td>...</td>\n",
       "      <td>...</td>\n",
       "      <td>...</td>\n",
       "      <td>...</td>\n",
       "      <td>...</td>\n",
       "      <td>...</td>\n",
       "      <td>...</td>\n",
       "      <td>...</td>\n",
       "      <td>...</td>\n",
       "      <td>...</td>\n",
       "      <td>...</td>\n",
       "      <td>...</td>\n",
       "      <td>...</td>\n",
       "    </tr>\n",
       "    <tr>\n",
       "      <th>491129</th>\n",
       "      <td>2020-12-31 23:56:48</td>\n",
       "      <td>6011109736646996</td>\n",
       "      <td>fraud_Botsford and Sons</td>\n",
       "      <td>home</td>\n",
       "      <td>134.26</td>\n",
       "      <td>Rebecca</td>\n",
       "      <td>Erickson</td>\n",
       "      <td>F</td>\n",
       "      <td>594 Berry Lights Apt. 392</td>\n",
       "      <td>Wilmington</td>\n",
       "      <td>NC</td>\n",
       "      <td>28405</td>\n",
       "      <td>34.2651</td>\n",
       "      <td>-77.8670</td>\n",
       "      <td>186140</td>\n",
       "      <td>English as a second language teacher</td>\n",
       "      <td>1983-02-08</td>\n",
       "      <td>fc860b0d1f89b0b068c9c8db27b6bcc5</td>\n",
       "      <td>1388534208</td>\n",
       "      <td>34.853497</td>\n",
       "      <td>-78.664158</td>\n",
       "      <td>0</td>\n",
       "    </tr>\n",
       "    <tr>\n",
       "      <th>491130</th>\n",
       "      <td>2020-12-31 23:56:57</td>\n",
       "      <td>213112402583773</td>\n",
       "      <td>fraud_Baumbach, Hodkiewicz and Walsh</td>\n",
       "      <td>shopping_pos</td>\n",
       "      <td>25.49</td>\n",
       "      <td>Ana</td>\n",
       "      <td>Howell</td>\n",
       "      <td>F</td>\n",
       "      <td>4664 Sanchez Common Suite 930</td>\n",
       "      <td>Bradley</td>\n",
       "      <td>SC</td>\n",
       "      <td>29819</td>\n",
       "      <td>34.0326</td>\n",
       "      <td>-82.2027</td>\n",
       "      <td>1523</td>\n",
       "      <td>Research scientist (physical sciences)</td>\n",
       "      <td>1984-06-03</td>\n",
       "      <td>0f0c38fe781b317f733b845c0d6ba448</td>\n",
       "      <td>1388534217</td>\n",
       "      <td>35.008839</td>\n",
       "      <td>-81.475156</td>\n",
       "      <td>0</td>\n",
       "    </tr>\n",
       "    <tr>\n",
       "      <th>491131</th>\n",
       "      <td>2020-12-31 23:59:09</td>\n",
       "      <td>3556613125071656</td>\n",
       "      <td>fraud_Hoppe-Parisian</td>\n",
       "      <td>kids_pets</td>\n",
       "      <td>111.84</td>\n",
       "      <td>Jose</td>\n",
       "      <td>Vasquez</td>\n",
       "      <td>M</td>\n",
       "      <td>572 Davis Mountains</td>\n",
       "      <td>Lake Jackson</td>\n",
       "      <td>TX</td>\n",
       "      <td>77566</td>\n",
       "      <td>29.0393</td>\n",
       "      <td>-95.4401</td>\n",
       "      <td>28739</td>\n",
       "      <td>Futures trader</td>\n",
       "      <td>1999-12-27</td>\n",
       "      <td>2090647dac2c89a1d86c514c427f5b91</td>\n",
       "      <td>1388534349</td>\n",
       "      <td>29.661049</td>\n",
       "      <td>-96.186633</td>\n",
       "      <td>0</td>\n",
       "    </tr>\n",
       "    <tr>\n",
       "      <th>491132</th>\n",
       "      <td>2020-12-31 23:59:15</td>\n",
       "      <td>6011724471098086</td>\n",
       "      <td>fraud_Rau-Robel</td>\n",
       "      <td>kids_pets</td>\n",
       "      <td>86.88</td>\n",
       "      <td>Ann</td>\n",
       "      <td>Lawson</td>\n",
       "      <td>F</td>\n",
       "      <td>144 Evans Islands Apt. 683</td>\n",
       "      <td>Burbank</td>\n",
       "      <td>WA</td>\n",
       "      <td>99323</td>\n",
       "      <td>46.1966</td>\n",
       "      <td>-118.9017</td>\n",
       "      <td>3684</td>\n",
       "      <td>Musician</td>\n",
       "      <td>1981-11-29</td>\n",
       "      <td>6c5b7c8add471975aa0fec023b2e8408</td>\n",
       "      <td>1388534355</td>\n",
       "      <td>46.658340</td>\n",
       "      <td>-119.715054</td>\n",
       "      <td>0</td>\n",
       "    </tr>\n",
       "    <tr>\n",
       "      <th>491133</th>\n",
       "      <td>2020-12-31 23:59:34</td>\n",
       "      <td>4170689372027579</td>\n",
       "      <td>fraud_Dare-Marvin</td>\n",
       "      <td>entertainment</td>\n",
       "      <td>38.13</td>\n",
       "      <td>Samuel</td>\n",
       "      <td>Frey</td>\n",
       "      <td>M</td>\n",
       "      <td>830 Myers Plaza Apt. 384</td>\n",
       "      <td>Edmond</td>\n",
       "      <td>OK</td>\n",
       "      <td>73034</td>\n",
       "      <td>35.6665</td>\n",
       "      <td>-97.4798</td>\n",
       "      <td>116001</td>\n",
       "      <td>Media buyer</td>\n",
       "      <td>1993-05-10</td>\n",
       "      <td>1765bb45b3aa3224b4cdcb6e7a96cee3</td>\n",
       "      <td>1388534374</td>\n",
       "      <td>36.210097</td>\n",
       "      <td>-97.036372</td>\n",
       "      <td>0</td>\n",
       "    </tr>\n",
       "  </tbody>\n",
       "</table>\n",
       "<p>491134 rows × 22 columns</p>\n",
       "</div>"
      ],
      "text/plain": [
       "       trans_date_trans_time               cc_num  \\\n",
       "0        2019-01-01 00:00:44         630423337322   \n",
       "1        2019-01-01 00:12:34  4956828990005111019   \n",
       "2        2019-01-01 00:17:16      180048185037117   \n",
       "3        2019-01-01 00:20:15      374930071163758   \n",
       "4        2019-01-01 00:23:41     2712209726293386   \n",
       "...                      ...                  ...   \n",
       "491129   2020-12-31 23:56:48     6011109736646996   \n",
       "491130   2020-12-31 23:56:57      213112402583773   \n",
       "491131   2020-12-31 23:59:09     3556613125071656   \n",
       "491132   2020-12-31 23:59:15     6011724471098086   \n",
       "491133   2020-12-31 23:59:34     4170689372027579   \n",
       "\n",
       "                                    merchant       category     amt  \\\n",
       "0            fraud_Heller, Gutmann and Zieme    grocery_pos  107.23   \n",
       "1          fraud_Schultz, Simonis and Little    grocery_pos   44.71   \n",
       "2                          fraud_Kling-Grant    grocery_net   46.28   \n",
       "3                      fraud_Deckow-O'Conner    grocery_pos   64.09   \n",
       "4                     fraud_Balistreri-Nader       misc_pos   25.58   \n",
       "...                                      ...            ...     ...   \n",
       "491129               fraud_Botsford and Sons           home  134.26   \n",
       "491130  fraud_Baumbach, Hodkiewicz and Walsh   shopping_pos   25.49   \n",
       "491131                  fraud_Hoppe-Parisian      kids_pets  111.84   \n",
       "491132                       fraud_Rau-Robel      kids_pets   86.88   \n",
       "491133                     fraud_Dare-Marvin  entertainment   38.13   \n",
       "\n",
       "            first      last gender                         street  \\\n",
       "0       Stephanie      Gill      F   43039 Riley Greens Suite 393   \n",
       "1         Kenneth  Robinson      M             269 Sanchez Rapids   \n",
       "2            Mary      Wall      F                2481 Mills Lock   \n",
       "3          Daniel   Escobar      M               61390 Hayes Port   \n",
       "4           Jenna    Brooks      F     50872 Alex Plain Suite 088   \n",
       "...           ...       ...    ...                            ...   \n",
       "491129    Rebecca  Erickson      F      594 Berry Lights Apt. 392   \n",
       "491130        Ana    Howell      F  4664 Sanchez Common Suite 930   \n",
       "491131       Jose   Vasquez      M            572 Davis Mountains   \n",
       "491132        Ann    Lawson      F     144 Evans Islands Apt. 683   \n",
       "491133     Samuel      Frey      M       830 Myers Plaza Apt. 384   \n",
       "\n",
       "                city state    zip      lat      long  city_pop  \\\n",
       "0             Orient    WA  99160  48.8878 -118.2105       149   \n",
       "1          Elizabeth    NJ   7208  40.6747  -74.2239    124967   \n",
       "2         Plainfield    NJ   7060  40.6152  -74.4150     71485   \n",
       "3            Romulus    MI  48174  42.2203  -83.3583     31515   \n",
       "4        Baton Rouge    LA  70808  30.4066  -91.1468    378909   \n",
       "...              ...   ...    ...      ...       ...       ...   \n",
       "491129    Wilmington    NC  28405  34.2651  -77.8670    186140   \n",
       "491130       Bradley    SC  29819  34.0326  -82.2027      1523   \n",
       "491131  Lake Jackson    TX  77566  29.0393  -95.4401     28739   \n",
       "491132       Burbank    WA  99323  46.1966 -118.9017      3684   \n",
       "491133        Edmond    OK  73034  35.6665  -97.4798    116001   \n",
       "\n",
       "                                           job         dob  \\\n",
       "0            Special educational needs teacher  1978-06-21   \n",
       "1                       Operational researcher  1980-12-21   \n",
       "2                       Leisure centre manager  1974-07-19   \n",
       "3                               Police officer  1971-11-05   \n",
       "4                          Designer, furniture  1977-02-22   \n",
       "...                                        ...         ...   \n",
       "491129    English as a second language teacher  1983-02-08   \n",
       "491130  Research scientist (physical sciences)  1984-06-03   \n",
       "491131                          Futures trader  1999-12-27   \n",
       "491132                                Musician  1981-11-29   \n",
       "491133                             Media buyer  1993-05-10   \n",
       "\n",
       "                               trans_num   unix_time  merch_lat  merch_long  \\\n",
       "0       1f76529f8574734946361c461b024d99  1325376044  49.159047 -118.186462   \n",
       "1       09eff9c806365e2a6be12c1bbab3d70e  1325376754  40.079588  -74.848087   \n",
       "2       19e23c6a300c774354417befe4f31f8c  1325377036  40.021888  -74.228188   \n",
       "3       6f363661ba6b55889e488dd178f2a0af  1325377215  42.360426  -83.552316   \n",
       "4       1654da2abfb9e79a5f99167fc9779558  1325377421  29.737426  -90.853194   \n",
       "...                                  ...         ...        ...         ...   \n",
       "491129  fc860b0d1f89b0b068c9c8db27b6bcc5  1388534208  34.853497  -78.664158   \n",
       "491130  0f0c38fe781b317f733b845c0d6ba448  1388534217  35.008839  -81.475156   \n",
       "491131  2090647dac2c89a1d86c514c427f5b91  1388534349  29.661049  -96.186633   \n",
       "491132  6c5b7c8add471975aa0fec023b2e8408  1388534355  46.658340 -119.715054   \n",
       "491133  1765bb45b3aa3224b4cdcb6e7a96cee3  1388534374  36.210097  -97.036372   \n",
       "\n",
       "        is_fraud  \n",
       "0              0  \n",
       "1              0  \n",
       "2              0  \n",
       "3              0  \n",
       "4              0  \n",
       "...          ...  \n",
       "491129         0  \n",
       "491130         0  \n",
       "491131         0  \n",
       "491132         0  \n",
       "491133         0  \n",
       "\n",
       "[491134 rows x 22 columns]"
      ]
     },
     "execution_count": 20,
     "metadata": {},
     "output_type": "execute_result"
    }
   ],
   "source": [
    "pd.read_csv('~/aiffel/data/fraud.csv')"
   ]
  },
  {
   "cell_type": "markdown",
   "metadata": {},
   "source": [
    "## 2. Understanding dataset"
   ]
  },
  {
   "cell_type": "code",
   "execution_count": 21,
   "metadata": {},
   "outputs": [
    {
     "data": {
      "text/html": [
       "<div>\n",
       "<style scoped>\n",
       "    .dataframe tbody tr th:only-of-type {\n",
       "        vertical-align: middle;\n",
       "    }\n",
       "\n",
       "    .dataframe tbody tr th {\n",
       "        vertical-align: top;\n",
       "    }\n",
       "\n",
       "    .dataframe thead th {\n",
       "        text-align: right;\n",
       "    }\n",
       "</style>\n",
       "<table border=\"1\" class=\"dataframe\">\n",
       "  <thead>\n",
       "    <tr style=\"text-align: right;\">\n",
       "      <th></th>\n",
       "      <th>trans_date_trans_time</th>\n",
       "      <th>cc_num</th>\n",
       "      <th>merchant</th>\n",
       "      <th>category</th>\n",
       "      <th>amt</th>\n",
       "      <th>first</th>\n",
       "      <th>last</th>\n",
       "      <th>gender</th>\n",
       "      <th>street</th>\n",
       "      <th>city</th>\n",
       "      <th>state</th>\n",
       "      <th>zip</th>\n",
       "      <th>lat</th>\n",
       "      <th>long</th>\n",
       "      <th>city_pop</th>\n",
       "      <th>job</th>\n",
       "      <th>dob</th>\n",
       "      <th>trans_num</th>\n",
       "      <th>unix_time</th>\n",
       "      <th>merch_lat</th>\n",
       "      <th>merch_long</th>\n",
       "      <th>is_fraud</th>\n",
       "    </tr>\n",
       "  </thead>\n",
       "  <tbody>\n",
       "    <tr>\n",
       "      <th>0</th>\n",
       "      <td>2019-01-01 00:00:44</td>\n",
       "      <td>630423337322</td>\n",
       "      <td>fraud_Heller, Gutmann and Zieme</td>\n",
       "      <td>grocery_pos</td>\n",
       "      <td>107.23</td>\n",
       "      <td>Stephanie</td>\n",
       "      <td>Gill</td>\n",
       "      <td>F</td>\n",
       "      <td>43039 Riley Greens Suite 393</td>\n",
       "      <td>Orient</td>\n",
       "      <td>WA</td>\n",
       "      <td>99160</td>\n",
       "      <td>48.8878</td>\n",
       "      <td>-118.2105</td>\n",
       "      <td>149</td>\n",
       "      <td>Special educational needs teacher</td>\n",
       "      <td>1978-06-21</td>\n",
       "      <td>1f76529f8574734946361c461b024d99</td>\n",
       "      <td>1325376044</td>\n",
       "      <td>49.159047</td>\n",
       "      <td>-118.186462</td>\n",
       "      <td>0</td>\n",
       "    </tr>\n",
       "    <tr>\n",
       "      <th>1</th>\n",
       "      <td>2019-01-01 00:12:34</td>\n",
       "      <td>4956828990005111019</td>\n",
       "      <td>fraud_Schultz, Simonis and Little</td>\n",
       "      <td>grocery_pos</td>\n",
       "      <td>44.71</td>\n",
       "      <td>Kenneth</td>\n",
       "      <td>Robinson</td>\n",
       "      <td>M</td>\n",
       "      <td>269 Sanchez Rapids</td>\n",
       "      <td>Elizabeth</td>\n",
       "      <td>NJ</td>\n",
       "      <td>7208</td>\n",
       "      <td>40.6747</td>\n",
       "      <td>-74.2239</td>\n",
       "      <td>124967</td>\n",
       "      <td>Operational researcher</td>\n",
       "      <td>1980-12-21</td>\n",
       "      <td>09eff9c806365e2a6be12c1bbab3d70e</td>\n",
       "      <td>1325376754</td>\n",
       "      <td>40.079588</td>\n",
       "      <td>-74.848087</td>\n",
       "      <td>0</td>\n",
       "    </tr>\n",
       "    <tr>\n",
       "      <th>2</th>\n",
       "      <td>2019-01-01 00:17:16</td>\n",
       "      <td>180048185037117</td>\n",
       "      <td>fraud_Kling-Grant</td>\n",
       "      <td>grocery_net</td>\n",
       "      <td>46.28</td>\n",
       "      <td>Mary</td>\n",
       "      <td>Wall</td>\n",
       "      <td>F</td>\n",
       "      <td>2481 Mills Lock</td>\n",
       "      <td>Plainfield</td>\n",
       "      <td>NJ</td>\n",
       "      <td>7060</td>\n",
       "      <td>40.6152</td>\n",
       "      <td>-74.4150</td>\n",
       "      <td>71485</td>\n",
       "      <td>Leisure centre manager</td>\n",
       "      <td>1974-07-19</td>\n",
       "      <td>19e23c6a300c774354417befe4f31f8c</td>\n",
       "      <td>1325377036</td>\n",
       "      <td>40.021888</td>\n",
       "      <td>-74.228188</td>\n",
       "      <td>0</td>\n",
       "    </tr>\n",
       "    <tr>\n",
       "      <th>3</th>\n",
       "      <td>2019-01-01 00:20:15</td>\n",
       "      <td>374930071163758</td>\n",
       "      <td>fraud_Deckow-O'Conner</td>\n",
       "      <td>grocery_pos</td>\n",
       "      <td>64.09</td>\n",
       "      <td>Daniel</td>\n",
       "      <td>Escobar</td>\n",
       "      <td>M</td>\n",
       "      <td>61390 Hayes Port</td>\n",
       "      <td>Romulus</td>\n",
       "      <td>MI</td>\n",
       "      <td>48174</td>\n",
       "      <td>42.2203</td>\n",
       "      <td>-83.3583</td>\n",
       "      <td>31515</td>\n",
       "      <td>Police officer</td>\n",
       "      <td>1971-11-05</td>\n",
       "      <td>6f363661ba6b55889e488dd178f2a0af</td>\n",
       "      <td>1325377215</td>\n",
       "      <td>42.360426</td>\n",
       "      <td>-83.552316</td>\n",
       "      <td>0</td>\n",
       "    </tr>\n",
       "    <tr>\n",
       "      <th>4</th>\n",
       "      <td>2019-01-01 00:23:41</td>\n",
       "      <td>2712209726293386</td>\n",
       "      <td>fraud_Balistreri-Nader</td>\n",
       "      <td>misc_pos</td>\n",
       "      <td>25.58</td>\n",
       "      <td>Jenna</td>\n",
       "      <td>Brooks</td>\n",
       "      <td>F</td>\n",
       "      <td>50872 Alex Plain Suite 088</td>\n",
       "      <td>Baton Rouge</td>\n",
       "      <td>LA</td>\n",
       "      <td>70808</td>\n",
       "      <td>30.4066</td>\n",
       "      <td>-91.1468</td>\n",
       "      <td>378909</td>\n",
       "      <td>Designer, furniture</td>\n",
       "      <td>1977-02-22</td>\n",
       "      <td>1654da2abfb9e79a5f99167fc9779558</td>\n",
       "      <td>1325377421</td>\n",
       "      <td>29.737426</td>\n",
       "      <td>-90.853194</td>\n",
       "      <td>0</td>\n",
       "    </tr>\n",
       "  </tbody>\n",
       "</table>\n",
       "</div>"
      ],
      "text/plain": [
       "  trans_date_trans_time               cc_num  \\\n",
       "0   2019-01-01 00:00:44         630423337322   \n",
       "1   2019-01-01 00:12:34  4956828990005111019   \n",
       "2   2019-01-01 00:17:16      180048185037117   \n",
       "3   2019-01-01 00:20:15      374930071163758   \n",
       "4   2019-01-01 00:23:41     2712209726293386   \n",
       "\n",
       "                            merchant     category     amt      first  \\\n",
       "0    fraud_Heller, Gutmann and Zieme  grocery_pos  107.23  Stephanie   \n",
       "1  fraud_Schultz, Simonis and Little  grocery_pos   44.71    Kenneth   \n",
       "2                  fraud_Kling-Grant  grocery_net   46.28       Mary   \n",
       "3              fraud_Deckow-O'Conner  grocery_pos   64.09     Daniel   \n",
       "4             fraud_Balistreri-Nader     misc_pos   25.58      Jenna   \n",
       "\n",
       "       last gender                        street         city state    zip  \\\n",
       "0      Gill      F  43039 Riley Greens Suite 393       Orient    WA  99160   \n",
       "1  Robinson      M            269 Sanchez Rapids    Elizabeth    NJ   7208   \n",
       "2      Wall      F               2481 Mills Lock   Plainfield    NJ   7060   \n",
       "3   Escobar      M              61390 Hayes Port      Romulus    MI  48174   \n",
       "4    Brooks      F    50872 Alex Plain Suite 088  Baton Rouge    LA  70808   \n",
       "\n",
       "       lat      long  city_pop                                job         dob  \\\n",
       "0  48.8878 -118.2105       149  Special educational needs teacher  1978-06-21   \n",
       "1  40.6747  -74.2239    124967             Operational researcher  1980-12-21   \n",
       "2  40.6152  -74.4150     71485             Leisure centre manager  1974-07-19   \n",
       "3  42.2203  -83.3583     31515                     Police officer  1971-11-05   \n",
       "4  30.4066  -91.1468    378909                Designer, furniture  1977-02-22   \n",
       "\n",
       "                          trans_num   unix_time  merch_lat  merch_long  \\\n",
       "0  1f76529f8574734946361c461b024d99  1325376044  49.159047 -118.186462   \n",
       "1  09eff9c806365e2a6be12c1bbab3d70e  1325376754  40.079588  -74.848087   \n",
       "2  19e23c6a300c774354417befe4f31f8c  1325377036  40.021888  -74.228188   \n",
       "3  6f363661ba6b55889e488dd178f2a0af  1325377215  42.360426  -83.552316   \n",
       "4  1654da2abfb9e79a5f99167fc9779558  1325377421  29.737426  -90.853194   \n",
       "\n",
       "   is_fraud  \n",
       "0         0  \n",
       "1         0  \n",
       "2         0  \n",
       "3         0  \n",
       "4         0  "
      ]
     },
     "execution_count": 21,
     "metadata": {},
     "output_type": "execute_result"
    }
   ],
   "source": [
    "fraud_df = pd.read_csv('~/aiffel/data/fraud.csv')\n",
    "fraud_df.head()"
   ]
  },
  {
   "cell_type": "code",
   "execution_count": 22,
   "metadata": {},
   "outputs": [
    {
     "name": "stdout",
     "output_type": "stream",
     "text": [
      "<class 'pandas.core.frame.DataFrame'>\n",
      "RangeIndex: 491134 entries, 0 to 491133\n",
      "Data columns (total 22 columns):\n",
      " #   Column                 Non-Null Count   Dtype  \n",
      "---  ------                 --------------   -----  \n",
      " 0   trans_date_trans_time  491134 non-null  object \n",
      " 1   cc_num                 491134 non-null  int64  \n",
      " 2   merchant               491134 non-null  object \n",
      " 3   category               491134 non-null  object \n",
      " 4   amt                    491134 non-null  float64\n",
      " 5   first                  491134 non-null  object \n",
      " 6   last                   491134 non-null  object \n",
      " 7   gender                 491134 non-null  object \n",
      " 8   street                 491134 non-null  object \n",
      " 9   city                   491134 non-null  object \n",
      " 10  state                  491134 non-null  object \n",
      " 11  zip                    491134 non-null  int64  \n",
      " 12  lat                    491134 non-null  float64\n",
      " 13  long                   491134 non-null  float64\n",
      " 14  city_pop               491134 non-null  int64  \n",
      " 15  job                    491134 non-null  object \n",
      " 16  dob                    491134 non-null  object \n",
      " 17  trans_num              491134 non-null  object \n",
      " 18  unix_time              491134 non-null  int64  \n",
      " 19  merch_lat              491134 non-null  float64\n",
      " 20  merch_long             491134 non-null  float64\n",
      " 21  is_fraud               491134 non-null  int64  \n",
      "dtypes: float64(5), int64(5), object(12)\n",
      "memory usage: 82.4+ MB\n"
     ]
    }
   ],
   "source": [
    "fraud_df.info()"
   ]
  },
  {
   "cell_type": "markdown",
   "metadata": {},
   "source": [
    "## 3. Handling duplicated data"
   ]
  },
  {
   "cell_type": "code",
   "execution_count": 23,
   "metadata": {},
   "outputs": [
    {
     "data": {
      "text/html": [
       "<div>\n",
       "<style scoped>\n",
       "    .dataframe tbody tr th:only-of-type {\n",
       "        vertical-align: middle;\n",
       "    }\n",
       "\n",
       "    .dataframe tbody tr th {\n",
       "        vertical-align: top;\n",
       "    }\n",
       "\n",
       "    .dataframe thead th {\n",
       "        text-align: right;\n",
       "    }\n",
       "</style>\n",
       "<table border=\"1\" class=\"dataframe\">\n",
       "  <thead>\n",
       "    <tr style=\"text-align: right;\">\n",
       "      <th></th>\n",
       "      <th>trans_date_trans_time</th>\n",
       "      <th>cc_num</th>\n",
       "      <th>merchant</th>\n",
       "      <th>category</th>\n",
       "      <th>amt</th>\n",
       "      <th>first</th>\n",
       "      <th>last</th>\n",
       "      <th>gender</th>\n",
       "      <th>street</th>\n",
       "      <th>city</th>\n",
       "      <th>state</th>\n",
       "      <th>zip</th>\n",
       "      <th>lat</th>\n",
       "      <th>long</th>\n",
       "      <th>city_pop</th>\n",
       "      <th>job</th>\n",
       "      <th>dob</th>\n",
       "      <th>trans_num</th>\n",
       "      <th>unix_time</th>\n",
       "      <th>merch_lat</th>\n",
       "      <th>merch_long</th>\n",
       "      <th>is_fraud</th>\n",
       "    </tr>\n",
       "  </thead>\n",
       "  <tbody>\n",
       "  </tbody>\n",
       "</table>\n",
       "</div>"
      ],
      "text/plain": [
       "Empty DataFrame\n",
       "Columns: [trans_date_trans_time, cc_num, merchant, category, amt, first, last, gender, street, city, state, zip, lat, long, city_pop, job, dob, trans_num, unix_time, merch_lat, merch_long, is_fraud]\n",
       "Index: []"
      ]
     },
     "execution_count": 23,
     "metadata": {},
     "output_type": "execute_result"
    }
   ],
   "source": [
    "fraud_df[fraud_df.duplicated()]"
   ]
  },
  {
   "cell_type": "markdown",
   "metadata": {},
   "source": [
    "## 4. Handling missing data"
   ]
  },
  {
   "cell_type": "code",
   "execution_count": 24,
   "metadata": {},
   "outputs": [
    {
     "data": {
      "text/plain": [
       "trans_date_trans_time    0\n",
       "cc_num                   0\n",
       "merchant                 0\n",
       "category                 0\n",
       "amt                      0\n",
       "first                    0\n",
       "last                     0\n",
       "gender                   0\n",
       "street                   0\n",
       "city                     0\n",
       "state                    0\n",
       "zip                      0\n",
       "lat                      0\n",
       "long                     0\n",
       "city_pop                 0\n",
       "job                      0\n",
       "dob                      0\n",
       "trans_num                0\n",
       "unix_time                0\n",
       "merch_lat                0\n",
       "merch_long               0\n",
       "is_fraud                 0\n",
       "dtype: int64"
      ]
     },
     "execution_count": 24,
     "metadata": {},
     "output_type": "execute_result"
    }
   ],
   "source": [
    "fraud_df.isna().sum()"
   ]
  },
  {
   "cell_type": "code",
   "execution_count": 25,
   "metadata": {},
   "outputs": [
    {
     "data": {
      "text/plain": [
       "trans_date_trans_time    0.0\n",
       "cc_num                   0.0\n",
       "merchant                 0.0\n",
       "category                 0.0\n",
       "amt                      0.0\n",
       "first                    0.0\n",
       "last                     0.0\n",
       "gender                   0.0\n",
       "street                   0.0\n",
       "city                     0.0\n",
       "state                    0.0\n",
       "zip                      0.0\n",
       "lat                      0.0\n",
       "long                     0.0\n",
       "city_pop                 0.0\n",
       "job                      0.0\n",
       "dob                      0.0\n",
       "trans_num                0.0\n",
       "unix_time                0.0\n",
       "merch_lat                0.0\n",
       "merch_long               0.0\n",
       "is_fraud                 0.0\n",
       "dtype: float64"
      ]
     },
     "execution_count": 25,
     "metadata": {},
     "output_type": "execute_result"
    }
   ],
   "source": [
    "fraud_df.isna().mean()"
   ]
  },
  {
   "cell_type": "markdown",
   "metadata": {},
   "source": [
    "## 5. Change data type 'trans_date_trans_time' & 'dob' to  datetime"
   ]
  },
  {
   "cell_type": "code",
   "execution_count": 26,
   "metadata": {},
   "outputs": [
    {
     "data": {
      "text/plain": [
       "0        2019-01-01 00:00:44\n",
       "1        2019-01-01 00:12:34\n",
       "2        2019-01-01 00:17:16\n",
       "3        2019-01-01 00:20:15\n",
       "4        2019-01-01 00:23:41\n",
       "                 ...        \n",
       "491129   2020-12-31 23:56:48\n",
       "491130   2020-12-31 23:56:57\n",
       "491131   2020-12-31 23:59:09\n",
       "491132   2020-12-31 23:59:15\n",
       "491133   2020-12-31 23:59:34\n",
       "Name: trans_date_trans_time, Length: 491134, dtype: datetime64[ns]"
      ]
     },
     "execution_count": 26,
     "metadata": {},
     "output_type": "execute_result"
    }
   ],
   "source": [
    "pd.to_datetime(fraud_df['trans_date_trans_time'])"
   ]
  },
  {
   "cell_type": "code",
   "execution_count": 27,
   "metadata": {},
   "outputs": [],
   "source": [
    "fraud_df['trans_date_trans_time'] = pd.to_datetime(fraud_df['trans_date_trans_time'])"
   ]
  },
  {
   "cell_type": "code",
   "execution_count": 28,
   "metadata": {},
   "outputs": [],
   "source": [
    "fraud_df['dob'] = pd.to_datetime(fraud_df['dob'])"
   ]
  },
  {
   "cell_type": "markdown",
   "metadata": {},
   "source": [
    "### Extract 'hour' value from the 'trans_date_trans_time'"
   ]
  },
  {
   "cell_type": "code",
   "execution_count": 29,
   "metadata": {},
   "outputs": [
    {
     "data": {
      "text/plain": [
       "0          0\n",
       "1          0\n",
       "2          0\n",
       "3          0\n",
       "4          0\n",
       "          ..\n",
       "491129    23\n",
       "491130    23\n",
       "491131    23\n",
       "491132    23\n",
       "491133    23\n",
       "Name: trans_date_trans_time, Length: 491134, dtype: int32"
      ]
     },
     "execution_count": 29,
     "metadata": {},
     "output_type": "execute_result"
    }
   ],
   "source": [
    "fraud_df['trans_date_trans_time'].dt.hour"
   ]
  },
  {
   "cell_type": "code",
   "execution_count": 30,
   "metadata": {},
   "outputs": [],
   "source": [
    "fraud_df['hour'] = fraud_df['trans_date_trans_time'].dt.hour"
   ]
  },
  {
   "cell_type": "markdown",
   "metadata": {},
   "source": [
    "### Extract 'age' from 'dob'"
   ]
  },
  {
   "cell_type": "code",
   "execution_count": 31,
   "metadata": {},
   "outputs": [],
   "source": [
    "from datetime import datetime\n",
    "\n",
    "today = datetime.now()\n",
    "fraud_df['age'] = today.year - fraud_df['dob'].dt.year"
   ]
  },
  {
   "cell_type": "markdown",
   "metadata": {},
   "source": [
    "## 6. Binning 'amt' data \n",
    "[0, 10, 50, 100, 500, 1000, 5000, 10000, 15000, 20000, 25000]"
   ]
  },
  {
   "cell_type": "code",
   "execution_count": 32,
   "metadata": {},
   "outputs": [
    {
     "data": {
      "text/plain": [
       "count    491134.000000\n",
       "mean         69.050120\n",
       "std         160.322867\n",
       "min           1.000000\n",
       "25%           8.960000\n",
       "50%          42.170000\n",
       "75%          80.330000\n",
       "max       25086.940000\n",
       "Name: amt, dtype: float64"
      ]
     },
     "execution_count": 32,
     "metadata": {},
     "output_type": "execute_result"
    }
   ],
   "source": [
    "fraud_df['amt'].describe()"
   ]
  },
  {
   "cell_type": "code",
   "execution_count": 33,
   "metadata": {},
   "outputs": [],
   "source": [
    "bins = [0, 10, 50, 100, 500, 1000, 5000, 10000, 15000, 20000, 25000]\n",
    "labels = [1, 2, 3, 4, 5, 6, 7, 8, 9, 10]\n",
    "fraud_df['amt_bin'] = pd.cut(fraud_df['amt'], bins = bins, labels = labels)"
   ]
  },
  {
   "cell_type": "code",
   "execution_count": 34,
   "metadata": {},
   "outputs": [
    {
     "data": {
      "text/plain": [
       "<Axes: xlabel='None', ylabel='amt_bin'>"
      ]
     },
     "execution_count": 34,
     "metadata": {},
     "output_type": "execute_result"
    }
   ],
   "source": [
    "sns.scatterplot(data=fraud_df, x = fraud_df.index, y= 'amt_bin', hue='is_fraud')"
   ]
  },
  {
   "cell_type": "markdown",
   "metadata": {},
   "source": [
    "## 7. Divide region w/c/e depend on the 'long' column \n"
   ]
  },
  {
   "cell_type": "code",
   "execution_count": null,
   "metadata": {},
   "outputs": [],
   "source": [
    "sns.scatterplot(data=fraud_df, x = 'long', y= 'lat', hue='is_fraud', alpha = 0.1)"
   ]
  },
  {
   "cell_type": "code",
   "execution_count": null,
   "metadata": {},
   "outputs": [],
   "source": [
    "def determine_region_ew(longitude):\n",
    "    if -82 <= longitude <= -66:\n",
    "        return 'Eastern'\n",
    "    elif -101 <= longitude < -82:\n",
    "        return 'Central'\n",
    "    elif -125 <= longitude < -101:\n",
    "        return 'Western'\n",
    "    else:\n",
    "        return 'Other'\n",
    "    \n",
    "fraud_df['east_west'] = fraud_df['long'].apply(determine_region_ew).astype('category')\n"
   ]
  },
  {
   "cell_type": "code",
   "execution_count": null,
   "metadata": {},
   "outputs": [],
   "source": [
    "sns.scatterplot(data=fraud_df, x = 'long', y= 'lat', hue='east_west')"
   ]
  },
  {
   "cell_type": "code",
   "execution_count": null,
   "metadata": {},
   "outputs": [],
   "source": [
    "fraud_df['east_west'].value_counts()"
   ]
  },
  {
   "cell_type": "markdown",
   "metadata": {},
   "source": [
    "## 8. Divide region n/c/s depend on the 'lat' column"
   ]
  },
  {
   "cell_type": "code",
   "execution_count": null,
   "metadata": {},
   "outputs": [],
   "source": [
    "def determine_region_ns(latitude):\n",
    "    if 60 > latitude > 40:\n",
    "        return 'Northern'\n",
    "    elif 40 >= latitude > 35:\n",
    "        return 'Central'\n",
    "    elif 35 >= latitude > 20:\n",
    "        return 'Southern'\n",
    "    else:\n",
    "        return 'Other'\n",
    "    \n",
    "fraud_df['north_south'] = fraud_df['lat'].apply(determine_region_ns).astype('category')"
   ]
  },
  {
   "cell_type": "code",
   "execution_count": null,
   "metadata": {},
   "outputs": [],
   "source": [
    "sns.scatterplot(data=fraud_df, x = 'long', y= 'lat', hue='north_south')"
   ]
  },
  {
   "cell_type": "code",
   "execution_count": null,
   "metadata": {},
   "outputs": [],
   "source": [
    "fraud_df['north_south'].value_counts()"
   ]
  },
  {
   "cell_type": "markdown",
   "metadata": {},
   "source": [
    "## 9 Eliminate unnecessary columns"
   ]
  },
  {
   "cell_type": "code",
   "execution_count": null,
   "metadata": {},
   "outputs": [],
   "source": [
    "fraud_df2 = fraud_df.drop(['trans_date_trans_time', 'cc_num', 'merchant', 'amt', 'first', 'last', 'city', 'street', 'state', 'zip', 'city_pop', 'job', 'dob', 'trans_num', 'unix_time', 'lat', 'long', 'merch_lat', 'merch_long'], axis = 1)"
   ]
  },
  {
   "cell_type": "code",
   "execution_count": null,
   "metadata": {},
   "outputs": [],
   "source": [
    "fraud_df2.columns"
   ]
  },
  {
   "cell_type": "code",
   "execution_count": null,
   "metadata": {},
   "outputs": [],
   "source": [
    "fraud_df2.info()"
   ]
  },
  {
   "cell_type": "code",
   "execution_count": null,
   "metadata": {},
   "outputs": [],
   "source": [
    "fraud_df2.head()"
   ]
  },
  {
   "cell_type": "markdown",
   "metadata": {},
   "source": [
    "## 10. Change datatype object to category for 'category' and 'gender' column"
   ]
  },
  {
   "cell_type": "code",
   "execution_count": null,
   "metadata": {},
   "outputs": [],
   "source": [
    "fraud_df2['category'] = fraud_df2['category'].astype('category')"
   ]
  },
  {
   "cell_type": "code",
   "execution_count": null,
   "metadata": {},
   "outputs": [],
   "source": [
    "fraud_df2['gender'] = fraud_df2['gender'].astype('category')"
   ]
  },
  {
   "cell_type": "code",
   "execution_count": null,
   "metadata": {},
   "outputs": [],
   "source": [
    "fraud_df2.info()"
   ]
  },
  {
   "cell_type": "markdown",
   "metadata": {},
   "source": [
    "## 11. One-Hot encoding & Correlation analysis"
   ]
  },
  {
   "cell_type": "code",
   "execution_count": null,
   "metadata": {},
   "outputs": [],
   "source": [
    "fraud_df2_encoded = pd.get_dummies(fraud_df2)\n",
    "fraud_df2_encoded.corr()\n"
   ]
  },
  {
   "cell_type": "code",
   "execution_count": null,
   "metadata": {},
   "outputs": [],
   "source": [
    "colormap = plt.cm.coolwarm\n",
    "plt.figure(figsize=(15, 15))\n",
    "plt.title('Pearson Correlation of Features', y=1.05, size=15)\n",
    "sns.heatmap(fraud_df2_encoded.astype(float).corr(), linewidths=0.1, vmax=1.0, square=True, cmap=colormap, linecolor='white', annot=True, annot_kws={'size': 7}, fmt='.1f')"
   ]
  },
  {
   "cell_type": "markdown",
   "metadata": {},
   "source": [
    "## 12. Model"
   ]
  },
  {
   "cell_type": "code",
   "execution_count": null,
   "metadata": {},
   "outputs": [],
   "source": [
    "fraud_df2_encoded.info()"
   ]
  },
  {
   "cell_type": "code",
   "execution_count": null,
   "metadata": {},
   "outputs": [],
   "source": [
    "from sklearn.ensemble import RandomForestClassifier\n",
    "from sklearn.model_selection import train_test_split\n",
    "from sklearn.metrics import accuracy_score, precision_score, recall_score, f1_score, confusion_matrix"
   ]
  },
  {
   "cell_type": "code",
   "execution_count": null,
   "metadata": {},
   "outputs": [],
   "source": [
    "# Split data into train and test set\n",
    "X_train_df = fraud_df2_encoded.drop('is_fraud', axis=1).values\n",
    "target_label = fraud_df2_encoded['is_fraud'].values"
   ]
  },
  {
   "cell_type": "code",
   "execution_count": null,
   "metadata": {},
   "outputs": [],
   "source": [
    "# Split data into train and test set\n",
    "X_train, X_test, y_train, y_test = train_test_split(X_train_df, target_label, test_size=0.3, random_state=2024)"
   ]
  },
  {
   "cell_type": "code",
   "execution_count": null,
   "metadata": {},
   "outputs": [],
   "source": [
    "# Train model (Random Forest Regression)\n",
    "model = RandomForestClassifier(n_estimators=500, random_state=0)\n",
    "model.fit(X_train, y_train)"
   ]
  },
  {
   "cell_type": "code",
   "execution_count": null,
   "metadata": {},
   "outputs": [],
   "source": [
    "# Predict test set\n",
    "y_pred = model.predict(X_test)"
   ]
  },
  {
   "cell_type": "code",
   "execution_count": null,
   "metadata": {},
   "outputs": [],
   "source": [
    "# Calculate model performance\n",
    "accuracy = accuracy_score(y_test, y_pred)\n",
    "precision = precision_score(y_test, y_pred)\n",
    "recall = recall_score(y_test, y_pred)\n",
    "f1 = f1_score(y_test, y_pred)\n",
    "conf_matrix = confusion_matrix(y_test, y_pred)\n",
    "\n",
    "# 결과를 출력합니다.\n",
    "print(\"Accuracy:\", accuracy)\n",
    "print(\"Precision:\", precision)\n",
    "print(\"Recall:\", recall)\n",
    "print(\"F1 Score:\", f1)\n",
    "print(\"Confusion Matrix:\\n\", conf_matrix)"
   ]
  },
  {
   "cell_type": "code",
   "execution_count": null,
   "metadata": {},
   "outputs": [],
   "source": [
    "# from sklearn.model_selection import GridSearchCV\n",
    "\n",
    "# # Reset model\n",
    "# model = RandomForestClassifier(random_state=0)\n",
    "\n",
    "# # Define hyperparameter options\n",
    "# param_grid = {\n",
    "#     'n_estimators': [100, 300, 500],\n",
    "#     'max_features': ['auto', 'sqrt', 'log2'],\n",
    "#     'max_depth': [4, 6, 8, 10],\n",
    "#     'min_samples_split': [2, 5, 10],\n",
    "#     'min_samples_leaf': [1, 2, 4]\n",
    "# }\n",
    "\n",
    "# # Turning hyperparameter with GridSearchCV.\n",
    "# CV_rfc = GridSearchCV(estimator=model, param_grid=param_grid, cv=5)\n",
    "# CV_rfc.fit(X_train, y_train)\n",
    "\n",
    "# # Print the optimum hyperparameter.\n",
    "# print(CV_rfc.best_params_)"
   ]
  }
 ],
 "metadata": {
  "kernelspec": {
   "display_name": "Python 3",
   "language": "python",
   "name": "python3"
  },
  "language_info": {
   "codemirror_mode": {
    "name": "ipython",
    "version": 3
   },
   "file_extension": ".py",
   "mimetype": "text/x-python",
   "name": "python",
   "nbconvert_exporter": "python",
   "pygments_lexer": "ipython3",
   "version": "3.9.6"
  }
 },
 "nbformat": 4,
 "nbformat_minor": 2
}
