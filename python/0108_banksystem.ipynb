{
 "cells": [
  {
   "cell_type": "markdown",
   "id": "5d02434a",
   "metadata": {},
   "source": [
    "# 클래스, 메소드, 인스턴스에 대한 이야기\n",
    "\n",
    "## Class\n",
    "클래스(class)란 객체(object)를 만들어 내기 위한 틀이며 만들어 낼 객체의 속성과 메서드의 집합을 담아놓은것.\n",
    "\n",
    "## Object\n",
    "객체란 클래스로부터 만들어지는 실체, 클래스로 선언된 변수를 객체라 한다.\n",
    "\n",
    "## 속성\n",
    "변수, 속성 값은 다를 수 있음. \n",
    "\n",
    "## 메서드\n",
    "함수\n",
    "\n",
    "## Instance\n",
    "인스터스(Instance)란 객체가 메모리에 할당이 된 상태이며 런타임에 구동되는 개체를 말합니다. 객체와 같은 의미로 쓰이기도 합니다."
   ]
  },
  {
   "cell_type": "markdown",
   "id": "30cff1f8",
   "metadata": {},
   "source": [
    "### https://www.youtube.com/watch?v=FRHGtAvU03Q "
   ]
  },
  {
   "cell_type": "code",
   "execution_count": 80,
   "id": "4ec56b35",
   "metadata": {},
   "outputs": [
    {
     "name": "stdout",
     "output_type": "stream",
     "text": [
      "나는 몬스터다\n"
     ]
    }
   ],
   "source": [
    "class Monster:                  # 클래스 선언\n",
    "    def say(self):              # 메소드 선언\n",
    "        print('나는 몬스터다')  # 메소드 구현\n",
    "\n",
    "shark = Monster()              # 인스턴스 생성\n",
    "shark.say()                    # 메소드 호출"
   ]
  },
  {
   "cell_type": "code",
   "execution_count": 1,
   "id": "928247fa",
   "metadata": {},
   "outputs": [
    {
     "name": "stdout",
     "output_type": "stream",
     "text": [
      "나는 샤크 몬스터다\n"
     ]
    }
   ],
   "source": [
    "class Monster2:                             # 클래스 선언\n",
    "    def __init__(self, name):               # 인스턴스 생성 시 호출되는 메소드 (__init__ 생성자 함수)\n",
    "        self.name = name                    # 인스턴스 생성 시 인자로 받은 값을 인스턴스 변수에 저장 (생성자 안쪽 명령 블록에서 self.name 속성에 인자로 받은 name 값을 저장)\n",
    "\n",
    "    def say(self):                          # 메소드 선언\n",
    "        print(f'나는 {self.name} 몬스터다') # 메소드 구현 (self.name 속성에 저장된 값을 출력)\n",
    "\n",
    "shark = Monster2('샤크')                    # 인스턴스 생성하고 인자(매개변수)로 '샤크'를 전달\n",
    "shark.say()                                 # 메소드 호출\n"
   ]
  },
  {
   "cell_type": "code",
   "execution_count": 4,
   "id": "67887e61",
   "metadata": {},
   "outputs": [
    {
     "name": "stdout",
     "output_type": "stream",
     "text": [
      "나는 7살된 상어 몬스터다\n",
      "나는 3살된 늑대 몬스터다\n"
     ]
    }
   ],
   "source": [
    "class Monster:                                               # 클래스 선언\n",
    "    def __init__(self, name, age):         # 인스턴스 생성 시 호출되는 메소드 (__init__ 생성자 함수)\n",
    "        self.name = name\n",
    "        self.age = age\n",
    "    def say(self):\n",
    "        print(f'나는 {self.age}살된 {self.name} 몬스터다')\n",
    "\n",
    "shark = Monster('상어', 7)\n",
    "wolf = Monster('늑대', 3)\n",
    "\n",
    "shark.say()\n",
    "wolf.say()"
   ]
  },
  {
   "cell_type": "markdown",
   "id": "3446bab0",
   "metadata": {},
   "source": [
    "### https://www.youtube.com/watch?v=uIcK7-YU8uA"
   ]
  },
  {
   "cell_type": "code",
   "execution_count": 10,
   "id": "14e623eb",
   "metadata": {},
   "outputs": [
    {
     "name": "stdout",
     "output_type": "stream",
     "text": [
      "JSS 클래스 선언!\n",
      "show 실행!\n"
     ]
    }
   ],
   "source": [
    "class JSS:                      # 클래스 선언\n",
    "    def __init__(self):         # 인스턴스 생성 시 호출되는 메소드 (__init__ 생성자 함수)\n",
    "        print('JSS 클래스 선언!')\n",
    "        # self.name = input('이름:')\n",
    "        # self.age = input('나이:')\n",
    "    def show(self):\n",
    "        print('show 실행!')\n",
    "\n",
    "a = JSS()                       # 인스턴스 생성\n",
    "a.show()                        # 메소드 호출\n"
   ]
  },
  {
   "cell_type": "code",
   "execution_count": 16,
   "id": "012d75bf",
   "metadata": {},
   "outputs": [
    {
     "name": "stdout",
     "output_type": "stream",
     "text": [
      "나의 이름은 곽소미, 나이는 47세 입니다.\n"
     ]
    }
   ],
   "source": [
    "class JSS:                      # 클래스 선언\n",
    "    def __init__(self):         # 인스턴스 생성 시 호출되는 메소드 (__init__ 생성자 함수)\n",
    "        self.name = input('이름:') \n",
    "        self.age = input('나이:')\n",
    "    def show(self):             # 메소드 선언\n",
    "        print('나의 이름은 {}, 나이는 {}세 입니다.'.format(self.name, self.age))     # 메소드 구현\n",
    "\n",
    "a = JSS()                       # 인스턴스 생성\n",
    "a.show()                        # 메소드 호출"
   ]
  },
  {
   "cell_type": "code",
   "execution_count": null,
   "id": "0ed76ad2",
   "metadata": {},
   "outputs": [],
   "source": []
  },
  {
   "cell_type": "markdown",
   "id": "3675cb0c",
   "metadata": {},
   "source": [
    "## 0108 은행 입출금 코딩"
   ]
  },
  {
   "cell_type": "code",
   "execution_count": 27,
   "id": "f52c945e",
   "metadata": {},
   "outputs": [
    {
     "name": "stdout",
     "output_type": "stream",
     "text": [
      "은행명: SC은행\n",
      "예금주: 광용\n",
      "계좌번호: 173-69-371371\n",
      "잔고: 9500\n",
      "Deposit Count: 1\n",
      "출금 시간:  [(500, '2024-01-08 12:00')]\n",
      "입금: 10000원, 시간: 2024-01-08 12:00\n",
      "출금: 500원, 시간: 2024-01-08 12:00\n"
     ]
    }
   ],
   "source": [
    "import random\n",
    "import datetime\n",
    "\n",
    "class Account:\n",
    "    def __init__(self, owner, initial_balance=0):\n",
    "        self.bank_name = 'SC은행'\n",
    "        self.owner = owner\n",
    "        self.balance = initial_balance  # Renamed for clarity\n",
    "        self.account_number = f'{random.randint(100, 999)}-{random.randint(10, 99)}-{random.randint(100000, 999999)}'\n",
    "        self.deposit_count = 0\n",
    "        self.deposit_history = []\n",
    "        self.withdraw_history = []\n",
    "\n",
    "    def deposit(self, amount):  # Renamed method\n",
    "        if amount >= 1:\n",
    "            self.balance += amount\n",
    "            self.deposit_count += 1\n",
    "            self.deposit_history.append((amount, datetime.datetime.now().strftime('%Y-%m-%d %H:%M')))\n",
    "            if self.deposit_count % 5 == 0:\n",
    "                interest = self.balance * 0.01\n",
    "                self.balance += interest\n",
    "\n",
    "    def withdraw(self, amount):  # Renamed method\n",
    "        if self.balance >= amount:\n",
    "            self.balance -= amount\n",
    "            self.withdraw_history.append((amount, datetime.datetime.now().strftime('%Y-%m-%d %H:%M')))  # Include amount\n",
    "\n",
    "    def display_info(self):\n",
    "        print('은행명:', self.bank_name)\n",
    "        print('예금주:', self.owner)\n",
    "        print('계좌번호:', self.account_number)\n",
    "        print('잔고:', self.balance)\n",
    "        print('Deposit Count:', self.deposit_count)\n",
    "        # print('입금 시간: ', self.deposit_history)  # Optional: Uncomment if needed\n",
    "        print('출금 시간: ', self.withdraw_history)\n",
    "\n",
    "    def show_deposit_history(self):  # Renamed method\n",
    "        for amount, time in self.deposit_history:\n",
    "            print(f'입금: {amount}원, 시간: {time}')\n",
    "\n",
    "    def show_withdraw_history(self):  # Renamed method\n",
    "        for amount, time in self.withdraw_history:\n",
    "            print(f'출금: {amount}원, 시간: {time}')\n",
    "\n",
    "    def all_history(self):\n",
    "        print('입급 내역:')\n",
    "        self.show_deposit_history()  # Updated method name\n",
    "        print('출금 내역:')\n",
    "        self.show_withdraw_history()  # Updated method name\n",
    "\n",
    "\n",
    "account = Account('광용', 0)\n",
    "account.deposit(10000)\n",
    "account.withdraw(500)\n",
    "account.display_info()\n",
    "account.show_deposit_history()  # Updated method name\n",
    "account.show_withdraw_history()  # Updated method name\n"
   ]
  },
  {
   "cell_type": "code",
   "execution_count": 28,
   "id": "a8c05153",
   "metadata": {},
   "outputs": [
    {
     "name": "stdout",
     "output_type": "stream",
     "text": [
      "은행명: SC은행\n",
      "예금주: 광용\n",
      "계좌번호: 847-81-877739\n",
      "잔고: 9500\n",
      "Deposit Count 1\n",
      "입금: 10000원, 시간: 2024-01-08 12:13\n",
      "출금: 500원, 시간: 2024-01-08 12:13\n",
      "입급 내역:\n",
      "입금: 10000원, 시간: 2024-01-08 12:13\n",
      "출금 내역:\n",
      "출금: 500원, 시간: 2024-01-08 12:13\n"
     ]
    }
   ],
   "source": []
  },
  {
   "cell_type": "code",
   "execution_count": 1,
   "id": "40b16ea9",
   "metadata": {},
   "outputs": [
    {
     "name": "stdout",
     "output_type": "stream",
     "text": [
      "은행명: SC은행\n",
      "예금주: 광용\n",
      "계좌번호: 336-15-457142\n",
      "잔고: 10000\n",
      "Deposit Count 1\n"
     ]
    }
   ],
   "source": [
    "import random\n",
    "import datetime\n",
    "\n",
    "class Account:\n",
    "    def __init__(self, owner, initial_balance = 0):\n",
    "        self.bank_name = 'SC은행'\n",
    "        self.owner = owner\n",
    "        self.initial_balance = initial_balance\n",
    "        self.account_number = f'{random.randint(100, 999)}-{random.randint(10, 99)}-{random.randint(100000, 999999)}'\n",
    "        self.deposit_count = 0\n",
    "        self.deposit_history = []  # Add the 'deposit_history' attribute\n",
    "\n",
    "    def self_deposit(self, amount):\n",
    "        if amount >= 1:\n",
    "            self.initial_balance += amount\n",
    "            self.deposit_count += 1\n",
    "            self.deposit_history.append(datetime.datetime.now())  # Update the deposit history with datetime.datetime.now()\n",
    "            if self.deposit_count % 5 == 0:\n",
    "                interest = self.initial_balance * 0.01\n",
    "                self.initial_balance += interest\n",
    "\n",
    "    def self_withdraw(self, amount):\n",
    "        if self.initial_balance >= amount:\n",
    "            self.initial_balance -= amount\n",
    "            self.withdraw_history.append(datetime.datetime.now())\n",
    "\n",
    "    def display_info(self):\n",
    "        print('은행명:', self.bank_name)\n",
    "        print('예금주:', self.owner)\n",
    "        print('계좌번호:', self.account_number)\n",
    "        print('잔고:', self.initial_balance)\n",
    "        print('Deposit Count', self.deposit_count)\n",
    "\n",
    "\n",
    "\n",
    "\n",
    "account = Account('광용', 0)\n",
    "# account.__init__\n",
    "account.self_deposit(10000)\n",
    "# account.self_withdraw(500)\n",
    "account.display_info()"
   ]
  },
  {
   "cell_type": "code",
   "execution_count": 7,
   "id": "3fc2d8e3",
   "metadata": {},
   "outputs": [
    {
     "name": "stdout",
     "output_type": "stream",
     "text": [
      "은행명: SC은행\n",
      "예금주: 광용\n",
      "계좌번호: 663-37-530405\n",
      "잔고: 9500\n",
      "Deposit Count 1\n",
      "입금: 10000원, 시간: 2024-01-08 15:40\n",
      "출금: 500원, 시간: 2024-01-08 15:40\n",
      "입급 내역:\n",
      "입금: 10000원, 시간: 2024-01-08 15:40\n",
      "출금 내역:\n",
      "출금: 500원, 시간: 2024-01-08 15:40\n"
     ]
    }
   ],
   "source": [
    "import random\n",
    "import datetime\n",
    "\n",
    "class Account:\n",
    "    def __init__(self, owner, initial_balance = 0):\n",
    "        self.bank_name = 'SC은행'\n",
    "        self.owner = owner\n",
    "        self.initial_balance = initial_balance\n",
    "        self.account_number = f'{random.randint(100, 999)}-{random.randint(10, 99)}-{random.randint(100000, 999999)}'\n",
    "        self.deposit_count = 0\n",
    "        self.deposit_history_list = []\n",
    "        self.withdraw_history_list = []\n",
    "\n",
    "    def self_deposit(self, amount):\n",
    "        if amount >= 1:\n",
    "            self.initial_balance += amount\n",
    "            self.deposit_count += 1\n",
    "            self.deposit_history_list.append((amount, datetime.datetime.now().strftime('%Y-%m-%d %H:%M')))\n",
    "            if self.deposit_count % 5 == 0:\n",
    "                interest = self.initial_balance * 0.01\n",
    "                self.initial_balance += interest\n",
    "                print(f'이자는 {interest}원 입니다.')\n",
    "\n",
    "\n",
    "    def self_withdraw(self, amount):\n",
    "        if self.initial_balance >= amount:\n",
    "            self.initial_balance -= amount\n",
    "            self.withdraw_history_list.append((amount, datetime.datetime.now().strftime('%Y-%m-%d %H:%M')))\n",
    "\n",
    "    def display_info(self):\n",
    "        print('은행명:', self.bank_name)\n",
    "        print('예금주:', self.owner)\n",
    "        print('계좌번호:', self.account_number)\n",
    "        print('잔고:', self.initial_balance)\n",
    "        print('Deposit Count', self.deposit_count)\n",
    "\n",
    "    def deposit_history(self):\n",
    "        for amount, time in self.deposit_history_list:\n",
    "            print(f'입금: {amount}원, 시간: {time}')\n",
    "\n",
    "    def withdraw_history(self):\n",
    "         for amount, time in self.withdraw_history_list:\n",
    "            print(f'출금: {amount}원, 시간: {time}')\n",
    "\n",
    "    def all_history(self):\n",
    "        print('입급 내역:')\n",
    "        self.deposit_history()\n",
    "        print('출금 내역:')\n",
    "        self.withdraw_history()\n",
    "\n",
    "\n",
    "account = Account('광용', 0)\n",
    "account.self_deposit(10000)\n",
    "account.self_withdraw(500)\n",
    "account.display_info()\n",
    "account.deposit_history()\n",
    "account.withdraw_history()\n",
    "account.all_history()\n"
   ]
  },
  {
   "cell_type": "code",
   "execution_count": 8,
   "id": "0601e1c9",
   "metadata": {},
   "outputs": [
    {
     "name": "stdout",
     "output_type": "stream",
     "text": [
      "은행명: SC은행\n",
      "예금주: 광용\n",
      "계좌번호: 663-37-530405\n",
      "잔고: 19500\n",
      "Deposit Count 2\n",
      "입금: 10000원, 시간: 2024-01-08 15:40\n",
      "입금: 10000원, 시간: 2024-01-08 15:40\n",
      "출금: 500원, 시간: 2024-01-08 15:40\n",
      "입급 내역:\n",
      "입금: 10000원, 시간: 2024-01-08 15:40\n",
      "입금: 10000원, 시간: 2024-01-08 15:40\n",
      "출금 내역:\n",
      "출금: 500원, 시간: 2024-01-08 15:40\n"
     ]
    }
   ],
   "source": [
    "account.self_deposit(10000)\n",
    "account.display_info()\n",
    "account.deposit_history()\n",
    "account.withdraw_history()\n",
    "account.all_history()"
   ]
  },
  {
   "cell_type": "code",
   "execution_count": 9,
   "id": "a383ebb9",
   "metadata": {},
   "outputs": [
    {
     "name": "stdout",
     "output_type": "stream",
     "text": [
      "은행명: SC은행\n",
      "예금주: 광용\n",
      "계좌번호: 663-37-530405\n",
      "잔고: 29500\n",
      "Deposit Count 3\n",
      "입금: 10000원, 시간: 2024-01-08 15:40\n",
      "입금: 10000원, 시간: 2024-01-08 15:40\n",
      "입금: 10000원, 시간: 2024-01-08 15:40\n",
      "출금: 500원, 시간: 2024-01-08 15:40\n",
      "입급 내역:\n",
      "입금: 10000원, 시간: 2024-01-08 15:40\n",
      "입금: 10000원, 시간: 2024-01-08 15:40\n",
      "입금: 10000원, 시간: 2024-01-08 15:40\n",
      "출금 내역:\n",
      "출금: 500원, 시간: 2024-01-08 15:40\n"
     ]
    }
   ],
   "source": [
    "account.self_deposit(10000)\n",
    "account.display_info()\n",
    "account.deposit_history()\n",
    "account.withdraw_history()\n",
    "account.all_history()"
   ]
  },
  {
   "cell_type": "code",
   "execution_count": 10,
   "id": "78b0daf8",
   "metadata": {},
   "outputs": [
    {
     "name": "stdout",
     "output_type": "stream",
     "text": [
      "은행명: SC은행\n",
      "예금주: 광용\n",
      "계좌번호: 663-37-530405\n",
      "잔고: 39500\n",
      "Deposit Count 4\n",
      "입금: 10000원, 시간: 2024-01-08 15:40\n",
      "입금: 10000원, 시간: 2024-01-08 15:40\n",
      "입금: 10000원, 시간: 2024-01-08 15:40\n",
      "입금: 10000원, 시간: 2024-01-08 15:40\n",
      "출금: 500원, 시간: 2024-01-08 15:40\n",
      "입급 내역:\n",
      "입금: 10000원, 시간: 2024-01-08 15:40\n",
      "입금: 10000원, 시간: 2024-01-08 15:40\n",
      "입금: 10000원, 시간: 2024-01-08 15:40\n",
      "입금: 10000원, 시간: 2024-01-08 15:40\n",
      "출금 내역:\n",
      "출금: 500원, 시간: 2024-01-08 15:40\n"
     ]
    }
   ],
   "source": [
    "account.self_deposit(10000)\n",
    "account.display_info()\n",
    "account.deposit_history()\n",
    "account.withdraw_history()\n",
    "account.all_history()"
   ]
  },
  {
   "cell_type": "code",
   "execution_count": 11,
   "id": "22eb2df2",
   "metadata": {},
   "outputs": [
    {
     "name": "stdout",
     "output_type": "stream",
     "text": [
      "이자는 495.0원 입니다.\n",
      "은행명: SC은행\n",
      "예금주: 광용\n",
      "계좌번호: 663-37-530405\n",
      "잔고: 49995.0\n",
      "Deposit Count 5\n",
      "입금: 10000원, 시간: 2024-01-08 15:40\n",
      "입금: 10000원, 시간: 2024-01-08 15:40\n",
      "입금: 10000원, 시간: 2024-01-08 15:40\n",
      "입금: 10000원, 시간: 2024-01-08 15:40\n",
      "입금: 10000원, 시간: 2024-01-08 15:40\n",
      "출금: 500원, 시간: 2024-01-08 15:40\n",
      "입급 내역:\n",
      "입금: 10000원, 시간: 2024-01-08 15:40\n",
      "입금: 10000원, 시간: 2024-01-08 15:40\n",
      "입금: 10000원, 시간: 2024-01-08 15:40\n",
      "입금: 10000원, 시간: 2024-01-08 15:40\n",
      "입금: 10000원, 시간: 2024-01-08 15:40\n",
      "출금 내역:\n",
      "출금: 500원, 시간: 2024-01-08 15:40\n"
     ]
    }
   ],
   "source": [
    "account.self_deposit(10000)\n",
    "account.display_info()\n",
    "account.deposit_history()\n",
    "account.withdraw_history()\n",
    "account.all_history()"
   ]
  },
  {
   "cell_type": "markdown",
   "id": "5128d717",
   "metadata": {},
   "source": []
  },
  {
   "cell_type": "code",
   "execution_count": 22,
   "id": "e893a607",
   "metadata": {},
   "outputs": [
    {
     "name": "stdout",
     "output_type": "stream",
     "text": [
      "이자는 1408.9495000000002원 입니다.\n",
      "은행명: SC은행\n",
      "예금주: 광용\n",
      "계좌번호: 663-37-530405\n",
      "잔고: 142303.8995\n",
      "Deposit Count 15\n",
      "입금: 10000원, 시간: 2024-01-08 15:40\n",
      "입금: 10000원, 시간: 2024-01-08 15:40\n",
      "입금: 10000원, 시간: 2024-01-08 15:40\n",
      "입금: 10000원, 시간: 2024-01-08 15:40\n",
      "입금: 10000원, 시간: 2024-01-08 15:40\n",
      "입금: 10000원, 시간: 2024-01-08 15:40\n",
      "입금: 10000원, 시간: 2024-01-08 15:41\n",
      "입금: 10000원, 시간: 2024-01-08 15:41\n",
      "입금: 10000원, 시간: 2024-01-08 15:41\n",
      "입금: 10000원, 시간: 2024-01-08 15:41\n",
      "입금: 10000원, 시간: 2024-01-08 15:41\n",
      "입금: 10000원, 시간: 2024-01-08 15:41\n",
      "입금: 10000원, 시간: 2024-01-08 15:41\n",
      "입금: 10000원, 시간: 2024-01-08 15:41\n",
      "입금: 10000원, 시간: 2024-01-08 15:41\n",
      "출금: 500원, 시간: 2024-01-08 15:40\n",
      "출금: 10000원, 시간: 2024-01-08 15:41\n",
      "입급 내역:\n",
      "입금: 10000원, 시간: 2024-01-08 15:40\n",
      "입금: 10000원, 시간: 2024-01-08 15:40\n",
      "입금: 10000원, 시간: 2024-01-08 15:40\n",
      "입금: 10000원, 시간: 2024-01-08 15:40\n",
      "입금: 10000원, 시간: 2024-01-08 15:40\n",
      "입금: 10000원, 시간: 2024-01-08 15:40\n",
      "입금: 10000원, 시간: 2024-01-08 15:41\n",
      "입금: 10000원, 시간: 2024-01-08 15:41\n",
      "입금: 10000원, 시간: 2024-01-08 15:41\n",
      "입금: 10000원, 시간: 2024-01-08 15:41\n",
      "입금: 10000원, 시간: 2024-01-08 15:41\n",
      "입금: 10000원, 시간: 2024-01-08 15:41\n",
      "입금: 10000원, 시간: 2024-01-08 15:41\n",
      "입금: 10000원, 시간: 2024-01-08 15:41\n",
      "입금: 10000원, 시간: 2024-01-08 15:41\n",
      "출금 내역:\n",
      "출금: 500원, 시간: 2024-01-08 15:40\n",
      "출금: 10000원, 시간: 2024-01-08 15:41\n"
     ]
    }
   ],
   "source": [
    "account.self_deposit(10000)\n",
    "account.display_info()\n",
    "account.deposit_history()\n",
    "account.withdraw_history()\n",
    "account.all_history()"
   ]
  },
  {
   "cell_type": "markdown",
   "id": "d80dc1ec",
   "metadata": {},
   "source": [
    "# 수정된 코드 입니다."
   ]
  },
  {
   "cell_type": "code",
   "execution_count": 103,
   "id": "e0139ecc",
   "metadata": {},
   "outputs": [
    {
     "name": "stdout",
     "output_type": "stream",
     "text": [
      "은행명: SC은행\n",
      "예금주: 정광용\n",
      "계좌번호: 443-21-451396\n",
      "잔고: 105,000.00\n",
      "Deposit Count 1\n",
      "입금: 10,000.00원, 시간: 2024-01-09 08:53, 잔고: 110,000.00\n",
      "출금: 5,000.00원, 시간: 2024-01-09 08:53, 잔고: 105,000.00\n",
      "입급 내역:\n",
      "입금: 10,000.00원, 시간: 2024-01-09 08:53, 잔고: 110,000.00\n",
      "출금 내역:\n",
      "출금: 5,000.00원, 시간: 2024-01-09 08:53, 잔고: 105,000.00\n"
     ]
    }
   ],
   "source": [
    "# 수정된 코드\n",
    "\n",
    "import random\n",
    "import datetime\n",
    "\n",
    "class Account:\n",
    "    def __init__(self, owner, balance = 0):\n",
    "        self.bank_name = 'SC은행'\n",
    "        self.owner = owner\n",
    "        self.balance = balance\n",
    "        self.account_number = f'{random.randint(100, 999)}-{random.randint(10, 99)}-{random.randint(100000, 999999)}'\n",
    "        self.deposit_count = 0\n",
    "        self.deposit_history_list = []\n",
    "        self.withdraw_history_list = []\n",
    "\n",
    "    def deposit(self, amount):\n",
    "        if amount >= 1:\n",
    "            self.balance += amount\n",
    "            self.deposit_count += 1\n",
    "            self.deposit_history_list.append((amount, datetime.datetime.now().strftime('%Y-%m-%d %H:%M'), self.balance))\n",
    "            if self.deposit_count % 5 == 0:\n",
    "                interest = self.balance * 0.01\n",
    "                self.balance += interest\n",
    "                print(f'이자는 {interest:,.2f}원 입니다.') \n",
    "\n",
    "    def withdraw(self, amount):\n",
    "        if self.balance >= amount:\n",
    "            self.balance -= amount\n",
    "            self.withdraw_history_list.append((amount, datetime.datetime.now().strftime('%Y-%m-%d %H:%M'), self.balance))\n",
    "\n",
    "    def display_info(self):\n",
    "        print('은행명:', self.bank_name)\n",
    "        print('예금주:', self.owner)\n",
    "        print('계좌번호:', self.account_number)\n",
    "        print('잔고:', f'{self.balance:,.2f}') \n",
    "        print('Deposit Count', self.deposit_count)\n",
    "\n",
    "    def deposit_history(self):\n",
    "        for amount, time, self.balance in self.deposit_history_list:\n",
    "            print(f'입금: {amount:,.2f}원, 시간: {time}, 잔고: {self.balance:,.2f}')\n",
    "\n",
    "    def withdraw_history(self):\n",
    "        for amount, time, self.balance in self.withdraw_history_list:\n",
    "            print(f'출금: {amount:,.2f}원, 시간: {time}, 잔고: {self.balance:,.2f}') \n",
    "\n",
    "    def all_history(self): \n",
    "        print('입급 내역:')\n",
    "        self.deposit_history()\n",
    "        print('출금 내역:')\n",
    "        self.withdraw_history()\n",
    "\n",
    "account = Account('정광용', 100000) \n",
    "account.deposit(10000)\n",
    "account.withdraw(5000)\n",
    "account.display_info()\n",
    "account.deposit_history()\n",
    "account.withdraw_history()\n",
    "account.all_history()\n"
   ]
  },
  {
   "cell_type": "code",
   "execution_count": 111,
   "id": "3b841623",
   "metadata": {},
   "outputs": [
    {
     "name": "stdout",
     "output_type": "stream",
     "text": [
      "입금: 10,000.00원, 시간: 2024-01-09 08:53, 잔고: 110,000.00\n",
      "입금: 10,000.00원, 시간: 2024-01-09 09:00, 잔고: 115,000.00\n",
      "입금: 10,000.00원, 시간: 2024-01-09 09:00, 잔고: 125,000.00\n",
      "입금: 10,000.00원, 시간: 2024-01-09 09:00, 잔고: 135,000.00\n",
      "입금: 10,000.00원, 시간: 2024-01-09 09:00, 잔고: 145,000.00\n",
      "입금: 10,000.00원, 시간: 2024-01-09 09:00, 잔고: 155,000.00\n",
      "입금: 10,000.00원, 시간: 2024-01-09 09:00, 잔고: 165,000.00\n",
      "입금: 10,000.00원, 시간: 2024-01-09 09:00, 잔고: 175,000.00\n",
      "입금: 10,000.00원, 시간: 2024-01-09 09:00, 잔고: 185,000.00\n"
     ]
    }
   ],
   "source": [
    "account.deposit(10000)\n",
    "account.deposit_history()"
   ]
  },
  {
   "cell_type": "code",
   "execution_count": null,
   "id": "d6e41624",
   "metadata": {},
   "outputs": [],
   "source": []
  }
 ],
 "metadata": {
  "kernelspec": {
   "display_name": "Python 3 (ipykernel)",
   "language": "python",
   "name": "python3"
  },
  "language_info": {
   "codemirror_mode": {
    "name": "ipython",
    "version": 3
   },
   "file_extension": ".py",
   "mimetype": "text/x-python",
   "name": "python",
   "nbconvert_exporter": "python",
   "pygments_lexer": "ipython3",
   "version": "3.9.6"
  }
 },
 "nbformat": 4,
 "nbformat_minor": 5
}
