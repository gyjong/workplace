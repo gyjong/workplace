{
 "cells": [
  {
   "cell_type": "markdown",
   "id": "4624eaec",
   "metadata": {},
   "source": [
    "# Crawling"
   ]
  },
  {
   "cell_type": "code",
   "execution_count": null,
   "id": "a2ab1024",
   "metadata": {},
   "outputs": [],
   "source": [
    "!pip3 install beautifulsoup4\n",
    "!pip3 install newspaper3k\n",
    "!pip3 install konlpy"
   ]
  },
  {
   "cell_type": "code",
   "execution_count": 4,
   "id": "b5e10f42",
   "metadata": {},
   "outputs": [],
   "source": [
    "from bs4 import BeautifulSoup\n",
    "\n",
    "#- HTML 문서를 문자열 html로 저장합니다.\n",
    "html = '''\n",
    "<html> \n",
    "    <head> \n",
    "    </head> \n",
    "    <body> \n",
    "        <h1> 장바구니\n",
    "            <p id='clothes' class='name' title='라운드티'> 라운드티\n",
    "                <span class = 'number'> 25 </span> \n",
    "                <span class = 'price'> 29000 </span> \n",
    "                <span class = 'menu'> 의류</span> \n",
    "                <a href = 'http://www.naver.com'> 바로가기 </a> \n",
    "            </p> \n",
    "            <p id='watch' class='name' title='시계'> 시계\n",
    "                <span class = 'number'> 28 </span>\n",
    "                <span class = 'price'> 32000 </span> \n",
    "                <span class = 'menu'> 악세서리 </span> \n",
    "                <a href = 'http://www.facebook.com'> 바로가기 </a> \n",
    "            </p> \n",
    "        </h1> \n",
    "    </body> \n",
    "</html>\n",
    "'''\n",
    "\n",
    "#- BeautifulSoup 인스턴스를 생성합니다.\n",
    "#- 두번째 매개변수는 분석할 분석기(parser)의 종류입니다.\n",
    "soup = BeautifulSoup(html, 'html.parser')"
   ]
  },
  {
   "cell_type": "code",
   "execution_count": 5,
   "id": "cd876e8c",
   "metadata": {},
   "outputs": [
    {
     "name": "stdout",
     "output_type": "stream",
     "text": [
      "[<body>\n",
      "<h1> 장바구니\n",
      "            <p class=\"name\" id=\"clothes\" title=\"라운드티\"> 라운드티\n",
      "                <span class=\"number\"> 25 </span>\n",
      "<span class=\"price\"> 29000 </span>\n",
      "<span class=\"menu\"> 의류</span>\n",
      "<a href=\"http://www.naver.com\"> 바로가기 </a>\n",
      "</p>\n",
      "<p class=\"name\" id=\"watch\" title=\"시계\"> 시계\n",
      "                <span class=\"number\"> 28 </span>\n",
      "<span class=\"price\"> 32000 </span>\n",
      "<span class=\"menu\"> 악세서리 </span>\n",
      "<a href=\"http://www.facebook.com\"> 바로가기 </a>\n",
      "</p>\n",
      "</h1>\n",
      "</body>]\n"
     ]
    }
   ],
   "source": [
    "print(soup.select('body'))"
   ]
  },
  {
   "cell_type": "code",
   "execution_count": 6,
   "id": "4c4a2f68",
   "metadata": {},
   "outputs": [
    {
     "name": "stdout",
     "output_type": "stream",
     "text": [
      "[<p class=\"name\" id=\"clothes\" title=\"라운드티\"> 라운드티\n",
      "                <span class=\"number\"> 25 </span>\n",
      "<span class=\"price\"> 29000 </span>\n",
      "<span class=\"menu\"> 의류</span>\n",
      "<a href=\"http://www.naver.com\"> 바로가기 </a>\n",
      "</p>, <p class=\"name\" id=\"watch\" title=\"시계\"> 시계\n",
      "                <span class=\"number\"> 28 </span>\n",
      "<span class=\"price\"> 32000 </span>\n",
      "<span class=\"menu\"> 악세서리 </span>\n",
      "<a href=\"http://www.facebook.com\"> 바로가기 </a>\n",
      "</p>]\n"
     ]
    }
   ],
   "source": [
    "print(soup.select('p'))"
   ]
  },
  {
   "cell_type": "code",
   "execution_count": 7,
   "id": "26d7a57d",
   "metadata": {},
   "outputs": [
    {
     "name": "stdout",
     "output_type": "stream",
     "text": [
      "[<span class=\"menu\"> 의류</span>, <span class=\"menu\"> 악세서리 </span>]\n"
     ]
    }
   ],
   "source": [
    "print(soup.select('h1 .name .menu'))"
   ]
  },
  {
   "cell_type": "code",
   "execution_count": 8,
   "id": "4cc4819e",
   "metadata": {},
   "outputs": [
    {
     "name": "stdout",
     "output_type": "stream",
     "text": [
      "[]\n"
     ]
    }
   ],
   "source": [
    "print(soup.select('html > h1'))"
   ]
  },
  {
   "cell_type": "code",
   "execution_count": 9,
   "id": "ed2048f1",
   "metadata": {},
   "outputs": [
    {
     "data": {
      "text/plain": [
       "[<h1> 장바구니\n",
       "             <p class=\"name\" id=\"clothes\" title=\"라운드티\"> 라운드티\n",
       "                 <span class=\"number\"> 25 </span>\n",
       " <span class=\"price\"> 29000 </span>\n",
       " <span class=\"menu\"> 의류</span>\n",
       " <a href=\"http://www.naver.com\"> 바로가기 </a>\n",
       " </p>\n",
       " <p class=\"name\" id=\"watch\" title=\"시계\"> 시계\n",
       "                 <span class=\"number\"> 28 </span>\n",
       " <span class=\"price\"> 32000 </span>\n",
       " <span class=\"menu\"> 악세서리 </span>\n",
       " <a href=\"http://www.facebook.com\"> 바로가기 </a>\n",
       " </p>\n",
       " </h1>]"
      ]
     },
     "execution_count": 9,
     "metadata": {},
     "output_type": "execute_result"
    }
   ],
   "source": [
    "soup.select('html h1')"
   ]
  },
  {
   "cell_type": "code",
   "execution_count": 10,
   "id": "f11303a5",
   "metadata": {},
   "outputs": [
    {
     "name": "stderr",
     "output_type": "stream",
     "text": [
      "/Users/kenny_jung/Library/Python/3.9/lib/python/site-packages/urllib3/__init__.py:34: NotOpenSSLWarning: urllib3 v2 only supports OpenSSL 1.1.1+, currently the 'ssl' module is compiled with 'LibreSSL 2.8.3'. See: https://github.com/urllib3/urllib3/issues/3020\n",
      "  warnings.warn(\n"
     ]
    }
   ],
   "source": [
    "from newspaper import Article\n",
    "\n",
    "#- 파싱할 뉴스 기사 주소입니다.\n",
    "url = 'https://www.mk.co.kr/news/it/10916188'\n",
    "\n",
    "#- 언어가 한국어이므로 language='ko'로 설정해줍니다.\n",
    "article = Article(url, language='ko')\n",
    "article.download()\n",
    "article.parse()"
   ]
  },
  {
   "cell_type": "code",
   "execution_count": 11,
   "id": "2ed63055",
   "metadata": {},
   "outputs": [
    {
     "name": "stdout",
     "output_type": "stream",
     "text": [
      "기사 제목 :\n",
      "상상도 못한 일들 펼쳐진다 … 2024 'AI의 대진격'\n",
      "\n",
      "기사 내용 :\n",
      "미라클 레터\n",
      "\n",
      "실리콘밸리의 올 AI시장 '10가지 전망'\n",
      "\n",
      "사진 확대 AI가 탑재된 메타의 스마트 선글라스. 메타\n",
      "\n",
      "사진 확대 마이크로소프트 자체 개발 AI칩 '마이아'로 만들어진 데이터센터 랙. MS\n",
      "\n",
      "사진 확대\n",
      "\n",
      "2023년은 생성형 AI의 한 해라고 말해도 될 정도로 인공지능이 산업과 경제의 중심에 자리 잡았다. 2022년 11월 세상에 등장한 오픈AI의 챗GPT가 엄청난 인기를 얻으면서 전 세계 사람들의 머릿속에 '인공지능(AI)'을 각인시켰다. 미라클레터는 주요 테크 전문 매체와 전문가들의 분석을 통해 2024년 AI산업에서 일어날 일을 예측해봤다.1 멀티 모달리티는 모든 AI의 표준이 될듯2023년 11월 오픈AI가 공개한 GPT4 터보는 멀티 모달리티 능력을 갖췄다. 거대언어모델(LLM)이 텍스트만 이해하는 것이 아니라 이미지와 음성까지 이해하는 능력이다. 12월 공개된 구글 제미나이도 멀티 모달리티 능력을 갖췄다. 이런 멀티 모달리티 능력은 앞으로 나오는 모든 LLM 기반 인공지능의 표준이 될 것이라는 전망이 지배적이었다. 캐시 가오 사파이어벤처스 파트너는 \"2024년에는 텍스트, 이미지, 오디오와 같은 데이터가 멀티 모달 형태로 융합하면서 AI에 대한 재정의가 이뤄질 것\"이라며 \"이러한 모델을 사용하는 스타트업은 더 나은 의사 결정을 가능케 할 뿐 아니라 사용자 경험을 향상할 것\"으로 내다봤다.2 제미나이 프로 수준의 오픈소스 모델 기대기업들의 AI 개발 경쟁은 AI 모델과 데이터를 비공개하는 기업 소유 AI와 이를 공개하는 오픈소스 AI의 두 가지 흐름으로 이어지고 있다. 챗GPT, 제미나이, 미드저니 등이 대표적인 기업 소유 AI이며 라마2, 스테이블디퓨전, 미스트랄 등이 대표적인 오픈소스 AI다. 오픈소스 AI는 자금이나 데이터 측면에서 기업 소유 AI보다 불리한 점이 많다. 하지만 개방적인 생태계를 통해서 많은 개발자와 스타트업의 참여를 이끌 수 있다는 강점이 있다. 올해 제미나이 프로나 GPT4 수준에 근접한 오픈소스 LLM이 나올 것이라는 기대가 높다. 오픈소스 AI는 자신의 데이터를 가지고 독자적인 AI를 만들려는 기업들에 유용하다. 마누비르 다스 엔비디아 엔터프라이즈 컴퓨팅 부문 부사장은 \"사전 학습된 오픈소스 모델 덕분에 특정 도메인의 문제를 해결하는 생성형 AI 애플리케이션이 기업의 중요 전략이 될 것\"이라고 설명했다.3 우리가 상상하지 못한 AI 사용 사례가 나온다2023년 생성형 AI가 가상화폐나 메타버스와 다른 점은 실제 사용 사례가 많다는 점이었다. 챗GPT로 영문 이메일을 쓰고, 콘텐츠용 그림을 생성하거나 코딩을 하는 사용자가 많아졌다. 이런 실사용자가 많아지면서 챗GPT를 만드는 오픈AI는 연간으로 환산 시 매출이 약 2조원에 달할 것으로 예상된다. 올해는 이런 실사용 사례가 더 많이 늘어날 것으로 보인다. 데이원벤처스의 설립자인 마샤 버처 파트너는 \"생명공학, 유전체, 기후 등 연구에 AI가 활발히 적용될 것\"이라며 \"AI가 인간의 의식, 무의식에 대한 지식을 어떻게 풀어 나갈 수 있을지 궁금하다\"고 전망했다.4 GPU 부족 현상 사라지고 추론 비용 경쟁 시작AI 학습에 사용하는 엔비디아 GPU 부족 덕분에 2023년 등장한 신조어 'GPU 푸어'. GPU를 충분히 확보하지 못한 기업들이 스스로를 자조적으로 부르는 말이었다. 올해 엔비디아 GPU 생산의 병목현상이 해결되고, 비용 경쟁이 본격화될 것으로 예상된다. 특히 AI로 서비스를 제공하는 '추론'에서 제일 경쟁이 치열할 것으로 예상된다. AWS, MS 애저, 구글 클라우드 같은 클라우드 사업자가 자체적인 반도체를 만들고 AMD, 인텔이 자체 AI 반도체를 내놓는 것은 값비싼 엔비디아 GPU보다 저렴한 추론 비용을 제공할 수 있다고 믿기 때문이다. 중국이 직접 만든 AI 반도체 등장도 올해 예상된다. 미국이 엔비디아 GPU의 수출을 막으면서 중국 기업들은 AI를 학습시키는 데 어려움을 겪고 있기 때문이다. 디인포메이션은 중국의 반도체 독립 움직임이 AI 학습용 GPU에도 이어질 것으로 예상했다.5 이어폰에 스마트 안경, AI 디바이스로 부상AI가 멀티 모달리티 기능을 갖추게 되고 AI 와 소통하는 방식이 달라질 것이 예상되면서 새로운 'AI 웨어러블 디바이스'가 부상하고 있다. 샘 올트먼 오픈AI CEO가 투자한 휴메인이 만든 AI 핀과 메타의 스마트 안경이 대표적인 AI 웨어러블이다. 최근 애플의 전설적인 디자이너 조너선 아이브가 설립한 디자인 회사가 AI 기기를 개발하고 있다는 소식은 많은 이들의 관심을 받고 있다. 이 회사에는 올트먼과 소프트뱅크도 관련된 것으로 알려졌다. 이런 측면에서 이어폰도 중요한 AI 디바이스로 떠오를 수 있다.6 스마트폰 경쟁에서도 AI가 중심지난해 12월 구글은 제미나이를 공개하면서 픽셀8 프로에 스마트폰용 AI인 제미나이 나노를 탑재했다. 챗GPT가 등장하면서 개인화된 인공지능 비서가 나올 것이라는 전망이 나왔는데 구글이 한 발 빠르게 움직인 것. 이달 17일 실리콘밸리에서 공개되는 삼성전자의 갤럭시24에도 생성형 AI가 탑재될 것으로 예상된다. 여기에 애플도 아이폰에서 사용할 수 있는 LLM을 개발하고 있는 것으로 알려지면서 생성형 AI가 스마트폰 경쟁에서 중심에 서게 됐다. 핵심은 스마트폰 사용자의 데이터를 모아서 만드는 개인화된 AI 비서다. 테크크런치는 \"애플이 독점적인 지위를 통해서 사용자 데이터를 실용적으로 응용하는 데 초점을 맞출 것\"이라고 전망했다. 한 단계 업그레이드 된 시리가 나올 수 있다는 것. 클라우드를 거치지 않고 스마트폰이나 PC 처럼 디바이스에서 돌아가는 AI는 '온디바이스AI'라고 불린다.7 AI의 한계에 대한 회의론 나올수도현재 시장을 주도하고 있는 생성형 AI는 2017년에 나온 구글의 트랜스포머 모델을 바탕으로 만들어졌다. 특히 언어모델의 매개변수를 크게 하면 할수록 성능이 좋아지는 현상이 나타나면서 반도체에서 '무어의 법칙'과 같은 빠른 혁신이 나타날 수 있었다. 하지만 벌써부터 이런 트랜스포머를 기반으로 하는 AI에 한계가 왔다는 지적도 나오고 있다고 디인포메이션과 테크크런치는 전망했다. 마치 트랜스포머 모델이 과거 인공지능에서 지배적이었던 CNN 모델을 대체했던 것처럼 트랜스포머를 대체할 모델이 나올 것이라는 전망이 많다. 대표적으로 맘바(Mamba)나 LNN(Liquid Neural Network)이 대안으로 언급되는 모델이다. 이런 점에서 2024년은 AI의 한계에 대한 회의론이 나올 가능성이 높다.8 국가대표 AI 기업에 돈 쏠려지난해 생성형 AI가 떠오르면서 자국을 대표하는 AI 기업과 모델을 만들려는 움직임이 커져 가고 있다. AI가 곧 국가 주권과 관련된다는 것으로 이를 '소버린AI'라고 부른다. 국가별로 LLM을 만드는 대표 기업에 많은 돈이 몰리고 있다. 프랑스는 미스트랄, 독일은 알레프알파라는 스타트업이 직접 LLM을 만들고 있는데 미스트랄은 지난해 12월 4억달러, 알레프알파는 11월 5억달러에 달하는 어마어마한 투자를 유치했다. 빅테크 기업들에 안방을 내준 유럽 국가들은 이번에는 똑같은 실수를 반복하지 않겠다는 생각을 하고 있다. 중국 빅테크 기업들도 모두 자체적인 LLM 개발에 나서고 있다. 알리바바, 바이두, 텐센트, 바이트댄스가 모두 LLM을 개발하고 있다. 중국뿐 아니라 한국, 인도, 이탈리아 등도 '소버린AI' 구축에 나서고 있다. 이 같은 생각의 바탕에는 자국 언어로 된 LLM은 자국 기업이 가장 잘 만든다는 생각이 깔려 있다.9 AI 저작권 이슈 본격 불거질 듯뉴욕타임스가 오픈AI와 마이크로소프트에 수조 원 규모의 소송을 제기하면서 저작권 이슈가 AI의 중심으로 들어왔다. 뉴욕타임스는 오픈AI가 자신들의 기사를 무단으로 학습했고 이에 대한 적절한 보상을 지불하지 않았다고 주장했다. 또한 구글과 같은 검색 서비스에서는 뉴욕타임스 사이트로 링크를 통해 이동하면서 트래픽이 발생하지만 생성형 AI에서는 이런 트래픽이 나오지 않는다는 점도 지적했다. 이처럼 저작권 이슈가 2024년에는 더욱 많아질 것으로 보인다. 이미 레딧이나 X 같은 곳은 자신들의 데이터를 무단으로 학습에 사용하는 것을 금지시켰다.10 전 세계 선거, AI가 만든 가짜 콘텐츠와 전쟁지난해 조 바이든 미국 대통령이 AI 행정명령을 내놓으면서 AI에 대한 규제가 본격화됐다. 하지만 실제 규제의 효과는 올해부터 발휘될 것으로 예상된다. 무엇보다 올해 중요한 선거가 많다는 점이 중요하다. AI로 만들어진 가짜뉴스와 가짜이미지가 선거에 영향을 미칠 수 있기 때문. 주요 매체들은 AI 가 선거에 미칠 영향에 대해서 우려를 표하고 있다. 또한 이를 계기로 AI에 대한 규제가 더 본격화될 것이라고 전망했다.7만8000명이 읽고 있는 글로벌 트렌드 뉴스레터인 '미라클레터'를 주 3회 무료로 만나 보세요. 검색창에 '미라클레터'를 입력하거나 QR코드를 스캔해 무료로 구독할 수 있습니다.[실리콘밸리 이덕주 특파원]\n"
     ]
    }
   ],
   "source": [
    "#- 기사 제목을 출력합니다.\n",
    "print('기사 제목 :')\n",
    "print(article.title)\n",
    "print('')\n",
    "\n",
    "#- 기사 내용을 출력합니다.\n",
    "print('기사 내용 :')\n",
    "print(article.text)"
   ]
  },
  {
   "cell_type": "markdown",
   "id": "a8978963",
   "metadata": {},
   "source": [
    "## URL List 생성"
   ]
  },
  {
   "cell_type": "code",
   "execution_count": 12,
   "id": "0e7666c5",
   "metadata": {},
   "outputs": [],
   "source": [
    "# 크롤러를 만들기 전 필요한 도구들을 임포트합니다.\n",
    "import requests\n",
    "import pandas as pd\n",
    "from bs4 import BeautifulSoup\n",
    "\n",
    "# 페이지 수, 카테고리, 날짜를 입력값으로 받습니다.\n",
    "def make_urllist(page_num, code, date): \n",
    "    urllist= []\n",
    "    for i in range(1, page_num + 1):\n",
    "        url = 'https://news.naver.com/main/list.nhn?mode=LSD&mid=sec&sid1='+str(code)+'&date='+str(date)+'&page='+str(i)\n",
    "        headers = {'User-Agent': 'Mozilla/5.0 (X11; Linux x86_64) AppleWebKit/537.36 (KHTML, like Gecko) Chrome/54.0.2840.90 Safari/537.36'}\n",
    "        news = requests.get(url, headers=headers)\n",
    "\n",
    "        # BeautifulSoup의 인스턴스 생성합니다. 파서는 html.parser를 사용합니다.\n",
    "        soup = BeautifulSoup(news.content, 'html.parser')\n",
    "\n",
    "        # CASE 1\n",
    "        news_list = soup.select('.newsflash_body .type06_headline li dl')\n",
    "        # CASE 2\n",
    "        news_list.extend(soup.select('.newsflash_body .type06 li dl'))\n",
    "        \n",
    "        # 각 뉴스로부터 a 태그인 <a href ='주소'> 에서 '주소'만을 가져옵니다.\n",
    "        for line in news_list:\n",
    "            urllist.append(line.a.get('href'))\n",
    "    return urllist"
   ]
  },
  {
   "cell_type": "code",
   "execution_count": 13,
   "id": "8096d712",
   "metadata": {},
   "outputs": [
    {
     "name": "stdout",
     "output_type": "stream",
     "text": [
      "뉴스 기사의 개수:  40\n"
     ]
    }
   ],
   "source": [
    "url_list = make_urllist(2, 105, 20231128)\n",
    "print('뉴스 기사의 개수: ',len(url_list))"
   ]
  },
  {
   "cell_type": "code",
   "execution_count": 14,
   "id": "2f57c06d",
   "metadata": {},
   "outputs": [
    {
     "data": {
      "text/plain": [
       "['https://n.news.naver.com/mnews/article/009/0005222155?sid=105',\n",
       " 'https://n.news.naver.com/mnews/article/020/0003533945?sid=105',\n",
       " 'https://n.news.naver.com/mnews/article/092/0002313077?sid=105',\n",
       " 'https://n.news.naver.com/mnews/article/008/0004967473?sid=105',\n",
       " 'https://n.news.naver.com/mnews/article/056/0011611479?sid=105']"
      ]
     },
     "execution_count": 14,
     "metadata": {},
     "output_type": "execute_result"
    }
   ],
   "source": [
    "url_list[:5]"
   ]
  },
  {
   "cell_type": "code",
   "execution_count": 15,
   "id": "ea5d713b",
   "metadata": {},
   "outputs": [],
   "source": [
    "idx2word = {'100' : '정치', '101' : '경제', '102' : '사회', '103' : '생활/문화', '105' : 'IT/과학'}"
   ]
  },
  {
   "cell_type": "markdown",
   "id": "6c04293f",
   "metadata": {},
   "source": [
    "## News Dataframe 생성"
   ]
  },
  {
   "cell_type": "code",
   "execution_count": 16,
   "id": "25a28235",
   "metadata": {},
   "outputs": [],
   "source": [
    "from newspaper import Article\n",
    "\n",
    "#- 데이터프레임을 생성하는 함수입니다.\n",
    "def make_data(urllist, code):\n",
    "    text_list = []\n",
    "    for url in urllist:\n",
    "        article = Article(url, language='ko')\n",
    "        article.download()\n",
    "        article.parse()\n",
    "        text_list.append(article.title)\n",
    "\n",
    "    #- 데이터프레임의 'news' 키 아래 파싱한 텍스트를 밸류로 붙여줍니다.\n",
    "    df = pd.DataFrame({'news': text_list})\n",
    "\n",
    "    #- 데이터프레임의 'code' 키 아래 한글 카테고리명을 붙여줍니다.\n",
    "    df['code'] = idx2word[str(code)]\n",
    "    return df"
   ]
  },
  {
   "cell_type": "code",
   "execution_count": 17,
   "id": "53a98a6f",
   "metadata": {},
   "outputs": [
    {
     "data": {
      "text/html": [
       "<div>\n",
       "<style scoped>\n",
       "    .dataframe tbody tr th:only-of-type {\n",
       "        vertical-align: middle;\n",
       "    }\n",
       "\n",
       "    .dataframe tbody tr th {\n",
       "        vertical-align: top;\n",
       "    }\n",
       "\n",
       "    .dataframe thead th {\n",
       "        text-align: right;\n",
       "    }\n",
       "</style>\n",
       "<table border=\"1\" class=\"dataframe\">\n",
       "  <thead>\n",
       "    <tr style=\"text-align: right;\">\n",
       "      <th></th>\n",
       "      <th>news</th>\n",
       "      <th>code</th>\n",
       "    </tr>\n",
       "  </thead>\n",
       "  <tbody>\n",
       "    <tr>\n",
       "      <th>0</th>\n",
       "      <td>우리 할머니 인슐린 주사 그만 맞아도 될까…‘당뇨 완치’ 길 열리나</td>\n",
       "      <td>정치</td>\n",
       "    </tr>\n",
       "    <tr>\n",
       "      <th>1</th>\n",
       "      <td>강스템바이오텍, ‘퓨어스템 오에이 키트주’ 임상 순항… “기술수출에 최선”</td>\n",
       "      <td>정치</td>\n",
       "    </tr>\n",
       "    <tr>\n",
       "      <th>2</th>\n",
       "      <td>DN솔루션즈, 獨 테크니컬 센터 열어…\"유럽 시장 잡는다\"</td>\n",
       "      <td>정치</td>\n",
       "    </tr>\n",
       "    <tr>\n",
       "      <th>3</th>\n",
       "      <td>대구경북과학기술원 신임 총장에 이건우 서울대 전 공대 학장</td>\n",
       "      <td>정치</td>\n",
       "    </tr>\n",
       "    <tr>\n",
       "      <th>4</th>\n",
       "      <td>울산 남구 테크노산업로 일원 자율주행차 시범운행지구 지정</td>\n",
       "      <td>정치</td>\n",
       "    </tr>\n",
       "    <tr>\n",
       "      <th>5</th>\n",
       "      <td>유니스트, ‘세계에서 가장 영향력 있는 연구자’ 9명</td>\n",
       "      <td>정치</td>\n",
       "    </tr>\n",
       "    <tr>\n",
       "      <th>6</th>\n",
       "      <td>이용훈 총장, 과기부 장관 ‘물망’…유니스트는?</td>\n",
       "      <td>정치</td>\n",
       "    </tr>\n",
       "    <tr>\n",
       "      <th>7</th>\n",
       "      <td>쿠쿠전자, 대용량 '아이편한 가습기 7S' 출시</td>\n",
       "      <td>정치</td>\n",
       "    </tr>\n",
       "    <tr>\n",
       "      <th>8</th>\n",
       "      <td>욕설 논란에 카르텔 폭로까지…스텝 꼬인 김범수 쇄신안</td>\n",
       "      <td>정치</td>\n",
       "    </tr>\n",
       "    <tr>\n",
       "      <th>9</th>\n",
       "      <td>“이런 XXX같은” 욕설 회의... 카카오 임원 “문제점 지적하다 실수”</td>\n",
       "      <td>정치</td>\n",
       "    </tr>\n",
       "  </tbody>\n",
       "</table>\n",
       "</div>"
      ],
      "text/plain": [
       "                                        news code\n",
       "0      우리 할머니 인슐린 주사 그만 맞아도 될까…‘당뇨 완치’ 길 열리나   정치\n",
       "1  강스템바이오텍, ‘퓨어스템 오에이 키트주’ 임상 순항… “기술수출에 최선”   정치\n",
       "2           DN솔루션즈, 獨 테크니컬 센터 열어…\"유럽 시장 잡는다\"   정치\n",
       "3           대구경북과학기술원 신임 총장에 이건우 서울대 전 공대 학장   정치\n",
       "4            울산 남구 테크노산업로 일원 자율주행차 시범운행지구 지정   정치\n",
       "5              유니스트, ‘세계에서 가장 영향력 있는 연구자’ 9명   정치\n",
       "6                 이용훈 총장, 과기부 장관 ‘물망’…유니스트는?   정치\n",
       "7                 쿠쿠전자, 대용량 '아이편한 가습기 7S' 출시   정치\n",
       "8              욕설 논란에 카르텔 폭로까지…스텝 꼬인 김범수 쇄신안   정치\n",
       "9   “이런 XXX같은” 욕설 회의... 카카오 임원 “문제점 지적하다 실수”   정치"
      ]
     },
     "execution_count": 17,
     "metadata": {},
     "output_type": "execute_result"
    }
   ],
   "source": [
    "data = make_data(url_list, 100)\n",
    "#- 상위 10개만 출력해봅니다.\n",
    "data[:10]"
   ]
  },
  {
   "cell_type": "code",
   "execution_count": 18,
   "id": "f53eaeb9",
   "metadata": {},
   "outputs": [
    {
     "data": {
      "text/plain": [
       "[102, 103, 105]"
      ]
     },
     "execution_count": 18,
     "metadata": {},
     "output_type": "execute_result"
    }
   ],
   "source": [
    "code_list = [102, 103, 105]\n",
    "\n",
    "code_list"
   ]
  },
  {
   "cell_type": "markdown",
   "id": "a30f7ce7",
   "metadata": {},
   "source": [
    "## 대상 New Category의 전체 News Dataframe 생성"
   ]
  },
  {
   "cell_type": "code",
   "execution_count": 19,
   "id": "fd427be4",
   "metadata": {},
   "outputs": [],
   "source": [
    "def make_total_data(page_num, code_list, date):\n",
    "    df = None\n",
    "\n",
    "    for code in code_list:\n",
    "        url_list = make_urllist(page_num, code, date)\n",
    "        df_temp = make_data(url_list, code)\n",
    "        print(str(code)+'번 코드에 대한 데이터를 만들었습니다.')\n",
    "\n",
    "        if df is not None:\n",
    "            df = pd.concat([df, df_temp])\n",
    "        else:\n",
    "            df = df_temp\n",
    "\n",
    "    return df"
   ]
  },
  {
   "cell_type": "markdown",
   "id": "d3600d36",
   "metadata": {},
   "source": [
    "## 특정 날짜 대상 News Category의 News Dataframe 생성"
   ]
  },
  {
   "cell_type": "code",
   "execution_count": 20,
   "id": "9f029961",
   "metadata": {},
   "outputs": [
    {
     "name": "stdout",
     "output_type": "stream",
     "text": [
      "102번 코드에 대한 데이터를 만들었습니다.\n",
      "103번 코드에 대한 데이터를 만들었습니다.\n",
      "105번 코드에 대한 데이터를 만들었습니다.\n"
     ]
    }
   ],
   "source": [
    "df = make_total_data(1, code_list, 20231128)"
   ]
  },
  {
   "cell_type": "code",
   "execution_count": null,
   "id": "04f5a058",
   "metadata": {},
   "outputs": [],
   "source": [
    "print('뉴스 기사의 개수: ',len(df))"
   ]
  },
  {
   "cell_type": "code",
   "execution_count": null,
   "id": "282b64a8",
   "metadata": {},
   "outputs": [],
   "source": [
    "df.sample(10)"
   ]
  },
  {
   "cell_type": "markdown",
   "id": "fcc77432",
   "metadata": {},
   "source": [
    "## 대량 데이터 수집"
   ]
  },
  {
   "cell_type": "code",
   "execution_count": null,
   "id": "feaeaeee",
   "metadata": {},
   "outputs": [],
   "source": [
    "df = make_total_data(2, code_list, 20231231)\n",
    "\n",
    "import os\n",
    "\n",
    "# 데이터프레임 파일을 csv 파일로 저장합니다.\n",
    "# 저장경로는 이번 프로젝트를 위해 만든 폴더로 지정해 주세요.\n",
    "csv_path = \"/Users/kenny_jung/aiffel/news_crawler/news_data.csv\"\n",
    "df.to_csv(csv_path, index=False)\n",
    "\n",
    "if os.path.exists(csv_path):\n",
    "    print('{} File Saved!'.format(csv_path))"
   ]
  },
  {
   "cell_type": "markdown",
   "id": "52ab6dbd",
   "metadata": {},
   "source": [
    "## "
   ]
  },
  {
   "cell_type": "markdown",
   "id": "61c5db67",
   "metadata": {},
   "source": [
    "## 데이터 전처리"
   ]
  },
  {
   "cell_type": "code",
   "execution_count": null,
   "id": "1b70f01d",
   "metadata": {},
   "outputs": [],
   "source": [
    "csv_path = \"/Users/kenny_jung/aiffel/news_crawler/news_data.csv\"\n",
    "df = pd.read_table(csv_path, sep=',')\n",
    "df.head()"
   ]
  },
  {
   "cell_type": "code",
   "execution_count": null,
   "id": "315da443",
   "metadata": {},
   "outputs": [],
   "source": [
    "# 정규 표현식을 이용해서 한글 외의 문자는 전부 제거합니다.\n",
    "df['news'] = df['news'].str.replace(\"[^ㄱ-ㅎㅏ-ㅣ가-힣 ]\",\"\")\n",
    "df['news']"
   ]
  },
  {
   "cell_type": "code",
   "execution_count": null,
   "id": "f44b28e6",
   "metadata": {},
   "outputs": [],
   "source": [
    "print(df.isnull().sum())"
   ]
  },
  {
   "cell_type": "code",
   "execution_count": null,
   "id": "b575f936",
   "metadata": {},
   "outputs": [],
   "source": [
    "# 중복된 샘플들을 제거합니다.\n",
    "df.drop_duplicates(subset=['news'], inplace=True)\n",
    "\n",
    "print('뉴스 기사의 개수: ',len(df))"
   ]
  },
  {
   "cell_type": "markdown",
   "id": "8b9b74b8",
   "metadata": {},
   "source": [
    "## 뉴스 분석"
   ]
  },
  {
   "cell_type": "code",
   "execution_count": null,
   "id": "12fee857",
   "metadata": {},
   "outputs": [],
   "source": [
    "!pip3 install matplotlib"
   ]
  },
  {
   "cell_type": "code",
   "execution_count": null,
   "id": "7965fc26",
   "metadata": {},
   "outputs": [],
   "source": [
    "import matplotlib.pyplot as plt\n",
    "from matplotlib import rc\n",
    "rc('font', family='AppleGothic')\n",
    "plt.rcParams['axes.unicode_minus'] = False"
   ]
  },
  {
   "cell_type": "code",
   "execution_count": null,
   "id": "43dbf26c",
   "metadata": {},
   "outputs": [],
   "source": [
    "import matplotlib.pyplot as plt\n",
    "plt.rcParams[\"font.family\"] = \"AppleGothic\"\n",
    "\n",
    "df['code'].value_counts().plot(kind = 'bar')"
   ]
  },
  {
   "cell_type": "code",
   "execution_count": null,
   "id": "086d09f5",
   "metadata": {},
   "outputs": [],
   "source": [
    "print(df.groupby('code').size().reset_index(name = 'count'))"
   ]
  },
  {
   "cell_type": "code",
   "execution_count": null,
   "id": "50ea080b",
   "metadata": {},
   "outputs": [],
   "source": [
    "!pip3 install install mecab-python3"
   ]
  },
  {
   "cell_type": "code",
   "execution_count": null,
   "id": "3eb6ca8a",
   "metadata": {},
   "outputs": [],
   "source": [
    "!pip3 install konlpy"
   ]
  },
  {
   "cell_type": "code",
   "execution_count": null,
   "id": "01c0fba1",
   "metadata": {},
   "outputs": [],
   "source": [
    "!pip3 install mecab"
   ]
  },
  {
   "cell_type": "code",
   "execution_count": null,
   "id": "cd74ecb0",
   "metadata": {},
   "outputs": [],
   "source": [
    "!pip3 install install mecab-ko-dic"
   ]
  },
  {
   "cell_type": "code",
   "execution_count": null,
   "id": "3d0edb89",
   "metadata": {},
   "outputs": [],
   "source": [
    "from konlpy.tag import Mecab\n",
    "tokenizer = Mecab()\n",
    "\n",
    "kor_text = '밤에 귀가하던 여성에게 범죄를 시도한 대 남성이 구속됐다서울 제주경찰서는 \\\n",
    "            상해 혐의로 씨를 구속해 수사하고 있다고 일 밝혔다씨는 지난달 일 피해 여성을 \\\n",
    "            인근 지하철 역에서부터 따라가 폭행을 시도하려다가 도망간 혐의를 받는다피해 \\\n",
    "            여성이 저항하자 놀란 씨는 도망갔으며 신고를 받고 주변을 수색하던 경찰에 \\\n",
    "            체포됐다피해 여성은 이 과정에서 경미한 부상을 입은 것으로 전해졌다'\n",
    "\n",
    "#- 형태소 분석, 즉 토큰화(tokenization)를 합니다.\n",
    "print(tokenizer.morphs(kor_text))"
   ]
  },
  {
   "cell_type": "code",
   "execution_count": null,
   "id": "3cfc17c1",
   "metadata": {},
   "outputs": [],
   "source": [
    "stopwords = ['에','는','은','을','했','에게','있','이','의','하','한','다','과','때문','할','수','무단','따른','및','금지','전재','경향신문','기자','는데','가','등','들','파이낸셜','저작','등','뉴스']"
   ]
  },
  {
   "cell_type": "code",
   "execution_count": null,
   "id": "b4f35bfb",
   "metadata": {},
   "outputs": [],
   "source": [
    "# 토큰화 및 토큰화 과정에서 불용어를 제거하는 함수입니다.\n",
    "def preprocessing(data):\n",
    "  text_data = []\n",
    "\n",
    "  for sentence in data:\n",
    "    temp_data = []\n",
    "    #- 토큰화\n",
    "    temp_data = tokenizer.morphs(sentence) \n",
    "    #- 불용어 제거\n",
    "    temp_data = [word for word in temp_data if not word in stopwords] \n",
    "    text_data.append(temp_data)\n",
    "\n",
    "  text_data = list(map(' '.join, text_data))\n",
    "\n",
    "  return text_data"
   ]
  },
  {
   "cell_type": "code",
   "execution_count": null,
   "id": "24bb4c19",
   "metadata": {},
   "outputs": [],
   "source": [
    "text_data = preprocessing(df['news'])\n",
    "print(text_data[0])"
   ]
  },
  {
   "cell_type": "code",
   "execution_count": null,
   "id": "e0195fd9",
   "metadata": {},
   "outputs": [],
   "source": [
    "!pip3 install sklearn"
   ]
  },
  {
   "cell_type": "code",
   "execution_count": null,
   "id": "b3ad8e88",
   "metadata": {},
   "outputs": [],
   "source": [
    "from sklearn.model_selection import train_test_split\n",
    "from sklearn.feature_extraction.text import CountVectorizer\n",
    "from sklearn.feature_extraction.text import TfidfTransformer\n",
    "from sklearn.naive_bayes import MultinomialNB\n",
    "from sklearn import metrics"
   ]
  },
  {
   "cell_type": "code",
   "execution_count": null,
   "id": "8af603fd",
   "metadata": {},
   "outputs": [],
   "source": [
    "#- 훈련 데이터와 테스트 데이터를 분리합니다.\n",
    "X_train, X_test, y_train, y_test = train_test_split(text_data, df['code'], random_state = 0)"
   ]
  },
  {
   "cell_type": "code",
   "execution_count": null,
   "id": "ffd5af07",
   "metadata": {},
   "outputs": [],
   "source": [
    "!brew install mecab\n",
    "!brew install mecab-ipadic\n",
    "!brew install mecab-ko-dic\n",
    "!pip install mecab-python3"
   ]
  },
  {
   "cell_type": "code",
   "execution_count": null,
   "id": "a427d946",
   "metadata": {},
   "outputs": [],
   "source": []
  }
 ],
 "metadata": {
  "kernelspec": {
   "display_name": "Python 3 (ipykernel)",
   "language": "python",
   "name": "python3"
  },
  "language_info": {
   "codemirror_mode": {
    "name": "ipython",
    "version": 3
   },
   "file_extension": ".py",
   "mimetype": "text/x-python",
   "name": "python",
   "nbconvert_exporter": "python",
   "pygments_lexer": "ipython3",
   "version": "3.9.6"
  }
 },
 "nbformat": 4,
 "nbformat_minor": 5
}
