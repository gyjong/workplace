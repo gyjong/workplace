{
 "cells": [
  {
   "cell_type": "markdown",
   "id": "4624eaec",
   "metadata": {},
   "source": [
    "# Crawling"
   ]
  },
  {
   "cell_type": "code",
   "execution_count": 3,
   "id": "a2ab1024",
   "metadata": {},
   "outputs": [
    {
     "name": "stdout",
     "output_type": "stream",
     "text": [
      "Defaulting to user installation because normal site-packages is not writeable\n",
      "Requirement already satisfied: beautifulsoup4 in /Users/kenny_jung/Library/Python/3.9/lib/python/site-packages (4.12.2)\n",
      "Requirement already satisfied: soupsieve>1.2 in /Users/kenny_jung/Library/Python/3.9/lib/python/site-packages (from beautifulsoup4) (2.5)\n",
      "\u001b[33mWARNING: You are using pip version 21.2.4; however, version 23.3.2 is available.\n",
      "You should consider upgrading via the '/Library/Developer/CommandLineTools/usr/bin/python3 -m pip install --upgrade pip' command.\u001b[0m\n",
      "Defaulting to user installation because normal site-packages is not writeable\n",
      "Collecting newspaper3k\n",
      "  Downloading newspaper3k-0.2.8-py3-none-any.whl (211 kB)\n",
      "\u001b[K     |████████████████████████████████| 211 kB 1.7 MB/s eta 0:00:01\n",
      "\u001b[?25hRequirement already satisfied: requests>=2.10.0 in /Users/kenny_jung/Library/Python/3.9/lib/python/site-packages (from newspaper3k) (2.31.0)\n",
      "Collecting tinysegmenter==0.3\n",
      "  Downloading tinysegmenter-0.3.tar.gz (16 kB)\n",
      "Collecting feedparser>=5.2.1\n",
      "  Downloading feedparser-6.0.11-py3-none-any.whl (81 kB)\n",
      "\u001b[K     |████████████████████████████████| 81 kB 4.4 MB/s eta 0:00:01\n",
      "\u001b[?25hRequirement already satisfied: lxml>=3.6.0 in /Users/kenny_jung/Library/Python/3.9/lib/python/site-packages (from newspaper3k) (5.1.0)\n",
      "Requirement already satisfied: python-dateutil>=2.5.3 in /Users/kenny_jung/Library/Python/3.9/lib/python/site-packages (from newspaper3k) (2.8.2)\n",
      "Requirement already satisfied: beautifulsoup4>=4.4.1 in /Users/kenny_jung/Library/Python/3.9/lib/python/site-packages (from newspaper3k) (4.12.2)\n",
      "Collecting tldextract>=2.0.1\n",
      "  Downloading tldextract-5.1.1-py3-none-any.whl (97 kB)\n",
      "\u001b[K     |████████████████████████████████| 97 kB 5.3 MB/s eta 0:00:011\n",
      "\u001b[?25hCollecting PyYAML>=3.11\n",
      "  Downloading PyYAML-6.0.1-cp39-cp39-macosx_11_0_arm64.whl (174 kB)\n",
      "\u001b[K     |████████████████████████████████| 174 kB 2.4 MB/s eta 0:00:01\n",
      "\u001b[?25hCollecting feedfinder2>=0.0.4\n",
      "  Downloading feedfinder2-0.0.4.tar.gz (3.3 kB)\n",
      "Collecting Pillow>=3.3.0\n",
      "  Downloading pillow-10.2.0-cp39-cp39-macosx_11_0_arm64.whl (3.3 MB)\n",
      "\u001b[K     |████████████████████████████████| 3.3 MB 3.8 MB/s eta 0:00:01\n",
      "\u001b[?25hCollecting jieba3k>=0.35.1\n",
      "  Downloading jieba3k-0.35.1.zip (7.4 MB)\n",
      "\u001b[K     |████████████████████████████████| 7.4 MB 6.7 MB/s eta 0:00:01\n",
      "\u001b[?25hCollecting cssselect>=0.9.2\n",
      "  Downloading cssselect-1.2.0-py2.py3-none-any.whl (18 kB)\n",
      "Collecting nltk>=3.2.1\n",
      "  Downloading nltk-3.8.1-py3-none-any.whl (1.5 MB)\n",
      "\u001b[K     |████████████████████████████████| 1.5 MB 3.0 MB/s eta 0:00:01\n",
      "\u001b[?25hRequirement already satisfied: soupsieve>1.2 in /Users/kenny_jung/Library/Python/3.9/lib/python/site-packages (from beautifulsoup4>=4.4.1->newspaper3k) (2.5)\n",
      "Requirement already satisfied: six in /Library/Developer/CommandLineTools/Library/Frameworks/Python3.framework/Versions/3.9/lib/python3.9/site-packages (from feedfinder2>=0.0.4->newspaper3k) (1.15.0)\n",
      "Collecting sgmllib3k\n",
      "  Downloading sgmllib3k-1.0.0.tar.gz (5.8 kB)\n",
      "Collecting click\n",
      "  Downloading click-8.1.7-py3-none-any.whl (97 kB)\n",
      "\u001b[K     |████████████████████████████████| 97 kB 10.4 MB/s eta 0:00:01\n",
      "\u001b[?25hCollecting tqdm\n",
      "  Downloading tqdm-4.66.1-py3-none-any.whl (78 kB)\n",
      "\u001b[K     |████████████████████████████████| 78 kB 7.7 MB/s eta 0:00:011\n",
      "\u001b[?25hCollecting joblib\n",
      "  Downloading joblib-1.3.2-py3-none-any.whl (302 kB)\n",
      "\u001b[K     |████████████████████████████████| 302 kB 4.2 MB/s eta 0:00:01\n",
      "\u001b[?25hCollecting regex>=2021.8.3\n",
      "  Downloading regex-2023.12.25-cp39-cp39-macosx_11_0_arm64.whl (291 kB)\n",
      "\u001b[K     |████████████████████████████████| 291 kB 6.2 MB/s eta 0:00:01\n",
      "\u001b[?25hRequirement already satisfied: idna<4,>=2.5 in /Users/kenny_jung/Library/Python/3.9/lib/python/site-packages (from requests>=2.10.0->newspaper3k) (3.6)\n",
      "Requirement already satisfied: certifi>=2017.4.17 in /Users/kenny_jung/Library/Python/3.9/lib/python/site-packages (from requests>=2.10.0->newspaper3k) (2023.11.17)\n",
      "Requirement already satisfied: urllib3<3,>=1.21.1 in /Users/kenny_jung/Library/Python/3.9/lib/python/site-packages (from requests>=2.10.0->newspaper3k) (2.1.0)\n",
      "Requirement already satisfied: charset-normalizer<4,>=2 in /Users/kenny_jung/Library/Python/3.9/lib/python/site-packages (from requests>=2.10.0->newspaper3k) (3.3.2)\n",
      "Collecting filelock>=3.0.8\n",
      "  Downloading filelock-3.13.1-py3-none-any.whl (11 kB)\n",
      "Collecting requests-file>=1.4\n",
      "  Downloading requests_file-1.5.1-py2.py3-none-any.whl (3.7 kB)\n",
      "Building wheels for collected packages: tinysegmenter, feedfinder2, jieba3k, sgmllib3k\n",
      "  Building wheel for tinysegmenter (setup.py) ... \u001b[?25ldone\n",
      "\u001b[?25h  Created wheel for tinysegmenter: filename=tinysegmenter-0.3-py3-none-any.whl size=13552 sha256=539a88ef5ec61206dd8387ca905baeb3a7cc920bc2009eaa52435d1619f85619\n",
      "  Stored in directory: /Users/kenny_jung/Library/Caches/pip/wheels/94/ad/df/a2a01300cea47d5695f242f7e925a805970106fd9e4b151468\n",
      "  Building wheel for feedfinder2 (setup.py) ... \u001b[?25ldone\n",
      "\u001b[?25h  Created wheel for feedfinder2: filename=feedfinder2-0.0.4-py3-none-any.whl size=3356 sha256=1ed160728e494242a4a6ffc8754d20e7ce10fe55c48f01ec44e0d2b4676883c6\n",
      "  Stored in directory: /Users/kenny_jung/Library/Caches/pip/wheels/43/4a/c2/61a371b2524ac90805391c660d8dc4505705297f25e2b85a5d\n",
      "  Building wheel for jieba3k (setup.py) ... \u001b[?25ldone\n",
      "\u001b[?25h  Created wheel for jieba3k: filename=jieba3k-0.35.1-py3-none-any.whl size=7398405 sha256=84e13d193b42a5f2a4328e4c2048e8efa163f8027fd9136cb8a5184bc87e94b0\n",
      "  Stored in directory: /Users/kenny_jung/Library/Caches/pip/wheels/c2/22/59/8214a8d6357e9f540ce1f37f9a4362b6156b4ca81b37f1945f\n",
      "  Building wheel for sgmllib3k (setup.py) ... \u001b[?25ldone\n",
      "\u001b[?25h  Created wheel for sgmllib3k: filename=sgmllib3k-1.0.0-py3-none-any.whl size=6065 sha256=d45f78c9d517b2282c2b3246692730ace463cde9394f4d497f0d686b293af416\n",
      "  Stored in directory: /Users/kenny_jung/Library/Caches/pip/wheels/65/7a/a7/78c287f64e401255dff4c13fdbc672fed5efbfd21c530114e1\n",
      "Successfully built tinysegmenter feedfinder2 jieba3k sgmllib3k\n",
      "Installing collected packages: tqdm, sgmllib3k, requests-file, regex, joblib, filelock, click, tldextract, tinysegmenter, PyYAML, Pillow, nltk, jieba3k, feedparser, feedfinder2, cssselect, newspaper3k\n",
      "Successfully installed Pillow-10.2.0 PyYAML-6.0.1 click-8.1.7 cssselect-1.2.0 feedfinder2-0.0.4 feedparser-6.0.11 filelock-3.13.1 jieba3k-0.35.1 joblib-1.3.2 newspaper3k-0.2.8 nltk-3.8.1 regex-2023.12.25 requests-file-1.5.1 sgmllib3k-1.0.0 tinysegmenter-0.3 tldextract-5.1.1 tqdm-4.66.1\n",
      "\u001b[33mWARNING: You are using pip version 21.2.4; however, version 23.3.2 is available.\n",
      "You should consider upgrading via the '/Library/Developer/CommandLineTools/usr/bin/python3 -m pip install --upgrade pip' command.\u001b[0m\n",
      "Defaulting to user installation because normal site-packages is not writeable\n",
      "Requirement already satisfied: konlpy in /Users/kenny_jung/Library/Python/3.9/lib/python/site-packages (0.6.0)\n",
      "Requirement already satisfied: lxml>=4.1.0 in /Users/kenny_jung/Library/Python/3.9/lib/python/site-packages (from konlpy) (5.1.0)\n",
      "Requirement already satisfied: JPype1>=0.7.0 in /Users/kenny_jung/Library/Python/3.9/lib/python/site-packages (from konlpy) (1.5.0)\n",
      "Requirement already satisfied: numpy>=1.6 in /Users/kenny_jung/Library/Python/3.9/lib/python/site-packages (from konlpy) (1.26.3)\n",
      "Requirement already satisfied: packaging in /Users/kenny_jung/Library/Python/3.9/lib/python/site-packages (from JPype1>=0.7.0->konlpy) (23.2)\n",
      "\u001b[33mWARNING: You are using pip version 21.2.4; however, version 23.3.2 is available.\n",
      "You should consider upgrading via the '/Library/Developer/CommandLineTools/usr/bin/python3 -m pip install --upgrade pip' command.\u001b[0m\n"
     ]
    }
   ],
   "source": [
    "!pip3 install beautifulsoup4\n",
    "!pip3 install newspaper3k\n",
    "!pip3 install konlpy"
   ]
  },
  {
   "cell_type": "code",
   "execution_count": 4,
   "id": "b5e10f42",
   "metadata": {},
   "outputs": [],
   "source": [
    "from bs4 import BeautifulSoup\n",
    "\n",
    "#- HTML 문서를 문자열 html로 저장합니다.\n",
    "html = '''\n",
    "<html> \n",
    "    <head> \n",
    "    </head> \n",
    "    <body> \n",
    "        <h1> 장바구니\n",
    "            <p id='clothes' class='name' title='라운드티'> 라운드티\n",
    "                <span class = 'number'> 25 </span> \n",
    "                <span class = 'price'> 29000 </span> \n",
    "                <span class = 'menu'> 의류</span> \n",
    "                <a href = 'http://www.naver.com'> 바로가기 </a> \n",
    "            </p> \n",
    "            <p id='watch' class='name' title='시계'> 시계\n",
    "                <span class = 'number'> 28 </span>\n",
    "                <span class = 'price'> 32000 </span> \n",
    "                <span class = 'menu'> 악세서리 </span> \n",
    "                <a href = 'http://www.facebook.com'> 바로가기 </a> \n",
    "            </p> \n",
    "        </h1> \n",
    "    </body> \n",
    "</html>\n",
    "'''\n",
    "\n",
    "#- BeautifulSoup 인스턴스를 생성합니다.\n",
    "#- 두번째 매개변수는 분석할 분석기(parser)의 종류입니다.\n",
    "soup = BeautifulSoup(html, 'html.parser')"
   ]
  },
  {
   "cell_type": "code",
   "execution_count": 5,
   "id": "cd876e8c",
   "metadata": {},
   "outputs": [
    {
     "name": "stdout",
     "output_type": "stream",
     "text": [
      "[<body>\n",
      "<h1> 장바구니\n",
      "            <p class=\"name\" id=\"clothes\" title=\"라운드티\"> 라운드티\n",
      "                <span class=\"number\"> 25 </span>\n",
      "<span class=\"price\"> 29000 </span>\n",
      "<span class=\"menu\"> 의류</span>\n",
      "<a href=\"http://www.naver.com\"> 바로가기 </a>\n",
      "</p>\n",
      "<p class=\"name\" id=\"watch\" title=\"시계\"> 시계\n",
      "                <span class=\"number\"> 28 </span>\n",
      "<span class=\"price\"> 32000 </span>\n",
      "<span class=\"menu\"> 악세서리 </span>\n",
      "<a href=\"http://www.facebook.com\"> 바로가기 </a>\n",
      "</p>\n",
      "</h1>\n",
      "</body>]\n"
     ]
    }
   ],
   "source": [
    "print(soup.select('body'))"
   ]
  },
  {
   "cell_type": "code",
   "execution_count": 7,
   "id": "4c4a2f68",
   "metadata": {},
   "outputs": [
    {
     "name": "stdout",
     "output_type": "stream",
     "text": [
      "[<p class=\"name\" id=\"clothes\" title=\"라운드티\"> 라운드티\n",
      "                <span class=\"number\"> 25 </span>\n",
      "<span class=\"price\"> 29000 </span>\n",
      "<span class=\"menu\"> 의류</span>\n",
      "<a href=\"http://www.naver.com\"> 바로가기 </a>\n",
      "</p>, <p class=\"name\" id=\"watch\" title=\"시계\"> 시계\n",
      "                <span class=\"number\"> 28 </span>\n",
      "<span class=\"price\"> 32000 </span>\n",
      "<span class=\"menu\"> 악세서리 </span>\n",
      "<a href=\"http://www.facebook.com\"> 바로가기 </a>\n",
      "</p>]\n"
     ]
    }
   ],
   "source": [
    "print(soup.select('p'))"
   ]
  },
  {
   "cell_type": "code",
   "execution_count": 8,
   "id": "26d7a57d",
   "metadata": {},
   "outputs": [
    {
     "name": "stdout",
     "output_type": "stream",
     "text": [
      "[<span class=\"menu\"> 의류</span>, <span class=\"menu\"> 악세서리 </span>]\n"
     ]
    }
   ],
   "source": [
    "print(soup.select('h1 .name .menu'))"
   ]
  },
  {
   "cell_type": "code",
   "execution_count": 9,
   "id": "4cc4819e",
   "metadata": {},
   "outputs": [
    {
     "name": "stdout",
     "output_type": "stream",
     "text": [
      "[]\n"
     ]
    }
   ],
   "source": [
    "print(soup.select('html > h1'))"
   ]
  },
  {
   "cell_type": "code",
   "execution_count": 10,
   "id": "ed2048f1",
   "metadata": {},
   "outputs": [
    {
     "data": {
      "text/plain": [
       "[<h1> 장바구니\n",
       "             <p class=\"name\" id=\"clothes\" title=\"라운드티\"> 라운드티\n",
       "                 <span class=\"number\"> 25 </span>\n",
       " <span class=\"price\"> 29000 </span>\n",
       " <span class=\"menu\"> 의류</span>\n",
       " <a href=\"http://www.naver.com\"> 바로가기 </a>\n",
       " </p>\n",
       " <p class=\"name\" id=\"watch\" title=\"시계\"> 시계\n",
       "                 <span class=\"number\"> 28 </span>\n",
       " <span class=\"price\"> 32000 </span>\n",
       " <span class=\"menu\"> 악세서리 </span>\n",
       " <a href=\"http://www.facebook.com\"> 바로가기 </a>\n",
       " </p>\n",
       " </h1>]"
      ]
     },
     "execution_count": 10,
     "metadata": {},
     "output_type": "execute_result"
    }
   ],
   "source": [
    "soup.select('html h1')"
   ]
  },
  {
   "cell_type": "code",
   "execution_count": 12,
   "id": "f11303a5",
   "metadata": {},
   "outputs": [],
   "source": [
    "from newspaper import Article\n",
    "\n",
    "#- 파싱할 뉴스 기사 주소입니다.\n",
    "url = 'https://www.mk.co.kr/news/it/10916188'\n",
    "\n",
    "#- 언어가 한국어이므로 language='ko'로 설정해줍니다.\n",
    "article = Article(url, language='ko')\n",
    "article.download()\n",
    "article.parse()"
   ]
  },
  {
   "cell_type": "code",
   "execution_count": 13,
   "id": "2ed63055",
   "metadata": {},
   "outputs": [
    {
     "name": "stdout",
     "output_type": "stream",
     "text": [
      "기사 제목 :\n",
      "상상도 못한 일들 펼쳐진다 … 2024 'AI의 대진격'\n",
      "\n",
      "기사 내용 :\n",
      "미라클 레터\n",
      "\n",
      "실리콘밸리의 올 AI시장 '10가지 전망'\n",
      "\n",
      "사진 확대 AI가 탑재된 메타의 스마트 선글라스. 메타\n",
      "\n",
      "사진 확대 마이크로소프트 자체 개발 AI칩 '마이아'로 만들어진 데이터센터 랙. MS\n",
      "\n",
      "사진 확대\n",
      "\n",
      "2023년은 생성형 AI의 한 해라고 말해도 될 정도로 인공지능이 산업과 경제의 중심에 자리 잡았다. 2022년 11월 세상에 등장한 오픈AI의 챗GPT가 엄청난 인기를 얻으면서 전 세계 사람들의 머릿속에 '인공지능(AI)'을 각인시켰다. 미라클레터는 주요 테크 전문 매체와 전문가들의 분석을 통해 2024년 AI산업에서 일어날 일을 예측해봤다.1 멀티 모달리티는 모든 AI의 표준이 될듯2023년 11월 오픈AI가 공개한 GPT4 터보는 멀티 모달리티 능력을 갖췄다. 거대언어모델(LLM)이 텍스트만 이해하는 것이 아니라 이미지와 음성까지 이해하는 능력이다. 12월 공개된 구글 제미나이도 멀티 모달리티 능력을 갖췄다. 이런 멀티 모달리티 능력은 앞으로 나오는 모든 LLM 기반 인공지능의 표준이 될 것이라는 전망이 지배적이었다. 캐시 가오 사파이어벤처스 파트너는 \"2024년에는 텍스트, 이미지, 오디오와 같은 데이터가 멀티 모달 형태로 융합하면서 AI에 대한 재정의가 이뤄질 것\"이라며 \"이러한 모델을 사용하는 스타트업은 더 나은 의사 결정을 가능케 할 뿐 아니라 사용자 경험을 향상할 것\"으로 내다봤다.2 제미나이 프로 수준의 오픈소스 모델 기대기업들의 AI 개발 경쟁은 AI 모델과 데이터를 비공개하는 기업 소유 AI와 이를 공개하는 오픈소스 AI의 두 가지 흐름으로 이어지고 있다. 챗GPT, 제미나이, 미드저니 등이 대표적인 기업 소유 AI이며 라마2, 스테이블디퓨전, 미스트랄 등이 대표적인 오픈소스 AI다. 오픈소스 AI는 자금이나 데이터 측면에서 기업 소유 AI보다 불리한 점이 많다. 하지만 개방적인 생태계를 통해서 많은 개발자와 스타트업의 참여를 이끌 수 있다는 강점이 있다. 올해 제미나이 프로나 GPT4 수준에 근접한 오픈소스 LLM이 나올 것이라는 기대가 높다. 오픈소스 AI는 자신의 데이터를 가지고 독자적인 AI를 만들려는 기업들에 유용하다. 마누비르 다스 엔비디아 엔터프라이즈 컴퓨팅 부문 부사장은 \"사전 학습된 오픈소스 모델 덕분에 특정 도메인의 문제를 해결하는 생성형 AI 애플리케이션이 기업의 중요 전략이 될 것\"이라고 설명했다.3 우리가 상상하지 못한 AI 사용 사례가 나온다2023년 생성형 AI가 가상화폐나 메타버스와 다른 점은 실제 사용 사례가 많다는 점이었다. 챗GPT로 영문 이메일을 쓰고, 콘텐츠용 그림을 생성하거나 코딩을 하는 사용자가 많아졌다. 이런 실사용자가 많아지면서 챗GPT를 만드는 오픈AI는 연간으로 환산 시 매출이 약 2조원에 달할 것으로 예상된다. 올해는 이런 실사용 사례가 더 많이 늘어날 것으로 보인다. 데이원벤처스의 설립자인 마샤 버처 파트너는 \"생명공학, 유전체, 기후 등 연구에 AI가 활발히 적용될 것\"이라며 \"AI가 인간의 의식, 무의식에 대한 지식을 어떻게 풀어 나갈 수 있을지 궁금하다\"고 전망했다.4 GPU 부족 현상 사라지고 추론 비용 경쟁 시작AI 학습에 사용하는 엔비디아 GPU 부족 덕분에 2023년 등장한 신조어 'GPU 푸어'. GPU를 충분히 확보하지 못한 기업들이 스스로를 자조적으로 부르는 말이었다. 올해 엔비디아 GPU 생산의 병목현상이 해결되고, 비용 경쟁이 본격화될 것으로 예상된다. 특히 AI로 서비스를 제공하는 '추론'에서 제일 경쟁이 치열할 것으로 예상된다. AWS, MS 애저, 구글 클라우드 같은 클라우드 사업자가 자체적인 반도체를 만들고 AMD, 인텔이 자체 AI 반도체를 내놓는 것은 값비싼 엔비디아 GPU보다 저렴한 추론 비용을 제공할 수 있다고 믿기 때문이다. 중국이 직접 만든 AI 반도체 등장도 올해 예상된다. 미국이 엔비디아 GPU의 수출을 막으면서 중국 기업들은 AI를 학습시키는 데 어려움을 겪고 있기 때문이다. 디인포메이션은 중국의 반도체 독립 움직임이 AI 학습용 GPU에도 이어질 것으로 예상했다.5 이어폰에 스마트 안경, AI 디바이스로 부상AI가 멀티 모달리티 기능을 갖추게 되고 AI 와 소통하는 방식이 달라질 것이 예상되면서 새로운 'AI 웨어러블 디바이스'가 부상하고 있다. 샘 올트먼 오픈AI CEO가 투자한 휴메인이 만든 AI 핀과 메타의 스마트 안경이 대표적인 AI 웨어러블이다. 최근 애플의 전설적인 디자이너 조너선 아이브가 설립한 디자인 회사가 AI 기기를 개발하고 있다는 소식은 많은 이들의 관심을 받고 있다. 이 회사에는 올트먼과 소프트뱅크도 관련된 것으로 알려졌다. 이런 측면에서 이어폰도 중요한 AI 디바이스로 떠오를 수 있다.6 스마트폰 경쟁에서도 AI가 중심지난해 12월 구글은 제미나이를 공개하면서 픽셀8 프로에 스마트폰용 AI인 제미나이 나노를 탑재했다. 챗GPT가 등장하면서 개인화된 인공지능 비서가 나올 것이라는 전망이 나왔는데 구글이 한 발 빠르게 움직인 것. 이달 17일 실리콘밸리에서 공개되는 삼성전자의 갤럭시24에도 생성형 AI가 탑재될 것으로 예상된다. 여기에 애플도 아이폰에서 사용할 수 있는 LLM을 개발하고 있는 것으로 알려지면서 생성형 AI가 스마트폰 경쟁에서 중심에 서게 됐다. 핵심은 스마트폰 사용자의 데이터를 모아서 만드는 개인화된 AI 비서다. 테크크런치는 \"애플이 독점적인 지위를 통해서 사용자 데이터를 실용적으로 응용하는 데 초점을 맞출 것\"이라고 전망했다. 한 단계 업그레이드 된 시리가 나올 수 있다는 것. 클라우드를 거치지 않고 스마트폰이나 PC 처럼 디바이스에서 돌아가는 AI는 '온디바이스AI'라고 불린다.7 AI의 한계에 대한 회의론 나올수도현재 시장을 주도하고 있는 생성형 AI는 2017년에 나온 구글의 트랜스포머 모델을 바탕으로 만들어졌다. 특히 언어모델의 매개변수를 크게 하면 할수록 성능이 좋아지는 현상이 나타나면서 반도체에서 '무어의 법칙'과 같은 빠른 혁신이 나타날 수 있었다. 하지만 벌써부터 이런 트랜스포머를 기반으로 하는 AI에 한계가 왔다는 지적도 나오고 있다고 디인포메이션과 테크크런치는 전망했다. 마치 트랜스포머 모델이 과거 인공지능에서 지배적이었던 CNN 모델을 대체했던 것처럼 트랜스포머를 대체할 모델이 나올 것이라는 전망이 많다. 대표적으로 맘바(Mamba)나 LNN(Liquid Neural Network)이 대안으로 언급되는 모델이다. 이런 점에서 2024년은 AI의 한계에 대한 회의론이 나올 가능성이 높다.8 국가대표 AI 기업에 돈 쏠려지난해 생성형 AI가 떠오르면서 자국을 대표하는 AI 기업과 모델을 만들려는 움직임이 커져 가고 있다. AI가 곧 국가 주권과 관련된다는 것으로 이를 '소버린AI'라고 부른다. 국가별로 LLM을 만드는 대표 기업에 많은 돈이 몰리고 있다. 프랑스는 미스트랄, 독일은 알레프알파라는 스타트업이 직접 LLM을 만들고 있는데 미스트랄은 지난해 12월 4억달러, 알레프알파는 11월 5억달러에 달하는 어마어마한 투자를 유치했다. 빅테크 기업들에 안방을 내준 유럽 국가들은 이번에는 똑같은 실수를 반복하지 않겠다는 생각을 하고 있다. 중국 빅테크 기업들도 모두 자체적인 LLM 개발에 나서고 있다. 알리바바, 바이두, 텐센트, 바이트댄스가 모두 LLM을 개발하고 있다. 중국뿐 아니라 한국, 인도, 이탈리아 등도 '소버린AI' 구축에 나서고 있다. 이 같은 생각의 바탕에는 자국 언어로 된 LLM은 자국 기업이 가장 잘 만든다는 생각이 깔려 있다.9 AI 저작권 이슈 본격 불거질 듯뉴욕타임스가 오픈AI와 마이크로소프트에 수조 원 규모의 소송을 제기하면서 저작권 이슈가 AI의 중심으로 들어왔다. 뉴욕타임스는 오픈AI가 자신들의 기사를 무단으로 학습했고 이에 대한 적절한 보상을 지불하지 않았다고 주장했다. 또한 구글과 같은 검색 서비스에서는 뉴욕타임스 사이트로 링크를 통해 이동하면서 트래픽이 발생하지만 생성형 AI에서는 이런 트래픽이 나오지 않는다는 점도 지적했다. 이처럼 저작권 이슈가 2024년에는 더욱 많아질 것으로 보인다. 이미 레딧이나 X 같은 곳은 자신들의 데이터를 무단으로 학습에 사용하는 것을 금지시켰다.10 전 세계 선거, AI가 만든 가짜 콘텐츠와 전쟁지난해 조 바이든 미국 대통령이 AI 행정명령을 내놓으면서 AI에 대한 규제가 본격화됐다. 하지만 실제 규제의 효과는 올해부터 발휘될 것으로 예상된다. 무엇보다 올해 중요한 선거가 많다는 점이 중요하다. AI로 만들어진 가짜뉴스와 가짜이미지가 선거에 영향을 미칠 수 있기 때문. 주요 매체들은 AI 가 선거에 미칠 영향에 대해서 우려를 표하고 있다. 또한 이를 계기로 AI에 대한 규제가 더 본격화될 것이라고 전망했다.7만8000명이 읽고 있는 글로벌 트렌드 뉴스레터인 '미라클레터'를 주 3회 무료로 만나 보세요. 검색창에 '미라클레터'를 입력하거나 QR코드를 스캔해 무료로 구독할 수 있습니다.[실리콘밸리 이덕주 특파원]\n"
     ]
    }
   ],
   "source": [
    "#- 기사 제목을 출력합니다.\n",
    "print('기사 제목 :')\n",
    "print(article.title)\n",
    "print('')\n",
    "\n",
    "#- 기사 내용을 출력합니다.\n",
    "print('기사 내용 :')\n",
    "print(article.text)"
   ]
  },
  {
   "cell_type": "markdown",
   "id": "a8978963",
   "metadata": {},
   "source": [
    "## URL List 생성"
   ]
  },
  {
   "cell_type": "code",
   "execution_count": 18,
   "id": "0e7666c5",
   "metadata": {},
   "outputs": [
    {
     "name": "stderr",
     "output_type": "stream",
     "text": [
      "/Users/kenny_jung/Library/Python/3.9/lib/python/site-packages/urllib3/__init__.py:34: NotOpenSSLWarning: urllib3 v2 only supports OpenSSL 1.1.1+, currently the 'ssl' module is compiled with 'LibreSSL 2.8.3'. See: https://github.com/urllib3/urllib3/issues/3020\n",
      "  warnings.warn(\n"
     ]
    }
   ],
   "source": [
    "# 크롤러를 만들기 전 필요한 도구들을 임포트합니다.\n",
    "import requests\n",
    "import pandas as pd\n",
    "from bs4 import BeautifulSoup\n",
    "\n",
    "# 페이지 수, 카테고리, 날짜를 입력값으로 받습니다.\n",
    "def make_urllist(page_num, code, date): \n",
    "    urllist= []\n",
    "    for i in range(1, page_num + 1):\n",
    "        url = 'https://news.naver.com/main/list.nhn?mode=LSD&mid=sec&sid1='+str(code)+'&date='+str(date)+'&page='+str(i)\n",
    "        headers = {'User-Agent': 'Mozilla/5.0 (X11; Linux x86_64) AppleWebKit/537.36 (KHTML, like Gecko) Chrome/54.0.2840.90 Safari/537.36'}\n",
    "        news = requests.get(url, headers=headers)\n",
    "\n",
    "        # BeautifulSoup의 인스턴스 생성합니다. 파서는 html.parser를 사용합니다.\n",
    "        soup = BeautifulSoup(news.content, 'html.parser')\n",
    "\n",
    "        # CASE 1\n",
    "        news_list = soup.select('.newsflash_body .type06_headline li dl')\n",
    "        # CASE 2\n",
    "        news_list.extend(soup.select('.newsflash_body .type06 li dl'))\n",
    "        \n",
    "        # 각 뉴스로부터 a 태그인 <a href ='주소'> 에서 '주소'만을 가져옵니다.\n",
    "        for line in news_list:\n",
    "            urllist.append(line.a.get('href'))\n",
    "    return urllist"
   ]
  },
  {
   "cell_type": "code",
   "execution_count": 19,
   "id": "8096d712",
   "metadata": {},
   "outputs": [
    {
     "name": "stdout",
     "output_type": "stream",
     "text": [
      "뉴스 기사의 개수:  40\n"
     ]
    }
   ],
   "source": [
    "url_list = make_urllist(2, 105, 20231128)\n",
    "print('뉴스 기사의 개수: ',len(url_list))"
   ]
  },
  {
   "cell_type": "code",
   "execution_count": 20,
   "id": "2f57c06d",
   "metadata": {},
   "outputs": [
    {
     "data": {
      "text/plain": [
       "['https://n.news.naver.com/mnews/article/009/0005222155?sid=105',\n",
       " 'https://n.news.naver.com/mnews/article/020/0003533945?sid=105',\n",
       " 'https://n.news.naver.com/mnews/article/092/0002313077?sid=105',\n",
       " 'https://n.news.naver.com/mnews/article/008/0004967473?sid=105',\n",
       " 'https://n.news.naver.com/mnews/article/056/0011611479?sid=105']"
      ]
     },
     "execution_count": 20,
     "metadata": {},
     "output_type": "execute_result"
    }
   ],
   "source": [
    "url_list[:5]"
   ]
  },
  {
   "cell_type": "code",
   "execution_count": 21,
   "id": "ea5d713b",
   "metadata": {},
   "outputs": [],
   "source": [
    "idx2word = {'100' : '정치', '101' : '경제', '102' : '사회', '103' : '생활/문화', '105' : 'IT/과학'}"
   ]
  },
  {
   "cell_type": "markdown",
   "id": "6c04293f",
   "metadata": {},
   "source": [
    "## News Dataframe 생성"
   ]
  },
  {
   "cell_type": "code",
   "execution_count": 22,
   "id": "25a28235",
   "metadata": {},
   "outputs": [],
   "source": [
    "from newspaper import Article\n",
    "\n",
    "#- 데이터프레임을 생성하는 함수입니다.\n",
    "def make_data(urllist, code):\n",
    "    text_list = []\n",
    "    for url in urllist:\n",
    "        article = Article(url, language='ko')\n",
    "        article.download()\n",
    "        article.parse()\n",
    "        text_list.append(article.title)\n",
    "\n",
    "    #- 데이터프레임의 'news' 키 아래 파싱한 텍스트를 밸류로 붙여줍니다.\n",
    "    df = pd.DataFrame({'news': text_list})\n",
    "\n",
    "    #- 데이터프레임의 'code' 키 아래 한글 카테고리명을 붙여줍니다.\n",
    "    df['code'] = idx2word[str(code)]\n",
    "    return df"
   ]
  },
  {
   "cell_type": "code",
   "execution_count": 23,
   "id": "53a98a6f",
   "metadata": {},
   "outputs": [
    {
     "data": {
      "text/html": [
       "<div>\n",
       "<style scoped>\n",
       "    .dataframe tbody tr th:only-of-type {\n",
       "        vertical-align: middle;\n",
       "    }\n",
       "\n",
       "    .dataframe tbody tr th {\n",
       "        vertical-align: top;\n",
       "    }\n",
       "\n",
       "    .dataframe thead th {\n",
       "        text-align: right;\n",
       "    }\n",
       "</style>\n",
       "<table border=\"1\" class=\"dataframe\">\n",
       "  <thead>\n",
       "    <tr style=\"text-align: right;\">\n",
       "      <th></th>\n",
       "      <th>news</th>\n",
       "      <th>code</th>\n",
       "    </tr>\n",
       "  </thead>\n",
       "  <tbody>\n",
       "    <tr>\n",
       "      <th>0</th>\n",
       "      <td>우리 할머니 인슐린 주사 그만 맞아도 될까…‘당뇨 완치’ 길 열리나</td>\n",
       "      <td>정치</td>\n",
       "    </tr>\n",
       "    <tr>\n",
       "      <th>1</th>\n",
       "      <td>강스템바이오텍, ‘퓨어스템 오에이 키트주’ 임상 순항… “기술수출에 최선”</td>\n",
       "      <td>정치</td>\n",
       "    </tr>\n",
       "    <tr>\n",
       "      <th>2</th>\n",
       "      <td>DN솔루션즈, 獨 테크니컬 센터 열어…\"유럽 시장 잡는다\"</td>\n",
       "      <td>정치</td>\n",
       "    </tr>\n",
       "    <tr>\n",
       "      <th>3</th>\n",
       "      <td>대구경북과학기술원 신임 총장에 이건우 서울대 전 공대 학장</td>\n",
       "      <td>정치</td>\n",
       "    </tr>\n",
       "    <tr>\n",
       "      <th>4</th>\n",
       "      <td>울산 남구 테크노산업로 일원 자율주행차 시범운행지구 지정</td>\n",
       "      <td>정치</td>\n",
       "    </tr>\n",
       "    <tr>\n",
       "      <th>5</th>\n",
       "      <td>유니스트, ‘세계에서 가장 영향력 있는 연구자’ 9명</td>\n",
       "      <td>정치</td>\n",
       "    </tr>\n",
       "    <tr>\n",
       "      <th>6</th>\n",
       "      <td>이용훈 총장, 과기부 장관 ‘물망’…유니스트는?</td>\n",
       "      <td>정치</td>\n",
       "    </tr>\n",
       "    <tr>\n",
       "      <th>7</th>\n",
       "      <td>쿠쿠전자, 대용량 '아이편한 가습기 7S' 출시</td>\n",
       "      <td>정치</td>\n",
       "    </tr>\n",
       "    <tr>\n",
       "      <th>8</th>\n",
       "      <td>욕설 논란에 카르텔 폭로까지…스텝 꼬인 김범수 쇄신안</td>\n",
       "      <td>정치</td>\n",
       "    </tr>\n",
       "    <tr>\n",
       "      <th>9</th>\n",
       "      <td>“이런 XXX같은” 욕설 회의... 카카오 임원 “문제점 지적하다 실수”</td>\n",
       "      <td>정치</td>\n",
       "    </tr>\n",
       "  </tbody>\n",
       "</table>\n",
       "</div>"
      ],
      "text/plain": [
       "                                        news code\n",
       "0      우리 할머니 인슐린 주사 그만 맞아도 될까…‘당뇨 완치’ 길 열리나   정치\n",
       "1  강스템바이오텍, ‘퓨어스템 오에이 키트주’ 임상 순항… “기술수출에 최선”   정치\n",
       "2           DN솔루션즈, 獨 테크니컬 센터 열어…\"유럽 시장 잡는다\"   정치\n",
       "3           대구경북과학기술원 신임 총장에 이건우 서울대 전 공대 학장   정치\n",
       "4            울산 남구 테크노산업로 일원 자율주행차 시범운행지구 지정   정치\n",
       "5              유니스트, ‘세계에서 가장 영향력 있는 연구자’ 9명   정치\n",
       "6                 이용훈 총장, 과기부 장관 ‘물망’…유니스트는?   정치\n",
       "7                 쿠쿠전자, 대용량 '아이편한 가습기 7S' 출시   정치\n",
       "8              욕설 논란에 카르텔 폭로까지…스텝 꼬인 김범수 쇄신안   정치\n",
       "9   “이런 XXX같은” 욕설 회의... 카카오 임원 “문제점 지적하다 실수”   정치"
      ]
     },
     "execution_count": 23,
     "metadata": {},
     "output_type": "execute_result"
    }
   ],
   "source": [
    "data = make_data(url_list, 100)\n",
    "#- 상위 10개만 출력해봅니다.\n",
    "data[:10]"
   ]
  },
  {
   "cell_type": "code",
   "execution_count": 24,
   "id": "f53eaeb9",
   "metadata": {},
   "outputs": [
    {
     "data": {
      "text/plain": [
       "[102, 103, 105]"
      ]
     },
     "execution_count": 24,
     "metadata": {},
     "output_type": "execute_result"
    }
   ],
   "source": [
    "code_list = [102, 103, 105]\n",
    "\n",
    "code_list"
   ]
  },
  {
   "cell_type": "markdown",
   "id": "a30f7ce7",
   "metadata": {},
   "source": [
    "## 대상 New Category의 전체 News Dataframe 생성"
   ]
  },
  {
   "cell_type": "code",
   "execution_count": 25,
   "id": "fd427be4",
   "metadata": {},
   "outputs": [],
   "source": [
    "def make_total_data(page_num, code_list, date):\n",
    "    df = None\n",
    "\n",
    "    for code in code_list:\n",
    "        url_list = make_urllist(page_num, code, date)\n",
    "        df_temp = make_data(url_list, code)\n",
    "        print(str(code)+'번 코드에 대한 데이터를 만들었습니다.')\n",
    "\n",
    "        if df is not None:\n",
    "            df = pd.concat([df, df_temp])\n",
    "        else:\n",
    "            df = df_temp\n",
    "\n",
    "    return df"
   ]
  },
  {
   "cell_type": "markdown",
   "id": "d3600d36",
   "metadata": {},
   "source": [
    "## 특정 날짜 대상 News Category의 News Dataframe 생성"
   ]
  },
  {
   "cell_type": "code",
   "execution_count": 26,
   "id": "9f029961",
   "metadata": {},
   "outputs": [
    {
     "name": "stdout",
     "output_type": "stream",
     "text": [
      "102번 코드에 대한 데이터를 만들었습니다.\n",
      "103번 코드에 대한 데이터를 만들었습니다.\n",
      "105번 코드에 대한 데이터를 만들었습니다.\n"
     ]
    }
   ],
   "source": [
    "df = make_total_data(1, code_list, 20231128)"
   ]
  },
  {
   "cell_type": "code",
   "execution_count": 27,
   "id": "04f5a058",
   "metadata": {},
   "outputs": [
    {
     "name": "stdout",
     "output_type": "stream",
     "text": [
      "뉴스 기사의 개수:  60\n"
     ]
    }
   ],
   "source": [
    "print('뉴스 기사의 개수: ',len(df))"
   ]
  },
  {
   "cell_type": "code",
   "execution_count": 28,
   "id": "282b64a8",
   "metadata": {},
   "outputs": [
    {
     "data": {
      "text/html": [
       "<div>\n",
       "<style scoped>\n",
       "    .dataframe tbody tr th:only-of-type {\n",
       "        vertical-align: middle;\n",
       "    }\n",
       "\n",
       "    .dataframe tbody tr th {\n",
       "        vertical-align: top;\n",
       "    }\n",
       "\n",
       "    .dataframe thead th {\n",
       "        text-align: right;\n",
       "    }\n",
       "</style>\n",
       "<table border=\"1\" class=\"dataframe\">\n",
       "  <thead>\n",
       "    <tr style=\"text-align: right;\">\n",
       "      <th></th>\n",
       "      <th>news</th>\n",
       "      <th>code</th>\n",
       "    </tr>\n",
       "  </thead>\n",
       "  <tbody>\n",
       "    <tr>\n",
       "      <th>11</th>\n",
       "      <td>울산 오늘 낮 최고 기온 10.7도…내일 1~9도</td>\n",
       "      <td>생활/문화</td>\n",
       "    </tr>\n",
       "    <tr>\n",
       "      <th>0</th>\n",
       "      <td>조수미·이정재·싸이, 엑스포 PT 등장…“공존의 도시 부산에 오세요” [엑스포 개최...</td>\n",
       "      <td>생활/문화</td>\n",
       "    </tr>\n",
       "    <tr>\n",
       "      <th>13</th>\n",
       "      <td>\"우리 부산은요\"…핵심 비전 소개하는 나승연 홍보대사</td>\n",
       "      <td>사회</td>\n",
       "    </tr>\n",
       "    <tr>\n",
       "      <th>5</th>\n",
       "      <td>세계일보 사건팀 장애인본부 ‘이달의 좋은 기사상’</td>\n",
       "      <td>사회</td>\n",
       "    </tr>\n",
       "    <tr>\n",
       "      <th>5</th>\n",
       "      <td>유니스트, ‘세계에서 가장 영향력 있는 연구자’ 9명</td>\n",
       "      <td>IT/과학</td>\n",
       "    </tr>\n",
       "    <tr>\n",
       "      <th>17</th>\n",
       "      <td>작곡계 노벨상 받은 진은숙… 베를린 필 ‘진 에디션’ 발매</td>\n",
       "      <td>생활/문화</td>\n",
       "    </tr>\n",
       "    <tr>\n",
       "      <th>19</th>\n",
       "      <td>[날씨] 내일 더 추워져…일부 강원·경북 '한파특보'</td>\n",
       "      <td>생활/문화</td>\n",
       "    </tr>\n",
       "    <tr>\n",
       "      <th>9</th>\n",
       "      <td>동아제약, 중대재해 대응 모의훈련 실시…심폐소생술 등 교육</td>\n",
       "      <td>생활/문화</td>\n",
       "    </tr>\n",
       "    <tr>\n",
       "      <th>7</th>\n",
       "      <td>쿠쿠전자, 대용량 '아이편한 가습기 7S' 출시</td>\n",
       "      <td>IT/과학</td>\n",
       "    </tr>\n",
       "    <tr>\n",
       "      <th>17</th>\n",
       "      <td>동해 묵호항 ‘항만대기질 관리구역’ 지정 요구</td>\n",
       "      <td>사회</td>\n",
       "    </tr>\n",
       "  </tbody>\n",
       "</table>\n",
       "</div>"
      ],
      "text/plain": [
       "                                                 news   code\n",
       "11                        울산 오늘 낮 최고 기온 10.7도…내일 1~9도  생활/문화\n",
       "0   조수미·이정재·싸이, 엑스포 PT 등장…“공존의 도시 부산에 오세요” [엑스포 개최...  생활/문화\n",
       "13                      \"우리 부산은요\"…핵심 비전 소개하는 나승연 홍보대사     사회\n",
       "5                         세계일보 사건팀 장애인본부 ‘이달의 좋은 기사상’     사회\n",
       "5                       유니스트, ‘세계에서 가장 영향력 있는 연구자’ 9명  IT/과학\n",
       "17                   작곡계 노벨상 받은 진은숙… 베를린 필 ‘진 에디션’ 발매  생활/문화\n",
       "19                      [날씨] 내일 더 추워져…일부 강원·경북 '한파특보'  생활/문화\n",
       "9                    동아제약, 중대재해 대응 모의훈련 실시…심폐소생술 등 교육  생활/문화\n",
       "7                          쿠쿠전자, 대용량 '아이편한 가습기 7S' 출시  IT/과학\n",
       "17                          동해 묵호항 ‘항만대기질 관리구역’ 지정 요구     사회"
      ]
     },
     "execution_count": 28,
     "metadata": {},
     "output_type": "execute_result"
    }
   ],
   "source": [
    "df.sample(10)"
   ]
  },
  {
   "cell_type": "markdown",
   "id": "fcc77432",
   "metadata": {},
   "source": [
    "## 대량 데이터 수집"
   ]
  },
  {
   "cell_type": "code",
   "execution_count": 29,
   "id": "feaeaeee",
   "metadata": {},
   "outputs": [
    {
     "name": "stdout",
     "output_type": "stream",
     "text": [
      "102번 코드에 대한 데이터를 만들었습니다.\n",
      "103번 코드에 대한 데이터를 만들었습니다.\n",
      "105번 코드에 대한 데이터를 만들었습니다.\n",
      "/Users/kenny_jung/aiffel/news_crawler/news_data.csv File Saved!\n"
     ]
    }
   ],
   "source": [
    "df = make_total_data(2, code_list, 20231231)\n",
    "\n",
    "import os\n",
    "\n",
    "# 데이터프레임 파일을 csv 파일로 저장합니다.\n",
    "# 저장경로는 이번 프로젝트를 위해 만든 폴더로 지정해 주세요.\n",
    "csv_path = \"/Users/kenny_jung/aiffel/news_crawler/news_data.csv\"\n",
    "df.to_csv(csv_path, index=False)\n",
    "\n",
    "if os.path.exists(csv_path):\n",
    "    print('{} File Saved!'.format(csv_path))"
   ]
  },
  {
   "cell_type": "markdown",
   "id": "52ab6dbd",
   "metadata": {},
   "source": [
    "## "
   ]
  },
  {
   "cell_type": "markdown",
   "id": "61c5db67",
   "metadata": {},
   "source": [
    "## 데이터 전처리"
   ]
  },
  {
   "cell_type": "code",
   "execution_count": 30,
   "id": "1b70f01d",
   "metadata": {},
   "outputs": [
    {
     "data": {
      "text/html": [
       "<div>\n",
       "<style scoped>\n",
       "    .dataframe tbody tr th:only-of-type {\n",
       "        vertical-align: middle;\n",
       "    }\n",
       "\n",
       "    .dataframe tbody tr th {\n",
       "        vertical-align: top;\n",
       "    }\n",
       "\n",
       "    .dataframe thead th {\n",
       "        text-align: right;\n",
       "    }\n",
       "</style>\n",
       "<table border=\"1\" class=\"dataframe\">\n",
       "  <thead>\n",
       "    <tr style=\"text-align: right;\">\n",
       "      <th></th>\n",
       "      <th>news</th>\n",
       "      <th>code</th>\n",
       "    </tr>\n",
       "  </thead>\n",
       "  <tbody>\n",
       "    <tr>\n",
       "      <th>0</th>\n",
       "      <td>오세훈 \"'약자동행'으로 따뜻함 채우고 서울 매력 더할 것\"</td>\n",
       "      <td>사회</td>\n",
       "    </tr>\n",
       "    <tr>\n",
       "      <th>1</th>\n",
       "      <td>동해안·제주도 해돋이 보기 어려울 듯</td>\n",
       "      <td>사회</td>\n",
       "    </tr>\n",
       "    <tr>\n",
       "      <th>2</th>\n",
       "      <td>'제야의 종' 올리는 보신각…새해맞이 인파 몰려</td>\n",
       "      <td>사회</td>\n",
       "    </tr>\n",
       "    <tr>\n",
       "      <th>3</th>\n",
       "      <td>아크-순천향대, 펫푸드 개발·연구인력 양성 협약</td>\n",
       "      <td>사회</td>\n",
       "    </tr>\n",
       "    <tr>\n",
       "      <th>4</th>\n",
       "      <td>[포토] 어둠 살라먹고 2024 희망아 솟아라</td>\n",
       "      <td>사회</td>\n",
       "    </tr>\n",
       "  </tbody>\n",
       "</table>\n",
       "</div>"
      ],
      "text/plain": [
       "                                news code\n",
       "0  오세훈 \"'약자동행'으로 따뜻함 채우고 서울 매력 더할 것\"   사회\n",
       "1               동해안·제주도 해돋이 보기 어려울 듯   사회\n",
       "2         '제야의 종' 올리는 보신각…새해맞이 인파 몰려   사회\n",
       "3         아크-순천향대, 펫푸드 개발·연구인력 양성 협약   사회\n",
       "4          [포토] 어둠 살라먹고 2024 희망아 솟아라   사회"
      ]
     },
     "execution_count": 30,
     "metadata": {},
     "output_type": "execute_result"
    }
   ],
   "source": [
    "csv_path = \"/Users/kenny_jung/aiffel/news_crawler/news_data.csv\"\n",
    "df = pd.read_table(csv_path, sep=',')\n",
    "df.head()"
   ]
  },
  {
   "cell_type": "code",
   "execution_count": 31,
   "id": "315da443",
   "metadata": {},
   "outputs": [
    {
     "data": {
      "text/plain": [
       "0               오세훈 \"'약자동행'으로 따뜻함 채우고 서울 매력 더할 것\"\n",
       "1                            동해안·제주도 해돋이 보기 어려울 듯\n",
       "2                      '제야의 종' 올리는 보신각…새해맞이 인파 몰려\n",
       "3                      아크-순천향대, 펫푸드 개발·연구인력 양성 협약\n",
       "4                       [포토] 어둠 살라먹고 2024 희망아 솟아라\n",
       "                          ...                    \n",
       "115               한국항공우주학회 새 회장에 황창전 항우연 UAM 연구부장\n",
       "116                            나노엔텍 \"올초 유럽 지사 설립\"\n",
       "117    '전청조'·'칼부림'도 아니었다…2023년 대한민국 휩쓴 화제의 뉴스 1위는\n",
       "118           “살고 싶어서 그랬어요” 10대 손목에 난 상처들…무슨 사연이?\n",
       "119    2024년 ‘게임 스트리밍’ 격돌 예고…아프리카TV, BJ 아닌 ‘스트리머’\n",
       "Name: news, Length: 120, dtype: object"
      ]
     },
     "execution_count": 31,
     "metadata": {},
     "output_type": "execute_result"
    }
   ],
   "source": [
    "# 정규 표현식을 이용해서 한글 외의 문자는 전부 제거합니다.\n",
    "df['news'] = df['news'].str.replace(\"[^ㄱ-ㅎㅏ-ㅣ가-힣 ]\",\"\")\n",
    "df['news']"
   ]
  },
  {
   "cell_type": "code",
   "execution_count": 32,
   "id": "f44b28e6",
   "metadata": {},
   "outputs": [
    {
     "name": "stdout",
     "output_type": "stream",
     "text": [
      "news    0\n",
      "code    0\n",
      "dtype: int64\n"
     ]
    }
   ],
   "source": [
    "print(df.isnull().sum())"
   ]
  },
  {
   "cell_type": "code",
   "execution_count": 33,
   "id": "b575f936",
   "metadata": {},
   "outputs": [
    {
     "name": "stdout",
     "output_type": "stream",
     "text": [
      "뉴스 기사의 개수:  107\n"
     ]
    }
   ],
   "source": [
    "# 중복된 샘플들을 제거합니다.\n",
    "df.drop_duplicates(subset=['news'], inplace=True)\n",
    "\n",
    "print('뉴스 기사의 개수: ',len(df))"
   ]
  },
  {
   "cell_type": "markdown",
   "id": "8b9b74b8",
   "metadata": {},
   "source": [
    "## 뉴스 분석"
   ]
  },
  {
   "cell_type": "code",
   "execution_count": 34,
   "id": "12fee857",
   "metadata": {},
   "outputs": [
    {
     "name": "stdout",
     "output_type": "stream",
     "text": [
      "Defaulting to user installation because normal site-packages is not writeable\n",
      "Requirement already satisfied: matplotlib in /Users/kenny_jung/Library/Python/3.9/lib/python/site-packages (3.8.2)\n",
      "Requirement already satisfied: python-dateutil>=2.7 in /Users/kenny_jung/Library/Python/3.9/lib/python/site-packages (from matplotlib) (2.8.2)\n",
      "Requirement already satisfied: importlib-resources>=3.2.0 in /Users/kenny_jung/Library/Python/3.9/lib/python/site-packages (from matplotlib) (6.1.1)\n",
      "Requirement already satisfied: packaging>=20.0 in /Users/kenny_jung/Library/Python/3.9/lib/python/site-packages (from matplotlib) (23.2)\n",
      "Requirement already satisfied: fonttools>=4.22.0 in /Users/kenny_jung/Library/Python/3.9/lib/python/site-packages (from matplotlib) (4.47.0)\n",
      "Requirement already satisfied: pyparsing>=2.3.1 in /Users/kenny_jung/Library/Python/3.9/lib/python/site-packages (from matplotlib) (3.1.1)\n",
      "Requirement already satisfied: contourpy>=1.0.1 in /Users/kenny_jung/Library/Python/3.9/lib/python/site-packages (from matplotlib) (1.2.0)\n",
      "Requirement already satisfied: kiwisolver>=1.3.1 in /Users/kenny_jung/Library/Python/3.9/lib/python/site-packages (from matplotlib) (1.4.5)\n",
      "Requirement already satisfied: numpy<2,>=1.21 in /Users/kenny_jung/Library/Python/3.9/lib/python/site-packages (from matplotlib) (1.26.3)\n",
      "Requirement already satisfied: cycler>=0.10 in /Users/kenny_jung/Library/Python/3.9/lib/python/site-packages (from matplotlib) (0.12.1)\n",
      "Requirement already satisfied: pillow>=8 in /Users/kenny_jung/Library/Python/3.9/lib/python/site-packages (from matplotlib) (10.2.0)\n",
      "Requirement already satisfied: zipp>=3.1.0 in /Users/kenny_jung/Library/Python/3.9/lib/python/site-packages (from importlib-resources>=3.2.0->matplotlib) (3.17.0)\n",
      "Requirement already satisfied: six>=1.5 in /Library/Developer/CommandLineTools/Library/Frameworks/Python3.framework/Versions/3.9/lib/python3.9/site-packages (from python-dateutil>=2.7->matplotlib) (1.15.0)\n",
      "\u001b[33mWARNING: You are using pip version 21.2.4; however, version 23.3.2 is available.\n",
      "You should consider upgrading via the '/Library/Developer/CommandLineTools/usr/bin/python3 -m pip install --upgrade pip' command.\u001b[0m\n"
     ]
    }
   ],
   "source": [
    "!pip3 install matplotlib"
   ]
  },
  {
   "cell_type": "code",
   "execution_count": 35,
   "id": "7965fc26",
   "metadata": {},
   "outputs": [],
   "source": [
    "import matplotlib.pyplot as plt\n",
    "from matplotlib import rc\n",
    "rc('font', family='AppleGothic')\n",
    "plt.rcParams['axes.unicode_minus'] = False"
   ]
  },
  {
   "cell_type": "code",
   "execution_count": 36,
   "id": "43dbf26c",
   "metadata": {},
   "outputs": [
    {
     "data": {
      "text/plain": [
       "<Axes: xlabel='code'>"
      ]
     },
     "execution_count": 36,
     "metadata": {},
     "output_type": "execute_result"
    },
    {
     "data": {
      "image/png": "[encoded data removed]",
      "text/plain": [
       "<Figure size 640x480 with 1 Axes>"
      ]
     },
     "metadata": {},
     "output_type": "display_data"
    }
   ],
   "source": [
    "import matplotlib.pyplot as plt\n",
    "plt.rcParams[\"font.family\"] = \"AppleGothic\"\n",
    "\n",
    "df['code'].value_counts().plot(kind = 'bar')"
   ]
  },
  {
   "cell_type": "code",
   "execution_count": 37,
   "id": "086d09f5",
   "metadata": {},
   "outputs": [
    {
     "name": "stdout",
     "output_type": "stream",
     "text": [
      "    code  count\n",
      "0  IT/과학     40\n",
      "1     사회     27\n",
      "2  생활/문화     40\n"
     ]
    }
   ],
   "source": [
    "print(df.groupby('code').size().reset_index(name = 'count'))"
   ]
  },
  {
   "cell_type": "code",
   "execution_count": 57,
   "id": "50ea080b",
   "metadata": {},
   "outputs": [
    {
     "name": "stdout",
     "output_type": "stream",
     "text": [
      "Defaulting to user installation because normal site-packages is not writeable\n",
      "Requirement already satisfied: install in /Users/kenny_jung/Library/Python/3.9/lib/python/site-packages (1.3.5)\n",
      "Requirement already satisfied: mecab-python3 in /Users/kenny_jung/Library/Python/3.9/lib/python/site-packages (1.0.8)\n",
      "\u001b[33mWARNING: You are using pip version 21.2.4; however, version 23.3.2 is available.\n",
      "You should consider upgrading via the '/Library/Developer/CommandLineTools/usr/bin/python3 -m pip install --upgrade pip' command.\u001b[0m\n"
     ]
    }
   ],
   "source": [
    "!pip3 install install mecab-python3"
   ]
  },
  {
   "cell_type": "code",
   "execution_count": 58,
   "id": "3eb6ca8a",
   "metadata": {},
   "outputs": [
    {
     "name": "stdout",
     "output_type": "stream",
     "text": [
      "Defaulting to user installation because normal site-packages is not writeable\n",
      "Requirement already satisfied: konlpy in /Users/kenny_jung/Library/Python/3.9/lib/python/site-packages (0.6.0)\n",
      "Requirement already satisfied: lxml>=4.1.0 in /Users/kenny_jung/Library/Python/3.9/lib/python/site-packages (from konlpy) (5.1.0)\n",
      "Requirement already satisfied: JPype1>=0.7.0 in /Users/kenny_jung/Library/Python/3.9/lib/python/site-packages (from konlpy) (1.5.0)\n",
      "Requirement already satisfied: numpy>=1.6 in /Users/kenny_jung/Library/Python/3.9/lib/python/site-packages (from konlpy) (1.26.3)\n",
      "Requirement already satisfied: packaging in /Users/kenny_jung/Library/Python/3.9/lib/python/site-packages (from JPype1>=0.7.0->konlpy) (23.2)\n",
      "\u001b[33mWARNING: You are using pip version 21.2.4; however, version 23.3.2 is available.\n",
      "You should consider upgrading via the '/Library/Developer/CommandLineTools/usr/bin/python3 -m pip install --upgrade pip' command.\u001b[0m\n"
     ]
    }
   ],
   "source": [
    "!pip3 install konlpy"
   ]
  },
  {
   "cell_type": "code",
   "execution_count": 59,
   "id": "01c0fba1",
   "metadata": {},
   "outputs": [
    {
     "name": "stdout",
     "output_type": "stream",
     "text": [
      "Defaulting to user installation because normal site-packages is not writeable\n",
      "Collecting mecab\n",
      "  Using cached mecab-0.996.3.tar.gz (62 kB)\n",
      "\u001b[31m    ERROR: Command errored out with exit status 1:\n",
      "     command: /Library/Developer/CommandLineTools/usr/bin/python3 -c 'import io, os, sys, setuptools, tokenize; sys.argv[0] = '\"'\"'/private/var/folders/b9/d_8nll_s47g6w2x0spndwwl80000gn/T/pip-install-5rrx4bi0/mecab_1171586433bb4df9a2c3ed201a2206d7/setup.py'\"'\"'; __file__='\"'\"'/private/var/folders/b9/d_8nll_s47g6w2x0spndwwl80000gn/T/pip-install-5rrx4bi0/mecab_1171586433bb4df9a2c3ed201a2206d7/setup.py'\"'\"';f = getattr(tokenize, '\"'\"'open'\"'\"', open)(__file__) if os.path.exists(__file__) else io.StringIO('\"'\"'from setuptools import setup; setup()'\"'\"');code = f.read().replace('\"'\"'\\r\\n'\"'\"', '\"'\"'\\n'\"'\"');f.close();exec(compile(code, __file__, '\"'\"'exec'\"'\"'))' egg_info --egg-base /private/var/folders/b9/d_8nll_s47g6w2x0spndwwl80000gn/T/pip-pip-egg-info-nevitpao\n",
      "         cwd: /private/var/folders/b9/d_8nll_s47g6w2x0spndwwl80000gn/T/pip-install-5rrx4bi0/mecab_1171586433bb4df9a2c3ed201a2206d7/\n",
      "    Complete output (10 lines):\n",
      "    /bin/sh: mecab-config: command not found\n",
      "    Traceback (most recent call last):\n",
      "      File \"<string>\", line 1, in <module>\n",
      "      File \"/private/var/folders/b9/d_8nll_s47g6w2x0spndwwl80000gn/T/pip-install-5rrx4bi0/mecab_1171586433bb4df9a2c3ed201a2206d7/setup.py\", line 53, in <module>\n",
      "        include_dirs=cmd2(\"mecab-config --inc-dir\"),\n",
      "      File \"/private/var/folders/b9/d_8nll_s47g6w2x0spndwwl80000gn/T/pip-install-5rrx4bi0/mecab_1171586433bb4df9a2c3ed201a2206d7/setup.py\", line 19, in cmd2\n",
      "        return cmd1(strings).split()\n",
      "      File \"/private/var/folders/b9/d_8nll_s47g6w2x0spndwwl80000gn/T/pip-install-5rrx4bi0/mecab_1171586433bb4df9a2c3ed201a2206d7/setup.py\", line 15, in cmd1\n",
      "        return os.popen(strings).readlines()[0].rstrip()\n",
      "    IndexError: list index out of range\n",
      "    ----------------------------------------\u001b[0m\n",
      "\u001b[33mWARNING: Discarding https://files.pythonhosted.org/packages/b8/60/7059e1f60969544c45b2c3edacffe1b07932db9ee623a646d06d2173568d/mecab-0.996.3.tar.gz#sha256=0a943743149a00f8ff616c05cdb267618657a48e37b1381c5f8b41e9af8f32ad (from https://pypi.org/simple/mecab/). Command errored out with exit status 1: python setup.py egg_info Check the logs for full command output.\u001b[0m\n",
      "  Using cached mecab-0.996.2.tar.gz (62 kB)\n",
      "\u001b[31m    ERROR: Command errored out with exit status 1:\n",
      "     command: /Library/Developer/CommandLineTools/usr/bin/python3 -c 'import io, os, sys, setuptools, tokenize; sys.argv[0] = '\"'\"'/private/var/folders/b9/d_8nll_s47g6w2x0spndwwl80000gn/T/pip-install-5rrx4bi0/mecab_02623e7ef4c54c7a8b2f3005dc039688/setup.py'\"'\"'; __file__='\"'\"'/private/var/folders/b9/d_8nll_s47g6w2x0spndwwl80000gn/T/pip-install-5rrx4bi0/mecab_02623e7ef4c54c7a8b2f3005dc039688/setup.py'\"'\"';f = getattr(tokenize, '\"'\"'open'\"'\"', open)(__file__) if os.path.exists(__file__) else io.StringIO('\"'\"'from setuptools import setup; setup()'\"'\"');code = f.read().replace('\"'\"'\\r\\n'\"'\"', '\"'\"'\\n'\"'\"');f.close();exec(compile(code, __file__, '\"'\"'exec'\"'\"'))' egg_info --egg-base /private/var/folders/b9/d_8nll_s47g6w2x0spndwwl80000gn/T/pip-pip-egg-info-00ai33w3\n",
      "         cwd: /private/var/folders/b9/d_8nll_s47g6w2x0spndwwl80000gn/T/pip-install-5rrx4bi0/mecab_02623e7ef4c54c7a8b2f3005dc039688/\n",
      "    Complete output (10 lines):\n",
      "    /bin/sh: mecab-config: command not found\n",
      "    Traceback (most recent call last):\n",
      "      File \"<string>\", line 1, in <module>\n",
      "      File \"/private/var/folders/b9/d_8nll_s47g6w2x0spndwwl80000gn/T/pip-install-5rrx4bi0/mecab_02623e7ef4c54c7a8b2f3005dc039688/setup.py\", line 53, in <module>\n",
      "        include_dirs=cmd2(\"mecab-config --inc-dir\"),\n",
      "      File \"/private/var/folders/b9/d_8nll_s47g6w2x0spndwwl80000gn/T/pip-install-5rrx4bi0/mecab_02623e7ef4c54c7a8b2f3005dc039688/setup.py\", line 19, in cmd2\n",
      "        return cmd1(strings).split()\n",
      "      File \"/private/var/folders/b9/d_8nll_s47g6w2x0spndwwl80000gn/T/pip-install-5rrx4bi0/mecab_02623e7ef4c54c7a8b2f3005dc039688/setup.py\", line 15, in cmd1\n",
      "        return os.popen(strings).readlines()[0].rstrip()\n",
      "    IndexError: list index out of range\n",
      "    ----------------------------------------\u001b[0m\n",
      "\u001b[33mWARNING: Discarding https://files.pythonhosted.org/packages/0d/c5/3ac5ad489d296d048b9234d81062eed1b5249583f53a87955402b40516c2/mecab-0.996.2.tar.gz#sha256=ec8e46e4930e091c25f9f2dc740543bfc483482917dc1340fd914a9344de5b10 (from https://pypi.org/simple/mecab/). Command errored out with exit status 1: python setup.py egg_info Check the logs for full command output.\u001b[0m\n",
      "  Using cached mecab-0.996.tar.gz (63 kB)\n",
      "\u001b[31m    ERROR: Command errored out with exit status 1:\n",
      "     command: /Library/Developer/CommandLineTools/usr/bin/python3 -c 'import io, os, sys, setuptools, tokenize; sys.argv[0] = '\"'\"'/private/var/folders/b9/d_8nll_s47g6w2x0spndwwl80000gn/T/pip-install-5rrx4bi0/mecab_72133b4e70a2499fb66d077a47a1c961/setup.py'\"'\"'; __file__='\"'\"'/private/var/folders/b9/d_8nll_s47g6w2x0spndwwl80000gn/T/pip-install-5rrx4bi0/mecab_72133b4e70a2499fb66d077a47a1c961/setup.py'\"'\"';f = getattr(tokenize, '\"'\"'open'\"'\"', open)(__file__) if os.path.exists(__file__) else io.StringIO('\"'\"'from setuptools import setup; setup()'\"'\"');code = f.read().replace('\"'\"'\\r\\n'\"'\"', '\"'\"'\\n'\"'\"');f.close();exec(compile(code, __file__, '\"'\"'exec'\"'\"'))' egg_info --egg-base /private/var/folders/b9/d_8nll_s47g6w2x0spndwwl80000gn/T/pip-pip-egg-info-o5u4qary\n",
      "         cwd: /private/var/folders/b9/d_8nll_s47g6w2x0spndwwl80000gn/T/pip-install-5rrx4bi0/mecab_72133b4e70a2499fb66d077a47a1c961/\n",
      "    Complete output (10 lines):\n",
      "    /bin/sh: mecab-config: command not found\n",
      "    Traceback (most recent call last):\n",
      "      File \"<string>\", line 1, in <module>\n",
      "      File \"/private/var/folders/b9/d_8nll_s47g6w2x0spndwwl80000gn/T/pip-install-5rrx4bi0/mecab_72133b4e70a2499fb66d077a47a1c961/setup.py\", line 43, in <module>\n",
      "        include_dirs=cmd2(\"mecab-config --inc-dir\"),\n",
      "      File \"/private/var/folders/b9/d_8nll_s47g6w2x0spndwwl80000gn/T/pip-install-5rrx4bi0/mecab_72133b4e70a2499fb66d077a47a1c961/setup.py\", line 14, in cmd2\n",
      "        return cmd1(strings).split()\n",
      "      File \"/private/var/folders/b9/d_8nll_s47g6w2x0spndwwl80000gn/T/pip-install-5rrx4bi0/mecab_72133b4e70a2499fb66d077a47a1c961/setup.py\", line 10, in cmd1\n",
      "        return os.popen(strings).readlines()[0].rstrip()\n",
      "    IndexError: list index out of range\n",
      "    ----------------------------------------\u001b[0m\n",
      "\u001b[33mWARNING: Discarding https://files.pythonhosted.org/packages/63/b2/a240ad681c8be36837be13d805ea8f31d94c3bf5949db5f68a2c46bb14f4/mecab-0.996.tar.gz#sha256=ae166290fb0a4e322f6692a02716528fe34b7812f9c36d6fcd453e50ce4b3833 (from https://pypi.org/simple/mecab/). Command errored out with exit status 1: python setup.py egg_info Check the logs for full command output.\u001b[0m\n",
      "\u001b[31mERROR: Could not find a version that satisfies the requirement mecab (from versions: 0.996, 0.996.2, 0.996.3)\u001b[0m\n",
      "\u001b[31mERROR: No matching distribution found for mecab\u001b[0m\n",
      "\u001b[33mWARNING: You are using pip version 21.2.4; however, version 23.3.2 is available.\n",
      "You should consider upgrading via the '/Library/Developer/CommandLineTools/usr/bin/python3 -m pip install --upgrade pip' command.\u001b[0m\n"
     ]
    }
   ],
   "source": [
    "!pip3 install mecab"
   ]
  },
  {
   "cell_type": "code",
   "execution_count": 60,
   "id": "cd74ecb0",
   "metadata": {},
   "outputs": [
    {
     "name": "stdout",
     "output_type": "stream",
     "text": [
      "Defaulting to user installation because normal site-packages is not writeable\n",
      "Requirement already satisfied: install in /Users/kenny_jung/Library/Python/3.9/lib/python/site-packages (1.3.5)\n",
      "Requirement already satisfied: mecab-ko-dic in /Users/kenny_jung/Library/Python/3.9/lib/python/site-packages (1.0.0)\n",
      "\u001b[33mWARNING: You are using pip version 21.2.4; however, version 23.3.2 is available.\n",
      "You should consider upgrading via the '/Library/Developer/CommandLineTools/usr/bin/python3 -m pip install --upgrade pip' command.\u001b[0m\n"
     ]
    }
   ],
   "source": [
    "!pip3 install install mecab-ko-dic"
   ]
  },
  {
   "cell_type": "code",
   "execution_count": 61,
   "id": "3d0edb89",
   "metadata": {},
   "outputs": [
    {
     "ename": "Exception",
     "evalue": "The MeCab dictionary does not exist at \"/usr/local/lib/mecab/dic/mecab-ko-dic\". Is the dictionary correctly installed?\nYou can also try entering the dictionary path when initializing the Mecab class: \"Mecab('/some/dic/path')\"",
     "output_type": "error",
     "traceback": [
      "\u001b[0;31m---------------------------------------------------------------------------\u001b[0m",
      "\u001b[0;31mRuntimeError\u001b[0m                              Traceback (most recent call last)",
      "File \u001b[0;32m~/Library/Python/3.9/lib/python/site-packages/MeCab/__init__.py:137\u001b[0m, in \u001b[0;36mTagger.__init__\u001b[0;34m(self, rawargs)\u001b[0m\n\u001b[1;32m    136\u001b[0m \u001b[38;5;28;01mtry\u001b[39;00m:\n\u001b[0;32m--> 137\u001b[0m     \u001b[38;5;28;43msuper\u001b[39;49m\u001b[43m(\u001b[49m\u001b[43mTagger\u001b[49m\u001b[43m,\u001b[49m\u001b[43m \u001b[49m\u001b[38;5;28;43mself\u001b[39;49m\u001b[43m)\u001b[49m\u001b[38;5;241;43m.\u001b[39;49m\u001b[38;5;21;43m__init__\u001b[39;49m\u001b[43m(\u001b[49m\u001b[43margs\u001b[49m\u001b[43m)\u001b[49m\n\u001b[1;32m    138\u001b[0m \u001b[38;5;28;01mexcept\u001b[39;00m \u001b[38;5;167;01mRuntimeError\u001b[39;00m \u001b[38;5;28;01mas\u001b[39;00m ee:\n",
      "\u001b[0;31mRuntimeError\u001b[0m: ",
      "\nThe above exception was the direct cause of the following exception:\n",
      "\u001b[0;31mRuntimeError\u001b[0m                              Traceback (most recent call last)",
      "File \u001b[0;32m~/Library/Python/3.9/lib/python/site-packages/konlpy/tag/_mecab.py:77\u001b[0m, in \u001b[0;36mMecab.__init__\u001b[0;34m(self, dicpath)\u001b[0m\n\u001b[1;32m     76\u001b[0m \u001b[38;5;28;01mtry\u001b[39;00m:\n\u001b[0;32m---> 77\u001b[0m     \u001b[38;5;28mself\u001b[39m\u001b[38;5;241m.\u001b[39mtagger \u001b[38;5;241m=\u001b[39m \u001b[43mTagger\u001b[49m\u001b[43m(\u001b[49m\u001b[38;5;124;43m'\u001b[39;49m\u001b[38;5;124;43m-d \u001b[39;49m\u001b[38;5;132;43;01m%s\u001b[39;49;00m\u001b[38;5;124;43m'\u001b[39;49m\u001b[43m \u001b[49m\u001b[38;5;241;43m%\u001b[39;49m\u001b[43m \u001b[49m\u001b[43mdicpath\u001b[49m\u001b[43m)\u001b[49m\n\u001b[1;32m     78\u001b[0m     \u001b[38;5;28mself\u001b[39m\u001b[38;5;241m.\u001b[39mtagset \u001b[38;5;241m=\u001b[39m utils\u001b[38;5;241m.\u001b[39mread_json(\u001b[38;5;124m'\u001b[39m\u001b[38;5;132;01m%s\u001b[39;00m\u001b[38;5;124m/data/tagset/mecab.json\u001b[39m\u001b[38;5;124m'\u001b[39m \u001b[38;5;241m%\u001b[39m utils\u001b[38;5;241m.\u001b[39minstallpath)\n",
      "File \u001b[0;32m~/Library/Python/3.9/lib/python/site-packages/MeCab/__init__.py:139\u001b[0m, in \u001b[0;36mTagger.__init__\u001b[0;34m(self, rawargs)\u001b[0m\n\u001b[1;32m    138\u001b[0m \u001b[38;5;28;01mexcept\u001b[39;00m \u001b[38;5;167;01mRuntimeError\u001b[39;00m \u001b[38;5;28;01mas\u001b[39;00m ee:\n\u001b[0;32m--> 139\u001b[0m     \u001b[38;5;28;01mraise\u001b[39;00m \u001b[38;5;167;01mRuntimeError\u001b[39;00m(error_info(rawargs)) \u001b[38;5;28;01mfrom\u001b[39;00m \u001b[38;5;21;01mee\u001b[39;00m\n",
      "\u001b[0;31mRuntimeError\u001b[0m: \n----------------------------------------------------------\n\nFailed initializing MeCab. Please see the README for possible solutions:\n\n    https://github.com/SamuraiT/mecab-python3#common-issues\n\nIf you are still having trouble, please file an issue here, and include the\nERROR DETAILS below:\n\n    https://github.com/SamuraiT/mecab-python3/issues\n\nissueを英語で書く必要はありません。\n\n------------------- ERROR DETAILS ------------------------\narguments: -d /usr/local/lib/mecab/dic/mecab-ko-dic\ndefault dictionary path: None\n[ifs] no such file or directory: /usr/local/etc/mecabrc\n----------------------------------------------------------\n",
      "\nDuring handling of the above exception, another exception occurred:\n",
      "\u001b[0;31mException\u001b[0m                                 Traceback (most recent call last)",
      "Cell \u001b[0;32mIn[61], line 2\u001b[0m\n\u001b[1;32m      1\u001b[0m \u001b[38;5;28;01mfrom\u001b[39;00m \u001b[38;5;21;01mkonlpy\u001b[39;00m\u001b[38;5;21;01m.\u001b[39;00m\u001b[38;5;21;01mtag\u001b[39;00m \u001b[38;5;28;01mimport\u001b[39;00m Mecab\n\u001b[0;32m----> 2\u001b[0m tokenizer \u001b[38;5;241m=\u001b[39m \u001b[43mMecab\u001b[49m\u001b[43m(\u001b[49m\u001b[43m)\u001b[49m\n\u001b[1;32m      4\u001b[0m kor_text \u001b[38;5;241m=\u001b[39m \u001b[38;5;124m'\u001b[39m\u001b[38;5;124m밤에 귀가하던 여성에게 범죄를 시도한 대 남성이 구속됐다서울 제주경찰서는 \u001b[39m\u001b[38;5;130;01m\\\u001b[39;00m\n\u001b[1;32m      5\u001b[0m \u001b[38;5;124m            상해 혐의로 씨를 구속해 수사하고 있다고 일 밝혔다씨는 지난달 일 피해 여성을 \u001b[39m\u001b[38;5;130;01m\\\u001b[39;00m\n\u001b[1;32m      6\u001b[0m \u001b[38;5;124m            인근 지하철 역에서부터 따라가 폭행을 시도하려다가 도망간 혐의를 받는다피해 \u001b[39m\u001b[38;5;130;01m\\\u001b[39;00m\n\u001b[1;32m      7\u001b[0m \u001b[38;5;124m            여성이 저항하자 놀란 씨는 도망갔으며 신고를 받고 주변을 수색하던 경찰에 \u001b[39m\u001b[38;5;130;01m\\\u001b[39;00m\n\u001b[1;32m      8\u001b[0m \u001b[38;5;124m            체포됐다피해 여성은 이 과정에서 경미한 부상을 입은 것으로 전해졌다\u001b[39m\u001b[38;5;124m'\u001b[39m\n\u001b[1;32m     10\u001b[0m \u001b[38;5;66;03m#- 형태소 분석, 즉 토큰화(tokenization)를 합니다.\u001b[39;00m\n",
      "File \u001b[0;32m~/Library/Python/3.9/lib/python/site-packages/konlpy/tag/_mecab.py:80\u001b[0m, in \u001b[0;36mMecab.__init__\u001b[0;34m(self, dicpath)\u001b[0m\n\u001b[1;32m     78\u001b[0m     \u001b[38;5;28mself\u001b[39m\u001b[38;5;241m.\u001b[39mtagset \u001b[38;5;241m=\u001b[39m utils\u001b[38;5;241m.\u001b[39mread_json(\u001b[38;5;124m'\u001b[39m\u001b[38;5;132;01m%s\u001b[39;00m\u001b[38;5;124m/data/tagset/mecab.json\u001b[39m\u001b[38;5;124m'\u001b[39m \u001b[38;5;241m%\u001b[39m utils\u001b[38;5;241m.\u001b[39minstallpath)\n\u001b[1;32m     79\u001b[0m \u001b[38;5;28;01mexcept\u001b[39;00m \u001b[38;5;167;01mRuntimeError\u001b[39;00m:\n\u001b[0;32m---> 80\u001b[0m     \u001b[38;5;28;01mraise\u001b[39;00m \u001b[38;5;167;01mException\u001b[39;00m(\u001b[38;5;124m'\u001b[39m\u001b[38;5;124mThe MeCab dictionary does not exist at \u001b[39m\u001b[38;5;124m\"\u001b[39m\u001b[38;5;132;01m%s\u001b[39;00m\u001b[38;5;124m\"\u001b[39m\u001b[38;5;124m. Is the dictionary correctly installed?\u001b[39m\u001b[38;5;130;01m\\n\u001b[39;00m\u001b[38;5;124mYou can also try entering the dictionary path when initializing the Mecab class: \u001b[39m\u001b[38;5;124m\"\u001b[39m\u001b[38;5;124mMecab(\u001b[39m\u001b[38;5;130;01m\\'\u001b[39;00m\u001b[38;5;124m/some/dic/path\u001b[39m\u001b[38;5;130;01m\\'\u001b[39;00m\u001b[38;5;124m)\u001b[39m\u001b[38;5;124m\"\u001b[39m\u001b[38;5;124m'\u001b[39m \u001b[38;5;241m%\u001b[39m dicpath)\n\u001b[1;32m     81\u001b[0m \u001b[38;5;28;01mexcept\u001b[39;00m \u001b[38;5;167;01mNameError\u001b[39;00m:\n\u001b[1;32m     82\u001b[0m     \u001b[38;5;28;01mraise\u001b[39;00m \u001b[38;5;167;01mException\u001b[39;00m(\u001b[38;5;124m'\u001b[39m\u001b[38;5;124mInstall MeCab in order to use it: http://konlpy.org/en/latest/install/\u001b[39m\u001b[38;5;124m'\u001b[39m)\n",
      "\u001b[0;31mException\u001b[0m: The MeCab dictionary does not exist at \"/usr/local/lib/mecab/dic/mecab-ko-dic\". Is the dictionary correctly installed?\nYou can also try entering the dictionary path when initializing the Mecab class: \"Mecab('/some/dic/path')\""
     ]
    }
   ],
   "source": [
    "from konlpy.tag import Mecab\n",
    "tokenizer = Mecab()\n",
    "\n",
    "kor_text = '밤에 귀가하던 여성에게 범죄를 시도한 대 남성이 구속됐다서울 제주경찰서는 \\\n",
    "            상해 혐의로 씨를 구속해 수사하고 있다고 일 밝혔다씨는 지난달 일 피해 여성을 \\\n",
    "            인근 지하철 역에서부터 따라가 폭행을 시도하려다가 도망간 혐의를 받는다피해 \\\n",
    "            여성이 저항하자 놀란 씨는 도망갔으며 신고를 받고 주변을 수색하던 경찰에 \\\n",
    "            체포됐다피해 여성은 이 과정에서 경미한 부상을 입은 것으로 전해졌다'\n",
    "\n",
    "#- 형태소 분석, 즉 토큰화(tokenization)를 합니다.\n",
    "print(tokenizer.morphs(kor_text))"
   ]
  },
  {
   "cell_type": "code",
   "execution_count": 46,
   "id": "3cfc17c1",
   "metadata": {},
   "outputs": [],
   "source": [
    "stopwords = ['에','는','은','을','했','에게','있','이','의','하','한','다','과','때문','할','수','무단','따른','및','금지','전재','경향신문','기자','는데','가','등','들','파이낸셜','저작','등','뉴스']"
   ]
  },
  {
   "cell_type": "code",
   "execution_count": 47,
   "id": "b4f35bfb",
   "metadata": {},
   "outputs": [],
   "source": [
    "# 토큰화 및 토큰화 과정에서 불용어를 제거하는 함수입니다.\n",
    "def preprocessing(data):\n",
    "  text_data = []\n",
    "\n",
    "  for sentence in data:\n",
    "    temp_data = []\n",
    "    #- 토큰화\n",
    "    temp_data = tokenizer.morphs(sentence) \n",
    "    #- 불용어 제거\n",
    "    temp_data = [word for word in temp_data if not word in stopwords] \n",
    "    text_data.append(temp_data)\n",
    "\n",
    "  text_data = list(map(' '.join, text_data))\n",
    "\n",
    "  return text_data"
   ]
  },
  {
   "cell_type": "code",
   "execution_count": 48,
   "id": "24bb4c19",
   "metadata": {},
   "outputs": [
    {
     "ename": "NameError",
     "evalue": "name 'tokenizer' is not defined",
     "output_type": "error",
     "traceback": [
      "\u001b[0;31m---------------------------------------------------------------------------\u001b[0m",
      "\u001b[0;31mNameError\u001b[0m                                 Traceback (most recent call last)",
      "Cell \u001b[0;32mIn[48], line 1\u001b[0m\n\u001b[0;32m----> 1\u001b[0m text_data \u001b[38;5;241m=\u001b[39m \u001b[43mpreprocessing\u001b[49m\u001b[43m(\u001b[49m\u001b[43mdf\u001b[49m\u001b[43m[\u001b[49m\u001b[38;5;124;43m'\u001b[39;49m\u001b[38;5;124;43mnews\u001b[39;49m\u001b[38;5;124;43m'\u001b[39;49m\u001b[43m]\u001b[49m\u001b[43m)\u001b[49m\n\u001b[1;32m      2\u001b[0m \u001b[38;5;28mprint\u001b[39m(text_data[\u001b[38;5;241m0\u001b[39m])\n",
      "Cell \u001b[0;32mIn[47], line 8\u001b[0m, in \u001b[0;36mpreprocessing\u001b[0;34m(data)\u001b[0m\n\u001b[1;32m      6\u001b[0m temp_data \u001b[38;5;241m=\u001b[39m []\n\u001b[1;32m      7\u001b[0m \u001b[38;5;66;03m#- 토큰화\u001b[39;00m\n\u001b[0;32m----> 8\u001b[0m temp_data \u001b[38;5;241m=\u001b[39m \u001b[43mtokenizer\u001b[49m\u001b[38;5;241m.\u001b[39mmorphs(sentence) \n\u001b[1;32m      9\u001b[0m \u001b[38;5;66;03m#- 불용어 제거\u001b[39;00m\n\u001b[1;32m     10\u001b[0m temp_data \u001b[38;5;241m=\u001b[39m [word \u001b[38;5;28;01mfor\u001b[39;00m word \u001b[38;5;129;01min\u001b[39;00m temp_data \u001b[38;5;28;01mif\u001b[39;00m \u001b[38;5;129;01mnot\u001b[39;00m word \u001b[38;5;129;01min\u001b[39;00m stopwords] \n",
      "\u001b[0;31mNameError\u001b[0m: name 'tokenizer' is not defined"
     ]
    }
   ],
   "source": [
    "text_data = preprocessing(df['news'])\n",
    "print(text_data[0])"
   ]
  },
  {
   "cell_type": "code",
   "execution_count": null,
   "id": "e0195fd9",
   "metadata": {},
   "outputs": [],
   "source": [
    "!pip3 install sklearn"
   ]
  },
  {
   "cell_type": "code",
   "execution_count": 43,
   "id": "b3ad8e88",
   "metadata": {},
   "outputs": [],
   "source": [
    "from sklearn.model_selection import train_test_split\n",
    "from sklearn.feature_extraction.text import CountVectorizer\n",
    "from sklearn.feature_extraction.text import TfidfTransformer\n",
    "from sklearn.naive_bayes import MultinomialNB\n",
    "from sklearn import metrics"
   ]
  },
  {
   "cell_type": "code",
   "execution_count": 44,
   "id": "8af603fd",
   "metadata": {},
   "outputs": [
    {
     "ename": "NameError",
     "evalue": "name 'text_data' is not defined",
     "output_type": "error",
     "traceback": [
      "\u001b[0;31m---------------------------------------------------------------------------\u001b[0m",
      "\u001b[0;31mNameError\u001b[0m                                 Traceback (most recent call last)",
      "Cell \u001b[0;32mIn[44], line 2\u001b[0m\n\u001b[1;32m      1\u001b[0m \u001b[38;5;66;03m#- 훈련 데이터와 테스트 데이터를 분리합니다.\u001b[39;00m\n\u001b[0;32m----> 2\u001b[0m X_train, X_test, y_train, y_test \u001b[38;5;241m=\u001b[39m train_test_split(\u001b[43mtext_data\u001b[49m, df[\u001b[38;5;124m'\u001b[39m\u001b[38;5;124mcode\u001b[39m\u001b[38;5;124m'\u001b[39m], random_state \u001b[38;5;241m=\u001b[39m \u001b[38;5;241m0\u001b[39m)\n",
      "\u001b[0;31mNameError\u001b[0m: name 'text_data' is not defined"
     ]
    }
   ],
   "source": [
    "#- 훈련 데이터와 테스트 데이터를 분리합니다.\n",
    "X_train, X_test, y_train, y_test = train_test_split(text_data, df['code'], random_state = 0)"
   ]
  },
  {
   "cell_type": "code",
   "execution_count": 62,
   "id": "ffd5af07",
   "metadata": {},
   "outputs": [
    {
     "name": "stdout",
     "output_type": "stream",
     "text": [
      "zsh:1: command not found: brew\n",
      "zsh:1: command not found: brew\n",
      "zsh:1: command not found: brew\n",
      "zsh:1: command not found: pip\n"
     ]
    }
   ],
   "source": [
    "!brew install mecab\n",
    "!brew install mecab-ipadic\n",
    "!brew install mecab-ko-dic\n",
    "!pip install mecab-python3"
   ]
  },
  {
   "cell_type": "code",
   "execution_count": null,
   "id": "a427d946",
   "metadata": {},
   "outputs": [],
   "source": []
  }
 ],
 "metadata": {
  "kernelspec": {
   "display_name": "Python 3 (ipykernel)",
   "language": "python",
   "name": "python3"
  },
  "language_info": {
   "codemirror_mode": {
    "name": "ipython",
    "version": 3
   },
   "file_extension": ".py",
   "mimetype": "text/x-python",
   "name": "python",
   "nbconvert_exporter": "python",
   "pygments_lexer": "ipython3",
   "version": "3.9.6"
  }
 },
 "nbformat": 4,
 "nbformat_minor": 5
}
