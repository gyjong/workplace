{
 "cells": [
  {
   "cell_type": "code",
   "execution_count": 81,
   "id": "5cd0b73c",
   "metadata": {},
   "outputs": [
    {
     "name": "stdout",
     "output_type": "stream",
     "text": [
      "Hello, World!\n"
     ]
    }
   ],
   "source": [
    "#001\n",
    "print(\"Hello, World!\")"
   ]
  },
  {
   "cell_type": "code",
   "execution_count": 82,
   "id": "058f1aef",
   "metadata": {},
   "outputs": [
    {
     "name": "stdout",
     "output_type": "stream",
     "text": [
      "Mary's cosmetics\n"
     ]
    }
   ],
   "source": [
    "#002\n",
    "print(\"Mary's cosmetics\")"
   ]
  },
  {
   "cell_type": "code",
   "execution_count": 7,
   "id": "b9caa8b1",
   "metadata": {},
   "outputs": [
    {
     "name": "stdout",
     "output_type": "stream",
     "text": [
      "신씨가 소리질렀다.\"도둑이야\"\n"
     ]
    }
   ],
   "source": [
    "#003\n",
    "print('신씨가 소리질렀다.\"도둑이야\"')"
   ]
  },
  {
   "cell_type": "code",
   "execution_count": 84,
   "id": "517571f0",
   "metadata": {},
   "outputs": [
    {
     "name": "stdout",
     "output_type": "stream",
     "text": [
      "C:\\Windows\n"
     ]
    }
   ],
   "source": [
    "#004\n",
    "print('C:\\Windows')"
   ]
  },
  {
   "cell_type": "code",
   "execution_count": 85,
   "id": "35aeb8c3",
   "metadata": {},
   "outputs": [
    {
     "name": "stdout",
     "output_type": "stream",
     "text": [
      "안녕하세요.\n",
      "만나서\t\t\t\t반갑습니다.\n"
     ]
    }
   ],
   "source": [
    "#005\n",
    "print(\"안녕하세요.\\n만나서\\t\\t\\t\\t반갑습니다.\")"
   ]
  },
  {
   "cell_type": "code",
   "execution_count": 86,
   "id": "c7ae66f8",
   "metadata": {},
   "outputs": [
    {
     "name": "stdout",
     "output_type": "stream",
     "text": [
      "오늘은 일요일\n"
     ]
    }
   ],
   "source": [
    "#006\n",
    "print (\"오늘은\", \"일요일\")"
   ]
  },
  {
   "cell_type": "code",
   "execution_count": 87,
   "id": "ccace860",
   "metadata": {},
   "outputs": [
    {
     "name": "stdout",
     "output_type": "stream",
     "text": [
      "naver;kakao;sk;samsung\n",
      "naver;kakao;sk;samsung\n"
     ]
    }
   ],
   "source": [
    "#007\n",
    "print(\"naver;kakao;sk;samsung\")\n",
    "print(\"naver\", \"kakao\", \"sk\", \"samsung\", sep=\";\")"
   ]
  },
  {
   "cell_type": "code",
   "execution_count": 88,
   "id": "7fbe6d08",
   "metadata": {},
   "outputs": [
    {
     "name": "stdout",
     "output_type": "stream",
     "text": [
      "naver/kakao/sk/samsung\n",
      "naver/kakao/sk/samsung\n"
     ]
    }
   ],
   "source": [
    "#008\n",
    "print(\"naver/kakao/sk/samsung\")\n",
    "print(\"naver\", \"kakao\", \"sk\", \"samsung\", sep=\"/\")"
   ]
  },
  {
   "cell_type": "code",
   "execution_count": 89,
   "id": "15ffd47b",
   "metadata": {},
   "outputs": [
    {
     "name": "stdout",
     "output_type": "stream",
     "text": [
      "first\n",
      "second\n",
      "firstsecond\n"
     ]
    }
   ],
   "source": [
    "#009\n",
    "print(\"first\");print(\"second\")\n",
    "print(\"first\", end=\"\");print(\"second\")"
   ]
  },
  {
   "cell_type": "code",
   "execution_count": 90,
   "id": "15e4e7c8",
   "metadata": {},
   "outputs": [
    {
     "name": "stdout",
     "output_type": "stream",
     "text": [
      "1.6666666666666667\n"
     ]
    }
   ],
   "source": [
    "#010\n",
    "print(5/3)"
   ]
  },
  {
   "cell_type": "code",
   "execution_count": 91,
   "id": "91f41409",
   "metadata": {},
   "outputs": [
    {
     "name": "stdout",
     "output_type": "stream",
     "text": [
      "500000\n"
     ]
    }
   ],
   "source": [
    "#011\n",
    "삼성전자 = 50000\n",
    "총평가금액 = 삼성전자*10\n",
    "print(총평가금액)"
   ]
  },
  {
   "cell_type": "code",
   "execution_count": 92,
   "id": "ed1a7c85",
   "metadata": {},
   "outputs": [
    {
     "name": "stdout",
     "output_type": "stream",
     "text": [
      "298000000000000 <class 'int'>\n",
      "50000 <class 'int'>\n",
      "15.79 <class 'float'>\n"
     ]
    }
   ],
   "source": [
    "#012\n",
    "시가총액 = 298000000000000\n",
    "현재가 = 50000\n",
    "PER = 15.79\n",
    "print(시가총액, type(시가총액))\n",
    "print(현재가, type(현재가))\n",
    "print(PER, type(PER))"
   ]
  },
  {
   "cell_type": "code",
   "execution_count": 93,
   "id": "7e606a32",
   "metadata": {},
   "outputs": [
    {
     "name": "stdout",
     "output_type": "stream",
     "text": [
      "hello! python\n"
     ]
    }
   ],
   "source": [
    "#013\n",
    "s = \"hello\"\n",
    "t = \"python\"\n",
    "print(s+\"! \"+t)"
   ]
  },
  {
   "cell_type": "code",
   "execution_count": 94,
   "id": "32c6e3f2",
   "metadata": {},
   "outputs": [
    {
     "name": "stdout",
     "output_type": "stream",
     "text": [
      "8\n"
     ]
    }
   ],
   "source": [
    "#014\n",
    "print(2 + 2 * 3)"
   ]
  },
  {
   "cell_type": "code",
   "execution_count": 95,
   "id": "65e4a5f8",
   "metadata": {},
   "outputs": [
    {
     "name": "stdout",
     "output_type": "stream",
     "text": [
      "<class 'int'>\n",
      "<class 'str'>\n"
     ]
    }
   ],
   "source": [
    "#015\n",
    "a = 128\n",
    "print(type(a))\n",
    "\n",
    "b = \"123\"\n",
    "print(type(b))"
   ]
  },
  {
   "cell_type": "code",
   "execution_count": 96,
   "id": "98830106",
   "metadata": {},
   "outputs": [
    {
     "name": "stdout",
     "output_type": "stream",
     "text": [
      "720 <class 'int'>\n"
     ]
    }
   ],
   "source": [
    "#016\n",
    "num_str = \"720\"\n",
    "num_int = int(num_str)\n",
    "print(num_int, type(num_int))"
   ]
  },
  {
   "cell_type": "code",
   "execution_count": 97,
   "id": "2fccf23e",
   "metadata": {},
   "outputs": [
    {
     "name": "stdout",
     "output_type": "stream",
     "text": [
      "100 <class 'str'>\n"
     ]
    }
   ],
   "source": [
    "#017\n",
    "num = 100\n",
    "num_str = str(num)\n",
    "print(num_str, type(num_str))"
   ]
  },
  {
   "cell_type": "code",
   "execution_count": 98,
   "id": "1c2305ef",
   "metadata": {},
   "outputs": [
    {
     "name": "stdout",
     "output_type": "stream",
     "text": [
      "15.79 <class 'float'>\n"
     ]
    }
   ],
   "source": [
    "#018\n",
    "num_str = \"15.79\"\n",
    "num_float = float(num_str)\n",
    "print(num_float, type(num_float))"
   ]
  },
  {
   "cell_type": "code",
   "execution_count": 99,
   "id": "d77e105a",
   "metadata": {},
   "outputs": [
    {
     "name": "stdout",
     "output_type": "stream",
     "text": [
      "2017 2018 2019\n"
     ]
    }
   ],
   "source": [
    "#019\n",
    "year = \"2020\"   \n",
    "year_int = int(year)\n",
    "print(year_int-3, year_int-2, year_int-1)   "
   ]
  },
  {
   "cell_type": "code",
   "execution_count": 100,
   "id": "fa773afa",
   "metadata": {},
   "outputs": [
    {
     "name": "stdout",
     "output_type": "stream",
     "text": [
      "1749024\n"
     ]
    }
   ],
   "source": [
    "#020\n",
    "aircon = 48584\n",
    "month = 36\n",
    "total = aircon*month\n",
    "print(total)\n"
   ]
  },
  {
   "cell_type": "code",
   "execution_count": 101,
   "id": "b4707d8b",
   "metadata": {},
   "outputs": [
    {
     "name": "stdout",
     "output_type": "stream",
     "text": [
      "p t\n"
     ]
    }
   ],
   "source": [
    "#021\n",
    "letters = 'python'\n",
    "print(letters[0], letters[2])"
   ]
  },
  {
   "cell_type": "code",
   "execution_count": 102,
   "id": "32c7511a",
   "metadata": {},
   "outputs": [
    {
     "name": "stdout",
     "output_type": "stream",
     "text": [
      "4759\n"
     ]
    }
   ],
   "source": [
    "#022\n",
    "license_plate = '57루 4759'\n",
    "print(license_plate[-4:])\n"
   ]
  },
  {
   "cell_type": "code",
   "execution_count": 103,
   "id": "80e7f680",
   "metadata": {},
   "outputs": [
    {
     "name": "stdout",
     "output_type": "stream",
     "text": [
      "홀홀홀\n"
     ]
    }
   ],
   "source": [
    "#023\n",
    "string = '홀짝홀짝홀짝'\n",
    "print(string[::2])\n"
   ]
  },
  {
   "cell_type": "code",
   "execution_count": 104,
   "id": "83be344f",
   "metadata": {},
   "outputs": [
    {
     "name": "stdout",
     "output_type": "stream",
     "text": [
      "NOHTYP\n"
     ]
    }
   ],
   "source": [
    "#024\n",
    "string = \"PYTHON\"\n",
    "reversed_string = string[::-1]\n",
    "print(reversed_string)\n"
   ]
  },
  {
   "cell_type": "code",
   "execution_count": 105,
   "id": "f21e55ca",
   "metadata": {},
   "outputs": [
    {
     "name": "stdout",
     "output_type": "stream",
     "text": [
      "010 1111 2222\n"
     ]
    }
   ],
   "source": [
    "#025\n",
    "phone_number = \"010-1111-2222\"\n",
    "phone_number1 = phone_number.replace(\"-\", \" \")\n",
    "print(phone_number1)"
   ]
  },
  {
   "cell_type": "code",
   "execution_count": 106,
   "id": "ece9d874",
   "metadata": {},
   "outputs": [
    {
     "name": "stdout",
     "output_type": "stream",
     "text": [
      "01011112222\n"
     ]
    }
   ],
   "source": [
    "#026\n",
    "phone_number = \"010-1111-2222\"\n",
    "phone_number1 = phone_number.replace(\"-\", \"\")\n",
    "print(phone_number1)"
   ]
  },
  {
   "cell_type": "code",
   "execution_count": 107,
   "id": "2b14d55c",
   "metadata": {},
   "outputs": [
    {
     "name": "stdout",
     "output_type": "stream",
     "text": [
      "kr\n"
     ]
    }
   ],
   "source": [
    "#027\n",
    "url = \"http://sharebook.kr\"\n",
    "url_split = url.split(\".\")\n",
    "print(url_split[-1])"
   ]
  },
  {
   "cell_type": "code",
   "execution_count": 108,
   "id": "3fd26b69",
   "metadata": {},
   "outputs": [
    {
     "data": {
      "text/plain": [
       "\"\\nlang = 'python'\\nlang[0] = 'P'\\nprint(lang)\\n\""
      ]
     },
     "execution_count": 108,
     "metadata": {},
     "output_type": "execute_result"
    }
   ],
   "source": [
    "#028\n",
    "'''\n",
    "lang = 'python'\n",
    "lang[0] = 'P'\n",
    "print(lang)\n",
    "'''"
   ]
  },
  {
   "cell_type": "code",
   "execution_count": 109,
   "id": "1c78ab74",
   "metadata": {},
   "outputs": [
    {
     "name": "stdout",
     "output_type": "stream",
     "text": [
      "Abcdfe2A354A32A\n"
     ]
    }
   ],
   "source": [
    "#029\n",
    "string = 'abcdfe2a354a32a'\n",
    "string = string.replace('a', 'A')\n",
    "print(string)"
   ]
  },
  {
   "cell_type": "code",
   "execution_count": 110,
   "id": "793c6f58",
   "metadata": {},
   "outputs": [
    {
     "name": "stdout",
     "output_type": "stream",
     "text": [
      "abcd\n"
     ]
    }
   ],
   "source": [
    "#030\n",
    "string = 'abcd'  \n",
    "string.replace('b', 'B')  \n",
    "print(string)  "
   ]
  },
  {
   "cell_type": "code",
   "execution_count": 111,
   "id": "fdb49ca2",
   "metadata": {},
   "outputs": [
    {
     "name": "stdout",
     "output_type": "stream",
     "text": [
      "34\n"
     ]
    }
   ],
   "source": [
    "#031\n",
    "a = '3'\n",
    "b = '4'\n",
    "print(a + b)"
   ]
  },
  {
   "cell_type": "code",
   "execution_count": 112,
   "id": "9e041446",
   "metadata": {},
   "outputs": [
    {
     "name": "stdout",
     "output_type": "stream",
     "text": [
      "hihihihihihihihihihi\n"
     ]
    }
   ],
   "source": [
    "#032\n",
    "print('hi' * 10)"
   ]
  },
  {
   "cell_type": "code",
   "execution_count": 113,
   "id": "ca88199d",
   "metadata": {},
   "outputs": [
    {
     "name": "stdout",
     "output_type": "stream",
     "text": [
      "--------------------------------------------------------------------------------\n"
     ]
    }
   ],
   "source": [
    "#033\n",
    "print('-' * 80)"
   ]
  },
  {
   "cell_type": "code",
   "execution_count": 114,
   "id": "1bde6de6",
   "metadata": {},
   "outputs": [
    {
     "name": "stdout",
     "output_type": "stream",
     "text": [
      "python java python java python java python java \n"
     ]
    }
   ],
   "source": [
    "#034\n",
    "t1 = 'python'\n",
    "t2 = 'java'\n",
    "print((t1 + ' ' + t2 + ' ') * 4)"
   ]
  },
  {
   "cell_type": "code",
   "execution_count": 115,
   "id": "136a1e1c",
   "metadata": {},
   "outputs": [
    {
     "name": "stdout",
     "output_type": "stream",
     "text": [
      "이름: 김민수 나이: 10\n",
      "이름: 이펄희 나이: 13\n"
     ]
    }
   ],
   "source": [
    "#035\n",
    "name1 = '김민수'\n",
    "age1 = 10\n",
    "name2 = '이펄희'\n",
    "age2 = 13\n",
    "print('이름: %s 나이: %d' % (name1, age1))\n",
    "print('이름: %s 나이: %d' % (name2, age2))"
   ]
  },
  {
   "cell_type": "code",
   "execution_count": 116,
   "id": "a01800ab",
   "metadata": {},
   "outputs": [
    {
     "name": "stdout",
     "output_type": "stream",
     "text": [
      "이름: 김민수 나이: 10\n",
      "이름: 이펄희 나이: 13\n"
     ]
    }
   ],
   "source": [
    "#036\n",
    "print('이름: {} 나이: {}'.format(name1, age1))\n",
    "print('이름: {} 나이: {}'.format(name2, age2))"
   ]
  },
  {
   "cell_type": "code",
   "execution_count": 117,
   "id": "b384c83c",
   "metadata": {},
   "outputs": [
    {
     "name": "stdout",
     "output_type": "stream",
     "text": [
      "이름: 김민수 나이: 10\n",
      "이름: 이펄희 나이: 13\n"
     ]
    }
   ],
   "source": [
    "#037\n",
    "print(f'이름: {name1} 나이: {age1}')\n",
    "print(f'이름: {name2} 나이: {age2}')"
   ]
  },
  {
   "cell_type": "code",
   "execution_count": 118,
   "id": "4eb48b70",
   "metadata": {},
   "outputs": [
    {
     "name": "stdout",
     "output_type": "stream",
     "text": [
      "5969782550 <class 'int'>\n"
     ]
    }
   ],
   "source": [
    "#038\n",
    "상장주식수 = \"5,969,782,550\"\n",
    "상장주식수 = 상장주식수.replace(',', '')\n",
    "상장주식수 = int(상장주식수)\n",
    "print(상장주식수, type(상장주식수))"
   ]
  },
  {
   "cell_type": "code",
   "execution_count": 119,
   "id": "8be3bf76",
   "metadata": {},
   "outputs": [
    {
     "name": "stdout",
     "output_type": "stream",
     "text": [
      "2020/03\n"
     ]
    }
   ],
   "source": [
    "#039\n",
    "분기 = \"2020/03(E) (IFRS연결)\"\n",
    "print(분기[:7])"
   ]
  },
  {
   "cell_type": "code",
   "execution_count": 120,
   "id": "2b7b0032",
   "metadata": {},
   "outputs": [
    {
     "name": "stdout",
     "output_type": "stream",
     "text": [
      "삼성전자\n"
     ]
    }
   ],
   "source": [
    "#040\n",
    "data = \"   삼성전자    \"\n",
    "data1 = data.strip()\n",
    "print(data1)"
   ]
  },
  {
   "cell_type": "code",
   "execution_count": 121,
   "id": "2948b666",
   "metadata": {},
   "outputs": [
    {
     "name": "stdout",
     "output_type": "stream",
     "text": [
      "BTC_KRW\n"
     ]
    }
   ],
   "source": [
    "#041\n",
    "ticker = \"btc_krw\"\n",
    "ticker = ticker.upper()\n",
    "print(ticker)\n"
   ]
  },
  {
   "cell_type": "code",
   "execution_count": 122,
   "id": "b72f94bf",
   "metadata": {},
   "outputs": [
    {
     "name": "stdout",
     "output_type": "stream",
     "text": [
      "btc_krw\n"
     ]
    }
   ],
   "source": [
    "#042\n",
    "ticker = 'BTC_KRW'\n",
    "ticker = ticker.lower()\n",
    "print(ticker)"
   ]
  },
  {
   "cell_type": "code",
   "execution_count": 123,
   "id": "2ddcc53b",
   "metadata": {},
   "outputs": [
    {
     "name": "stdout",
     "output_type": "stream",
     "text": [
      "Hello\n"
     ]
    }
   ],
   "source": [
    "#043\n",
    "a = 'hello'\n",
    "a = a.capitalize()\n",
    "print(a)"
   ]
  },
  {
   "cell_type": "code",
   "execution_count": 124,
   "id": "480b47ab",
   "metadata": {},
   "outputs": [
    {
     "name": "stdout",
     "output_type": "stream",
     "text": [
      "True\n"
     ]
    }
   ],
   "source": [
    "#044\n",
    "file_name = '보고서.xlsx'\n",
    "result = file_name.endswith('xlsx')\n",
    "print(result)"
   ]
  },
  {
   "cell_type": "code",
   "execution_count": 125,
   "id": "6dfa32ba",
   "metadata": {},
   "outputs": [
    {
     "name": "stdout",
     "output_type": "stream",
     "text": [
      "True\n"
     ]
    }
   ],
   "source": [
    "#045\n",
    "file_name = '보고서.xlsx'\n",
    "result = file_name.endswith(('xlsx', 'xls'))\n",
    "print(result)"
   ]
  },
  {
   "cell_type": "code",
   "execution_count": 126,
   "id": "58928e3d",
   "metadata": {},
   "outputs": [
    {
     "name": "stdout",
     "output_type": "stream",
     "text": [
      "False\n"
     ]
    }
   ],
   "source": [
    "#046\n",
    "file_name = '2023_보고서.xlsx'\n",
    "result = file_name.startswith('2020')\n",
    "print(result)"
   ]
  },
  {
   "cell_type": "code",
   "execution_count": 127,
   "id": "78a6692a",
   "metadata": {},
   "outputs": [
    {
     "name": "stdout",
     "output_type": "stream",
     "text": [
      "['hello', 'world']\n"
     ]
    }
   ],
   "source": [
    "#047\n",
    "a = \"hello world\"\n",
    "split_a = a.split(' ')\n",
    "print(split_a)"
   ]
  },
  {
   "cell_type": "code",
   "execution_count": 128,
   "id": "6bc6d168",
   "metadata": {},
   "outputs": [
    {
     "name": "stdout",
     "output_type": "stream",
     "text": [
      "['btc', 'krw']\n"
     ]
    }
   ],
   "source": [
    "#048\n",
    "ticker = 'btc_krw'\n",
    "ticker_split = ticker.split('_')\n",
    "print(ticker_split)"
   ]
  },
  {
   "cell_type": "code",
   "execution_count": 129,
   "id": "6c436a9a",
   "metadata": {},
   "outputs": [
    {
     "name": "stdout",
     "output_type": "stream",
     "text": [
      "['2020', '05', '01']\n"
     ]
    }
   ],
   "source": [
    "#049\n",
    "date = '2020-05-01'\n",
    "date_split = date.split('-')\n",
    "print(date_split)"
   ]
  },
  {
   "cell_type": "code",
   "execution_count": 130,
   "id": "15784a2a",
   "metadata": {},
   "outputs": [
    {
     "name": "stdout",
     "output_type": "stream",
     "text": [
      "039490\n",
      "039490\n"
     ]
    }
   ],
   "source": [
    "#050\n",
    "data = '039490      '\n",
    "data_strip = data.strip()\n",
    "print(data_strip)\n",
    "\n",
    "data_rstrip = data.rstrip()\n",
    "print(data_rstrip)"
   ]
  },
  {
   "cell_type": "code",
   "execution_count": 131,
   "id": "0779c27b",
   "metadata": {},
   "outputs": [
    {
     "name": "stdout",
     "output_type": "stream",
     "text": [
      "['닥터 스트레인지', '스플릿', '럭키']\n"
     ]
    }
   ],
   "source": [
    "#051\n",
    "movie_rank = ['닥터 스트레인지', '스플릿', '럭키']\n",
    "print(movie_rank)"
   ]
  },
  {
   "cell_type": "code",
   "execution_count": 132,
   "id": "4ff496da",
   "metadata": {},
   "outputs": [
    {
     "name": "stdout",
     "output_type": "stream",
     "text": [
      "['닥터 스트레인지', '스플릿', '럭키', '배트맨']\n"
     ]
    }
   ],
   "source": [
    "#052\n",
    "movie_rank.append('배트맨')\n",
    "print(movie_rank)"
   ]
  },
  {
   "cell_type": "code",
   "execution_count": 133,
   "id": "bb8a538d",
   "metadata": {},
   "outputs": [
    {
     "name": "stdout",
     "output_type": "stream",
     "text": [
      "['닥터 스트레인지', '슈퍼맨', '스플릿', '럭키', '배트맨']\n"
     ]
    }
   ],
   "source": [
    "#053\n",
    "movie_rank.insert(1, '슈퍼맨')\n",
    "print(movie_rank)"
   ]
  },
  {
   "cell_type": "code",
   "execution_count": 134,
   "id": "7c16e47f",
   "metadata": {},
   "outputs": [
    {
     "name": "stdout",
     "output_type": "stream",
     "text": [
      "['닥터 스트레인지', '슈퍼맨', '스플릿', '배트맨']\n"
     ]
    }
   ],
   "source": [
    "#054\n",
    "del movie_rank[3]\n",
    "print(movie_rank)"
   ]
  },
  {
   "cell_type": "code",
   "execution_count": 135,
   "id": "aafeca58",
   "metadata": {},
   "outputs": [
    {
     "name": "stdout",
     "output_type": "stream",
     "text": [
      "['닥터 스트레인지', '스플릿']\n"
     ]
    }
   ],
   "source": [
    "#055\n",
    "movie_rank = ['닥터 스트레인지', '스플릿', '럭키','슈퍼맨']\n",
    "del movie_rank[2]\n",
    "del movie_rank[2]\n",
    "print(movie_rank)"
   ]
  },
  {
   "cell_type": "code",
   "execution_count": 136,
   "id": "6840bd94",
   "metadata": {},
   "outputs": [
    {
     "name": "stdout",
     "output_type": "stream",
     "text": [
      "['C', 'C++', 'JAVA', 'Python', 'Go', 'C#']\n"
     ]
    }
   ],
   "source": [
    "#056\n",
    "lang1 = [\"C\", \"C++\", \"JAVA\"]\n",
    "lang2 = [\"Python\", \"Go\", \"C#\"]\n",
    "lang = lang1 + lang2\n",
    "print(lang)"
   ]
  },
  {
   "cell_type": "code",
   "execution_count": 137,
   "id": "4cf0677b",
   "metadata": {},
   "outputs": [
    {
     "name": "stdout",
     "output_type": "stream",
     "text": [
      "max: 7 min: 1\n"
     ]
    }
   ],
   "source": [
    "#057\n",
    "nums = [1, 2, 3, 4, 5, 6, 7]\n",
    "nums_max = max(nums)\n",
    "nums_min = min(nums)\n",
    "print(f'max: {nums_max} min: {nums_min}')"
   ]
  },
  {
   "cell_type": "code",
   "execution_count": 138,
   "id": "cb50409b",
   "metadata": {},
   "outputs": [
    {
     "name": "stdout",
     "output_type": "stream",
     "text": [
      "Sum: 15\n"
     ]
    }
   ],
   "source": [
    "#058\n",
    "nums = [1, 2, 3, 4, 5]\n",
    "nums_sum = sum(nums)\n",
    "print(f'Sum: {nums_sum}')"
   ]
  },
  {
   "cell_type": "code",
   "execution_count": 139,
   "id": "cef6cbb7",
   "metadata": {},
   "outputs": [
    {
     "name": "stdout",
     "output_type": "stream",
     "text": [
      "음식의 종류:12\n"
     ]
    }
   ],
   "source": [
    "#059\n",
    "cook = [\"피자\", \"김밥\", \"만두\", \"양념치킨\", \"족발\", \"피자\", \"김치만두\", \"쫄면\", \"소시지\", \"라면\", \"팥빙수\", \"김치전\"]\n",
    "cook_leng = len(cook)\n",
    "print(f'음식의 종류:{cook_leng}')"
   ]
  },
  {
   "cell_type": "code",
   "execution_count": 140,
   "id": "6343074a",
   "metadata": {},
   "outputs": [
    {
     "name": "stdout",
     "output_type": "stream",
     "text": [
      "평균: 3.0\n"
     ]
    }
   ],
   "source": [
    "#060\n",
    "nums = [1, 2, 3, 4, 5]\n",
    "nums_avg = sum(nums)/len(nums)\n",
    "print(f'평균: {nums_avg}')"
   ]
  },
  {
   "cell_type": "code",
   "execution_count": 141,
   "id": "73b7be0b",
   "metadata": {},
   "outputs": [
    {
     "name": "stdout",
     "output_type": "stream",
     "text": [
      "[100, 130, 140, 150, 160, 170]\n"
     ]
    }
   ],
   "source": [
    "#061\n",
    "price = ['20180728', 100, 130, 140, 150, 160, 170]\n",
    "price_list = price[1:]\n",
    "print(price_list)"
   ]
  },
  {
   "cell_type": "code",
   "execution_count": 142,
   "id": "22d3714d",
   "metadata": {},
   "outputs": [
    {
     "name": "stdout",
     "output_type": "stream",
     "text": [
      "[1, 3, 5, 7, 9]\n"
     ]
    }
   ],
   "source": [
    "#062\n",
    "nums = [1, 2, 3, 4, 5, 6, 7, 8, 9, 10]\n",
    "nums_list = nums[::2]\n",
    "print(nums_list)"
   ]
  },
  {
   "cell_type": "code",
   "execution_count": 143,
   "id": "28cfb8f8",
   "metadata": {},
   "outputs": [
    {
     "name": "stdout",
     "output_type": "stream",
     "text": [
      "[2, 4, 6, 8, 10]\n"
     ]
    }
   ],
   "source": [
    "#063\n",
    "nums = [1, 2, 3, 4, 5, 6, 7, 8, 9, 10]\n",
    "nums_list = nums[1::2]\n",
    "print(nums_list)"
   ]
  },
  {
   "cell_type": "code",
   "execution_count": 144,
   "id": "8ef62450",
   "metadata": {},
   "outputs": [
    {
     "name": "stdout",
     "output_type": "stream",
     "text": [
      "[5, 4, 3, 2, 1]\n"
     ]
    }
   ],
   "source": [
    "#064\n",
    "nums = [1, 2, 3, 4, 5]\n",
    "nums_reverse = nums[::-1]\n",
    "print(nums_reverse)\n",
    "\n",
    "\n"
   ]
  },
  {
   "cell_type": "code",
   "execution_count": 145,
   "id": "2dc5cc14",
   "metadata": {},
   "outputs": [
    {
     "name": "stdout",
     "output_type": "stream",
     "text": [
      "['삼성전자', 'Naver']\n",
      "삼성전자 Naver\n"
     ]
    }
   ],
   "source": [
    "#065\n",
    "interest = ['삼성전자', 'LG전자', 'Naver']\n",
    "interest1 = interest[::2]\n",
    "print(interest1)\n",
    "print(interest[0], interest[2])"
   ]
  },
  {
   "cell_type": "code",
   "execution_count": 146,
   "id": "54504fd4",
   "metadata": {},
   "outputs": [
    {
     "name": "stdout",
     "output_type": "stream",
     "text": [
      "삼성전자 LG전자 Naver SK하이닉스 미래에셋대우\n"
     ]
    }
   ],
   "source": [
    "#066\n",
    "interest = ['삼성전자', 'LG전자', 'Naver', 'SK하이닉스', '미래에셋대우']\n",
    "print(' '.join(interest))"
   ]
  },
  {
   "cell_type": "code",
   "execution_count": 147,
   "id": "c568b70c",
   "metadata": {},
   "outputs": [
    {
     "name": "stdout",
     "output_type": "stream",
     "text": [
      "삼성전자/LG전자/Naver/SK하이닉스/미래에셋대우\n"
     ]
    }
   ],
   "source": [
    "#067\n",
    "interest = ['삼성전자', 'LG전자', 'Naver', 'SK하이닉스', '미래에셋대우']\n",
    "print('/'.join(interest))"
   ]
  },
  {
   "cell_type": "code",
   "execution_count": 148,
   "id": "e86ab1ba",
   "metadata": {},
   "outputs": [
    {
     "name": "stdout",
     "output_type": "stream",
     "text": [
      "삼성전자\n",
      "LG전자\n",
      "Naver\n",
      "SK하이닉스\n",
      "미래에셋대우\n"
     ]
    }
   ],
   "source": [
    "#068\n",
    "interest = ['삼성전자', 'LG전자', 'Naver', 'SK하이닉스', '미래에셋대우']\n",
    "print('\\n'.join(interest))\n"
   ]
  },
  {
   "cell_type": "code",
   "execution_count": 149,
   "id": "ef82ab1e",
   "metadata": {},
   "outputs": [
    {
     "name": "stdout",
     "output_type": "stream",
     "text": [
      "['삼성전자', 'LG전자', 'Naver']\n"
     ]
    }
   ],
   "source": [
    "#069\n",
    "string = \"삼성전자/LG전자/Naver\"\n",
    "string1 = string.split('/')\n",
    "print(string1)"
   ]
  },
  {
   "cell_type": "code",
   "execution_count": 150,
   "id": "a3615797",
   "metadata": {},
   "outputs": [
    {
     "name": "stdout",
     "output_type": "stream",
     "text": [
      "[1, 2, 3, 4, 5, 9, 10]\n"
     ]
    }
   ],
   "source": [
    "#070\n",
    "data = [2, 4, 3, 1, 5, 10, 9]\n",
    "data_order = sorted(data)\n",
    "print(data_order)"
   ]
  },
  {
   "cell_type": "code",
   "execution_count": 151,
   "id": "b16e6dd5",
   "metadata": {},
   "outputs": [
    {
     "name": "stdout",
     "output_type": "stream",
     "text": [
      "<class 'tuple'>\n"
     ]
    }
   ],
   "source": [
    "#071\n",
    "my_variable = ()\n",
    "print(type(my_variable))"
   ]
  },
  {
   "cell_type": "code",
   "execution_count": 152,
   "id": "ca859cf6",
   "metadata": {},
   "outputs": [
    {
     "name": "stdout",
     "output_type": "stream",
     "text": [
      "('닥터 스트레인지', '스플릿', '럭키') <class 'tuple'>\n"
     ]
    }
   ],
   "source": [
    "#072\n",
    "movie_rank = ('닥터 스트레인지', '스플릿', '럭키')\n",
    "print(movie_rank, type(movie_rank))"
   ]
  },
  {
   "cell_type": "code",
   "execution_count": 153,
   "id": "01d50a04",
   "metadata": {},
   "outputs": [
    {
     "name": "stdout",
     "output_type": "stream",
     "text": [
      "1 <class 'int'>\n",
      "(1,) <class 'tuple'>\n"
     ]
    }
   ],
   "source": [
    "#073\n",
    "num_tuple = (1)\n",
    "num_tuble1 = (1,)\n",
    "print(num_tuple, type(num_tuple))\n",
    "print(num_tuble1, type(num_tuble1))"
   ]
  },
  {
   "cell_type": "code",
   "execution_count": 154,
   "id": "e7c45e3f",
   "metadata": {},
   "outputs": [],
   "source": [
    "#074\n",
    "t = (1, 2, 3)\n",
    "t = ('a',) + t[1:]\n"
   ]
  },
  {
   "cell_type": "code",
   "execution_count": 155,
   "id": "493f2f24",
   "metadata": {},
   "outputs": [
    {
     "name": "stdout",
     "output_type": "stream",
     "text": [
      "<class 'tuple'>\n"
     ]
    }
   ],
   "source": [
    "#075\n",
    "t = 1, 2, 3, 4\n",
    "print(type(t))\n"
   ]
  },
  {
   "cell_type": "code",
   "execution_count": 156,
   "id": "f5de7306",
   "metadata": {},
   "outputs": [
    {
     "name": "stdout",
     "output_type": "stream",
     "text": [
      "('a', 'b', 'c')\n",
      "('A', 'b', 'c')\n"
     ]
    }
   ],
   "source": [
    "#076\n",
    "t = ('a', 'b', 'c')  \n",
    "t1 = ('A', 'b', 'c')\n",
    "print(t)\n",
    "print(t1)\n"
   ]
  },
  {
   "cell_type": "code",
   "execution_count": 157,
   "id": "bc8ea97f",
   "metadata": {},
   "outputs": [
    {
     "name": "stdout",
     "output_type": "stream",
     "text": [
      "('삼성전자', 'LG전자', 'SK Hynix') <class 'tuple'>\n",
      "['삼성전자', 'LG전자', 'SK Hynix'] <class 'list'>\n"
     ]
    }
   ],
   "source": [
    "#077\n",
    "interest = ('삼성전자', 'LG전자', 'SK Hynix')\n",
    "interest_list = list(interest)\n",
    "print(interest, type(interest))\n",
    "print(interest_list, type(interest_list))"
   ]
  },
  {
   "cell_type": "code",
   "execution_count": 158,
   "id": "9438117c",
   "metadata": {},
   "outputs": [
    {
     "name": "stdout",
     "output_type": "stream",
     "text": [
      "['삼성전자', 'LG전자', 'SK Hynix'] <class 'list'>\n",
      "('삼성전자', 'LG전자', 'SK Hynix') <class 'tuple'>\n"
     ]
    }
   ],
   "source": [
    "#078\n",
    "interest = ['삼성전자', 'LG전자', 'SK Hynix']\n",
    "interest_tuple = tuple(interest)\n",
    "print(interest, type(interest))\n",
    "print(interest_tuple, type(interest_tuple))"
   ]
  },
  {
   "cell_type": "code",
   "execution_count": 159,
   "id": "d815883f",
   "metadata": {},
   "outputs": [
    {
     "name": "stdout",
     "output_type": "stream",
     "text": [
      "apple banana cake\n"
     ]
    }
   ],
   "source": [
    "#079\n",
    "temp = ('apple', 'banana', 'cake')\n",
    "a, b, c = temp\n",
    "print(a, b, c)\n"
   ]
  },
  {
   "cell_type": "code",
   "execution_count": 160,
   "id": "898470f9",
   "metadata": {},
   "outputs": [
    {
     "name": "stdout",
     "output_type": "stream",
     "text": [
      "(2, 4, 6, 8, 10, 12, 14, 16, 18, 20, 22, 24, 26, 28, 30, 32, 34, 36, 38, 40, 42, 44, 46, 48, 50, 52, 54, 56, 58, 60, 62, 64, 66, 68, 70, 72, 74, 76, 78, 80, 82, 84, 86, 88, 90, 92, 94, 96, 98)\n"
     ]
    }
   ],
   "source": [
    "#080\n",
    "even_numbers = tuple(range(2, 100, 2))\n",
    "print(even_numbers)"
   ]
  },
  {
   "cell_type": "code",
   "execution_count": 161,
   "id": "47a8bfc3",
   "metadata": {},
   "outputs": [
    {
     "name": "stdout",
     "output_type": "stream",
     "text": [
      "[8.8, 8.9, 8.7, 9.2, 9.3, 9.7, 9.9, 9.5]\n"
     ]
    }
   ],
   "source": [
    "#081\n",
    "a, b, *c = (0, 1, 2, 3, 4, 5)\n",
    "c\n",
    "scores = [8.8, 8.9, 8.7, 9.2, 9.3, 9.7, 9.9, 9.5, 7.8, 9.4]\n",
    "*valid_score, b, c = scores\n",
    "print(valid_score)"
   ]
  },
  {
   "cell_type": "code",
   "execution_count": 162,
   "id": "54ed4680",
   "metadata": {},
   "outputs": [
    {
     "name": "stdout",
     "output_type": "stream",
     "text": [
      "[8.7, 9.2, 9.3, 9.7, 9.9, 9.5, 7.8, 9.4]\n"
     ]
    }
   ],
   "source": [
    "#082\n",
    "scores = [8.8, 8.9, 8.7, 9.2, 9.3, 9.7, 9.9, 9.5, 7.8, 9.4]\n",
    "a, b, *c = scores\n",
    "print(c)"
   ]
  },
  {
   "cell_type": "code",
   "execution_count": 163,
   "id": "d658d1ba",
   "metadata": {},
   "outputs": [
    {
     "name": "stdout",
     "output_type": "stream",
     "text": [
      "[8.9, 8.7, 9.2, 9.3, 9.7, 9.9, 9.5, 7.8]\n"
     ]
    }
   ],
   "source": [
    "#083\n",
    "scores = [8.8, 8.9, 8.7, 9.2, 9.3, 9.7, 9.9, 9.5, 7.8, 9.4]\n",
    "a, *b, c = scores\n",
    "print(b)"
   ]
  },
  {
   "cell_type": "code",
   "execution_count": 164,
   "id": "896cb7f1",
   "metadata": {},
   "outputs": [
    {
     "name": "stdout",
     "output_type": "stream",
     "text": [
      "{} <class 'dict'>\n"
     ]
    }
   ],
   "source": [
    "#084\n",
    "temp = {}\n",
    "print(temp, type(temp))"
   ]
  },
  {
   "cell_type": "code",
   "execution_count": 165,
   "id": "2dd9f44d",
   "metadata": {},
   "outputs": [
    {
     "name": "stdout",
     "output_type": "stream",
     "text": [
      "{'메로나': 1000, '폴리포': 1200, '빵파레': 1800} <class 'dict'>\n"
     ]
    }
   ],
   "source": [
    "#085\n",
    "ice_cream = {'메로나': 1000, '폴리포': 1200, '빵파레': 1800}\n",
    "print(ice_cream, type(ice_cream))"
   ]
  },
  {
   "cell_type": "code",
   "execution_count": 166,
   "id": "5dfd1136",
   "metadata": {},
   "outputs": [
    {
     "name": "stdout",
     "output_type": "stream",
     "text": [
      "{'메로나': 1000, '폴리포': 1200, '빵파레': 1800, '죠스바': 1200, '월드콘': 1500}\n"
     ]
    }
   ],
   "source": [
    "#086\n",
    "ice_cream = {'메로나': 1000, '폴리포': 1200, '빵파레': 1800}\n",
    "ice_cream['죠스바'] = 1200\n",
    "ice_cream['월드콘'] = 1500\n",
    "print(ice_cream)"
   ]
  },
  {
   "cell_type": "code",
   "execution_count": 167,
   "id": "db201316",
   "metadata": {},
   "outputs": [
    {
     "name": "stdout",
     "output_type": "stream",
     "text": [
      "메로나 가격: 1000\n"
     ]
    }
   ],
   "source": [
    "#087\n",
    "ice = {'메로나': 1000,\n",
    "       '폴로포': 1200,\n",
    "       '빵빠레': 1800,\n",
    "       '죠스바': 1200,\n",
    "       '월드콘': 1500}\n",
    "print('메로나 가격:', ice['메로나'])"
   ]
  },
  {
   "cell_type": "code",
   "execution_count": 168,
   "id": "fd67f87f",
   "metadata": {},
   "outputs": [
    {
     "name": "stdout",
     "output_type": "stream",
     "text": [
      "{'메로나': 1300, '폴로포': 1200, '빵빠레': 1800, '죠스바': 1200, '월드콘': 1500}\n"
     ]
    }
   ],
   "source": [
    "#088\n",
    "ice = {'메로나': 1000,\n",
    "       '폴로포': 1200,\n",
    "       '빵빠레': 1800,\n",
    "       '죠스바': 1200,\n",
    "       '월드콘': 1500}\n",
    "ice['메로나'] = 1300\n",
    "print(ice)"
   ]
  },
  {
   "cell_type": "code",
   "execution_count": 169,
   "id": "e00f95b3",
   "metadata": {},
   "outputs": [
    {
     "name": "stdout",
     "output_type": "stream",
     "text": [
      "{'폴로포': 1200, '빵빠레': 1800, '죠스바': 1200, '월드콘': 1500}\n"
     ]
    }
   ],
   "source": [
    "#089\n",
    "ice = {'메로나': 1000,\n",
    "       '폴로포': 1200,\n",
    "       '빵빠레': 1800,\n",
    "       '죠스바': 1200,\n",
    "       '월드콘': 1500}\n",
    "del ice['메로나']\n",
    "print(ice)"
   ]
  },
  {
   "cell_type": "code",
   "execution_count": 170,
   "id": "14ece6a9",
   "metadata": {},
   "outputs": [
    {
     "data": {
      "text/plain": [
       "12000"
      ]
     },
     "execution_count": 170,
     "metadata": {},
     "output_type": "execute_result"
    }
   ],
   "source": [
    "#090\n",
    "icecream = {'폴라포': 1200, '빵빠레': 1800, '월드콘': 1500, '메로나': 1000, '누가바': 12000}\n",
    "icecream['누가바']"
   ]
  },
  {
   "cell_type": "code",
   "execution_count": 171,
   "id": "e6027f45",
   "metadata": {},
   "outputs": [
    {
     "name": "stdout",
     "output_type": "stream",
     "text": [
      "{'메로나': [300, 20], '비비빅': [400, 3], '죠스바': [250, 100]}\n"
     ]
    }
   ],
   "source": [
    "#091\n",
    "inventory = {'메로나': [300, 20],\n",
    "             '비비빅': [400, 3],\n",
    "             '죠스바': [250, 100]}\n",
    "print(inventory)"
   ]
  },
  {
   "cell_type": "code",
   "execution_count": 172,
   "id": "547fee02",
   "metadata": {},
   "outputs": [
    {
     "name": "stdout",
     "output_type": "stream",
     "text": [
      "300 원\n"
     ]
    }
   ],
   "source": [
    "#092\n",
    "inventory = {'메로나': [300, 20],\n",
    "             '비비빅': [400, 3],\n",
    "             '죠스바': [250, 100]}\n",
    "print(inventory['메로나'] [0], '원')"
   ]
  },
  {
   "cell_type": "code",
   "execution_count": 173,
   "id": "95755430",
   "metadata": {},
   "outputs": [
    {
     "name": "stdout",
     "output_type": "stream",
     "text": [
      "20 개\n"
     ]
    }
   ],
   "source": [
    "#093\n",
    "inventory = {\"메로나\": [300, 20],\n",
    "              \"비비빅\": [400, 3],\n",
    "              \"죠스바\": [250, 100]}\n",
    "print(inventory['메로나'][1], '개')"
   ]
  },
  {
   "cell_type": "code",
   "execution_count": 174,
   "id": "3e277865",
   "metadata": {},
   "outputs": [
    {
     "name": "stdout",
     "output_type": "stream",
     "text": [
      "{'메로나': [300, 20], '비비빅': [400, 3], '죠스바': [250, 100], '월드콘': [500, 7]}\n"
     ]
    }
   ],
   "source": [
    "#094\n",
    "inventory = {\"메로나\": [300, 20],\n",
    "              \"비비빅\": [400, 3],\n",
    "              \"죠스바\": [250, 100]}\n",
    "inventory['월드콘'] = [500, 7]\n",
    "print(inventory)"
   ]
  },
  {
   "cell_type": "code",
   "execution_count": 175,
   "id": "651c47cd",
   "metadata": {},
   "outputs": [
    {
     "name": "stdout",
     "output_type": "stream",
     "text": [
      "['탱크보이', '폴라포', '빵빠레', '월드콘', '메로나']\n"
     ]
    }
   ],
   "source": [
    "#095\n",
    "icecream = {'탱크보이': 1200, '폴라포': 1200, '빵빠레': 1800, '월드콘': 1500, '메로나': 1000}\n",
    "keys = list(icecream.keys())\n",
    "print(keys)"
   ]
  },
  {
   "cell_type": "code",
   "execution_count": 176,
   "id": "a3cc3f80",
   "metadata": {},
   "outputs": [
    {
     "name": "stdout",
     "output_type": "stream",
     "text": [
      "[1200, 1200, 1800, 1500, 1000]\n"
     ]
    }
   ],
   "source": [
    "#096\n",
    "icecream = {'탱크보이': 1200, '폴라포': 1200, '빵빠레': 1800, '월드콘': 1500, '메로나': 1000}\n",
    "values = list(icecream.values())\n",
    "print(values)\n",
    "\n",
    "\n"
   ]
  },
  {
   "cell_type": "code",
   "execution_count": 177,
   "id": "cb2fde7b",
   "metadata": {},
   "outputs": [
    {
     "name": "stdout",
     "output_type": "stream",
     "text": [
      "6700\n"
     ]
    }
   ],
   "source": [
    "#097\n",
    "icecream = {'탱크보이': 1200, '폴라포': 1200, '빵빠레': 1800, '월드콘': 1500, '메로나': 1000}\n",
    "print(sum(icecream.values()))\n"
   ]
  },
  {
   "cell_type": "code",
   "execution_count": 178,
   "id": "358f7cd1",
   "metadata": {},
   "outputs": [
    {
     "name": "stdout",
     "output_type": "stream",
     "text": [
      "{'탱크보이': 1200, '폴라포': 1200, '빵빠레': 1800, '월드콘': 1500, '메로나': 1000, '팥빙수': 2700, '아맛나': 1000}\n"
     ]
    }
   ],
   "source": [
    "#098\n",
    "icecream = {'탱크보이': 1200, '폴라포': 1200, '빵빠레': 1800, '월드콘': 1500, '메로나': 1000}\n",
    "new_product = {'팥빙수':2700, '아맛나':1000}\n",
    "icecream.update(new_product)\n",
    "print(icecream)\n"
   ]
  },
  {
   "cell_type": "code",
   "execution_count": 179,
   "id": "677d637c",
   "metadata": {},
   "outputs": [
    {
     "name": "stdout",
     "output_type": "stream",
     "text": [
      "{'apple': 300, 'pear': 250, 'peach': 400}\n"
     ]
    }
   ],
   "source": [
    "#099\n",
    "keys = (\"apple\", \"pear\", \"peach\")\n",
    "vals = (300, 250, 400)\n",
    "result = dict(zip(keys, vals))\n",
    "print(result)\n",
    "\n"
   ]
  },
  {
   "cell_type": "code",
   "execution_count": 180,
   "id": "54bea518",
   "metadata": {},
   "outputs": [
    {
     "name": "stdout",
     "output_type": "stream",
     "text": [
      "{'09/05': 10500, '09/06': 10300, '09/07': 10100, '09/08': 10800, '09/09': 11000}\n"
     ]
    }
   ],
   "source": [
    "#100\n",
    "date = ['09/05', '09/06', '09/07', '09/08', '09/09']\n",
    "close_price = [10500, 10300, 10100, 10800, 11000]\n",
    "close_table = dict(zip(date, close_price))\n",
    "print(close_table)\n"
   ]
  },
  {
   "cell_type": "code",
   "execution_count": 181,
   "id": "6164226f",
   "metadata": {},
   "outputs": [],
   "source": [
    "#101\n",
    "# bool 은 True, False 두가지 값만 가질 수 있다.\n"
   ]
  },
  {
   "cell_type": "code",
   "execution_count": 182,
   "id": "eed960b3",
   "metadata": {},
   "outputs": [
    {
     "name": "stdout",
     "output_type": "stream",
     "text": [
      "False\n"
     ]
    }
   ],
   "source": [
    "#102\n",
    "print(3 == 5)"
   ]
  },
  {
   "cell_type": "code",
   "execution_count": 183,
   "id": "d839d9ac",
   "metadata": {},
   "outputs": [
    {
     "name": "stdout",
     "output_type": "stream",
     "text": [
      "True\n"
     ]
    }
   ],
   "source": [
    "#103\n",
    "print(3 < 5)"
   ]
  },
  {
   "cell_type": "code",
   "execution_count": 184,
   "id": "2d0326ae",
   "metadata": {},
   "outputs": [
    {
     "name": "stdout",
     "output_type": "stream",
     "text": [
      "True\n"
     ]
    }
   ],
   "source": [
    "#104\n",
    "x = 4\n",
    "print(1 < x < 5)"
   ]
  },
  {
   "cell_type": "code",
   "execution_count": 185,
   "id": "e845585d",
   "metadata": {},
   "outputs": [
    {
     "name": "stdout",
     "output_type": "stream",
     "text": [
      "True\n"
     ]
    }
   ],
   "source": [
    "#105\n",
    "print(3 == 3) and ( 4!= 3)"
   ]
  },
  {
   "cell_type": "code",
   "execution_count": 186,
   "id": "c8980502",
   "metadata": {},
   "outputs": [
    {
     "name": "stdout",
     "output_type": "stream",
     "text": [
      "True\n"
     ]
    }
   ],
   "source": [
    "#106\n",
    "print(3 <= 4)"
   ]
  },
  {
   "cell_type": "code",
   "execution_count": 187,
   "id": "dcf12c74",
   "metadata": {},
   "outputs": [],
   "source": [
    "#107\n",
    "if 4 < 3:\n",
    "    print('Hello World')"
   ]
  },
  {
   "cell_type": "code",
   "execution_count": 188,
   "id": "7367c941",
   "metadata": {},
   "outputs": [
    {
     "name": "stdout",
     "output_type": "stream",
     "text": [
      "Hi, there.\n"
     ]
    }
   ],
   "source": [
    "#108\n",
    "if 4 < 3:\n",
    "    print('Hello World.')\n",
    "else:\n",
    "    print('Hi, there.')"
   ]
  },
  {
   "cell_type": "code",
   "execution_count": 189,
   "id": "305e6075",
   "metadata": {},
   "outputs": [
    {
     "name": "stdout",
     "output_type": "stream",
     "text": [
      "1\n",
      "2\n",
      "4\n"
     ]
    }
   ],
   "source": [
    "#109\n",
    "if True :\n",
    "    print (\"1\")\n",
    "    print (\"2\")\n",
    "else :\n",
    "    print(\"3\")\n",
    "print(\"4\")\n"
   ]
  },
  {
   "cell_type": "code",
   "execution_count": 190,
   "id": "fb37b32e",
   "metadata": {},
   "outputs": [
    {
     "name": "stdout",
     "output_type": "stream",
     "text": [
      "3\n",
      "5\n"
     ]
    }
   ],
   "source": [
    "#110\n",
    "if True :\n",
    "    if False:\n",
    "        print(\"1\")\n",
    "        print(\"2\")\n",
    "    else:\n",
    "        print(\"3\")\n",
    "else :\n",
    "    print(\"4\")\n",
    "print(\"5\")\n"
   ]
  },
  {
   "cell_type": "code",
   "execution_count": 191,
   "id": "673495e3",
   "metadata": {},
   "outputs": [
    {
     "name": "stdout",
     "output_type": "stream",
     "text": [
      "4444\n"
     ]
    }
   ],
   "source": [
    "#111\n",
    "user_input = input('>>')\n",
    "print(user_input *2)"
   ]
  },
  {
   "cell_type": "code",
   "execution_count": 192,
   "id": "12cdee88",
   "metadata": {},
   "outputs": [
    {
     "name": "stdout",
     "output_type": "stream",
     "text": [
      "65\n"
     ]
    }
   ],
   "source": [
    "#112\n",
    "user_input = input('숫자를 입력하세요:')\n",
    "print(int(user_input) + 10)"
   ]
  },
  {
   "cell_type": "code",
   "execution_count": 193,
   "id": "c15a2053",
   "metadata": {},
   "outputs": [
    {
     "name": "stdout",
     "output_type": "stream",
     "text": [
      "홀수\n"
     ]
    }
   ],
   "source": [
    "#113\n",
    "user_input = input('숫자를 입력하세요:')\n",
    "if int(user_input) % 2 == 0:\n",
    "    print('짝수')\n",
    "else:\n",
    "    print('홀수')"
   ]
  },
  {
   "cell_type": "code",
   "execution_count": 194,
   "id": "e86a82a2",
   "metadata": {},
   "outputs": [],
   "source": [
    "#114\n",
    "user_input = input('입력값:')\n",
    "if int(user_input) + 20 > 255:\n",
    "    print(255)\n",
    "else:\n",
    "    print(int(user_input) + 20)"
   ]
  },
  {
   "cell_type": "code",
   "execution_count": null,
   "id": "3d7284b9",
   "metadata": {},
   "outputs": [],
   "source": [
    "#115\n",
    "user_input = input('입력값:')\n",
    "if int(user_input) - 20 < 0:\n",
    "    print(0)\n",
    "elif int(user_input) - 20 > 255:\n",
    "    print(255)\n",
    "else:\n",
    "    print(int(user_input) - 20)"
   ]
  },
  {
   "cell_type": "code",
   "execution_count": null,
   "id": "7265e72b",
   "metadata": {},
   "outputs": [],
   "source": [
    "#116\n",
    "input_time = input('현재시간:')\n",
    "if input_time[-2:] == '00':\n",
    "    print('정각입니다.')\n",
    "else:\n",
    "    print('정각이 아닙니다.')\n",
    "    "
   ]
  },
  {
   "cell_type": "code",
   "execution_count": null,
   "id": "2e58f3df",
   "metadata": {},
   "outputs": [],
   "source": [
    "#117\n",
    "fruit = ['사과', '포도', '홍시']\n",
    "user_fruit = input('좋아하는 과일은?')\n",
    "if user_fruit in fruit:\n",
    "    print('정답입니다.')\n",
    "else:\n",
    "    print('오답입니다.')"
   ]
  },
  {
   "cell_type": "code",
   "execution_count": null,
   "id": "82ca2155",
   "metadata": {},
   "outputs": [],
   "source": [
    "#118\n",
    "warn_investment_list = [\"Microsoft\", \"Google\", \"Naver\", \"Kakao\", \"SAMSUNG\", \"LG\"]\n",
    "user_investment = input('투자 종목을 입력하세요.')\n",
    "if user_investment in warn_investment_list:\n",
    "    print('투자 경고 종목 입니다.')\n",
    "else:\n",
    "    print('투자 경고 종목이 아닙니다.')"
   ]
  },
  {
   "cell_type": "code",
   "execution_count": null,
   "id": "e545a727",
   "metadata": {},
   "outputs": [],
   "source": [
    "#119\n",
    "fruit = {\"봄\" : \"딸기\", \"여름\" : \"토마토\", \"가을\" : \"사과\"}\n",
    "user_fruit = input('제가 좋아하는 계절은?')\n",
    "if user_fruit in fruit.keys():\n",
    "    print('정답입니다.')\n",
    "else:\n",
    "    print('오답입니다.')"
   ]
  },
  {
   "cell_type": "code",
   "execution_count": null,
   "id": "a15e60a8",
   "metadata": {},
   "outputs": [],
   "source": [
    "#120\n",
    "fruit = {\"봄\" : \"딸기\", \"여름\" : \"토마토\", \"가을\" : \"사과\"}\n",
    "user_fruit = input('제가 좋아하는 계절은?')\n",
    "if user_fruit in fruit.values():\n",
    "    print('정답입니다.')\n",
    "else:\n",
    "    print('오답입니다.')"
   ]
  },
  {
   "cell_type": "code",
   "execution_count": null,
   "id": "6b63aa5a",
   "metadata": {},
   "outputs": [],
   "source": [
    "#121\n",
    "user_input = input('문자를 입력하세요:')\n",
    "if user_input.islower():\n",
    "    print(user_input.upper())\n",
    "else:\n",
    "    print(user_input.lower())"
   ]
  },
  {
   "cell_type": "code",
   "execution_count": null,
   "id": "40c9e659",
   "metadata": {},
   "outputs": [],
   "source": [
    "#122\n",
    "user_score = input('score:')\n",
    "if int(user_score) >= 81:\n",
    "    print('grade is A')\n",
    "elif int(user_score) >= 61:\n",
    "    print('grade is B')\n",
    "elif int(user_score) >= 41:\n",
    "    print('grade is C')\n",
    "elif int(user_score) >= 21:\n",
    "    print('grade is D')\n",
    "else:\n",
    "    print('grade is E')"
   ]
  },
  {
   "cell_type": "code",
   "execution_count": null,
   "id": "870a2899",
   "metadata": {},
   "outputs": [],
   "source": [
    "'''\n",
    "#123\n",
    "user_amount = input('금액을 입력하세요:')\n",
    "user_amount = user_amount[:-1]\n",
    "if user_amount[-1] == '달러':\n",
    "    print(int(user_amount) * 1167, '원')\n",
    "elif user_amount[-1] == '엔':\n",
    "    print(int(user_amount) * 1.096, '원')\n",
    "elif user_amount[-1] == '유로':\n",
    "    print(int(user_amount) * 1268, '원')\n",
    "elif user_amount[-1] == '위안':\n",
    "    print(int(user_amount) * 171, '원')\n",
    "else:\n",
    "    print('잘못된 입력입니다.')\n",
    "'''"
   ]
  },
  {
   "cell_type": "code",
   "execution_count": null,
   "id": "0b6aa873",
   "metadata": {},
   "outputs": [],
   "source": [
    "#123\n",
    "환율 = {'달러': 1167, '엔': 1.096, '유로': 1268, '위안': 171}\n",
    "user_amount = input('금액을 입력하세요.')\n",
    "num, currency = user_amount.split()\n",
    "print(float(num) * 환율[currency], '원')"
   ]
  },
  {
   "cell_type": "code",
   "execution_count": 1,
   "id": "cc1cece6",
   "metadata": {},
   "outputs": [
    {
     "name": "stdout",
     "output_type": "stream",
     "text": [
      "67\n"
     ]
    }
   ],
   "source": [
    "#124\n",
    "user_input1 = input('input number1:')\n",
    "user_input2 = input('input number2:')\n",
    "user_input3 = input('input number3:')\n",
    "numbers = [int(user_input1), int(user_input2), int(user_input3)]\n",
    "max_number = max(numbers)\n",
    "print(max_number)"
   ]
  },
  {
   "cell_type": "code",
   "execution_count": 5,
   "id": "92a7aa1b",
   "metadata": {},
   "outputs": [
    {
     "name": "stdout",
     "output_type": "stream",
     "text": [
      "휴대폰 번호를 잘못 입력 하셨습니다.\n"
     ]
    }
   ],
   "source": [
    "#125\n",
    "user_input = input('휴대폰 번호을 입력 하세요:')\n",
    "tel_id = user_input[:3]\n",
    "if tel_id == '011':\n",
    "    print('당신은 SKT 사용자 입니다.')\n",
    "elif tel_id == '016':\n",
    "    print('당신은 KT 사용자 입니다.')\n",
    "elif tel_id == '019':\n",
    "    print('당신은 LGU 사용자 입니다.')\n",
    "elif tel_id == '010':\n",
    "    print('통신사를 확일 할 수 없습니다.')\n",
    "else:\n",
    "    print('휴대폰 번호를 잘못 입력 하셨습니다.')"
   ]
  },
  {
   "cell_type": "code",
   "execution_count": 7,
   "id": "590fe866",
   "metadata": {},
   "outputs": [
    {
     "name": "stdout",
     "output_type": "stream",
     "text": [
      "노원구\n"
     ]
    }
   ],
   "source": [
    "#126\n",
    "gu_name = {'1': '강북구', '2': '강북구', '3': '강북구', '4': '도봉구', '5': '도봉구', '6': '도봉구', '7': '노원구', '8': '노원구', '9': '노원구'}\n",
    "user_input = input('우편번호:')\n",
    "user_input = user_input[1]\n",
    "print(gu_name[user_input])"
   ]
  },
  {
   "cell_type": "code",
   "execution_count": 10,
   "id": "5b69d1c9",
   "metadata": {},
   "outputs": [
    {
     "name": "stdout",
     "output_type": "stream",
     "text": [
      "남자\n"
     ]
    }
   ],
   "source": [
    "#127\n",
    "user_input = input('주민등록번호:')\n",
    "user_input = user_input[6]\n",
    "if user_input == '1' or user_input == '3':\n",
    "    print('남자')\n",
    "elif user_input == '2' or user_input == '4':\n",
    "    print('여자')\n",
    "else:\n",
    "    print('- 기호를 빼고 입력 하세요.')"
   ]
  },
  {
   "cell_type": "code",
   "execution_count": 13,
   "id": "4acd467d",
   "metadata": {},
   "outputs": [
    {
     "name": "stdout",
     "output_type": "stream",
     "text": [
      "출생지는 서울이 아닙니다.\n"
     ]
    }
   ],
   "source": [
    "#128\n",
    "user_input = input('주민등록번호:')\n",
    "user_input = user_input[7:9]\n",
    "if 0 <= int(user_input) <= 8:\n",
    "    print('출생지는 서울 입니다.')\n",
    "else:\n",
    "    print('출생지는 서울이 아닙니다.')"
   ]
  },
  {
   "cell_type": "code",
   "execution_count": 14,
   "id": "7caf415e",
   "metadata": {},
   "outputs": [
    {
     "name": "stdout",
     "output_type": "stream",
     "text": [
      "유효한 주민등록번호 입니다.\n"
     ]
    }
   ],
   "source": [
    "#129\n",
    "user_input = input('주민번호:')\n",
    "user_input_validation = (int(user_input[0])*2 + int(user_input[1])*3 + int(user_input[2])*4 + int(user_input[3])*5 + int(user_input[4])*6 + int(user_input[5])*7 + int(user_input[7])*8 + int(user_input[8])*9 + int(user_input[9])*2 + int(user_input[10])*3 + int(user_input[11])*4 + int(user_input[12])*5) % 11\n",
    "user_input_validation = 11 - user_input_validation\n",
    "if user_input_validation == int(user_input[-1]):\n",
    "    print('유효한 주민등록번호 입니다.')\n",
    "else:\n",
    "    print('유효하지 않은 주민등록번호 입니다.')\n",
    "\n"
   ]
  },
  {
   "cell_type": "code",
   "execution_count": 17,
   "id": "66320337",
   "metadata": {},
   "outputs": [
    {
     "name": "stdout",
     "output_type": "stream",
     "text": [
      "{'opening_price': '59379000', 'closing_price': '59179000', 'min_price': '58660000', 'max_price': '59800000', 'units_traded': '1395.51523973', 'acc_trade_value': '82699222515.2551', 'prev_closing_price': '59379000', 'units_traded_24H': '4001.62012863', 'acc_trade_value_24H': '234643354071.646', 'fluctate_24H': '1432000', 'fluctate_rate_24H': '2.48', 'date': '1703116152391'}\n",
      "상승장\n",
      "59800000\n",
      "58660000\n",
      "59379000\n",
      "60519000\n",
      "True\n"
     ]
    }
   ],
   "source": [
    "#130\n",
    "import requests\n",
    "btc = requests.get(\"https://api.bithumb.com/public/ticker/\").json()['data']\n",
    "print(btc)\n",
    "if (int(btc['max_price']) - int(btc['min_price']) + int(btc['opening_price']) > int(btc['max_price'])):\n",
    "    print('상승장')\n",
    "else:\n",
    "    print('하락장')\n",
    "\n",
    "print(int(btc['max_price']))\n",
    "print(int(btc['min_price']))\n",
    "print(int(btc['opening_price']))\n",
    "print(int(btc['max_price']) - int(btc['min_price']) + int(btc['opening_price']))\n",
    "print(int(btc['max_price']) - int(btc['min_price']) + int(btc['opening_price']) > int(btc['max_price']))"
   ]
  },
  {
   "cell_type": "code",
   "execution_count": 18,
   "id": "58f74174",
   "metadata": {},
   "outputs": [
    {
     "name": "stdout",
     "output_type": "stream",
     "text": [
      "사과\n",
      "귤\n",
      "수박\n"
     ]
    }
   ],
   "source": [
    "#131\n",
    "과일 = [\"사과\", \"귤\", \"수박\"]  \n",
    "for 변수 in 과일:  \n",
    "    print(변수)  "
   ]
  },
  {
   "cell_type": "code",
   "execution_count": 23,
   "id": "8a68c539",
   "metadata": {},
   "outputs": [
    {
     "name": "stdout",
     "output_type": "stream",
     "text": [
      "#####\n",
      "#####\n",
      "#####\n"
     ]
    }
   ],
   "source": [
    "#132\n",
    "과일 = [\"사과\", \"귤\", \"수박\"]\n",
    "for 변수 in 과일:\n",
    "    print(\"#####\")"
   ]
  },
  {
   "cell_type": "code",
   "execution_count": 24,
   "id": "f596b04e",
   "metadata": {},
   "outputs": [
    {
     "name": "stdout",
     "output_type": "stream",
     "text": [
      "A\n",
      "B\n",
      "C\n",
      "D\n"
     ]
    }
   ],
   "source": [
    "#133\n",
    "alphabet = ['A', 'B', 'C', 'D']\n",
    "for alphabet_print in alphabet:\n",
    "    print(alphabet_print)"
   ]
  },
  {
   "cell_type": "code",
   "execution_count": 25,
   "id": "8f2ea02e",
   "metadata": {},
   "outputs": [
    {
     "name": "stdout",
     "output_type": "stream",
     "text": [
      "alphabet:  A\n",
      "alphabet:  B\n",
      "alphabet:  C\n",
      "alphabet:  D\n"
     ]
    }
   ],
   "source": [
    "#134\n",
    "alphabet = ['A', 'B', 'C', 'D']\n",
    "for alphabet_print in alphabet:\n",
    "    print('alphabet: ', alphabet_print)"
   ]
  },
  {
   "cell_type": "code",
   "execution_count": 26,
   "id": "8aaf495c",
   "metadata": {},
   "outputs": [
    {
     "name": "stdout",
     "output_type": "stream",
     "text": [
      "alphabet lowercase: a\n",
      "alphabet lowercase: b\n",
      "alphabet lowercase: c\n",
      "alphabet lowercase: d\n"
     ]
    }
   ],
   "source": [
    "#135\n",
    "alphabet = ['A', 'B', 'C', 'D']\n",
    "for alphabet_print in alphabet:\n",
    "    print('alphabet lowercase:', alphabet_print.lower())"
   ]
  },
  {
   "cell_type": "code",
   "execution_count": 27,
   "id": "e5c5a1b8",
   "metadata": {},
   "outputs": [
    {
     "name": "stdout",
     "output_type": "stream",
     "text": [
      "10\n",
      "20\n",
      "30\n",
      "40\n"
     ]
    }
   ],
   "source": [
    "#136\n",
    "numbers = [10, 20, 30, 40]\n",
    "for numbers_print in numbers:\n",
    "    print(numbers_print)"
   ]
  },
  {
   "cell_type": "code",
   "execution_count": 28,
   "id": "2f54e4f0",
   "metadata": {},
   "outputs": [
    {
     "name": "stdout",
     "output_type": "stream",
     "text": [
      "10\n",
      "20\n",
      "30\n",
      "40\n"
     ]
    }
   ],
   "source": [
    "#137\n",
    "i = [10, 20, 30, 40]\n",
    "for i_print in i:\n",
    "    print(i_print)"
   ]
  },
  {
   "cell_type": "code",
   "execution_count": 31,
   "id": "dd04a91d",
   "metadata": {},
   "outputs": [
    {
     "name": "stdout",
     "output_type": "stream",
     "text": [
      "10\n",
      "-------\n",
      "20\n",
      "-------\n",
      "30\n",
      "-------\n",
      "40\n",
      "-------\n"
     ]
    }
   ],
   "source": [
    "#138\n",
    "for i in [10, 20, 30, 40]:\n",
    "    print(i)\n",
    "    print('-------')"
   ]
  },
  {
   "cell_type": "code",
   "execution_count": 32,
   "id": "ec614e38",
   "metadata": {},
   "outputs": [
    {
     "name": "stdout",
     "output_type": "stream",
     "text": [
      "++++++++\n",
      "10\n",
      "20\n",
      "30\n"
     ]
    }
   ],
   "source": [
    "#139\n",
    "print('++++++++')\n",
    "for i in [10, 20, 30]:\n",
    "    print(i)"
   ]
  },
  {
   "cell_type": "code",
   "execution_count": 33,
   "id": "c56a0a5a",
   "metadata": {},
   "outputs": [
    {
     "name": "stdout",
     "output_type": "stream",
     "text": [
      "-------\n",
      "-------\n",
      "-------\n",
      "-------\n"
     ]
    }
   ],
   "source": [
    "#140\n",
    "for i in [1, 2, 3, 4]:\n",
    "    print('-------')"
   ]
  },
  {
   "cell_type": "code",
   "execution_count": 34,
   "id": "752013d4",
   "metadata": {},
   "outputs": [
    {
     "name": "stdout",
     "output_type": "stream",
     "text": [
      "110\n",
      "210\n",
      "310\n"
     ]
    }
   ],
   "source": [
    "#141\n",
    "price_list = [100, 200, 300]\n",
    "for price in price_list:\n",
    "    print(price + 10)"
   ]
  },
  {
   "cell_type": "code",
   "execution_count": 36,
   "id": "0ababc95",
   "metadata": {},
   "outputs": [
    {
     "name": "stdout",
     "output_type": "stream",
     "text": [
      "오늘의 메뉴: 김밥\n",
      "오늘의 메뉴: 라면\n",
      "오늘의 메뉴: 튀김\n"
     ]
    }
   ],
   "source": [
    "#142\n",
    "menu_list = ['김밥', '라면', '튀김']\n",
    "for menu in menu_list:\n",
    "    print('오늘의 메뉴:', menu)"
   ]
  },
  {
   "cell_type": "code",
   "execution_count": 37,
   "id": "501ca7a9",
   "metadata": {},
   "outputs": [
    {
     "name": "stdout",
     "output_type": "stream",
     "text": [
      "6\n",
      "4\n",
      "4\n"
     ]
    }
   ],
   "source": [
    "#143\n",
    "stock_list = ['SK하이닉스', '삼성전자', 'LG전자']\n",
    "for stock in stock_list:\n",
    "    print(len(stock))"
   ]
  },
  {
   "cell_type": "code",
   "execution_count": 38,
   "id": "610b3c37",
   "metadata": {},
   "outputs": [
    {
     "name": "stdout",
     "output_type": "stream",
     "text": [
      "dog 3\n",
      "cat 3\n",
      "parrot 6\n"
     ]
    }
   ],
   "source": [
    "#144\n",
    "animal_list = ['dog', 'cat', 'parrot']\n",
    "for animal in animal_list:\n",
    "    print(animal, len(animal))"
   ]
  },
  {
   "cell_type": "code",
   "execution_count": 39,
   "id": "93f73eaa",
   "metadata": {},
   "outputs": [
    {
     "name": "stdout",
     "output_type": "stream",
     "text": [
      "d\n",
      "c\n",
      "p\n"
     ]
    }
   ],
   "source": [
    "#145\n",
    "animal_list = ['dog', 'cat', 'parrot']\n",
    "for animal in animal_list:\n",
    "    print(animal[0])"
   ]
  },
  {
   "cell_type": "code",
   "execution_count": 40,
   "id": "2ea1d196",
   "metadata": {},
   "outputs": [
    {
     "name": "stdout",
     "output_type": "stream",
     "text": [
      "3 x 1\n",
      "3 x 2\n",
      "3 x 3\n"
     ]
    }
   ],
   "source": [
    "#146\n",
    "number_list = [1, 2, 3]\n",
    "for number in number_list:\n",
    "    print('3 x', number)"
   ]
  },
  {
   "cell_type": "code",
   "execution_count": 41,
   "id": "086aedf4",
   "metadata": {},
   "outputs": [
    {
     "name": "stdout",
     "output_type": "stream",
     "text": [
      "3 x 1 = 3\n",
      "3 x 2 = 6\n",
      "3 x 3 = 9\n"
     ]
    }
   ],
   "source": [
    "#147\n",
    "number_list = [1, 2, 3]\n",
    "for number in number_list:\n",
    "    print('3 x', number, '=', 3*number)"
   ]
  },
  {
   "cell_type": "code",
   "execution_count": 42,
   "id": "b1ee5c90",
   "metadata": {},
   "outputs": [
    {
     "name": "stdout",
     "output_type": "stream",
     "text": [
      "나\n",
      "다\n",
      "라\n"
     ]
    }
   ],
   "source": [
    "#148\n",
    "character_list = ['가', '나', '다', '라']\n",
    "for character in character_list[1:]:\n",
    "    print(character)"
   ]
  },
  {
   "cell_type": "code",
   "execution_count": 43,
   "id": "57077a73",
   "metadata": {},
   "outputs": [
    {
     "name": "stdout",
     "output_type": "stream",
     "text": [
      "가\n",
      "다\n"
     ]
    }
   ],
   "source": [
    "#149\n",
    "character_list = ['가', '나', '다', '라']\n",
    "for character in character_list[::2]:\n",
    "    print(character)"
   ]
  },
  {
   "cell_type": "code",
   "execution_count": 44,
   "id": "f2f6b5e4",
   "metadata": {},
   "outputs": [
    {
     "name": "stdout",
     "output_type": "stream",
     "text": [
      "라\n",
      "다\n",
      "나\n",
      "가\n"
     ]
    }
   ],
   "source": [
    "#150\n",
    "character_list = ['가', '나', '다', '라']\n",
    "for character in reversed(character_list):\n",
    "    print(character)"
   ]
  },
  {
   "cell_type": "code",
   "execution_count": 45,
   "id": "5eafba56",
   "metadata": {},
   "outputs": [
    {
     "name": "stdout",
     "output_type": "stream",
     "text": [
      "-20\n",
      "-3\n"
     ]
    }
   ],
   "source": [
    "#151\n",
    "num_list = [3, -20, -3, 44]\n",
    "for number in num_list:\n",
    "    if number < 0:\n",
    "        print(number)"
   ]
  },
  {
   "cell_type": "code",
   "execution_count": 46,
   "id": "9344413e",
   "metadata": {},
   "outputs": [
    {
     "name": "stdout",
     "output_type": "stream",
     "text": [
      "3\n"
     ]
    }
   ],
   "source": [
    "#152\n",
    "num_list = [3, 100, 23, 44]\n",
    "for number in num_list:\n",
    "    if number % 3 == 0:\n",
    "        print(number)"
   ]
  },
  {
   "cell_type": "code",
   "execution_count": 47,
   "id": "6cbd9056",
   "metadata": {},
   "outputs": [
    {
     "name": "stdout",
     "output_type": "stream",
     "text": [
      "12\n",
      "18\n"
     ]
    }
   ],
   "source": [
    "#153\n",
    "num_list = [13, 21, 12, 14, 30, 18]\n",
    "for number in num_list:\n",
    "    if number % 3 == 0 and number < 20:\n",
    "        print(number)"
   ]
  },
  {
   "cell_type": "code",
   "execution_count": 48,
   "id": "f60432f4",
   "metadata": {},
   "outputs": [
    {
     "name": "stdout",
     "output_type": "stream",
     "text": [
      "study\n",
      "python\n",
      "language\n"
     ]
    }
   ],
   "source": [
    "#154\n",
    "char_list = ['I', 'study', 'python', 'language', '!']\n",
    "for char in char_list:\n",
    "    if len(char) >= 3:\n",
    "        print(char)"
   ]
  },
  {
   "cell_type": "code",
   "execution_count": 49,
   "id": "baa93ef2",
   "metadata": {},
   "outputs": [
    {
     "name": "stdout",
     "output_type": "stream",
     "text": [
      "A\n",
      "D\n"
     ]
    }
   ],
   "source": [
    "#155\n",
    "char_list = ['A', 'b', 'c', 'D']\n",
    "for char in char_list:\n",
    "    if char.isupper():\n",
    "        print(char)"
   ]
  },
  {
   "cell_type": "code",
   "execution_count": 50,
   "id": "894e60a8",
   "metadata": {},
   "outputs": [
    {
     "name": "stdout",
     "output_type": "stream",
     "text": [
      "b\n",
      "c\n"
     ]
    }
   ],
   "source": [
    "#156\n",
    "char_list = ['A', 'b', 'c', 'D']\n",
    "for char in char_list:\n",
    "    if char.islower():\n",
    "        print(char)"
   ]
  },
  {
   "cell_type": "code",
   "execution_count": 52,
   "id": "b04db996",
   "metadata": {},
   "outputs": [
    {
     "name": "stdout",
     "output_type": "stream",
     "text": [
      "Dog\n",
      "Cat\n",
      "Parrot\n",
      "Dog\n",
      "Cat\n",
      "Parrot\n"
     ]
    }
   ],
   "source": [
    "#157\n",
    "char_list = ['dog', 'cat', 'parrot']\n",
    "for char in char_list:\n",
    "    print(char.capitalize())\n",
    "\n",
    "for char in char_list:\n",
    "    print(char[0].upper() + char[1:])"
   ]
  },
  {
   "cell_type": "code",
   "execution_count": 54,
   "id": "f6da8a91",
   "metadata": {},
   "outputs": [
    {
     "name": "stdout",
     "output_type": "stream",
     "text": [
      "hello\n",
      "ex01\n",
      "intro\n"
     ]
    }
   ],
   "source": [
    "#158\n",
    "file_list = ['hello.py', 'ex01.py', 'intro.hwp']\n",
    "for file in file_list:\n",
    "    print(file.split('.')[0])"
   ]
  },
  {
   "cell_type": "code",
   "execution_count": 55,
   "id": "0ab24a50",
   "metadata": {},
   "outputs": [
    {
     "name": "stdout",
     "output_type": "stream",
     "text": [
      "intra.h\n",
      "define.h\n"
     ]
    }
   ],
   "source": [
    "#159\n",
    "file_list = ['intra.h', 'intra.c', 'define.h', 'run.py']\n",
    "for file in file_list:\n",
    "    if file.split('.')[1] == 'h':\n",
    "        print(file)"
   ]
  },
  {
   "cell_type": "code",
   "execution_count": 56,
   "id": "81811e32",
   "metadata": {},
   "outputs": [
    {
     "name": "stdout",
     "output_type": "stream",
     "text": [
      "intra.h\n",
      "intra.c\n",
      "define.h\n"
     ]
    }
   ],
   "source": [
    "#160\n",
    "file_list = ['intra.h', 'intra.c', 'define.h', 'run.py']\n",
    "for file in file_list:\n",
    "    if file.split('.')[1] == 'h' or file.split('.')[1] == 'c':\n",
    "        print(file)"
   ]
  },
  {
   "cell_type": "code",
   "execution_count": 59,
   "id": "23c5c301",
   "metadata": {},
   "outputs": [
    {
     "name": "stdout",
     "output_type": "stream",
     "text": [
      "0\n",
      "1\n",
      "2\n",
      "3\n",
      "4\n",
      "5\n",
      "6\n",
      "7\n",
      "8\n",
      "9\n",
      "10\n",
      "11\n",
      "12\n",
      "13\n",
      "14\n",
      "15\n",
      "16\n",
      "17\n",
      "18\n",
      "19\n",
      "20\n",
      "21\n",
      "22\n",
      "23\n",
      "24\n",
      "25\n",
      "26\n",
      "27\n",
      "28\n",
      "29\n",
      "30\n",
      "31\n",
      "32\n",
      "33\n",
      "34\n",
      "35\n",
      "36\n",
      "37\n",
      "38\n",
      "39\n",
      "40\n",
      "41\n",
      "42\n",
      "43\n",
      "44\n",
      "45\n",
      "46\n",
      "47\n",
      "48\n",
      "49\n",
      "50\n",
      "51\n",
      "52\n",
      "53\n",
      "54\n",
      "55\n",
      "56\n",
      "57\n",
      "58\n",
      "59\n",
      "60\n",
      "61\n",
      "62\n",
      "63\n",
      "64\n",
      "65\n",
      "66\n",
      "67\n",
      "68\n",
      "69\n",
      "70\n",
      "71\n",
      "72\n",
      "73\n",
      "74\n",
      "75\n",
      "76\n",
      "77\n",
      "78\n",
      "79\n",
      "80\n",
      "81\n",
      "82\n",
      "83\n",
      "84\n",
      "85\n",
      "86\n",
      "87\n",
      "88\n",
      "89\n",
      "90\n",
      "91\n",
      "92\n",
      "93\n",
      "94\n",
      "95\n",
      "96\n",
      "97\n",
      "98\n",
      "99\n"
     ]
    }
   ],
   "source": [
    "#161\n",
    "for i in range(100):\n",
    "    print(i)"
   ]
  },
  {
   "cell_type": "code",
   "execution_count": 63,
   "id": "879e0479",
   "metadata": {},
   "outputs": [
    {
     "name": "stdout",
     "output_type": "stream",
     "text": [
      "2002\n",
      "2006\n",
      "2010\n",
      "2014\n",
      "2018\n",
      "2022\n",
      "2026\n",
      "2030\n",
      "2034\n",
      "2038\n",
      "2042\n",
      "2046\n",
      "2050\n",
      "[2002, 2006, 2010, 2014, 2018, 2022, 2026, 2030, 2034, 2038, 2042, 2046, 2050]\n"
     ]
    }
   ],
   "source": [
    "#162\n",
    "for i in range(2002, 2051, 4):\n",
    "    print(i)\n",
    "\n",
    "print(list(range(2002, 2051, 4)))"
   ]
  },
  {
   "cell_type": "code",
   "execution_count": 65,
   "id": "0025472e",
   "metadata": {},
   "outputs": [
    {
     "name": "stdout",
     "output_type": "stream",
     "text": [
      "[3, 6, 9, 12, 15, 18, 21, 24, 27, 30]\n",
      "3\n",
      "6\n",
      "9\n",
      "12\n",
      "15\n",
      "18\n",
      "21\n",
      "24\n",
      "27\n",
      "30\n"
     ]
    }
   ],
   "source": [
    "#163\n",
    "print(list(range(3, 31, 3)))\n",
    "for i in range(3, 31, 3):\n",
    "    print(i)"
   ]
  },
  {
   "cell_type": "code",
   "execution_count": 67,
   "id": "7345c605",
   "metadata": {},
   "outputs": [
    {
     "name": "stdout",
     "output_type": "stream",
     "text": [
      "99\n",
      "98\n",
      "97\n",
      "96\n",
      "95\n",
      "94\n",
      "93\n",
      "92\n",
      "91\n",
      "90\n",
      "89\n",
      "88\n",
      "87\n",
      "86\n",
      "85\n",
      "84\n",
      "83\n",
      "82\n",
      "81\n",
      "80\n",
      "79\n",
      "78\n",
      "77\n",
      "76\n",
      "75\n",
      "74\n",
      "73\n",
      "72\n",
      "71\n",
      "70\n",
      "69\n",
      "68\n",
      "67\n",
      "66\n",
      "65\n",
      "64\n",
      "63\n",
      "62\n",
      "61\n",
      "60\n",
      "59\n",
      "58\n",
      "57\n",
      "56\n",
      "55\n",
      "54\n",
      "53\n",
      "52\n",
      "51\n",
      "50\n",
      "49\n",
      "48\n",
      "47\n",
      "46\n",
      "45\n",
      "44\n",
      "43\n",
      "42\n",
      "41\n",
      "40\n",
      "39\n",
      "38\n",
      "37\n",
      "36\n",
      "35\n",
      "34\n",
      "33\n",
      "32\n",
      "31\n",
      "30\n",
      "29\n",
      "28\n",
      "27\n",
      "26\n",
      "25\n",
      "24\n",
      "23\n",
      "22\n",
      "21\n",
      "20\n",
      "19\n",
      "18\n",
      "17\n",
      "16\n",
      "15\n",
      "14\n",
      "13\n",
      "12\n",
      "11\n",
      "10\n",
      "9\n",
      "8\n",
      "7\n",
      "6\n",
      "5\n",
      "4\n",
      "3\n",
      "2\n",
      "1\n",
      "0\n"
     ]
    }
   ],
   "source": [
    "#164\n",
    "for i in range(99, -1, -1):\n",
    "    print(i)"
   ]
  },
  {
   "cell_type": "code",
   "execution_count": 68,
   "id": "d3fc3f86",
   "metadata": {},
   "outputs": [
    {
     "name": "stdout",
     "output_type": "stream",
     "text": [
      "0.0\n",
      "0.1\n",
      "0.2\n",
      "0.3\n",
      "0.4\n",
      "0.5\n",
      "0.6\n",
      "0.7\n",
      "0.8\n",
      "0.9\n"
     ]
    }
   ],
   "source": [
    "#165\n",
    "for i in range(10):\n",
    "    print(i/10)"
   ]
  },
  {
   "cell_type": "code",
   "execution_count": 73,
   "id": "cc65411e",
   "metadata": {},
   "outputs": [
    {
     "name": "stdout",
     "output_type": "stream",
     "text": [
      "3 x 1 = 3\n",
      "3 x 2 = 6\n",
      "3 x 3 = 9\n",
      "3 x 4 = 12\n",
      "3 x 5 = 15\n",
      "3 x 6 = 18\n",
      "3 x 7 = 21\n",
      "3 x 8 = 24\n",
      "3 x 9 = 27\n"
     ]
    }
   ],
   "source": [
    "#166\n",
    "for i in range (1, 10):\n",
    "    print('3 x', i, '=', 3 * i)"
   ]
  },
  {
   "cell_type": "code",
   "execution_count": 78,
   "id": "bd769dd0",
   "metadata": {},
   "outputs": [
    {
     "name": "stdout",
     "output_type": "stream",
     "text": [
      "3 x 1 = 3\n",
      "3 x 3 = 9\n",
      "3 x 5 = 15\n",
      "3 x 7 = 21\n",
      "3 x 9 = 27\n"
     ]
    }
   ],
   "source": [
    "#167\n",
    "for i in range (1, 10):\n",
    "    if i % 2 == 1:\n",
    "        print('3 x', i , '=', 3 * i)\n"
   ]
  },
  {
   "cell_type": "code",
   "execution_count": 82,
   "id": "04e2e50f",
   "metadata": {},
   "outputs": [
    {
     "name": "stdout",
     "output_type": "stream",
     "text": [
      "1\n",
      "3\n",
      "6\n",
      "10\n",
      "15\n",
      "21\n",
      "28\n",
      "36\n",
      "45\n",
      "55\n"
     ]
    }
   ],
   "source": [
    "#168\n",
    "isum = 0\n",
    "#for i in range(1, 11):\n",
    "#    isum = isum + i\n",
    "#    print(isum)\n",
    "\n",
    "for i in range(1, 11):\n",
    "    isum += i\n",
    "    print(isum)"
   ]
  },
  {
   "cell_type": "code",
   "execution_count": 84,
   "id": "32234ecb",
   "metadata": {},
   "outputs": [
    {
     "name": "stdout",
     "output_type": "stream",
     "text": [
      "25\n"
     ]
    }
   ],
   "source": [
    "#169\n",
    "isum = 0\n",
    "for i in range(1, 11):\n",
    "    if i % 2 == 1:\n",
    "        isum += i\n",
    "print(isum)"
   ]
  },
  {
   "cell_type": "code",
   "execution_count": 85,
   "id": "60e44bba",
   "metadata": {},
   "outputs": [
    {
     "name": "stdout",
     "output_type": "stream",
     "text": [
      "3628800\n"
     ]
    }
   ],
   "source": [
    "#170\n",
    "isum = 1\n",
    "for i in range(1, 11):\n",
    "    isum *= i\n",
    "print(isum)"
   ]
  },
  {
   "cell_type": "code",
   "execution_count": 86,
   "id": "d65475b3",
   "metadata": {},
   "outputs": [
    {
     "name": "stdout",
     "output_type": "stream",
     "text": [
      "32100\n",
      "32150\n",
      "32000\n",
      "32500\n"
     ]
    }
   ],
   "source": [
    "#171\n",
    "price_list = [32100, 32150, 32000, 32500]\n",
    "for i in range(0, 4):\n",
    "    print(price_list[i])"
   ]
  },
  {
   "cell_type": "code",
   "execution_count": 87,
   "id": "41eeb893",
   "metadata": {},
   "outputs": [
    {
     "name": "stdout",
     "output_type": "stream",
     "text": [
      "0 32100\n",
      "1 32150\n",
      "2 32000\n",
      "3 32500\n"
     ]
    }
   ],
   "source": [
    "#172\n",
    "price_list = [32100, 32150, 32000, 32500]\n",
    "for i in range(0, 4):\n",
    "    print(i, price_list[i])"
   ]
  },
  {
   "cell_type": "code",
   "execution_count": 91,
   "id": "5f50dbd7",
   "metadata": {},
   "outputs": [
    {
     "name": "stdout",
     "output_type": "stream",
     "text": [
      "3 32500\n",
      "2 32000\n",
      "1 32150\n",
      "0 32100\n"
     ]
    }
   ],
   "source": [
    "#173\n",
    "price_list = [32100, 32150, 32000, 32500]\n",
    "for i in range(3, -1, -1):\n",
    "    print(i, price_list[i])"
   ]
  },
  {
   "cell_type": "code",
   "execution_count": 94,
   "id": "37b33cca",
   "metadata": {},
   "outputs": [
    {
     "name": "stdout",
     "output_type": "stream",
     "text": [
      "100 32150\n",
      "110 32000\n",
      "120 32500\n"
     ]
    }
   ],
   "source": [
    "#174\n",
    "price_list = [32100, 32150, 32000, 32500]\n",
    "for i in range(1, 4):\n",
    "    print(90 + i * 10, price_list[i])"
   ]
  },
  {
   "cell_type": "code",
   "execution_count": 95,
   "id": "7cea60e2",
   "metadata": {},
   "outputs": [
    {
     "name": "stdout",
     "output_type": "stream",
     "text": [
      "가 나\n",
      "나 다\n",
      "다 라\n"
     ]
    }
   ],
   "source": [
    "#175\n",
    "my_list = [\"가\", \"나\", \"다\", \"라\"]\n",
    "for i in range(0, 3):\n",
    "    print(my_list[i], my_list[i+1])"
   ]
  },
  {
   "cell_type": "code",
   "execution_count": 97,
   "id": "a494f79b",
   "metadata": {},
   "outputs": [
    {
     "name": "stdout",
     "output_type": "stream",
     "text": [
      "가 나 다\n",
      "나 다 라\n",
      "다 라 마\n"
     ]
    }
   ],
   "source": [
    "#176\n",
    "my_list = [\"가\", \"나\", \"다\", \"라\", '마']\n",
    "for i in range(0, 3):\n",
    "    print(my_list[i], my_list[i+1], my_list[i+2])"
   ]
  },
  {
   "cell_type": "code",
   "execution_count": 99,
   "id": "62cd5c8d",
   "metadata": {},
   "outputs": [
    {
     "name": "stdout",
     "output_type": "stream",
     "text": [
      "라 다\n",
      "다 나\n",
      "나 가\n"
     ]
    }
   ],
   "source": [
    "#177\n",
    "my_list = [\"가\", \"나\", \"다\", \"라\"]\n",
    "for i in range(3, 0, -1):\n",
    "    print(my_list[i], my_list[i-1])"
   ]
  },
  {
   "cell_type": "code",
   "execution_count": 100,
   "id": "9c352bb6",
   "metadata": {},
   "outputs": [
    {
     "name": "stdout",
     "output_type": "stream",
     "text": [
      "100\n",
      "200\n",
      "400\n"
     ]
    }
   ],
   "source": [
    "#178\n",
    "my_list = [100, 200, 400, 800]\n",
    "for i in range(0, 3):\n",
    "    print(my_list[i+1] - my_list[i])"
   ]
  },
  {
   "cell_type": "code",
   "execution_count": 101,
   "id": "70f999b6",
   "metadata": {},
   "outputs": [
    {
     "name": "stdout",
     "output_type": "stream",
     "text": [
      "233.33333333333334\n",
      "466.6666666666667\n",
      "733.3333333333334\n",
      "1033.3333333333333\n"
     ]
    }
   ],
   "source": [
    "#179\n",
    "my_list = [100, 200, 400, 800, 1000, 1300]\n",
    "for i in range(0, 4):\n",
    "    print((my_list[i] + my_list[i+1] + my_list[i+2])/3)"
   ]
  },
  {
   "cell_type": "code",
   "execution_count": 104,
   "id": "e30d4987",
   "metadata": {},
   "outputs": [
    {
     "name": "stdout",
     "output_type": "stream",
     "text": [
      "[50, 100, 30, 80, 0]\n"
     ]
    }
   ],
   "source": [
    "#180\n",
    "low_prices  = [100, 200, 400, 800, 1000]\n",
    "high_prices = [150, 300, 430, 880, 1000]\n",
    "volatility = []\n",
    "for i in range(len(low_prices)):\n",
    "    volatility.append(high_prices[i] - low_prices[i])\n",
    "print(volatility)"
   ]
  },
  {
   "cell_type": "code",
   "execution_count": 105,
   "id": "f97adac9",
   "metadata": {},
   "outputs": [
    {
     "name": "stdout",
     "output_type": "stream",
     "text": [
      "[[101, 102], [201, 202], [301, 302]]\n"
     ]
    }
   ],
   "source": [
    "#181\n",
    "apart = [[101, 102], [201, 202], [301, 302]]\n",
    "print(apart)"
   ]
  },
  {
   "cell_type": "code",
   "execution_count": 106,
   "id": "03c9ceec",
   "metadata": {},
   "outputs": [
    {
     "name": "stdout",
     "output_type": "stream",
     "text": [
      "[['시가', '100', '200', '300'], ['종가', '80', '210', '330']]\n"
     ]
    }
   ],
   "source": [
    "#182\n",
    "stock = [['시가', '100', '200', '300'], ['종가', '80', '210', '330']]\n",
    "print(stock)"
   ]
  },
  {
   "cell_type": "code",
   "execution_count": 108,
   "id": "53907d4f",
   "metadata": {},
   "outputs": [
    {
     "name": "stdout",
     "output_type": "stream",
     "text": [
      "{'시가': [100, 200, 300], '종가': [80, 210, 330]}\n"
     ]
    }
   ],
   "source": [
    "#183\n",
    "stock = {\n",
    "    '시가': [100, 200, 300],\n",
    "    '종가': [80, 210, 330]\n",
    "}\n",
    "print(stock)"
   ]
  },
  {
   "cell_type": "code",
   "execution_count": 110,
   "id": "3790c488",
   "metadata": {},
   "outputs": [
    {
     "name": "stdout",
     "output_type": "stream",
     "text": [
      "{'10/10': [80, 110, 70, 90], '10/11': [210, 230, 190, 200]}\n"
     ]
    }
   ],
   "source": [
    "#184\n",
    "stock = {\n",
    "    '10/10' : [80, 110, 70, 90],\n",
    "    '10/11' : [210, 230, 190, 200]\n",
    "}\n",
    "print(stock)"
   ]
  },
  {
   "cell_type": "code",
   "execution_count": 112,
   "id": "d2a29439",
   "metadata": {},
   "outputs": [
    {
     "name": "stdout",
     "output_type": "stream",
     "text": [
      "101 호\n",
      "102 호\n",
      "201 호\n",
      "202 호\n",
      "301 호\n",
      "302 호\n"
     ]
    }
   ],
   "source": [
    "#185\n",
    "apart = [ [101, 102], [201, 202], [301, 302] ]\n",
    "for i in range(len(apart)):\n",
    "    for j in range(len(apart[i])):\n",
    "        print(apart[i][j],'호')"
   ]
  },
  {
   "cell_type": "code",
   "execution_count": 117,
   "id": "72525419",
   "metadata": {},
   "outputs": [
    {
     "name": "stdout",
     "output_type": "stream",
     "text": [
      "101 호\n",
      "102 호\n",
      "201 호\n",
      "202 호\n",
      "301 호\n",
      "302 호\n"
     ]
    }
   ],
   "source": [
    "#185-2\n",
    "apart = [ [101, 102], [201, 202], [301, 302] ]\n",
    "for row in apart:\n",
    "    for col in row:\n",
    "        print(col, '호')"
   ]
  },
  {
   "cell_type": "code",
   "execution_count": 116,
   "id": "25355420",
   "metadata": {},
   "outputs": [
    {
     "name": "stdout",
     "output_type": "stream",
     "text": [
      "302 호\n",
      "301 호\n",
      "202 호\n",
      "201 호\n",
      "102 호\n",
      "101 호\n"
     ]
    }
   ],
   "source": [
    "#186\n",
    "apart = [ [101, 102], [201, 202], [301, 302] ]\n",
    "for i in range(len(apart)-1, -1, -1):\n",
    "    for j in range(len(apart[i])-1, -1, -1):\n",
    "        print(apart[i][j],'호')"
   ]
  },
  {
   "cell_type": "code",
   "execution_count": 119,
   "id": "df936a23",
   "metadata": {},
   "outputs": [
    {
     "name": "stdout",
     "output_type": "stream",
     "text": [
      "301 호\n",
      "302 호\n",
      "201 호\n",
      "202 호\n",
      "101 호\n",
      "102 호\n"
     ]
    }
   ],
   "source": [
    "#186-2\n",
    "apart = [ [101, 102], [201, 202], [301, 302] ]\n",
    "for row in apart[::-1]:\n",
    "    for col in row:\n",
    "        print(col, '호')"
   ]
  },
  {
   "cell_type": "code",
   "execution_count": 118,
   "id": "018f27fb",
   "metadata": {},
   "outputs": [
    {
     "name": "stdout",
     "output_type": "stream",
     "text": [
      "302 호\n",
      "301 호\n",
      "202 호\n",
      "201 호\n",
      "102 호\n",
      "101 호\n"
     ]
    }
   ],
   "source": [
    "#187\n",
    "apart = [ [101, 102], [201, 202], [301, 302] ]\n",
    "for row in apart[::-1]:\n",
    "    for col in row[::-1]:\n",
    "        print(col, '호')"
   ]
  },
  {
   "cell_type": "code",
   "execution_count": 122,
   "id": "7de8509d",
   "metadata": {},
   "outputs": [
    {
     "name": "stdout",
     "output_type": "stream",
     "text": [
      "101 호\n",
      "------\n",
      "102 호\n",
      "------\n",
      "201 호\n",
      "------\n",
      "202 호\n",
      "------\n",
      "301 호\n",
      "------\n",
      "302 호\n",
      "------\n"
     ]
    }
   ],
   "source": [
    "#188\n",
    "apart = [ [101, 102], [201, 202], [301, 302] ]\n",
    "for row in apart:\n",
    "    for col in row:\n",
    "        print(col, '호')\n",
    "        print('------')"
   ]
  },
  {
   "cell_type": "code",
   "execution_count": 123,
   "id": "7dc619d0",
   "metadata": {},
   "outputs": [
    {
     "name": "stdout",
     "output_type": "stream",
     "text": [
      "101 호\n",
      "102 호\n",
      "------\n",
      "201 호\n",
      "202 호\n",
      "------\n",
      "301 호\n",
      "302 호\n",
      "------\n"
     ]
    }
   ],
   "source": [
    "#189\n",
    "apart = [ [101, 102], [201, 202], [301, 302] ]\n",
    "for row in apart:\n",
    "    for col in row:\n",
    "        print(col, '호')\n",
    "        if col % 2 == 0:\n",
    "            print('------')"
   ]
  },
  {
   "cell_type": "code",
   "execution_count": 126,
   "id": "e1bf2768",
   "metadata": {},
   "outputs": [
    {
     "name": "stdout",
     "output_type": "stream",
     "text": [
      "302 호\n",
      "301 호\n",
      "202 호\n",
      "201 호\n",
      "102 호\n",
      "101 호\n",
      "----------\n"
     ]
    }
   ],
   "source": [
    "#190\n",
    "apart = [ [101, 102], [201, 202], [301, 302] ]\n",
    "for i in range(len(apart)-1, -1, -1):\n",
    "    for j in range(len(apart[i])-1, -1, -1):\n",
    "        print(apart[i][j],'호')\n",
    "print('-' * 10)"
   ]
  },
  {
   "cell_type": "code",
   "execution_count": 127,
   "id": "78142e62",
   "metadata": {},
   "outputs": [
    {
     "name": "stdout",
     "output_type": "stream",
     "text": [
      "2000.28\n",
      "3050.427\n",
      "2050.2870000000003\n",
      "1980.2772\n",
      "7501.05\n",
      "2050.2870000000003\n",
      "2050.2870000000003\n",
      "1980.2772\n",
      "15452.163\n",
      "15052.107\n",
      "15552.177\n",
      "14902.086000000001\n"
     ]
    }
   ],
   "source": [
    "#191\n",
    "data = [\n",
    "    [2000, 3050, 2050, 1980],\n",
    "    [7500, 2050, 2050, 1980],\n",
    "    [15450, 15050, 15550, 14900]\n",
    "]\n",
    "for row in data:\n",
    "    for col in row:\n",
    "        print(col * 1.00014)"
   ]
  },
  {
   "cell_type": "code",
   "execution_count": 129,
   "id": "54e667d1",
   "metadata": {},
   "outputs": [
    {
     "name": "stdout",
     "output_type": "stream",
     "text": [
      "2000.28\n",
      "3050.427\n",
      "2050.2870000000003\n",
      "1980.2772\n",
      "--------------------\n",
      "7501.05\n",
      "2050.2870000000003\n",
      "2050.2870000000003\n",
      "1980.2772\n",
      "--------------------\n",
      "15452.163\n",
      "15052.107\n",
      "15552.177\n",
      "14902.086000000001\n",
      "--------------------\n"
     ]
    }
   ],
   "source": [
    "#192\n",
    "data = [\n",
    "    [2000, 3050, 2050, 1980],\n",
    "    [7500, 2050, 2050, 1980],\n",
    "    [15450, 15050, 15550, 14900]\n",
    "]\n",
    "for row in data:\n",
    "    for col in row:\n",
    "        print(col * 1.00014)\n",
    "    print('-' * 20)"
   ]
  },
  {
   "cell_type": "code",
   "execution_count": 131,
   "id": "bc766b2e",
   "metadata": {},
   "outputs": [
    {
     "name": "stdout",
     "output_type": "stream",
     "text": [
      "[2000.28, 3050.427, 2050.2870000000003, 1980.2772, 7501.05, 2050.2870000000003, 2050.2870000000003, 1980.2772, 15452.163, 15052.107, 15552.177, 14902.086000000001]\n"
     ]
    }
   ],
   "source": [
    "#193\n",
    "result = []\n",
    "data = [\n",
    "    [2000, 3050, 2050, 1980],\n",
    "    [7500, 2050, 2050, 1980],\n",
    "    [15450, 15050, 15550, 14900]\n",
    "]\n",
    "for row in data:\n",
    "    for col in row:\n",
    "        result.append(col * 1.00014)\n",
    "print(result)"
   ]
  },
  {
   "cell_type": "code",
   "execution_count": 133,
   "id": "5d6404e9",
   "metadata": {},
   "outputs": [
    {
     "name": "stdout",
     "output_type": "stream",
     "text": [
      "[[2000.28, 3050.427, 2050.2870000000003, 1980.2772], [7501.05, 2050.2870000000003, 2050.2870000000003, 1980.2772], [15452.163, 15052.107, 15552.177, 14902.086000000001]]\n"
     ]
    }
   ],
   "source": [
    "#194\n",
    "data = [\n",
    "    [2000, 3050, 2050, 1980],\n",
    "    [7500, 2050, 2050, 1980],\n",
    "    [15450, 15050, 15550, 14900]\n",
    "]\n",
    "result = []\n",
    "for row in data:\n",
    "    sub = []\n",
    "    for col in row:\n",
    "        sub.append(col * 1.00014)\n",
    "    result.append(sub)\n",
    "print(result)"
   ]
  },
  {
   "cell_type": "code",
   "execution_count": 134,
   "id": "97856ebf",
   "metadata": {},
   "outputs": [
    {
     "name": "stdout",
     "output_type": "stream",
     "text": [
      "100\n",
      "190\n",
      "310\n"
     ]
    }
   ],
   "source": [
    "#195\n",
    "ohlc = [[\"open\", \"high\", \"low\", \"close\"],\n",
    "        [100, 110, 70, 100],\n",
    "        [200, 210, 180, 190],\n",
    "        [300, 310, 300, 310]]\n",
    "for row in ohlc[1:]:\n",
    "    print(row[3])"
   ]
  },
  {
   "cell_type": "code",
   "execution_count": 135,
   "id": "ef712b3c",
   "metadata": {},
   "outputs": [
    {
     "name": "stdout",
     "output_type": "stream",
     "text": [
      "190\n",
      "310\n"
     ]
    }
   ],
   "source": [
    "#196\n",
    "ohlc = [[\"open\", \"high\", \"low\", \"close\"],\n",
    "        [100, 110, 70, 100],\n",
    "        [200, 210, 180, 190],\n",
    "        [300, 310, 300, 310]]\n",
    "for row in ohlc[1:]:\n",
    "    if row[3] > 150:\n",
    "        print(row[3])"
   ]
  },
  {
   "cell_type": "code",
   "execution_count": 136,
   "id": "9cbaf1cd",
   "metadata": {},
   "outputs": [
    {
     "name": "stdout",
     "output_type": "stream",
     "text": [
      "100\n",
      "310\n"
     ]
    }
   ],
   "source": [
    "#197\n",
    "ohlc = [[\"open\", \"high\", \"low\", \"close\"],\n",
    "        [100, 110, 70, 100],\n",
    "        [200, 210, 180, 190],\n",
    "        [300, 310, 300, 310]]\n",
    "for row in ohlc[1:]:\n",
    "    if row[3] >= row[0]:\n",
    "        print(row[3])"
   ]
  },
  {
   "cell_type": "code",
   "execution_count": 138,
   "id": "8792b703",
   "metadata": {},
   "outputs": [
    {
     "name": "stdout",
     "output_type": "stream",
     "text": [
      "[40, 30, 10]\n"
     ]
    }
   ],
   "source": [
    "#198\n",
    "ohlc = [[\"open\", \"high\", \"low\", \"close\"],\n",
    "        [100, 110, 70, 100],\n",
    "        [200, 210, 180, 190],\n",
    "        [300, 310, 300, 310]]\n",
    "volatility = []\n",
    "for row in ohlc[1:]:\n",
    "    volatility.append(row[1]- row[2])\n",
    "print(volatility)"
   ]
  },
  {
   "cell_type": "code",
   "execution_count": 139,
   "id": "34a84b6a",
   "metadata": {},
   "outputs": [
    {
     "name": "stdout",
     "output_type": "stream",
     "text": [
      "[10]\n"
     ]
    }
   ],
   "source": [
    "#199\n",
    "\n",
    "ohlc = [[\"open\", \"high\", \"low\", \"close\"],\n",
    "        [100, 110, 70, 100],\n",
    "        [200, 210, 180, 190],\n",
    "        [300, 310, 300, 310]]\n",
    "volatility = []\n",
    "for row in ohlc[1:]:\n",
    "    if row[3] > row[0]:\n",
    "        volatility.append(row[1]- row[2])       \n",
    "print(volatility)"
   ]
  },
  {
   "cell_type": "code",
   "execution_count": 145,
   "id": "a4a0a765",
   "metadata": {},
   "outputs": [
    {
     "name": "stdout",
     "output_type": "stream",
     "text": [
      "0\n"
     ]
    }
   ],
   "source": [
    "#200\n",
    "ohlc = [[\"open\", \"high\", \"low\", \"close\"],\n",
    "        [100, 110, 70, 100],\n",
    "        [200, 210, 180, 190],\n",
    "        [300, 310, 300, 310]]\n",
    "profit = 0\n",
    "for row in ohlc[1:]:\n",
    "    profit += (row[3] - row[0])\n",
    "print(profit)"
   ]
  },
  {
   "cell_type": "code",
   "execution_count": 148,
   "id": "bb6c5a29",
   "metadata": {},
   "outputs": [
    {
     "name": "stdout",
     "output_type": "stream",
     "text": [
      "비트코인\n"
     ]
    }
   ],
   "source": [
    "#201\n",
    "def print_coin():\n",
    "    print('비트코인')\n",
    "print_coin()"
   ]
  },
  {
   "cell_type": "code",
   "execution_count": 150,
   "id": "a4e51b7b",
   "metadata": {},
   "outputs": [
    {
     "name": "stdout",
     "output_type": "stream",
     "text": [
      "비트코인\n"
     ]
    }
   ],
   "source": [
    "#202\n",
    "print_coin()"
   ]
  },
  {
   "cell_type": "code",
   "execution_count": 151,
   "id": "05a4625e",
   "metadata": {},
   "outputs": [
    {
     "name": "stdout",
     "output_type": "stream",
     "text": [
      "비트코인\n",
      "비트코인\n",
      "비트코인\n",
      "비트코인\n",
      "비트코인\n",
      "비트코인\n",
      "비트코인\n",
      "비트코인\n",
      "비트코인\n",
      "비트코인\n",
      "비트코인\n",
      "비트코인\n",
      "비트코인\n",
      "비트코인\n",
      "비트코인\n",
      "비트코인\n",
      "비트코인\n",
      "비트코인\n",
      "비트코인\n",
      "비트코인\n",
      "비트코인\n",
      "비트코인\n",
      "비트코인\n",
      "비트코인\n",
      "비트코인\n",
      "비트코인\n",
      "비트코인\n",
      "비트코인\n",
      "비트코인\n",
      "비트코인\n",
      "비트코인\n",
      "비트코인\n",
      "비트코인\n",
      "비트코인\n",
      "비트코인\n",
      "비트코인\n",
      "비트코인\n",
      "비트코인\n",
      "비트코인\n",
      "비트코인\n",
      "비트코인\n",
      "비트코인\n",
      "비트코인\n",
      "비트코인\n",
      "비트코인\n",
      "비트코인\n",
      "비트코인\n",
      "비트코인\n",
      "비트코인\n",
      "비트코인\n",
      "비트코인\n",
      "비트코인\n",
      "비트코인\n",
      "비트코인\n",
      "비트코인\n",
      "비트코인\n",
      "비트코인\n",
      "비트코인\n",
      "비트코인\n",
      "비트코인\n",
      "비트코인\n",
      "비트코인\n",
      "비트코인\n",
      "비트코인\n",
      "비트코인\n",
      "비트코인\n",
      "비트코인\n",
      "비트코인\n",
      "비트코인\n",
      "비트코인\n",
      "비트코인\n",
      "비트코인\n",
      "비트코인\n",
      "비트코인\n",
      "비트코인\n",
      "비트코인\n",
      "비트코인\n",
      "비트코인\n",
      "비트코인\n",
      "비트코인\n",
      "비트코인\n",
      "비트코인\n",
      "비트코인\n",
      "비트코인\n",
      "비트코인\n",
      "비트코인\n",
      "비트코인\n",
      "비트코인\n",
      "비트코인\n",
      "비트코인\n",
      "비트코인\n",
      "비트코인\n",
      "비트코인\n",
      "비트코인\n",
      "비트코인\n",
      "비트코인\n",
      "비트코인\n",
      "비트코인\n",
      "비트코인\n",
      "비트코인\n",
      "비트코인\n"
     ]
    }
   ],
   "source": [
    "#203\n",
    "for i in range(101):\n",
    "    print_coin()"
   ]
  },
  {
   "cell_type": "code",
   "execution_count": 153,
   "id": "fb7af610",
   "metadata": {},
   "outputs": [
    {
     "name": "stdout",
     "output_type": "stream",
     "text": [
      "Hi\n"
     ]
    }
   ],
   "source": [
    "def hello():\n",
    "    print(\"Hi\")\n",
    "\n",
    "hello()\n"
   ]
  },
  {
   "cell_type": "code",
   "execution_count": 154,
   "id": "c35fbc6c",
   "metadata": {},
   "outputs": [
    {
     "name": "stdout",
     "output_type": "stream",
     "text": [
      "A\n",
      "B\n",
      "C\n",
      "A\n",
      "B\n"
     ]
    }
   ],
   "source": [
    "#206\n",
    "def message() :\n",
    "    print(\"A\")\n",
    "    print(\"B\")\n",
    "\n",
    "message()\n",
    "print(\"C\")\n",
    "message()"
   ]
  },
  {
   "cell_type": "code",
   "execution_count": 156,
   "id": "1acfeb69",
   "metadata": {},
   "outputs": [
    {
     "name": "stdout",
     "output_type": "stream",
     "text": [
      "A\n",
      "C\n",
      "B\n"
     ]
    }
   ],
   "source": [
    "#207\n",
    "print(\"A\")\n",
    "\n",
    "def message() :\n",
    "    print(\"B\")\n",
    "\n",
    "print(\"C\")\n",
    "message()"
   ]
  },
  {
   "cell_type": "code",
   "execution_count": 157,
   "id": "7df7a208",
   "metadata": {},
   "outputs": [
    {
     "name": "stdout",
     "output_type": "stream",
     "text": [
      "A\n",
      "C\n",
      "B\n",
      "E\n",
      "D\n"
     ]
    }
   ],
   "source": [
    "#208\n",
    "print(\"A\")\n",
    "def message1() :\n",
    "    print(\"B\")\n",
    "print(\"C\")\n",
    "def message2() :\n",
    "    print(\"D\")\n",
    "message1()\n",
    "print(\"E\")\n",
    "message2()"
   ]
  },
  {
   "cell_type": "code",
   "execution_count": 158,
   "id": "4e593a58",
   "metadata": {},
   "outputs": [
    {
     "name": "stdout",
     "output_type": "stream",
     "text": [
      "B\n",
      "A\n"
     ]
    }
   ],
   "source": [
    "#209\n",
    "def message1():\n",
    "    print(\"A\")\n",
    "\n",
    "def message2():\n",
    "    print(\"B\")\n",
    "    message1()\n",
    "\n",
    "message2()"
   ]
  },
  {
   "cell_type": "code",
   "execution_count": 159,
   "id": "bd31836d",
   "metadata": {},
   "outputs": [
    {
     "name": "stdout",
     "output_type": "stream",
     "text": [
      "B\n",
      "C\n",
      "B\n",
      "C\n",
      "B\n",
      "C\n",
      "A\n"
     ]
    }
   ],
   "source": [
    "#210\n",
    "def message1():\n",
    "    print(\"A\")\n",
    "\n",
    "def message2():\n",
    "    print(\"B\")\n",
    "\n",
    "def message3():\n",
    "    for i in range (3) :\n",
    "        message2()\n",
    "        print(\"C\")\n",
    "    message1()\n",
    "\n",
    "message3()"
   ]
  },
  {
   "cell_type": "code",
   "execution_count": 160,
   "id": "27a81781",
   "metadata": {},
   "outputs": [
    {
     "name": "stdout",
     "output_type": "stream",
     "text": [
      "안녕\n",
      "Hi\n"
     ]
    }
   ],
   "source": [
    "#211\n",
    "def 함수(문자열) :\n",
    "    print(문자열)\n",
    "\n",
    "함수(\"안녕\")\n",
    "함수(\"Hi\")"
   ]
  },
  {
   "cell_type": "code",
   "execution_count": 161,
   "id": "0d2b1641",
   "metadata": {},
   "outputs": [
    {
     "name": "stdout",
     "output_type": "stream",
     "text": [
      "7\n",
      "15\n"
     ]
    }
   ],
   "source": [
    "#212\n",
    "def 함수(a, b) :\n",
    "    print(a + b)\n",
    "\n",
    "함수(3, 4)\n",
    "함수(7, 8)"
   ]
  },
  {
   "cell_type": "code",
   "execution_count": 165,
   "id": "33cea079",
   "metadata": {},
   "outputs": [
    {
     "ename": "TypeError",
     "evalue": "함수() missing 1 required positional argument: '문자열'",
     "output_type": "error",
     "traceback": [
      "\u001b[0;31m---------------------------------------------------------------------------\u001b[0m",
      "\u001b[0;31mTypeError\u001b[0m                                 Traceback (most recent call last)",
      "Cell \u001b[0;32mIn[165], line 4\u001b[0m\n\u001b[1;32m      2\u001b[0m \u001b[38;5;28;01mdef\u001b[39;00m \u001b[38;5;21m함수\u001b[39m(문자열) :\n\u001b[1;32m      3\u001b[0m     \u001b[38;5;28mprint\u001b[39m(문자열)\n\u001b[0;32m----> 4\u001b[0m \u001b[43m함수\u001b[49m\u001b[43m(\u001b[49m\u001b[43m)\u001b[49m\n",
      "\u001b[0;31mTypeError\u001b[0m: 함수() missing 1 required positional argument: '문자열'"
     ]
    }
   ],
   "source": [
    "#213\n",
    "def 함수(문자열) :\n",
    "    print(문자열)\n",
    "함수()"
   ]
  },
  {
   "cell_type": "code",
   "execution_count": 166,
   "id": "494645ac",
   "metadata": {},
   "outputs": [
    {
     "ename": "TypeError",
     "evalue": "can only concatenate str (not \"int\") to str",
     "output_type": "error",
     "traceback": [
      "\u001b[0;31m---------------------------------------------------------------------------\u001b[0m",
      "\u001b[0;31mTypeError\u001b[0m                                 Traceback (most recent call last)",
      "Cell \u001b[0;32mIn[166], line 5\u001b[0m\n\u001b[1;32m      2\u001b[0m \u001b[38;5;28;01mdef\u001b[39;00m \u001b[38;5;21m함수\u001b[39m(a, b) :\n\u001b[1;32m      3\u001b[0m     \u001b[38;5;28mprint\u001b[39m(a \u001b[38;5;241m+\u001b[39m b)\n\u001b[0;32m----> 5\u001b[0m \u001b[43m함수\u001b[49m\u001b[43m(\u001b[49m\u001b[38;5;124;43m\"\u001b[39;49m\u001b[38;5;124;43m안녕\u001b[39;49m\u001b[38;5;124;43m\"\u001b[39;49m\u001b[43m,\u001b[49m\u001b[43m \u001b[49m\u001b[38;5;241;43m3\u001b[39;49m\u001b[43m)\u001b[49m\n",
      "Cell \u001b[0;32mIn[166], line 3\u001b[0m, in \u001b[0;36m함수\u001b[0;34m(a, b)\u001b[0m\n\u001b[1;32m      2\u001b[0m \u001b[38;5;28;01mdef\u001b[39;00m \u001b[38;5;21m함수\u001b[39m(a, b) :\n\u001b[0;32m----> 3\u001b[0m     \u001b[38;5;28mprint\u001b[39m(\u001b[43ma\u001b[49m\u001b[43m \u001b[49m\u001b[38;5;241;43m+\u001b[39;49m\u001b[43m \u001b[49m\u001b[43mb\u001b[49m)\n",
      "\u001b[0;31mTypeError\u001b[0m: can only concatenate str (not \"int\") to str"
     ]
    }
   ],
   "source": [
    "#214\n",
    "def 함수(a, b) :\n",
    "    print(a + b)\n",
    "\n",
    "함수(\"안녕\", 3)"
   ]
  },
  {
   "cell_type": "code",
   "execution_count": 168,
   "id": "4d59d92a",
   "metadata": {},
   "outputs": [
    {
     "name": "stdout",
     "output_type": "stream",
     "text": [
      "안녕:D\n"
     ]
    }
   ],
   "source": [
    "#215\n",
    "def print_with_smile(string):\n",
    "    print(string + ':D')\n",
    "print_with_smile('안녕')"
   ]
  },
  {
   "cell_type": "code",
   "execution_count": 169,
   "id": "761aef75",
   "metadata": {},
   "outputs": [
    {
     "name": "stdout",
     "output_type": "stream",
     "text": [
      "안녕 하세요:D\n"
     ]
    }
   ],
   "source": [
    "#216\n",
    "print_with_smile('안녕 하세요')"
   ]
  },
  {
   "cell_type": "code",
   "execution_count": 171,
   "id": "ef29d22c",
   "metadata": {},
   "outputs": [
    {
     "name": "stdout",
     "output_type": "stream",
     "text": [
      "상한가: 13000.0\n"
     ]
    }
   ],
   "source": [
    "#217\n",
    "def print_upper_price(price):\n",
    "    print('상한가:', price * 1.3)\n",
    "print_upper_price(10000)"
   ]
  },
  {
   "cell_type": "code",
   "execution_count": 173,
   "id": "f52e65e2",
   "metadata": {},
   "outputs": [
    {
     "name": "stdout",
     "output_type": "stream",
     "text": [
      "7\n"
     ]
    }
   ],
   "source": [
    "#218\n",
    "def print_sum(a, b):\n",
    "    print(a + b)\n",
    "print_sum(3, 4)"
   ]
  },
  {
   "cell_type": "code",
   "execution_count": 174,
   "id": "c935790b",
   "metadata": {},
   "outputs": [
    {
     "name": "stdout",
     "output_type": "stream",
     "text": [
      "3 + 4 = 7\n",
      "3 - 4 = -1\n",
      "3 * 4 = 12\n",
      "3 / 4 = 0.75\n"
     ]
    }
   ],
   "source": [
    "#219\n",
    "def print_arithmetic_operation(a, b):\n",
    "    print(a, '+', b, '=', a + b)\n",
    "    print(a, '-', b, '=', a - b)\n",
    "    print(a, '*', b, '=', a * b)\n",
    "    print(a, '/', b, '=', a / b)\n",
    "\n",
    "print_arithmetic_operation(3, 4)"
   ]
  },
  {
   "cell_type": "code",
   "execution_count": 176,
   "id": "14ca29a8",
   "metadata": {},
   "outputs": [
    {
     "name": "stdout",
     "output_type": "stream",
     "text": [
      "5\n"
     ]
    }
   ],
   "source": [
    "#220\n",
    "def print_max(a, b, c):\n",
    "    num_list = [a, b, c]\n",
    "    print(max(num_list))\n",
    "print_max(3, 4, 5)"
   ]
  },
  {
   "cell_type": "code",
   "execution_count": 177,
   "id": "cc18f8b2",
   "metadata": {},
   "outputs": [
    {
     "name": "stdout",
     "output_type": "stream",
     "text": [
      "nohtyp\n"
     ]
    }
   ],
   "source": [
    "#221\n",
    "def print_reverse(string):\n",
    "    print(string[::-1])\n",
    "print_reverse('python')"
   ]
  },
  {
   "cell_type": "code",
   "execution_count": 178,
   "id": "e5fa760c",
   "metadata": {},
   "outputs": [
    {
     "name": "stdout",
     "output_type": "stream",
     "text": [
      "40.8\n"
     ]
    }
   ],
   "source": [
    "#222\n",
    "def print_score(score_list):\n",
    "    print(sum(score_list)/len(score_list))\n",
    "print_score([12, 34, 23, 45, 90])"
   ]
  },
  {
   "cell_type": "code",
   "execution_count": 179,
   "id": "9d01b962",
   "metadata": {},
   "outputs": [
    {
     "name": "stdout",
     "output_type": "stream",
     "text": [
      "2\n",
      "10\n",
      "12\n"
     ]
    }
   ],
   "source": [
    "#223\n",
    "def print_even (num_list):\n",
    "    for num in num_list:\n",
    "        if num % 2 == 0:\n",
    "            print(num)\n",
    "print_even([1, 3, 2, 10, 12, 11, 15])"
   ]
  },
  {
   "cell_type": "code",
   "execution_count": 180,
   "id": "2f4276ea",
   "metadata": {},
   "outputs": [
    {
     "name": "stdout",
     "output_type": "stream",
     "text": [
      "이름\n",
      "나이\n",
      "성별\n"
     ]
    }
   ],
   "source": [
    "#224\n",
    "def print_keys(dic):\n",
    "    for key in dic.keys():\n",
    "        print(key)\n",
    "print_keys ({\"이름\":\"김말똥\", \"나이\":30, \"성별\":0})\n"
   ]
  },
  {
   "cell_type": "code",
   "execution_count": 181,
   "id": "74dffe1a",
   "metadata": {},
   "outputs": [
    {
     "name": "stdout",
     "output_type": "stream",
     "text": [
      "[100, 130, 100, 100]\n"
     ]
    }
   ],
   "source": [
    "#225\n",
    "my_dict = {\"10/26\" : [100, 130, 100, 100],\n",
    "           \"10/27\" : [10, 12, 10, 11]}\n",
    "def print_value_by_key(my_list, my_key):\n",
    "    print(my_list[my_key])\n",
    "print_value_by_key(my_dict, \"10/26\")"
   ]
  },
  {
   "cell_type": "code",
   "execution_count": 186,
   "id": "aa16e056",
   "metadata": {},
   "outputs": [
    {
     "name": "stdout",
     "output_type": "stream",
     "text": [
      "아이엠어보\n",
      "이유알어걸\n",
      "\n"
     ]
    }
   ],
   "source": [
    "#226\n",
    "def print_5(string):\n",
    "    chunk_num = int(len(string) / 5)\n",
    "    for x in range(chunk_num + 1):\n",
    "        print(string[x * 5: x * 5 + 5])\n",
    "print_5('아이엠어보이유알어걸')"
   ]
  },
  {
   "cell_type": "code",
   "execution_count": 188,
   "id": "ca8d00cb",
   "metadata": {},
   "outputs": [
    {
     "name": "stdout",
     "output_type": "stream",
     "text": [
      "아이엠\n",
      "어보이\n",
      "유알어\n",
      "걸\n"
     ]
    }
   ],
   "source": [
    "#227\n",
    "#226\n",
    "def print_5(string):\n",
    "    chunk_num = int(len(string) / 3)\n",
    "    for x in range(chunk_num + 1):\n",
    "        print(string[x * 3: x * 3 + 3])\n",
    "print_5('아이엠어보이유알어걸')"
   ]
  },
  {
   "cell_type": "code",
   "execution_count": 191,
   "id": "838a5222",
   "metadata": {},
   "outputs": [
    {
     "name": "stdout",
     "output_type": "stream",
     "text": [
      "1000000\n"
     ]
    }
   ],
   "source": [
    "#228\n",
    "def calc_monthly_salary(annual_salary):\n",
    "    print(annual_salary//12)\n",
    "calc_monthly_salary(12000000)"
   ]
  },
  {
   "cell_type": "code",
   "execution_count": 192,
   "id": "eaac1bd3",
   "metadata": {},
   "outputs": [
    {
     "name": "stdout",
     "output_type": "stream",
     "text": [
      "왼쪽: 100\n",
      "오른쪽: 200\n"
     ]
    }
   ],
   "source": [
    "#229\n",
    "def my_print (a, b) :\n",
    "    print(\"왼쪽:\", a)\n",
    "    print(\"오른쪽:\", b)\n",
    "\n",
    "my_print(a=100, b=200)"
   ]
  },
  {
   "cell_type": "code",
   "execution_count": 1,
   "id": "fe587e5b",
   "metadata": {},
   "outputs": [
    {
     "name": "stdout",
     "output_type": "stream",
     "text": [
      "왼쪽: 200\n",
      "오른쪽: 100\n"
     ]
    }
   ],
   "source": [
    "#223\n",
    "def my_print (a, b) :\n",
    "    print(\"왼쪽:\", a)\n",
    "    print(\"오른쪽:\", b)\n",
    "\n",
    "my_print(b=100, a=200)"
   ]
  },
  {
   "cell_type": "code",
   "execution_count": 6,
   "id": "fe12d97c",
   "metadata": {},
   "outputs": [
    {
     "name": "stdout",
     "output_type": "stream",
     "text": [
      "0\n"
     ]
    }
   ],
   "source": [
    "#231\n",
    "def n_plus_1 (n) :\n",
    "    result = n + 1\n",
    "\n",
    "n_plus_1(3)\n",
    "print (result)"
   ]
  },
  {
   "cell_type": "code",
   "execution_count": 10,
   "id": "69c1f844",
   "metadata": {},
   "outputs": [
    {
     "data": {
      "text/plain": [
       "'www.naver.com'"
      ]
     },
     "execution_count": 10,
     "metadata": {},
     "output_type": "execute_result"
    }
   ],
   "source": [
    "#232\n",
    "def make_url(string):\n",
    "    url = 'www.' + string + '.com'\n",
    "    return url\n",
    "make_url('naver')"
   ]
  },
  {
   "cell_type": "code",
   "execution_count": 17,
   "id": "6e09fa40",
   "metadata": {},
   "outputs": [
    {
     "name": "stdout",
     "output_type": "stream",
     "text": [
      "['a', 'b', 'c', 'd']\n"
     ]
    }
   ],
   "source": [
    "#233\n",
    "def make_list(string):\n",
    "    col = len(string)\n",
    "    list = []\n",
    "    for i in range(col):\n",
    "        list.append(string[i])\n",
    "    print(list)\n",
    "make_list('abcd')"
   ]
  },
  {
   "cell_type": "code",
   "execution_count": 19,
   "id": "9dc43edb",
   "metadata": {},
   "outputs": [
    {
     "data": {
      "text/plain": [
       "['a', 'b', 'c', 'd']"
      ]
     },
     "execution_count": 19,
     "metadata": {},
     "output_type": "execute_result"
    }
   ],
   "source": [
    "#233-2\n",
    "def make_list (string) :\n",
    "    return list(string)\n",
    "\n",
    "make_list('abcd')\n"
   ]
  },
  {
   "cell_type": "code",
   "execution_count": 20,
   "id": "f1521315",
   "metadata": {},
   "outputs": [
    {
     "data": {
      "text/plain": [
       "[4, 6, 8]"
      ]
     },
     "execution_count": 20,
     "metadata": {},
     "output_type": "execute_result"
    }
   ],
   "source": [
    "#234\n",
    "def pickup_even(list):\n",
    "    result = []\n",
    "    for i in list:\n",
    "        if i % 2 == 0:\n",
    "            result.append(i)\n",
    "    return result\n",
    "\n",
    "pickup_even([3, 4, 5, 6, 7, 8])"
   ]
  },
  {
   "cell_type": "code",
   "execution_count": 21,
   "id": "38eba6d8",
   "metadata": {},
   "outputs": [
    {
     "data": {
      "text/plain": [
       "1234567"
      ]
     },
     "execution_count": 21,
     "metadata": {},
     "output_type": "execute_result"
    }
   ],
   "source": [
    "#235\n",
    "def convert_int(string):\n",
    "    return int(string.replace(',', ''))\n",
    "\n",
    "convert_int(\"1,234,567\")"
   ]
  },
  {
   "cell_type": "code",
   "execution_count": 22,
   "id": "412e33a5",
   "metadata": {},
   "outputs": [
    {
     "name": "stdout",
     "output_type": "stream",
     "text": [
      "22\n"
     ]
    }
   ],
   "source": [
    "#236\n",
    "def 함수(num) :\n",
    "    return num + 4\n",
    "\n",
    "a = 함수(10)\n",
    "b = 함수(a)\n",
    "c = 함수(b)\n",
    "print(c)\n",
    "\n"
   ]
  },
  {
   "cell_type": "code",
   "execution_count": 23,
   "id": "801bc249",
   "metadata": {},
   "outputs": [
    {
     "name": "stdout",
     "output_type": "stream",
     "text": [
      "22\n"
     ]
    }
   ],
   "source": [
    "#237\n",
    "def 함수(num) :\n",
    "    return num + 4\n",
    "\n",
    "c = 함수(함수(함수(10)))\n",
    "print(c)"
   ]
  },
  {
   "cell_type": "code",
   "execution_count": 24,
   "id": "19fca2f2",
   "metadata": {},
   "outputs": [
    {
     "name": "stdout",
     "output_type": "stream",
     "text": [
      "140\n"
     ]
    }
   ],
   "source": [
    "#238\n",
    "def 함수1(num) :\n",
    "    return num + 4\n",
    "\n",
    "def 함수2(num) :\n",
    "    return num * 10\n",
    "\n",
    "a = 함수1(10)\n",
    "c = 함수2(a)\n",
    "print(c)"
   ]
  },
  {
   "cell_type": "code",
   "execution_count": 25,
   "id": "b8fa39e6",
   "metadata": {},
   "outputs": [
    {
     "name": "stdout",
     "output_type": "stream",
     "text": [
      "16\n"
     ]
    }
   ],
   "source": [
    "#239\n",
    "def 함수1(num) :\n",
    "    return num + 4\n",
    "\n",
    "def 함수2(num) :\n",
    "    num = num + 2\n",
    "    return 함수1(num)\n",
    "\n",
    "c = 함수2(10)\n",
    "print(c)"
   ]
  },
  {
   "cell_type": "code",
   "execution_count": 26,
   "id": "921767b2",
   "metadata": {},
   "outputs": [
    {
     "name": "stdout",
     "output_type": "stream",
     "text": [
      "28\n"
     ]
    }
   ],
   "source": [
    "#240\n",
    "def 함수0(num) :\n",
    "    return num * 2\n",
    "\n",
    "def 함수1(num) :\n",
    "    return 함수0(num + 2)\n",
    "\n",
    "def 함수2(num) :\n",
    "    num = num + 10\n",
    "    return 함수1(num)\n",
    "\n",
    "c = 함수2(2)\n",
    "print(c)\n"
   ]
  },
  {
   "cell_type": "code",
   "execution_count": 27,
   "id": "3c0555c2",
   "metadata": {},
   "outputs": [
    {
     "name": "stdout",
     "output_type": "stream",
     "text": [
      "2023-12-24 09:20:08.511785\n"
     ]
    }
   ],
   "source": [
    "#241\n",
    "import datetime\n",
    "\n",
    "# 현재 시간을 가져옵니다.\n",
    "current_time = datetime.datetime.now()\n",
    "\n",
    "# 현재 시간을 출력합니다.\n",
    "print(current_time)"
   ]
  },
  {
   "cell_type": "code",
   "execution_count": 28,
   "id": "c476e77c",
   "metadata": {},
   "outputs": [
    {
     "name": "stdout",
     "output_type": "stream",
     "text": [
      "2023-12-24 09:21:25\n"
     ]
    }
   ],
   "source": [
    "from datetime import datetime\n",
    "\n",
    "# 현재 날짜와 시간을 얻기\n",
    "now = datetime.now()\n",
    "\n",
    "# 형식화된 문자열로 출력\n",
    "print(now.strftime(\"%Y-%m-%d %H:%M:%S\"))\n"
   ]
  },
  {
   "cell_type": "code",
   "execution_count": 29,
   "id": "90b0b76b",
   "metadata": {},
   "outputs": [
    {
     "name": "stdout",
     "output_type": "stream",
     "text": [
      "2023-12-24 09:22:57.883145\n"
     ]
    }
   ],
   "source": [
    "import datetime\n",
    "\n",
    "now = datetime.datetime.now()\n",
    "print(now)"
   ]
  },
  {
   "cell_type": "code",
   "execution_count": 30,
   "id": "5282be4a",
   "metadata": {},
   "outputs": [
    {
     "name": "stdout",
     "output_type": "stream",
     "text": [
      "2023-12-24 09:24:03.403343 <class 'datetime.datetime'>\n"
     ]
    }
   ],
   "source": [
    "#242\n",
    "import datetime\n",
    "now = datetime.datetime.now()\n",
    "print(now, type(now))"
   ]
  },
  {
   "cell_type": "code",
   "execution_count": 32,
   "id": "779196f2",
   "metadata": {},
   "outputs": [
    {
     "name": "stdout",
     "output_type": "stream",
     "text": [
      "2023-12-19 09:27:58.943264\n",
      "2023-12-20 09:27:58.943264\n",
      "2023-12-21 09:27:58.943264\n",
      "2023-12-22 09:27:58.943264\n",
      "2023-12-23 09:27:58.943264\n"
     ]
    }
   ],
   "source": [
    "#243\n",
    "import datetime\n",
    "now = datetime.datetime.now()\n",
    "for day in range(5, 0, -1):\n",
    "    delta = datetime.timedelta(days=day)\n",
    "    date = now - delta\n",
    "    print(date)"
   ]
  },
  {
   "cell_type": "code",
   "execution_count": 35,
   "id": "250c88c9",
   "metadata": {},
   "outputs": [
    {
     "name": "stdout",
     "output_type": "stream",
     "text": [
      "09:29:47\n"
     ]
    }
   ],
   "source": [
    "#244\n",
    "import datetime\n",
    "now = datetime.datetime.now()\n",
    "print(now.strftime('%H:%M:%S'))"
   ]
  },
  {
   "cell_type": "code",
   "execution_count": 37,
   "id": "e3be224b",
   "metadata": {},
   "outputs": [
    {
     "name": "stdout",
     "output_type": "stream",
     "text": [
      "2023-12-24 00:00:00\n"
     ]
    }
   ],
   "source": [
    "#245\n",
    "import datetime\n",
    "day = '2023-12-24'\n",
    "day_corr = datetime.datetime.strptime(day, '%Y-%m-%d')\n",
    "print(day_corr)"
   ]
  },
  {
   "cell_type": "code",
   "execution_count": 39,
   "id": "8186cc62",
   "metadata": {},
   "outputs": [
    {
     "name": "stdout",
     "output_type": "stream",
     "text": [
      "2023-12-24 09:39:34\n"
     ]
    }
   ],
   "source": [
    "#246\n",
    "import time\n",
    "import datetime\n",
    "\n",
    "now = datetime.datetime.now()\n",
    "print(now.strftime('%Y-%m-%d %H:%M:%S'))\n",
    "\n",
    "time.sleep(1)"
   ]
  },
  {
   "cell_type": "code",
   "execution_count": null,
   "id": "0e6dbf9e",
   "metadata": {},
   "outputs": [
    {
     "name": "stdout",
     "output_type": "stream",
     "text": [
      "2023-12-24 09:43:35.462148\n",
      "2023-12-24 09:43:36.467471\n",
      "2023-12-24 09:43:37.473521\n",
      "2023-12-24 09:43:38.479145\n",
      "2023-12-24 09:43:39.482268\n",
      "2023-12-24 09:43:40.483668\n",
      "2023-12-24 09:43:41.488853\n",
      "2023-12-24 09:43:42.494147\n",
      "2023-12-24 09:43:43.496311\n",
      "2023-12-24 09:43:44.496945\n",
      "2023-12-24 09:43:45.502536\n",
      "2023-12-24 09:43:46.512171\n",
      "2023-12-24 09:43:47.519319\n",
      "2023-12-24 09:43:48.523325\n",
      "2023-12-24 09:43:49.523631\n",
      "2023-12-24 09:43:50.529239\n",
      "2023-12-24 09:43:51.529746\n",
      "2023-12-24 09:43:52.530432\n",
      "2023-12-24 09:43:53.535774\n",
      "2023-12-24 09:43:54.540455\n",
      "2023-12-24 09:43:55.547719\n",
      "2023-12-24 09:43:56.551705\n",
      "2023-12-24 09:43:57.556881\n",
      "2023-12-24 09:43:58.564069\n",
      "2023-12-24 09:43:59.565488\n",
      "2023-12-24 09:44:00.569573\n",
      "2023-12-24 09:44:01.574922\n",
      "2023-12-24 09:44:02.580258\n",
      "2023-12-24 09:44:03.583945\n",
      "2023-12-24 09:44:04.588358\n",
      "2023-12-24 09:44:05.595344\n",
      "2023-12-24 09:44:06.600584\n",
      "2023-12-24 09:44:07.605364\n",
      "2023-12-24 09:44:08.608133\n",
      "2023-12-24 09:44:09.612785\n",
      "2023-12-24 09:44:10.618081\n",
      "2023-12-24 09:44:11.618713\n",
      "2023-12-24 09:44:12.620518\n",
      "2023-12-24 09:44:13.621011\n",
      "2023-12-24 09:44:14.626225\n",
      "2023-12-24 09:44:15.628260\n",
      "2023-12-24 09:44:16.633486\n",
      "2023-12-24 09:44:17.642117\n",
      "2023-12-24 09:44:18.647428\n",
      "2023-12-24 09:44:19.649344\n",
      "2023-12-24 09:44:20.654596\n",
      "2023-12-24 09:44:21.656710\n",
      "2023-12-24 09:44:22.658101\n",
      "2023-12-24 09:44:23.660842\n",
      "2023-12-24 09:44:24.665785\n",
      "2023-12-24 09:44:25.671124\n",
      "2023-12-24 09:44:26.672568\n",
      "2023-12-24 09:44:27.674739\n",
      "2023-12-24 09:44:28.679832\n",
      "2023-12-24 09:44:29.685458\n",
      "2023-12-24 09:44:30.691115\n",
      "2023-12-24 09:44:31.693523\n",
      "2023-12-24 09:44:32.701878\n",
      "2023-12-24 09:44:33.706220\n",
      "2023-12-24 09:44:34.707737\n",
      "2023-12-24 09:44:35.713165\n",
      "2023-12-24 09:44:36.718329\n",
      "2023-12-24 09:44:37.726652\n",
      "2023-12-24 09:44:38.728268\n",
      "2023-12-24 09:44:39.733588\n",
      "2023-12-24 09:44:40.737671\n",
      "2023-12-24 09:44:41.743266\n",
      "2023-12-24 09:44:42.748589\n",
      "2023-12-24 09:44:43.750402\n",
      "2023-12-24 09:44:44.754937\n",
      "2023-12-24 09:44:45.760173\n",
      "2023-12-24 09:44:46.764732\n",
      "2023-12-24 09:44:47.769722\n",
      "2023-12-24 09:44:48.770474\n",
      "2023-12-24 09:44:49.775413\n",
      "2023-12-24 09:44:50.780666\n",
      "2023-12-24 09:44:51.786595\n",
      "2023-12-24 09:44:52.792405\n",
      "2023-12-24 09:44:53.798061\n",
      "2023-12-24 09:44:54.800012\n",
      "2023-12-24 09:44:55.803363\n",
      "2023-12-24 09:44:56.807407\n",
      "2023-12-24 09:44:57.812585\n",
      "2023-12-24 09:44:58.817811\n",
      "2023-12-24 09:44:59.823111\n",
      "2023-12-24 09:45:00.823922\n",
      "2023-12-24 09:45:01.829087\n",
      "2023-12-24 09:45:02.834491\n",
      "2023-12-24 09:45:03.838187\n",
      "2023-12-24 09:45:04.843518\n",
      "2023-12-24 09:45:05.844027\n",
      "2023-12-24 09:45:06.848726\n",
      "2023-12-24 09:45:07.852368\n",
      "2023-12-24 09:45:08.856947\n",
      "2023-12-24 09:45:09.859910\n",
      "2023-12-24 09:45:10.865119\n",
      "2023-12-24 09:45:11.865429\n",
      "2023-12-24 09:45:12.869904\n",
      "2023-12-24 09:45:13.870322\n",
      "2023-12-24 09:45:14.874311\n",
      "2023-12-24 09:45:15.874572\n",
      "2023-12-24 09:45:16.880314\n",
      "2023-12-24 09:45:17.883277\n",
      "2023-12-24 09:45:18.889367\n",
      "2023-12-24 09:45:19.890852\n",
      "2023-12-24 09:45:20.892408\n",
      "2023-12-24 09:45:21.904820\n",
      "2023-12-24 09:45:22.911460\n",
      "2023-12-24 09:45:23.916474\n",
      "2023-12-24 09:45:24.921191\n",
      "2023-12-24 09:45:25.922342\n",
      "2023-12-24 09:45:26.929230\n",
      "2023-12-24 09:45:27.934523\n",
      "2023-12-24 09:45:28.940514\n",
      "2023-12-24 09:45:29.945060\n",
      "2023-12-24 09:45:30.950384\n",
      "2023-12-24 09:45:31.954530\n",
      "2023-12-24 09:45:32.959882\n",
      "2023-12-24 09:45:33.969055\n",
      "2023-12-24 09:45:34.981653\n",
      "2023-12-24 09:45:35.982332\n",
      "2023-12-24 09:45:36.987691\n",
      "2023-12-24 09:45:37.992991\n",
      "2023-12-24 09:45:38.993960\n",
      "2023-12-24 09:45:39.995172\n",
      "2023-12-24 09:45:41.000467\n",
      "2023-12-24 09:45:42.003189\n",
      "2023-12-24 09:45:43.008526\n",
      "2023-12-24 09:45:44.009988\n",
      "2023-12-24 09:45:45.018110\n",
      "2023-12-24 09:45:46.025621\n",
      "2023-12-24 09:45:47.029382\n",
      "2023-12-24 09:45:48.030537\n",
      "2023-12-24 09:45:49.037646\n",
      "2023-12-24 09:45:50.046989\n",
      "2023-12-24 09:45:51.052274\n",
      "2023-12-24 09:45:52.059408\n",
      "2023-12-24 09:45:53.071041\n",
      "2023-12-24 09:45:54.076132\n",
      "2023-12-24 09:45:55.081965\n",
      "2023-12-24 09:45:56.085597\n",
      "2023-12-24 09:45:57.091610\n",
      "2023-12-24 09:45:58.096977\n",
      "2023-12-24 09:45:59.110564\n",
      "2023-12-24 09:46:00.112685\n",
      "2023-12-24 09:46:01.115817\n",
      "2023-12-24 09:46:02.121009\n",
      "2023-12-24 09:46:03.127514\n",
      "2023-12-24 09:46:04.136520\n",
      "2023-12-24 09:46:05.142125\n",
      "2023-12-24 09:46:06.146837\n",
      "2023-12-24 09:46:07.152941\n",
      "2023-12-24 09:46:08.156816\n",
      "2023-12-24 09:46:09.161526\n",
      "2023-12-24 09:46:10.165333\n",
      "2023-12-24 09:46:11.178583\n",
      "2023-12-24 09:46:12.183468\n",
      "2023-12-24 09:46:13.190092\n",
      "2023-12-24 09:46:14.196204\n",
      "2023-12-24 09:46:15.201232\n",
      "2023-12-24 09:46:16.207637\n",
      "2023-12-24 09:46:17.209438\n",
      "2023-12-24 09:46:18.214204\n",
      "2023-12-24 09:46:19.219758\n",
      "2023-12-24 09:46:20.220279\n",
      "2023-12-24 09:46:21.225880\n",
      "2023-12-24 09:46:22.230556\n",
      "2023-12-24 09:46:23.236380\n",
      "2023-12-24 09:46:24.241770\n",
      "2023-12-24 09:46:25.247647\n",
      "2023-12-24 09:46:26.259312\n",
      "2023-12-24 09:46:27.266409\n",
      "2023-12-24 09:46:28.273898\n",
      "2023-12-24 09:46:29.279166\n",
      "2023-12-24 09:46:30.281494\n",
      "2023-12-24 09:46:31.286857\n",
      "2023-12-24 09:46:32.294130\n",
      "2023-12-24 09:46:33.299976\n",
      "2023-12-24 09:46:34.300571\n",
      "2023-12-24 09:46:35.301703\n",
      "2023-12-24 09:46:36.306708\n",
      "2023-12-24 09:46:37.309835\n",
      "2023-12-24 09:46:38.314027\n",
      "2023-12-24 09:46:39.319838\n",
      "2023-12-24 09:46:40.326080\n",
      "2023-12-24 09:46:41.330694\n",
      "2023-12-24 09:46:42.334606\n",
      "2023-12-24 09:46:43.338279\n",
      "2023-12-24 09:46:44.342265\n",
      "2023-12-24 09:46:45.344135\n",
      "2023-12-24 09:46:46.349527\n",
      "2023-12-24 09:46:47.350854\n",
      "2023-12-24 09:46:48.361295\n",
      "2023-12-24 09:46:49.363152\n",
      "2023-12-24 09:46:50.364736\n",
      "2023-12-24 09:46:51.368792\n",
      "2023-12-24 09:46:52.371315\n",
      "2023-12-24 09:46:53.374742\n",
      "2023-12-24 09:46:54.379601\n",
      "2023-12-24 09:46:55.382744\n",
      "2023-12-24 09:46:56.388467\n",
      "2023-12-24 09:46:57.394424\n",
      "2023-12-24 09:46:58.398137\n",
      "2023-12-24 09:46:59.401126\n",
      "2023-12-24 09:47:00.416032\n",
      "2023-12-24 09:47:01.419388\n",
      "2023-12-24 09:47:02.427431\n",
      "2023-12-24 09:47:03.433167\n",
      "2023-12-24 09:47:04.437863\n",
      "2023-12-24 09:47:05.440688\n",
      "2023-12-24 09:47:06.446156\n",
      "2023-12-24 09:47:07.447080\n",
      "2023-12-24 09:47:08.457331\n",
      "2023-12-24 09:47:09.461976\n",
      "2023-12-24 09:47:10.466583\n",
      "2023-12-24 09:47:11.471944\n",
      "2023-12-24 09:47:12.477469\n",
      "2023-12-24 09:47:13.481133\n",
      "2023-12-24 09:47:14.483176\n",
      "2023-12-24 09:47:15.487444\n",
      "2023-12-24 09:47:16.495216\n",
      "2023-12-24 09:47:17.502641\n",
      "2023-12-24 09:47:18.508530\n",
      "2023-12-24 09:47:19.514415\n",
      "2023-12-24 09:47:20.526930\n",
      "2023-12-24 09:47:21.534092\n",
      "2023-12-24 09:47:22.537845\n",
      "2023-12-24 09:47:23.550352\n",
      "2023-12-24 09:47:24.555999\n",
      "2023-12-24 09:47:25.561641\n",
      "2023-12-24 09:47:26.567827\n",
      "2023-12-24 09:47:27.571059\n",
      "2023-12-24 09:47:28.583981\n",
      "2023-12-24 09:47:29.588880\n",
      "2023-12-24 09:47:30.594363\n",
      "2023-12-24 09:47:31.600549\n",
      "2023-12-24 09:47:32.610503\n",
      "2023-12-24 09:47:33.617169\n",
      "2023-12-24 09:47:34.621722\n",
      "2023-12-24 09:47:35.626332\n",
      "2023-12-24 09:47:36.633123\n",
      "2023-12-24 09:47:37.638953\n",
      "2023-12-24 09:47:38.642397\n",
      "2023-12-24 09:47:39.647355\n",
      "2023-12-24 09:47:40.654160\n",
      "2023-12-24 09:47:41.659846\n",
      "2023-12-24 09:47:42.665160\n",
      "2023-12-24 09:47:43.670765\n",
      "2023-12-24 09:47:44.674940\n",
      "2023-12-24 09:47:45.679242\n",
      "2023-12-24 09:47:46.684818\n",
      "2023-12-24 09:47:47.691539\n",
      "2023-12-24 09:47:48.695552\n",
      "2023-12-24 09:47:49.698317\n",
      "2023-12-24 09:47:50.703444\n",
      "2023-12-24 09:47:51.708895\n",
      "2023-12-24 09:47:52.714163\n",
      "2023-12-24 09:47:53.719518\n",
      "2023-12-24 09:47:54.729917\n",
      "2023-12-24 09:47:55.738609\n",
      "2023-12-24 09:47:56.743566\n",
      "2023-12-24 09:47:57.747322\n",
      "2023-12-24 09:47:58.752928\n",
      "2023-12-24 09:47:59.756864\n",
      "2023-12-24 09:48:00.764600\n",
      "2023-12-24 09:48:01.767811\n",
      "2023-12-24 09:48:02.771561\n",
      "2023-12-24 09:48:03.776001\n",
      "2023-12-24 09:48:04.782604\n",
      "2023-12-24 09:48:05.788578\n",
      "2023-12-24 09:48:06.791167\n",
      "2023-12-24 09:48:07.796329\n",
      "2023-12-24 09:48:08.798430\n",
      "2023-12-24 09:48:09.805016\n",
      "2023-12-24 09:48:10.806368\n",
      "2023-12-24 09:48:11.811703\n",
      "2023-12-24 09:48:12.816397\n",
      "2023-12-24 09:48:13.822966\n",
      "2023-12-24 09:48:14.828328\n",
      "2023-12-24 09:48:15.832869\n",
      "2023-12-24 09:48:16.835448\n",
      "2023-12-24 09:48:17.839668\n",
      "2023-12-24 09:48:18.845361\n",
      "2023-12-24 09:48:19.847550\n",
      "2023-12-24 09:48:20.852760\n",
      "2023-12-24 09:48:21.856078\n",
      "2023-12-24 09:48:22.864023\n",
      "2023-12-24 09:48:23.873254\n",
      "2023-12-24 09:48:24.875916\n",
      "2023-12-24 09:48:25.880794\n",
      "2023-12-24 09:48:26.886079\n",
      "2023-12-24 09:48:27.891959\n",
      "2023-12-24 09:48:28.897294\n",
      "2023-12-24 09:48:29.902723\n",
      "2023-12-24 09:48:30.909129\n",
      "2023-12-24 09:48:31.912633\n",
      "2023-12-24 09:48:32.915078\n",
      "2023-12-24 09:48:33.920206\n",
      "2023-12-24 09:48:34.925530\n",
      "2023-12-24 09:48:35.925842\n",
      "2023-12-24 09:48:36.928111\n",
      "2023-12-24 09:48:37.932917\n",
      "2023-12-24 09:48:38.938220\n",
      "2023-12-24 09:48:39.941885\n",
      "2023-12-24 09:48:40.947185\n",
      "2023-12-24 09:48:41.952507\n",
      "2023-12-24 09:48:42.955516\n",
      "2023-12-24 09:48:43.961147\n",
      "2023-12-24 09:48:44.966432\n",
      "2023-12-24 09:48:45.968858\n",
      "2023-12-24 09:48:46.971145\n",
      "2023-12-24 09:48:47.985298\n",
      "2023-12-24 09:48:48.990617\n",
      "2023-12-24 09:48:49.995554\n",
      "2023-12-24 09:48:50.998589\n",
      "2023-12-24 09:48:51.999774\n",
      "2023-12-24 09:48:53.001807\n",
      "2023-12-24 09:48:54.006851\n",
      "2023-12-24 09:48:55.011627\n",
      "2023-12-24 09:48:56.016965\n",
      "2023-12-24 09:48:57.023499\n",
      "2023-12-24 09:48:58.028241\n",
      "2023-12-24 09:48:59.030588\n",
      "2023-12-24 09:49:00.035150\n",
      "2023-12-24 09:49:01.038909\n",
      "2023-12-24 09:49:02.044019\n",
      "2023-12-24 09:49:03.049694\n",
      "2023-12-24 09:49:04.056421\n",
      "2023-12-24 09:49:05.062414\n",
      "2023-12-24 09:49:06.067499\n",
      "2023-12-24 09:49:07.072662\n",
      "2023-12-24 09:49:08.074084\n",
      "2023-12-24 09:49:09.078667\n",
      "2023-12-24 09:49:10.080053\n",
      "2023-12-24 09:49:11.084139\n",
      "2023-12-24 09:49:12.089090\n",
      "2023-12-24 09:49:13.094289\n",
      "2023-12-24 09:49:14.097513\n",
      "2023-12-24 09:49:15.100944\n",
      "2023-12-24 09:49:16.102434\n",
      "2023-12-24 09:49:17.108850\n",
      "2023-12-24 09:49:18.113986\n",
      "2023-12-24 09:49:19.118053\n",
      "2023-12-24 09:49:20.123310\n",
      "2023-12-24 09:49:21.127066\n",
      "2023-12-24 09:49:22.129860\n",
      "2023-12-24 09:49:23.135315\n",
      "2023-12-24 09:49:24.146231\n",
      "2023-12-24 09:49:25.153850\n",
      "2023-12-24 09:49:26.160621\n",
      "2023-12-24 09:49:27.165952\n",
      "2023-12-24 09:49:28.173602\n",
      "2023-12-24 09:49:29.181838\n",
      "2023-12-24 09:49:30.187261\n",
      "2023-12-24 09:49:31.192630\n",
      "2023-12-24 09:49:32.196808\n",
      "2023-12-24 09:49:33.200246\n",
      "2023-12-24 09:49:34.205918\n",
      "2023-12-24 09:49:35.208298\n",
      "2023-12-24 09:49:36.218178\n",
      "2023-12-24 09:49:37.222699\n",
      "2023-12-24 09:49:38.230495\n",
      "2023-12-24 09:49:39.235468\n",
      "2023-12-24 09:49:40.245053\n",
      "2023-12-24 09:49:41.256026\n",
      "2023-12-24 09:49:42.261084\n",
      "2023-12-24 09:49:43.267417\n",
      "2023-12-24 09:49:44.271503\n",
      "2023-12-24 09:49:45.275934\n",
      "2023-12-24 09:49:46.281694\n",
      "2023-12-24 09:49:47.287221\n",
      "2023-12-24 09:49:48.292145\n",
      "2023-12-24 09:49:49.298649\n",
      "2023-12-24 09:49:50.300620\n",
      "2023-12-24 09:49:51.302301\n",
      "2023-12-24 09:49:52.304617\n",
      "2023-12-24 09:49:53.311660\n",
      "2023-12-24 09:49:54.315455\n",
      "2023-12-24 09:49:55.316471\n",
      "2023-12-24 09:49:56.324227\n",
      "2023-12-24 09:49:57.328966\n",
      "2023-12-24 09:49:58.333930\n",
      "2023-12-24 09:49:59.339423\n",
      "2023-12-24 09:50:00.344757\n",
      "2023-12-24 09:50:01.349945\n",
      "2023-12-24 09:50:02.358854\n",
      "2023-12-24 09:50:03.361533\n",
      "2023-12-24 09:50:04.366295\n",
      "2023-12-24 09:50:05.370948\n",
      "2023-12-24 09:50:06.376830\n",
      "2023-12-24 09:50:07.382538\n",
      "2023-12-24 09:50:08.388010\n",
      "2023-12-24 09:50:09.393266\n",
      "2023-12-24 09:50:10.394800\n",
      "2023-12-24 09:50:11.405889\n",
      "2023-12-24 09:50:12.410730\n",
      "2023-12-24 09:50:13.416011\n",
      "2023-12-24 09:50:14.421023\n",
      "2023-12-24 09:50:15.424784\n",
      "2023-12-24 09:50:16.429949\n",
      "2023-12-24 09:50:17.435240\n",
      "2023-12-24 09:50:18.440432\n",
      "2023-12-24 09:50:19.445488\n",
      "2023-12-24 09:50:20.449994\n",
      "2023-12-24 09:50:21.455233\n",
      "2023-12-24 09:50:22.460370\n",
      "2023-12-24 09:50:23.465488\n",
      "2023-12-24 09:50:24.470303\n",
      "2023-12-24 09:50:25.470662\n",
      "2023-12-24 09:50:26.475355\n",
      "2023-12-24 09:50:27.477152\n",
      "2023-12-24 09:50:28.478416\n",
      "2023-12-24 09:50:29.479463\n",
      "2023-12-24 09:50:30.484777\n",
      "2023-12-24 09:50:31.489983\n",
      "2023-12-24 09:50:32.495112\n",
      "2023-12-24 09:50:33.496777\n",
      "2023-12-24 09:50:34.501907\n",
      "2023-12-24 09:50:35.504305\n",
      "2023-12-24 09:50:36.509322\n",
      "2023-12-24 09:50:37.514531\n",
      "2023-12-24 09:50:38.518836\n",
      "2023-12-24 09:50:39.519413\n",
      "2023-12-24 09:50:40.524670\n",
      "2023-12-24 09:50:41.530083\n",
      "2023-12-24 09:50:42.535405\n",
      "2023-12-24 09:50:43.540545\n",
      "2023-12-24 09:50:44.545432\n",
      "2023-12-24 09:50:45.550654\n",
      "2023-12-24 09:50:46.555869\n",
      "2023-12-24 09:50:47.560669\n",
      "2023-12-24 09:50:48.565986\n",
      "2023-12-24 09:50:49.568195\n",
      "2023-12-24 09:50:50.568675\n",
      "2023-12-24 09:50:51.577796\n",
      "2023-12-24 09:50:52.583198\n",
      "2023-12-24 09:50:53.587514\n",
      "2023-12-24 09:50:54.591134\n",
      "2023-12-24 09:50:55.596282\n",
      "2023-12-24 09:50:56.599184\n"
     ]
    }
   ],
   "source": [
    "import time\n",
    "import datetime\n",
    "\n",
    "while True:\n",
    "    now = datetime.datetime.now()\n",
    "    print(now)\n",
    "    time.sleep(1)"
   ]
  },
  {
   "cell_type": "code",
   "execution_count": 1,
   "id": "9fa56559",
   "metadata": {},
   "outputs": [
    {
     "name": "stdout",
     "output_type": "stream",
     "text": [
      "Current Directory: /Users/kennyjung/Desktop/Python\n"
     ]
    }
   ],
   "source": [
    "#248\n",
    "import os\n",
    "\n",
    "# 현재 작업 디렉토리 출력\n",
    "current_directory = os.getcwd()\n",
    "print(\"Current Directory:\", current_directory)\n"
   ]
  },
  {
   "cell_type": "code",
   "execution_count": 2,
   "id": "495ac34f",
   "metadata": {},
   "outputs": [],
   "source": [
    "#249\n",
    "import os\n",
    "os.rename('/Users/kennyjung/Desktop/Python/Image.jpeg', '/Users/kennyjung/Desktop/Python/image_rename.jpeg')"
   ]
  },
  {
   "cell_type": "code",
   "execution_count": 6,
   "id": "73eee1de",
   "metadata": {},
   "outputs": [
    {
     "name": "stdout",
     "output_type": "stream",
     "text": [
      "Defaulting to user installation because normal site-packages is not writeable\n",
      "Collecting numpy\n",
      "  Downloading numpy-1.26.2-cp39-cp39-macosx_11_0_arm64.whl (14.0 MB)\n",
      "\u001b[K     |████████████████████████████████| 14.0 MB 6.4 MB/s eta 0:00:01\n",
      "\u001b[?25hInstalling collected packages: numpy\n",
      "Successfully installed numpy-1.26.2\n",
      "\u001b[33mWARNING: You are using pip version 21.2.4; however, version 23.3.2 is available.\n",
      "You should consider upgrading via the '/Library/Developer/CommandLineTools/usr/bin/python3 -m pip install --upgrade pip' command.\u001b[0m\n",
      "Note: you may need to restart the kernel to use updated packages.\n"
     ]
    }
   ],
   "source": [
    "%pip install numpy"
   ]
  },
  {
   "cell_type": "code",
   "execution_count": 7,
   "id": "392a3f61",
   "metadata": {},
   "outputs": [
    {
     "name": "stdout",
     "output_type": "stream",
     "text": [
      "[0.  0.1 0.2 0.3 0.4 0.5 0.6 0.7 0.8 0.9 1.  1.1 1.2 1.3 1.4 1.5 1.6 1.7\n",
      " 1.8 1.9 2.  2.1 2.2 2.3 2.4 2.5 2.6 2.7 2.8 2.9 3.  3.1 3.2 3.3 3.4 3.5\n",
      " 3.6 3.7 3.8 3.9 4.  4.1 4.2 4.3 4.4 4.5 4.6 4.7 4.8 4.9]\n"
     ]
    }
   ],
   "source": [
    "#250\n",
    "import numpy as np\n",
    "numbers = np.arange(0.0, 5.0, 0.1)\n",
    "print(numbers)"
   ]
  },
  {
   "cell_type": "code",
   "execution_count": null,
   "id": "8e5772e8",
   "metadata": {},
   "outputs": [],
   "source": [
    "#251\n",
    "'''\n",
    "클래스는 일종의 설계도로, 하나의 타입을 정의하는 방법입니다. 클래스에는 관련있는 데이터와 함수를 한 데 모아 정의할 수 있습니다. 클래스로 만들어진 결과물을 객체라고합니다.\n",
    "\n",
    "\n",
    "클래스(Class)\n",
    "클래스는 객체를 생성하기 위한 템플릿이나 청사진 같은 것입니다. 클래스는 데이터와 이 데이터를 조작하는 메소드(함수)를 정의합니다. 예를 들어, 'Dog'라는 클래스를 만들 수 있으며, 이 클래스는 개의 특성(예: 이름, 나이)과 행동(예: 짖다, 뛰다)을 정의할 수 있습니다.\n",
    "\n",
    "python\n",
    "Copy code\n",
    "class Dog:\n",
    "    def __init__(self, name, age):\n",
    "        self.name = name\n",
    "        self.age = age\n",
    "\n",
    "    def bark(self):\n",
    "        print(f\"{self.name} says woof!\")\n",
    "\n",
    "객체(Object)\n",
    "객체는 클래스로부터 생성된 실체입니다. 객체 각각은 클래스가 정의한 데이터 구조를 따르며, 독립적인 상태와 행동을 가집니다. 클래스로부터 객체를 생성하는 것을 '인스턴스화'라고 합니다.\n",
    "\n",
    "python\n",
    "Copy code\n",
    "# Dog 클래스의 인스턴스 생성\n",
    "my_dog = Dog(\"Buddy\", 5)\n",
    "\n",
    "# 메소드 사용\n",
    "my_dog.bark()  # 출력: Buddy says woof!\n",
    "클래스(Dog)의 인스턴스(my_dog)는 해당 클래스의 모든 특성(이름과 나이)과 메소드(짖다)를 상속받습니다.\n",
    "\n",
    "'''"
   ]
  },
  {
   "cell_type": "code",
   "execution_count": 8,
   "id": "73320d3e",
   "metadata": {},
   "outputs": [],
   "source": [
    "#252\n",
    "class Human:\n",
    "    pass"
   ]
  },
  {
   "cell_type": "code",
   "execution_count": 9,
   "id": "4df48c7d",
   "metadata": {},
   "outputs": [],
   "source": [
    "#253\n",
    "class Human:\n",
    "    pass\n",
    "\n",
    "# Human 클래스의 인스턴스를 생성하고 areum 변수에 바인딩\n",
    "areum = Human()"
   ]
  },
  {
   "cell_type": "code",
   "execution_count": 10,
   "id": "3ba2ab11",
   "metadata": {},
   "outputs": [
    {
     "name": "stdout",
     "output_type": "stream",
     "text": [
      "응애응애\n"
     ]
    }
   ],
   "source": [
    "#254\n",
    "class Human:\n",
    "    def __init__(self):\n",
    "        print(\"응애응애\")\n",
    "\n",
    "areum = Human()"
   ]
  },
  {
   "cell_type": "code",
   "execution_count": 11,
   "id": "1f35f842",
   "metadata": {},
   "outputs": [
    {
     "name": "stdout",
     "output_type": "stream",
     "text": [
      "아름\n"
     ]
    }
   ],
   "source": [
    "#255\n",
    "class Human:\n",
    "    def __init__(self, name, age, sex):\n",
    "        self.name = name\n",
    "        self.age = age\n",
    "        self.sex = sex\n",
    "\n",
    "areum = Human('아름', 25, '여자')\n",
    "print(areum.name)"
   ]
  },
  {
   "cell_type": "code",
   "execution_count": 1,
   "id": "76a0a350",
   "metadata": {},
   "outputs": [
    {
     "name": "stdout",
     "output_type": "stream",
     "text": [
      "25\n"
     ]
    }
   ],
   "source": [
    "#256\n",
    "class Human:\n",
    "    def __init__(self, name, age, sex):\n",
    "        self.name = name\n",
    "        self.age = age\n",
    "        self.sex = sex\n",
    "\n",
    "areum = Human('아름', 25, '여자')\n",
    "print(areum.age)"
   ]
  },
  {
   "cell_type": "code",
   "execution_count": null,
   "id": "7738b9ff",
   "metadata": {},
   "outputs": [],
   "source": []
  }
 ],
 "metadata": {
  "kernelspec": {
   "display_name": "Python 3 (ipykernel)",
   "language": "python",
   "name": "python3"
  },
  "language_info": {
   "codemirror_mode": {
    "name": "ipython",
    "version": 3
   },
   "file_extension": ".py",
   "mimetype": "text/x-python",
   "name": "python",
   "nbconvert_exporter": "python",
   "pygments_lexer": "ipython3",
   "version": "3.9.6"
  }
 },
 "nbformat": 4,
 "nbformat_minor": 5
}
