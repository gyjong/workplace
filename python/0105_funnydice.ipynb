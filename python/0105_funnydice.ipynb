{
 "cells": [
  {
   "cell_type": "code",
   "execution_count": 1,
   "id": "f1415ec9",
   "metadata": {},
   "outputs": [
    {
     "name": "stdout",
     "output_type": "stream",
     "text": [
      "주사위 면의 개수를 입력하세요: 33\n",
      "행운의 숫자는? 3\n"
     ]
    }
   ],
   "source": [
    "from random import randrange  # random 모듈에서 randrange 함수를 임포트합니다.\n",
    "\n",
    "n = 6\n",
    "\n",
    "def get_inputs():             # 사용자로부터 입력을 받는 함수입니다.\n",
    "    n = int(input(\"주사위 면의 개수를 입력하세요: \"))  # 사용자로부터 주사위 면의 개수를 입력받는 함수입니다.\n",
    "    return n\n",
    "\n",
    "class FunnyDice:\n",
    "                              # FunnyDice 클래스 정의. 이 클래스는 주사위를 나타냅니다.\n",
    "    def __init__(self):\n",
    "                              # 생성자 메서드. 객체가 생성될 때 자동으로 호출됩니다.\n",
    "                              # n 매개변수는 주사위의 면의 수를 나타내며, 기본값은 6입니다.\n",
    "        self.n = int(n)       # n을 정수로 변환하여 인스턴스 변수 self.n에 할당합니다.\n",
    "\n",
    "                              # 1부터 n까지의 숫자로 이루어진 리스트를 생성하여 self.numbers에 할당합니다.\n",
    "                              # 예: n이 6이라면, self.numbers는 [1, 2, 3, 4, 5, 6]이 됩니다.\n",
    "        self.numbers = list(range(1, n+1))\n",
    "\n",
    "                              # 0부터 n-1 사이에서 임의의 인덱스를 선택합니다.\n",
    "                              # 이 인덱스는 주사위의 현재 면을 결정하는 데 사용됩니다.\n",
    "        self.index = randrange(0, self.n)\n",
    "\n",
    "                              # self.numbers 리스트에서 self.index에 해당하는 값을 self.val에 할당합니다.\n",
    "                              # 이 값은 주사위의 현재 면을 나타냅니다.\n",
    "        self.val = self.numbers[self.index]    \n",
    "\n",
    "#     def throw(self):\n",
    "#                               # 주사위를 던지는 메서드입니다.\n",
    "#                               # 0부터 n-1 사이에서 무작위 인덱스를 다시 선택합니다.\n",
    "#         self.index = randrange(0, self.n)  # 주사위를 던지는 메서드입니다. 새로운 무작위 인덱스를 선택합니다.\n",
    "#         self.val = self.numbers[self.index]  # 새로운 인덱스에 해당하는 값을 val에 할당합니다.\n",
    "\n",
    "    def getval(self):\n",
    "                              # 현재 주사위의 값을 반환하는 메서드입니다.\n",
    "        return self.val       # 현재 주사위의 값(self.val)을 반환합니다.\n",
    "    \n",
    "    def setval(self, val):\n",
    "                              # 주사위의 값을 설정하는 메서드입니다.\n",
    "                              # 입력된 값(val)이 주사위 면의 수 이하인지 확인합니다.\n",
    "        if val <= self.n:\n",
    "            self.val = val    # 입력된 값이 주사위 면의 수 이하인 경우, val을 설정합니다.\n",
    "        else:\n",
    "            msg = f\"주사위에 없는 숫자입니다. 주사위는 1 ~ {self.n}까지 있습니다.\"\n",
    "            raise ValueError(msg)  # 입력된 값이 주사위 면의 수를 초과하는 경우, 오류를 발생시킵니다.\n",
    "\n",
    "\n",
    "\n",
    "def main():                   # 프로그램의 메인 함수입니다.\n",
    "    n = get_inputs()          # get_inputs 함수를 호출하여 주사위 면의 개수를 받습니다.\n",
    "    mydice = FunnyDice()     # 사용자가 지정한 면의 개수를 가진 주사위 객체를 생성합니다.\n",
    "#     mydice.throw()            # 주사위를 던집니다.\n",
    "    print(\"행운의 숫자는? {0}\".format(mydice.getval()))  # 던져서 나온 주사위 값(getval)을 출력합니다.\n",
    "\n",
    "if __name__ == '__main__':    \n",
    "                              # 이 스크립트가 직접 실행될 때만 main 함수를 호출합니다.\n",
    "                              # 파이썬에서 __name__ == '__main__'은 스크립트가 직접 실행되었음을 의미합니다.\n",
    "    main()                    # 이 스크립트가 직접 실행될 때만 main 함수를 호출합니다."
   ]
  },
  {
   "cell_type": "code",
   "execution_count": 4,
   "id": "96fa549c",
   "metadata": {},
   "outputs": [
    {
     "name": "stdout",
     "output_type": "stream",
     "text": [
      "4\n"
     ]
    }
   ],
   "source": [
    "print(randrange(0, 6))"
   ]
  },
  {
   "cell_type": "code",
   "execution_count": 5,
   "id": "a3b8e411",
   "metadata": {},
   "outputs": [
    {
     "name": "stdout",
     "output_type": "stream",
     "text": [
      "주사위 면의 개수를 입력하세요: 678\n",
      "행운의 숫자는? 621\n"
     ]
    }
   ],
   "source": [
    "from random import randrange  # random 모듈에서 randrange 함수를 임포트합니다.\n",
    "\n",
    "class FunnyDice:\n",
    "                              # FunnyDice 클래스 정의. 이 클래스는 주사위를 나타냅니다.\n",
    "    def __init__(self, n=6):\n",
    "                              # 생성자 메서드. 객체가 생성될 때 자동으로 호출됩니다.\n",
    "                              # n 매개변수는 주사위의 면의 수를 나타내며, 기본값은 6입니다.\n",
    "        self.n = int(n)       # n을 정수로 변환하여 인스턴스 변수 self.n에 할당합니다.\n",
    "\n",
    "                              # 1부터 n까지의 숫자로 이루어진 리스트를 생성하여 self.numbers에 할당합니다.\n",
    "                              # 예: n이 6이라면, self.numbers는 [1, 2, 3, 4, 5, 6]이 됩니다.\n",
    "        self.numbers = list(range(1, n+1))\n",
    "\n",
    "                              # 0부터 n-1 사이에서 임의의 인덱스를 선택합니다.\n",
    "                              # 이 인덱스는 주사위의 현재 면을 결정하는 데 사용됩니다.\n",
    "        self.index = randrange(0, self.n)\n",
    "\n",
    "                              # self.numbers 리스트에서 self.index에 해당하는 값을 self.val에 할당합니다.\n",
    "                              # 이 값은 주사위의 현재 면을 나타냅니다.\n",
    "        self.val = self.numbers[self.index]    \n",
    "\n",
    "    def throw(self):\n",
    "                              # 주사위를 던지는 메서드입니다.\n",
    "                              # 0부터 n-1 사이에서 무작위 인덱스를 다시 선택합니다.\n",
    "        self.index = randrange(0, self.n)  # 주사위를 던지는 메서드입니다. 새로운 무작위 인덱스를 선택합니다.\n",
    "        self.val = self.numbers[self.index]  # 새로운 인덱스에 해당하는 값을 val에 할당합니다.\n",
    "\n",
    "    def getval(self):\n",
    "                              # 현재 주사위의 값을 반환하는 메서드입니다.\n",
    "        return self.val  # 현재 주사위의 값(self.val)을 반환합니다.\n",
    "    \n",
    "    def setval(self, val):\n",
    "                              # 주사위의 값을 설정하는 메서드입니다.\n",
    "                              # 입력된 값(val)이 주사위 면의 수 이하인지 확인합니다.\n",
    "        if val <= self.n:\n",
    "            self.val = val    # 입력된 값이 주사위 면의 수 이하인 경우, val을 설정합니다.\n",
    "        else:\n",
    "            msg = f\"주사위에 없는 숫자입니다. 주사위는 1 ~ {self.n}까지 있습니다.\"\n",
    "            raise ValueError(msg)  # 입력된 값이 주사위 면의 수를 초과하는 경우, 오류를 발생시킵니다.\n",
    "\n",
    "def get_inputs():             # 사용자로부터 입력을 받는 함수입니다.\n",
    "    n = int(input(\"주사위 면의 개수를 입력하세요: \"))  # 사용자로부터 주사위 면의 개수를 입력받는 함수입니다.\n",
    "    return n\n",
    "\n",
    "def main():                   # 프로그램의 메인 함수입니다.\n",
    "    n = get_inputs()          # get_inputs 함수를 호출하여 주사위 면의 개수를 받습니다.\n",
    "    mydice = FunnyDice(n)     # 사용자가 지정한 면의 개수를 가진 주사위 객체를 생성합니다.\n",
    "    mydice.throw()            # 주사위를 던집니다.\n",
    "    print(\"행운의 숫자는? {0}\".format(mydice.getval()))  # 던져서 나온 주사위 값(getval)을 출력합니다.\n",
    "\n",
    "if __name__ == '__main__':    \n",
    "                              # 이 스크립트가 직접 실행될 때만 main 함수를 호출합니다.\n",
    "                              # 파이썬에서 __name__ == '__main__'은 스크립트가 직접 실행되었음을 의미합니다.\n",
    "    main()                    # 이 스크립트가 직접 실행될 때만 main 함수를 호출합니다."
   ]
  },
  {
   "cell_type": "code",
   "execution_count": null,
   "id": "f6143471",
   "metadata": {},
   "outputs": [],
   "source": []
  }
 ],
 "metadata": {
  "kernelspec": {
   "display_name": "Python 3 (ipykernel)",
   "language": "python",
   "name": "python3"
  },
  "language_info": {
   "codemirror_mode": {
    "name": "ipython",
    "version": 3
   },
   "file_extension": ".py",
   "mimetype": "text/x-python",
   "name": "python",
   "nbconvert_exporter": "python",
   "pygments_lexer": "ipython3",
   "version": "3.9.6"
  }
 },
 "nbformat": 4,
 "nbformat_minor": 5
}
