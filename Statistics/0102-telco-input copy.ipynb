{
 "cells": [
  {
   "cell_type": "markdown",
   "id": "35fae2f5",
   "metadata": {},
   "source": [
    "* 데이터셋 소개\n",
    "    * 해당 Kaggle 데이터셋( https://www.kaggle.com/blastchar/telco-customer-churn )은 통신사 고객 이탈(Churn)에 대한 정보를 담고 있습니다. IBM에서 제공한 이 데이터셋은 고객 유지에 필요한 행동을 예측하는 데 사용될 수 있으며, 고객 데이터를 분석하여 고객 유지 프로그램을 개발하는 데 도움이 됩니다.\n",
    "* 해당 데이터셋은 다음의 정보로 구성되어 있습니다.\n",
    "    * 고객 인구 통계 정보(Demographic info): 고객의 성별, 연령대, 배우자 및 부양 가족의 유무(Gender, SeniorCitizen, Partner, Dependents) 등에 관한 정보가 포함되어 있습니다.\n",
    "    * 고객 이탈(Churn) 정보: 서비스를 중단 여부에 대한 정보가 포함되어 있습니다.\n",
    "    * 서비스 가입 정보(Services subscribed): 고객들이 가입한 서비스들, 예를 들어 전화, 다중 라인, 인터넷, 온라인 보안, 온라인 백업, 장치 보호, 기술 지원, 스트리밍 TV 및 영화( honeService, MultipleLine, InternetService, OnlineSecurity, OnlineBackup, DeviceProtection, TechSupport, StreamingTV, StreamingMovies) 등에 대한 정보가 있습니다.\n",
    "    * 고객 계정 정보(Customer account info): 고객이 얼마나 오래 서비스를 이용했는지, 계약 유형, 결제 방법, 무페이퍼 청구 여부, 월별 요금, 총 요금 (CustomerID, Contract, PaperlessBilling, PaymentMethod, MonthlyCharges, TotalCharges, Tenure)등의 정보가 담겨 있습니다.\n"
   ]
  },
  {
   "cell_type": "code",
   "execution_count": null,
   "id": "61fda25e",
   "metadata": {},
   "outputs": [],
   "source": [
    "import pandas as pd\n",
    "import numpy as np\n",
    "import seaborn as sns\n",
    "import matplotlib.pyplot as plt\n",
    "from scipy import stats"
   ]
  },
  {
   "cell_type": "code",
   "execution_count": null,
   "id": "567030a9",
   "metadata": {},
   "outputs": [],
   "source": [
    "# 데이터 로드\n",
    "df = pd.read_csv(\"https://bit.ly/telco-csv\", index_col=\"customerID\")\n",
    "df.shape"
   ]
  },
  {
   "cell_type": "code",
   "execution_count": null,
   "id": "ef5322ae",
   "metadata": {},
   "outputs": [],
   "source": [
    "# info 결측치 확인, 데이터 타입 확인\n"
   ]
  },
  {
   "cell_type": "code",
   "execution_count": null,
   "id": "666f1bd7",
   "metadata": {},
   "outputs": [],
   "source": [
    "# # 숫자형태로 된 문자열을 숫자형으로 바꿔줍니다.\n",
    "# df[\"TotalCharges\"]"
   ]
  },
  {
   "cell_type": "markdown",
   "id": "32a789e4",
   "metadata": {},
   "source": [
    "## 기술 통계\n",
    "\n",
    "\n",
    "- **평균 (Mean)**: $\\bar{x} = \\frac{1}{n}\\sum_{i=1}^{n}x_i$ \n",
    "  - 모든 데이터 포인트의 합을 데이터의 개수로 나눈 값\n",
    "- **표본 분산 (Sample Variance)**: $s^2 = \\frac{1}{n-1}\\sum_{i=1}^{n}(x_i - \\bar{x})^2$ \n",
    "  - 각 데이터 포인트와 평균의 차이의 제곱의 합을 자유도(n-1)로 나눈 값\n",
    "- **표준편차 (Standard Deviation)**: $s = \\sqrt{s^2}$ \n",
    "  - 분산의 제곱근\n",
    "- **Z-점수 (Z-Score)**: $z = \\frac{x - \\mu}{\\sigma}$ \n",
    "  - 개별 데이터 포인트가 평균으로부터 표준편차의 몇 배 떨어져 있는지 나타내는 값\n",
    "- **t-통계량 (t-Statistic)**: $t = \\frac{\\bar{x} - \\mu}{s/\\sqrt{n}}$ \n",
    "  - 표본 평균이 모집단 평균으로부터 얼마나 떨어져 있는지 나타내는 값\n"
   ]
  },
  {
   "cell_type": "code",
   "execution_count": null,
   "id": "4d759df2",
   "metadata": {},
   "outputs": [],
   "source": [
    "# describe\n"
   ]
  },
  {
   "cell_type": "markdown",
   "id": "018ec42f",
   "metadata": {},
   "source": [
    "* 모집단과 표본\n",
    "    - 모집단과 표본\n",
    "    - 모수와 통계량 \n",
    "* 무선 표집\n",
    "    - 표집 방법(층화표집)\n",
    "    - 표집 분포\n",
    "\n",
    "## 표집\n",
    "* 표집 후 시각화 비교"
   ]
  },
  {
   "cell_type": "code",
   "execution_count": null,
   "id": "7c366260",
   "metadata": {},
   "outputs": [],
   "source": [
    "# df.sample(n).hist();\n"
   ]
  },
  {
   "cell_type": "code",
   "execution_count": null,
   "id": "58a1c231",
   "metadata": {},
   "outputs": [],
   "source": [
    "# df.sample(frac).hist();\n"
   ]
  },
  {
   "cell_type": "markdown",
   "id": "2417aba9",
   "metadata": {},
   "source": [
    "### 무선 표집으로 중심극한정리 실습"
   ]
  },
  {
   "cell_type": "code",
   "execution_count": null,
   "id": "caf54c5b",
   "metadata": {},
   "outputs": [],
   "source": [
    "# 중심극한정리를 시연하기 위해, 여러 번에 걸쳐서 표본 평균을 계산합니다.\n",
    "sample_means = []\n",
    "n_samples = 1000  # 표본 추출 횟수\n",
    "sample_size = 50   # 각 표본의 크기\n",
    "\n",
    "# for _ in range(n_samples):\n"
   ]
  },
  {
   "cell_type": "code",
   "execution_count": null,
   "id": "0f555917",
   "metadata": {},
   "outputs": [],
   "source": [
    "# 표본 평균들의 분포를 시각화합니다.\n",
    "plt.hist(sample_means, bins=30, edgecolor='black')\n",
    "plt.title('Distribution of Sample Means')\n",
    "plt.xlabel('Sample Mean')\n",
    "plt.ylabel('Frequency')\n",
    "plt.show()"
   ]
  },
  {
   "cell_type": "markdown",
   "id": "4a7e5214",
   "metadata": {},
   "source": [
    "## 층화 표집\n",
    "* 통계학에서, 층화표집(層化標集, Stratified sampling)은 모집단을 먼저 중복되지 않도록 층으로 나눈 다음 각 층에서 표본을 추출하는 방법이다. 층을 나눌 때 층내는 동질적(homogeneous), 층간은 이질적(heterogeneous) 특성을 가지도록 하면 적은 비용으로 더 정확한 추정을 할 수 있으며, 전체 모집단뿐만 아니라 각 층의 특성에 대한 추정도 할 수 있다는 장점이 있다. 각 층으로부터 표본을 추출할 때 단순임의 추출방법을 쓸 수도 있고 계통표집(systematic sampling) 등 다른 추출방법을 쓸 수도 있다. 또 필요에 따라 각 층을 다시 하위층으로 나누어 추출하는 다단계 층화 추출을 하기도 한다.\n",
    "* https://ko.wikipedia.org/wiki/층화표집 \n",
    "* [sklearn.model\\_selection.train\\_test\\_split — scikit-learn 1.4.0 documentation](https://scikit-learn.org/stable/modules/generated/sklearn.model_selection.train_test_split.html#sklearn.model_selection.train_test_split)"
   ]
  },
  {
   "cell_type": "code",
   "execution_count": null,
   "id": "23713fed",
   "metadata": {},
   "outputs": [],
   "source": [
    "df.head(2)"
   ]
  },
  {
   "cell_type": "code",
   "execution_count": null,
   "id": "33bdbe99",
   "metadata": {},
   "outputs": [],
   "source": [
    "# 층화표집 수행\n",
    "stratified_sample"
   ]
  },
  {
   "cell_type": "code",
   "execution_count": null,
   "id": "b2ec22ae",
   "metadata": {},
   "outputs": [],
   "source": [
    "# 전체 샘플 빈도\n"
   ]
  },
  {
   "cell_type": "code",
   "execution_count": null,
   "id": "2e5c7448",
   "metadata": {},
   "outputs": [],
   "source": [
    "# 전체 샘플 빈도 비율\n"
   ]
  },
  {
   "cell_type": "code",
   "execution_count": null,
   "id": "d8320df5",
   "metadata": {},
   "outputs": [],
   "source": [
    "# 층화 표집 빈도 비율\n"
   ]
  },
  {
   "cell_type": "markdown",
   "id": "3444b617",
   "metadata": {},
   "source": [
    "### 무선 표집을 통한 표본 분산으로 자유도 실습\n",
    "\n",
    "- **표본 분산 (Sample Variance)**: $s^2 = \\frac{1}{n-1}\\sum_{i=1}^{n}(x_i - \\bar{x})^2$ \n",
    "  - 각 데이터 포인트와 평균의 차이의 제곱의 합을 자유도(n-1)로 나눈 값\n",
    "- [자유도 (통계학) - 위키백과, 우리 모두의 백과사전](https://ko.wikipedia.org/wiki/%EC%9E%90%EC%9C%A0%EB%8F%84_(%ED%86%B5%EA%B3%84%ED%95%99))\n",
    "\n",
    "#### 전체 표본"
   ]
  },
  {
   "cell_type": "code",
   "execution_count": null,
   "id": "d651adb2",
   "metadata": {},
   "outputs": [],
   "source": [
    "# var(ddof=0)\n"
   ]
  },
  {
   "cell_type": "code",
   "execution_count": null,
   "id": "68f62900",
   "metadata": {},
   "outputs": [],
   "source": [
    "# var(ddof=1)\n"
   ]
  },
  {
   "cell_type": "markdown",
   "id": "f358c206",
   "metadata": {},
   "source": [
    "#### 무선 표집 표본"
   ]
  },
  {
   "cell_type": "code",
   "execution_count": null,
   "id": "90d14162",
   "metadata": {},
   "outputs": [],
   "source": [
    "# var(ddof=0)\n"
   ]
  },
  {
   "cell_type": "code",
   "execution_count": null,
   "id": "b9b711b5",
   "metadata": {},
   "outputs": [],
   "source": [
    "# var(ddof=1)\n"
   ]
  },
  {
   "cell_type": "markdown",
   "id": "491e4e54",
   "metadata": {},
   "source": [
    "## 점추정과 구간추정\n",
    "* 점추정\n",
    "    * 점추정은 모집단 매개변수(예: 평균, 비율)에 대한 단일 수치 추정치를 제공합니다.\n",
    "    * 월별 지출 데이터의 평균을 계산하여 점추정을 수행합니다.\n",
    "* 구간 추정\n",
    "    * 구간 추정은 모집단 매개변수가 포함될 것으로 예상되는 값의 범위를 제공합니다. 일반적으로 신뢰구간을 사용하여 표현합니다.\n",
    "    * 월별 지출 데이터에 대한 95% 신뢰구간을 계산합니다. 이를 위해 t-분포를 사용하며, 신뢰구간의 너비는 표본 크기, 표본 평균, 표본 표준편차에 따라 결정됩니다.\n",
    "## 신뢰 구간과 신뢰 수준"
   ]
  },
  {
   "cell_type": "code",
   "execution_count": null,
   "id": "077cd0b6",
   "metadata": {},
   "outputs": [],
   "source": [
    "# 막대그래프를 통한 신뢰 구간 확인, 이탈률에 따른 월별 요금\n"
   ]
  },
  {
   "cell_type": "code",
   "execution_count": null,
   "id": "cde23f58",
   "metadata": {},
   "outputs": [],
   "source": [
    "# 월별 지출(MonthlyCharges) 데이터 추출\n",
    "monthly_charges = df['MonthlyCharges']\n",
    "\n",
    "# 점추정: 월별 지출의 표본 평균 계산\n",
    "# point_estimate\n",
    "\n",
    "# 구간 추정: 95% 신뢰구간 계산\n",
    "# 표본 크기, 표본 평균, 표본 표준편차 계산\n",
    "# sample_size\n",
    "# sample_mean\n",
    "# 표본 표준편차 (자유도 n-1 사용)\n",
    "# sample_std"
   ]
  },
  {
   "cell_type": "markdown",
   "id": "19600a04",
   "metadata": {},
   "source": [
    "### 신뢰 구간 계산    \n",
    "* 신뢰수준 설정(confidence_level)\n",
    "    * confidence_level = 0.95: 이는 신뢰구간이 모집단 매개변수를 포함할 확률을 95%로 설정한다는 것을 의미합니다. 즉, 신뢰구간 계산의 정확성을 95%로 가정합니다.\n",
    "\n",
    "* 알파 값 계산(alpha)\n",
    "    * alpha = 1 - confidence_level: 신뢰수준의 여완값으로, 1에서 신뢰수준을 뺀 값입니다. α는 1종 오류(귀무가설이 참인데 기각하는 오류)를 범할 확률을 나타냅니다. 여기서는 0.05(5%)입니다.\n",
    "    * 여완 값(Complement Value)은 통계학에서 특정 확률 값의 보완적인 부분을 나타내는 용어입니다. 특히, 가설 검정에서 중요한 개념인 유의수준(α)과 관련하여 자주 언급됩니다.\n",
    "    * 유의수준(α)은 귀무가설이 사실일 때 잘못해서 귀무가설을 기각할 확률입니다. 예를 들어, α가 0.05(5%)라면, 귀무가설이 참인 경우에도 5%의 확률로 귀무가설을 기각하는 실수를 할 수 있음을 의미합니다. 이때, 여완 값은 1에서 α 값을 뺀 것으로, α의 보완적인 부분을 나타냅니다. α가 0.05일 때, 여완 값은 1 - 0.05 = 0.95(95%)가 됩니다.\n",
    "    * 여완 값은 유의수준과 대비하여 어떤 사건이 발생하지 않을 확률을 나타내며, 통계적 검정에서 귀무가설을 기각하지 않을 확률을 의미합니다. 이를 통해 가설 검정에서 결과의 신뢰성이나 타당성을 평가하는 데 도움을 줍니다.\n",
    "\n",
    "* 임계값(t_critical) 계산\n",
    "    * t_critical = stats.t.ppf(1 - alpha/2, df=sample_size-1): t 분포의 임계값을 계산합니다. 이 값은 신뢰구간의 양 끝단을 결정하는 데 사용됩니다. α/2는 양측 검정에서 오류를 고려하는 것이며, df=sample_size-1는 자유도를 의미합니다(여기서 자유도는 표본 크기에서 1을 뺀 값).\n",
    "    * stats.t.ppf() 함수는 SciPy 라이브러리의 stats 모듈에 있는 함수로, t-분포의 퍼센트 포인트 함수(Percent Point Function, PPF)입니다. 이 함수는 주어진 확률에 대응하는 t-분포의 값(임계값)을 반환합니다.\n",
    "        * q: 확률입니다. 이는 t-분포의 누적 분포 함수(CDF)에서의 확률과 대응합니다.\n",
    "        * df: 자유도(degree of freedom)입니다. t-분포의 모양을 결정합니다.\n",
    "\n",
    "* 오차 한계(margin_of_error) 계산\n",
    "    * margin_of_error = t_critical * (sample_std / np.sqrt(sample_size)): 신뢰구간의 너비를 계산합니다. 이는 표본 평균 주위에서 얼마나 범위를 설정할 것인지를 결정합니다. 표본 표준편차와 표본 크기의 제곱근을 이용해 계산합니다.\n",
    "\n",
    "* 신뢰구간(confidence_interval) 계산\n",
    "    * confidence_interval = (sample_mean - margin_of_error, sample_mean + margin_of_error): 계산된 오차 한계를 표본 평균의 양쪽에 더하고 빼서 신뢰구간을 구합니다.\n",
    "\n",
    "* 점추정과 신뢰구간 반환\n",
    "    * point_estimate, confidence_interval: 점추정(표본 평균)과 계산된 신뢰구간을 반환합니다."
   ]
  },
  {
   "cell_type": "code",
   "execution_count": null,
   "id": "13fdf009",
   "metadata": {},
   "outputs": [],
   "source": [
    "# 신뢰구간 계산 (t-분포 사용)\n",
    "# stats.t.ppf 로 t_critical 구하기\n",
    "confidence_level = 0.95\n",
    "alpha = 1 - confidence_level\n",
    "\n",
    "t_critical = stats.t.ppf(1 - alpha/2, df=sample_size-1)  # t-분포의 임계값\n",
    "margin_of_error = t_critical * (sample_std / np.sqrt(sample_size))\n",
    "\n",
    "confidence_interval = (sample_mean - margin_of_error, sample_mean + margin_of_error)\n",
    "\n",
    "point_estimate, confidence_interval"
   ]
  },
  {
   "cell_type": "markdown",
   "id": "41ed3c98",
   "metadata": {},
   "source": [
    "* 임계값 해석\n",
    "    * 위 예시에서 반환된 t_critical 값은 해당 자유도에서 t-분포의 상위 2.5% 지점에 해당하는 값을 의미합니다. 즉, t-분포 상에서 가장 극단적인 2.5% 값 중 하나입니다.\n",
    "    * 이 값은 t-검정과 같은 통계적 검정에서 귀무가설의 기각 여부를 결정하는 데 사용됩니다. 예를 들어, t-검정 통계량이 이 임계값을 초과하면 귀무가설을 기각합니다.\n",
    "* 비즈니스 및 연구에서의 응용\n",
    "    * stats.t.ppf() 함수는 연구나 비즈니스 의사결정에서 데이터의 유의성을 평가하는 데 사용됩니다.\n",
    "    * 예를 들어, 제품의 효과, 캠페인의 효율성, 시장 변화 등을 평가할 때 이 함수를 사용하여 유의한 결과를 얻을 수 있는 임계값을 설정할 수 있습니다"
   ]
  },
  {
   "cell_type": "code",
   "execution_count": null,
   "id": "47d6b1d2",
   "metadata": {},
   "outputs": [],
   "source": [
    "# sns.barplot 으로 MonthlyCharges 신뢰 구간 확인하기\n"
   ]
  },
  {
   "cell_type": "code",
   "execution_count": null,
   "id": "340fade0",
   "metadata": {},
   "outputs": [],
   "source": [
    "# 점추정 및 신뢰구간 시각화\n",
    "plt.figure(figsize=(10, 5))\n",
    "plt.hist(monthly_charges, bins=15, color='skyblue', alpha=0.7, label='Monthly Charges')\n",
    "plt.axvline(sample_mean, color='red', linestyle='dashed', linewidth=2, label=f'Mean: {sample_mean:.2f}')\n",
    "plt.axvline(confidence_interval[0], color='green', linestyle='dashed', linewidth=2, label=f'Lower Bound: {confidence_interval[0]:.2f}')\n",
    "plt.axvline(confidence_interval[1], color='blue', linestyle='dashed', linewidth=2, label=f'Upper Bound: {confidence_interval[1]:.2f}')\n",
    "plt.xlabel('Monthly Charges')\n",
    "plt.ylabel('Frequency')\n",
    "plt.title('Monthly Charges Distribution with 95% Confidence Interval')\n",
    "plt.legend()\n",
    "plt.show()"
   ]
  },
  {
   "cell_type": "markdown",
   "id": "679143dc",
   "metadata": {},
   "source": [
    "## z-score가 높은 상위 10% 고객의 이탈률 확인\n",
    "* 가설: 월별 요금(MonthlyCharges)이 높은 고객일수록 이탈(Churn) 확률이 높다.\n",
    "* 이 가설은 월별 요금이 고객의 이탈 결정에 영향을 미칠 수 있다는 것을 가정합니다.\n",
    "\n",
    "* z-score 계산: 월별 요금에 대해 평균(mean)과 표준편차(standard deviation)를 계산한 후, 각 데이터 포인트에 대해 z-score를 계산합니다.\n",
    "* z-score 공식: \n",
    "* z = (X−μ)/ σ\n",
    "\n",
    "* X는 개별 데이터 포인트, μ는 평균, σ는 표준편차입니다.\n",
    "* z-score는 데이터 포인트가 평균으로부터 표준편차의 몇 배만큼 떨어져 있는지를 나타냅니다."
   ]
  },
  {
   "cell_type": "code",
   "execution_count": null,
   "id": "fb9e1b3c",
   "metadata": {},
   "outputs": [],
   "source": [
    "# 비즈니스 가설 설정\n",
    "# 가설: \"월별 요금(MonthlyCharges)이 높은 고객일수록 이탈(Churn) 확률이 높다.\"\n",
    "\n",
    "# z-score 계산\n",
    "# 월별 요금(MonthlyCharges)에 대한 평균과 표준편차\n",
    "\n",
    "# 월별 요금에 대한 z-score 계산\n",
    "# z = (X−μ)/ σ (X는 개별 데이터 포인트, μ는 평균, σ는 표준편차)\n",
    "# df['MonthlyCharges_z']"
   ]
  },
  {
   "cell_type": "code",
   "execution_count": null,
   "id": "e728497b",
   "metadata": {},
   "outputs": [],
   "source": [
    "# hist\n",
    "# df[[\"MonthlyCharges\", \"MonthlyCharges_z\"]]"
   ]
  },
  {
   "cell_type": "code",
   "execution_count": null,
   "id": "859d3239",
   "metadata": {},
   "outputs": [],
   "source": [
    "# describe\n",
    "# df[[\"MonthlyCharges\", \"MonthlyCharges_z\"]]"
   ]
  },
  {
   "cell_type": "markdown",
   "id": "963266be",
   "metadata": {},
   "source": [
    "### 이탈률 분석\n",
    "* 분석 결과에 따라 통신사는 고가 요금제 고객의 이탈을 방지하기 위한 전략을 수립할 수 있습니다.\n",
    "예를 들어, 이탈률이 높게 나타난다면 요금제 구조 재검토, 충성 고객에 대한 인센티브 제공 등의 조치를 고려할 수 있습니다."
   ]
  },
  {
   "cell_type": "code",
   "execution_count": null,
   "id": "e0b11d6e",
   "metadata": {},
   "outputs": [],
   "source": [
    "# quantile 을 통해 0.9 구간을 구함\n",
    "df['MonthlyCharges_z'].quantile(0.9)"
   ]
  },
  {
   "cell_type": "code",
   "execution_count": null,
   "id": "42912682",
   "metadata": {},
   "outputs": [],
   "source": [
    "# z-score를 활용하여 이탈률 분석\n",
    "# z-score가 높은 상위 10% 고객의 이탈률 확인\n",
    "\n",
    "high_z_customers "
   ]
  },
  {
   "cell_type": "markdown",
   "id": "04897ab0",
   "metadata": {},
   "source": [
    "### t-test\n",
    "\n",
    "- **t-통계량 (t-Statistic)**: $t = \\frac{\\bar{x} - \\mu}{s/\\sqrt{n}}$ \n",
    "  - 표본 평균이 모집단 평균으로부터 얼마나 떨어져 있는지 나타내는 값\n",
    "  \n",
    "- [scipy.stats.ttest\\_ind — SciPy Manual](https://scipy.github.io/devdocs/reference/generated/scipy.stats.ttest_ind.html#scipy.stats.ttest_ind)\n",
    "- [t-검정 - 위키백과, 우리 모두의 백과사전](https://ko.wikipedia.org/wiki/T-%EA%B2%80%EC%A0%95)"
   ]
  },
  {
   "cell_type": "markdown",
   "id": "ba9c3c87",
   "metadata": {},
   "source": [
    "## 평균에 대한 가설 검정\n",
    "* 평균에 대한 가설 검정은 표본 데이터를 사용하여 모집단의 평균에 대한 가설을 검정하는 것입니다. 예를 들어, 어떤 치료법이 효과가 있는지를 평균 회복 시간을 비교하여 검정할 수 있습니다.\n",
    "\n",
    "* 가설 검정 과정\n",
    "1) 귀무가설과 대립가설을 설정합니다.\n",
    "2) 적절한 검정 통계량을 선택하고 계산합니다 (예: t-검정).\n",
    "3) P-값을 계산하여 α와 비교합니다.\n",
    "4) P-값이 α보다 작으면 귀무가설을 기각하고, 그렇지 않으면 귀무가설을 채택합니다."
   ]
  },
  {
   "cell_type": "markdown",
   "id": "5d57d5ed",
   "metadata": {},
   "source": [
    "## t-검정\n",
    "### 새로운 지불방식이(B)가 기존 지불방식(A)보다 고객 이탈률을 감소시킨다.\n",
    "\n",
    "#### t-test\n",
    "\n",
    "- **t-통계량 (t-Statistic)**: $t = \\frac{\\bar{x} - \\mu}{s/\\sqrt{n}}$ \n",
    "  - 표본 평균이 모집단 평균으로부터 얼마나 떨어져 있는지 나타내는 값\n",
    "  \n",
    "- [scipy.stats.ttest\\_ind — SciPy Manual](https://scipy.github.io/devdocs/reference/generated/scipy.stats.ttest_ind.html#scipy.stats.ttest_ind)\n",
    "- [t-검정 - 위키백과, 우리 모두의 백과사전](https://ko.wikipedia.org/wiki/T-%EA%B2%80%EC%A0%95)\n",
    "\n",
    "이탈한 고객(Churn == 'Yes')과 이탈하지 않은 고객(Churn == 'No')의 통신사 이용 기간(tenure) 데이터를 분리하여 추출합니다. 이 데이터를 사용하여 두 그룹 간의 평균 이용 기간에 차이가 있는지 t-검정을 수행합니다.\n",
    "\n",
    "* t-통계량: 두 그룹 간의 평균 이용 기간에 매우 큰 차이가 있음을 나타냅니다. t-통계량이 음수이므로 이탈한 고객 그룹의 평균 이용 기간이 더 짧습니다.\n",
    "* p-값: 매우 낮은 p-값은 귀무가설(통신사 이용 기간이 고객 이탈 여부에 영향을 미치지 않는다)을 기각하는 데 충분합니다. 즉, 통신사 이용 기간과 고객의 이탈 여부는 통계적으로 유의미한 관련이 있음을 의미합니다.\n",
    "* 자유도: 자유도는 두 표본의 분산이 다르다고 가정했을 때 계산됩니다. 이 경우 높은 자유도는 t-분포가 정규분포에 가깝다는 것을 나타냅니다."
   ]
  },
  {
   "cell_type": "code",
   "execution_count": null,
   "id": "4c263d06",
   "metadata": {},
   "outputs": [],
   "source": [
    "# 이탈률을 나타내는 'Churn' 열의 데이터를 숫자 형태로 변환\n",
    "# 이탈 여부를 숫자로 변환 (Yes: 1, No: 0)\n",
    "# df['Churn_bi'] "
   ]
  },
  {
   "cell_type": "code",
   "execution_count": null,
   "id": "e6a3e7f7",
   "metadata": {},
   "outputs": [],
   "source": [
    "# from scipy.stats import ttest_ind\n",
    "\n",
    "# 비즈니스 가설 설정\n",
    "# 가설: 새로운 지불방식이(B)가 기존 지불방식(A)보다 고객 이탈률을 감소시킨다.\n",
    "\n",
    "# A/B 테스트를 위한 데이터 준비\n",
    "# 예를 들어, 'PaymentMethod'가 'Electronic check'인 고객을 그룹 A로,\n",
    "# 'Bank transfer (automatic)'인 고객을 그룹 B로 설정\n",
    "group_A = df[df['PaymentMethod'] == 'Electronic check']['Churn_bi']\n",
    "group_B = df[df['PaymentMethod'] == 'Bank transfer (automatic)']['Churn_bi']\n",
    "\n",
    "# t-검정 수행\n",
    "# t_statistic, p_value\n",
    "\n"
   ]
  },
  {
   "cell_type": "markdown",
   "id": "7fc1512f",
   "metadata": {},
   "source": [
    "### 이탈 고객과 잔류 고객의 이용 기간에 유의미한 차이가 있는지 분석\n",
    "\n",
    "* 귀무가설 (Null Hypothesis, H₀): 이탈한 고객과 이탈하지 않은 고객의 이용 기간에는 통계적으로 유의미한 차이가 없다.\n",
    "* 대립가설 (Alternative Hypothesis, H₁): 이탈한 고객과 이탈하지 않은 고객의 이용 기간에는 통계적으로 유의미한 차이가 있다.\n",
    "\n",
    "* 고객 유지 전략 개발: 잔존 기간이 짧은 고객군에서 이탈률이 높다면, 회사는 이러한 고객을 대상으로 하는 특별한 유지 전략이나 프로그램을 개발할 수 있습니다.\n",
    "* 고객 세분화: 잔존 기간에 따라 다른 고객 세그먼트를 식별하고, 각 세그먼트에 맞는 맞춤형 서비스를 제공할 수 있습니다."
   ]
  },
  {
   "cell_type": "code",
   "execution_count": null,
   "id": "2da37003",
   "metadata": {},
   "outputs": [],
   "source": [
    "# sns.histplot 으로 tenure 에 대한 이탈 여부 시각화 \n"
   ]
  },
  {
   "cell_type": "code",
   "execution_count": null,
   "id": "047dc7ff",
   "metadata": {},
   "outputs": [],
   "source": [
    "# 이탈여부에 대한 표본 분산 구하기(자유도=1)\n"
   ]
  },
  {
   "cell_type": "code",
   "execution_count": null,
   "id": "2052bf95",
   "metadata": {},
   "outputs": [],
   "source": [
    "# 이탈 여부에 따른 이용 기간 분석을 위한 데이터 추출\n",
    "churn_yes = df[df['Churn'] == 'Yes']['tenure']\n",
    "churn_no = df[df['Churn'] == 'No']['tenure']\n",
    "\n",
    "# t-검정 수행\n",
    "# stats.ttest_ind 함수는 두 독립 표본 그룹 간의 평균 차이를 검정하는 데 사용됩니다. .\n",
    "# equal_var=False는 두 그룹의 분산이 동일하지 않다는 가정 하에 검정을 수행하라는 의미입니다. \n",
    "# 이는 보통 두 표본 크기가 다르거나 데이터의 분포가 서로 다를 때 사용됩니다.\n",
    "# t_statistic은 t-검정 통계량으로, 두 그룹 간 평균 차이의 크기와 방향을 나타냅니다.\n",
    "# p_value는 귀무가설이 참일 때 관측된 결과가 발생할 확률입니다. \n",
    "# 이 값이 매우 작으면(보통 0.05 이하), 두 그룹 간 평균 차이가 통계적으로 유의미하다고 해석할 수 있습니다.\n",
    "# t_statistic, p_value\n",
    "\n"
   ]
  },
  {
   "cell_type": "markdown",
   "id": "7e974602",
   "metadata": {},
   "source": [
    "* t_statistic은 t-검정 통계량으로, 두 그룹 간의 평균 차이의 크기와 방향을 나타냅니다.\n",
    "    * 이 값이 음수라는 것은 첫 번째 그룹의 평균이 두 번째 그룹의 평균보다 작다는 것을 의미합니다.\n",
    "    * 값의 절대값이 크면 클수록 두 그룹 간의 평균 차이가 더 크다는 것을 나타냅니다.\n",
    "* p_value는 귀무가설 하에서 현재 관측된 결과(또는 더 극단적인 결과)가 나타날 확률입니다.\n",
    "    * 이 값이 매우 작다는 것은 두 그룹 간의 평균 차이가 통계적으로 매우 유의미하다는 것을 나타냅니다.\n",
    "    * 일반적으로 p-value가 0.05(5%) 이하일 경우, 귀무가설을 기각하고 대립가설을 채택합니다.\n",
    "    \n",
    "* 1종 오류 (Type I Error): 귀무가설이 참일 때, 잘못해서 귀무가설을 기각하는 오류입니다.\n",
    "    * 매우 낮은 p_value 는 귀무가설(이탈한 고객과 이탈하지 않은 고객의 이용 기간에 차이가 없다)을 기각할 강력한 근거를 제공합니다. 그러나, 이것이 반드시 귀무가설이 거짓이라는 것을 의미하지는 않습니다. 즉, 이 결과로 인해 귀무가설을 잘못 기각할 확률(1종 오류를 범할 확률)은 매우 낮지만, 여전히 존재합니다.\n",
    "* 2종 오류 (Type II Error): 대립가설이 참일 때, 귀무가설을 잘못 채택하는 오류입니다.\n",
    "    * 매우 낮은 p_value와 높은 t_statistic의 절대값은 귀무가설을 기각하고 대립가설(이탈한 고객과 이탈하지 않은 고객의 이용 기간에 차이가 있다)을 채택하는 데 충분합니다. 따라서, 이 경우 2종 오류(귀무가설이 거짓임에도 불구하고 채택하는 경우)를 범할 가능성은 매우 낮습니다."
   ]
  },
  {
   "cell_type": "markdown",
   "id": "95bfef7b",
   "metadata": {},
   "source": [
    "### 서비스 유형에 따른 이탈률 비교\n",
    "\n",
    "* 귀무가설: \"PhoneService를 이용하는 고객과 그렇지 않은 고객 간의 이탈률에 차이가 없다.\"\n",
    "* 대립가설: \"PhoneService를 이용하는 고객과 그렇지 않은 고객 간의 이탈률에 차이가 있다.\"\n",
    "\n",
    "#### 등분산성 검정 (Levene's Test)\n",
    "* [등분산성 - 위키백과, 우리 모두의 백과사전](https://ko.wikipedia.org/wiki/%EB%93%B1%EB%B6%84%EC%82%B0%EC%84%B1)\n",
    "* 두 그룹의 분산이 동일한지를 검사합니다. 이것은 t-검정을 수행하기 전에 중요한 단계입니다. \n",
    "* Levene's test를 사용하여 등분산성을 검정하고, 그 결과에 따라 t-검정의 equal_var 매개변수를 결정합니다.\n",
    "\n",
    "* 독립 표본 t-검정: 두 그룹의 이탈률 평균에 통계적으로 유의미한 차이가 있는지를 평가합니다. \n",
    "* 등분산성 검정 결과에 따라 equal_var 매개변수를 True(등분산 가정) 또는 False(등분산 가정하지 않음)로 설정합니다.\n",
    "\n",
    "#### 1종 오류와 2종 오류의 개념\n",
    "* 1종 오류 (Type I Error): 귀무가설이 참일 때 잘못하여 귀무가설을 기각하는 오류입니다. 이는 잘못된 양성 결과를 의미합니다.\n",
    "* 2종 오류 (Type II Error): 대립가설이 참일 때 잘못하여 귀무가설을 채택하는 오류입니다. 이는 잘못된 음성 결과를 의미합니다.\n",
    "\n",
    "* 1종 오류의 사례\n",
    "    * 코드에서 계산된 p-value가 매우 낮아 귀무가설을 기각한다고 가정합니다.\n",
    "    * 실제로는 PhoneService 이용 여부가 이탈률에 영향을 미치지 않지만, 분석 결과에 따라 그렇다고 잘못 결론 내릴 수 있습니다.\n",
    "    * 이 오류로 인해 통신사는 불필요한 서비스 조정이나 마케팅 전략을 채택할 수 있습니다.\n",
    "* 2종 오류의 사례\n",
    "    * 코드에서 계산된 p-value가 높아 귀무가설을 채택한다고 가정합니다.\n",
    "    * 실제로는 PhoneService 이용 여부가 이탈률에 유의미한 영향을 미치지만, 분석 결과에 따라 그렇지 않다고 잘못 결론 내릴 수 있습니다.\n",
    "    * 이 오류로 인해 통신사는 중요한 서비스 개선 기회를 놓칠 수 있습니다.\n",
    "    "
   ]
  },
  {
   "cell_type": "code",
   "execution_count": null,
   "id": "94922681",
   "metadata": {},
   "outputs": [],
   "source": [
    "# PhoneService를 이용하는 고객과 그렇지 않은 고객의 이탈률 데이터 추출\n",
    "phone_service_yes = df[df['PhoneService'] == 'Yes']['Churn_bi']\n",
    "phone_service_no = df[df['PhoneService'] == 'No']['Churn_bi']\n",
    "\n",
    "# 등분산성 검정\n",
    "_, p_value_homogeneity = stats.levene(phone_service_yes, phone_service_no)\n",
    "\n",
    "# 등분산성 검정 결과에 따라 적절한 t-검정 수행\n",
    "    # 등분산성이 가정되지 않는 경우\n",
    "    # 등분산성이 가정되는 경우\n",
    "# p_value_homogeneity, t_statistic, p_value"
   ]
  },
  {
   "cell_type": "markdown",
   "id": "42be8724",
   "metadata": {},
   "source": [
    "* 유의성 판단: p-value가 유의 수준 선 아래에 위치하면, 해당 검정 결과가 통계적으로 유의미함을 나타냅니다. \n",
    "* 예를 들어, t-검정의 p-value가 0.05 아래이면, 두 그룹 간의 평균 차이가 유의미하다고 해석할 수 있습니다."
   ]
  },
  {
   "cell_type": "code",
   "execution_count": null,
   "id": "e0bcf441",
   "metadata": {},
   "outputs": [],
   "source": [
    "# 등분산성 검정 결과와 t-검정 결과를 시각화하기 위한 데이터 준비\n",
    "labels = ['Levene\\'s Test for Equality of Variances', 't-Test for Equality of Means']\n",
    "values = [p_value_homogeneity, p_value]\n",
    "\n",
    "# 시각화\n",
    "plt.figure(figsize=(8, 4))\n",
    "plt.bar(labels, values, color=['blue', 'green'])\n",
    "plt.ylabel('p-value')\n",
    "plt.title('Levene\\'s Test and t-Test Results')\n",
    "plt.axhline(y=0.05, color='red', linestyle='--', label='Significance Level (0.05)')\n",
    "plt.legend()\n",
    "plt.show()"
   ]
  },
  {
   "cell_type": "markdown",
   "id": "8944306f",
   "metadata": {},
   "source": [
    "## Mann-Whitney U-검정\n",
    "* [scipy.stats.mannwhitneyu — SciPy Manual](https://scipy.github.io/devdocs/reference/generated/scipy.stats.mannwhitneyu.html#scipy.stats.mannwhitneyu)\n",
    "* Mann-Whitney U-검정은 두 독립 표본이 같은 분포에서 왔는지를 비모수적으로 검정하는 방법\n",
    "    * Mann-Whitney U 검정(Mann-Whitney U test), 종종 윌콕슨 순위합 검정(Wilcoxon rank-sum test)이라고도 불리는 이 통계적 검정 방법은 1947년 Henry B. Mann과 Donald R. Whitney에 의해 개발되었습니다. 이 검정 방법은 두 독립적인 표본에서 나온 데이터가 동일한 분포를 갖는지 비교하는 데 사용됩니다.\n",
    "    * Mann-Whitney U 검정의 핵심은 두 표본을 합쳐서 모든 관측치에 순위를 매기고, 각 표본의 순위 합을 비교하는 것입니다. 이 검정은 정규 분포를 가정하지 않으므로, 표본이 작거나 데이터가 정규 분포를 따르지 않을 때 유용합니다. 특히, 이 검정은 중앙값의 차이에 더 민감하며, 순위를 기반으로 하기 때문에 이상치의 영향을 덜 받습니다.\n",
    "    * Mann-Whitney U 검정은 원래 동일한 모집단에서 추출된 두 표본이 같은 분포를 갖는지 검정하는 데 목적이 있었지만, 오늘날에는 `두 독립적인 표본 사이의 위치 차이(예: 중앙값)`를 검정하는 데 널리 사용됩니다. 이 검정은 생물학, 심리학, 사회과학, 의학 등 다양한 분야에서 응용되고 있습니다.\n",
    "    \n",
    "```python\n",
    "scipy.stats.mannwhitneyu(x, y, use_continuity=True, alternative='two-sided', method='auto')\n",
    "```\n",
    "    \n",
    "* x, y: 비교하고자 하는 두 표본 그룹입니다. 이들은 NumPy 배열이나 유사 배열 객체일 수 있습니다.\n",
    "* use_continuity: 연속성 보정(continuity correction)을 사용할지 여부를 지정합니다. 기본값은 True입니다.\n",
    "* alternative: 검정의 대안 가설을 지정합니다. 옵션은 'two-sided', 'less', 'greater'입니다.\n",
    "    * 'two-sided': 두 표본의 분포가 다르다는 것을 검증합니다.\n",
    "    * 'less': 첫 번째 표본이 두 번째 표본보다 작다는 것을 검증합니다.\n",
    "    * 'greater': 첫 번째 표본이 두 번째 표본보다 크다는 것을 검증합니다.\n",
    "* method: 사용할 계산 방법을 지정합니다. 'auto', 'exact', 'asymptotic' 중 선택할 수 있습니다. 'auto'는 적절한 방법을 자동으로 선택합니다.\n",
    "\n",
    "* U 통계량은 두 그룹 간 순위 차이를 나타내는 값이며, p-value는 귀무가설 하에서 해당 통계량이나 더 극단적인 값을 관찰할 확률입니다.\n",
    "\n",
    "  \n",
    "### 이탈한 고객과 이탈하지 않은 고객의 월별 요금 데이터에 대해 Mann-Whitney U-검정을 수행\n",
    "* 데이터 추출 : monthly_charges_churn_yes와 monthly_charges_churn_no 변수에 각각 이탈한 고객과 이탈하지 않은 고객의 월별 요금 데이터를 저장합니다. 이는 주어진 데이터프레임(df)에서 'Churn' 열의 값에 따라 필터링하여 수행됩니다.\n",
    "* Mann-Whitney U-검정 수행 : u_statistic, p_value = stats.mannwhitneyu(...): scipy 라이브러리의 mannwhitneyu 함수를 사용하여 두 집단 간의 Mann-Whitney U-검정을 수행합니다.\n",
    "* alternative='two-sided'는 두 집단 간의 차이가 양방향으로 발생할 수 있다는 가정 하에 검정을 수행함을 의미합니다. 즉, 한 집단의 월별 요금이 다른 집단보다 높거나 낮을 수 있는 모든 가능성을 고려합니다.\n",
    "* 결과 반환\n",
    "    * u_statistic: 검정 통계량으로, 두 집단 간 순위 합의 차이를 나타냅니다.\n",
    "    * p_value: 검정의 결과를 나타내는 p-값으로, 이 값이 설정한 유의수준(예: 0.05)보다 작으면, 두 집단 간의 중앙값에 통계적으로 유의한 차이가 있다고 해석할 수 있습니다.\n",
    "* 해석 및 적용 : 이 코드의 실행 결과로 얻어지는 p-값을 통해, 이탈한 고객과 이탈하지 않은 고객 간의 월별 요금에 통계적으로 유의한 차이가 있는지를 판단할 수 있습니다. 만약 p-값이 매우 낮다면, 이는 두 집단 간에 월별 요금에서 의미 있는 차이가 있음을 나타냅니다. 이러한 정보는 고객 이탈에 영향을 미치는 요인을 이해하고, 이탈 방지 전략을 수립하는 데 도움이 될 수 있습니다."
   ]
  },
  {
   "cell_type": "code",
   "execution_count": null,
   "id": "b03b572a",
   "metadata": {},
   "outputs": [],
   "source": [
    "# sns.histplot로 이탈 여부에 따른 월별 요금 분포 시각화 \n"
   ]
  },
  {
   "cell_type": "markdown",
   "id": "c5f18fcb",
   "metadata": {},
   "source": [
    "* u_statistic\n",
    "    * 정의: u_statistic은 Mann-Whitney U 통계량으로, 두 그룹 간 순위의 합에 기반하여 계산됩니다. 이 값은 두 표본이 같은 분포에서 나왔을 때 기대되는 순위의 차이를 나타냅니다.\n",
    "    * 해석: u_statistic 값 자체는 직관적인 해석이 어려울 수 있습니다. 주로 p_value와 함께 결과의 유의성을 평가하는 데 사용됩니다.\n",
    "* p_value\n",
    "    * 정의: p_value는 귀무가설(두 표본이 동일한 분포에서 나왔다)이 참일 경우, 관측된 u_statistic 값 또는 더 극단적인 값을 얻을 확률입니다.\n",
    "    * 해석:\n",
    "        * 유의 수준: 일반적으로 p_value가 0.05(5%) 이하일 때, 결과를 통계적으로 유의미하다고 해석합니다. 이는 두 표본 그룹 간에 유의미한 차이가 있음을 나타냅니다.\n",
    "        * 유의미한 차이: p_value가 낮을수록 두 그룹 간에 유의미한 차이가 있다는 증거가 강해집니다.\n",
    "        * 높은 p_value: 반대로 p_value가 높다면, 두 그룹 간에 유의미한 차이가 없다는 증거로 해석됩니다."
   ]
  },
  {
   "cell_type": "code",
   "execution_count": null,
   "id": "d76ce1cb",
   "metadata": {},
   "outputs": [],
   "source": [
    "# Mann-Whitney U-검정 수행\n",
    "# 이탈한 고객과 이탈하지 않은 고객의 월별 요금 데이터 추출\n",
    "monthly_charges_churn_yes = df[df['Churn'] == 'Yes']['MonthlyCharges']\n",
    "# monthly_charges_churn_no "
   ]
  },
  {
   "cell_type": "code",
   "execution_count": null,
   "id": "2569975b",
   "metadata": {},
   "outputs": [],
   "source": [
    "# Mann-Whitney U-검정 수행\n",
    "# u_statistic, p_value"
   ]
  },
  {
   "cell_type": "markdown",
   "id": "6a3bbb59",
   "metadata": {},
   "source": [
    "* 1종 오류 (Type I Error)\n",
    "    * 귀무가설이 실제로 참인데 잘못하여 기각하는 오류입니다.\n",
    "    * 매우 낮은 p_value 는 귀무가설(이탈한 고객과 이탈하지 않은 고객의 이용 기간에 차이가 없다)을 기각할 강력한 근거를 제공합니다. 그러나, 이것이 반드시 귀무가설이 거짓이라는 것을 의미하지는 않습니다. 즉, 이 결과로 인해 귀무가설을 잘못 기각할 확률(1종 오류를 범할 확률)은 매우 낮지만, 여전히 존재합니다.\n",
    "    * 1종 오류의 위험은 매우 낮으므로, 이 결과를 바탕으로 고객 이탈과 관련된 전략을 수립하는 것이 타당합니다.\n",
    "* 2종 오류 (Type II Error)\n",
    "    * 귀무가설이 거짓인데 이를 채택하는 오류입니다.\n",
    "    * 매우 낮은 p_value와 높은 t_statistic의 절대값은 귀무가설을 기각하고 대립가설(이탈한 고객과 이탈하지 않은 고객의 이용 기간에 차이가 있다)을 채택하는 데 충분합니다. 따라서, 이 경우 2종 오류(귀무가설이 거짓임에도 불구하고 채택하는 경우)를 범할 가능성은 매우 낮습니다. \n",
    "    * 2종 오류의 위험이 낮기 때문에, 이 결과는 신뢰할 수 있으며, 고객 유지 및 마케팅 전략에 중요한 영향을 미칠 수 있습니다."
   ]
  },
  {
   "cell_type": "code",
   "execution_count": null,
   "id": "faa4a93f",
   "metadata": {},
   "outputs": [],
   "source": []
  },
  {
   "cell_type": "code",
   "execution_count": null,
   "id": "68783931",
   "metadata": {},
   "outputs": [],
   "source": []
  },
  {
   "cell_type": "code",
   "execution_count": null,
   "id": "345ff99b",
   "metadata": {},
   "outputs": [],
   "source": []
  },
  {
   "cell_type": "code",
   "execution_count": null,
   "id": "719e0260",
   "metadata": {},
   "outputs": [],
   "source": []
  }
 ],
 "metadata": {
  "kernelspec": {
   "display_name": "Python 3 (ipykernel)",
   "language": "python",
   "name": "python3"
  },
  "language_info": {
   "codemirror_mode": {
    "name": "ipython",
    "version": 3
   },
   "file_extension": ".py",
   "mimetype": "text/x-python",
   "name": "python",
   "nbconvert_exporter": "python",
   "pygments_lexer": "ipython3",
   "version": "3.11.4"
  },
  "toc": {
   "base_numbering": 1,
   "nav_menu": {},
   "number_sections": true,
   "sideBar": true,
   "skip_h1_title": false,
   "title_cell": "Table of Contents",
   "title_sidebar": "Contents",
   "toc_cell": false,
   "toc_position": {},
   "toc_section_display": true,
   "toc_window_display": false
  },
  "varInspector": {
   "cols": {
    "lenName": 16,
    "lenType": 16,
    "lenVar": 40
   },
   "kernels_config": {
    "python": {
     "delete_cmd_postfix": "",
     "delete_cmd_prefix": "del ",
     "library": "var_list.py",
     "varRefreshCmd": "print(var_dic_list())"
    },
    "r": {
     "delete_cmd_postfix": ") ",
     "delete_cmd_prefix": "rm(",
     "library": "var_list.r",
     "varRefreshCmd": "cat(var_dic_list()) "
    }
   },
   "types_to_exclude": [
    "module",
    "function",
    "builtin_function_or_method",
    "instance",
    "_Feature"
   ],
   "window_display": false
  }
 },
 "nbformat": 4,
 "nbformat_minor": 5
}
