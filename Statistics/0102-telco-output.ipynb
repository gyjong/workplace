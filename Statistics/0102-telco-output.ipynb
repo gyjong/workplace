{
  "cells": [
    {
      "cell_type": "markdown",
      "id": "35fae2f5",
      "metadata": {
        "id": "35fae2f5"
      },
      "source": [
        "* 데이터셋 소개\n",
        "    * 해당 Kaggle 데이터셋( https://www.kaggle.com/blastchar/telco-customer-churn )은 통신사 고객 이탈(Churn)에 대한 정보를 담고 있습니다. IBM에서 제공한 이 데이터셋은 고객 유지에 필요한 행동을 예측하는 데 사용될 수 있으며, 고객 데이터를 분석하여 고객 유지 프로그램을 개발하는 데 도움이 됩니다.\n",
        "* 해당 데이터셋은 다음의 정보로 구성되어 있습니다.\n",
        "    * 고객 인구 통계 정보(Demographic info): 고객의 성별, 연령대, 배우자 및 부양 가족의 유무(Gender, SeniorCitizen, Partner, Dependents) 등에 관한 정보가 포함되어 있습니다.\n",
        "    * 고객 이탈(Churn) 정보: 서비스를 중단 여부에 대한 정보가 포함되어 있습니다.\n",
        "    * 서비스 가입 정보(Services subscribed): 고객들이 가입한 서비스들, 예를 들어 전화, 다중 라인, 인터넷, 온라인 보안, 온라인 백업, 장치 보호, 기술 지원, 스트리밍 TV 및 영화( honeService, MultipleLine, InternetService, OnlineSecurity, OnlineBackup, DeviceProtection, TechSupport, StreamingTV, StreamingMovies) 등에 대한 정보가 있습니다.\n",
        "    * 고객 계정 정보(Customer account info): 고객이 얼마나 오래 서비스를 이용했는지, 계약 유형, 결제 방법, 무페이퍼 청구 여부, 월별 요금, 총 요금 (CustomerID, Contract, PaperlessBilling, PaymentMethod, MonthlyCharges, TotalCharges, Tenure)등의 정보가 담겨 있습니다.\n"
      ]
    },
    {
      "cell_type": "code",
      "execution_count": 1,
      "id": "61fda25e",
      "metadata": {
        "id": "61fda25e"
      },
      "outputs": [],
      "source": [
        "import pandas as pd\n",
        "import numpy as np\n",
        "import seaborn as sns\n",
        "import matplotlib.pyplot as plt\n",
        "from scipy import stats"
      ]
    },
    {
      "cell_type": "code",
      "execution_count": 2,
      "id": "567030a9",
      "metadata": {
        "id": "567030a9",
        "colab": {
          "base_uri": "https://localhost:8080/"
        },
        "outputId": "732723c8-330a-4a51-fbf1-234d53ee2cfc"
      },
      "outputs": [
        {
          "output_type": "execute_result",
          "data": {
            "text/plain": [
              "(7043, 20)"
            ]
          },
          "metadata": {},
          "execution_count": 2
        }
      ],
      "source": [
        "# 데이터 로드\n",
        "df = pd.read_csv(\"https://bit.ly/telco-csv\", index_col=\"customerID\")\n",
        "df.shape"
      ]
    },
    {
      "cell_type": "code",
      "source": [
        "df.head()"
      ],
      "metadata": {
        "colab": {
          "base_uri": "https://localhost:8080/",
          "height": 344
        },
        "id": "MWlRfHp1gA-x",
        "outputId": "2245b572-35ef-4f53-e8d5-c2274ca6ebc4"
      },
      "id": "MWlRfHp1gA-x",
      "execution_count": 3,
      "outputs": [
        {
          "output_type": "execute_result",
          "data": {
            "text/plain": [
              "            gender  SeniorCitizen Partner Dependents  tenure PhoneService  \\\n",
              "customerID                                                                  \n",
              "7590-VHVEG  Female              0     Yes         No       1           No   \n",
              "5575-GNVDE    Male              0      No         No      34          Yes   \n",
              "3668-QPYBK    Male              0      No         No       2          Yes   \n",
              "7795-CFOCW    Male              0      No         No      45           No   \n",
              "9237-HQITU  Female              0      No         No       2          Yes   \n",
              "\n",
              "               MultipleLines InternetService OnlineSecurity OnlineBackup  \\\n",
              "customerID                                                                 \n",
              "7590-VHVEG  No phone service             DSL             No          Yes   \n",
              "5575-GNVDE                No             DSL            Yes           No   \n",
              "3668-QPYBK                No             DSL            Yes          Yes   \n",
              "7795-CFOCW  No phone service             DSL            Yes           No   \n",
              "9237-HQITU                No     Fiber optic             No           No   \n",
              "\n",
              "           DeviceProtection TechSupport StreamingTV StreamingMovies  \\\n",
              "customerID                                                            \n",
              "7590-VHVEG               No          No          No              No   \n",
              "5575-GNVDE              Yes          No          No              No   \n",
              "3668-QPYBK               No          No          No              No   \n",
              "7795-CFOCW              Yes         Yes          No              No   \n",
              "9237-HQITU               No          No          No              No   \n",
              "\n",
              "                  Contract PaperlessBilling              PaymentMethod  \\\n",
              "customerID                                                               \n",
              "7590-VHVEG  Month-to-month              Yes           Electronic check   \n",
              "5575-GNVDE        One year               No               Mailed check   \n",
              "3668-QPYBK  Month-to-month              Yes               Mailed check   \n",
              "7795-CFOCW        One year               No  Bank transfer (automatic)   \n",
              "9237-HQITU  Month-to-month              Yes           Electronic check   \n",
              "\n",
              "            MonthlyCharges TotalCharges Churn  \n",
              "customerID                                     \n",
              "7590-VHVEG           29.85        29.85    No  \n",
              "5575-GNVDE           56.95       1889.5    No  \n",
              "3668-QPYBK           53.85       108.15   Yes  \n",
              "7795-CFOCW           42.30      1840.75    No  \n",
              "9237-HQITU           70.70       151.65   Yes  "
            ],
            "text/html": [
              "\n",
              "  <div id=\"df-aad4c0f8-d635-4489-ac82-64e5d436353b\" class=\"colab-df-container\">\n",
              "    <div>\n",
              "<style scoped>\n",
              "    .dataframe tbody tr th:only-of-type {\n",
              "        vertical-align: middle;\n",
              "    }\n",
              "\n",
              "    .dataframe tbody tr th {\n",
              "        vertical-align: top;\n",
              "    }\n",
              "\n",
              "    .dataframe thead th {\n",
              "        text-align: right;\n",
              "    }\n",
              "</style>\n",
              "<table border=\"1\" class=\"dataframe\">\n",
              "  <thead>\n",
              "    <tr style=\"text-align: right;\">\n",
              "      <th></th>\n",
              "      <th>gender</th>\n",
              "      <th>SeniorCitizen</th>\n",
              "      <th>Partner</th>\n",
              "      <th>Dependents</th>\n",
              "      <th>tenure</th>\n",
              "      <th>PhoneService</th>\n",
              "      <th>MultipleLines</th>\n",
              "      <th>InternetService</th>\n",
              "      <th>OnlineSecurity</th>\n",
              "      <th>OnlineBackup</th>\n",
              "      <th>DeviceProtection</th>\n",
              "      <th>TechSupport</th>\n",
              "      <th>StreamingTV</th>\n",
              "      <th>StreamingMovies</th>\n",
              "      <th>Contract</th>\n",
              "      <th>PaperlessBilling</th>\n",
              "      <th>PaymentMethod</th>\n",
              "      <th>MonthlyCharges</th>\n",
              "      <th>TotalCharges</th>\n",
              "      <th>Churn</th>\n",
              "    </tr>\n",
              "    <tr>\n",
              "      <th>customerID</th>\n",
              "      <th></th>\n",
              "      <th></th>\n",
              "      <th></th>\n",
              "      <th></th>\n",
              "      <th></th>\n",
              "      <th></th>\n",
              "      <th></th>\n",
              "      <th></th>\n",
              "      <th></th>\n",
              "      <th></th>\n",
              "      <th></th>\n",
              "      <th></th>\n",
              "      <th></th>\n",
              "      <th></th>\n",
              "      <th></th>\n",
              "      <th></th>\n",
              "      <th></th>\n",
              "      <th></th>\n",
              "      <th></th>\n",
              "      <th></th>\n",
              "    </tr>\n",
              "  </thead>\n",
              "  <tbody>\n",
              "    <tr>\n",
              "      <th>7590-VHVEG</th>\n",
              "      <td>Female</td>\n",
              "      <td>0</td>\n",
              "      <td>Yes</td>\n",
              "      <td>No</td>\n",
              "      <td>1</td>\n",
              "      <td>No</td>\n",
              "      <td>No phone service</td>\n",
              "      <td>DSL</td>\n",
              "      <td>No</td>\n",
              "      <td>Yes</td>\n",
              "      <td>No</td>\n",
              "      <td>No</td>\n",
              "      <td>No</td>\n",
              "      <td>No</td>\n",
              "      <td>Month-to-month</td>\n",
              "      <td>Yes</td>\n",
              "      <td>Electronic check</td>\n",
              "      <td>29.85</td>\n",
              "      <td>29.85</td>\n",
              "      <td>No</td>\n",
              "    </tr>\n",
              "    <tr>\n",
              "      <th>5575-GNVDE</th>\n",
              "      <td>Male</td>\n",
              "      <td>0</td>\n",
              "      <td>No</td>\n",
              "      <td>No</td>\n",
              "      <td>34</td>\n",
              "      <td>Yes</td>\n",
              "      <td>No</td>\n",
              "      <td>DSL</td>\n",
              "      <td>Yes</td>\n",
              "      <td>No</td>\n",
              "      <td>Yes</td>\n",
              "      <td>No</td>\n",
              "      <td>No</td>\n",
              "      <td>No</td>\n",
              "      <td>One year</td>\n",
              "      <td>No</td>\n",
              "      <td>Mailed check</td>\n",
              "      <td>56.95</td>\n",
              "      <td>1889.5</td>\n",
              "      <td>No</td>\n",
              "    </tr>\n",
              "    <tr>\n",
              "      <th>3668-QPYBK</th>\n",
              "      <td>Male</td>\n",
              "      <td>0</td>\n",
              "      <td>No</td>\n",
              "      <td>No</td>\n",
              "      <td>2</td>\n",
              "      <td>Yes</td>\n",
              "      <td>No</td>\n",
              "      <td>DSL</td>\n",
              "      <td>Yes</td>\n",
              "      <td>Yes</td>\n",
              "      <td>No</td>\n",
              "      <td>No</td>\n",
              "      <td>No</td>\n",
              "      <td>No</td>\n",
              "      <td>Month-to-month</td>\n",
              "      <td>Yes</td>\n",
              "      <td>Mailed check</td>\n",
              "      <td>53.85</td>\n",
              "      <td>108.15</td>\n",
              "      <td>Yes</td>\n",
              "    </tr>\n",
              "    <tr>\n",
              "      <th>7795-CFOCW</th>\n",
              "      <td>Male</td>\n",
              "      <td>0</td>\n",
              "      <td>No</td>\n",
              "      <td>No</td>\n",
              "      <td>45</td>\n",
              "      <td>No</td>\n",
              "      <td>No phone service</td>\n",
              "      <td>DSL</td>\n",
              "      <td>Yes</td>\n",
              "      <td>No</td>\n",
              "      <td>Yes</td>\n",
              "      <td>Yes</td>\n",
              "      <td>No</td>\n",
              "      <td>No</td>\n",
              "      <td>One year</td>\n",
              "      <td>No</td>\n",
              "      <td>Bank transfer (automatic)</td>\n",
              "      <td>42.30</td>\n",
              "      <td>1840.75</td>\n",
              "      <td>No</td>\n",
              "    </tr>\n",
              "    <tr>\n",
              "      <th>9237-HQITU</th>\n",
              "      <td>Female</td>\n",
              "      <td>0</td>\n",
              "      <td>No</td>\n",
              "      <td>No</td>\n",
              "      <td>2</td>\n",
              "      <td>Yes</td>\n",
              "      <td>No</td>\n",
              "      <td>Fiber optic</td>\n",
              "      <td>No</td>\n",
              "      <td>No</td>\n",
              "      <td>No</td>\n",
              "      <td>No</td>\n",
              "      <td>No</td>\n",
              "      <td>No</td>\n",
              "      <td>Month-to-month</td>\n",
              "      <td>Yes</td>\n",
              "      <td>Electronic check</td>\n",
              "      <td>70.70</td>\n",
              "      <td>151.65</td>\n",
              "      <td>Yes</td>\n",
              "    </tr>\n",
              "  </tbody>\n",
              "</table>\n",
              "</div>\n",
              "    <div class=\"colab-df-buttons\">\n",
              "\n",
              "  <div class=\"colab-df-container\">\n",
              "    <button class=\"colab-df-convert\" onclick=\"convertToInteractive('df-aad4c0f8-d635-4489-ac82-64e5d436353b')\"\n",
              "            title=\"Convert this dataframe to an interactive table.\"\n",
              "            style=\"display:none;\">\n",
              "\n",
              "  <svg xmlns=\"http://www.w3.org/2000/svg\" height=\"24px\" viewBox=\"0 -960 960 960\">\n",
              "    <path d=\"M120-120v-720h720v720H120Zm60-500h600v-160H180v160Zm220 220h160v-160H400v160Zm0 220h160v-160H400v160ZM180-400h160v-160H180v160Zm440 0h160v-160H620v160ZM180-180h160v-160H180v160Zm440 0h160v-160H620v160Z\"/>\n",
              "  </svg>\n",
              "    </button>\n",
              "\n",
              "  <style>\n",
              "    .colab-df-container {\n",
              "      display:flex;\n",
              "      gap: 12px;\n",
              "    }\n",
              "\n",
              "    .colab-df-convert {\n",
              "      background-color: #E8F0FE;\n",
              "      border: none;\n",
              "      border-radius: 50%;\n",
              "      cursor: pointer;\n",
              "      display: none;\n",
              "      fill: #1967D2;\n",
              "      height: 32px;\n",
              "      padding: 0 0 0 0;\n",
              "      width: 32px;\n",
              "    }\n",
              "\n",
              "    .colab-df-convert:hover {\n",
              "      background-color: #E2EBFA;\n",
              "      box-shadow: 0px 1px 2px rgba(60, 64, 67, 0.3), 0px 1px 3px 1px rgba(60, 64, 67, 0.15);\n",
              "      fill: #174EA6;\n",
              "    }\n",
              "\n",
              "    .colab-df-buttons div {\n",
              "      margin-bottom: 4px;\n",
              "    }\n",
              "\n",
              "    [theme=dark] .colab-df-convert {\n",
              "      background-color: #3B4455;\n",
              "      fill: #D2E3FC;\n",
              "    }\n",
              "\n",
              "    [theme=dark] .colab-df-convert:hover {\n",
              "      background-color: #434B5C;\n",
              "      box-shadow: 0px 1px 3px 1px rgba(0, 0, 0, 0.15);\n",
              "      filter: drop-shadow(0px 1px 2px rgba(0, 0, 0, 0.3));\n",
              "      fill: #FFFFFF;\n",
              "    }\n",
              "  </style>\n",
              "\n",
              "    <script>\n",
              "      const buttonEl =\n",
              "        document.querySelector('#df-aad4c0f8-d635-4489-ac82-64e5d436353b button.colab-df-convert');\n",
              "      buttonEl.style.display =\n",
              "        google.colab.kernel.accessAllowed ? 'block' : 'none';\n",
              "\n",
              "      async function convertToInteractive(key) {\n",
              "        const element = document.querySelector('#df-aad4c0f8-d635-4489-ac82-64e5d436353b');\n",
              "        const dataTable =\n",
              "          await google.colab.kernel.invokeFunction('convertToInteractive',\n",
              "                                                    [key], {});\n",
              "        if (!dataTable) return;\n",
              "\n",
              "        const docLinkHtml = 'Like what you see? Visit the ' +\n",
              "          '<a target=\"_blank\" href=https://colab.research.google.com/notebooks/data_table.ipynb>data table notebook</a>'\n",
              "          + ' to learn more about interactive tables.';\n",
              "        element.innerHTML = '';\n",
              "        dataTable['output_type'] = 'display_data';\n",
              "        await google.colab.output.renderOutput(dataTable, element);\n",
              "        const docLink = document.createElement('div');\n",
              "        docLink.innerHTML = docLinkHtml;\n",
              "        element.appendChild(docLink);\n",
              "      }\n",
              "    </script>\n",
              "  </div>\n",
              "\n",
              "\n",
              "<div id=\"df-97637cec-0e0f-4a1d-9e72-2f7a891e9479\">\n",
              "  <button class=\"colab-df-quickchart\" onclick=\"quickchart('df-97637cec-0e0f-4a1d-9e72-2f7a891e9479')\"\n",
              "            title=\"Suggest charts\"\n",
              "            style=\"display:none;\">\n",
              "\n",
              "<svg xmlns=\"http://www.w3.org/2000/svg\" height=\"24px\"viewBox=\"0 0 24 24\"\n",
              "     width=\"24px\">\n",
              "    <g>\n",
              "        <path d=\"M19 3H5c-1.1 0-2 .9-2 2v14c0 1.1.9 2 2 2h14c1.1 0 2-.9 2-2V5c0-1.1-.9-2-2-2zM9 17H7v-7h2v7zm4 0h-2V7h2v10zm4 0h-2v-4h2v4z\"/>\n",
              "    </g>\n",
              "</svg>\n",
              "  </button>\n",
              "\n",
              "<style>\n",
              "  .colab-df-quickchart {\n",
              "      --bg-color: #E8F0FE;\n",
              "      --fill-color: #1967D2;\n",
              "      --hover-bg-color: #E2EBFA;\n",
              "      --hover-fill-color: #174EA6;\n",
              "      --disabled-fill-color: #AAA;\n",
              "      --disabled-bg-color: #DDD;\n",
              "  }\n",
              "\n",
              "  [theme=dark] .colab-df-quickchart {\n",
              "      --bg-color: #3B4455;\n",
              "      --fill-color: #D2E3FC;\n",
              "      --hover-bg-color: #434B5C;\n",
              "      --hover-fill-color: #FFFFFF;\n",
              "      --disabled-bg-color: #3B4455;\n",
              "      --disabled-fill-color: #666;\n",
              "  }\n",
              "\n",
              "  .colab-df-quickchart {\n",
              "    background-color: var(--bg-color);\n",
              "    border: none;\n",
              "    border-radius: 50%;\n",
              "    cursor: pointer;\n",
              "    display: none;\n",
              "    fill: var(--fill-color);\n",
              "    height: 32px;\n",
              "    padding: 0;\n",
              "    width: 32px;\n",
              "  }\n",
              "\n",
              "  .colab-df-quickchart:hover {\n",
              "    background-color: var(--hover-bg-color);\n",
              "    box-shadow: 0 1px 2px rgba(60, 64, 67, 0.3), 0 1px 3px 1px rgba(60, 64, 67, 0.15);\n",
              "    fill: var(--button-hover-fill-color);\n",
              "  }\n",
              "\n",
              "  .colab-df-quickchart-complete:disabled,\n",
              "  .colab-df-quickchart-complete:disabled:hover {\n",
              "    background-color: var(--disabled-bg-color);\n",
              "    fill: var(--disabled-fill-color);\n",
              "    box-shadow: none;\n",
              "  }\n",
              "\n",
              "  .colab-df-spinner {\n",
              "    border: 2px solid var(--fill-color);\n",
              "    border-color: transparent;\n",
              "    border-bottom-color: var(--fill-color);\n",
              "    animation:\n",
              "      spin 1s steps(1) infinite;\n",
              "  }\n",
              "\n",
              "  @keyframes spin {\n",
              "    0% {\n",
              "      border-color: transparent;\n",
              "      border-bottom-color: var(--fill-color);\n",
              "      border-left-color: var(--fill-color);\n",
              "    }\n",
              "    20% {\n",
              "      border-color: transparent;\n",
              "      border-left-color: var(--fill-color);\n",
              "      border-top-color: var(--fill-color);\n",
              "    }\n",
              "    30% {\n",
              "      border-color: transparent;\n",
              "      border-left-color: var(--fill-color);\n",
              "      border-top-color: var(--fill-color);\n",
              "      border-right-color: var(--fill-color);\n",
              "    }\n",
              "    40% {\n",
              "      border-color: transparent;\n",
              "      border-right-color: var(--fill-color);\n",
              "      border-top-color: var(--fill-color);\n",
              "    }\n",
              "    60% {\n",
              "      border-color: transparent;\n",
              "      border-right-color: var(--fill-color);\n",
              "    }\n",
              "    80% {\n",
              "      border-color: transparent;\n",
              "      border-right-color: var(--fill-color);\n",
              "      border-bottom-color: var(--fill-color);\n",
              "    }\n",
              "    90% {\n",
              "      border-color: transparent;\n",
              "      border-bottom-color: var(--fill-color);\n",
              "    }\n",
              "  }\n",
              "</style>\n",
              "\n",
              "  <script>\n",
              "    async function quickchart(key) {\n",
              "      const quickchartButtonEl =\n",
              "        document.querySelector('#' + key + ' button');\n",
              "      quickchartButtonEl.disabled = true;  // To prevent multiple clicks.\n",
              "      quickchartButtonEl.classList.add('colab-df-spinner');\n",
              "      try {\n",
              "        const charts = await google.colab.kernel.invokeFunction(\n",
              "            'suggestCharts', [key], {});\n",
              "      } catch (error) {\n",
              "        console.error('Error during call to suggestCharts:', error);\n",
              "      }\n",
              "      quickchartButtonEl.classList.remove('colab-df-spinner');\n",
              "      quickchartButtonEl.classList.add('colab-df-quickchart-complete');\n",
              "    }\n",
              "    (() => {\n",
              "      let quickchartButtonEl =\n",
              "        document.querySelector('#df-97637cec-0e0f-4a1d-9e72-2f7a891e9479 button');\n",
              "      quickchartButtonEl.style.display =\n",
              "        google.colab.kernel.accessAllowed ? 'block' : 'none';\n",
              "    })();\n",
              "  </script>\n",
              "</div>\n",
              "\n",
              "    </div>\n",
              "  </div>\n"
            ]
          },
          "metadata": {},
          "execution_count": 3
        }
      ]
    },
    {
      "cell_type": "code",
      "execution_count": 4,
      "id": "ef5322ae",
      "metadata": {
        "id": "ef5322ae",
        "colab": {
          "base_uri": "https://localhost:8080/"
        },
        "outputId": "716a17da-808c-40b3-c2c2-6992b42dab6e"
      },
      "outputs": [
        {
          "output_type": "stream",
          "name": "stdout",
          "text": [
            "<class 'pandas.core.frame.DataFrame'>\n",
            "Index: 7043 entries, 7590-VHVEG to 3186-AJIEK\n",
            "Data columns (total 20 columns):\n",
            " #   Column            Non-Null Count  Dtype  \n",
            "---  ------            --------------  -----  \n",
            " 0   gender            7043 non-null   object \n",
            " 1   SeniorCitizen     7043 non-null   int64  \n",
            " 2   Partner           7043 non-null   object \n",
            " 3   Dependents        7043 non-null   object \n",
            " 4   tenure            7043 non-null   int64  \n",
            " 5   PhoneService      7043 non-null   object \n",
            " 6   MultipleLines     7043 non-null   object \n",
            " 7   InternetService   7043 non-null   object \n",
            " 8   OnlineSecurity    7043 non-null   object \n",
            " 9   OnlineBackup      7043 non-null   object \n",
            " 10  DeviceProtection  7043 non-null   object \n",
            " 11  TechSupport       7043 non-null   object \n",
            " 12  StreamingTV       7043 non-null   object \n",
            " 13  StreamingMovies   7043 non-null   object \n",
            " 14  Contract          7043 non-null   object \n",
            " 15  PaperlessBilling  7043 non-null   object \n",
            " 16  PaymentMethod     7043 non-null   object \n",
            " 17  MonthlyCharges    7043 non-null   float64\n",
            " 18  TotalCharges      7043 non-null   object \n",
            " 19  Churn             7043 non-null   object \n",
            "dtypes: float64(1), int64(2), object(17)\n",
            "memory usage: 1.1+ MB\n"
          ]
        }
      ],
      "source": [
        "# info 결측치 확인, 데이터 타입 확인\n",
        "df.info()"
      ]
    },
    {
      "cell_type": "code",
      "source": [
        "df.index.nunique()"
      ],
      "metadata": {
        "colab": {
          "base_uri": "https://localhost:8080/"
        },
        "id": "X9b5DRwAhgX3",
        "outputId": "c9fb7bb8-0010-45a8-b4f3-4dacea5deb42"
      },
      "id": "X9b5DRwAhgX3",
      "execution_count": 5,
      "outputs": [
        {
          "output_type": "execute_result",
          "data": {
            "text/plain": [
              "7043"
            ]
          },
          "metadata": {},
          "execution_count": 5
        }
      ]
    },
    {
      "cell_type": "code",
      "source": [
        "df.nunique()"
      ],
      "metadata": {
        "colab": {
          "base_uri": "https://localhost:8080/"
        },
        "id": "_Jfo9Ikohzur",
        "outputId": "1f0e96d1-fc6a-48c5-fced-faf04e428c14"
      },
      "id": "_Jfo9Ikohzur",
      "execution_count": 6,
      "outputs": [
        {
          "output_type": "execute_result",
          "data": {
            "text/plain": [
              "gender                 2\n",
              "SeniorCitizen          2\n",
              "Partner                2\n",
              "Dependents             2\n",
              "tenure                73\n",
              "PhoneService           2\n",
              "MultipleLines          3\n",
              "InternetService        3\n",
              "OnlineSecurity         3\n",
              "OnlineBackup           3\n",
              "DeviceProtection       3\n",
              "TechSupport            3\n",
              "StreamingTV            3\n",
              "StreamingMovies        3\n",
              "Contract               3\n",
              "PaperlessBilling       2\n",
              "PaymentMethod          4\n",
              "MonthlyCharges      1585\n",
              "TotalCharges        6531\n",
              "Churn                  2\n",
              "dtype: int64"
            ]
          },
          "metadata": {},
          "execution_count": 6
        }
      ]
    },
    {
      "cell_type": "code",
      "source": [
        "df[\"TotalCharges\"].describe()"
      ],
      "metadata": {
        "colab": {
          "base_uri": "https://localhost:8080/"
        },
        "id": "vYIxoKkOlA8m",
        "outputId": "7b68cb1b-c9dd-47dc-e2f7-b731b3824323"
      },
      "id": "vYIxoKkOlA8m",
      "execution_count": 7,
      "outputs": [
        {
          "output_type": "execute_result",
          "data": {
            "text/plain": [
              "count     7043\n",
              "unique    6531\n",
              "top           \n",
              "freq        11\n",
              "Name: TotalCharges, dtype: object"
            ]
          },
          "metadata": {},
          "execution_count": 7
        }
      ]
    },
    {
      "cell_type": "code",
      "execution_count": 8,
      "id": "666f1bd7",
      "metadata": {
        "id": "666f1bd7",
        "colab": {
          "base_uri": "https://localhost:8080/"
        },
        "outputId": "211ff042-e779-4177-808e-9a38b830b5ee"
      },
      "outputs": [
        {
          "output_type": "execute_result",
          "data": {
            "text/plain": [
              "count    7032.000000\n",
              "mean     2283.300441\n",
              "std      2266.771362\n",
              "min        18.800000\n",
              "25%       401.450000\n",
              "50%      1397.475000\n",
              "75%      3794.737500\n",
              "max      8684.800000\n",
              "Name: TotalCharges, dtype: float64"
            ]
          },
          "metadata": {},
          "execution_count": 8
        }
      ],
      "source": [
        "# # 숫자형태로 된 문자열을 숫자형으로 바꿔줍니다.\n",
        "# df[\"TotalCharges\"].replace(\" \", np.nan).astype(float)\n",
        "df[\"TotalCharges\"] = pd.to_numeric(df[\"TotalCharges\"], errors='coerce')\n",
        "df[\"TotalCharges\"].describe()"
      ]
    },
    {
      "cell_type": "code",
      "source": [
        "df[\"TotalCharges_minus\"] = df[\"TotalCharges\"] * -1\n",
        "df[\"TotalCharges_minus\"]"
      ],
      "metadata": {
        "colab": {
          "base_uri": "https://localhost:8080/"
        },
        "id": "oHnsb0C4nVvk",
        "outputId": "6a7c63c8-22f5-4ead-c9f8-9484d1d68941"
      },
      "id": "oHnsb0C4nVvk",
      "execution_count": 9,
      "outputs": [
        {
          "output_type": "execute_result",
          "data": {
            "text/plain": [
              "customerID\n",
              "7590-VHVEG     -29.85\n",
              "5575-GNVDE   -1889.50\n",
              "3668-QPYBK    -108.15\n",
              "7795-CFOCW   -1840.75\n",
              "9237-HQITU    -151.65\n",
              "               ...   \n",
              "6840-RESVB   -1990.50\n",
              "2234-XADUH   -7362.90\n",
              "4801-JZAZL    -346.45\n",
              "8361-LTMKD    -306.60\n",
              "3186-AJIEK   -6844.50\n",
              "Name: TotalCharges_minus, Length: 7043, dtype: float64"
            ]
          },
          "metadata": {},
          "execution_count": 9
        }
      ]
    },
    {
      "cell_type": "code",
      "source": [
        "df[\"TotalCharges_minus\"].plot(kind=\"box\", figsize=(12, 2))"
      ],
      "metadata": {
        "colab": {
          "base_uri": "https://localhost:8080/",
          "height": 232
        },
        "id": "gHHPXKWzniBY",
        "outputId": "693ed19d-ff4a-4416-d72c-adb9516d37c7"
      },
      "id": "gHHPXKWzniBY",
      "execution_count": 10,
      "outputs": [
        {
          "output_type": "execute_result",
          "data": {
            "text/plain": [
              "<Axes: >"
            ]
          },
          "metadata": {},
          "execution_count": 10
        },
        {
          "output_type": "display_data",
          "data": {
            "text/plain": [
              "<Figure size 1200x200 with 1 Axes>"
            ],
            "image/png": "[encoded data removed]"
          },
          "metadata": {}
        }
      ]
    },
    {
      "cell_type": "code",
      "source": [
        "plt.figure(figsize=(12, 2))\n",
        "sns.boxplot(data=df, x=\"TotalCharges_minus\")"
      ],
      "metadata": {
        "colab": {
          "base_uri": "https://localhost:8080/",
          "height": 252
        },
        "id": "_Ki23VUxnbdH",
        "outputId": "277ee16f-d2fc-45dd-ef03-004b30fe57aa"
      },
      "id": "_Ki23VUxnbdH",
      "execution_count": 11,
      "outputs": [
        {
          "output_type": "execute_result",
          "data": {
            "text/plain": [
              "<Axes: xlabel='TotalCharges_minus'>"
            ]
          },
          "metadata": {},
          "execution_count": 11
        },
        {
          "output_type": "display_data",
          "data": {
            "text/plain": [
              "<Figure size 1200x200 with 1 Axes>"
            ],
            "image/png": "[encoded data removed]"
          },
          "metadata": {}
        }
      ]
    },
    {
      "cell_type": "markdown",
      "id": "32a789e4",
      "metadata": {
        "id": "32a789e4"
      },
      "source": [
        "## 기술 통계\n",
        "\n",
        "\n",
        "- **평균 (Mean)**: $\\bar{x} = \\frac{1}{n}\\sum_{i=1}^{n}x_i$\n",
        "  - 모든 데이터 포인트의 합을 데이터의 개수로 나눈 값\n",
        "- **표본 분산 (Sample Variance)**: $s^2 = \\frac{1}{n-1}\\sum_{i=1}^{n}(x_i - \\bar{x})^2$\n",
        "  - 각 데이터 포인트와 평균의 차이의 제곱의 합을 자유도(n-1)로 나눈 값\n",
        "- **표준편차 (Standard Deviation)**: $s = \\sqrt{s^2}$\n",
        "  - 분산의 제곱근\n",
        "- **Z-점수 (Z-Score)**: $z = \\frac{x - \\mu}{\\sigma}$\n",
        "  - 개별 데이터 포인트가 평균으로부터 표준편차의 몇 배 떨어져 있는지 나타내는 값\n",
        "- **t-통계량 (t-Statistic)**: $t = \\frac{\\bar{x} - \\mu}{s/\\sqrt{n}}$\n",
        "  - 표본 평균이 모집단 평균으로부터 얼마나 떨어져 있는지 나타내는 값\n"
      ]
    },
    {
      "cell_type": "code",
      "execution_count": 12,
      "id": "4d759df2",
      "metadata": {
        "id": "4d759df2",
        "colab": {
          "base_uri": "https://localhost:8080/",
          "height": 300
        },
        "outputId": "44704edd-ad37-4d5e-f710-50997c538a55"
      },
      "outputs": [
        {
          "output_type": "execute_result",
          "data": {
            "text/plain": [
              "       SeniorCitizen       tenure  MonthlyCharges  TotalCharges  \\\n",
              "count    7043.000000  7043.000000     7043.000000   7032.000000   \n",
              "mean        0.162147    32.371149       64.761692   2283.300441   \n",
              "std         0.368612    24.559481       30.090047   2266.771362   \n",
              "min         0.000000     0.000000       18.250000     18.800000   \n",
              "25%         0.000000     9.000000       35.500000    401.450000   \n",
              "50%         0.000000    29.000000       70.350000   1397.475000   \n",
              "75%         0.000000    55.000000       89.850000   3794.737500   \n",
              "max         1.000000    72.000000      118.750000   8684.800000   \n",
              "\n",
              "       TotalCharges_minus  \n",
              "count         7032.000000  \n",
              "mean         -2283.300441  \n",
              "std           2266.771362  \n",
              "min          -8684.800000  \n",
              "25%          -3794.737500  \n",
              "50%          -1397.475000  \n",
              "75%           -401.450000  \n",
              "max            -18.800000  "
            ],
            "text/html": [
              "\n",
              "  <div id=\"df-95be1544-76d2-4554-9ffa-a433ea04d8ee\" class=\"colab-df-container\">\n",
              "    <div>\n",
              "<style scoped>\n",
              "    .dataframe tbody tr th:only-of-type {\n",
              "        vertical-align: middle;\n",
              "    }\n",
              "\n",
              "    .dataframe tbody tr th {\n",
              "        vertical-align: top;\n",
              "    }\n",
              "\n",
              "    .dataframe thead th {\n",
              "        text-align: right;\n",
              "    }\n",
              "</style>\n",
              "<table border=\"1\" class=\"dataframe\">\n",
              "  <thead>\n",
              "    <tr style=\"text-align: right;\">\n",
              "      <th></th>\n",
              "      <th>SeniorCitizen</th>\n",
              "      <th>tenure</th>\n",
              "      <th>MonthlyCharges</th>\n",
              "      <th>TotalCharges</th>\n",
              "      <th>TotalCharges_minus</th>\n",
              "    </tr>\n",
              "  </thead>\n",
              "  <tbody>\n",
              "    <tr>\n",
              "      <th>count</th>\n",
              "      <td>7043.000000</td>\n",
              "      <td>7043.000000</td>\n",
              "      <td>7043.000000</td>\n",
              "      <td>7032.000000</td>\n",
              "      <td>7032.000000</td>\n",
              "    </tr>\n",
              "    <tr>\n",
              "      <th>mean</th>\n",
              "      <td>0.162147</td>\n",
              "      <td>32.371149</td>\n",
              "      <td>64.761692</td>\n",
              "      <td>2283.300441</td>\n",
              "      <td>-2283.300441</td>\n",
              "    </tr>\n",
              "    <tr>\n",
              "      <th>std</th>\n",
              "      <td>0.368612</td>\n",
              "      <td>24.559481</td>\n",
              "      <td>30.090047</td>\n",
              "      <td>2266.771362</td>\n",
              "      <td>2266.771362</td>\n",
              "    </tr>\n",
              "    <tr>\n",
              "      <th>min</th>\n",
              "      <td>0.000000</td>\n",
              "      <td>0.000000</td>\n",
              "      <td>18.250000</td>\n",
              "      <td>18.800000</td>\n",
              "      <td>-8684.800000</td>\n",
              "    </tr>\n",
              "    <tr>\n",
              "      <th>25%</th>\n",
              "      <td>0.000000</td>\n",
              "      <td>9.000000</td>\n",
              "      <td>35.500000</td>\n",
              "      <td>401.450000</td>\n",
              "      <td>-3794.737500</td>\n",
              "    </tr>\n",
              "    <tr>\n",
              "      <th>50%</th>\n",
              "      <td>0.000000</td>\n",
              "      <td>29.000000</td>\n",
              "      <td>70.350000</td>\n",
              "      <td>1397.475000</td>\n",
              "      <td>-1397.475000</td>\n",
              "    </tr>\n",
              "    <tr>\n",
              "      <th>75%</th>\n",
              "      <td>0.000000</td>\n",
              "      <td>55.000000</td>\n",
              "      <td>89.850000</td>\n",
              "      <td>3794.737500</td>\n",
              "      <td>-401.450000</td>\n",
              "    </tr>\n",
              "    <tr>\n",
              "      <th>max</th>\n",
              "      <td>1.000000</td>\n",
              "      <td>72.000000</td>\n",
              "      <td>118.750000</td>\n",
              "      <td>8684.800000</td>\n",
              "      <td>-18.800000</td>\n",
              "    </tr>\n",
              "  </tbody>\n",
              "</table>\n",
              "</div>\n",
              "    <div class=\"colab-df-buttons\">\n",
              "\n",
              "  <div class=\"colab-df-container\">\n",
              "    <button class=\"colab-df-convert\" onclick=\"convertToInteractive('df-95be1544-76d2-4554-9ffa-a433ea04d8ee')\"\n",
              "            title=\"Convert this dataframe to an interactive table.\"\n",
              "            style=\"display:none;\">\n",
              "\n",
              "  <svg xmlns=\"http://www.w3.org/2000/svg\" height=\"24px\" viewBox=\"0 -960 960 960\">\n",
              "    <path d=\"M120-120v-720h720v720H120Zm60-500h600v-160H180v160Zm220 220h160v-160H400v160Zm0 220h160v-160H400v160ZM180-400h160v-160H180v160Zm440 0h160v-160H620v160ZM180-180h160v-160H180v160Zm440 0h160v-160H620v160Z\"/>\n",
              "  </svg>\n",
              "    </button>\n",
              "\n",
              "  <style>\n",
              "    .colab-df-container {\n",
              "      display:flex;\n",
              "      gap: 12px;\n",
              "    }\n",
              "\n",
              "    .colab-df-convert {\n",
              "      background-color: #E8F0FE;\n",
              "      border: none;\n",
              "      border-radius: 50%;\n",
              "      cursor: pointer;\n",
              "      display: none;\n",
              "      fill: #1967D2;\n",
              "      height: 32px;\n",
              "      padding: 0 0 0 0;\n",
              "      width: 32px;\n",
              "    }\n",
              "\n",
              "    .colab-df-convert:hover {\n",
              "      background-color: #E2EBFA;\n",
              "      box-shadow: 0px 1px 2px rgba(60, 64, 67, 0.3), 0px 1px 3px 1px rgba(60, 64, 67, 0.15);\n",
              "      fill: #174EA6;\n",
              "    }\n",
              "\n",
              "    .colab-df-buttons div {\n",
              "      margin-bottom: 4px;\n",
              "    }\n",
              "\n",
              "    [theme=dark] .colab-df-convert {\n",
              "      background-color: #3B4455;\n",
              "      fill: #D2E3FC;\n",
              "    }\n",
              "\n",
              "    [theme=dark] .colab-df-convert:hover {\n",
              "      background-color: #434B5C;\n",
              "      box-shadow: 0px 1px 3px 1px rgba(0, 0, 0, 0.15);\n",
              "      filter: drop-shadow(0px 1px 2px rgba(0, 0, 0, 0.3));\n",
              "      fill: #FFFFFF;\n",
              "    }\n",
              "  </style>\n",
              "\n",
              "    <script>\n",
              "      const buttonEl =\n",
              "        document.querySelector('#df-95be1544-76d2-4554-9ffa-a433ea04d8ee button.colab-df-convert');\n",
              "      buttonEl.style.display =\n",
              "        google.colab.kernel.accessAllowed ? 'block' : 'none';\n",
              "\n",
              "      async function convertToInteractive(key) {\n",
              "        const element = document.querySelector('#df-95be1544-76d2-4554-9ffa-a433ea04d8ee');\n",
              "        const dataTable =\n",
              "          await google.colab.kernel.invokeFunction('convertToInteractive',\n",
              "                                                    [key], {});\n",
              "        if (!dataTable) return;\n",
              "\n",
              "        const docLinkHtml = 'Like what you see? Visit the ' +\n",
              "          '<a target=\"_blank\" href=https://colab.research.google.com/notebooks/data_table.ipynb>data table notebook</a>'\n",
              "          + ' to learn more about interactive tables.';\n",
              "        element.innerHTML = '';\n",
              "        dataTable['output_type'] = 'display_data';\n",
              "        await google.colab.output.renderOutput(dataTable, element);\n",
              "        const docLink = document.createElement('div');\n",
              "        docLink.innerHTML = docLinkHtml;\n",
              "        element.appendChild(docLink);\n",
              "      }\n",
              "    </script>\n",
              "  </div>\n",
              "\n",
              "\n",
              "<div id=\"df-063dfbd6-6e7e-468d-9e05-6756c9fb4002\">\n",
              "  <button class=\"colab-df-quickchart\" onclick=\"quickchart('df-063dfbd6-6e7e-468d-9e05-6756c9fb4002')\"\n",
              "            title=\"Suggest charts\"\n",
              "            style=\"display:none;\">\n",
              "\n",
              "<svg xmlns=\"http://www.w3.org/2000/svg\" height=\"24px\"viewBox=\"0 0 24 24\"\n",
              "     width=\"24px\">\n",
              "    <g>\n",
              "        <path d=\"M19 3H5c-1.1 0-2 .9-2 2v14c0 1.1.9 2 2 2h14c1.1 0 2-.9 2-2V5c0-1.1-.9-2-2-2zM9 17H7v-7h2v7zm4 0h-2V7h2v10zm4 0h-2v-4h2v4z\"/>\n",
              "    </g>\n",
              "</svg>\n",
              "  </button>\n",
              "\n",
              "<style>\n",
              "  .colab-df-quickchart {\n",
              "      --bg-color: #E8F0FE;\n",
              "      --fill-color: #1967D2;\n",
              "      --hover-bg-color: #E2EBFA;\n",
              "      --hover-fill-color: #174EA6;\n",
              "      --disabled-fill-color: #AAA;\n",
              "      --disabled-bg-color: #DDD;\n",
              "  }\n",
              "\n",
              "  [theme=dark] .colab-df-quickchart {\n",
              "      --bg-color: #3B4455;\n",
              "      --fill-color: #D2E3FC;\n",
              "      --hover-bg-color: #434B5C;\n",
              "      --hover-fill-color: #FFFFFF;\n",
              "      --disabled-bg-color: #3B4455;\n",
              "      --disabled-fill-color: #666;\n",
              "  }\n",
              "\n",
              "  .colab-df-quickchart {\n",
              "    background-color: var(--bg-color);\n",
              "    border: none;\n",
              "    border-radius: 50%;\n",
              "    cursor: pointer;\n",
              "    display: none;\n",
              "    fill: var(--fill-color);\n",
              "    height: 32px;\n",
              "    padding: 0;\n",
              "    width: 32px;\n",
              "  }\n",
              "\n",
              "  .colab-df-quickchart:hover {\n",
              "    background-color: var(--hover-bg-color);\n",
              "    box-shadow: 0 1px 2px rgba(60, 64, 67, 0.3), 0 1px 3px 1px rgba(60, 64, 67, 0.15);\n",
              "    fill: var(--button-hover-fill-color);\n",
              "  }\n",
              "\n",
              "  .colab-df-quickchart-complete:disabled,\n",
              "  .colab-df-quickchart-complete:disabled:hover {\n",
              "    background-color: var(--disabled-bg-color);\n",
              "    fill: var(--disabled-fill-color);\n",
              "    box-shadow: none;\n",
              "  }\n",
              "\n",
              "  .colab-df-spinner {\n",
              "    border: 2px solid var(--fill-color);\n",
              "    border-color: transparent;\n",
              "    border-bottom-color: var(--fill-color);\n",
              "    animation:\n",
              "      spin 1s steps(1) infinite;\n",
              "  }\n",
              "\n",
              "  @keyframes spin {\n",
              "    0% {\n",
              "      border-color: transparent;\n",
              "      border-bottom-color: var(--fill-color);\n",
              "      border-left-color: var(--fill-color);\n",
              "    }\n",
              "    20% {\n",
              "      border-color: transparent;\n",
              "      border-left-color: var(--fill-color);\n",
              "      border-top-color: var(--fill-color);\n",
              "    }\n",
              "    30% {\n",
              "      border-color: transparent;\n",
              "      border-left-color: var(--fill-color);\n",
              "      border-top-color: var(--fill-color);\n",
              "      border-right-color: var(--fill-color);\n",
              "    }\n",
              "    40% {\n",
              "      border-color: transparent;\n",
              "      border-right-color: var(--fill-color);\n",
              "      border-top-color: var(--fill-color);\n",
              "    }\n",
              "    60% {\n",
              "      border-color: transparent;\n",
              "      border-right-color: var(--fill-color);\n",
              "    }\n",
              "    80% {\n",
              "      border-color: transparent;\n",
              "      border-right-color: var(--fill-color);\n",
              "      border-bottom-color: var(--fill-color);\n",
              "    }\n",
              "    90% {\n",
              "      border-color: transparent;\n",
              "      border-bottom-color: var(--fill-color);\n",
              "    }\n",
              "  }\n",
              "</style>\n",
              "\n",
              "  <script>\n",
              "    async function quickchart(key) {\n",
              "      const quickchartButtonEl =\n",
              "        document.querySelector('#' + key + ' button');\n",
              "      quickchartButtonEl.disabled = true;  // To prevent multiple clicks.\n",
              "      quickchartButtonEl.classList.add('colab-df-spinner');\n",
              "      try {\n",
              "        const charts = await google.colab.kernel.invokeFunction(\n",
              "            'suggestCharts', [key], {});\n",
              "      } catch (error) {\n",
              "        console.error('Error during call to suggestCharts:', error);\n",
              "      }\n",
              "      quickchartButtonEl.classList.remove('colab-df-spinner');\n",
              "      quickchartButtonEl.classList.add('colab-df-quickchart-complete');\n",
              "    }\n",
              "    (() => {\n",
              "      let quickchartButtonEl =\n",
              "        document.querySelector('#df-063dfbd6-6e7e-468d-9e05-6756c9fb4002 button');\n",
              "      quickchartButtonEl.style.display =\n",
              "        google.colab.kernel.accessAllowed ? 'block' : 'none';\n",
              "    })();\n",
              "  </script>\n",
              "</div>\n",
              "\n",
              "    </div>\n",
              "  </div>\n"
            ]
          },
          "metadata": {},
          "execution_count": 12
        }
      ],
      "source": [
        "# describe\n",
        "df.describe()"
      ]
    },
    {
      "cell_type": "code",
      "source": [
        "# 결측치 확인\n",
        "df.isnull().sum()"
      ],
      "metadata": {
        "colab": {
          "base_uri": "https://localhost:8080/"
        },
        "id": "TqCGGJfboUt3",
        "outputId": "5ca8b597-b670-4ef0-ae9e-8ea9a6e547e4"
      },
      "id": "TqCGGJfboUt3",
      "execution_count": 13,
      "outputs": [
        {
          "output_type": "execute_result",
          "data": {
            "text/plain": [
              "gender                 0\n",
              "SeniorCitizen          0\n",
              "Partner                0\n",
              "Dependents             0\n",
              "tenure                 0\n",
              "PhoneService           0\n",
              "MultipleLines          0\n",
              "InternetService        0\n",
              "OnlineSecurity         0\n",
              "OnlineBackup           0\n",
              "DeviceProtection       0\n",
              "TechSupport            0\n",
              "StreamingTV            0\n",
              "StreamingMovies        0\n",
              "Contract               0\n",
              "PaperlessBilling       0\n",
              "PaymentMethod          0\n",
              "MonthlyCharges         0\n",
              "TotalCharges          11\n",
              "Churn                  0\n",
              "TotalCharges_minus    11\n",
              "dtype: int64"
            ]
          },
          "metadata": {},
          "execution_count": 13
        }
      ]
    },
    {
      "cell_type": "markdown",
      "id": "018ec42f",
      "metadata": {
        "id": "018ec42f"
      },
      "source": [
        "* 모집단과 표본\n",
        "    - 모집단과 표본\n",
        "    - 모수와 통계량\n",
        "* 무선 표집\n",
        "    - 표집 방법(층화표집)\n",
        "    - 표집 분포\n",
        "\n",
        "## 표집\n",
        "* 표집 후 시각화 비교"
      ]
    },
    {
      "cell_type": "code",
      "source": [
        "df.hist(bins=50, figsize=(8, 8));"
      ],
      "metadata": {
        "colab": {
          "base_uri": "https://localhost:8080/",
          "height": 699
        },
        "id": "kzbDj_0not_4",
        "outputId": "5fa94c46-934a-4c18-8b94-46643314c57d"
      },
      "id": "kzbDj_0not_4",
      "execution_count": 14,
      "outputs": [
        {
          "output_type": "display_data",
          "data": {
            "text/plain": [
              "<Figure size 800x800 with 6 Axes>"
            ],
            "image/png": "[encoded data removed]"
          },
          "metadata": {}
        }
      ]
    },
    {
      "cell_type": "code",
      "execution_count": 15,
      "id": "7c366260",
      "metadata": {
        "id": "7c366260",
        "colab": {
          "base_uri": "https://localhost:8080/",
          "height": 699
        },
        "outputId": "7d100ab1-06ad-4b65-eb5f-107ad45962dd"
      },
      "outputs": [
        {
          "output_type": "display_data",
          "data": {
            "text/plain": [
              "<Figure size 800x800 with 6 Axes>"
            ],
            "image/png": "[encoded data removed]"
          },
          "metadata": {}
        }
      ],
      "source": [
        "# df.sample(n).hist();\n",
        "df.sample(1000).hist(bins=50, figsize=(8, 8));"
      ]
    },
    {
      "cell_type": "code",
      "execution_count": 16,
      "id": "58a1c231",
      "metadata": {
        "id": "58a1c231",
        "colab": {
          "base_uri": "https://localhost:8080/",
          "height": 699
        },
        "outputId": "22f8f19a-170e-4535-935c-cd974a30662d"
      },
      "outputs": [
        {
          "output_type": "display_data",
          "data": {
            "text/plain": [
              "<Figure size 800x800 with 6 Axes>"
            ],
            "image/png": "[encoded data removed]"
          },
          "metadata": {}
        }
      ],
      "source": [
        "# df.sample(frac).hist();\n",
        "\n",
        "df.sample(frac=0.1).hist(bins=50, figsize=(8, 8));"
      ]
    },
    {
      "cell_type": "markdown",
      "id": "2417aba9",
      "metadata": {
        "id": "2417aba9"
      },
      "source": [
        "### 무선 표집으로 중심극한정리 실습\n",
        "* 부트스트래핑"
      ]
    },
    {
      "cell_type": "code",
      "execution_count": 17,
      "id": "caf54c5b",
      "metadata": {
        "id": "caf54c5b"
      },
      "outputs": [],
      "source": [
        "# 중심극한정리를 시연하기 위해, 여러 번에 걸쳐서 표본 평균을 계산합니다.\n",
        "sample_means = []\n",
        "n_samples = 1000  # 표본 추출 횟수\n",
        "sample_size = 50   # 각 표본의 크기\n",
        "\n",
        "for _ in range(n_samples):\n",
        "    sample = df[\"TotalCharges\"].sample(n=sample_size)\n",
        "    sample_means.append(sample.mean())"
      ]
    },
    {
      "cell_type": "code",
      "execution_count": 18,
      "id": "0f555917",
      "metadata": {
        "id": "0f555917",
        "colab": {
          "base_uri": "https://localhost:8080/",
          "height": 472
        },
        "outputId": "55cee978-4463-4d51-9677-71e606fafdc8"
      },
      "outputs": [
        {
          "output_type": "display_data",
          "data": {
            "text/plain": [
              "<Figure size 640x480 with 1 Axes>"
            ],
            "image/png": "[encoded data removed]"
          },
          "metadata": {}
        }
      ],
      "source": [
        "# 표본 평균들의 분포를 시각화합니다.\n",
        "plt.hist(sample_means, bins=30, edgecolor='black')\n",
        "plt.title('Distribution of Sample Means')\n",
        "plt.xlabel('Sample Mean')\n",
        "plt.ylabel('Frequency')\n",
        "plt.show()"
      ]
    },
    {
      "cell_type": "markdown",
      "id": "4a7e5214",
      "metadata": {
        "id": "4a7e5214"
      },
      "source": [
        "## 층화 표집\n",
        "* 통계학에서, 층화표집(層化標集, Stratified sampling)은 모집단을 먼저 중복되지 않도록 층으로 나눈 다음 각 층에서 표본을 추출하는 방법이다. 층을 나눌 때 층내는 동질적(homogeneous), 층간은 이질적(heterogeneous) 특성을 가지도록 하면 적은 비용으로 더 정확한 추정을 할 수 있으며, 전체 모집단뿐만 아니라 각 층의 특성에 대한 추정도 할 수 있다는 장점이 있다. 각 층으로부터 표본을 추출할 때 단순임의 추출방법을 쓸 수도 있고 계통표집(systematic sampling) 등 다른 추출방법을 쓸 수도 있다. 또 필요에 따라 각 층을 다시 하위층으로 나누어 추출하는 다단계 층화 추출을 하기도 한다.\n",
        "* https://ko.wikipedia.org/wiki/층화표집\n",
        "* [sklearn.model\\_selection.train\\_test\\_split — scikit-learn 1.4.0 documentation](https://scikit-learn.org/stable/modules/generated/sklearn.model_selection.train_test_split.html#sklearn.model_selection.train_test_split)"
      ]
    },
    {
      "cell_type": "code",
      "execution_count": 19,
      "id": "23713fed",
      "metadata": {
        "id": "23713fed",
        "colab": {
          "base_uri": "https://localhost:8080/",
          "height": 228
        },
        "outputId": "134931a3-a81d-4272-a320-be55c4b04d5b"
      },
      "outputs": [
        {
          "output_type": "execute_result",
          "data": {
            "text/plain": [
              "            gender  SeniorCitizen Partner Dependents  tenure PhoneService  \\\n",
              "customerID                                                                  \n",
              "7590-VHVEG  Female              0     Yes         No       1           No   \n",
              "5575-GNVDE    Male              0      No         No      34          Yes   \n",
              "\n",
              "               MultipleLines InternetService OnlineSecurity OnlineBackup  ...  \\\n",
              "customerID                                                                ...   \n",
              "7590-VHVEG  No phone service             DSL             No          Yes  ...   \n",
              "5575-GNVDE                No             DSL            Yes           No  ...   \n",
              "\n",
              "           TechSupport StreamingTV StreamingMovies        Contract  \\\n",
              "customerID                                                           \n",
              "7590-VHVEG          No          No              No  Month-to-month   \n",
              "5575-GNVDE          No          No              No        One year   \n",
              "\n",
              "           PaperlessBilling     PaymentMethod MonthlyCharges  TotalCharges  \\\n",
              "customerID                                                                   \n",
              "7590-VHVEG              Yes  Electronic check          29.85         29.85   \n",
              "5575-GNVDE               No      Mailed check          56.95       1889.50   \n",
              "\n",
              "            Churn TotalCharges_minus  \n",
              "customerID                            \n",
              "7590-VHVEG     No             -29.85  \n",
              "5575-GNVDE     No           -1889.50  \n",
              "\n",
              "[2 rows x 21 columns]"
            ],
            "text/html": [
              "\n",
              "  <div id=\"df-784af76f-39de-463c-9486-10bb83acd2e3\" class=\"colab-df-container\">\n",
              "    <div>\n",
              "<style scoped>\n",
              "    .dataframe tbody tr th:only-of-type {\n",
              "        vertical-align: middle;\n",
              "    }\n",
              "\n",
              "    .dataframe tbody tr th {\n",
              "        vertical-align: top;\n",
              "    }\n",
              "\n",
              "    .dataframe thead th {\n",
              "        text-align: right;\n",
              "    }\n",
              "</style>\n",
              "<table border=\"1\" class=\"dataframe\">\n",
              "  <thead>\n",
              "    <tr style=\"text-align: right;\">\n",
              "      <th></th>\n",
              "      <th>gender</th>\n",
              "      <th>SeniorCitizen</th>\n",
              "      <th>Partner</th>\n",
              "      <th>Dependents</th>\n",
              "      <th>tenure</th>\n",
              "      <th>PhoneService</th>\n",
              "      <th>MultipleLines</th>\n",
              "      <th>InternetService</th>\n",
              "      <th>OnlineSecurity</th>\n",
              "      <th>OnlineBackup</th>\n",
              "      <th>...</th>\n",
              "      <th>TechSupport</th>\n",
              "      <th>StreamingTV</th>\n",
              "      <th>StreamingMovies</th>\n",
              "      <th>Contract</th>\n",
              "      <th>PaperlessBilling</th>\n",
              "      <th>PaymentMethod</th>\n",
              "      <th>MonthlyCharges</th>\n",
              "      <th>TotalCharges</th>\n",
              "      <th>Churn</th>\n",
              "      <th>TotalCharges_minus</th>\n",
              "    </tr>\n",
              "    <tr>\n",
              "      <th>customerID</th>\n",
              "      <th></th>\n",
              "      <th></th>\n",
              "      <th></th>\n",
              "      <th></th>\n",
              "      <th></th>\n",
              "      <th></th>\n",
              "      <th></th>\n",
              "      <th></th>\n",
              "      <th></th>\n",
              "      <th></th>\n",
              "      <th></th>\n",
              "      <th></th>\n",
              "      <th></th>\n",
              "      <th></th>\n",
              "      <th></th>\n",
              "      <th></th>\n",
              "      <th></th>\n",
              "      <th></th>\n",
              "      <th></th>\n",
              "      <th></th>\n",
              "      <th></th>\n",
              "    </tr>\n",
              "  </thead>\n",
              "  <tbody>\n",
              "    <tr>\n",
              "      <th>7590-VHVEG</th>\n",
              "      <td>Female</td>\n",
              "      <td>0</td>\n",
              "      <td>Yes</td>\n",
              "      <td>No</td>\n",
              "      <td>1</td>\n",
              "      <td>No</td>\n",
              "      <td>No phone service</td>\n",
              "      <td>DSL</td>\n",
              "      <td>No</td>\n",
              "      <td>Yes</td>\n",
              "      <td>...</td>\n",
              "      <td>No</td>\n",
              "      <td>No</td>\n",
              "      <td>No</td>\n",
              "      <td>Month-to-month</td>\n",
              "      <td>Yes</td>\n",
              "      <td>Electronic check</td>\n",
              "      <td>29.85</td>\n",
              "      <td>29.85</td>\n",
              "      <td>No</td>\n",
              "      <td>-29.85</td>\n",
              "    </tr>\n",
              "    <tr>\n",
              "      <th>5575-GNVDE</th>\n",
              "      <td>Male</td>\n",
              "      <td>0</td>\n",
              "      <td>No</td>\n",
              "      <td>No</td>\n",
              "      <td>34</td>\n",
              "      <td>Yes</td>\n",
              "      <td>No</td>\n",
              "      <td>DSL</td>\n",
              "      <td>Yes</td>\n",
              "      <td>No</td>\n",
              "      <td>...</td>\n",
              "      <td>No</td>\n",
              "      <td>No</td>\n",
              "      <td>No</td>\n",
              "      <td>One year</td>\n",
              "      <td>No</td>\n",
              "      <td>Mailed check</td>\n",
              "      <td>56.95</td>\n",
              "      <td>1889.50</td>\n",
              "      <td>No</td>\n",
              "      <td>-1889.50</td>\n",
              "    </tr>\n",
              "  </tbody>\n",
              "</table>\n",
              "<p>2 rows × 21 columns</p>\n",
              "</div>\n",
              "    <div class=\"colab-df-buttons\">\n",
              "\n",
              "  <div class=\"colab-df-container\">\n",
              "    <button class=\"colab-df-convert\" onclick=\"convertToInteractive('df-784af76f-39de-463c-9486-10bb83acd2e3')\"\n",
              "            title=\"Convert this dataframe to an interactive table.\"\n",
              "            style=\"display:none;\">\n",
              "\n",
              "  <svg xmlns=\"http://www.w3.org/2000/svg\" height=\"24px\" viewBox=\"0 -960 960 960\">\n",
              "    <path d=\"M120-120v-720h720v720H120Zm60-500h600v-160H180v160Zm220 220h160v-160H400v160Zm0 220h160v-160H400v160ZM180-400h160v-160H180v160Zm440 0h160v-160H620v160ZM180-180h160v-160H180v160Zm440 0h160v-160H620v160Z\"/>\n",
              "  </svg>\n",
              "    </button>\n",
              "\n",
              "  <style>\n",
              "    .colab-df-container {\n",
              "      display:flex;\n",
              "      gap: 12px;\n",
              "    }\n",
              "\n",
              "    .colab-df-convert {\n",
              "      background-color: #E8F0FE;\n",
              "      border: none;\n",
              "      border-radius: 50%;\n",
              "      cursor: pointer;\n",
              "      display: none;\n",
              "      fill: #1967D2;\n",
              "      height: 32px;\n",
              "      padding: 0 0 0 0;\n",
              "      width: 32px;\n",
              "    }\n",
              "\n",
              "    .colab-df-convert:hover {\n",
              "      background-color: #E2EBFA;\n",
              "      box-shadow: 0px 1px 2px rgba(60, 64, 67, 0.3), 0px 1px 3px 1px rgba(60, 64, 67, 0.15);\n",
              "      fill: #174EA6;\n",
              "    }\n",
              "\n",
              "    .colab-df-buttons div {\n",
              "      margin-bottom: 4px;\n",
              "    }\n",
              "\n",
              "    [theme=dark] .colab-df-convert {\n",
              "      background-color: #3B4455;\n",
              "      fill: #D2E3FC;\n",
              "    }\n",
              "\n",
              "    [theme=dark] .colab-df-convert:hover {\n",
              "      background-color: #434B5C;\n",
              "      box-shadow: 0px 1px 3px 1px rgba(0, 0, 0, 0.15);\n",
              "      filter: drop-shadow(0px 1px 2px rgba(0, 0, 0, 0.3));\n",
              "      fill: #FFFFFF;\n",
              "    }\n",
              "  </style>\n",
              "\n",
              "    <script>\n",
              "      const buttonEl =\n",
              "        document.querySelector('#df-784af76f-39de-463c-9486-10bb83acd2e3 button.colab-df-convert');\n",
              "      buttonEl.style.display =\n",
              "        google.colab.kernel.accessAllowed ? 'block' : 'none';\n",
              "\n",
              "      async function convertToInteractive(key) {\n",
              "        const element = document.querySelector('#df-784af76f-39de-463c-9486-10bb83acd2e3');\n",
              "        const dataTable =\n",
              "          await google.colab.kernel.invokeFunction('convertToInteractive',\n",
              "                                                    [key], {});\n",
              "        if (!dataTable) return;\n",
              "\n",
              "        const docLinkHtml = 'Like what you see? Visit the ' +\n",
              "          '<a target=\"_blank\" href=https://colab.research.google.com/notebooks/data_table.ipynb>data table notebook</a>'\n",
              "          + ' to learn more about interactive tables.';\n",
              "        element.innerHTML = '';\n",
              "        dataTable['output_type'] = 'display_data';\n",
              "        await google.colab.output.renderOutput(dataTable, element);\n",
              "        const docLink = document.createElement('div');\n",
              "        docLink.innerHTML = docLinkHtml;\n",
              "        element.appendChild(docLink);\n",
              "      }\n",
              "    </script>\n",
              "  </div>\n",
              "\n",
              "\n",
              "<div id=\"df-e2d052e2-bb82-4d72-92b0-725fdfada81b\">\n",
              "  <button class=\"colab-df-quickchart\" onclick=\"quickchart('df-e2d052e2-bb82-4d72-92b0-725fdfada81b')\"\n",
              "            title=\"Suggest charts\"\n",
              "            style=\"display:none;\">\n",
              "\n",
              "<svg xmlns=\"http://www.w3.org/2000/svg\" height=\"24px\"viewBox=\"0 0 24 24\"\n",
              "     width=\"24px\">\n",
              "    <g>\n",
              "        <path d=\"M19 3H5c-1.1 0-2 .9-2 2v14c0 1.1.9 2 2 2h14c1.1 0 2-.9 2-2V5c0-1.1-.9-2-2-2zM9 17H7v-7h2v7zm4 0h-2V7h2v10zm4 0h-2v-4h2v4z\"/>\n",
              "    </g>\n",
              "</svg>\n",
              "  </button>\n",
              "\n",
              "<style>\n",
              "  .colab-df-quickchart {\n",
              "      --bg-color: #E8F0FE;\n",
              "      --fill-color: #1967D2;\n",
              "      --hover-bg-color: #E2EBFA;\n",
              "      --hover-fill-color: #174EA6;\n",
              "      --disabled-fill-color: #AAA;\n",
              "      --disabled-bg-color: #DDD;\n",
              "  }\n",
              "\n",
              "  [theme=dark] .colab-df-quickchart {\n",
              "      --bg-color: #3B4455;\n",
              "      --fill-color: #D2E3FC;\n",
              "      --hover-bg-color: #434B5C;\n",
              "      --hover-fill-color: #FFFFFF;\n",
              "      --disabled-bg-color: #3B4455;\n",
              "      --disabled-fill-color: #666;\n",
              "  }\n",
              "\n",
              "  .colab-df-quickchart {\n",
              "    background-color: var(--bg-color);\n",
              "    border: none;\n",
              "    border-radius: 50%;\n",
              "    cursor: pointer;\n",
              "    display: none;\n",
              "    fill: var(--fill-color);\n",
              "    height: 32px;\n",
              "    padding: 0;\n",
              "    width: 32px;\n",
              "  }\n",
              "\n",
              "  .colab-df-quickchart:hover {\n",
              "    background-color: var(--hover-bg-color);\n",
              "    box-shadow: 0 1px 2px rgba(60, 64, 67, 0.3), 0 1px 3px 1px rgba(60, 64, 67, 0.15);\n",
              "    fill: var(--button-hover-fill-color);\n",
              "  }\n",
              "\n",
              "  .colab-df-quickchart-complete:disabled,\n",
              "  .colab-df-quickchart-complete:disabled:hover {\n",
              "    background-color: var(--disabled-bg-color);\n",
              "    fill: var(--disabled-fill-color);\n",
              "    box-shadow: none;\n",
              "  }\n",
              "\n",
              "  .colab-df-spinner {\n",
              "    border: 2px solid var(--fill-color);\n",
              "    border-color: transparent;\n",
              "    border-bottom-color: var(--fill-color);\n",
              "    animation:\n",
              "      spin 1s steps(1) infinite;\n",
              "  }\n",
              "\n",
              "  @keyframes spin {\n",
              "    0% {\n",
              "      border-color: transparent;\n",
              "      border-bottom-color: var(--fill-color);\n",
              "      border-left-color: var(--fill-color);\n",
              "    }\n",
              "    20% {\n",
              "      border-color: transparent;\n",
              "      border-left-color: var(--fill-color);\n",
              "      border-top-color: var(--fill-color);\n",
              "    }\n",
              "    30% {\n",
              "      border-color: transparent;\n",
              "      border-left-color: var(--fill-color);\n",
              "      border-top-color: var(--fill-color);\n",
              "      border-right-color: var(--fill-color);\n",
              "    }\n",
              "    40% {\n",
              "      border-color: transparent;\n",
              "      border-right-color: var(--fill-color);\n",
              "      border-top-color: var(--fill-color);\n",
              "    }\n",
              "    60% {\n",
              "      border-color: transparent;\n",
              "      border-right-color: var(--fill-color);\n",
              "    }\n",
              "    80% {\n",
              "      border-color: transparent;\n",
              "      border-right-color: var(--fill-color);\n",
              "      border-bottom-color: var(--fill-color);\n",
              "    }\n",
              "    90% {\n",
              "      border-color: transparent;\n",
              "      border-bottom-color: var(--fill-color);\n",
              "    }\n",
              "  }\n",
              "</style>\n",
              "\n",
              "  <script>\n",
              "    async function quickchart(key) {\n",
              "      const quickchartButtonEl =\n",
              "        document.querySelector('#' + key + ' button');\n",
              "      quickchartButtonEl.disabled = true;  // To prevent multiple clicks.\n",
              "      quickchartButtonEl.classList.add('colab-df-spinner');\n",
              "      try {\n",
              "        const charts = await google.colab.kernel.invokeFunction(\n",
              "            'suggestCharts', [key], {});\n",
              "      } catch (error) {\n",
              "        console.error('Error during call to suggestCharts:', error);\n",
              "      }\n",
              "      quickchartButtonEl.classList.remove('colab-df-spinner');\n",
              "      quickchartButtonEl.classList.add('colab-df-quickchart-complete');\n",
              "    }\n",
              "    (() => {\n",
              "      let quickchartButtonEl =\n",
              "        document.querySelector('#df-e2d052e2-bb82-4d72-92b0-725fdfada81b button');\n",
              "      quickchartButtonEl.style.display =\n",
              "        google.colab.kernel.accessAllowed ? 'block' : 'none';\n",
              "    })();\n",
              "  </script>\n",
              "</div>\n",
              "\n",
              "    </div>\n",
              "  </div>\n"
            ]
          },
          "metadata": {},
          "execution_count": 19
        }
      ],
      "source": [
        "df.head(2)"
      ]
    },
    {
      "cell_type": "code",
      "source": [
        "df[\"Churn\"].value_counts(normalize=True)"
      ],
      "metadata": {
        "colab": {
          "base_uri": "https://localhost:8080/"
        },
        "id": "pQGpbPOVwLma",
        "outputId": "31644bd9-88da-4ed4-e27e-a79184bb5282"
      },
      "id": "pQGpbPOVwLma",
      "execution_count": 20,
      "outputs": [
        {
          "output_type": "execute_result",
          "data": {
            "text/plain": [
              "No     0.73463\n",
              "Yes    0.26537\n",
              "Name: Churn, dtype: float64"
            ]
          },
          "metadata": {},
          "execution_count": 20
        }
      ]
    },
    {
      "cell_type": "code",
      "source": [
        "df[\"Churn\"].value_counts(1).sum()"
      ],
      "metadata": {
        "colab": {
          "base_uri": "https://localhost:8080/"
        },
        "id": "B80xjq2vwVIv",
        "outputId": "2e3b51d7-8796-4e07-e2a0-151fc1fd972d"
      },
      "id": "B80xjq2vwVIv",
      "execution_count": 21,
      "outputs": [
        {
          "output_type": "execute_result",
          "data": {
            "text/plain": [
              "1.0"
            ]
          },
          "metadata": {},
          "execution_count": 21
        }
      ]
    },
    {
      "cell_type": "code",
      "execution_count": 22,
      "id": "33bdbe99",
      "metadata": {
        "id": "33bdbe99"
      },
      "outputs": [],
      "source": [
        "# 층화표집 수행\n",
        "# stratified_sample\n",
        "from sklearn.model_selection import train_test_split\n",
        "\n",
        "X_train, X_test, y_train, y_test = train_test_split(\n",
        "    df, df[\"Churn\"], test_size=0.2, random_state=42, stratify=df[[\"Churn\", \"SeniorCitizen\"]])"
      ]
    },
    {
      "cell_type": "code",
      "execution_count": 23,
      "id": "b2ec22ae",
      "metadata": {
        "id": "b2ec22ae",
        "colab": {
          "base_uri": "https://localhost:8080/"
        },
        "outputId": "b2e892c4-78ec-4190-e6cf-5215afe325e2"
      },
      "outputs": [
        {
          "output_type": "execute_result",
          "data": {
            "text/plain": [
              "No     5174\n",
              "Yes    1869\n",
              "Name: Churn, dtype: int64"
            ]
          },
          "metadata": {},
          "execution_count": 23
        }
      ],
      "source": [
        "# 전체 샘플 빈도\n",
        "\n",
        "df[\"Churn\"].value_counts()"
      ]
    },
    {
      "cell_type": "code",
      "execution_count": 24,
      "id": "2e5c7448",
      "metadata": {
        "id": "2e5c7448",
        "colab": {
          "base_uri": "https://localhost:8080/"
        },
        "outputId": "49c9127b-26b4-4aef-f550-abc1e90d24f8"
      },
      "outputs": [
        {
          "output_type": "execute_result",
          "data": {
            "text/plain": [
              "No     0.73463\n",
              "Yes    0.26537\n",
              "Name: Churn, dtype: float64"
            ]
          },
          "metadata": {},
          "execution_count": 24
        }
      ],
      "source": [
        "# 전체 샘플 빈도 비율\n",
        "df[\"Churn\"].value_counts(normalize=True)"
      ]
    },
    {
      "cell_type": "code",
      "execution_count": 25,
      "id": "d8320df5",
      "metadata": {
        "id": "d8320df5",
        "colab": {
          "base_uri": "https://localhost:8080/"
        },
        "outputId": "dd98e760-69c6-449b-ac63-20cc7c2fbb87"
      },
      "outputs": [
        {
          "output_type": "execute_result",
          "data": {
            "text/plain": [
              "No     0.734647\n",
              "Yes    0.265353\n",
              "Name: Churn, dtype: float64"
            ]
          },
          "metadata": {},
          "execution_count": 25
        }
      ],
      "source": [
        "# 층화 표집 빈도 비율\n",
        "X_train[\"Churn\"].value_counts(normalize=True)"
      ]
    },
    {
      "cell_type": "code",
      "source": [
        "X_test[\"Churn\"].value_counts(normalize=True)"
      ],
      "metadata": {
        "colab": {
          "base_uri": "https://localhost:8080/"
        },
        "id": "CWFH0UQryMhV",
        "outputId": "2feb00c2-6c7e-494c-fbcd-9c60fb8c6315"
      },
      "id": "CWFH0UQryMhV",
      "execution_count": 26,
      "outputs": [
        {
          "output_type": "execute_result",
          "data": {
            "text/plain": [
              "No     0.734564\n",
              "Yes    0.265436\n",
              "Name: Churn, dtype: float64"
            ]
          },
          "metadata": {},
          "execution_count": 26
        }
      ]
    },
    {
      "cell_type": "markdown",
      "id": "3444b617",
      "metadata": {
        "id": "3444b617"
      },
      "source": [
        "### 무선 표집을 통한 표본 분산으로 자유도 실습\n",
        "\n",
        "- **표본 분산 (Sample Variance)**: $s^2 = \\frac{1}{n-1}\\sum_{i=1}^{n}(x_i - \\bar{x})^2$\n",
        "  - 각 데이터 포인트와 평균의 차이의 제곱의 합을 자유도(n-1)로 나눈 값\n",
        "- [자유도 (통계학) - 위키백과, 우리 모두의 백과사전](https://ko.wikipedia.org/wiki/%EC%9E%90%EC%9C%A0%EB%8F%84_(%ED%86%B5%EA%B3%84%ED%95%99))\n",
        "\n",
        "#### 전체 표본"
      ]
    },
    {
      "cell_type": "code",
      "execution_count": 27,
      "id": "d651adb2",
      "metadata": {
        "id": "d651adb2",
        "colab": {
          "base_uri": "https://localhost:8080/"
        },
        "outputId": "fae84e9e-9fe5-4f63-e38a-e3647c49591c"
      },
      "outputs": [
        {
          "output_type": "execute_result",
          "data": {
            "text/plain": [
              "5137521.711318777"
            ]
          },
          "metadata": {},
          "execution_count": 27
        }
      ],
      "source": [
        "# var(ddof=0)\n",
        "df[\"TotalCharges\"].var(ddof=0)"
      ]
    },
    {
      "cell_type": "code",
      "execution_count": 28,
      "id": "68f62900",
      "metadata": {
        "id": "68f62900",
        "colab": {
          "base_uri": "https://localhost:8080/"
        },
        "outputId": "52005bf4-646b-4c3f-a9ae-51818d955bb9"
      },
      "outputs": [
        {
          "output_type": "execute_result",
          "data": {
            "text/plain": [
              "5138252.407053568"
            ]
          },
          "metadata": {},
          "execution_count": 28
        }
      ],
      "source": [
        "# var(ddof=1)\n",
        "\n",
        "df[\"TotalCharges\"].var(ddof=1)"
      ]
    },
    {
      "cell_type": "markdown",
      "id": "f358c206",
      "metadata": {
        "id": "f358c206"
      },
      "source": [
        "#### 무선 표집 표본"
      ]
    },
    {
      "cell_type": "code",
      "execution_count": 29,
      "id": "90d14162",
      "metadata": {
        "id": "90d14162",
        "colab": {
          "base_uri": "https://localhost:8080/"
        },
        "outputId": "a009a371-0d31-44ad-8ad3-1b4cb0b7fbb8"
      },
      "outputs": [
        {
          "output_type": "execute_result",
          "data": {
            "text/plain": [
              "762138.7090250001"
            ]
          },
          "metadata": {},
          "execution_count": 29
        }
      ],
      "source": [
        "# var(ddof=0)\n",
        "\n",
        "df[\"TotalCharges\"].sample(10).var(ddof=0)"
      ]
    },
    {
      "cell_type": "code",
      "execution_count": 30,
      "id": "b9b711b5",
      "metadata": {
        "id": "b9b711b5",
        "colab": {
          "base_uri": "https://localhost:8080/"
        },
        "outputId": "4c630668-db5b-4c7d-d51a-84bfdfedd90e"
      },
      "outputs": [
        {
          "output_type": "execute_result",
          "data": {
            "text/plain": [
              "2399390.1039166674"
            ]
          },
          "metadata": {},
          "execution_count": 30
        }
      ],
      "source": [
        "# var(ddof=1)\n",
        "\n",
        "df[\"TotalCharges\"].sample(10).var(ddof=1)"
      ]
    },
    {
      "cell_type": "markdown",
      "id": "491e4e54",
      "metadata": {
        "id": "491e4e54"
      },
      "source": [
        "## 점추정과 구간추정\n",
        "* 점추정\n",
        "    * 점추정은 모집단 매개변수(예: 평균, 비율)에 대한 단일 수치 추정치를 제공합니다.\n",
        "    * 월별 지출 데이터의 평균을 계산하여 점추정을 수행합니다.\n",
        "* 구간 추정\n",
        "    * 구간 추정은 모집단 매개변수가 포함될 것으로 예상되는 값의 범위를 제공합니다. 일반적으로 신뢰구간을 사용하여 표현합니다.\n",
        "    * 월별 지출 데이터에 대한 95% 신뢰구간을 계산합니다. 이를 위해 t-분포를 사용하며, 신뢰구간의 너비는 표본 크기, 표본 평균, 표본 표준편차에 따라 결정됩니다.\n",
        "## 신뢰 구간과 신뢰 수준"
      ]
    },
    {
      "cell_type": "code",
      "execution_count": 31,
      "id": "077cd0b6",
      "metadata": {
        "id": "077cd0b6",
        "colab": {
          "base_uri": "https://localhost:8080/",
          "height": 467
        },
        "outputId": "d72774df-8a1a-414d-f93b-b0cb6d4aa288"
      },
      "outputs": [
        {
          "output_type": "execute_result",
          "data": {
            "text/plain": [
              "<Axes: xlabel='Churn', ylabel='MonthlyCharges'>"
            ]
          },
          "metadata": {},
          "execution_count": 31
        },
        {
          "output_type": "display_data",
          "data": {
            "text/plain": [
              "<Figure size 640x480 with 1 Axes>"
            ],
            "image/png": "[encoded data removed]"
          },
          "metadata": {}
        }
      ],
      "source": [
        "# 막대그래프를 통한 신뢰 구간 확인, 이탈률에 따른 월별 요금\n",
        "sns.barplot(data=df, x=\"Churn\", y=\"MonthlyCharges\", errorbar=\"ci\")"
      ]
    },
    {
      "cell_type": "code",
      "source": [
        "# sns.barplot?"
      ],
      "metadata": {
        "id": "xsJoKyjoMDlW"
      },
      "id": "xsJoKyjoMDlW",
      "execution_count": 32,
      "outputs": []
    },
    {
      "cell_type": "code",
      "execution_count": 33,
      "id": "cde23f58",
      "metadata": {
        "id": "cde23f58",
        "colab": {
          "base_uri": "https://localhost:8080/"
        },
        "outputId": "bc52ba52-153a-4d2c-8070-13fb9724bd2b"
      },
      "outputs": [
        {
          "output_type": "stream",
          "name": "stdout",
          "text": [
            "64.76169246059918\n"
          ]
        },
        {
          "output_type": "execute_result",
          "data": {
            "text/plain": [
              "30.090047097678493"
            ]
          },
          "metadata": {},
          "execution_count": 33
        }
      ],
      "source": [
        "# 월별 지출(MonthlyCharges) 데이터 추출\n",
        "monthly_charges = df['MonthlyCharges']\n",
        "\n",
        "# 점추정: 월별 지출의 표본 평균 계산\n",
        "point_estimate = monthly_charges.mean()\n",
        "print(point_estimate)\n",
        "\n",
        "# 구간 추정: 95% 신뢰구간 계산\n",
        "# 표본 크기, 표본 평균, 표본 표준편차 계산\n",
        "sample_size = len(monthly_charges)\n",
        "sample_mean = monthly_charges.mean()\n",
        "# 표본 표준편차 (자유도 n-1 사용)\n",
        "sample_std = np.std(monthly_charges, ddof=1)\n",
        "sample_std"
      ]
    },
    {
      "cell_type": "code",
      "source": [
        "# 표준편차 직접 구하기\n",
        "var = ((monthly_charges - monthly_charges.mean())**2).sum() / (len(monthly_charges) - 1)\n",
        "# std = var ** 0.5\n",
        "std = np.sqrt(var)\n",
        "std"
      ],
      "metadata": {
        "colab": {
          "base_uri": "https://localhost:8080/"
        },
        "id": "KH9WpHSVQClY",
        "outputId": "aad61812-9bfe-482a-8f83-fee587b74865"
      },
      "id": "KH9WpHSVQClY",
      "execution_count": 34,
      "outputs": [
        {
          "output_type": "execute_result",
          "data": {
            "text/plain": [
              "30.090047097678493"
            ]
          },
          "metadata": {},
          "execution_count": 34
        }
      ]
    },
    {
      "cell_type": "markdown",
      "id": "19600a04",
      "metadata": {
        "id": "19600a04"
      },
      "source": [
        "### 신뢰 구간 계산    \n",
        "* 신뢰수준 설정(confidence_level)\n",
        "    * confidence_level = 0.95: 이는 신뢰구간이 모집단 매개변수를 포함할 확률을 95%로 설정한다는 것을 의미합니다. 즉, 신뢰구간 계산의 정확성을 95%로 가정합니다.\n",
        "\n",
        "* 알파 값 계산(alpha)\n",
        "    * alpha = 1 - confidence_level: 신뢰수준의 여완값으로, 1에서 신뢰수준을 뺀 값입니다. α는 1종 오류(귀무가설이 참인데 기각하는 오류)를 범할 확률을 나타냅니다. 여기서는 0.05(5%)입니다.\n",
        "    * 여완 값(Complement Value)은 통계학에서 특정 확률 값의 보완적인 부분을 나타내는 용어입니다. 특히, 가설 검정에서 중요한 개념인 유의수준(α)과 관련하여 자주 언급됩니다.\n",
        "    * 유의수준(α)은 귀무가설이 사실일 때 잘못해서 귀무가설을 기각할 확률입니다. 예를 들어, α가 0.05(5%)라면, 귀무가설이 참인 경우에도 5%의 확률로 귀무가설을 기각하는 실수를 할 수 있음을 의미합니다. 이때, 여완 값은 1에서 α 값을 뺀 것으로, α의 보완적인 부분을 나타냅니다. α가 0.05일 때, 여완 값은 1 - 0.05 = 0.95(95%)가 됩니다.\n",
        "    * 여완 값은 유의수준과 대비하여 어떤 사건이 발생하지 않을 확률을 나타내며, 통계적 검정에서 귀무가설을 기각하지 않을 확률을 의미합니다. 이를 통해 가설 검정에서 결과의 신뢰성이나 타당성을 평가하는 데 도움을 줍니다.\n",
        "\n",
        "* 임계값(t_critical) 계산\n",
        "    * t_critical = stats.t.ppf(1 - alpha/2, df=sample_size-1): t 분포의 임계값을 계산합니다. 이 값은 신뢰구간의 양 끝단을 결정하는 데 사용됩니다. α/2는 양측 검정에서 오류를 고려하는 것이며, df=sample_size-1는 자유도를 의미합니다(여기서 자유도는 표본 크기에서 1을 뺀 값).\n",
        "    * stats.t.ppf() 함수는 SciPy 라이브러리의 stats 모듈에 있는 함수로, t-분포의 퍼센트 포인트 함수(Percent Point Function, PPF)입니다. 이 함수는 주어진 확률에 대응하는 t-분포의 값(임계값)을 반환합니다.\n",
        "        * q: 확률입니다. 이는 t-분포의 누적 분포 함수(CDF)에서의 확률과 대응합니다.\n",
        "        * df: 자유도(degree of freedom)입니다. t-분포의 모양을 결정합니다.\n",
        "\n",
        "* 오차 한계(margin_of_error) 계산\n",
        "    * margin_of_error = t_critical * (sample_std / np.sqrt(sample_size)): 신뢰구간의 너비를 계산합니다. 이는 표본 평균 주위에서 얼마나 범위를 설정할 것인지를 결정합니다. 표본 표준편차와 표본 크기의 제곱근을 이용해 계산합니다.\n",
        "\n",
        "* 신뢰구간(confidence_interval) 계산\n",
        "    * confidence_interval = (sample_mean - margin_of_error, sample_mean + margin_of_error): 계산된 오차 한계를 표본 평균의 양쪽에 더하고 빼서 신뢰구간을 구합니다.\n",
        "\n",
        "* 점추정과 신뢰구간 반환\n",
        "    * point_estimate, confidence_interval: 점추정(표본 평균)과 계산된 신뢰구간을 반환합니다."
      ]
    },
    {
      "cell_type": "code",
      "execution_count": 35,
      "id": "13fdf009",
      "metadata": {
        "id": "13fdf009",
        "colab": {
          "base_uri": "https://localhost:8080/"
        },
        "outputId": "55f5bd91-b5f6-454d-8611-caa25467f9b6"
      },
      "outputs": [
        {
          "output_type": "execute_result",
          "data": {
            "text/plain": [
              "(64.76169246059918, (64.05883579770197, 65.46454912349638))"
            ]
          },
          "metadata": {},
          "execution_count": 35
        }
      ],
      "source": [
        "# 신뢰구간 계산 (t-분포 사용)\n",
        "# stats.t.ppf 로 t_critical 구하기\n",
        "confidence_level = 0.95\n",
        "alpha = 1 - confidence_level\n",
        "\n",
        "t_critical = stats.t.ppf(1 - alpha/2, df=sample_size-1)  # t-분포의 임계값\n",
        "margin_of_error = t_critical * (sample_std / np.sqrt(sample_size))\n",
        "\n",
        "confidence_interval = (sample_mean - margin_of_error, sample_mean + margin_of_error)\n",
        "\n",
        "point_estimate, confidence_interval"
      ]
    },
    {
      "cell_type": "markdown",
      "id": "41ed3c98",
      "metadata": {
        "id": "41ed3c98"
      },
      "source": [
        "* 임계값 해석\n",
        "    * 위 예시에서 반환된 t_critical 값은 해당 자유도에서 t-분포의 상위 2.5% 지점에 해당하는 값을 의미합니다. 즉, t-분포 상에서 가장 극단적인 2.5% 값 중 하나입니다.\n",
        "    * 이 값은 t-검정과 같은 통계적 검정에서 귀무가설의 기각 여부를 결정하는 데 사용됩니다. 예를 들어, t-검정 통계량이 이 임계값을 초과하면 귀무가설을 기각합니다.\n",
        "* 비즈니스 및 연구에서의 응용\n",
        "    * stats.t.ppf() 함수는 연구나 비즈니스 의사결정에서 데이터의 유의성을 평가하는 데 사용됩니다.\n",
        "    * 예를 들어, 제품의 효과, 캠페인의 효율성, 시장 변화 등을 평가할 때 이 함수를 사용하여 유의한 결과를 얻을 수 있는 임계값을 설정할 수 있습니다"
      ]
    },
    {
      "cell_type": "code",
      "execution_count": 36,
      "id": "47d6b1d2",
      "metadata": {
        "id": "47d6b1d2",
        "colab": {
          "base_uri": "https://localhost:8080/",
          "height": 467
        },
        "outputId": "c1cc99e8-db53-4985-a990-825953f7d609"
      },
      "outputs": [
        {
          "output_type": "execute_result",
          "data": {
            "text/plain": [
              "<Axes: xlabel='MonthlyCharges'>"
            ]
          },
          "metadata": {},
          "execution_count": 36
        },
        {
          "output_type": "display_data",
          "data": {
            "text/plain": [
              "<Figure size 640x480 with 1 Axes>"
            ],
            "image/png": "[encoded data removed]"
          },
          "metadata": {}
        }
      ],
      "source": [
        "# sns.barplot 으로 MonthlyCharges 신뢰 구간 확인하기\n",
        "sns.barplot(data=df, x=\"MonthlyCharges\")"
      ]
    },
    {
      "cell_type": "code",
      "execution_count": 37,
      "id": "340fade0",
      "metadata": {
        "id": "340fade0",
        "colab": {
          "base_uri": "https://localhost:8080/",
          "height": 487
        },
        "outputId": "021fa6ca-7487-4ea3-e42f-e649c671f534"
      },
      "outputs": [
        {
          "output_type": "display_data",
          "data": {
            "text/plain": [
              "<Figure size 1000x500 with 1 Axes>"
            ],
            "image/png": "[encoded data removed]"
          },
          "metadata": {}
        }
      ],
      "source": [
        "# 점추정 및 신뢰구간 시각화\n",
        "plt.figure(figsize=(10, 5))\n",
        "plt.hist(monthly_charges, bins=15, color='skyblue', alpha=0.7, label='Monthly Charges')\n",
        "plt.axvline(sample_mean, color='red', linestyle='dashed', linewidth=2, label=f'Mean: {sample_mean:.2f}')\n",
        "plt.axvline(confidence_interval[0], color='green', linestyle='dashed', linewidth=2, label=f'Lower Bound: {confidence_interval[0]:.2f}')\n",
        "plt.axvline(confidence_interval[1], color='blue', linestyle='dashed', linewidth=2, label=f'Upper Bound: {confidence_interval[1]:.2f}')\n",
        "plt.xlabel('Monthly Charges')\n",
        "plt.ylabel('Frequency')\n",
        "plt.title('Monthly Charges Distribution with 95% Confidence Interval')\n",
        "plt.legend()\n",
        "plt.show()"
      ]
    },
    {
      "cell_type": "markdown",
      "id": "679143dc",
      "metadata": {
        "id": "679143dc"
      },
      "source": [
        "## z-score가 높은 상위 10% 고객의 이탈률 확인\n",
        "* 가설: 월별 요금(MonthlyCharges)이 높은 고객일수록 이탈(Churn) 확률이 높다.\n",
        "* 이 가설은 월별 요금이 고객의 이탈 결정에 영향을 미칠 수 있다는 것을 가정합니다.\n",
        "\n",
        "* z-score 계산: 월별 요금에 대해 평균(mean)과 표준편차(standard deviation)를 계산한 후, 각 데이터 포인트에 대해 z-score를 계산합니다.\n",
        "* z-score 공식:\n",
        "* z = (X−μ)/ σ\n",
        "\n",
        "* X는 개별 데이터 포인트, μ는 평균, σ는 표준편차입니다.\n",
        "* z-score는 데이터 포인트가 평균으로부터 표준편차의 몇 배만큼 떨어져 있는지를 나타냅니다."
      ]
    },
    {
      "cell_type": "code",
      "source": [
        "from sklearn.preprocessing import StandardScaler\n",
        "\n",
        "ss = StandardScaler()\n",
        "monthly_charges_ss = ss.fit_transform(df[[\"MonthlyCharges\"]])\n",
        "pd.DataFrame(monthly_charges_ss).describe().round(4)"
      ],
      "metadata": {
        "colab": {
          "base_uri": "https://localhost:8080/",
          "height": 300
        },
        "id": "l9LkZUbzZyoU",
        "outputId": "18a2221c-d6f8-456e-997f-b0ac21936a48"
      },
      "id": "l9LkZUbzZyoU",
      "execution_count": 38,
      "outputs": [
        {
          "output_type": "execute_result",
          "data": {
            "text/plain": [
              "               0\n",
              "count  7043.0000\n",
              "mean     -0.0000\n",
              "std       1.0001\n",
              "min      -1.5459\n",
              "25%      -0.9725\n",
              "50%       0.1857\n",
              "75%       0.8338\n",
              "max       1.7944"
            ],
            "text/html": [
              "\n",
              "  <div id=\"df-80b76dbf-c357-4c24-a4d9-cdce2e46e464\" class=\"colab-df-container\">\n",
              "    <div>\n",
              "<style scoped>\n",
              "    .dataframe tbody tr th:only-of-type {\n",
              "        vertical-align: middle;\n",
              "    }\n",
              "\n",
              "    .dataframe tbody tr th {\n",
              "        vertical-align: top;\n",
              "    }\n",
              "\n",
              "    .dataframe thead th {\n",
              "        text-align: right;\n",
              "    }\n",
              "</style>\n",
              "<table border=\"1\" class=\"dataframe\">\n",
              "  <thead>\n",
              "    <tr style=\"text-align: right;\">\n",
              "      <th></th>\n",
              "      <th>0</th>\n",
              "    </tr>\n",
              "  </thead>\n",
              "  <tbody>\n",
              "    <tr>\n",
              "      <th>count</th>\n",
              "      <td>7043.0000</td>\n",
              "    </tr>\n",
              "    <tr>\n",
              "      <th>mean</th>\n",
              "      <td>-0.0000</td>\n",
              "    </tr>\n",
              "    <tr>\n",
              "      <th>std</th>\n",
              "      <td>1.0001</td>\n",
              "    </tr>\n",
              "    <tr>\n",
              "      <th>min</th>\n",
              "      <td>-1.5459</td>\n",
              "    </tr>\n",
              "    <tr>\n",
              "      <th>25%</th>\n",
              "      <td>-0.9725</td>\n",
              "    </tr>\n",
              "    <tr>\n",
              "      <th>50%</th>\n",
              "      <td>0.1857</td>\n",
              "    </tr>\n",
              "    <tr>\n",
              "      <th>75%</th>\n",
              "      <td>0.8338</td>\n",
              "    </tr>\n",
              "    <tr>\n",
              "      <th>max</th>\n",
              "      <td>1.7944</td>\n",
              "    </tr>\n",
              "  </tbody>\n",
              "</table>\n",
              "</div>\n",
              "    <div class=\"colab-df-buttons\">\n",
              "\n",
              "  <div class=\"colab-df-container\">\n",
              "    <button class=\"colab-df-convert\" onclick=\"convertToInteractive('df-80b76dbf-c357-4c24-a4d9-cdce2e46e464')\"\n",
              "            title=\"Convert this dataframe to an interactive table.\"\n",
              "            style=\"display:none;\">\n",
              "\n",
              "  <svg xmlns=\"http://www.w3.org/2000/svg\" height=\"24px\" viewBox=\"0 -960 960 960\">\n",
              "    <path d=\"M120-120v-720h720v720H120Zm60-500h600v-160H180v160Zm220 220h160v-160H400v160Zm0 220h160v-160H400v160ZM180-400h160v-160H180v160Zm440 0h160v-160H620v160ZM180-180h160v-160H180v160Zm440 0h160v-160H620v160Z\"/>\n",
              "  </svg>\n",
              "    </button>\n",
              "\n",
              "  <style>\n",
              "    .colab-df-container {\n",
              "      display:flex;\n",
              "      gap: 12px;\n",
              "    }\n",
              "\n",
              "    .colab-df-convert {\n",
              "      background-color: #E8F0FE;\n",
              "      border: none;\n",
              "      border-radius: 50%;\n",
              "      cursor: pointer;\n",
              "      display: none;\n",
              "      fill: #1967D2;\n",
              "      height: 32px;\n",
              "      padding: 0 0 0 0;\n",
              "      width: 32px;\n",
              "    }\n",
              "\n",
              "    .colab-df-convert:hover {\n",
              "      background-color: #E2EBFA;\n",
              "      box-shadow: 0px 1px 2px rgba(60, 64, 67, 0.3), 0px 1px 3px 1px rgba(60, 64, 67, 0.15);\n",
              "      fill: #174EA6;\n",
              "    }\n",
              "\n",
              "    .colab-df-buttons div {\n",
              "      margin-bottom: 4px;\n",
              "    }\n",
              "\n",
              "    [theme=dark] .colab-df-convert {\n",
              "      background-color: #3B4455;\n",
              "      fill: #D2E3FC;\n",
              "    }\n",
              "\n",
              "    [theme=dark] .colab-df-convert:hover {\n",
              "      background-color: #434B5C;\n",
              "      box-shadow: 0px 1px 3px 1px rgba(0, 0, 0, 0.15);\n",
              "      filter: drop-shadow(0px 1px 2px rgba(0, 0, 0, 0.3));\n",
              "      fill: #FFFFFF;\n",
              "    }\n",
              "  </style>\n",
              "\n",
              "    <script>\n",
              "      const buttonEl =\n",
              "        document.querySelector('#df-80b76dbf-c357-4c24-a4d9-cdce2e46e464 button.colab-df-convert');\n",
              "      buttonEl.style.display =\n",
              "        google.colab.kernel.accessAllowed ? 'block' : 'none';\n",
              "\n",
              "      async function convertToInteractive(key) {\n",
              "        const element = document.querySelector('#df-80b76dbf-c357-4c24-a4d9-cdce2e46e464');\n",
              "        const dataTable =\n",
              "          await google.colab.kernel.invokeFunction('convertToInteractive',\n",
              "                                                    [key], {});\n",
              "        if (!dataTable) return;\n",
              "\n",
              "        const docLinkHtml = 'Like what you see? Visit the ' +\n",
              "          '<a target=\"_blank\" href=https://colab.research.google.com/notebooks/data_table.ipynb>data table notebook</a>'\n",
              "          + ' to learn more about interactive tables.';\n",
              "        element.innerHTML = '';\n",
              "        dataTable['output_type'] = 'display_data';\n",
              "        await google.colab.output.renderOutput(dataTable, element);\n",
              "        const docLink = document.createElement('div');\n",
              "        docLink.innerHTML = docLinkHtml;\n",
              "        element.appendChild(docLink);\n",
              "      }\n",
              "    </script>\n",
              "  </div>\n",
              "\n",
              "\n",
              "<div id=\"df-4851013c-b0a3-4ac4-afd8-2a4a86f9bbe8\">\n",
              "  <button class=\"colab-df-quickchart\" onclick=\"quickchart('df-4851013c-b0a3-4ac4-afd8-2a4a86f9bbe8')\"\n",
              "            title=\"Suggest charts\"\n",
              "            style=\"display:none;\">\n",
              "\n",
              "<svg xmlns=\"http://www.w3.org/2000/svg\" height=\"24px\"viewBox=\"0 0 24 24\"\n",
              "     width=\"24px\">\n",
              "    <g>\n",
              "        <path d=\"M19 3H5c-1.1 0-2 .9-2 2v14c0 1.1.9 2 2 2h14c1.1 0 2-.9 2-2V5c0-1.1-.9-2-2-2zM9 17H7v-7h2v7zm4 0h-2V7h2v10zm4 0h-2v-4h2v4z\"/>\n",
              "    </g>\n",
              "</svg>\n",
              "  </button>\n",
              "\n",
              "<style>\n",
              "  .colab-df-quickchart {\n",
              "      --bg-color: #E8F0FE;\n",
              "      --fill-color: #1967D2;\n",
              "      --hover-bg-color: #E2EBFA;\n",
              "      --hover-fill-color: #174EA6;\n",
              "      --disabled-fill-color: #AAA;\n",
              "      --disabled-bg-color: #DDD;\n",
              "  }\n",
              "\n",
              "  [theme=dark] .colab-df-quickchart {\n",
              "      --bg-color: #3B4455;\n",
              "      --fill-color: #D2E3FC;\n",
              "      --hover-bg-color: #434B5C;\n",
              "      --hover-fill-color: #FFFFFF;\n",
              "      --disabled-bg-color: #3B4455;\n",
              "      --disabled-fill-color: #666;\n",
              "  }\n",
              "\n",
              "  .colab-df-quickchart {\n",
              "    background-color: var(--bg-color);\n",
              "    border: none;\n",
              "    border-radius: 50%;\n",
              "    cursor: pointer;\n",
              "    display: none;\n",
              "    fill: var(--fill-color);\n",
              "    height: 32px;\n",
              "    padding: 0;\n",
              "    width: 32px;\n",
              "  }\n",
              "\n",
              "  .colab-df-quickchart:hover {\n",
              "    background-color: var(--hover-bg-color);\n",
              "    box-shadow: 0 1px 2px rgba(60, 64, 67, 0.3), 0 1px 3px 1px rgba(60, 64, 67, 0.15);\n",
              "    fill: var(--button-hover-fill-color);\n",
              "  }\n",
              "\n",
              "  .colab-df-quickchart-complete:disabled,\n",
              "  .colab-df-quickchart-complete:disabled:hover {\n",
              "    background-color: var(--disabled-bg-color);\n",
              "    fill: var(--disabled-fill-color);\n",
              "    box-shadow: none;\n",
              "  }\n",
              "\n",
              "  .colab-df-spinner {\n",
              "    border: 2px solid var(--fill-color);\n",
              "    border-color: transparent;\n",
              "    border-bottom-color: var(--fill-color);\n",
              "    animation:\n",
              "      spin 1s steps(1) infinite;\n",
              "  }\n",
              "\n",
              "  @keyframes spin {\n",
              "    0% {\n",
              "      border-color: transparent;\n",
              "      border-bottom-color: var(--fill-color);\n",
              "      border-left-color: var(--fill-color);\n",
              "    }\n",
              "    20% {\n",
              "      border-color: transparent;\n",
              "      border-left-color: var(--fill-color);\n",
              "      border-top-color: var(--fill-color);\n",
              "    }\n",
              "    30% {\n",
              "      border-color: transparent;\n",
              "      border-left-color: var(--fill-color);\n",
              "      border-top-color: var(--fill-color);\n",
              "      border-right-color: var(--fill-color);\n",
              "    }\n",
              "    40% {\n",
              "      border-color: transparent;\n",
              "      border-right-color: var(--fill-color);\n",
              "      border-top-color: var(--fill-color);\n",
              "    }\n",
              "    60% {\n",
              "      border-color: transparent;\n",
              "      border-right-color: var(--fill-color);\n",
              "    }\n",
              "    80% {\n",
              "      border-color: transparent;\n",
              "      border-right-color: var(--fill-color);\n",
              "      border-bottom-color: var(--fill-color);\n",
              "    }\n",
              "    90% {\n",
              "      border-color: transparent;\n",
              "      border-bottom-color: var(--fill-color);\n",
              "    }\n",
              "  }\n",
              "</style>\n",
              "\n",
              "  <script>\n",
              "    async function quickchart(key) {\n",
              "      const quickchartButtonEl =\n",
              "        document.querySelector('#' + key + ' button');\n",
              "      quickchartButtonEl.disabled = true;  // To prevent multiple clicks.\n",
              "      quickchartButtonEl.classList.add('colab-df-spinner');\n",
              "      try {\n",
              "        const charts = await google.colab.kernel.invokeFunction(\n",
              "            'suggestCharts', [key], {});\n",
              "      } catch (error) {\n",
              "        console.error('Error during call to suggestCharts:', error);\n",
              "      }\n",
              "      quickchartButtonEl.classList.remove('colab-df-spinner');\n",
              "      quickchartButtonEl.classList.add('colab-df-quickchart-complete');\n",
              "    }\n",
              "    (() => {\n",
              "      let quickchartButtonEl =\n",
              "        document.querySelector('#df-4851013c-b0a3-4ac4-afd8-2a4a86f9bbe8 button');\n",
              "      quickchartButtonEl.style.display =\n",
              "        google.colab.kernel.accessAllowed ? 'block' : 'none';\n",
              "    })();\n",
              "  </script>\n",
              "</div>\n",
              "\n",
              "    </div>\n",
              "  </div>\n"
            ]
          },
          "metadata": {},
          "execution_count": 38
        }
      ]
    },
    {
      "cell_type": "code",
      "execution_count": 39,
      "id": "fb9e1b3c",
      "metadata": {
        "id": "fb9e1b3c",
        "colab": {
          "base_uri": "https://localhost:8080/"
        },
        "outputId": "f1615185-3dec-41fd-b9c5-d8c5033d1abe"
      },
      "outputs": [
        {
          "output_type": "execute_result",
          "data": {
            "text/plain": [
              "customerID\n",
              "7590-VHVEG   -1.160241\n",
              "5575-GNVDE   -0.259611\n",
              "3668-QPYBK   -0.362635\n",
              "7795-CFOCW   -0.746482\n",
              "9237-HQITU    0.197351\n",
              "                ...   \n",
              "6840-RESVB    0.665945\n",
              "2234-XADUH    1.277443\n",
              "4801-JZAZL   -1.168549\n",
              "8361-LTMKD    0.320315\n",
              "3186-AJIEK    1.358865\n",
              "Name: MonthlyCharges_z, Length: 7043, dtype: float64"
            ]
          },
          "metadata": {},
          "execution_count": 39
        }
      ],
      "source": [
        "# 비즈니스 가설 설정\n",
        "# 가설: \"월별 요금(MonthlyCharges)이 높은 고객일수록 이탈(Churn) 확률이 높다.\"\n",
        "\n",
        "# z-score 계산\n",
        "# 월별 요금(MonthlyCharges)에 대한 평균과 표준편차\n",
        "\n",
        "# 월별 요금에 대한 z-score 계산\n",
        "# z = (X−μ)/ σ (X는 개별 데이터 포인트, μ는 평균, σ는 표준편차)\n",
        "df['MonthlyCharges_z'] = (df[\"MonthlyCharges\"] - df[\"MonthlyCharges\"].mean()) / df[\"MonthlyCharges\"].std()\n",
        "df['MonthlyCharges_z']"
      ]
    },
    {
      "cell_type": "code",
      "execution_count": 40,
      "id": "e728497b",
      "metadata": {
        "id": "e728497b",
        "colab": {
          "base_uri": "https://localhost:8080/",
          "height": 314
        },
        "outputId": "18e9464f-da9d-4089-ace3-7566cb5fbf66"
      },
      "outputs": [
        {
          "output_type": "display_data",
          "data": {
            "text/plain": [
              "<Figure size 800x300 with 2 Axes>"
            ],
            "image/png": "[encoded data removed]"
          },
          "metadata": {}
        }
      ],
      "source": [
        "# hist\n",
        "df[[\"MonthlyCharges\", \"MonthlyCharges_z\"]].hist(figsize=(8, 3), bins=50);"
      ]
    },
    {
      "cell_type": "code",
      "execution_count": 41,
      "id": "859d3239",
      "metadata": {
        "id": "859d3239",
        "colab": {
          "base_uri": "https://localhost:8080/",
          "height": 300
        },
        "outputId": "d249347a-a970-4613-b916-f99767d9942c"
      },
      "outputs": [
        {
          "output_type": "execute_result",
          "data": {
            "text/plain": [
              "       MonthlyCharges  MonthlyCharges_z\n",
              "count       7043.0000         7043.0000\n",
              "mean          64.7617           -0.0000\n",
              "std           30.0900            1.0000\n",
              "min           18.2500           -1.5458\n",
              "25%           35.5000           -0.9725\n",
              "50%           70.3500            0.1857\n",
              "75%           89.8500            0.8338\n",
              "max          118.7500            1.7942"
            ],
            "text/html": [
              "\n",
              "  <div id=\"df-a665b01a-c2b6-4478-b84e-69a93a7e09cb\" class=\"colab-df-container\">\n",
              "    <div>\n",
              "<style scoped>\n",
              "    .dataframe tbody tr th:only-of-type {\n",
              "        vertical-align: middle;\n",
              "    }\n",
              "\n",
              "    .dataframe tbody tr th {\n",
              "        vertical-align: top;\n",
              "    }\n",
              "\n",
              "    .dataframe thead th {\n",
              "        text-align: right;\n",
              "    }\n",
              "</style>\n",
              "<table border=\"1\" class=\"dataframe\">\n",
              "  <thead>\n",
              "    <tr style=\"text-align: right;\">\n",
              "      <th></th>\n",
              "      <th>MonthlyCharges</th>\n",
              "      <th>MonthlyCharges_z</th>\n",
              "    </tr>\n",
              "  </thead>\n",
              "  <tbody>\n",
              "    <tr>\n",
              "      <th>count</th>\n",
              "      <td>7043.0000</td>\n",
              "      <td>7043.0000</td>\n",
              "    </tr>\n",
              "    <tr>\n",
              "      <th>mean</th>\n",
              "      <td>64.7617</td>\n",
              "      <td>-0.0000</td>\n",
              "    </tr>\n",
              "    <tr>\n",
              "      <th>std</th>\n",
              "      <td>30.0900</td>\n",
              "      <td>1.0000</td>\n",
              "    </tr>\n",
              "    <tr>\n",
              "      <th>min</th>\n",
              "      <td>18.2500</td>\n",
              "      <td>-1.5458</td>\n",
              "    </tr>\n",
              "    <tr>\n",
              "      <th>25%</th>\n",
              "      <td>35.5000</td>\n",
              "      <td>-0.9725</td>\n",
              "    </tr>\n",
              "    <tr>\n",
              "      <th>50%</th>\n",
              "      <td>70.3500</td>\n",
              "      <td>0.1857</td>\n",
              "    </tr>\n",
              "    <tr>\n",
              "      <th>75%</th>\n",
              "      <td>89.8500</td>\n",
              "      <td>0.8338</td>\n",
              "    </tr>\n",
              "    <tr>\n",
              "      <th>max</th>\n",
              "      <td>118.7500</td>\n",
              "      <td>1.7942</td>\n",
              "    </tr>\n",
              "  </tbody>\n",
              "</table>\n",
              "</div>\n",
              "    <div class=\"colab-df-buttons\">\n",
              "\n",
              "  <div class=\"colab-df-container\">\n",
              "    <button class=\"colab-df-convert\" onclick=\"convertToInteractive('df-a665b01a-c2b6-4478-b84e-69a93a7e09cb')\"\n",
              "            title=\"Convert this dataframe to an interactive table.\"\n",
              "            style=\"display:none;\">\n",
              "\n",
              "  <svg xmlns=\"http://www.w3.org/2000/svg\" height=\"24px\" viewBox=\"0 -960 960 960\">\n",
              "    <path d=\"M120-120v-720h720v720H120Zm60-500h600v-160H180v160Zm220 220h160v-160H400v160Zm0 220h160v-160H400v160ZM180-400h160v-160H180v160Zm440 0h160v-160H620v160ZM180-180h160v-160H180v160Zm440 0h160v-160H620v160Z\"/>\n",
              "  </svg>\n",
              "    </button>\n",
              "\n",
              "  <style>\n",
              "    .colab-df-container {\n",
              "      display:flex;\n",
              "      gap: 12px;\n",
              "    }\n",
              "\n",
              "    .colab-df-convert {\n",
              "      background-color: #E8F0FE;\n",
              "      border: none;\n",
              "      border-radius: 50%;\n",
              "      cursor: pointer;\n",
              "      display: none;\n",
              "      fill: #1967D2;\n",
              "      height: 32px;\n",
              "      padding: 0 0 0 0;\n",
              "      width: 32px;\n",
              "    }\n",
              "\n",
              "    .colab-df-convert:hover {\n",
              "      background-color: #E2EBFA;\n",
              "      box-shadow: 0px 1px 2px rgba(60, 64, 67, 0.3), 0px 1px 3px 1px rgba(60, 64, 67, 0.15);\n",
              "      fill: #174EA6;\n",
              "    }\n",
              "\n",
              "    .colab-df-buttons div {\n",
              "      margin-bottom: 4px;\n",
              "    }\n",
              "\n",
              "    [theme=dark] .colab-df-convert {\n",
              "      background-color: #3B4455;\n",
              "      fill: #D2E3FC;\n",
              "    }\n",
              "\n",
              "    [theme=dark] .colab-df-convert:hover {\n",
              "      background-color: #434B5C;\n",
              "      box-shadow: 0px 1px 3px 1px rgba(0, 0, 0, 0.15);\n",
              "      filter: drop-shadow(0px 1px 2px rgba(0, 0, 0, 0.3));\n",
              "      fill: #FFFFFF;\n",
              "    }\n",
              "  </style>\n",
              "\n",
              "    <script>\n",
              "      const buttonEl =\n",
              "        document.querySelector('#df-a665b01a-c2b6-4478-b84e-69a93a7e09cb button.colab-df-convert');\n",
              "      buttonEl.style.display =\n",
              "        google.colab.kernel.accessAllowed ? 'block' : 'none';\n",
              "\n",
              "      async function convertToInteractive(key) {\n",
              "        const element = document.querySelector('#df-a665b01a-c2b6-4478-b84e-69a93a7e09cb');\n",
              "        const dataTable =\n",
              "          await google.colab.kernel.invokeFunction('convertToInteractive',\n",
              "                                                    [key], {});\n",
              "        if (!dataTable) return;\n",
              "\n",
              "        const docLinkHtml = 'Like what you see? Visit the ' +\n",
              "          '<a target=\"_blank\" href=https://colab.research.google.com/notebooks/data_table.ipynb>data table notebook</a>'\n",
              "          + ' to learn more about interactive tables.';\n",
              "        element.innerHTML = '';\n",
              "        dataTable['output_type'] = 'display_data';\n",
              "        await google.colab.output.renderOutput(dataTable, element);\n",
              "        const docLink = document.createElement('div');\n",
              "        docLink.innerHTML = docLinkHtml;\n",
              "        element.appendChild(docLink);\n",
              "      }\n",
              "    </script>\n",
              "  </div>\n",
              "\n",
              "\n",
              "<div id=\"df-c77e5428-5523-4ad5-9932-c3d8a26d811f\">\n",
              "  <button class=\"colab-df-quickchart\" onclick=\"quickchart('df-c77e5428-5523-4ad5-9932-c3d8a26d811f')\"\n",
              "            title=\"Suggest charts\"\n",
              "            style=\"display:none;\">\n",
              "\n",
              "<svg xmlns=\"http://www.w3.org/2000/svg\" height=\"24px\"viewBox=\"0 0 24 24\"\n",
              "     width=\"24px\">\n",
              "    <g>\n",
              "        <path d=\"M19 3H5c-1.1 0-2 .9-2 2v14c0 1.1.9 2 2 2h14c1.1 0 2-.9 2-2V5c0-1.1-.9-2-2-2zM9 17H7v-7h2v7zm4 0h-2V7h2v10zm4 0h-2v-4h2v4z\"/>\n",
              "    </g>\n",
              "</svg>\n",
              "  </button>\n",
              "\n",
              "<style>\n",
              "  .colab-df-quickchart {\n",
              "      --bg-color: #E8F0FE;\n",
              "      --fill-color: #1967D2;\n",
              "      --hover-bg-color: #E2EBFA;\n",
              "      --hover-fill-color: #174EA6;\n",
              "      --disabled-fill-color: #AAA;\n",
              "      --disabled-bg-color: #DDD;\n",
              "  }\n",
              "\n",
              "  [theme=dark] .colab-df-quickchart {\n",
              "      --bg-color: #3B4455;\n",
              "      --fill-color: #D2E3FC;\n",
              "      --hover-bg-color: #434B5C;\n",
              "      --hover-fill-color: #FFFFFF;\n",
              "      --disabled-bg-color: #3B4455;\n",
              "      --disabled-fill-color: #666;\n",
              "  }\n",
              "\n",
              "  .colab-df-quickchart {\n",
              "    background-color: var(--bg-color);\n",
              "    border: none;\n",
              "    border-radius: 50%;\n",
              "    cursor: pointer;\n",
              "    display: none;\n",
              "    fill: var(--fill-color);\n",
              "    height: 32px;\n",
              "    padding: 0;\n",
              "    width: 32px;\n",
              "  }\n",
              "\n",
              "  .colab-df-quickchart:hover {\n",
              "    background-color: var(--hover-bg-color);\n",
              "    box-shadow: 0 1px 2px rgba(60, 64, 67, 0.3), 0 1px 3px 1px rgba(60, 64, 67, 0.15);\n",
              "    fill: var(--button-hover-fill-color);\n",
              "  }\n",
              "\n",
              "  .colab-df-quickchart-complete:disabled,\n",
              "  .colab-df-quickchart-complete:disabled:hover {\n",
              "    background-color: var(--disabled-bg-color);\n",
              "    fill: var(--disabled-fill-color);\n",
              "    box-shadow: none;\n",
              "  }\n",
              "\n",
              "  .colab-df-spinner {\n",
              "    border: 2px solid var(--fill-color);\n",
              "    border-color: transparent;\n",
              "    border-bottom-color: var(--fill-color);\n",
              "    animation:\n",
              "      spin 1s steps(1) infinite;\n",
              "  }\n",
              "\n",
              "  @keyframes spin {\n",
              "    0% {\n",
              "      border-color: transparent;\n",
              "      border-bottom-color: var(--fill-color);\n",
              "      border-left-color: var(--fill-color);\n",
              "    }\n",
              "    20% {\n",
              "      border-color: transparent;\n",
              "      border-left-color: var(--fill-color);\n",
              "      border-top-color: var(--fill-color);\n",
              "    }\n",
              "    30% {\n",
              "      border-color: transparent;\n",
              "      border-left-color: var(--fill-color);\n",
              "      border-top-color: var(--fill-color);\n",
              "      border-right-color: var(--fill-color);\n",
              "    }\n",
              "    40% {\n",
              "      border-color: transparent;\n",
              "      border-right-color: var(--fill-color);\n",
              "      border-top-color: var(--fill-color);\n",
              "    }\n",
              "    60% {\n",
              "      border-color: transparent;\n",
              "      border-right-color: var(--fill-color);\n",
              "    }\n",
              "    80% {\n",
              "      border-color: transparent;\n",
              "      border-right-color: var(--fill-color);\n",
              "      border-bottom-color: var(--fill-color);\n",
              "    }\n",
              "    90% {\n",
              "      border-color: transparent;\n",
              "      border-bottom-color: var(--fill-color);\n",
              "    }\n",
              "  }\n",
              "</style>\n",
              "\n",
              "  <script>\n",
              "    async function quickchart(key) {\n",
              "      const quickchartButtonEl =\n",
              "        document.querySelector('#' + key + ' button');\n",
              "      quickchartButtonEl.disabled = true;  // To prevent multiple clicks.\n",
              "      quickchartButtonEl.classList.add('colab-df-spinner');\n",
              "      try {\n",
              "        const charts = await google.colab.kernel.invokeFunction(\n",
              "            'suggestCharts', [key], {});\n",
              "      } catch (error) {\n",
              "        console.error('Error during call to suggestCharts:', error);\n",
              "      }\n",
              "      quickchartButtonEl.classList.remove('colab-df-spinner');\n",
              "      quickchartButtonEl.classList.add('colab-df-quickchart-complete');\n",
              "    }\n",
              "    (() => {\n",
              "      let quickchartButtonEl =\n",
              "        document.querySelector('#df-c77e5428-5523-4ad5-9932-c3d8a26d811f button');\n",
              "      quickchartButtonEl.style.display =\n",
              "        google.colab.kernel.accessAllowed ? 'block' : 'none';\n",
              "    })();\n",
              "  </script>\n",
              "</div>\n",
              "\n",
              "    </div>\n",
              "  </div>\n"
            ]
          },
          "metadata": {},
          "execution_count": 41
        }
      ],
      "source": [
        "# describe\n",
        "df[[\"MonthlyCharges\", \"MonthlyCharges_z\"]].describe().round(4)"
      ]
    },
    {
      "cell_type": "markdown",
      "id": "963266be",
      "metadata": {
        "id": "963266be"
      },
      "source": [
        "### 이탈률 분석\n",
        "* 분석 결과에 따라 통신사는 고가 요금제 고객의 이탈을 방지하기 위한 전략을 수립할 수 있습니다.\n",
        "예를 들어, 이탈률이 높게 나타난다면 요금제 구조 재검토, 충성 고객에 대한 인센티브 제공 등의 조치를 고려할 수 있습니다."
      ]
    },
    {
      "cell_type": "code",
      "execution_count": 42,
      "id": "e0b11d6e",
      "metadata": {
        "id": "e0b11d6e",
        "colab": {
          "base_uri": "https://localhost:8080/"
        },
        "outputId": "7eedefa0-f03f-448b-dfc5-07e41fb78aa4"
      },
      "outputs": [
        {
          "output_type": "execute_result",
          "data": {
            "text/plain": [
              "1.2575024364890448"
            ]
          },
          "metadata": {},
          "execution_count": 42
        }
      ],
      "source": [
        "# quantile 을 통해 0.9 구간을 구함\n",
        "df['MonthlyCharges_z'].quantile(0.9)"
      ]
    },
    {
      "cell_type": "code",
      "source": [
        "# df['MonthlyCharges'].quantile(0.9)\n",
        "high_customers = df[df['MonthlyCharges'] > df['MonthlyCharges'].quantile(0.9)]\n",
        "high_customers.shape"
      ],
      "metadata": {
        "colab": {
          "base_uri": "https://localhost:8080/"
        },
        "id": "0bWt_9T0lw_A",
        "outputId": "e54af00d-d82b-4067-b9a3-c5c895cb4c44"
      },
      "id": "0bWt_9T0lw_A",
      "execution_count": 43,
      "outputs": [
        {
          "output_type": "execute_result",
          "data": {
            "text/plain": [
              "(704, 22)"
            ]
          },
          "metadata": {},
          "execution_count": 43
        }
      ]
    },
    {
      "cell_type": "code",
      "execution_count": 44,
      "id": "42912682",
      "metadata": {
        "id": "42912682",
        "colab": {
          "base_uri": "https://localhost:8080/"
        },
        "outputId": "c106127b-639a-4795-8852-65277b19bb8a"
      },
      "outputs": [
        {
          "output_type": "execute_result",
          "data": {
            "text/plain": [
              "(704, 22)"
            ]
          },
          "metadata": {},
          "execution_count": 44
        }
      ],
      "source": [
        "# z-score를 활용하여 이탈률 분석\n",
        "# z-score가 높은 상위 10% 고객의 이탈률 확인\n",
        "high_z_customers = df[df['MonthlyCharges_z'] > df['MonthlyCharges_z'].quantile(0.9)]\n",
        "high_z_customers.shape"
      ]
    },
    {
      "cell_type": "code",
      "source": [
        "df[\"Churn\"].value_counts(1)"
      ],
      "metadata": {
        "colab": {
          "base_uri": "https://localhost:8080/"
        },
        "id": "6laTg4iHln7c",
        "outputId": "248ae00e-ffb1-4dd8-e9a4-e0a636e6c336"
      },
      "id": "6laTg4iHln7c",
      "execution_count": 45,
      "outputs": [
        {
          "output_type": "execute_result",
          "data": {
            "text/plain": [
              "No     0.73463\n",
              "Yes    0.26537\n",
              "Name: Churn, dtype: float64"
            ]
          },
          "metadata": {},
          "execution_count": 45
        }
      ]
    },
    {
      "cell_type": "code",
      "source": [
        "high_customers[\"Churn\"].value_counts(1)"
      ],
      "metadata": {
        "colab": {
          "base_uri": "https://localhost:8080/"
        },
        "id": "4KcOLmoymBXq",
        "outputId": "edfe90de-b182-4ccd-ec6a-b176c1b0be3d"
      },
      "id": "4KcOLmoymBXq",
      "execution_count": 46,
      "outputs": [
        {
          "output_type": "execute_result",
          "data": {
            "text/plain": [
              "No     0.752841\n",
              "Yes    0.247159\n",
              "Name: Churn, dtype: float64"
            ]
          },
          "metadata": {},
          "execution_count": 46
        }
      ]
    },
    {
      "cell_type": "code",
      "source": [
        "high_z_customers[\"Churn\"].value_counts(1)"
      ],
      "metadata": {
        "colab": {
          "base_uri": "https://localhost:8080/"
        },
        "id": "C1muzObclaCB",
        "outputId": "53292faf-13fe-4d77-d368-7a2eaefe5d5a"
      },
      "id": "C1muzObclaCB",
      "execution_count": 47,
      "outputs": [
        {
          "output_type": "execute_result",
          "data": {
            "text/plain": [
              "No     0.752841\n",
              "Yes    0.247159\n",
              "Name: Churn, dtype: float64"
            ]
          },
          "metadata": {},
          "execution_count": 47
        }
      ]
    },
    {
      "cell_type": "code",
      "source": [
        "sns.histplot(data=df, x=\"MonthlyCharges\", kde=True, hue=\"Churn\")\n",
        "plt.axvline(df['MonthlyCharges'].quantile(0.9))"
      ],
      "metadata": {
        "colab": {
          "base_uri": "https://localhost:8080/",
          "height": 467
        },
        "id": "c8A8Mb02mxm-",
        "outputId": "21e2cc29-1dbf-4962-c5e9-e3c1293719a4"
      },
      "id": "c8A8Mb02mxm-",
      "execution_count": 48,
      "outputs": [
        {
          "output_type": "execute_result",
          "data": {
            "text/plain": [
              "<matplotlib.lines.Line2D at 0x78e6d33b5ab0>"
            ]
          },
          "metadata": {},
          "execution_count": 48
        },
        {
          "output_type": "display_data",
          "data": {
            "text/plain": [
              "<Figure size 640x480 with 1 Axes>"
            ],
            "image/png": "[encoded data removed]"
          },
          "metadata": {}
        }
      ]
    },
    {
      "cell_type": "markdown",
      "id": "04897ab0",
      "metadata": {
        "id": "04897ab0"
      },
      "source": [
        "### t-test\n",
        "\n",
        "- **t-통계량 (t-Statistic)**: $t = \\frac{\\bar{x} - \\mu}{s/\\sqrt{n}}$\n",
        "  - 표본 평균이 모집단 평균으로부터 얼마나 떨어져 있는지 나타내는 값\n",
        "  \n",
        "- [scipy.stats.ttest\\_ind — SciPy Manual](https://scipy.github.io/devdocs/reference/generated/scipy.stats.ttest_ind.html#scipy.stats.ttest_ind)\n",
        "- [t-검정 - 위키백과, 우리 모두의 백과사전](https://ko.wikipedia.org/wiki/T-%EA%B2%80%EC%A0%95)"
      ]
    },
    {
      "cell_type": "markdown",
      "id": "ba9c3c87",
      "metadata": {
        "id": "ba9c3c87"
      },
      "source": [
        "## 평균에 대한 가설 검정\n",
        "* 평균에 대한 가설 검정은 표본 데이터를 사용하여 모집단의 평균에 대한 가설을 검정하는 것입니다. 예를 들어, 어떤 치료법이 효과가 있는지를 평균 회복 시간을 비교하여 검정할 수 있습니다.\n",
        "\n",
        "* 가설 검정 과정\n",
        "1) 귀무가설과 대립가설을 설정합니다.\n",
        "2) 적절한 검정 통계량을 선택하고 계산합니다 (예: t-검정).\n",
        "3) P-값을 계산하여 α와 비교합니다.\n",
        "4) P-값이 α보다 작으면 귀무가설을 기각하고, 그렇지 않으면 귀무가설을 채택합니다."
      ]
    },
    {
      "cell_type": "markdown",
      "id": "5d57d5ed",
      "metadata": {
        "id": "5d57d5ed"
      },
      "source": [
        "## t-검정\n",
        "### 새로운 지불방식이(B)가 기존 지불방식(A)보다 고객 이탈률을 감소시킨다.\n",
        "\n",
        "#### t-test\n",
        "\n",
        "- **t-통계량 (t-Statistic)**: $t = \\frac{\\bar{x} - \\mu}{s/\\sqrt{n}}$\n",
        "  - 표본 평균이 모집단 평균으로부터 얼마나 떨어져 있는지 나타내는 값\n",
        "  \n",
        "- [scipy.stats.ttest\\_ind — SciPy Manual](https://scipy.github.io/devdocs/reference/generated/scipy.stats.ttest_ind.html#scipy.stats.ttest_ind)\n",
        "- [t-검정 - 위키백과, 우리 모두의 백과사전](https://ko.wikipedia.org/wiki/T-%EA%B2%80%EC%A0%95)"
      ]
    },
    {
      "cell_type": "markdown",
      "source": [],
      "metadata": {
        "id": "YkLuSjzVJ8AI"
      },
      "id": "YkLuSjzVJ8AI"
    },
    {
      "cell_type": "code",
      "source": [
        "df[\"Churn\"].value_counts(1)"
      ],
      "metadata": {
        "colab": {
          "base_uri": "https://localhost:8080/"
        },
        "id": "z842YejAGXOq",
        "outputId": "3a669a3c-e642-466b-e701-0d650ef3d8bd"
      },
      "id": "z842YejAGXOq",
      "execution_count": 50,
      "outputs": [
        {
          "output_type": "execute_result",
          "data": {
            "text/plain": [
              "No     0.73463\n",
              "Yes    0.26537\n",
              "Name: Churn, dtype: float64"
            ]
          },
          "metadata": {},
          "execution_count": 50
        }
      ]
    },
    {
      "cell_type": "code",
      "execution_count": 52,
      "id": "4c263d06",
      "metadata": {
        "id": "4c263d06",
        "colab": {
          "base_uri": "https://localhost:8080/"
        },
        "outputId": "769ef4c4-0544-4883-ae2b-c7dcb5395f6f"
      },
      "outputs": [
        {
          "output_type": "execute_result",
          "data": {
            "text/plain": [
              "0    0.73463\n",
              "1    0.26537\n",
              "Name: Churn_bi, dtype: float64"
            ]
          },
          "metadata": {},
          "execution_count": 52
        }
      ],
      "source": [
        "# 이탈률을 나타내는 'Churn' 열의 데이터를 숫자 형태로 변환\n",
        "# 이탈 여부를 숫자로 변환 (Yes: 1, No: 0)\n",
        "df['Churn_bi'] = (df[\"Churn\"] == \"Yes\").astype(int)\n",
        "df['Churn_bi'].value_counts(1)"
      ]
    },
    {
      "cell_type": "code",
      "source": [
        "df['Churn_bi'].describe()"
      ],
      "metadata": {
        "colab": {
          "base_uri": "https://localhost:8080/"
        },
        "id": "FmH827QiGoau",
        "outputId": "870e023b-ad4e-45ce-ad10-da4ac854110a"
      },
      "id": "FmH827QiGoau",
      "execution_count": 53,
      "outputs": [
        {
          "output_type": "execute_result",
          "data": {
            "text/plain": [
              "count    7043.000000\n",
              "mean        0.265370\n",
              "std         0.441561\n",
              "min         0.000000\n",
              "25%         0.000000\n",
              "50%         0.000000\n",
              "75%         1.000000\n",
              "max         1.000000\n",
              "Name: Churn_bi, dtype: float64"
            ]
          },
          "metadata": {},
          "execution_count": 53
        }
      ]
    },
    {
      "cell_type": "code",
      "execution_count": 61,
      "id": "e6a3e7f7",
      "metadata": {
        "id": "e6a3e7f7",
        "colab": {
          "base_uri": "https://localhost:8080/",
          "height": 472
        },
        "outputId": "b6734cfe-339f-49ba-cd77-d23de7dfaa8d"
      },
      "outputs": [
        {
          "output_type": "execute_result",
          "data": {
            "text/plain": [
              "<Axes: xlabel='Churn_bi', ylabel='Density'>"
            ]
          },
          "metadata": {},
          "execution_count": 61
        },
        {
          "output_type": "display_data",
          "data": {
            "text/plain": [
              "<Figure size 640x480 with 1 Axes>"
            ],
            "image/png": "[encoded data removed]"
          },
          "metadata": {}
        }
      ],
      "source": [
        "# from scipy.stats import ttest_ind\n",
        "\n",
        "# 비즈니스 가설 설정\n",
        "# 가설: 새로운 지불방식이(B)가 기존 지불방식(A)보다 고객 이탈률을 감소시킨다.\n",
        "\n",
        "# A/B 테스트를 위한 데이터 준비\n",
        "# 예를 들어, 'PaymentMethod'가 'Electronic check'인 고객을 그룹 A로,\n",
        "# 'Bank transfer (automatic)'인 고객을 그룹 B로 설정\n",
        "group_A = df[df['PaymentMethod'] == 'Electronic check']['Churn_bi']\n",
        "group_B = df[df['PaymentMethod'] == 'Bank transfer (automatic)']['Churn_bi']\n",
        "\n",
        "sns.kdeplot(data=df[df['PaymentMethod'].isin(['Electronic check', 'Bank transfer (automatic)'])],\n",
        "                x=\"Churn_bi\", hue=\"PaymentMethod\")"
      ]
    },
    {
      "cell_type": "code",
      "source": [
        "group_A.var(ddof=1), group_B.var(ddof=1)"
      ],
      "metadata": {
        "colab": {
          "base_uri": "https://localhost:8080/"
        },
        "id": "ou0ZBENcOHKA",
        "outputId": "a6b64573-4e04-45de-de40-e9ec6347606a"
      },
      "id": "ou0ZBENcOHKA",
      "execution_count": 63,
      "outputs": [
        {
          "output_type": "execute_result",
          "data": {
            "text/plain": [
              "(0.24788207896459577, 0.1392667537500126)"
            ]
          },
          "metadata": {},
          "execution_count": 63
        }
      ]
    },
    {
      "cell_type": "code",
      "source": [
        "df_ab = df[df['PaymentMethod'].isin(['Electronic check', 'Bank transfer (automatic)'])]\n",
        "\n",
        "pd.crosstab(index=df_ab[\"PaymentMethod\"], columns=df_ab[\"Churn\"], normalize=True)"
      ],
      "metadata": {
        "colab": {
          "base_uri": "https://localhost:8080/",
          "height": 143
        },
        "id": "SwvkybM0P8Lv",
        "outputId": "dea80be7-ea2a-443e-8739-3098a50a9fd9"
      },
      "id": "SwvkybM0P8Lv",
      "execution_count": 73,
      "outputs": [
        {
          "output_type": "execute_result",
          "data": {
            "text/plain": [
              "Churn                            No       Yes\n",
              "PaymentMethod                                \n",
              "Bank transfer (automatic)  0.328984  0.066002\n",
              "Electronic check           0.331031  0.273983"
            ],
            "text/html": [
              "\n",
              "  <div id=\"df-a1efaa37-8ed7-4d23-a750-f84dd16fe442\" class=\"colab-df-container\">\n",
              "    <div>\n",
              "<style scoped>\n",
              "    .dataframe tbody tr th:only-of-type {\n",
              "        vertical-align: middle;\n",
              "    }\n",
              "\n",
              "    .dataframe tbody tr th {\n",
              "        vertical-align: top;\n",
              "    }\n",
              "\n",
              "    .dataframe thead th {\n",
              "        text-align: right;\n",
              "    }\n",
              "</style>\n",
              "<table border=\"1\" class=\"dataframe\">\n",
              "  <thead>\n",
              "    <tr style=\"text-align: right;\">\n",
              "      <th>Churn</th>\n",
              "      <th>No</th>\n",
              "      <th>Yes</th>\n",
              "    </tr>\n",
              "    <tr>\n",
              "      <th>PaymentMethod</th>\n",
              "      <th></th>\n",
              "      <th></th>\n",
              "    </tr>\n",
              "  </thead>\n",
              "  <tbody>\n",
              "    <tr>\n",
              "      <th>Bank transfer (automatic)</th>\n",
              "      <td>0.328984</td>\n",
              "      <td>0.066002</td>\n",
              "    </tr>\n",
              "    <tr>\n",
              "      <th>Electronic check</th>\n",
              "      <td>0.331031</td>\n",
              "      <td>0.273983</td>\n",
              "    </tr>\n",
              "  </tbody>\n",
              "</table>\n",
              "</div>\n",
              "    <div class=\"colab-df-buttons\">\n",
              "\n",
              "  <div class=\"colab-df-container\">\n",
              "    <button class=\"colab-df-convert\" onclick=\"convertToInteractive('df-a1efaa37-8ed7-4d23-a750-f84dd16fe442')\"\n",
              "            title=\"Convert this dataframe to an interactive table.\"\n",
              "            style=\"display:none;\">\n",
              "\n",
              "  <svg xmlns=\"http://www.w3.org/2000/svg\" height=\"24px\" viewBox=\"0 -960 960 960\">\n",
              "    <path d=\"M120-120v-720h720v720H120Zm60-500h600v-160H180v160Zm220 220h160v-160H400v160Zm0 220h160v-160H400v160ZM180-400h160v-160H180v160Zm440 0h160v-160H620v160ZM180-180h160v-160H180v160Zm440 0h160v-160H620v160Z\"/>\n",
              "  </svg>\n",
              "    </button>\n",
              "\n",
              "  <style>\n",
              "    .colab-df-container {\n",
              "      display:flex;\n",
              "      gap: 12px;\n",
              "    }\n",
              "\n",
              "    .colab-df-convert {\n",
              "      background-color: #E8F0FE;\n",
              "      border: none;\n",
              "      border-radius: 50%;\n",
              "      cursor: pointer;\n",
              "      display: none;\n",
              "      fill: #1967D2;\n",
              "      height: 32px;\n",
              "      padding: 0 0 0 0;\n",
              "      width: 32px;\n",
              "    }\n",
              "\n",
              "    .colab-df-convert:hover {\n",
              "      background-color: #E2EBFA;\n",
              "      box-shadow: 0px 1px 2px rgba(60, 64, 67, 0.3), 0px 1px 3px 1px rgba(60, 64, 67, 0.15);\n",
              "      fill: #174EA6;\n",
              "    }\n",
              "\n",
              "    .colab-df-buttons div {\n",
              "      margin-bottom: 4px;\n",
              "    }\n",
              "\n",
              "    [theme=dark] .colab-df-convert {\n",
              "      background-color: #3B4455;\n",
              "      fill: #D2E3FC;\n",
              "    }\n",
              "\n",
              "    [theme=dark] .colab-df-convert:hover {\n",
              "      background-color: #434B5C;\n",
              "      box-shadow: 0px 1px 3px 1px rgba(0, 0, 0, 0.15);\n",
              "      filter: drop-shadow(0px 1px 2px rgba(0, 0, 0, 0.3));\n",
              "      fill: #FFFFFF;\n",
              "    }\n",
              "  </style>\n",
              "\n",
              "    <script>\n",
              "      const buttonEl =\n",
              "        document.querySelector('#df-a1efaa37-8ed7-4d23-a750-f84dd16fe442 button.colab-df-convert');\n",
              "      buttonEl.style.display =\n",
              "        google.colab.kernel.accessAllowed ? 'block' : 'none';\n",
              "\n",
              "      async function convertToInteractive(key) {\n",
              "        const element = document.querySelector('#df-a1efaa37-8ed7-4d23-a750-f84dd16fe442');\n",
              "        const dataTable =\n",
              "          await google.colab.kernel.invokeFunction('convertToInteractive',\n",
              "                                                    [key], {});\n",
              "        if (!dataTable) return;\n",
              "\n",
              "        const docLinkHtml = 'Like what you see? Visit the ' +\n",
              "          '<a target=\"_blank\" href=https://colab.research.google.com/notebooks/data_table.ipynb>data table notebook</a>'\n",
              "          + ' to learn more about interactive tables.';\n",
              "        element.innerHTML = '';\n",
              "        dataTable['output_type'] = 'display_data';\n",
              "        await google.colab.output.renderOutput(dataTable, element);\n",
              "        const docLink = document.createElement('div');\n",
              "        docLink.innerHTML = docLinkHtml;\n",
              "        element.appendChild(docLink);\n",
              "      }\n",
              "    </script>\n",
              "  </div>\n",
              "\n",
              "\n",
              "<div id=\"df-e715361b-f251-4bde-8171-72396d16c318\">\n",
              "  <button class=\"colab-df-quickchart\" onclick=\"quickchart('df-e715361b-f251-4bde-8171-72396d16c318')\"\n",
              "            title=\"Suggest charts\"\n",
              "            style=\"display:none;\">\n",
              "\n",
              "<svg xmlns=\"http://www.w3.org/2000/svg\" height=\"24px\"viewBox=\"0 0 24 24\"\n",
              "     width=\"24px\">\n",
              "    <g>\n",
              "        <path d=\"M19 3H5c-1.1 0-2 .9-2 2v14c0 1.1.9 2 2 2h14c1.1 0 2-.9 2-2V5c0-1.1-.9-2-2-2zM9 17H7v-7h2v7zm4 0h-2V7h2v10zm4 0h-2v-4h2v4z\"/>\n",
              "    </g>\n",
              "</svg>\n",
              "  </button>\n",
              "\n",
              "<style>\n",
              "  .colab-df-quickchart {\n",
              "      --bg-color: #E8F0FE;\n",
              "      --fill-color: #1967D2;\n",
              "      --hover-bg-color: #E2EBFA;\n",
              "      --hover-fill-color: #174EA6;\n",
              "      --disabled-fill-color: #AAA;\n",
              "      --disabled-bg-color: #DDD;\n",
              "  }\n",
              "\n",
              "  [theme=dark] .colab-df-quickchart {\n",
              "      --bg-color: #3B4455;\n",
              "      --fill-color: #D2E3FC;\n",
              "      --hover-bg-color: #434B5C;\n",
              "      --hover-fill-color: #FFFFFF;\n",
              "      --disabled-bg-color: #3B4455;\n",
              "      --disabled-fill-color: #666;\n",
              "  }\n",
              "\n",
              "  .colab-df-quickchart {\n",
              "    background-color: var(--bg-color);\n",
              "    border: none;\n",
              "    border-radius: 50%;\n",
              "    cursor: pointer;\n",
              "    display: none;\n",
              "    fill: var(--fill-color);\n",
              "    height: 32px;\n",
              "    padding: 0;\n",
              "    width: 32px;\n",
              "  }\n",
              "\n",
              "  .colab-df-quickchart:hover {\n",
              "    background-color: var(--hover-bg-color);\n",
              "    box-shadow: 0 1px 2px rgba(60, 64, 67, 0.3), 0 1px 3px 1px rgba(60, 64, 67, 0.15);\n",
              "    fill: var(--button-hover-fill-color);\n",
              "  }\n",
              "\n",
              "  .colab-df-quickchart-complete:disabled,\n",
              "  .colab-df-quickchart-complete:disabled:hover {\n",
              "    background-color: var(--disabled-bg-color);\n",
              "    fill: var(--disabled-fill-color);\n",
              "    box-shadow: none;\n",
              "  }\n",
              "\n",
              "  .colab-df-spinner {\n",
              "    border: 2px solid var(--fill-color);\n",
              "    border-color: transparent;\n",
              "    border-bottom-color: var(--fill-color);\n",
              "    animation:\n",
              "      spin 1s steps(1) infinite;\n",
              "  }\n",
              "\n",
              "  @keyframes spin {\n",
              "    0% {\n",
              "      border-color: transparent;\n",
              "      border-bottom-color: var(--fill-color);\n",
              "      border-left-color: var(--fill-color);\n",
              "    }\n",
              "    20% {\n",
              "      border-color: transparent;\n",
              "      border-left-color: var(--fill-color);\n",
              "      border-top-color: var(--fill-color);\n",
              "    }\n",
              "    30% {\n",
              "      border-color: transparent;\n",
              "      border-left-color: var(--fill-color);\n",
              "      border-top-color: var(--fill-color);\n",
              "      border-right-color: var(--fill-color);\n",
              "    }\n",
              "    40% {\n",
              "      border-color: transparent;\n",
              "      border-right-color: var(--fill-color);\n",
              "      border-top-color: var(--fill-color);\n",
              "    }\n",
              "    60% {\n",
              "      border-color: transparent;\n",
              "      border-right-color: var(--fill-color);\n",
              "    }\n",
              "    80% {\n",
              "      border-color: transparent;\n",
              "      border-right-color: var(--fill-color);\n",
              "      border-bottom-color: var(--fill-color);\n",
              "    }\n",
              "    90% {\n",
              "      border-color: transparent;\n",
              "      border-bottom-color: var(--fill-color);\n",
              "    }\n",
              "  }\n",
              "</style>\n",
              "\n",
              "  <script>\n",
              "    async function quickchart(key) {\n",
              "      const quickchartButtonEl =\n",
              "        document.querySelector('#' + key + ' button');\n",
              "      quickchartButtonEl.disabled = true;  // To prevent multiple clicks.\n",
              "      quickchartButtonEl.classList.add('colab-df-spinner');\n",
              "      try {\n",
              "        const charts = await google.colab.kernel.invokeFunction(\n",
              "            'suggestCharts', [key], {});\n",
              "      } catch (error) {\n",
              "        console.error('Error during call to suggestCharts:', error);\n",
              "      }\n",
              "      quickchartButtonEl.classList.remove('colab-df-spinner');\n",
              "      quickchartButtonEl.classList.add('colab-df-quickchart-complete');\n",
              "    }\n",
              "    (() => {\n",
              "      let quickchartButtonEl =\n",
              "        document.querySelector('#df-e715361b-f251-4bde-8171-72396d16c318 button');\n",
              "      quickchartButtonEl.style.display =\n",
              "        google.colab.kernel.accessAllowed ? 'block' : 'none';\n",
              "    })();\n",
              "  </script>\n",
              "</div>\n",
              "\n",
              "    </div>\n",
              "  </div>\n"
            ]
          },
          "metadata": {},
          "execution_count": 73
        }
      ]
    },
    {
      "cell_type": "code",
      "source": [
        "pd.crosstab(index=df_ab[\"PaymentMethod\"], columns=df_ab[\"Churn\"],\n",
        "            values=df_ab[\"Churn_bi\"], aggfunc=\"count\")"
      ],
      "metadata": {
        "colab": {
          "base_uri": "https://localhost:8080/",
          "height": 143
        },
        "id": "SN3cLxJQQgQ_",
        "outputId": "5a721f4e-55ed-47ad-e418-77a1f6dbd7c5"
      },
      "id": "SN3cLxJQQgQ_",
      "execution_count": 74,
      "outputs": [
        {
          "output_type": "execute_result",
          "data": {
            "text/plain": [
              "Churn                        No   Yes\n",
              "PaymentMethod                        \n",
              "Bank transfer (automatic)  1286   258\n",
              "Electronic check           1294  1071"
            ],
            "text/html": [
              "\n",
              "  <div id=\"df-b7092209-725a-4498-9f80-7f855e5e85bd\" class=\"colab-df-container\">\n",
              "    <div>\n",
              "<style scoped>\n",
              "    .dataframe tbody tr th:only-of-type {\n",
              "        vertical-align: middle;\n",
              "    }\n",
              "\n",
              "    .dataframe tbody tr th {\n",
              "        vertical-align: top;\n",
              "    }\n",
              "\n",
              "    .dataframe thead th {\n",
              "        text-align: right;\n",
              "    }\n",
              "</style>\n",
              "<table border=\"1\" class=\"dataframe\">\n",
              "  <thead>\n",
              "    <tr style=\"text-align: right;\">\n",
              "      <th>Churn</th>\n",
              "      <th>No</th>\n",
              "      <th>Yes</th>\n",
              "    </tr>\n",
              "    <tr>\n",
              "      <th>PaymentMethod</th>\n",
              "      <th></th>\n",
              "      <th></th>\n",
              "    </tr>\n",
              "  </thead>\n",
              "  <tbody>\n",
              "    <tr>\n",
              "      <th>Bank transfer (automatic)</th>\n",
              "      <td>1286</td>\n",
              "      <td>258</td>\n",
              "    </tr>\n",
              "    <tr>\n",
              "      <th>Electronic check</th>\n",
              "      <td>1294</td>\n",
              "      <td>1071</td>\n",
              "    </tr>\n",
              "  </tbody>\n",
              "</table>\n",
              "</div>\n",
              "    <div class=\"colab-df-buttons\">\n",
              "\n",
              "  <div class=\"colab-df-container\">\n",
              "    <button class=\"colab-df-convert\" onclick=\"convertToInteractive('df-b7092209-725a-4498-9f80-7f855e5e85bd')\"\n",
              "            title=\"Convert this dataframe to an interactive table.\"\n",
              "            style=\"display:none;\">\n",
              "\n",
              "  <svg xmlns=\"http://www.w3.org/2000/svg\" height=\"24px\" viewBox=\"0 -960 960 960\">\n",
              "    <path d=\"M120-120v-720h720v720H120Zm60-500h600v-160H180v160Zm220 220h160v-160H400v160Zm0 220h160v-160H400v160ZM180-400h160v-160H180v160Zm440 0h160v-160H620v160ZM180-180h160v-160H180v160Zm440 0h160v-160H620v160Z\"/>\n",
              "  </svg>\n",
              "    </button>\n",
              "\n",
              "  <style>\n",
              "    .colab-df-container {\n",
              "      display:flex;\n",
              "      gap: 12px;\n",
              "    }\n",
              "\n",
              "    .colab-df-convert {\n",
              "      background-color: #E8F0FE;\n",
              "      border: none;\n",
              "      border-radius: 50%;\n",
              "      cursor: pointer;\n",
              "      display: none;\n",
              "      fill: #1967D2;\n",
              "      height: 32px;\n",
              "      padding: 0 0 0 0;\n",
              "      width: 32px;\n",
              "    }\n",
              "\n",
              "    .colab-df-convert:hover {\n",
              "      background-color: #E2EBFA;\n",
              "      box-shadow: 0px 1px 2px rgba(60, 64, 67, 0.3), 0px 1px 3px 1px rgba(60, 64, 67, 0.15);\n",
              "      fill: #174EA6;\n",
              "    }\n",
              "\n",
              "    .colab-df-buttons div {\n",
              "      margin-bottom: 4px;\n",
              "    }\n",
              "\n",
              "    [theme=dark] .colab-df-convert {\n",
              "      background-color: #3B4455;\n",
              "      fill: #D2E3FC;\n",
              "    }\n",
              "\n",
              "    [theme=dark] .colab-df-convert:hover {\n",
              "      background-color: #434B5C;\n",
              "      box-shadow: 0px 1px 3px 1px rgba(0, 0, 0, 0.15);\n",
              "      filter: drop-shadow(0px 1px 2px rgba(0, 0, 0, 0.3));\n",
              "      fill: #FFFFFF;\n",
              "    }\n",
              "  </style>\n",
              "\n",
              "    <script>\n",
              "      const buttonEl =\n",
              "        document.querySelector('#df-b7092209-725a-4498-9f80-7f855e5e85bd button.colab-df-convert');\n",
              "      buttonEl.style.display =\n",
              "        google.colab.kernel.accessAllowed ? 'block' : 'none';\n",
              "\n",
              "      async function convertToInteractive(key) {\n",
              "        const element = document.querySelector('#df-b7092209-725a-4498-9f80-7f855e5e85bd');\n",
              "        const dataTable =\n",
              "          await google.colab.kernel.invokeFunction('convertToInteractive',\n",
              "                                                    [key], {});\n",
              "        if (!dataTable) return;\n",
              "\n",
              "        const docLinkHtml = 'Like what you see? Visit the ' +\n",
              "          '<a target=\"_blank\" href=https://colab.research.google.com/notebooks/data_table.ipynb>data table notebook</a>'\n",
              "          + ' to learn more about interactive tables.';\n",
              "        element.innerHTML = '';\n",
              "        dataTable['output_type'] = 'display_data';\n",
              "        await google.colab.output.renderOutput(dataTable, element);\n",
              "        const docLink = document.createElement('div');\n",
              "        docLink.innerHTML = docLinkHtml;\n",
              "        element.appendChild(docLink);\n",
              "      }\n",
              "    </script>\n",
              "  </div>\n",
              "\n",
              "\n",
              "<div id=\"df-fad3916c-14cd-423a-924d-6e4124a73a67\">\n",
              "  <button class=\"colab-df-quickchart\" onclick=\"quickchart('df-fad3916c-14cd-423a-924d-6e4124a73a67')\"\n",
              "            title=\"Suggest charts\"\n",
              "            style=\"display:none;\">\n",
              "\n",
              "<svg xmlns=\"http://www.w3.org/2000/svg\" height=\"24px\"viewBox=\"0 0 24 24\"\n",
              "     width=\"24px\">\n",
              "    <g>\n",
              "        <path d=\"M19 3H5c-1.1 0-2 .9-2 2v14c0 1.1.9 2 2 2h14c1.1 0 2-.9 2-2V5c0-1.1-.9-2-2-2zM9 17H7v-7h2v7zm4 0h-2V7h2v10zm4 0h-2v-4h2v4z\"/>\n",
              "    </g>\n",
              "</svg>\n",
              "  </button>\n",
              "\n",
              "<style>\n",
              "  .colab-df-quickchart {\n",
              "      --bg-color: #E8F0FE;\n",
              "      --fill-color: #1967D2;\n",
              "      --hover-bg-color: #E2EBFA;\n",
              "      --hover-fill-color: #174EA6;\n",
              "      --disabled-fill-color: #AAA;\n",
              "      --disabled-bg-color: #DDD;\n",
              "  }\n",
              "\n",
              "  [theme=dark] .colab-df-quickchart {\n",
              "      --bg-color: #3B4455;\n",
              "      --fill-color: #D2E3FC;\n",
              "      --hover-bg-color: #434B5C;\n",
              "      --hover-fill-color: #FFFFFF;\n",
              "      --disabled-bg-color: #3B4455;\n",
              "      --disabled-fill-color: #666;\n",
              "  }\n",
              "\n",
              "  .colab-df-quickchart {\n",
              "    background-color: var(--bg-color);\n",
              "    border: none;\n",
              "    border-radius: 50%;\n",
              "    cursor: pointer;\n",
              "    display: none;\n",
              "    fill: var(--fill-color);\n",
              "    height: 32px;\n",
              "    padding: 0;\n",
              "    width: 32px;\n",
              "  }\n",
              "\n",
              "  .colab-df-quickchart:hover {\n",
              "    background-color: var(--hover-bg-color);\n",
              "    box-shadow: 0 1px 2px rgba(60, 64, 67, 0.3), 0 1px 3px 1px rgba(60, 64, 67, 0.15);\n",
              "    fill: var(--button-hover-fill-color);\n",
              "  }\n",
              "\n",
              "  .colab-df-quickchart-complete:disabled,\n",
              "  .colab-df-quickchart-complete:disabled:hover {\n",
              "    background-color: var(--disabled-bg-color);\n",
              "    fill: var(--disabled-fill-color);\n",
              "    box-shadow: none;\n",
              "  }\n",
              "\n",
              "  .colab-df-spinner {\n",
              "    border: 2px solid var(--fill-color);\n",
              "    border-color: transparent;\n",
              "    border-bottom-color: var(--fill-color);\n",
              "    animation:\n",
              "      spin 1s steps(1) infinite;\n",
              "  }\n",
              "\n",
              "  @keyframes spin {\n",
              "    0% {\n",
              "      border-color: transparent;\n",
              "      border-bottom-color: var(--fill-color);\n",
              "      border-left-color: var(--fill-color);\n",
              "    }\n",
              "    20% {\n",
              "      border-color: transparent;\n",
              "      border-left-color: var(--fill-color);\n",
              "      border-top-color: var(--fill-color);\n",
              "    }\n",
              "    30% {\n",
              "      border-color: transparent;\n",
              "      border-left-color: var(--fill-color);\n",
              "      border-top-color: var(--fill-color);\n",
              "      border-right-color: var(--fill-color);\n",
              "    }\n",
              "    40% {\n",
              "      border-color: transparent;\n",
              "      border-right-color: var(--fill-color);\n",
              "      border-top-color: var(--fill-color);\n",
              "    }\n",
              "    60% {\n",
              "      border-color: transparent;\n",
              "      border-right-color: var(--fill-color);\n",
              "    }\n",
              "    80% {\n",
              "      border-color: transparent;\n",
              "      border-right-color: var(--fill-color);\n",
              "      border-bottom-color: var(--fill-color);\n",
              "    }\n",
              "    90% {\n",
              "      border-color: transparent;\n",
              "      border-bottom-color: var(--fill-color);\n",
              "    }\n",
              "  }\n",
              "</style>\n",
              "\n",
              "  <script>\n",
              "    async function quickchart(key) {\n",
              "      const quickchartButtonEl =\n",
              "        document.querySelector('#' + key + ' button');\n",
              "      quickchartButtonEl.disabled = true;  // To prevent multiple clicks.\n",
              "      quickchartButtonEl.classList.add('colab-df-spinner');\n",
              "      try {\n",
              "        const charts = await google.colab.kernel.invokeFunction(\n",
              "            'suggestCharts', [key], {});\n",
              "      } catch (error) {\n",
              "        console.error('Error during call to suggestCharts:', error);\n",
              "      }\n",
              "      quickchartButtonEl.classList.remove('colab-df-spinner');\n",
              "      quickchartButtonEl.classList.add('colab-df-quickchart-complete');\n",
              "    }\n",
              "    (() => {\n",
              "      let quickchartButtonEl =\n",
              "        document.querySelector('#df-fad3916c-14cd-423a-924d-6e4124a73a67 button');\n",
              "      quickchartButtonEl.style.display =\n",
              "        google.colab.kernel.accessAllowed ? 'block' : 'none';\n",
              "    })();\n",
              "  </script>\n",
              "</div>\n",
              "\n",
              "    </div>\n",
              "  </div>\n"
            ]
          },
          "metadata": {},
          "execution_count": 74
        }
      ]
    },
    {
      "cell_type": "code",
      "source": [
        "df_ab.groupby([\"PaymentMethod\"])[\"Churn_bi\"].var(ddof=1)"
      ],
      "metadata": {
        "colab": {
          "base_uri": "https://localhost:8080/"
        },
        "id": "xtoiH8iQRrE1",
        "outputId": "91fda249-3923-4d9f-b9ca-93ee21def804"
      },
      "id": "xtoiH8iQRrE1",
      "execution_count": 77,
      "outputs": [
        {
          "output_type": "execute_result",
          "data": {
            "text/plain": [
              "PaymentMethod\n",
              "Bank transfer (automatic)    0.139267\n",
              "Electronic check             0.247882\n",
              "Name: Churn_bi, dtype: float64"
            ]
          },
          "metadata": {},
          "execution_count": 77
        }
      ]
    },
    {
      "cell_type": "code",
      "source": [
        "# t-검정 수행\n",
        "# t_statistic, p_value\n",
        "\n",
        "t_statistic, p_value = stats.ttest_ind(group_A, group_B, equal_var=False)\n",
        "t_statistic, p_value.round(4)"
      ],
      "metadata": {
        "colab": {
          "base_uri": "https://localhost:8080/"
        },
        "id": "Qop5WY8JKAX8",
        "outputId": "bdea20b7-2a57-40c2-db32-18560d45d397"
      },
      "id": "Qop5WY8JKAX8",
      "execution_count": 67,
      "outputs": [
        {
          "output_type": "execute_result",
          "data": {
            "text/plain": [
              "(20.46279129425842, 0.0)"
            ]
          },
          "metadata": {},
          "execution_count": 67
        }
      ]
    },
    {
      "cell_type": "markdown",
      "id": "7fc1512f",
      "metadata": {
        "id": "7fc1512f"
      },
      "source": [
        "### 이탈 고객과 잔류 고객의 이용 기간에 유의미한 차이가 있는지 분석\n",
        "\n",
        "* 귀무가설 (Null Hypothesis, H₀): 이탈한 고객과 이탈하지 않은 고객의 이용 기간에는 통계적으로 유의미한 차이가 없다.\n",
        "* 대립가설 (Alternative Hypothesis, H₁): 이탈한 고객과 이탈하지 않은 고객의 이용 기간에는 통계적으로 유의미한 차이가 있다.\n",
        "\n",
        "* 고객 유지 전략 개발: 잔존 기간이 짧은 고객군에서 이탈률이 높다면, 회사는 이러한 고객을 대상으로 하는 특별한 유지 전략이나 프로그램을 개발할 수 있습니다.\n",
        "* 고객 세분화: 잔존 기간에 따라 다른 고객 세그먼트를 식별하고, 각 세그먼트에 맞는 맞춤형 서비스를 제공할 수 있습니다.\n",
        "\n",
        "\n",
        "이탈한 고객(Churn == 'Yes')과 이탈하지 않은 고객(Churn == 'No')의 통신사 이용 기간(tenure) 데이터를 분리하여 추출합니다. 이 데이터를 사용하여 두 그룹 간의 평균 이용 기간에 차이가 있는지 t-검정을 수행합니다.\n",
        "\n",
        "* t-통계량: 두 그룹 간의 평균 이용 기간에 매우 큰 차이가 있음을 나타냅니다. t-통계량이 음수이므로 이탈한 고객 그룹의 평균 이용 기간이 더 짧습니다.\n",
        "* p-값: 매우 낮은 p-값은 귀무가설(통신사 이용 기간이 고객 이탈 여부에 영향을 미치지 않는다)을 기각하는 데 충분합니다. 즉, 통신사 이용 기간과 고객의 이탈 여부는 통계적으로 유의미한 관련이 있음을 의미합니다.\n",
        "* 자유도: 자유도는 두 표본의 분산이 다르다고 가정했을 때 계산됩니다. 이 경우 높은 자유도는 t-분포가 정규분포에 가깝다는 것을 나타냅니다."
      ]
    },
    {
      "cell_type": "code",
      "execution_count": 83,
      "id": "2da37003",
      "metadata": {
        "id": "2da37003",
        "colab": {
          "base_uri": "https://localhost:8080/",
          "height": 406
        },
        "outputId": "61095e14-a0aa-42c3-94b1-7f7df048168b"
      },
      "outputs": [
        {
          "output_type": "execute_result",
          "data": {
            "text/plain": [
              "<Axes: xlabel='tenure', ylabel='Density'>"
            ]
          },
          "metadata": {},
          "execution_count": 83
        },
        {
          "output_type": "display_data",
          "data": {
            "text/plain": [
              "<Figure size 1200x400 with 2 Axes>"
            ],
            "image/png": "[encoded data removed]"
          },
          "metadata": {}
        }
      ],
      "source": [
        "# sns.histplot 으로 tenure 에 대한 이탈 여부 시각화\n",
        "fig, axes = plt.subplots(1, 2, figsize=(12, 4))\n",
        "sns.histplot(data=df, x=\"tenure\", hue=\"Churn\", kde=True, ax=axes[0])\n",
        "sns.kdeplot(data=df, x=\"tenure\", hue=\"Churn\", ax=axes[1])"
      ]
    },
    {
      "cell_type": "code",
      "execution_count": 84,
      "id": "047dc7ff",
      "metadata": {
        "id": "047dc7ff",
        "colab": {
          "base_uri": "https://localhost:8080/"
        },
        "outputId": "8e1ec567-d2e1-4e34-8f86-f83443a6332b"
      },
      "outputs": [
        {
          "output_type": "execute_result",
          "data": {
            "text/plain": [
              "Churn\n",
              "No     581.474226\n",
              "Yes    381.464768\n",
              "Name: tenure, dtype: float64"
            ]
          },
          "metadata": {},
          "execution_count": 84
        }
      ],
      "source": [
        "# 이탈여부에 대한 표본 분산 구하기(자유도=1)\n",
        "df.groupby([\"Churn\"])[\"tenure\"].var(ddof=1)"
      ]
    },
    {
      "cell_type": "code",
      "execution_count": 86,
      "id": "2052bf95",
      "metadata": {
        "id": "2052bf95",
        "colab": {
          "base_uri": "https://localhost:8080/"
        },
        "outputId": "2d543199-60f0-4298-e008-300d017e677f"
      },
      "outputs": [
        {
          "output_type": "execute_result",
          "data": {
            "text/plain": [
              "TtestResult(statistic=-34.823818696312976, pvalue=1.1954945472607151e-232, df=4048.287609494835)"
            ]
          },
          "metadata": {},
          "execution_count": 86
        }
      ],
      "source": [
        "# 이탈 여부에 따른 이용 기간 분석을 위한 데이터 추출\n",
        "churn_yes = df[df['Churn'] == 'Yes']['tenure']\n",
        "churn_no = df[df['Churn'] == 'No']['tenure']\n",
        "\n",
        "# t-검정 수행\n",
        "# stats.ttest_ind 함수는 두 독립 표본 그룹 간의 평균 차이를 검정하는 데 사용됩니다. .\n",
        "# equal_var=False는 두 그룹의 분산이 동일하지 않다는 가정 하에 검정을 수행하라는 의미입니다.\n",
        "# 이는 보통 두 표본 크기가 다르거나 데이터의 분포가 서로 다를 때 사용됩니다.\n",
        "# t_statistic은 t-검정 통계량으로, 두 그룹 간 평균 차이의 크기와 방향을 나타냅니다.\n",
        "# p_value는 귀무가설이 참일 때 관측된 결과가 발생할 확률입니다.\n",
        "# 이 값이 매우 작으면(보통 0.05 이하), 두 그룹 간 평균 차이가 통계적으로 유의미하다고 해석할 수 있습니다.\n",
        "# t_statistic, p_value\n",
        "\n",
        "result = stats.ttest_ind(churn_yes, churn_no, equal_var=False)\n",
        "result"
      ]
    },
    {
      "cell_type": "code",
      "source": [
        "result[0], result[1].round(4)"
      ],
      "metadata": {
        "colab": {
          "base_uri": "https://localhost:8080/"
        },
        "id": "z8KgqKkEnyVy",
        "outputId": "0a74820f-fd97-4812-cb5f-2d29a66f1e1e"
      },
      "id": "z8KgqKkEnyVy",
      "execution_count": 92,
      "outputs": [
        {
          "output_type": "execute_result",
          "data": {
            "text/plain": [
              "(-34.823818696312976, 0.0)"
            ]
          },
          "metadata": {},
          "execution_count": 92
        }
      ]
    },
    {
      "cell_type": "markdown",
      "id": "7e974602",
      "metadata": {
        "id": "7e974602"
      },
      "source": [
        "* t_statistic은 t-검정 통계량으로, 두 그룹 간의 평균 차이의 크기와 방향을 나타냅니다.\n",
        "    * 이 값이 음수라는 것은 첫 번째 그룹의 평균이 두 번째 그룹의 평균보다 작다는 것을 의미합니다.\n",
        "    * 값의 절대값이 크면 클수록 두 그룹 간의 평균 차이가 더 크다는 것을 나타냅니다.\n",
        "* p_value는 귀무가설 하에서 현재 관측된 결과(또는 더 극단적인 결과)가 나타날 확률입니다.\n",
        "    * 이 값이 매우 작다는 것은 두 그룹 간의 평균 차이가 통계적으로 매우 유의미하다는 것을 나타냅니다.\n",
        "    * 일반적으로 p-value가 0.05(5%) 이하일 경우, 귀무가설을 기각하고 대립가설을 채택합니다.\n",
        "    \n",
        "* 1종 오류 (Type I Error): 귀무가설이 참일 때, 잘못해서 귀무가설을 기각하는 오류입니다.\n",
        "    * 매우 낮은 p_value 는 귀무가설(이탈한 고객과 이탈하지 않은 고객의 이용 기간에 차이가 없다)을 기각할 강력한 근거를 제공합니다. 그러나, 이것이 반드시 귀무가설이 거짓이라는 것을 의미하지는 않습니다. 즉, 이 결과로 인해 귀무가설을 잘못 기각할 확률(1종 오류를 범할 확률)은 매우 낮지만, 여전히 존재합니다.\n",
        "* 2종 오류 (Type II Error): 대립가설이 참일 때, 귀무가설을 잘못 채택하는 오류입니다.\n",
        "    * 매우 낮은 p_value와 높은 t_statistic의 절대값은 귀무가설을 기각하고 대립가설(이탈한 고객과 이탈하지 않은 고객의 이용 기간에 차이가 있다)을 채택하는 데 충분합니다. 따라서, 이 경우 2종 오류(귀무가설이 거짓임에도 불구하고 채택하는 경우)를 범할 가능성은 매우 낮습니다."
      ]
    },
    {
      "cell_type": "markdown",
      "id": "95bfef7b",
      "metadata": {
        "id": "95bfef7b"
      },
      "source": [
        "### 서비스 유형에 따른 이탈률 비교\n",
        "\n",
        "* 귀무가설: \"PhoneService를 이용하는 고객과 그렇지 않은 고객 간의 이탈률에 차이가 없다.\"\n",
        "* 대립가설: \"PhoneService를 이용하는 고객과 그렇지 않은 고객 간의 이탈률에 차이가 있다.\"\n",
        "\n",
        "#### 등분산성 검정 (Levene's Test)\n",
        "* [등분산성 - 위키백과, 우리 모두의 백과사전](https://ko.wikipedia.org/wiki/%EB%93%B1%EB%B6%84%EC%82%B0%EC%84%B1)\n",
        "* 두 그룹의 분산이 동일한지를 검사합니다. 이것은 t-검정을 수행하기 전에 중요한 단계입니다.\n",
        "* Levene's test를 사용하여 등분산성을 검정하고, 그 결과에 따라 t-검정의 equal_var 매개변수를 결정합니다.\n",
        "\n",
        "* 독립 표본 t-검정: 두 그룹의 이탈률 평균에 통계적으로 유의미한 차이가 있는지를 평가합니다.\n",
        "* 등분산성 검정 결과에 따라 equal_var 매개변수를 True(등분산 가정) 또는 False(등분산 가정하지 않음)로 설정합니다.\n",
        "\n",
        "#### 1종 오류와 2종 오류의 개념\n",
        "* 1종 오류 (Type I Error): 귀무가설이 참일 때 잘못하여 귀무가설을 기각하는 오류입니다. 이는 잘못된 양성 결과를 의미합니다.\n",
        "* 2종 오류 (Type II Error): 대립가설이 참일 때 잘못하여 귀무가설을 채택하는 오류입니다. 이는 잘못된 음성 결과를 의미합니다.\n",
        "\n",
        "* 1종 오류의 사례\n",
        "    * 코드에서 계산된 p-value가 매우 낮아 귀무가설을 기각한다고 가정합니다.\n",
        "    * 실제로는 PhoneService 이용 여부가 이탈률에 영향을 미치지 않지만, 분석 결과에 따라 그렇다고 잘못 결론 내릴 수 있습니다.\n",
        "    * 이 오류로 인해 통신사는 불필요한 서비스 조정이나 마케팅 전략을 채택할 수 있습니다.\n",
        "* 2종 오류의 사례\n",
        "    * 코드에서 계산된 p-value가 높아 귀무가설을 채택한다고 가정합니다.\n",
        "    * 실제로는 PhoneService 이용 여부가 이탈률에 유의미한 영향을 미치지만, 분석 결과에 따라 그렇지 않다고 잘못 결론 내릴 수 있습니다.\n",
        "    * 이 오류로 인해 통신사는 중요한 서비스 개선 기회를 놓칠 수 있습니다.\n",
        "    "
      ]
    },
    {
      "cell_type": "code",
      "source": [
        "df.groupby(\"PhoneService\")['Churn_bi'].var(ddof=1)"
      ],
      "metadata": {
        "colab": {
          "base_uri": "https://localhost:8080/"
        },
        "id": "DT13pYaWqozB",
        "outputId": "47de1a90-90f7-4e5d-b7eb-6bd639c866f6"
      },
      "id": "DT13pYaWqozB",
      "execution_count": 94,
      "outputs": [
        {
          "output_type": "execute_result",
          "data": {
            "text/plain": [
              "PhoneService\n",
              "No     0.187408\n",
              "Yes    0.195787\n",
              "Name: Churn_bi, dtype: float64"
            ]
          },
          "metadata": {},
          "execution_count": 94
        }
      ]
    },
    {
      "cell_type": "code",
      "source": [
        "pd.crosstab(df[\"PhoneService\"], df[\"Churn\"], normalize=True)"
      ],
      "metadata": {
        "colab": {
          "base_uri": "https://localhost:8080/",
          "height": 143
        },
        "id": "6846itRDwAJ2",
        "outputId": "b11d44a6-188f-42ed-ce7a-09ad3c7020dc"
      },
      "id": "6846itRDwAJ2",
      "execution_count": 104,
      "outputs": [
        {
          "output_type": "execute_result",
          "data": {
            "text/plain": [
              "Churn               No       Yes\n",
              "PhoneService                    \n",
              "No            0.072696  0.024137\n",
              "Yes           0.661934  0.241232"
            ],
            "text/html": [
              "\n",
              "  <div id=\"df-82a8d995-0cdd-49b2-97da-0e903e305200\" class=\"colab-df-container\">\n",
              "    <div>\n",
              "<style scoped>\n",
              "    .dataframe tbody tr th:only-of-type {\n",
              "        vertical-align: middle;\n",
              "    }\n",
              "\n",
              "    .dataframe tbody tr th {\n",
              "        vertical-align: top;\n",
              "    }\n",
              "\n",
              "    .dataframe thead th {\n",
              "        text-align: right;\n",
              "    }\n",
              "</style>\n",
              "<table border=\"1\" class=\"dataframe\">\n",
              "  <thead>\n",
              "    <tr style=\"text-align: right;\">\n",
              "      <th>Churn</th>\n",
              "      <th>No</th>\n",
              "      <th>Yes</th>\n",
              "    </tr>\n",
              "    <tr>\n",
              "      <th>PhoneService</th>\n",
              "      <th></th>\n",
              "      <th></th>\n",
              "    </tr>\n",
              "  </thead>\n",
              "  <tbody>\n",
              "    <tr>\n",
              "      <th>No</th>\n",
              "      <td>0.072696</td>\n",
              "      <td>0.024137</td>\n",
              "    </tr>\n",
              "    <tr>\n",
              "      <th>Yes</th>\n",
              "      <td>0.661934</td>\n",
              "      <td>0.241232</td>\n",
              "    </tr>\n",
              "  </tbody>\n",
              "</table>\n",
              "</div>\n",
              "    <div class=\"colab-df-buttons\">\n",
              "\n",
              "  <div class=\"colab-df-container\">\n",
              "    <button class=\"colab-df-convert\" onclick=\"convertToInteractive('df-82a8d995-0cdd-49b2-97da-0e903e305200')\"\n",
              "            title=\"Convert this dataframe to an interactive table.\"\n",
              "            style=\"display:none;\">\n",
              "\n",
              "  <svg xmlns=\"http://www.w3.org/2000/svg\" height=\"24px\" viewBox=\"0 -960 960 960\">\n",
              "    <path d=\"M120-120v-720h720v720H120Zm60-500h600v-160H180v160Zm220 220h160v-160H400v160Zm0 220h160v-160H400v160ZM180-400h160v-160H180v160Zm440 0h160v-160H620v160ZM180-180h160v-160H180v160Zm440 0h160v-160H620v160Z\"/>\n",
              "  </svg>\n",
              "    </button>\n",
              "\n",
              "  <style>\n",
              "    .colab-df-container {\n",
              "      display:flex;\n",
              "      gap: 12px;\n",
              "    }\n",
              "\n",
              "    .colab-df-convert {\n",
              "      background-color: #E8F0FE;\n",
              "      border: none;\n",
              "      border-radius: 50%;\n",
              "      cursor: pointer;\n",
              "      display: none;\n",
              "      fill: #1967D2;\n",
              "      height: 32px;\n",
              "      padding: 0 0 0 0;\n",
              "      width: 32px;\n",
              "    }\n",
              "\n",
              "    .colab-df-convert:hover {\n",
              "      background-color: #E2EBFA;\n",
              "      box-shadow: 0px 1px 2px rgba(60, 64, 67, 0.3), 0px 1px 3px 1px rgba(60, 64, 67, 0.15);\n",
              "      fill: #174EA6;\n",
              "    }\n",
              "\n",
              "    .colab-df-buttons div {\n",
              "      margin-bottom: 4px;\n",
              "    }\n",
              "\n",
              "    [theme=dark] .colab-df-convert {\n",
              "      background-color: #3B4455;\n",
              "      fill: #D2E3FC;\n",
              "    }\n",
              "\n",
              "    [theme=dark] .colab-df-convert:hover {\n",
              "      background-color: #434B5C;\n",
              "      box-shadow: 0px 1px 3px 1px rgba(0, 0, 0, 0.15);\n",
              "      filter: drop-shadow(0px 1px 2px rgba(0, 0, 0, 0.3));\n",
              "      fill: #FFFFFF;\n",
              "    }\n",
              "  </style>\n",
              "\n",
              "    <script>\n",
              "      const buttonEl =\n",
              "        document.querySelector('#df-82a8d995-0cdd-49b2-97da-0e903e305200 button.colab-df-convert');\n",
              "      buttonEl.style.display =\n",
              "        google.colab.kernel.accessAllowed ? 'block' : 'none';\n",
              "\n",
              "      async function convertToInteractive(key) {\n",
              "        const element = document.querySelector('#df-82a8d995-0cdd-49b2-97da-0e903e305200');\n",
              "        const dataTable =\n",
              "          await google.colab.kernel.invokeFunction('convertToInteractive',\n",
              "                                                    [key], {});\n",
              "        if (!dataTable) return;\n",
              "\n",
              "        const docLinkHtml = 'Like what you see? Visit the ' +\n",
              "          '<a target=\"_blank\" href=https://colab.research.google.com/notebooks/data_table.ipynb>data table notebook</a>'\n",
              "          + ' to learn more about interactive tables.';\n",
              "        element.innerHTML = '';\n",
              "        dataTable['output_type'] = 'display_data';\n",
              "        await google.colab.output.renderOutput(dataTable, element);\n",
              "        const docLink = document.createElement('div');\n",
              "        docLink.innerHTML = docLinkHtml;\n",
              "        element.appendChild(docLink);\n",
              "      }\n",
              "    </script>\n",
              "  </div>\n",
              "\n",
              "\n",
              "<div id=\"df-5fc1ca92-4385-4a53-8039-977a7bee65a9\">\n",
              "  <button class=\"colab-df-quickchart\" onclick=\"quickchart('df-5fc1ca92-4385-4a53-8039-977a7bee65a9')\"\n",
              "            title=\"Suggest charts\"\n",
              "            style=\"display:none;\">\n",
              "\n",
              "<svg xmlns=\"http://www.w3.org/2000/svg\" height=\"24px\"viewBox=\"0 0 24 24\"\n",
              "     width=\"24px\">\n",
              "    <g>\n",
              "        <path d=\"M19 3H5c-1.1 0-2 .9-2 2v14c0 1.1.9 2 2 2h14c1.1 0 2-.9 2-2V5c0-1.1-.9-2-2-2zM9 17H7v-7h2v7zm4 0h-2V7h2v10zm4 0h-2v-4h2v4z\"/>\n",
              "    </g>\n",
              "</svg>\n",
              "  </button>\n",
              "\n",
              "<style>\n",
              "  .colab-df-quickchart {\n",
              "      --bg-color: #E8F0FE;\n",
              "      --fill-color: #1967D2;\n",
              "      --hover-bg-color: #E2EBFA;\n",
              "      --hover-fill-color: #174EA6;\n",
              "      --disabled-fill-color: #AAA;\n",
              "      --disabled-bg-color: #DDD;\n",
              "  }\n",
              "\n",
              "  [theme=dark] .colab-df-quickchart {\n",
              "      --bg-color: #3B4455;\n",
              "      --fill-color: #D2E3FC;\n",
              "      --hover-bg-color: #434B5C;\n",
              "      --hover-fill-color: #FFFFFF;\n",
              "      --disabled-bg-color: #3B4455;\n",
              "      --disabled-fill-color: #666;\n",
              "  }\n",
              "\n",
              "  .colab-df-quickchart {\n",
              "    background-color: var(--bg-color);\n",
              "    border: none;\n",
              "    border-radius: 50%;\n",
              "    cursor: pointer;\n",
              "    display: none;\n",
              "    fill: var(--fill-color);\n",
              "    height: 32px;\n",
              "    padding: 0;\n",
              "    width: 32px;\n",
              "  }\n",
              "\n",
              "  .colab-df-quickchart:hover {\n",
              "    background-color: var(--hover-bg-color);\n",
              "    box-shadow: 0 1px 2px rgba(60, 64, 67, 0.3), 0 1px 3px 1px rgba(60, 64, 67, 0.15);\n",
              "    fill: var(--button-hover-fill-color);\n",
              "  }\n",
              "\n",
              "  .colab-df-quickchart-complete:disabled,\n",
              "  .colab-df-quickchart-complete:disabled:hover {\n",
              "    background-color: var(--disabled-bg-color);\n",
              "    fill: var(--disabled-fill-color);\n",
              "    box-shadow: none;\n",
              "  }\n",
              "\n",
              "  .colab-df-spinner {\n",
              "    border: 2px solid var(--fill-color);\n",
              "    border-color: transparent;\n",
              "    border-bottom-color: var(--fill-color);\n",
              "    animation:\n",
              "      spin 1s steps(1) infinite;\n",
              "  }\n",
              "\n",
              "  @keyframes spin {\n",
              "    0% {\n",
              "      border-color: transparent;\n",
              "      border-bottom-color: var(--fill-color);\n",
              "      border-left-color: var(--fill-color);\n",
              "    }\n",
              "    20% {\n",
              "      border-color: transparent;\n",
              "      border-left-color: var(--fill-color);\n",
              "      border-top-color: var(--fill-color);\n",
              "    }\n",
              "    30% {\n",
              "      border-color: transparent;\n",
              "      border-left-color: var(--fill-color);\n",
              "      border-top-color: var(--fill-color);\n",
              "      border-right-color: var(--fill-color);\n",
              "    }\n",
              "    40% {\n",
              "      border-color: transparent;\n",
              "      border-right-color: var(--fill-color);\n",
              "      border-top-color: var(--fill-color);\n",
              "    }\n",
              "    60% {\n",
              "      border-color: transparent;\n",
              "      border-right-color: var(--fill-color);\n",
              "    }\n",
              "    80% {\n",
              "      border-color: transparent;\n",
              "      border-right-color: var(--fill-color);\n",
              "      border-bottom-color: var(--fill-color);\n",
              "    }\n",
              "    90% {\n",
              "      border-color: transparent;\n",
              "      border-bottom-color: var(--fill-color);\n",
              "    }\n",
              "  }\n",
              "</style>\n",
              "\n",
              "  <script>\n",
              "    async function quickchart(key) {\n",
              "      const quickchartButtonEl =\n",
              "        document.querySelector('#' + key + ' button');\n",
              "      quickchartButtonEl.disabled = true;  // To prevent multiple clicks.\n",
              "      quickchartButtonEl.classList.add('colab-df-spinner');\n",
              "      try {\n",
              "        const charts = await google.colab.kernel.invokeFunction(\n",
              "            'suggestCharts', [key], {});\n",
              "      } catch (error) {\n",
              "        console.error('Error during call to suggestCharts:', error);\n",
              "      }\n",
              "      quickchartButtonEl.classList.remove('colab-df-spinner');\n",
              "      quickchartButtonEl.classList.add('colab-df-quickchart-complete');\n",
              "    }\n",
              "    (() => {\n",
              "      let quickchartButtonEl =\n",
              "        document.querySelector('#df-5fc1ca92-4385-4a53-8039-977a7bee65a9 button');\n",
              "      quickchartButtonEl.style.display =\n",
              "        google.colab.kernel.accessAllowed ? 'block' : 'none';\n",
              "    })();\n",
              "  </script>\n",
              "</div>\n",
              "\n",
              "    </div>\n",
              "  </div>\n"
            ]
          },
          "metadata": {},
          "execution_count": 104
        }
      ]
    },
    {
      "cell_type": "code",
      "source": [
        "pd.crosstab(df[\"PhoneService\"], df[\"Churn\"]).T.plot(kind=\"bar\")"
      ],
      "metadata": {
        "colab": {
          "base_uri": "https://localhost:8080/",
          "height": 476
        },
        "id": "qemGI3_nvtGr",
        "outputId": "8221ce15-eb6b-442f-c667-93d26a6bf2c1"
      },
      "id": "qemGI3_nvtGr",
      "execution_count": 103,
      "outputs": [
        {
          "output_type": "execute_result",
          "data": {
            "text/plain": [
              "<Axes: xlabel='Churn'>"
            ]
          },
          "metadata": {},
          "execution_count": 103
        },
        {
          "output_type": "display_data",
          "data": {
            "text/plain": [
              "<Figure size 640x480 with 1 Axes>"
            ],
            "image/png": "[encoded data removed]"
          },
          "metadata": {}
        }
      ]
    },
    {
      "cell_type": "markdown",
      "source": [
        "[scipy.stats.levene — SciPy v1.13.0.dev Manual](https://scipy.github.io/devdocs/reference/generated/scipy.stats.levene.html#scipy-stats-levene)"
      ],
      "metadata": {
        "id": "yxqZkvUUtw9I"
      },
      "id": "yxqZkvUUtw9I"
    },
    {
      "cell_type": "code",
      "execution_count": 98,
      "id": "94922681",
      "metadata": {
        "id": "94922681",
        "colab": {
          "base_uri": "https://localhost:8080/"
        },
        "outputId": "cd45fc2f-5ee5-47c3-c599-0a3517510154"
      },
      "outputs": [
        {
          "output_type": "execute_result",
          "data": {
            "text/plain": [
              "(0.31631478134436675, 1.0021309668860987, 0.3163)"
            ]
          },
          "metadata": {},
          "execution_count": 98
        }
      ],
      "source": [
        "# PhoneService를 이용하는 고객과 그렇지 않은 고객의 이탈률 데이터 추출\n",
        "phone_service_yes = df[df['PhoneService'] == 'Yes']['Churn_bi']\n",
        "phone_service_no = df[df['PhoneService'] == 'No']['Churn_bi']\n",
        "\n",
        "# 등분산성 검정\n",
        "_, p_value_homogeneity = stats.levene(phone_service_yes, phone_service_no)\n",
        "\n",
        "# 등분산성 검정 결과에 따라 적절한 t-검정 수행\n",
        "\n",
        "# 등분산성이 가정되는 경우\n",
        "equal_val = True\n",
        "if p_value_homogeneity < 0.05 :\n",
        "    # 등분산성이 가정되지 않는 경우\n",
        "    equal_val = False\n",
        "\n",
        "t_statistic, p_value =  stats.ttest_ind(phone_service_yes, phone_service_no, equal_var=equal_val)\n",
        "p_value_homogeneity, t_statistic, p_value.round(4)"
      ]
    },
    {
      "cell_type": "markdown",
      "id": "42be8724",
      "metadata": {
        "id": "42be8724"
      },
      "source": [
        "* 유의성 판단: p-value가 유의 수준 선 아래에 위치하면, 해당 검정 결과가 통계적으로 유의미함을 나타냅니다.\n",
        "* 예를 들어, t-검정의 p-value가 0.05 아래이면, 두 그룹 간의 평균 차이가 유의미하다고 해석할 수 있습니다."
      ]
    },
    {
      "cell_type": "code",
      "execution_count": 105,
      "id": "e0bcf441",
      "metadata": {
        "id": "e0bcf441",
        "colab": {
          "base_uri": "https://localhost:8080/",
          "height": 391
        },
        "outputId": "a539f7c3-67f0-4ce7-b2c4-89da26432bfb"
      },
      "outputs": [
        {
          "output_type": "display_data",
          "data": {
            "text/plain": [
              "<Figure size 800x400 with 1 Axes>"
            ],
            "image/png": "[encoded data removed]"
          },
          "metadata": {}
        }
      ],
      "source": [
        "# 등분산성 검정 결과와 t-검정 결과를 시각화하기 위한 데이터 준비\n",
        "labels = ['Levene\\'s Test for Equality of Variances', 't-Test for Equality of Means']\n",
        "values = [p_value_homogeneity, p_value]\n",
        "\n",
        "# 시각화\n",
        "plt.figure(figsize=(8, 4))\n",
        "plt.bar(labels, values, color=['blue', 'green'])\n",
        "plt.ylabel('p-value')\n",
        "plt.title('Levene\\'s Test and t-Test Results')\n",
        "plt.axhline(y=0.05, color='red', linestyle='--', label='Significance Level (0.05)')\n",
        "plt.legend()\n",
        "plt.show()"
      ]
    },
    {
      "cell_type": "markdown",
      "id": "8944306f",
      "metadata": {
        "id": "8944306f"
      },
      "source": [
        "## Mann-Whitney U-검정\n",
        "* [scipy.stats.mannwhitneyu — SciPy Manual](https://scipy.github.io/devdocs/reference/generated/scipy.stats.mannwhitneyu.html#scipy.stats.mannwhitneyu)\n",
        "* Mann-Whitney U-검정은 두 독립 표본이 같은 분포에서 왔는지를 비모수적으로 검정하는 방법\n",
        "    * Mann-Whitney U 검정(Mann-Whitney U test), 종종 윌콕슨 순위합 검정(Wilcoxon rank-sum test)이라고도 불리는 이 통계적 검정 방법은 1947년 Henry B. Mann과 Donald R. Whitney에 의해 개발되었습니다. 이 검정 방법은 두 독립적인 표본에서 나온 데이터가 동일한 분포를 갖는지 비교하는 데 사용됩니다.\n",
        "    * Mann-Whitney U 검정의 핵심은 두 표본을 합쳐서 모든 관측치에 순위를 매기고, 각 표본의 순위 합을 비교하는 것입니다. 이 검정은 정규 분포를 가정하지 않으므로, 표본이 작거나 데이터가 정규 분포를 따르지 않을 때 유용합니다. 특히, 이 검정은 중앙값의 차이에 더 민감하며, 순위를 기반으로 하기 때문에 이상치의 영향을 덜 받습니다.\n",
        "    * Mann-Whitney U 검정은 원래 동일한 모집단에서 추출된 두 표본이 같은 분포를 갖는지 검정하는 데 목적이 있었지만, 오늘날에는 `두 독립적인 표본 사이의 위치 차이(예: 중앙값)`를 검정하는 데 널리 사용됩니다. 이 검정은 생물학, 심리학, 사회과학, 의학 등 다양한 분야에서 응용되고 있습니다.\n",
        "    \n",
        "```python\n",
        "scipy.stats.mannwhitneyu(x, y, use_continuity=True, alternative='two-sided', method='auto')\n",
        "```\n",
        "    \n",
        "* x, y: 비교하고자 하는 두 표본 그룹입니다. 이들은 NumPy 배열이나 유사 배열 객체일 수 있습니다.\n",
        "* use_continuity: 연속성 보정(continuity correction)을 사용할지 여부를 지정합니다. 기본값은 True입니다.\n",
        "* alternative: 검정의 대안 가설을 지정합니다. 옵션은 'two-sided', 'less', 'greater'입니다.\n",
        "    * 'two-sided': 두 표본의 분포가 다르다는 것을 검증합니다.\n",
        "    * 'less': 첫 번째 표본이 두 번째 표본보다 작다는 것을 검증합니다.\n",
        "    * 'greater': 첫 번째 표본이 두 번째 표본보다 크다는 것을 검증합니다.\n",
        "* method: 사용할 계산 방법을 지정합니다. 'auto', 'exact', 'asymptotic' 중 선택할 수 있습니다. 'auto'는 적절한 방법을 자동으로 선택합니다.\n",
        "\n",
        "* U 통계량은 두 그룹 간 순위 차이를 나타내는 값이며, p-value는 귀무가설 하에서 해당 통계량이나 더 극단적인 값을 관찰할 확률입니다.\n",
        "\n",
        "  \n",
        "### 이탈한 고객과 이탈하지 않은 고객의 월별 요금 데이터에 대해 Mann-Whitney U-검정을 수행\n",
        "* 데이터 추출 : monthly_charges_churn_yes와 monthly_charges_churn_no 변수에 각각 이탈한 고객과 이탈하지 않은 고객의 월별 요금 데이터를 저장합니다. 이는 주어진 데이터프레임(df)에서 'Churn' 열의 값에 따라 필터링하여 수행됩니다.\n",
        "* Mann-Whitney U-검정 수행 : u_statistic, p_value = stats.mannwhitneyu(...): scipy 라이브러리의 mannwhitneyu 함수를 사용하여 두 집단 간의 Mann-Whitney U-검정을 수행합니다.\n",
        "* alternative='two-sided'는 두 집단 간의 차이가 양방향으로 발생할 수 있다는 가정 하에 검정을 수행함을 의미합니다. 즉, 한 집단의 월별 요금이 다른 집단보다 높거나 낮을 수 있는 모든 가능성을 고려합니다.\n",
        "* 결과 반환\n",
        "    * u_statistic: 검정 통계량으로, 두 집단 간 순위 합의 차이를 나타냅니다.\n",
        "    * p_value: 검정의 결과를 나타내는 p-값으로, 이 값이 설정한 유의수준(예: 0.05)보다 작으면, 두 집단 간의 중앙값에 통계적으로 유의한 차이가 있다고 해석할 수 있습니다.\n",
        "* 해석 및 적용 : 이 코드의 실행 결과로 얻어지는 p-값을 통해, 이탈한 고객과 이탈하지 않은 고객 간의 월별 요금에 통계적으로 유의한 차이가 있는지를 판단할 수 있습니다. 만약 p-값이 매우 낮다면, 이는 두 집단 간에 월별 요금에서 의미 있는 차이가 있음을 나타냅니다. 이러한 정보는 고객 이탈에 영향을 미치는 요인을 이해하고, 이탈 방지 전략을 수립하는 데 도움이 될 수 있습니다."
      ]
    },
    {
      "cell_type": "code",
      "execution_count": 108,
      "id": "b03b572a",
      "metadata": {
        "id": "b03b572a",
        "colab": {
          "base_uri": "https://localhost:8080/",
          "height": 406
        },
        "outputId": "0597a2f1-7694-4a56-8c93-a0f13a4bb86d"
      },
      "outputs": [
        {
          "output_type": "execute_result",
          "data": {
            "text/plain": [
              "<Axes: xlabel='MonthlyCharges', ylabel='Density'>"
            ]
          },
          "metadata": {},
          "execution_count": 108
        },
        {
          "output_type": "display_data",
          "data": {
            "text/plain": [
              "<Figure size 1200x400 with 2 Axes>"
            ],
            "image/png": "[encoded data removed]"
          },
          "metadata": {}
        }
      ],
      "source": [
        "# sns.histplot로 이탈 여부에 따른 월별 요금 분포 시각화\n",
        "fig, axes = plt.subplots(1, 2, figsize=(12, 4))\n",
        "sns.histplot(data=df, x=\"MonthlyCharges\", hue=\"Churn\", kde=True, ax=axes[0])\n",
        "sns.kdeplot(data=df, x=\"MonthlyCharges\", hue=\"Churn\", ax=axes[1])"
      ]
    },
    {
      "cell_type": "markdown",
      "id": "c5f18fcb",
      "metadata": {
        "id": "c5f18fcb"
      },
      "source": [
        "* u_statistic\n",
        "    * 정의: u_statistic은 Mann-Whitney U 통계량으로, 두 그룹 간 순위의 합에 기반하여 계산됩니다. 이 값은 두 표본이 같은 분포에서 나왔을 때 기대되는 순위의 차이를 나타냅니다.\n",
        "    * 해석: u_statistic 값 자체는 직관적인 해석이 어려울 수 있습니다. 주로 p_value와 함께 결과의 유의성을 평가하는 데 사용됩니다.\n",
        "* p_value\n",
        "    * 정의: p_value는 귀무가설(두 표본이 동일한 분포에서 나왔다)이 참일 경우, 관측된 u_statistic 값 또는 더 극단적인 값을 얻을 확률입니다.\n",
        "    * 해석:\n",
        "        * 유의 수준: 일반적으로 p_value가 0.05(5%) 이하일 때, 결과를 통계적으로 유의미하다고 해석합니다. 이는 두 표본 그룹 간에 유의미한 차이가 있음을 나타냅니다.\n",
        "        * 유의미한 차이: p_value가 낮을수록 두 그룹 간에 유의미한 차이가 있다는 증거가 강해집니다.\n",
        "        * 높은 p_value: 반대로 p_value가 높다면, 두 그룹 간에 유의미한 차이가 없다는 증거로 해석됩니다.\n",
        "* [scipy.stats.mannwhitneyu — SciPy v1.13.0.dev Manual](https://scipy.github.io/devdocs/reference/generated/scipy.stats.mannwhitneyu.html#scipy.stats.mannwhitneyu)"
      ]
    },
    {
      "cell_type": "code",
      "execution_count": 109,
      "id": "d76ce1cb",
      "metadata": {
        "id": "d76ce1cb",
        "colab": {
          "base_uri": "https://localhost:8080/"
        },
        "outputId": "0261c2ef-bff4-49cb-ace1-ad07189cb646"
      },
      "outputs": [
        {
          "output_type": "execute_result",
          "data": {
            "text/plain": [
              "(0, 0)"
            ]
          },
          "metadata": {},
          "execution_count": 109
        }
      ],
      "source": [
        "# Mann-Whitney U-검정 수행\n",
        "# 이탈한 고객과 이탈하지 않은 고객의 월별 요금 데이터 추출\n",
        "monthly_charges_churn_yes = df[df['Churn'] == 'Yes']['MonthlyCharges']\n",
        "monthly_charges_churn_no =  df[df['Churn'] == 'No']['MonthlyCharges']\n",
        "monthly_charges_churn_yes.isnull().sum(), monthly_charges_churn_no.isnull().sum()"
      ]
    },
    {
      "cell_type": "code",
      "execution_count": 110,
      "id": "2569975b",
      "metadata": {
        "id": "2569975b",
        "colab": {
          "base_uri": "https://localhost:8080/"
        },
        "outputId": "e1bddc8f-333e-4514-9959-81e82fce9094"
      },
      "outputs": [
        {
          "output_type": "execute_result",
          "data": {
            "text/plain": [
              "MannwhitneyuResult(statistic=6003125.5, pvalue=3.311627651988585e-54)"
            ]
          },
          "metadata": {},
          "execution_count": 110
        }
      ],
      "source": [
        "# Mann-Whitney U-검정 수행\n",
        "# u_statistic, p_value\n",
        "stats.mannwhitneyu(monthly_charges_churn_yes, monthly_charges_churn_no)"
      ]
    },
    {
      "cell_type": "code",
      "source": [
        "df.groupby(\"Churn\")[\"MonthlyCharges\"].describe()"
      ],
      "metadata": {
        "colab": {
          "base_uri": "https://localhost:8080/",
          "height": 143
        },
        "id": "dUWDfzkb6BGU",
        "outputId": "0a018311-9534-4f48-837b-a78584577b06"
      },
      "id": "dUWDfzkb6BGU",
      "execution_count": 111,
      "outputs": [
        {
          "output_type": "execute_result",
          "data": {
            "text/plain": [
              "        count       mean        std    min    25%     50%   75%     max\n",
              "Churn                                                                  \n",
              "No     5174.0  61.265124  31.092648  18.25  25.10  64.425  88.4  118.75\n",
              "Yes    1869.0  74.441332  24.666053  18.85  56.15  79.650  94.2  118.35"
            ],
            "text/html": [
              "\n",
              "  <div id=\"df-bf4777c1-5dd9-4f58-b531-6963df424c06\" class=\"colab-df-container\">\n",
              "    <div>\n",
              "<style scoped>\n",
              "    .dataframe tbody tr th:only-of-type {\n",
              "        vertical-align: middle;\n",
              "    }\n",
              "\n",
              "    .dataframe tbody tr th {\n",
              "        vertical-align: top;\n",
              "    }\n",
              "\n",
              "    .dataframe thead th {\n",
              "        text-align: right;\n",
              "    }\n",
              "</style>\n",
              "<table border=\"1\" class=\"dataframe\">\n",
              "  <thead>\n",
              "    <tr style=\"text-align: right;\">\n",
              "      <th></th>\n",
              "      <th>count</th>\n",
              "      <th>mean</th>\n",
              "      <th>std</th>\n",
              "      <th>min</th>\n",
              "      <th>25%</th>\n",
              "      <th>50%</th>\n",
              "      <th>75%</th>\n",
              "      <th>max</th>\n",
              "    </tr>\n",
              "    <tr>\n",
              "      <th>Churn</th>\n",
              "      <th></th>\n",
              "      <th></th>\n",
              "      <th></th>\n",
              "      <th></th>\n",
              "      <th></th>\n",
              "      <th></th>\n",
              "      <th></th>\n",
              "      <th></th>\n",
              "    </tr>\n",
              "  </thead>\n",
              "  <tbody>\n",
              "    <tr>\n",
              "      <th>No</th>\n",
              "      <td>5174.0</td>\n",
              "      <td>61.265124</td>\n",
              "      <td>31.092648</td>\n",
              "      <td>18.25</td>\n",
              "      <td>25.10</td>\n",
              "      <td>64.425</td>\n",
              "      <td>88.4</td>\n",
              "      <td>118.75</td>\n",
              "    </tr>\n",
              "    <tr>\n",
              "      <th>Yes</th>\n",
              "      <td>1869.0</td>\n",
              "      <td>74.441332</td>\n",
              "      <td>24.666053</td>\n",
              "      <td>18.85</td>\n",
              "      <td>56.15</td>\n",
              "      <td>79.650</td>\n",
              "      <td>94.2</td>\n",
              "      <td>118.35</td>\n",
              "    </tr>\n",
              "  </tbody>\n",
              "</table>\n",
              "</div>\n",
              "    <div class=\"colab-df-buttons\">\n",
              "\n",
              "  <div class=\"colab-df-container\">\n",
              "    <button class=\"colab-df-convert\" onclick=\"convertToInteractive('df-bf4777c1-5dd9-4f58-b531-6963df424c06')\"\n",
              "            title=\"Convert this dataframe to an interactive table.\"\n",
              "            style=\"display:none;\">\n",
              "\n",
              "  <svg xmlns=\"http://www.w3.org/2000/svg\" height=\"24px\" viewBox=\"0 -960 960 960\">\n",
              "    <path d=\"M120-120v-720h720v720H120Zm60-500h600v-160H180v160Zm220 220h160v-160H400v160Zm0 220h160v-160H400v160ZM180-400h160v-160H180v160Zm440 0h160v-160H620v160ZM180-180h160v-160H180v160Zm440 0h160v-160H620v160Z\"/>\n",
              "  </svg>\n",
              "    </button>\n",
              "\n",
              "  <style>\n",
              "    .colab-df-container {\n",
              "      display:flex;\n",
              "      gap: 12px;\n",
              "    }\n",
              "\n",
              "    .colab-df-convert {\n",
              "      background-color: #E8F0FE;\n",
              "      border: none;\n",
              "      border-radius: 50%;\n",
              "      cursor: pointer;\n",
              "      display: none;\n",
              "      fill: #1967D2;\n",
              "      height: 32px;\n",
              "      padding: 0 0 0 0;\n",
              "      width: 32px;\n",
              "    }\n",
              "\n",
              "    .colab-df-convert:hover {\n",
              "      background-color: #E2EBFA;\n",
              "      box-shadow: 0px 1px 2px rgba(60, 64, 67, 0.3), 0px 1px 3px 1px rgba(60, 64, 67, 0.15);\n",
              "      fill: #174EA6;\n",
              "    }\n",
              "\n",
              "    .colab-df-buttons div {\n",
              "      margin-bottom: 4px;\n",
              "    }\n",
              "\n",
              "    [theme=dark] .colab-df-convert {\n",
              "      background-color: #3B4455;\n",
              "      fill: #D2E3FC;\n",
              "    }\n",
              "\n",
              "    [theme=dark] .colab-df-convert:hover {\n",
              "      background-color: #434B5C;\n",
              "      box-shadow: 0px 1px 3px 1px rgba(0, 0, 0, 0.15);\n",
              "      filter: drop-shadow(0px 1px 2px rgba(0, 0, 0, 0.3));\n",
              "      fill: #FFFFFF;\n",
              "    }\n",
              "  </style>\n",
              "\n",
              "    <script>\n",
              "      const buttonEl =\n",
              "        document.querySelector('#df-bf4777c1-5dd9-4f58-b531-6963df424c06 button.colab-df-convert');\n",
              "      buttonEl.style.display =\n",
              "        google.colab.kernel.accessAllowed ? 'block' : 'none';\n",
              "\n",
              "      async function convertToInteractive(key) {\n",
              "        const element = document.querySelector('#df-bf4777c1-5dd9-4f58-b531-6963df424c06');\n",
              "        const dataTable =\n",
              "          await google.colab.kernel.invokeFunction('convertToInteractive',\n",
              "                                                    [key], {});\n",
              "        if (!dataTable) return;\n",
              "\n",
              "        const docLinkHtml = 'Like what you see? Visit the ' +\n",
              "          '<a target=\"_blank\" href=https://colab.research.google.com/notebooks/data_table.ipynb>data table notebook</a>'\n",
              "          + ' to learn more about interactive tables.';\n",
              "        element.innerHTML = '';\n",
              "        dataTable['output_type'] = 'display_data';\n",
              "        await google.colab.output.renderOutput(dataTable, element);\n",
              "        const docLink = document.createElement('div');\n",
              "        docLink.innerHTML = docLinkHtml;\n",
              "        element.appendChild(docLink);\n",
              "      }\n",
              "    </script>\n",
              "  </div>\n",
              "\n",
              "\n",
              "<div id=\"df-3bc747cb-2dad-4e92-a8b4-4209f5431bdd\">\n",
              "  <button class=\"colab-df-quickchart\" onclick=\"quickchart('df-3bc747cb-2dad-4e92-a8b4-4209f5431bdd')\"\n",
              "            title=\"Suggest charts\"\n",
              "            style=\"display:none;\">\n",
              "\n",
              "<svg xmlns=\"http://www.w3.org/2000/svg\" height=\"24px\"viewBox=\"0 0 24 24\"\n",
              "     width=\"24px\">\n",
              "    <g>\n",
              "        <path d=\"M19 3H5c-1.1 0-2 .9-2 2v14c0 1.1.9 2 2 2h14c1.1 0 2-.9 2-2V5c0-1.1-.9-2-2-2zM9 17H7v-7h2v7zm4 0h-2V7h2v10zm4 0h-2v-4h2v4z\"/>\n",
              "    </g>\n",
              "</svg>\n",
              "  </button>\n",
              "\n",
              "<style>\n",
              "  .colab-df-quickchart {\n",
              "      --bg-color: #E8F0FE;\n",
              "      --fill-color: #1967D2;\n",
              "      --hover-bg-color: #E2EBFA;\n",
              "      --hover-fill-color: #174EA6;\n",
              "      --disabled-fill-color: #AAA;\n",
              "      --disabled-bg-color: #DDD;\n",
              "  }\n",
              "\n",
              "  [theme=dark] .colab-df-quickchart {\n",
              "      --bg-color: #3B4455;\n",
              "      --fill-color: #D2E3FC;\n",
              "      --hover-bg-color: #434B5C;\n",
              "      --hover-fill-color: #FFFFFF;\n",
              "      --disabled-bg-color: #3B4455;\n",
              "      --disabled-fill-color: #666;\n",
              "  }\n",
              "\n",
              "  .colab-df-quickchart {\n",
              "    background-color: var(--bg-color);\n",
              "    border: none;\n",
              "    border-radius: 50%;\n",
              "    cursor: pointer;\n",
              "    display: none;\n",
              "    fill: var(--fill-color);\n",
              "    height: 32px;\n",
              "    padding: 0;\n",
              "    width: 32px;\n",
              "  }\n",
              "\n",
              "  .colab-df-quickchart:hover {\n",
              "    background-color: var(--hover-bg-color);\n",
              "    box-shadow: 0 1px 2px rgba(60, 64, 67, 0.3), 0 1px 3px 1px rgba(60, 64, 67, 0.15);\n",
              "    fill: var(--button-hover-fill-color);\n",
              "  }\n",
              "\n",
              "  .colab-df-quickchart-complete:disabled,\n",
              "  .colab-df-quickchart-complete:disabled:hover {\n",
              "    background-color: var(--disabled-bg-color);\n",
              "    fill: var(--disabled-fill-color);\n",
              "    box-shadow: none;\n",
              "  }\n",
              "\n",
              "  .colab-df-spinner {\n",
              "    border: 2px solid var(--fill-color);\n",
              "    border-color: transparent;\n",
              "    border-bottom-color: var(--fill-color);\n",
              "    animation:\n",
              "      spin 1s steps(1) infinite;\n",
              "  }\n",
              "\n",
              "  @keyframes spin {\n",
              "    0% {\n",
              "      border-color: transparent;\n",
              "      border-bottom-color: var(--fill-color);\n",
              "      border-left-color: var(--fill-color);\n",
              "    }\n",
              "    20% {\n",
              "      border-color: transparent;\n",
              "      border-left-color: var(--fill-color);\n",
              "      border-top-color: var(--fill-color);\n",
              "    }\n",
              "    30% {\n",
              "      border-color: transparent;\n",
              "      border-left-color: var(--fill-color);\n",
              "      border-top-color: var(--fill-color);\n",
              "      border-right-color: var(--fill-color);\n",
              "    }\n",
              "    40% {\n",
              "      border-color: transparent;\n",
              "      border-right-color: var(--fill-color);\n",
              "      border-top-color: var(--fill-color);\n",
              "    }\n",
              "    60% {\n",
              "      border-color: transparent;\n",
              "      border-right-color: var(--fill-color);\n",
              "    }\n",
              "    80% {\n",
              "      border-color: transparent;\n",
              "      border-right-color: var(--fill-color);\n",
              "      border-bottom-color: var(--fill-color);\n",
              "    }\n",
              "    90% {\n",
              "      border-color: transparent;\n",
              "      border-bottom-color: var(--fill-color);\n",
              "    }\n",
              "  }\n",
              "</style>\n",
              "\n",
              "  <script>\n",
              "    async function quickchart(key) {\n",
              "      const quickchartButtonEl =\n",
              "        document.querySelector('#' + key + ' button');\n",
              "      quickchartButtonEl.disabled = true;  // To prevent multiple clicks.\n",
              "      quickchartButtonEl.classList.add('colab-df-spinner');\n",
              "      try {\n",
              "        const charts = await google.colab.kernel.invokeFunction(\n",
              "            'suggestCharts', [key], {});\n",
              "      } catch (error) {\n",
              "        console.error('Error during call to suggestCharts:', error);\n",
              "      }\n",
              "      quickchartButtonEl.classList.remove('colab-df-spinner');\n",
              "      quickchartButtonEl.classList.add('colab-df-quickchart-complete');\n",
              "    }\n",
              "    (() => {\n",
              "      let quickchartButtonEl =\n",
              "        document.querySelector('#df-3bc747cb-2dad-4e92-a8b4-4209f5431bdd button');\n",
              "      quickchartButtonEl.style.display =\n",
              "        google.colab.kernel.accessAllowed ? 'block' : 'none';\n",
              "    })();\n",
              "  </script>\n",
              "</div>\n",
              "\n",
              "    </div>\n",
              "  </div>\n"
            ]
          },
          "metadata": {},
          "execution_count": 111
        }
      ]
    },
    {
      "cell_type": "markdown",
      "id": "6a3bbb59",
      "metadata": {
        "id": "6a3bbb59"
      },
      "source": [
        "* 1종 오류 (Type I Error)\n",
        "    * 귀무가설이 실제로 참인데 잘못하여 기각하는 오류입니다.\n",
        "    * 매우 낮은 p_value 는 귀무가설(이탈한 고객과 이탈하지 않은 고객의 이용 기간에 차이가 없다)을 기각할 강력한 근거를 제공합니다. 그러나, 이것이 반드시 귀무가설이 거짓이라는 것을 의미하지는 않습니다. 즉, 이 결과로 인해 귀무가설을 잘못 기각할 확률(1종 오류를 범할 확률)은 매우 낮지만, 여전히 존재합니다.\n",
        "    * 1종 오류의 위험은 매우 낮으므로, 이 결과를 바탕으로 고객 이탈과 관련된 전략을 수립하는 것이 타당합니다.\n",
        "* 2종 오류 (Type II Error)\n",
        "    * 귀무가설이 거짓인데 이를 채택하는 오류입니다.\n",
        "    * 매우 낮은 p_value와 높은 t_statistic의 절대값은 귀무가설을 기각하고 대립가설(이탈한 고객과 이탈하지 않은 고객의 이용 기간에 차이가 있다)을 채택하는 데 충분합니다. 따라서, 이 경우 2종 오류(귀무가설이 거짓임에도 불구하고 채택하는 경우)를 범할 가능성은 매우 낮습니다.\n",
        "    * 2종 오류의 위험이 낮기 때문에, 이 결과는 신뢰할 수 있으며, 고객 유지 및 마케팅 전략에 중요한 영향을 미칠 수 있습니다."
      ]
    },
    {
      "cell_type": "code",
      "source": [],
      "metadata": {
        "id": "SNqL4U-i6wRN"
      },
      "id": "SNqL4U-i6wRN",
      "execution_count": null,
      "outputs": []
    },
    {
      "cell_type": "code",
      "execution_count": null,
      "id": "faa4a93f",
      "metadata": {
        "id": "faa4a93f"
      },
      "outputs": [],
      "source": []
    },
    {
      "cell_type": "code",
      "execution_count": null,
      "id": "68783931",
      "metadata": {
        "id": "68783931"
      },
      "outputs": [],
      "source": []
    },
    {
      "cell_type": "code",
      "execution_count": null,
      "id": "345ff99b",
      "metadata": {
        "id": "345ff99b"
      },
      "outputs": [],
      "source": []
    },
    {
      "cell_type": "code",
      "execution_count": null,
      "id": "719e0260",
      "metadata": {
        "id": "719e0260"
      },
      "outputs": [],
      "source": []
    }
  ],
  "metadata": {
    "kernelspec": {
      "display_name": "Python 3 (ipykernel)",
      "language": "python",
      "name": "python3"
    },
    "language_info": {
      "codemirror_mode": {
        "name": "ipython",
        "version": 3
      },
      "file_extension": ".py",
      "mimetype": "text/x-python",
      "name": "python",
      "nbconvert_exporter": "python",
      "pygments_lexer": "ipython3",
      "version": "3.11.4"
    },
    "toc": {
      "base_numbering": 1,
      "nav_menu": {},
      "number_sections": true,
      "sideBar": true,
      "skip_h1_title": false,
      "title_cell": "Table of Contents",
      "title_sidebar": "Contents",
      "toc_cell": false,
      "toc_position": {},
      "toc_section_display": true,
      "toc_window_display": false
    },
    "varInspector": {
      "cols": {
        "lenName": 16,
        "lenType": 16,
        "lenVar": 40
      },
      "kernels_config": {
        "python": {
          "delete_cmd_postfix": "",
          "delete_cmd_prefix": "del ",
          "library": "var_list.py",
          "varRefreshCmd": "print(var_dic_list())"
        },
        "r": {
          "delete_cmd_postfix": ") ",
          "delete_cmd_prefix": "rm(",
          "library": "var_list.r",
          "varRefreshCmd": "cat(var_dic_list()) "
        }
      },
      "types_to_exclude": [
        "module",
        "function",
        "builtin_function_or_method",
        "instance",
        "_Feature"
      ],
      "window_display": false
    },
    "colab": {
      "provenance": []
    }
  },
  "nbformat": 4,
  "nbformat_minor": 5
}