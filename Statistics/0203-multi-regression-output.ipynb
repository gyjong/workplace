{
 "cells": [
  {
   "cell_type": "code",
   "execution_count": null,
   "id": "b5c5ad09",
   "metadata": {},
   "outputs": [],
   "source": [
    "import numpy as np\n",
    "import pandas as pd\n",
    "import matplotlib.pyplot as plt\n",
    "import seaborn as sns\n",
    "\n",
    "from sklearn.datasets import fetch_california_housing\n",
    "from sklearn.model_selection import train_test_split\n",
    "from sklearn.preprocessing import StandardScaler\n",
    "from sklearn.linear_model import LinearRegression\n",
    "from sklearn.metrics import mean_squared_error, r2_score\n",
    "\n",
    "# 캘리포니아 주택 데이터셋 불러오기\n",
    "data = fetch_california_housing()\n",
    "df = pd.DataFrame(data.data, columns=data.feature_names)\n",
    "df['target'] = data.target"
   ]
  },
  {
   "cell_type": "markdown",
   "id": "1c8ae901",
   "metadata": {},
   "source": [
    "* 주어진 변수는 캘리포니아 부동산 데이터셋의 특성(Feature)\n",
    "1. **'MedInc'**: 주택 소득의 중앙값 (Median Income)\n",
    "2. **'HouseAge'**: 주택의 중앙 연식 (Median House Age)\n",
    "3. **'AveRooms'**: 평균 방 개수 (Average Rooms)\n",
    "4. **'AveBedrms'**: 평균 침실 개수 (Average Bedrooms)\n",
    "5. **'Population'**: 인구 수 (Population)\n",
    "6. **'AveOccup'**: 평균 자가 비율 (Average Occupancy)\n",
    "7. **'Latitude'**: 주택 위치의 위도 (Latitude)\n",
    "8. **'Longitude'**: 주택 위치의 경도 (Longitude)"
   ]
  },
  {
   "cell_type": "code",
   "execution_count": null,
   "id": "124e5e58",
   "metadata": {},
   "outputs": [],
   "source": [
    "df.info()"
   ]
  },
  {
   "cell_type": "code",
   "execution_count": null,
   "id": "2bd94c1c",
   "metadata": {},
   "outputs": [],
   "source": [
    "df.describe()"
   ]
  },
  {
   "cell_type": "code",
   "execution_count": null,
   "id": "f822cdba",
   "metadata": {},
   "outputs": [],
   "source": [
    "# 특성과 타겟 변수 선택\n",
    "X = df[['MedInc', 'HouseAge', 'AveRooms', 'AveBedrms', 'Population', 'AveOccup', 'Latitude', 'Longitude']]\n",
    "y = df['target']"
   ]
  },
  {
   "cell_type": "code",
   "execution_count": null,
   "id": "6008fe38",
   "metadata": {},
   "outputs": [],
   "source": [
    "# 피처 간 상관관계 히트맵\n",
    "correlation_matrix = df.corr()\n",
    "plt.figure(figsize=(10, 8))\n",
    "sns.heatmap(correlation_matrix, annot=True, cmap='coolwarm', linewidths=0.5)\n",
    "plt.title('Correlation Heatmap')\n",
    "plt.show()"
   ]
  },
  {
   "cell_type": "markdown",
   "id": "239357b7",
   "metadata": {},
   "source": [
    "### 변수의 변형\n",
    "\n",
    "변수의 변형은 통계 모델을 개선하거나 모델의 가정을 충족시키기 위해 독립 변수나 종속 변수를 변형하는 과정을 의미합니다. 이를 통해 모델의 성능을 향상시키거나 모델이 데이터에 더 잘 적합되도록 할 수 있습니다. 두 가지 일반적인 변수 변형 방법으로는 로그 함수와 I 함수가 있습니다.\n",
    "\n",
    "#### 1. 로그 함수 (Logarithmic Transformation)\n",
    "\n",
    "로그 함수는 자연 로그(natural logarithm)를 이용하여 변수를 변형하는 방법입니다. 주로 양수 값이나 비율척도로 측정된 변수의 분포를 정규 분포에 가깝게 만들거나, 변수의 변동성을 안정화하고, 비선형 관계를 선형으로 바꿀 때 사용됩니다.\n",
    "\n",
    "수식: \\( y' = \\log(y) \\)\n",
    "\n",
    "#### 2. I 함수 (Indicator Function)\n",
    "\n",
    "I 함수는 조건에 따라 변수를 변형하는 함수로, 조건을 만족하는 경우에는 새로운 값을 부여하고 만족하지 않는 경우에는 기존 값 그대로를 사용합니다. 주로 범주형 변수를 수치형으로 변환하거나, 특정 조건을 만족하는 경우에 변수에 특정 가중치를 부여하기 위해 사용됩니다.\n",
    "\n",
    "수식: \n",
    "\\[ y' = \\begin{cases} \n",
    "c & \\text{if 조건 충족} \\\\\n",
    "y & \\text{if 조건 미충족}\n",
    "\\end{cases} \\]"
   ]
  },
  {
   "cell_type": "code",
   "execution_count": null,
   "id": "4d2bc3bb",
   "metadata": {
    "scrolled": false
   },
   "outputs": [],
   "source": [
    "X.hist(bins=50);"
   ]
  },
  {
   "cell_type": "markdown",
   "id": "0d02c068",
   "metadata": {},
   "source": [
    "## 로그 변환\n",
    "\n",
    "\n",
    "<img src=\"https://upload.wikimedia.org/wikipedia/commons/8/81/Logarithm_plots.png\" width=\"300\">\n",
    "\n",
    "\n",
    "로그(log)는 지수 함수의 역함수이다. 어떤 수를 나타내기 위해 고정된 밑을 몇 번 곱하여야 하는지를 나타낸다고 볼 수 있다.\n",
    "\n",
    "이른 17세기에 곱하기 및 나누기의 계산을 간편하게 해내기 위해 존 네이피어가 발명한 것으로 알려져 있다. 복잡한 단위의 계산을 간편하게 계산할 수 있다는 장점 때문에, 로그표 및 계산자 등의 발명품과 함께 세계적으로 여러 분야의 학자들에게 널리 퍼졌다.\n",
    "\n",
    "지수에 대비된다는 의미에서 중국과 일본에서는 대수(對數)로 부르기도 하나, 대수(代數, algebra)와 헷갈리기 쉬우므로 로그라는 용어를 사용하는 것이 일반적이다.\n",
    "\n",
    "\n",
    "* https://en.wikipedia.org/wiki/Logarithm\n",
    "* [로그 (수학) - 위키백과, 우리 모두의 백과사전](https://ko.wikipedia.org/wiki/%EB%A1%9C%EA%B7%B8_(%EC%88%98%ED%95%99))\n",
    "* [자연로그 - 위키백과, 우리 모두의 백과사전](https://ko.wikipedia.org/wiki/%EC%9E%90%EC%97%B0%EB%A1%9C%EA%B7%B8) :  e를 밑으로 하는 로그\n",
    "* [자연로그의 밑 - 위키백과, 우리 모두의 백과사전](https://ko.wikipedia.org/wiki/%EC%9E%90%EC%97%B0%EB%A1%9C%EA%B7%B8%EC%9D%98_%EB%B0%91)\n",
    "* [상용로그 - 위키백과, 우리 모두의 백과사전](https://ko.wikipedia.org/wiki/%EC%83%81%EC%9A%A9%EB%A1%9C%EA%B7%B8) : 10진 로그 혹은 밑이 10인 로그"
   ]
  },
  {
   "cell_type": "code",
   "execution_count": null,
   "id": "87044df4",
   "metadata": {},
   "outputs": [],
   "source": [
    "X[\"MedInc_log\"] = np.log1p(X[\"MedInc\"])"
   ]
  },
  {
   "cell_type": "code",
   "execution_count": null,
   "id": "89e914bd",
   "metadata": {},
   "outputs": [],
   "source": [
    "X[\"MedInc_log\"].hist()"
   ]
  },
  {
   "cell_type": "code",
   "execution_count": null,
   "id": "50be0086",
   "metadata": {},
   "outputs": [],
   "source": [
    "# 데이터 정규화\n",
    "scaler = StandardScaler()\n",
    "X_scaled = scaler.fit_transform(X)"
   ]
  },
  {
   "cell_type": "code",
   "execution_count": null,
   "id": "73583bcd",
   "metadata": {},
   "outputs": [],
   "source": [
    "# 훈련 및 테스트 데이터셋 분리\n",
    "X_train, X_test, y_train, y_test = train_test_split(X_scaled, y, test_size=0.2, random_state=42)"
   ]
  },
  {
   "cell_type": "markdown",
   "id": "b59762e5",
   "metadata": {},
   "source": [
    "sm.add_constant는 상수항을 추가하는 함수이며, OLS 모델을 초기화하고 피팅한 후 summary() 메서드를 호출하여 모델 요약 정보를 출력합니다.\n",
    "\n",
    "모델 요약 정보에는 각 계수의 통계적 유의성, R-squared, F-statistic 등이 포함되어 있습니다. 특히, coef 열은 각 피처의 회귀 계수를 나타내며, P>|t| 열은 해당 계수의 p-value를 나타냅니다."
   ]
  },
  {
   "cell_type": "code",
   "execution_count": null,
   "id": "78bb4a46",
   "metadata": {},
   "outputs": [],
   "source": [
    "import statsmodels.api as sm\n",
    "\n",
    "# 상수항 추가\n",
    "X_train_ols = sm.add_constant(X_train)\n",
    "\n",
    "# OLS 모델 피팅\n",
    "model_ols = sm.OLS(y_train, X_train_ols).fit()"
   ]
  },
  {
   "cell_type": "markdown",
   "id": "021672da",
   "metadata": {},
   "source": [
    "* **결정 계수 (R-squared):**\n",
    "\n",
    "결정 계수는 회귀 분석 모델이 종속 변수의 변동성을 얼마나 잘 설명하는지를 나타내는 통계적 측도로, 다음과 같이 정의됩니다:\n",
    "\n",
    "\\[ $R^2 = 1 - \\frac{\\text{SSE (Sum of Squared Residuals)}}{\\text{SSTO (Total Sum of Squares)}}$ \\]\n",
    "\n",
    "여기서,\n",
    "- $SSE$는 잔차의 제곱합으로, 모델이 설명하지 못하는 변동을 나타냅니다.\n",
    "- $SSTO$는 종속 변수의 전체 변동으로, 평균과의 차이의 제곱합으로 이루어져 있습니다.\n",
    "\n",
    "결정 계수는 0에서 1 사이의 값을 가지며, 1에 가까울수록 모델이 데이터를 완벽하게 설명한다는 것을 의미합니다.\n",
    "\n",
    "* **조정된 결정 계수 (Adjusted R-squared):**\n",
    "\n",
    "조정된 결정 계수는 결정 계수를 개선한 지표로, 독립 변수의 수에 대한 페널티를 부여하여 모델의 복잡성을 조절합니다. 조정된 결정 계수는 다음과 같이 정의됩니다:\n",
    "\n",
    "\\[ $\\text{Adjusted } R^2 = 1 - \\frac{(1 - R^2) \\cdot (n - 1)}{n - k - 1}$ \\]\n",
    "\n",
    "여기서,\n",
    "- \\($n$\\)은 샘플의 수,\n",
    "- \\($k$\\)는 모델에 포함된 독립 변수의 수입니다.\n",
    "\n",
    "조정된 결정 계수는 독립 변수의 추가 또는 제거에 따라 변화하며, 모델의 복잡성을 고려하여 결정 계수를 조절합니다. 이는 모델이 추가된 변수가 실제로 유의미한 향상을 가져오는지를 고려하여 모델의 해석력을 향상시킵니다.\n",
    "\n",
    "* **Log-Likelihood (로그 우도):**\n",
    "\n",
    "    * 로그 우도는 확률 분포의 모수를 추정하는 모델에서 주어진 데이터가 발생할 확률의 로그를 나타냅니다. 일반적으로 최대 로그 우도를 찾는 것이 모델의 적합도를 측정하는 중요한 지표 중 하나입니다. 더 높은 로그 우도는 모델이 주어진 데이터를 더 잘 설명한다는 것을 의미합니다.\n",
    "\n",
    "\\[ $\\text{Log-Likelihood} = \\sum_{i=1}^{n} \\log(f(x_i; \\theta))$ \\]\n",
    "\n",
    "여기서,\n",
    "- \\($n$\\)은 데이터 포인트의 수,\n",
    "- \\($f(x_i; \\theta)$\\)는 확률 밀도 함수 또는 확률 질량 함수입니다,\n",
    "- \\($\\theta$\\)는 모델의 모수를 나타냅니다.\n",
    "\n",
    "\n",
    "\n",
    "* **AIC (Akaike Information Criterion):**\n",
    "\n",
    "    * AIC는 모델의 성능을 측정하는 지표 중 하나로, 모델의 적합도와 모델의 복잡성(파라미터 수) 사이의 균형을 제공합니다. AIC는 로그 우도와 모델의 파라미터 수를 고려하여 계산되며, 더 낮은 AIC 값은 더 좋은 모델을 나타냅니다.\n",
    "\n",
    "* **BIC (Bayesian Information Criterion):**\n",
    "\n",
    "    * BIC는 AIC와 유사한 목적을 가지고 있지만, 모델의 파라미터 수에 대한 페널티를 더 강조합니다. BIC는 로그 우도와 파라미터 수를 고려하여 계산되며, 더 낮은 BIC 값은 더 좋은 모델을 나타냅니다. AIC와 BIC는 모델 선택 시 고려해야 할 지표 중 하나이며, 적합한 모델을 선택하는 데 도움을 줍니다.\n",
    "\n",
    "\n",
    "\n",
    "* **F-statistic (F 통계량):**\n",
    "    * F 통계량은 회귀 모델 전체의 통계적 유의성을 평가하는 데 사용됩니다. 즉, 최소한 하나의 회귀 계수가 0이 아닌지 여부를 검증합니다. F 통계량이 클수록 적어도 하나의 독립 변수가 종속 변수에 유의미한 영향을 미친다는 증거가 더 강력합니다. 따라서 F 통계량이 유의미하면 최소한 하나의 변수는 종속 변수에 영향을 미칩니다.\n",
    "\n",
    "* **Prob (F-statistic):**\n",
    "    * Prob (F-statistic)는 F 통계량의 p-value를 나타냅니다. 이 값이 작을수록 회귀 모델 전체가 통계적으로 유의미하다는 것을 나타냅니다. 즉, 적어도 하나의 독립 변수가 종속 변수에 유의미한 영향을 미친다는 귀무 가설을 기각할 수 있는지 여부를 판단하는데 사용됩니다.\n",
    "\n",
    "\n",
    "* **모델 진단**\n",
    "    * Omnibus: 잔차의 정규성을 검정하는데 사용됩니다. 이 값이 작을수록 정규성 가정에 더 가깝습니다.\n",
    "    * Durbin-Watson: 자기상관을 검정하는데 사용됩니다. 보통 1.5에서 2.5 사이의 값이 이상적입니다.\n",
    "    * Prob(Omnibus): Omnibus 검정의 p-value. 낮을수록 정규성 가정에 위배될 가능성이 높습니다.\n",
    "    * Jarque-Bera (JB): 잔차의 왜도와 첨도에 대한 검정을 수행합니다. 작을수록 정규성에 가깝습니다.\n",
    "    * Prob(JB): JB 검정의 p-value. 낮을수록 정규성 가정에 위배될 가능성이 높습니다.\n",
    "    * Skew (왜도): 왜도가 0에 가까울수록 정규성에 가깝습니다.\n",
    "    * Kurtosis (첨도): 첨도가 3에 가까울수록 정규성에 가깝습니다.\n",
    "    * Cond. No.: 다중공선성을 확인하기 위한 조건 지수입니다.\n",
    "    \n",
    "* **주의 사항**\n",
    "    * Covariance Type: nonrobust. 공분산 행렬의 유형으로, 이 경우는 로버스트하지 않음을 의미합니다.\n",
    "    * Standard Errors assume that the covariance matrix of the errors is correctly specified.\n",
    "    * 잔차의 공분산 행렬이 정확하게 명시되었다는 가정하에 표준 오차가 계산되었다는 의미입니다."
   ]
  },
  {
   "cell_type": "code",
   "execution_count": null,
   "id": "e52dc104",
   "metadata": {},
   "outputs": [],
   "source": [
    "# 모델 요약 정보 출력\n",
    "print(model_ols.summary())"
   ]
  },
  {
   "cell_type": "code",
   "execution_count": null,
   "id": "0c4612b7",
   "metadata": {
    "scrolled": true
   },
   "outputs": [],
   "source": [
    "# 선형 회귀 모델 초기화 및 피팅\n",
    "model = LinearRegression()\n",
    "model.fit(X_train, y_train)"
   ]
  },
  {
   "cell_type": "code",
   "execution_count": null,
   "id": "f3296925",
   "metadata": {},
   "outputs": [],
   "source": [
    "# 모델 평가\n",
    "y_pred = model.predict(X_test)\n",
    "mse = mean_squared_error(y_test, y_pred)\n",
    "r2 = r2_score(y_test, y_pred)\n",
    "\n",
    "print(f'Mean Squared Error: {mse}')\n",
    "print(f'R-squared: {r2}')"
   ]
  },
  {
   "cell_type": "code",
   "execution_count": null,
   "id": "54f29695",
   "metadata": {},
   "outputs": [],
   "source": [
    "# 실제 주택 가격과 예측 가격 비교\n",
    "plt.figure(figsize=(10, 6))\n",
    "plt.scatter(y_test, y_pred, alpha=0.5)\n",
    "plt.title('Actual vs. Predicted Housing Prices')\n",
    "plt.xlabel('Actual Price')\n",
    "plt.ylabel('Predicted Price')\n",
    "plt.show()"
   ]
  },
  {
   "cell_type": "code",
   "execution_count": null,
   "id": "4f8bf646",
   "metadata": {},
   "outputs": [],
   "source": [
    "# 잔차 플롯\n",
    "residuals = y_test - y_pred\n",
    "plt.figure(figsize=(10, 6))\n",
    "sns.residplot(x=y_pred, y=residuals, lowess=True, color='blue', scatter_kws={'alpha': 0.5})\n",
    "plt.title('Residuals Plot')\n",
    "plt.xlabel('Fitted Values')\n",
    "plt.ylabel('Residuals')\n",
    "plt.show()"
   ]
  },
  {
   "cell_type": "code",
   "execution_count": null,
   "id": "8ea9d592",
   "metadata": {},
   "outputs": [],
   "source": [
    "# 계수 확인\n",
    "coefficients = pd.DataFrame({'Feature': X.columns, 'Coefficient': model.coef_})\n",
    "print(coefficients)"
   ]
  },
  {
   "cell_type": "code",
   "execution_count": null,
   "id": "b4921713",
   "metadata": {
    "scrolled": false
   },
   "outputs": [],
   "source": [
    "# 피처의 중요도 표시\n",
    "plt.figure(figsize=(12, 6))\n",
    "sns.barplot(x='Coefficient', y='Feature', data=coefficients.sort_values(by='Coefficient', ascending=False))\n",
    "plt.title('Feature Coefficients')\n",
    "plt.show()"
   ]
  },
  {
   "cell_type": "markdown",
   "id": "5116291f",
   "metadata": {},
   "source": [
    "\n",
    "* MAE (Mean Absolute Error) => 절대값\n",
    "* MSE (Mean Squared Error) => 제곱\n",
    "* RMSE (Root Mean Squared Error) => 제곱 => root\n",
    "* RMSLE(Root Mean Squared Logarithmic Error) => 로그를 취하고 RMSE\n",
    "\n",
    "### MAE(Mean Absolute Error)\n",
    "\n",
    "* [Mean absolute error - Wikipedia](https://en.wikipedia.org/wiki/Mean_absolute_error)\n",
    "\n",
    "\n",
    "$MAE = \\frac{1}{n}\\sum_{i=1}^{n}|y_i - \\hat{y}_i|$"
   ]
  },
  {
   "cell_type": "code",
   "execution_count": null,
   "id": "8a0cb9d2",
   "metadata": {},
   "outputs": [],
   "source": []
  },
  {
   "cell_type": "code",
   "execution_count": null,
   "id": "9651922a",
   "metadata": {},
   "outputs": [],
   "source": []
  },
  {
   "cell_type": "markdown",
   "id": "22fdc117",
   "metadata": {},
   "source": [
    "### MSE(Mean Squared Error)\n",
    "\n",
    "$MSE = \\frac{1}{n} \\sum\\limits_{i=1}^{n} (y_i - \\hat{y}_i)^2$"
   ]
  },
  {
   "cell_type": "code",
   "execution_count": null,
   "id": "bfdc6340",
   "metadata": {},
   "outputs": [],
   "source": []
  },
  {
   "cell_type": "code",
   "execution_count": null,
   "id": "82984d96",
   "metadata": {},
   "outputs": [],
   "source": []
  },
  {
   "cell_type": "markdown",
   "id": "b8af4fcb",
   "metadata": {},
   "source": [
    "### RMSE(Root Mean Squared Error)\n",
    "\n",
    "$RMSE = \\sqrt{\\frac{1}{n} \\sum\\limits_{i=1}^{n} (y_i - \\hat{y}_i)^2}$"
   ]
  },
  {
   "cell_type": "code",
   "execution_count": null,
   "id": "144d4c45",
   "metadata": {},
   "outputs": [],
   "source": []
  },
  {
   "cell_type": "markdown",
   "id": "ba96ffad",
   "metadata": {},
   "source": [
    "### RMSLE(Root Mean Squared Logarithmic Error)\n",
    "\n",
    "$RMSLE = \\sqrt{\\frac{1}{n} \\sum\\limits_{i=1}^{n} (\\log(1+y_i) - \\log(1+\\hat{y}_i))^2}$\n"
   ]
  },
  {
   "cell_type": "code",
   "execution_count": null,
   "id": "26b214a4",
   "metadata": {},
   "outputs": [],
   "source": []
  },
  {
   "cell_type": "code",
   "execution_count": null,
   "id": "3e96d42e",
   "metadata": {},
   "outputs": [],
   "source": []
  },
  {
   "cell_type": "code",
   "execution_count": null,
   "id": "b14aeddc",
   "metadata": {},
   "outputs": [],
   "source": []
  },
  {
   "cell_type": "code",
   "execution_count": null,
   "id": "ba9b69a9",
   "metadata": {},
   "outputs": [],
   "source": []
  },
  {
   "cell_type": "code",
   "execution_count": null,
   "id": "f36b57b7",
   "metadata": {},
   "outputs": [],
   "source": []
  }
 ],
 "metadata": {
  "kernelspec": {
   "display_name": "Python 3 (ipykernel)",
   "language": "python",
   "name": "python3"
  },
  "language_info": {
   "codemirror_mode": {
    "name": "ipython",
    "version": 3
   },
   "file_extension": ".py",
   "mimetype": "text/x-python",
   "name": "python",
   "nbconvert_exporter": "python",
   "pygments_lexer": "ipython3",
   "version": "3.11.4"
  },
  "toc": {
   "base_numbering": 1,
   "nav_menu": {},
   "number_sections": true,
   "sideBar": true,
   "skip_h1_title": false,
   "title_cell": "Table of Contents",
   "title_sidebar": "Contents",
   "toc_cell": false,
   "toc_position": {},
   "toc_section_display": true,
   "toc_window_display": false
  },
  "varInspector": {
   "cols": {
    "lenName": 16,
    "lenType": 16,
    "lenVar": 40
   },
   "kernels_config": {
    "python": {
     "delete_cmd_postfix": "",
     "delete_cmd_prefix": "del ",
     "library": "var_list.py",
     "varRefreshCmd": "print(var_dic_list())"
    },
    "r": {
     "delete_cmd_postfix": ") ",
     "delete_cmd_prefix": "rm(",
     "library": "var_list.r",
     "varRefreshCmd": "cat(var_dic_list()) "
    }
   },
   "types_to_exclude": [
    "module",
    "function",
    "builtin_function_or_method",
    "instance",
    "_Feature"
   ],
   "window_display": false
  }
 },
 "nbformat": 4,
 "nbformat_minor": 5
}
