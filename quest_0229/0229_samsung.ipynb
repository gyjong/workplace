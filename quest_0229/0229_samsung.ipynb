{
 "cells": [
  {
   "cell_type": "markdown",
   "metadata": {},
   "source": [
    "# Predicting stockprice of Samsung"
   ]
  },
  {
   "cell_type": "markdown",
   "metadata": {},
   "source": [
    "## 1. Importing libraries"
   ]
  },
  {
   "cell_type": "code",
   "execution_count": 1,
   "metadata": {},
   "outputs": [
    {
     "name": "stdout",
     "output_type": "stream",
     "text": [
      "2.1.4\n",
      "1.3.2\n",
      "0.14.1\n"
     ]
    }
   ],
   "source": [
    "import pandas\n",
    "import sklearn\n",
    "import statsmodels\n",
    "\n",
    "print(pandas.__version__)\n",
    "print(sklearn.__version__)\n",
    "print(statsmodels.__version__)"
   ]
  },
  {
   "cell_type": "code",
   "execution_count": 2,
   "metadata": {},
   "outputs": [],
   "source": [
    "import numpy as np\n",
    "import pandas as pd\n",
    "import matplotlib.pyplot as plt\n",
    "import seaborn as sns\n",
    "import os"
   ]
  },
  {
   "cell_type": "markdown",
   "metadata": {},
   "source": [
    "## 2. Loading dataset"
   ]
  },
  {
   "cell_type": "code",
   "execution_count": 3,
   "metadata": {},
   "outputs": [
    {
     "data": {
      "text/html": [
       "<div>\n",
       "<style scoped>\n",
       "    .dataframe tbody tr th:only-of-type {\n",
       "        vertical-align: middle;\n",
       "    }\n",
       "\n",
       "    .dataframe tbody tr th {\n",
       "        vertical-align: top;\n",
       "    }\n",
       "\n",
       "    .dataframe thead th {\n",
       "        text-align: right;\n",
       "    }\n",
       "</style>\n",
       "<table border=\"1\" class=\"dataframe\">\n",
       "  <thead>\n",
       "    <tr style=\"text-align: right;\">\n",
       "      <th></th>\n",
       "      <th>Date</th>\n",
       "      <th>Open</th>\n",
       "      <th>High</th>\n",
       "      <th>Low</th>\n",
       "      <th>Close</th>\n",
       "      <th>Adj Close</th>\n",
       "      <th>Volume</th>\n",
       "    </tr>\n",
       "  </thead>\n",
       "  <tbody>\n",
       "    <tr>\n",
       "      <th>0</th>\n",
       "      <td>2020-05-18</td>\n",
       "      <td>47950.0</td>\n",
       "      <td>49100.0</td>\n",
       "      <td>47600.0</td>\n",
       "      <td>48800.0</td>\n",
       "      <td>46788.835938</td>\n",
       "      <td>20481981</td>\n",
       "    </tr>\n",
       "    <tr>\n",
       "      <th>1</th>\n",
       "      <td>2020-05-19</td>\n",
       "      <td>50100.0</td>\n",
       "      <td>50500.0</td>\n",
       "      <td>49700.0</td>\n",
       "      <td>50300.0</td>\n",
       "      <td>48227.015625</td>\n",
       "      <td>25168295</td>\n",
       "    </tr>\n",
       "    <tr>\n",
       "      <th>2</th>\n",
       "      <td>2020-05-20</td>\n",
       "      <td>50000.0</td>\n",
       "      <td>50200.0</td>\n",
       "      <td>49800.0</td>\n",
       "      <td>50000.0</td>\n",
       "      <td>47939.382813</td>\n",
       "      <td>14896899</td>\n",
       "    </tr>\n",
       "    <tr>\n",
       "      <th>3</th>\n",
       "      <td>2020-05-21</td>\n",
       "      <td>50300.0</td>\n",
       "      <td>50400.0</td>\n",
       "      <td>49850.0</td>\n",
       "      <td>49950.0</td>\n",
       "      <td>47891.437500</td>\n",
       "      <td>14949266</td>\n",
       "    </tr>\n",
       "    <tr>\n",
       "      <th>4</th>\n",
       "      <td>2020-05-22</td>\n",
       "      <td>49600.0</td>\n",
       "      <td>49800.0</td>\n",
       "      <td>48600.0</td>\n",
       "      <td>48750.0</td>\n",
       "      <td>46740.894531</td>\n",
       "      <td>19706284</td>\n",
       "    </tr>\n",
       "  </tbody>\n",
       "</table>\n",
       "</div>"
      ],
      "text/plain": [
       "         Date     Open     High      Low    Close     Adj Close    Volume\n",
       "0  2020-05-18  47950.0  49100.0  47600.0  48800.0  46788.835938  20481981\n",
       "1  2020-05-19  50100.0  50500.0  49700.0  50300.0  48227.015625  25168295\n",
       "2  2020-05-20  50000.0  50200.0  49800.0  50000.0  47939.382813  14896899\n",
       "3  2020-05-21  50300.0  50400.0  49850.0  49950.0  47891.437500  14949266\n",
       "4  2020-05-22  49600.0  49800.0  48600.0  48750.0  46740.894531  19706284"
      ]
     },
     "execution_count": 3,
     "metadata": {},
     "output_type": "execute_result"
    }
   ],
   "source": [
    "ts = pd.read_csv('005930.KS.csv')\n",
    "ts.head()"
   ]
  },
  {
   "cell_type": "code",
   "execution_count": null,
   "metadata": {},
   "outputs": [],
   "source": [
    "pd.read_csv('005930.KS.csv', index_col = 'Date', parse_dates = True)"
   ]
  }
 ],
 "metadata": {
  "kernelspec": {
   "display_name": "Python 3",
   "language": "python",
   "name": "python3"
  },
  "language_info": {
   "codemirror_mode": {
    "name": "ipython",
    "version": 3
   },
   "file_extension": ".py",
   "mimetype": "text/x-python",
   "name": "python",
   "nbconvert_exporter": "python",
   "pygments_lexer": "ipython3",
   "version": "3.9.6"
  }
 },
 "nbformat": 4,
 "nbformat_minor": 2
}
